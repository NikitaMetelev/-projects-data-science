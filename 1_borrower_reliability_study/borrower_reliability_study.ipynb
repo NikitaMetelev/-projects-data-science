{
 "cells": [
  {
   "cell_type": "markdown",
   "metadata": {
    "id": "BVn2lyoHbKyj"
   },
   "source": [
    "# Исследование надёжности заёмщиков\n",
    "\n",
    "Для кредитного отдела банка на основе статистика о платёжеспособности клиентов необходимо выяснить, как влияют на факт погашения кредита в срок различные данные клиента."
   ]
  },
  {
   "cell_type": "markdown",
   "metadata": {
    "id": "aw5M-6iibKyr"
   },
   "source": [
    "## Общая информация"
   ]
  },
  {
   "cell_type": "code",
   "execution_count": 1,
   "metadata": {
    "id": "xL7g3CQcbKys",
    "outputId": "76e9b332-c52d-49c8-e4f5-791218729c48"
   },
   "outputs": [
    {
     "name": "stdout",
     "output_type": "stream",
     "text": [
      "   children  days_employed  dob_years education  education_id  \\\n",
      "0         1   -8437.673028         42    высшее             0   \n",
      "1         1   -4024.803754         36   среднее             1   \n",
      "2         0   -5623.422610         33   Среднее             1   \n",
      "3         3   -4124.747207         32   среднее             1   \n",
      "4         0  340266.072047         53   среднее             1   \n",
      "\n",
      "      family_status  family_status_id gender income_type  debt   total_income  \\\n",
      "0   женат / замужем                 0      F   сотрудник     0  253875.639453   \n",
      "1   женат / замужем                 0      F   сотрудник     0  112080.014102   \n",
      "2   женат / замужем                 0      M   сотрудник     0  145885.952297   \n",
      "3   женат / замужем                 0      M   сотрудник     0  267628.550329   \n",
      "4  гражданский брак                 1      F   пенсионер     0  158616.077870   \n",
      "\n",
      "                      purpose  \n",
      "0               покупка жилья  \n",
      "1     приобретение автомобиля  \n",
      "2               покупка жилья  \n",
      "3  дополнительное образование  \n",
      "4             сыграть свадьбу  \n",
      "       children  days_employed  dob_years education  education_id  \\\n",
      "21520         1   -4529.316663         43   среднее             1   \n",
      "21521         0  343937.404131         67   среднее             1   \n",
      "21522         1   -2113.346888         38   среднее             1   \n",
      "21523         3   -3112.481705         38   среднее             1   \n",
      "21524         2   -1984.507589         40   среднее             1   \n",
      "\n",
      "          family_status  family_status_id gender income_type  debt  \\\n",
      "21520  гражданский брак                 1      F   компаньон     0   \n",
      "21521   женат / замужем                 0      F   пенсионер     0   \n",
      "21522  гражданский брак                 1      M   сотрудник     1   \n",
      "21523   женат / замужем                 0      M   сотрудник     1   \n",
      "21524   женат / замужем                 0      F   сотрудник     0   \n",
      "\n",
      "        total_income                       purpose  \n",
      "21520  224791.862382             операции с жильем  \n",
      "21521  155999.806512          сделка с автомобилем  \n",
      "21522   89672.561153                  недвижимость  \n",
      "21523  244093.050500  на покупку своего автомобиля  \n",
      "21524   82047.418899         на покупку автомобиля  \n"
     ]
    }
   ],
   "source": [
    "import pandas as pd\n",
    "\n",
    "df = pd.read_csv('/datasets/data.csv')\n",
    "print(df.head())\n",
    "print(df.tail())\n"
   ]
  },
  {
   "cell_type": "code",
   "execution_count": 2,
   "metadata": {
    "id": "ZI0XPknBbKyv",
    "outputId": "de0a1fd9-77d6-4fbb-d527-d39b6ac0ea2a"
   },
   "outputs": [
    {
     "name": "stdout",
     "output_type": "stream",
     "text": [
      "<class 'pandas.core.frame.DataFrame'>\n",
      "RangeIndex: 21525 entries, 0 to 21524\n",
      "Data columns (total 12 columns):\n",
      " #   Column            Non-Null Count  Dtype  \n",
      "---  ------            --------------  -----  \n",
      " 0   children          21525 non-null  int64  \n",
      " 1   days_employed     19351 non-null  float64\n",
      " 2   dob_years         21525 non-null  int64  \n",
      " 3   education         21525 non-null  object \n",
      " 4   education_id      21525 non-null  int64  \n",
      " 5   family_status     21525 non-null  object \n",
      " 6   family_status_id  21525 non-null  int64  \n",
      " 7   gender            21525 non-null  object \n",
      " 8   income_type       21525 non-null  object \n",
      " 9   debt              21525 non-null  int64  \n",
      " 10  total_income      19351 non-null  float64\n",
      " 11  purpose           21525 non-null  object \n",
      "dtypes: float64(2), int64(5), object(5)\n",
      "memory usage: 2.0+ MB\n"
     ]
    }
   ],
   "source": [
    "df.info()"
   ]
  },
  {
   "cell_type": "markdown",
   "metadata": {
    "id": "3uiriZWKbKyw"
   },
   "source": [
    "21525 строк\n",
    "типы данных:float64(2), int64(5), object(5)\n",
    "в 2 строках total_income и days_employed пропуски около 10 %\n",
    "\n",
    "Посмотрим на уникальные значения в каждом столбце:"
   ]
  },
  {
   "cell_type": "code",
   "execution_count": 3,
   "metadata": {
    "id": "WoRDgSw6bKyw",
    "outputId": "861eb430-c7af-41b2-e1cb-7cef8bd97cb4"
   },
   "outputs": [
    {
     "name": "stdout",
     "output_type": "stream",
     "text": [
      " 0     14149\n",
      " 1      4818\n",
      " 2      2055\n",
      " 3       330\n",
      " 20       76\n",
      "-1        47\n",
      " 4        41\n",
      " 5         9\n",
      "Name: children, dtype: int64\n",
      "-327.685916     1\n",
      "-1580.622577    1\n",
      "-4122.460569    1\n",
      "-2828.237691    1\n",
      "-2636.090517    1\n",
      "               ..\n",
      "-7120.517564    1\n",
      "-2146.884040    1\n",
      "-881.454684     1\n",
      "-794.666350     1\n",
      "-3382.113891    1\n",
      "Name: days_employed, Length: 19351, dtype: int64\n",
      "35    617\n",
      "40    609\n",
      "41    607\n",
      "34    603\n",
      "38    598\n",
      "42    597\n",
      "33    581\n",
      "39    573\n",
      "31    560\n",
      "36    555\n",
      "44    547\n",
      "29    545\n",
      "30    540\n",
      "48    538\n",
      "37    537\n",
      "50    514\n",
      "43    513\n",
      "32    510\n",
      "49    508\n",
      "28    503\n",
      "45    497\n",
      "27    493\n",
      "56    487\n",
      "52    484\n",
      "47    480\n",
      "54    479\n",
      "46    475\n",
      "58    461\n",
      "57    460\n",
      "53    459\n",
      "51    448\n",
      "59    444\n",
      "55    443\n",
      "26    408\n",
      "60    377\n",
      "25    357\n",
      "61    355\n",
      "62    352\n",
      "63    269\n",
      "64    265\n",
      "24    264\n",
      "23    254\n",
      "65    194\n",
      "66    183\n",
      "22    183\n",
      "67    167\n",
      "21    111\n",
      "0     101\n",
      "68     99\n",
      "69     85\n",
      "70     65\n",
      "71     58\n",
      "20     51\n",
      "72     33\n",
      "19     14\n",
      "73      8\n",
      "74      6\n",
      "75      1\n",
      "Name: dob_years, dtype: int64\n",
      "среднее                13750\n",
      "высшее                  4718\n",
      "СРЕДНЕЕ                  772\n",
      "Среднее                  711\n",
      "неоконченное высшее      668\n",
      "ВЫСШЕЕ                   274\n",
      "Высшее                   268\n",
      "начальное                250\n",
      "Неоконченное высшее       47\n",
      "НЕОКОНЧЕННОЕ ВЫСШЕЕ       29\n",
      "НАЧАЛЬНОЕ                 17\n",
      "Начальное                 15\n",
      "ученая степень             4\n",
      "УЧЕНАЯ СТЕПЕНЬ             1\n",
      "Ученая степень             1\n",
      "Name: education, dtype: int64\n",
      "1    15233\n",
      "0     5260\n",
      "2      744\n",
      "3      282\n",
      "4        6\n",
      "Name: education_id, dtype: int64\n",
      "женат / замужем          12380\n",
      "гражданский брак          4177\n",
      "Не женат / не замужем     2813\n",
      "в разводе                 1195\n",
      "вдовец / вдова             960\n",
      "Name: family_status, dtype: int64\n",
      "0    12380\n",
      "1     4177\n",
      "4     2813\n",
      "3     1195\n",
      "2      960\n",
      "Name: family_status_id, dtype: int64\n",
      "F      14236\n",
      "M       7288\n",
      "XNA        1\n",
      "Name: gender, dtype: int64\n",
      "сотрудник          11119\n",
      "компаньон           5085\n",
      "пенсионер           3856\n",
      "госслужащий         1459\n",
      "предприниматель        2\n",
      "безработный            2\n",
      "в декрете              1\n",
      "студент                1\n",
      "Name: income_type, dtype: int64\n",
      "0    19784\n",
      "1     1741\n",
      "Name: debt, dtype: int64\n",
      "169846.427535    1\n",
      "257737.077768    1\n",
      "200508.675866    1\n",
      "106196.235958    1\n",
      "248730.171354    1\n",
      "                ..\n",
      "175057.266090    1\n",
      "101516.604975    1\n",
      "239154.168013    1\n",
      "165009.733021    1\n",
      "189255.286637    1\n",
      "Name: total_income, Length: 19351, dtype: int64\n",
      "свадьба                                   797\n",
      "на проведение свадьбы                     777\n",
      "сыграть свадьбу                           774\n",
      "операции с недвижимостью                  676\n",
      "покупка коммерческой недвижимости         664\n",
      "операции с жильем                         653\n",
      "покупка жилья для сдачи                   653\n",
      "операции с коммерческой недвижимостью     651\n",
      "жилье                                     647\n",
      "покупка жилья                             647\n",
      "покупка жилья для семьи                   641\n",
      "строительство собственной недвижимости    635\n",
      "недвижимость                              634\n",
      "операции со своей недвижимостью           630\n",
      "строительство жилой недвижимости          626\n",
      "покупка недвижимости                      624\n",
      "покупка своего жилья                      620\n",
      "строительство недвижимости                620\n",
      "ремонт жилью                              612\n",
      "покупка жилой недвижимости                607\n",
      "на покупку своего автомобиля              505\n",
      "заняться высшим образованием              496\n",
      "автомобиль                                495\n",
      "сделка с подержанным автомобилем          489\n",
      "свой автомобиль                           480\n",
      "на покупку подержанного автомобиля        479\n",
      "автомобили                                478\n",
      "на покупку автомобиля                     472\n",
      "приобретение автомобиля                   462\n",
      "дополнительное образование                462\n",
      "сделка с автомобилем                      455\n",
      "высшее образование                        453\n",
      "образование                               447\n",
      "получение дополнительного образования     447\n",
      "получение образования                     443\n",
      "профильное образование                    436\n",
      "получение высшего образования             426\n",
      "заняться образованием                     412\n",
      "Name: purpose, dtype: int64\n"
     ]
    }
   ],
   "source": [
    "for row in df: \n",
    "      print(df[row].value_counts())"
   ]
  },
  {
   "cell_type": "markdown",
   "metadata": {
    "id": "zz0CjZIGbKyx"
   },
   "source": [
    "переименуем столбец со стажем, чтобы мне было проще ориентироваться в значения потом"
   ]
  },
  {
   "cell_type": "code",
   "execution_count": 4,
   "metadata": {
    "id": "LiCOJsWObKyy",
    "outputId": "e5dc5ab0-16e6-4726-c92c-9a66a176e965"
   },
   "outputs": [
    {
     "data": {
      "text/html": [
       "<div>\n",
       "<style scoped>\n",
       "    .dataframe tbody tr th:only-of-type {\n",
       "        vertical-align: middle;\n",
       "    }\n",
       "\n",
       "    .dataframe tbody tr th {\n",
       "        vertical-align: top;\n",
       "    }\n",
       "\n",
       "    .dataframe thead th {\n",
       "        text-align: right;\n",
       "    }\n",
       "</style>\n",
       "<table border=\"1\" class=\"dataframe\">\n",
       "  <thead>\n",
       "    <tr style=\"text-align: right;\">\n",
       "      <th></th>\n",
       "      <th>children</th>\n",
       "      <th>years_employed</th>\n",
       "      <th>dob_years</th>\n",
       "      <th>education</th>\n",
       "      <th>education_id</th>\n",
       "      <th>family_status</th>\n",
       "      <th>family_status_id</th>\n",
       "      <th>gender</th>\n",
       "      <th>income_type</th>\n",
       "      <th>debt</th>\n",
       "      <th>total_income</th>\n",
       "      <th>purpose</th>\n",
       "    </tr>\n",
       "  </thead>\n",
       "  <tbody>\n",
       "    <tr>\n",
       "      <th>0</th>\n",
       "      <td>1</td>\n",
       "      <td>-8437.673028</td>\n",
       "      <td>42</td>\n",
       "      <td>высшее</td>\n",
       "      <td>0</td>\n",
       "      <td>женат / замужем</td>\n",
       "      <td>0</td>\n",
       "      <td>F</td>\n",
       "      <td>сотрудник</td>\n",
       "      <td>0</td>\n",
       "      <td>253875.639453</td>\n",
       "      <td>покупка жилья</td>\n",
       "    </tr>\n",
       "    <tr>\n",
       "      <th>1</th>\n",
       "      <td>1</td>\n",
       "      <td>-4024.803754</td>\n",
       "      <td>36</td>\n",
       "      <td>среднее</td>\n",
       "      <td>1</td>\n",
       "      <td>женат / замужем</td>\n",
       "      <td>0</td>\n",
       "      <td>F</td>\n",
       "      <td>сотрудник</td>\n",
       "      <td>0</td>\n",
       "      <td>112080.014102</td>\n",
       "      <td>приобретение автомобиля</td>\n",
       "    </tr>\n",
       "    <tr>\n",
       "      <th>2</th>\n",
       "      <td>0</td>\n",
       "      <td>-5623.422610</td>\n",
       "      <td>33</td>\n",
       "      <td>Среднее</td>\n",
       "      <td>1</td>\n",
       "      <td>женат / замужем</td>\n",
       "      <td>0</td>\n",
       "      <td>M</td>\n",
       "      <td>сотрудник</td>\n",
       "      <td>0</td>\n",
       "      <td>145885.952297</td>\n",
       "      <td>покупка жилья</td>\n",
       "    </tr>\n",
       "  </tbody>\n",
       "</table>\n",
       "</div>"
      ],
      "text/plain": [
       "   children  years_employed  dob_years education  education_id  \\\n",
       "0         1    -8437.673028         42    высшее             0   \n",
       "1         1    -4024.803754         36   среднее             1   \n",
       "2         0    -5623.422610         33   Среднее             1   \n",
       "\n",
       "     family_status  family_status_id gender income_type  debt   total_income  \\\n",
       "0  женат / замужем                 0      F   сотрудник     0  253875.639453   \n",
       "1  женат / замужем                 0      F   сотрудник     0  112080.014102   \n",
       "2  женат / замужем                 0      M   сотрудник     0  145885.952297   \n",
       "\n",
       "                   purpose  \n",
       "0            покупка жилья  \n",
       "1  приобретение автомобиля  \n",
       "2            покупка жилья  "
      ]
     },
     "execution_count": 4,
     "metadata": {},
     "output_type": "execute_result"
    }
   ],
   "source": [
    "df.set_axis(['children', 'years_employed', 'dob_years', 'education', 'education_id', 'family_status', 'family_status_id', 'gender', 'income_type', 'debt', 'total_income', 'purpose'], axis = 'columns', inplace = True)\n",
    "df.head(3)"
   ]
  },
  {
   "cell_type": "markdown",
   "metadata": {
    "id": "p-fPTKGybKy1"
   },
   "source": [
    "**Вывод**\n",
    "\n",
    "Всего 21525 строк. Каждая строка таблицы содержит информацию о заемщике.\n",
    "\n"
   ]
  },
  {
   "cell_type": "markdown",
   "metadata": {
    "id": "s9b_phP3bKy1"
   },
   "source": [
    " children — количество детей в семье   - целые числа, значение есть в каждой строке, есть небольшое количество отрицательных значений  \n",
    "days_employed — трудовой стаж в днях  - данных нет примерно в 10% строк, есть отрицательные значения и я значения явно превышающие возможную продолжительнсоть жизни человека  \n",
    "dob_days — возраст клиента в годах    - целые числа, значение есть в каждой строке, 101 значение - 0  \n",
    "education — образование клиента       - значение есть в каждой строке, необходимо будет удалить дубликаты  \n",
    "education_id — идентификатор образования - значение есть в каждой строке  \n",
    "family_status — семейное положение    - значение есть в каждой строке  \n",
    "family_status_id — идентификатор семейного положения - значение есть в каждой строке  \n",
    "gender — пол клиента                  - значение есть в каждой строке  \n",
    "income_type — тип занятости           - значение есть в каждой строке, представлен как object, есть редкие значения  \n",
    "debt — имел ли задолженность по возврату кредитов - значение есть в каждой строке  \n",
    "total_income — доход в месяц          - данных нет примерно в 10% строк, float  \n",
    "purpose — цель получения кредита      - значение есть в каждой строке, много дубликатов  \n",
    "\n",
    "Две проблемы, которые нужно решать: пропуски и отрицательные значения в трудовом стаже. Для проверки рабочих гипотез особенно ценны столбцы children, family_status и family_status_id. Данные из столбца debt позволят узнать влияние семеного положения и наличия детей на факт погашения кредита в срок.\n"
   ]
  },
  {
   "cell_type": "markdown",
   "metadata": {
    "id": "6E79HsIPbKy2"
   },
   "source": [
    "## Предобработка данных"
   ]
  },
  {
   "cell_type": "markdown",
   "metadata": {
    "id": "16n2iFUsbKy3"
   },
   "source": [
    "### Обработка пропусков"
   ]
  },
  {
   "cell_type": "markdown",
   "metadata": {
    "id": "wzKoD6sJbKy3"
   },
   "source": [
    "Попробуем выяснить причину неверных значений в стаже:"
   ]
  },
  {
   "cell_type": "code",
   "execution_count": 5,
   "metadata": {
    "id": "w2H6sQgqbKy4",
    "outputId": "3578864b-b4a6-4c9a-8f58-5c287123ea6b"
   },
   "outputs": [
    {
     "name": "stdout",
     "output_type": "stream",
     "text": [
      "    children  years_employed  dob_years education  education_id  \\\n",
      "12         0             NaN         65   среднее             1   \n",
      "26         0             NaN         41   среднее             1   \n",
      "29         0             NaN         63   среднее             1   \n",
      "41         0             NaN         50   среднее             1   \n",
      "55         0             NaN         54   среднее             1   \n",
      "\n",
      "            family_status  family_status_id gender  income_type  debt  \\\n",
      "12       гражданский брак                 1      M    пенсионер     0   \n",
      "26        женат / замужем                 0      M  госслужащий     0   \n",
      "29  Не женат / не замужем                 4      F    пенсионер     0   \n",
      "41        женат / замужем                 0      F  госслужащий     0   \n",
      "55       гражданский брак                 1      F    пенсионер     1   \n",
      "\n",
      "    total_income                           purpose  \n",
      "12           NaN                   сыграть свадьбу  \n",
      "26           NaN                       образование  \n",
      "29           NaN  строительство жилой недвижимости  \n",
      "41           NaN  сделка с подержанным автомобилем  \n",
      "55           NaN                   сыграть свадьбу  \n",
      "       children  years_employed  dob_years education  education_id  \\\n",
      "21489         2             NaN         47   Среднее             1   \n",
      "21495         1             NaN         50   среднее             1   \n",
      "21497         0             NaN         48    ВЫСШЕЕ             0   \n",
      "21502         1             NaN         42   среднее             1   \n",
      "21510         2             NaN         28   среднее             1   \n",
      "\n",
      "          family_status  family_status_id gender income_type  debt  \\\n",
      "21489   женат / замужем                 0      M   компаньон     0   \n",
      "21495  гражданский брак                 1      F   сотрудник     0   \n",
      "21497   женат / замужем                 0      F   компаньон     0   \n",
      "21502   женат / замужем                 0      F   сотрудник     0   \n",
      "21510   женат / замужем                 0      F   сотрудник     0   \n",
      "\n",
      "       total_income                           purpose  \n",
      "21489           NaN              сделка с автомобилем  \n",
      "21495           NaN                           свадьба  \n",
      "21497           NaN        строительство недвижимости  \n",
      "21502           NaN  строительство жилой недвижимости  \n",
      "21510           NaN           приобретение автомобиля  \n",
      "<class 'pandas.core.frame.DataFrame'>\n",
      "Int64Index: 2174 entries, 12 to 21510\n",
      "Data columns (total 12 columns):\n",
      " #   Column            Non-Null Count  Dtype  \n",
      "---  ------            --------------  -----  \n",
      " 0   children          2174 non-null   int64  \n",
      " 1   years_employed    0 non-null      float64\n",
      " 2   dob_years         2174 non-null   int64  \n",
      " 3   education         2174 non-null   object \n",
      " 4   education_id      2174 non-null   int64  \n",
      " 5   family_status     2174 non-null   object \n",
      " 6   family_status_id  2174 non-null   int64  \n",
      " 7   gender            2174 non-null   object \n",
      " 8   income_type       2174 non-null   object \n",
      " 9   debt              2174 non-null   int64  \n",
      " 10  total_income      0 non-null      float64\n",
      " 11  purpose           2174 non-null   object \n",
      "dtypes: float64(2), int64(5), object(5)\n",
      "memory usage: 220.8+ KB\n"
     ]
    }
   ],
   "source": [
    "df.isnull().sum()  # <суммарное количество пропусков, выявленных методом isnull() в таблице df>\n",
    "bool_series = pd.isnull(df['years_employed'])   # создадим список строк с отсутствующим значением стажа\n",
    "nonemployed = df[bool_series]                  # получим таблицу состоящую из исходной с остутсвующим значением стажа\n",
    "print(nonemployed.head())                      # просмотрим эту таблицу\n",
    "print(nonemployed.tail())\n",
    "nonemployed.info()  \n"
   ]
  },
  {
   "cell_type": "markdown",
   "metadata": {
    "id": "SAQC451XbKy5"
   },
   "source": [
    "Никакой явной причины пропусков не вижу, предположу, что техническая ошибка, либо доход и стаж в этих анкетах не заполнялся а кредит был выдан по какому либо специальномц предложению исходя из данных уже указанных в карточке клиента\n",
    "\n",
    "Изучу подробнее строки со стажем отрицательным и положительным:"
   ]
  },
  {
   "cell_type": "code",
   "execution_count": 6,
   "metadata": {
    "id": "upNC1zS6bKy5",
    "outputId": "4e83591c-f46a-4a6e-8925-23643a348200"
   },
   "outputs": [
    {
     "name": "stdout",
     "output_type": "stream",
     "text": [
      "Empty DataFrame\n",
      "Columns: [children, years_employed, dob_years, education, education_id, family_status, family_status_id, gender, income_type, debt, total_income, purpose]\n",
      "Index: []\n",
      "Empty DataFrame\n",
      "Columns: [children, years_employed, dob_years, education, education_id, family_status, family_status_id, gender, income_type, debt, total_income, purpose]\n",
      "Index: []\n",
      "       children  years_employed  dob_years education  education_id  \\\n",
      "4             0   340266.072047         53   среднее             1   \n",
      "18            0   400281.136913         53   среднее             1   \n",
      "24            1   338551.952911         57   среднее             1   \n",
      "25            0   363548.489348         67   среднее             1   \n",
      "30            1   335581.668515         62   среднее             1   \n",
      "...         ...             ...        ...       ...           ...   \n",
      "21505         0   338904.866406         53   среднее             1   \n",
      "21508         0   386497.714078         62   среднее             1   \n",
      "21509         0   362161.054124         59    высшее             0   \n",
      "21518         0   373995.710838         59   СРЕДНЕЕ             1   \n",
      "21521         0   343937.404131         67   среднее             1   \n",
      "\n",
      "               family_status  family_status_id gender income_type  debt  \\\n",
      "4           гражданский брак                 1      F   пенсионер     0   \n",
      "18            вдовец / вдова                 2      F   пенсионер     0   \n",
      "24     Не женат / не замужем                 4      F   пенсионер     0   \n",
      "25           женат / замужем                 0      M   пенсионер     0   \n",
      "30           женат / замужем                 0      F   пенсионер     0   \n",
      "...                      ...               ...    ...         ...   ...   \n",
      "21505       гражданский брак                 1      M   пенсионер     0   \n",
      "21508        женат / замужем                 0      M   пенсионер     0   \n",
      "21509        женат / замужем                 0      M   пенсионер     0   \n",
      "21518        женат / замужем                 0      F   пенсионер     0   \n",
      "21521        женат / замужем                 0      F   пенсионер     0   \n",
      "\n",
      "        total_income                                purpose  \n",
      "4      158616.077870                        сыграть свадьбу  \n",
      "18      56823.777243     на покупку подержанного автомобиля  \n",
      "24     290547.235997  операции с коммерческой недвижимостью  \n",
      "25      55112.757732                   покупка недвижимости  \n",
      "30     171456.067993  операции с коммерческой недвижимостью  \n",
      "...              ...                                    ...  \n",
      "21505   75439.993167                        сыграть свадьбу  \n",
      "21508   72638.590915                           недвижимость  \n",
      "21509   73029.059379               операции с недвижимостью  \n",
      "21518  153864.650328                   сделка с автомобилем  \n",
      "21521  155999.806512                   сделка с автомобилем  \n",
      "\n",
      "[3445 rows x 12 columns]\n",
      "       children  years_employed  dob_years education  education_id  \\\n",
      "3133          1   337524.466835         31   среднее             1   \n",
      "14798         0   395302.838654         45    Высшее             0   \n",
      "\n",
      "          family_status  family_status_id gender  income_type  debt  \\\n",
      "3133    женат / замужем                 0      M  безработный     1   \n",
      "14798  гражданский брак                 1      F  безработный     0   \n",
      "\n",
      "        total_income                  purpose  \n",
      "3133    59956.991984  покупка жилья для сдачи  \n",
      "14798  202722.511368             ремонт жилью  \n",
      "23.333197318566015\n"
     ]
    }
   ],
   "source": [
    "print(df.loc[df.loc[:,'years_employed'] < -25000])\n",
    "print(df.loc[(df.loc[:,'years_employed'] < 25000) & (df.loc[:,'years_employed'] > 0)])\n",
    "print(df.loc[df.loc[:,'years_employed'] > 25000])\n",
    "print(df.loc[(df.loc[:,'years_employed'] > 25000) & (df.loc[:,'income_type'] != 'пенсионер')]) # мы выяснили что положительный сверх большой стаж у пенсинеров и 2 безработных(которых всего 2)\n",
    "print(400281/(2018-1953-18)/365)\n"
   ]
  },
  {
   "cell_type": "markdown",
   "metadata": {
    "id": "knONpavZbKy6"
   },
   "source": [
    "Мы увидели, что только в cтроках с отсутствием стажа нет дохода\n",
    "Положительный сверх большой стаж у пенсинеров и 2 безработных(которых всего 2)\n",
    "Также я предположил, что сверхбольшой стаж выражен в часах (24 часа в сутках) и увидел, что при этой гипотезе получаются адекватные значения стажа для пожилых людей на пенсии"
   ]
  },
  {
   "cell_type": "code",
   "execution_count": 7,
   "metadata": {
    "id": "kp0ygwQKbKy6",
    "outputId": "4f2b0365-ccf3-41a6-f4b6-28ed0c969316"
   },
   "outputs": [
    {
     "name": "stdout",
     "output_type": "stream",
     "text": [
      "<class 'pandas.core.frame.DataFrame'>\n",
      "RangeIndex: 21525 entries, 0 to 21524\n",
      "Data columns (total 12 columns):\n",
      " #   Column            Non-Null Count  Dtype  \n",
      "---  ------            --------------  -----  \n",
      " 0   children          21525 non-null  int64  \n",
      " 1   years_employed    19351 non-null  float64\n",
      " 2   dob_years         21525 non-null  int64  \n",
      " 3   education         21525 non-null  object \n",
      " 4   education_id      21525 non-null  int64  \n",
      " 5   family_status     21525 non-null  object \n",
      " 6   family_status_id  21525 non-null  int64  \n",
      " 7   gender            21525 non-null  object \n",
      " 8   income_type       21525 non-null  object \n",
      " 9   debt              21525 non-null  int64  \n",
      " 10  total_income      19351 non-null  float64\n",
      " 11  purpose           21525 non-null  object \n",
      "dtypes: float64(2), int64(5), object(5)\n",
      "memory usage: 2.0+ MB\n",
      "       children  years_employed  dob_years education  education_id  \\\n",
      "0             1       23.101090         42    высшее             0   \n",
      "1             1       11.019312         36   среднее             1   \n",
      "2             0       15.396092         33   Среднее             1   \n",
      "3             3       11.292942         32   среднее             1   \n",
      "4             0       38.816572         53   среднее             1   \n",
      "...         ...             ...        ...       ...           ...   \n",
      "21520         1       12.400593         43   среднее             1   \n",
      "21521         0       39.235387         67   среднее             1   \n",
      "21522         1        5.786028         38   среднее             1   \n",
      "21523         3        8.521510         38   среднее             1   \n",
      "21524         2        5.433286         40   среднее             1   \n",
      "\n",
      "          family_status  family_status_id gender income_type  debt  \\\n",
      "0       женат / замужем                 0      F   сотрудник     0   \n",
      "1       женат / замужем                 0      F   сотрудник     0   \n",
      "2       женат / замужем                 0      M   сотрудник     0   \n",
      "3       женат / замужем                 0      M   сотрудник     0   \n",
      "4      гражданский брак                 1      F   пенсионер     0   \n",
      "...                 ...               ...    ...         ...   ...   \n",
      "21520  гражданский брак                 1      F   компаньон     0   \n",
      "21521   женат / замужем                 0      F   пенсионер     0   \n",
      "21522  гражданский брак                 1      M   сотрудник     1   \n",
      "21523   женат / замужем                 0      M   сотрудник     1   \n",
      "21524   женат / замужем                 0      F   сотрудник     0   \n",
      "\n",
      "        total_income                       purpose  \n",
      "0      253875.639453                 покупка жилья  \n",
      "1      112080.014102       приобретение автомобиля  \n",
      "2      145885.952297                 покупка жилья  \n",
      "3      267628.550329    дополнительное образование  \n",
      "4      158616.077870               сыграть свадьбу  \n",
      "...              ...                           ...  \n",
      "21520  224791.862382             операции с жильем  \n",
      "21521  155999.806512          сделка с автомобилем  \n",
      "21522   89672.561153                  недвижимость  \n",
      "21523  244093.050500  на покупку своего автомобиля  \n",
      "21524   82047.418899         на покупку автомобиля  \n",
      "\n",
      "[21525 rows x 12 columns]\n"
     ]
    }
   ],
   "source": [
    "df.loc[df['years_employed'] > 0, 'years_employed'] /= 8766\n",
    "df.loc[df['years_employed'] < 0, 'years_employed'] /= -365.25\n",
    "df.info()\n",
    "print(df)"
   ]
  },
  {
   "cell_type": "code",
   "execution_count": 8,
   "metadata": {
    "id": "sirxGQvkbKy7",
    "outputId": "c442e945-378b-4147-b1f5-8524fbf1ac27"
   },
   "outputs": [
    {
     "data": {
      "text/plain": [
       "12.70812094779098"
      ]
     },
     "execution_count": 8,
     "metadata": {},
     "output_type": "execute_result"
    }
   ],
   "source": [
    "df.groupby('dob_years')['years_employed'].mean()\n",
    "df['years_employed'].mean()"
   ]
  },
  {
   "cell_type": "markdown",
   "metadata": {
    "id": "4W2d6CFbbKy8"
   },
   "source": [
    "Срединй стаж работы у людей с указанным возрастом  совпадает со средним стажем по всей выборке"
   ]
  },
  {
   "cell_type": "code",
   "execution_count": 9,
   "metadata": {
    "id": "epaN2EWVbKy8",
    "outputId": "2ce48000-b05c-402b-cae0-8398993d78dd"
   },
   "outputs": [
    {
     "name": "stdout",
     "output_type": "stream",
     "text": [
      "43.29337979094077\n"
     ]
    }
   ],
   "source": [
    "df.groupby('dob_years')['years_employed'].agg(['median','mean','count'])    \n",
    "print(df['dob_years'].mean())"
   ]
  },
  {
   "cell_type": "code",
   "execution_count": 10,
   "metadata": {
    "id": "Kyg8Oe_cbKy9",
    "outputId": "0f55c443-b7c5-4ab9-861c-6756b79919b2"
   },
   "outputs": [
    {
     "data": {
      "text/plain": [
       "dob_years\n",
       "19     1.734916\n",
       "20     1.875275\n",
       "21     1.942343\n",
       "22     2.356460\n",
       "23     2.265050\n",
       "24     2.810145\n",
       "25     2.979894\n",
       "26     3.499112\n",
       "27     3.965126\n",
       "28     3.907649\n",
       "29     4.254136\n",
       "30     4.643503\n",
       "31     4.593539\n",
       "32     4.967713\n",
       "33     5.254198\n",
       "34     5.648024\n",
       "35     5.837531\n",
       "36     6.439835\n",
       "37     6.328661\n",
       "38     6.835912\n",
       "39     6.867932\n",
       "40     6.881438\n",
       "41     7.045535\n",
       "42     8.218293\n",
       "43     8.331331\n",
       "44     8.372781\n",
       "45     8.483714\n",
       "46     8.904532\n",
       "47     9.157781\n",
       "48     9.365563\n",
       "49    10.636980\n",
       "50    12.814026\n",
       "51    14.341237\n",
       "52    16.119717\n",
       "53    17.161747\n",
       "54    19.605051\n",
       "55    22.906884\n",
       "56    22.893403\n",
       "57    26.380531\n",
       "58    25.683933\n",
       "59    29.811149\n",
       "60    32.788695\n",
       "61    31.585146\n",
       "62    33.300215\n",
       "63    35.769876\n",
       "64    35.097721\n",
       "65    35.117321\n",
       "66    37.282781\n",
       "67    37.427455\n",
       "68    38.618322\n",
       "69    39.342340\n",
       "70    37.864553\n",
       "71    38.646237\n",
       "72    39.684790\n",
       "73    37.088245\n",
       "74    31.201298\n",
       "75     4.596769\n",
       "Name: years_employed, dtype: float64"
      ]
     },
     "execution_count": 10,
     "metadata": {},
     "output_type": "execute_result"
    }
   ],
   "source": [
    "df.loc[df['dob_years'] == 0, 'dob_years'] += 43\n",
    "df.groupby('dob_years')['years_employed'].mean()"
   ]
  },
  {
   "cell_type": "markdown",
   "metadata": {
    "id": "28QS1tjsbKy9"
   },
   "source": [
    "Заменили 0 значения возраста на среднее, сразу проверили, что это не влияет кардинально на распределение стажа по возрастам.\n",
    "При том что значение 0 было лишь в 0,5% строк, этот метод оправдан."
   ]
  },
  {
   "cell_type": "markdown",
   "metadata": {
    "id": "8OS2rk4abKy-"
   },
   "source": [
    "Необходимо заполнить пропуски в стаже исходя из возраста, для этого разобьем всех на несколько возрастных групп:"
   ]
  },
  {
   "cell_type": "code",
   "execution_count": 11,
   "metadata": {
    "id": "K18TL9VHbKy-",
    "outputId": "477c2746-e209-4b91-b2f2-fceb5766014d"
   },
   "outputs": [
    {
     "data": {
      "text/html": [
       "<div>\n",
       "<style scoped>\n",
       "    .dataframe tbody tr th:only-of-type {\n",
       "        vertical-align: middle;\n",
       "    }\n",
       "\n",
       "    .dataframe tbody tr th {\n",
       "        vertical-align: top;\n",
       "    }\n",
       "\n",
       "    .dataframe thead th {\n",
       "        text-align: right;\n",
       "    }\n",
       "</style>\n",
       "<table border=\"1\" class=\"dataframe\">\n",
       "  <thead>\n",
       "    <tr style=\"text-align: right;\">\n",
       "      <th></th>\n",
       "      <th>children</th>\n",
       "      <th>years_employed</th>\n",
       "      <th>dob_years</th>\n",
       "      <th>education</th>\n",
       "      <th>education_id</th>\n",
       "      <th>family_status</th>\n",
       "      <th>family_status_id</th>\n",
       "      <th>gender</th>\n",
       "      <th>income_type</th>\n",
       "      <th>debt</th>\n",
       "      <th>total_income</th>\n",
       "      <th>purpose</th>\n",
       "      <th>age_group</th>\n",
       "    </tr>\n",
       "  </thead>\n",
       "  <tbody>\n",
       "    <tr>\n",
       "      <th>0</th>\n",
       "      <td>1</td>\n",
       "      <td>23.101090</td>\n",
       "      <td>42</td>\n",
       "      <td>высшее</td>\n",
       "      <td>0</td>\n",
       "      <td>женат / замужем</td>\n",
       "      <td>0</td>\n",
       "      <td>F</td>\n",
       "      <td>сотрудник</td>\n",
       "      <td>0</td>\n",
       "      <td>253875.639453</td>\n",
       "      <td>покупка жилья</td>\n",
       "      <td>35-45</td>\n",
       "    </tr>\n",
       "    <tr>\n",
       "      <th>1</th>\n",
       "      <td>1</td>\n",
       "      <td>11.019312</td>\n",
       "      <td>36</td>\n",
       "      <td>среднее</td>\n",
       "      <td>1</td>\n",
       "      <td>женат / замужем</td>\n",
       "      <td>0</td>\n",
       "      <td>F</td>\n",
       "      <td>сотрудник</td>\n",
       "      <td>0</td>\n",
       "      <td>112080.014102</td>\n",
       "      <td>приобретение автомобиля</td>\n",
       "      <td>35-45</td>\n",
       "    </tr>\n",
       "    <tr>\n",
       "      <th>2</th>\n",
       "      <td>0</td>\n",
       "      <td>15.396092</td>\n",
       "      <td>33</td>\n",
       "      <td>Среднее</td>\n",
       "      <td>1</td>\n",
       "      <td>женат / замужем</td>\n",
       "      <td>0</td>\n",
       "      <td>M</td>\n",
       "      <td>сотрудник</td>\n",
       "      <td>0</td>\n",
       "      <td>145885.952297</td>\n",
       "      <td>покупка жилья</td>\n",
       "      <td>до 35</td>\n",
       "    </tr>\n",
       "    <tr>\n",
       "      <th>3</th>\n",
       "      <td>3</td>\n",
       "      <td>11.292942</td>\n",
       "      <td>32</td>\n",
       "      <td>среднее</td>\n",
       "      <td>1</td>\n",
       "      <td>женат / замужем</td>\n",
       "      <td>0</td>\n",
       "      <td>M</td>\n",
       "      <td>сотрудник</td>\n",
       "      <td>0</td>\n",
       "      <td>267628.550329</td>\n",
       "      <td>дополнительное образование</td>\n",
       "      <td>до 35</td>\n",
       "    </tr>\n",
       "    <tr>\n",
       "      <th>4</th>\n",
       "      <td>0</td>\n",
       "      <td>38.816572</td>\n",
       "      <td>53</td>\n",
       "      <td>среднее</td>\n",
       "      <td>1</td>\n",
       "      <td>гражданский брак</td>\n",
       "      <td>1</td>\n",
       "      <td>F</td>\n",
       "      <td>пенсионер</td>\n",
       "      <td>0</td>\n",
       "      <td>158616.077870</td>\n",
       "      <td>сыграть свадьбу</td>\n",
       "      <td>45-55</td>\n",
       "    </tr>\n",
       "  </tbody>\n",
       "</table>\n",
       "</div>"
      ],
      "text/plain": [
       "   children  years_employed  dob_years education  education_id  \\\n",
       "0         1       23.101090         42    высшее             0   \n",
       "1         1       11.019312         36   среднее             1   \n",
       "2         0       15.396092         33   Среднее             1   \n",
       "3         3       11.292942         32   среднее             1   \n",
       "4         0       38.816572         53   среднее             1   \n",
       "\n",
       "      family_status  family_status_id gender income_type  debt   total_income  \\\n",
       "0   женат / замужем                 0      F   сотрудник     0  253875.639453   \n",
       "1   женат / замужем                 0      F   сотрудник     0  112080.014102   \n",
       "2   женат / замужем                 0      M   сотрудник     0  145885.952297   \n",
       "3   женат / замужем                 0      M   сотрудник     0  267628.550329   \n",
       "4  гражданский брак                 1      F   пенсионер     0  158616.077870   \n",
       "\n",
       "                      purpose age_group  \n",
       "0               покупка жилья     35-45  \n",
       "1     приобретение автомобиля     35-45  \n",
       "2               покупка жилья     до 35  \n",
       "3  дополнительное образование     до 35  \n",
       "4             сыграть свадьбу     45-55  "
      ]
     },
     "execution_count": 11,
     "metadata": {},
     "output_type": "execute_result"
    }
   ],
   "source": [
    "def age_group(age):\n",
    "    if age <= 35:\n",
    "        return 'до 35'\n",
    "    elif 35 < age <= 45:\n",
    "        return '35-45'\n",
    "    elif 45 < age <= 55:\n",
    "        return '45-55'\n",
    "    else:\n",
    "        return '55+'\n",
    "    \n",
    "df['age_group'] = df['dob_years'].apply(age_group)\n",
    "df.head()"
   ]
  },
  {
   "cell_type": "code",
   "execution_count": 12,
   "metadata": {
    "id": "Ul3bhsTTbKy-",
    "outputId": "95a80bde-cbc1-4fb9-f46c-c1c485842af5"
   },
   "outputs": [
    {
     "name": "stdout",
     "output_type": "stream",
     "text": [
      "age_group\n",
      "35-45     7.375558\n",
      "45-55    13.924247\n",
      "55+      31.193530\n",
      "до 35     4.320118\n",
      "Name: years_employed, dtype: float64\n"
     ]
    }
   ],
   "source": [
    "mean_stazh = df.groupby('age_group')['years_employed'].mean()\n",
    "print(mean_stazh)"
   ]
  },
  {
   "cell_type": "code",
   "execution_count": 13,
   "metadata": {
    "id": "Euuy5ngMbKy_",
    "outputId": "6258cdb8-0c52-49cc-96f6-d2307e2e4add"
   },
   "outputs": [
    {
     "name": "stdout",
     "output_type": "stream",
     "text": [
      "<class 'pandas.core.frame.DataFrame'>\n",
      "RangeIndex: 21525 entries, 0 to 21524\n",
      "Data columns (total 13 columns):\n",
      " #   Column            Non-Null Count  Dtype  \n",
      "---  ------            --------------  -----  \n",
      " 0   children          21525 non-null  int64  \n",
      " 1   years_employed    21525 non-null  float64\n",
      " 2   dob_years         21525 non-null  int64  \n",
      " 3   education         21525 non-null  object \n",
      " 4   education_id      21525 non-null  int64  \n",
      " 5   family_status     21525 non-null  object \n",
      " 6   family_status_id  21525 non-null  int64  \n",
      " 7   gender            21525 non-null  object \n",
      " 8   income_type       21525 non-null  object \n",
      " 9   debt              21525 non-null  int64  \n",
      " 10  total_income      19351 non-null  float64\n",
      " 11  purpose           21525 non-null  object \n",
      " 12  age_group         21525 non-null  object \n",
      "dtypes: float64(2), int64(5), object(6)\n",
      "memory usage: 2.1+ MB\n"
     ]
    }
   ],
   "source": [
    "df.loc[(df['years_employed'].isnull()) & (df['age_group'] == 'до 35'), 'years_employed'] = mean_stazh[3]\n",
    "df.loc[(df['years_employed'].isnull()) & (df['age_group'] == '35-45'), 'years_employed'] = mean_stazh[0]\n",
    "df.loc[(df['years_employed'].isnull()) & (df['age_group'] == '45-55'), 'years_employed'] = mean_stazh[1]\n",
    "df.loc[(df['years_employed'].isnull()) & (df['age_group'] == '55+'), 'years_employed'] = mean_stazh[2]\n",
    "df.info()\n",
    "\n",
    "\n"
   ]
  },
  {
   "cell_type": "markdown",
   "metadata": {
    "id": "2KJh3G0UbKy_"
   },
   "source": [
    "Мы разбили на 4 произвольные группы по возрасту с примерно одинаковым количеством записей, нашли среднее значение в каждой группе и применили к пустым с трокам. В итоге избавились от пропусков в стаже."
   ]
  },
  {
   "cell_type": "code",
   "execution_count": 14,
   "metadata": {
    "id": "-kNX4cxhbKy_",
    "outputId": "12ae7839-5370-43e8-9a5b-9db6da9ba9ff"
   },
   "outputs": [
    {
     "data": {
      "text/html": [
       "<div>\n",
       "<style scoped>\n",
       "    .dataframe tbody tr th:only-of-type {\n",
       "        vertical-align: middle;\n",
       "    }\n",
       "\n",
       "    .dataframe tbody tr th {\n",
       "        vertical-align: top;\n",
       "    }\n",
       "\n",
       "    .dataframe thead th {\n",
       "        text-align: right;\n",
       "    }\n",
       "</style>\n",
       "<table border=\"1\" class=\"dataframe\">\n",
       "  <thead>\n",
       "    <tr style=\"text-align: right;\">\n",
       "      <th></th>\n",
       "      <th>mean</th>\n",
       "      <th>median</th>\n",
       "      <th>count</th>\n",
       "    </tr>\n",
       "    <tr>\n",
       "      <th>income_type</th>\n",
       "      <th></th>\n",
       "      <th></th>\n",
       "      <th></th>\n",
       "    </tr>\n",
       "  </thead>\n",
       "  <tbody>\n",
       "    <tr>\n",
       "      <th>безработный</th>\n",
       "      <td>131339.751676</td>\n",
       "      <td>131339.751676</td>\n",
       "      <td>2</td>\n",
       "    </tr>\n",
       "    <tr>\n",
       "      <th>в декрете</th>\n",
       "      <td>53829.130729</td>\n",
       "      <td>53829.130729</td>\n",
       "      <td>1</td>\n",
       "    </tr>\n",
       "    <tr>\n",
       "      <th>госслужащий</th>\n",
       "      <td>170898.309923</td>\n",
       "      <td>150447.935283</td>\n",
       "      <td>1312</td>\n",
       "    </tr>\n",
       "    <tr>\n",
       "      <th>компаньон</th>\n",
       "      <td>202417.461462</td>\n",
       "      <td>172357.950966</td>\n",
       "      <td>4577</td>\n",
       "    </tr>\n",
       "    <tr>\n",
       "      <th>пенсионер</th>\n",
       "      <td>137127.465690</td>\n",
       "      <td>118514.486412</td>\n",
       "      <td>3443</td>\n",
       "    </tr>\n",
       "    <tr>\n",
       "      <th>предприниматель</th>\n",
       "      <td>499163.144947</td>\n",
       "      <td>499163.144947</td>\n",
       "      <td>1</td>\n",
       "    </tr>\n",
       "    <tr>\n",
       "      <th>сотрудник</th>\n",
       "      <td>161380.260488</td>\n",
       "      <td>142594.396847</td>\n",
       "      <td>10014</td>\n",
       "    </tr>\n",
       "    <tr>\n",
       "      <th>студент</th>\n",
       "      <td>98201.625314</td>\n",
       "      <td>98201.625314</td>\n",
       "      <td>1</td>\n",
       "    </tr>\n",
       "  </tbody>\n",
       "</table>\n",
       "</div>"
      ],
      "text/plain": [
       "                          mean         median  count\n",
       "income_type                                         \n",
       "безработный      131339.751676  131339.751676      2\n",
       "в декрете         53829.130729   53829.130729      1\n",
       "госслужащий      170898.309923  150447.935283   1312\n",
       "компаньон        202417.461462  172357.950966   4577\n",
       "пенсионер        137127.465690  118514.486412   3443\n",
       "предприниматель  499163.144947  499163.144947      1\n",
       "сотрудник        161380.260488  142594.396847  10014\n",
       "студент           98201.625314   98201.625314      1"
      ]
     },
     "execution_count": 14,
     "metadata": {},
     "output_type": "execute_result"
    }
   ],
   "source": [
    "df.groupby('years_employed')['total_income'].mean()\n",
    "df.groupby('income_type')['total_income'].agg(['mean','median', 'count'])"
   ]
  },
  {
   "cell_type": "markdown",
   "metadata": {
    "id": "TF8lOh8JbKzA"
   },
   "source": [
    "Нам необходимо заполнить пустые строки с данными о доходе, наибольшая корреляция дохода идет с типом дохода. Заполним ячейки медианным доходом по каждому типу дохода."
   ]
  },
  {
   "cell_type": "code",
   "execution_count": 15,
   "metadata": {
    "id": "9E3SgkgJbKzA",
    "outputId": "88ff69bd-78b7-4f70-e1b1-336f1607bec8"
   },
   "outputs": [
    {
     "name": "stdout",
     "output_type": "stream",
     "text": [
      "<class 'pandas.core.frame.DataFrame'>\n",
      "RangeIndex: 21525 entries, 0 to 21524\n",
      "Data columns (total 13 columns):\n",
      " #   Column            Non-Null Count  Dtype  \n",
      "---  ------            --------------  -----  \n",
      " 0   children          21525 non-null  int64  \n",
      " 1   years_employed    21525 non-null  float64\n",
      " 2   dob_years         21525 non-null  int64  \n",
      " 3   education         21525 non-null  object \n",
      " 4   education_id      21525 non-null  int64  \n",
      " 5   family_status     21525 non-null  object \n",
      " 6   family_status_id  21525 non-null  int64  \n",
      " 7   gender            21525 non-null  object \n",
      " 8   income_type       21525 non-null  object \n",
      " 9   debt              21525 non-null  int64  \n",
      " 10  total_income      21525 non-null  float64\n",
      " 11  purpose           21525 non-null  object \n",
      " 12  age_group         21525 non-null  object \n",
      "dtypes: float64(2), int64(5), object(6)\n",
      "memory usage: 2.1+ MB\n"
     ]
    }
   ],
   "source": [
    "df.loc[(df['total_income'].isnull()) & (df['income_type'] == 'безработный'), 'total_income'] = 131339.75\n",
    "df.loc[(df['total_income'].isnull()) & (df['income_type'] == 'в декрете'), 'total_income'] = 53829.13\n",
    "df.loc[(df['total_income'].isnull()) & (df['income_type'] == 'госслужащий'), 'total_income'] = 150447.93\n",
    "df.loc[(df['total_income'].isnull()) & (df['income_type'] == 'компаньон'), 'total_income'] = 172357.95\n",
    "df.loc[(df['total_income'].isnull()) & (df['income_type'] == 'пенсионер'), 'total_income'] = 118514.48\n",
    "df.loc[(df['total_income'].isnull()) & (df['income_type'] == 'предприниматель'), 'total_income'] = \t499163.14\n",
    "df.loc[(df['total_income'].isnull()) & (df['income_type'] == 'сотрудник'), 'total_income'] = 142594.39\n",
    "df.loc[(df['total_income'].isnull()) & (df['income_type'] == 'студент'), 'total_income'] = 98201.62\n",
    "df.info()"
   ]
  },
  {
   "cell_type": "markdown",
   "metadata": {
    "id": "L2wncMipbKzA"
   },
   "source": [
    "Избавились от пропущенных значений в доходах"
   ]
  },
  {
   "cell_type": "code",
   "execution_count": 16,
   "metadata": {
    "id": "xm98NvUZbKzB",
    "outputId": "d910fb65-4e3a-4e88-de0f-f4a76bd677fd"
   },
   "outputs": [
    {
     "data": {
      "text/plain": [
       "array([1., 0., 3., 2., 4., 5.])"
      ]
     },
     "execution_count": 16,
     "metadata": {},
     "output_type": "execute_result"
    }
   ],
   "source": [
    "df.loc[df['children'] == -1, 'children'] /= -1\n",
    "df.loc[df['children'] == 20, 'children'] /= 10\n",
    "\n",
    "df['children'].unique()"
   ]
  },
  {
   "cell_type": "markdown",
   "metadata": {
    "id": "hz8SApfUbKzB"
   },
   "source": [
    "Исправил очевидные ошибки: заменил колиство детей \"-1\" на \"1\" и \"20\" на \"2\", Ошибки связаны с введением данных в систему. Очень смущает большое количество бездетных, что не соответствует среднему показателю по нашей стране и миру."
   ]
  },
  {
   "cell_type": "markdown",
   "metadata": {
    "id": "NP-uIVpubKzB"
   },
   "source": [
    "**Вывод**"
   ]
  },
  {
   "cell_type": "markdown",
   "metadata": {
    "id": "tct8HkljbKzC"
   },
   "source": [
    "Мы исправили данные и заполнили пропуски в столбцах со стажем, доходом,"
   ]
  },
  {
   "cell_type": "markdown",
   "metadata": {
    "id": "iWQGYNShbKzC"
   },
   "source": [
    "### Замена типа данных"
   ]
  },
  {
   "cell_type": "code",
   "execution_count": 17,
   "metadata": {
    "id": "A7JfhmBvbKzC",
    "outputId": "72a5e018-5cc2-442f-f53c-fc72f5eac904"
   },
   "outputs": [
    {
     "name": "stdout",
     "output_type": "stream",
     "text": [
      "<class 'pandas.core.frame.DataFrame'>\n",
      "RangeIndex: 21525 entries, 0 to 21524\n",
      "Data columns (total 13 columns):\n",
      " #   Column            Non-Null Count  Dtype  \n",
      "---  ------            --------------  -----  \n",
      " 0   children          21525 non-null  int64  \n",
      " 1   years_employed    21525 non-null  float64\n",
      " 2   dob_years         21525 non-null  int64  \n",
      " 3   education         21525 non-null  object \n",
      " 4   education_id      21525 non-null  int64  \n",
      " 5   family_status     21525 non-null  object \n",
      " 6   family_status_id  21525 non-null  int64  \n",
      " 7   gender            21525 non-null  object \n",
      " 8   income_type       21525 non-null  object \n",
      " 9   debt              21525 non-null  int64  \n",
      " 10  total_income      21525 non-null  int64  \n",
      " 11  purpose           21525 non-null  object \n",
      " 12  age_group         21525 non-null  object \n",
      "dtypes: float64(1), int64(6), object(6)\n",
      "memory usage: 2.1+ MB\n"
     ]
    }
   ],
   "source": [
    "df['children'] = df['children'].astype('int')\n",
    "df['total_income'] = df['total_income'].astype('int')\n",
    "df.info()"
   ]
  },
  {
   "cell_type": "markdown",
   "metadata": {
    "id": "iGz4kNmbbKzD"
   },
   "source": [
    "**Вывод**"
   ]
  },
  {
   "cell_type": "markdown",
   "metadata": {
    "id": "NxfK66sRbKzD"
   },
   "source": [
    "В процессе преобразований данные в колонке дети поменяли свой тип, изменили обратно, так как количество детей не может быть дробным числом. Также изменили данные в колонке с доходом. Колонку со стажем оставили как есть, так как даже полгода стажа имеют значение, особенно в начале трудового пути."
   ]
  },
  {
   "cell_type": "markdown",
   "metadata": {
    "id": "yJClhzZwbKzE"
   },
   "source": [
    "### Обработка дубликатов"
   ]
  },
  {
   "cell_type": "code",
   "execution_count": 18,
   "metadata": {
    "id": "YAz7zzGVbKzE",
    "outputId": "6ae4b9b1-1b19-4d7b-8cd0-ddd7a0da3f93"
   },
   "outputs": [
    {
     "name": "stdout",
     "output_type": "stream",
     "text": [
      "среднее                15233\n",
      "высшее                  5260\n",
      "неоконченное высшее      744\n",
      "начальное                282\n",
      "ученая степень             6\n",
      "Name: education, dtype: int64\n"
     ]
    }
   ],
   "source": [
    "df.loc[:,'education'] = df.loc[:,'education'].str.lower()\n",
    "print(df['education'].value_counts())"
   ]
  },
  {
   "cell_type": "code",
   "execution_count": 19,
   "metadata": {
    "id": "vBoNtvAGbKzE",
    "outputId": "a164f2ba-7985-43fb-f7ce-5f1306809d59"
   },
   "outputs": [
    {
     "data": {
      "text/plain": [
       "education\n",
       "высшее                 [0]\n",
       "начальное              [3]\n",
       "неоконченное высшее    [2]\n",
       "среднее                [1]\n",
       "ученая степень         [4]\n",
       "Name: education_id, dtype: object"
      ]
     },
     "execution_count": 19,
     "metadata": {},
     "output_type": "execute_result"
    }
   ],
   "source": [
    "df.groupby('education')['education_id'].unique()"
   ]
  },
  {
   "cell_type": "markdown",
   "metadata": {
    "id": "UMHr6RbxbKzE"
   },
   "source": [
    "Теперь колонки 'education' и 'education_id' заполнены верно и однозначно сопоставимы"
   ]
  },
  {
   "cell_type": "code",
   "execution_count": 20,
   "metadata": {
    "id": "hiyXrgJsbKzF",
    "outputId": "d37bfc3b-1e55-4fad-9a97-983704a942be"
   },
   "outputs": [
    {
     "data": {
      "text/plain": [
       "2170"
      ]
     },
     "execution_count": 20,
     "metadata": {},
     "output_type": "execute_result"
    }
   ],
   "source": [
    "df['years_employed'].duplicated().sum()"
   ]
  },
  {
   "cell_type": "code",
   "execution_count": 21,
   "metadata": {
    "id": "923cB3mgbKzF",
    "outputId": "f4f5ca5e-9e82-418c-8933-d0df2a069b11"
   },
   "outputs": [
    {
     "data": {
      "text/plain": [
       "2917"
      ]
     },
     "execution_count": 21,
     "metadata": {},
     "output_type": "execute_result"
    }
   ],
   "source": [
    "df['total_income'].duplicated().sum()"
   ]
  },
  {
   "cell_type": "code",
   "execution_count": 22,
   "metadata": {
    "id": "P_4E6-AWbKzF",
    "outputId": "a9a2fcda-edd9-43a9-a2d8-eb4c83ffe132"
   },
   "outputs": [
    {
     "data": {
      "text/plain": [
       "137"
      ]
     },
     "execution_count": 22,
     "metadata": {},
     "output_type": "execute_result"
    }
   ],
   "source": [
    "df.duplicated(keep = False).sum()"
   ]
  },
  {
   "cell_type": "markdown",
   "metadata": {
    "id": "GcfVSR1GbKzG"
   },
   "source": [
    "Дупликаты в строке 'years_employed' только те, что мы заполнили средними, в строке 'total_income' только те, что мы заполнили средними и образовались в результате отбрасывания десятичных знаков"
   ]
  },
  {
   "cell_type": "markdown",
   "metadata": {
    "id": "YJNKNkbabKzG"
   },
   "source": [
    "**Вывод**"
   ]
  },
  {
   "cell_type": "markdown",
   "metadata": {
    "id": "oEW9_7mZbKzG"
   },
   "source": [
    "В таблице нет дубликатов. Есть вероятность наличия дубликатов среди тех строк, где не были указаны значения стажа и дохода. Но беглый взгляд не может найти этому подтверждения. При этом, даже если все остальные значения  столбцы совпадают, это не будет явно указывать на дубликаты."
   ]
  },
  {
   "cell_type": "markdown",
   "metadata": {
    "id": "JylZakzMbKzG"
   },
   "source": [
    "### Лемматизация"
   ]
  },
  {
   "cell_type": "code",
   "execution_count": 23,
   "metadata": {
    "id": "JzduqFWcbKzH",
    "outputId": "7858c1c7-0be7-4727-afb2-0da6694136e9"
   },
   "outputs": [
    {
     "data": {
      "text/plain": [
       "array(['покупка жилья', 'приобретение автомобиля',\n",
       "       'дополнительное образование', 'сыграть свадьбу',\n",
       "       'операции с жильем', 'образование', 'на проведение свадьбы',\n",
       "       'покупка жилья для семьи', 'покупка недвижимости',\n",
       "       'покупка коммерческой недвижимости', 'покупка жилой недвижимости',\n",
       "       'строительство собственной недвижимости', 'недвижимость',\n",
       "       'строительство недвижимости', 'на покупку подержанного автомобиля',\n",
       "       'на покупку своего автомобиля',\n",
       "       'операции с коммерческой недвижимостью',\n",
       "       'строительство жилой недвижимости', 'жилье',\n",
       "       'операции со своей недвижимостью', 'автомобили',\n",
       "       'заняться образованием', 'сделка с подержанным автомобилем',\n",
       "       'получение образования', 'автомобиль', 'свадьба',\n",
       "       'получение дополнительного образования', 'покупка своего жилья',\n",
       "       'операции с недвижимостью', 'получение высшего образования',\n",
       "       'свой автомобиль', 'сделка с автомобилем',\n",
       "       'профильное образование', 'высшее образование',\n",
       "       'покупка жилья для сдачи', 'на покупку автомобиля', 'ремонт жилью',\n",
       "       'заняться высшим образованием'], dtype=object)"
      ]
     },
     "execution_count": 23,
     "metadata": {},
     "output_type": "execute_result"
    }
   ],
   "source": [
    "from pymystem3 import Mystem\n",
    "m = Mystem()\n",
    "df['purpose'].unique()"
   ]
  },
  {
   "cell_type": "code",
   "execution_count": 24,
   "metadata": {
    "id": "Ce6lmGfzbKzI",
    "outputId": "5fbb1ca4-c697-4ee0-cabd-6825d9c99fdd"
   },
   "outputs": [
    {
     "data": {
      "text/html": [
       "<div>\n",
       "<style scoped>\n",
       "    .dataframe tbody tr th:only-of-type {\n",
       "        vertical-align: middle;\n",
       "    }\n",
       "\n",
       "    .dataframe tbody tr th {\n",
       "        vertical-align: top;\n",
       "    }\n",
       "\n",
       "    .dataframe thead th {\n",
       "        text-align: right;\n",
       "    }\n",
       "</style>\n",
       "<table border=\"1\" class=\"dataframe\">\n",
       "  <thead>\n",
       "    <tr style=\"text-align: right;\">\n",
       "      <th></th>\n",
       "      <th>children</th>\n",
       "      <th>years_employed</th>\n",
       "      <th>dob_years</th>\n",
       "      <th>education</th>\n",
       "      <th>education_id</th>\n",
       "      <th>family_status</th>\n",
       "      <th>family_status_id</th>\n",
       "      <th>gender</th>\n",
       "      <th>income_type</th>\n",
       "      <th>debt</th>\n",
       "      <th>total_income</th>\n",
       "      <th>purpose</th>\n",
       "      <th>age_group</th>\n",
       "      <th>purpose_group</th>\n",
       "    </tr>\n",
       "  </thead>\n",
       "  <tbody>\n",
       "    <tr>\n",
       "      <th>0</th>\n",
       "      <td>1</td>\n",
       "      <td>23.101090</td>\n",
       "      <td>42</td>\n",
       "      <td>высшее</td>\n",
       "      <td>0</td>\n",
       "      <td>женат / замужем</td>\n",
       "      <td>0</td>\n",
       "      <td>F</td>\n",
       "      <td>сотрудник</td>\n",
       "      <td>0</td>\n",
       "      <td>253875</td>\n",
       "      <td>покупка жилья</td>\n",
       "      <td>35-45</td>\n",
       "      <td>недвижимость</td>\n",
       "    </tr>\n",
       "    <tr>\n",
       "      <th>1</th>\n",
       "      <td>1</td>\n",
       "      <td>11.019312</td>\n",
       "      <td>36</td>\n",
       "      <td>среднее</td>\n",
       "      <td>1</td>\n",
       "      <td>женат / замужем</td>\n",
       "      <td>0</td>\n",
       "      <td>F</td>\n",
       "      <td>сотрудник</td>\n",
       "      <td>0</td>\n",
       "      <td>112080</td>\n",
       "      <td>приобретение автомобиля</td>\n",
       "      <td>35-45</td>\n",
       "      <td>автомобиль</td>\n",
       "    </tr>\n",
       "    <tr>\n",
       "      <th>2</th>\n",
       "      <td>0</td>\n",
       "      <td>15.396092</td>\n",
       "      <td>33</td>\n",
       "      <td>среднее</td>\n",
       "      <td>1</td>\n",
       "      <td>женат / замужем</td>\n",
       "      <td>0</td>\n",
       "      <td>M</td>\n",
       "      <td>сотрудник</td>\n",
       "      <td>0</td>\n",
       "      <td>145885</td>\n",
       "      <td>покупка жилья</td>\n",
       "      <td>до 35</td>\n",
       "      <td>недвижимость</td>\n",
       "    </tr>\n",
       "    <tr>\n",
       "      <th>3</th>\n",
       "      <td>3</td>\n",
       "      <td>11.292942</td>\n",
       "      <td>32</td>\n",
       "      <td>среднее</td>\n",
       "      <td>1</td>\n",
       "      <td>женат / замужем</td>\n",
       "      <td>0</td>\n",
       "      <td>M</td>\n",
       "      <td>сотрудник</td>\n",
       "      <td>0</td>\n",
       "      <td>267628</td>\n",
       "      <td>дополнительное образование</td>\n",
       "      <td>до 35</td>\n",
       "      <td>образование</td>\n",
       "    </tr>\n",
       "    <tr>\n",
       "      <th>4</th>\n",
       "      <td>0</td>\n",
       "      <td>38.816572</td>\n",
       "      <td>53</td>\n",
       "      <td>среднее</td>\n",
       "      <td>1</td>\n",
       "      <td>гражданский брак</td>\n",
       "      <td>1</td>\n",
       "      <td>F</td>\n",
       "      <td>пенсионер</td>\n",
       "      <td>0</td>\n",
       "      <td>158616</td>\n",
       "      <td>сыграть свадьбу</td>\n",
       "      <td>45-55</td>\n",
       "      <td>свадьба</td>\n",
       "    </tr>\n",
       "  </tbody>\n",
       "</table>\n",
       "</div>"
      ],
      "text/plain": [
       "   children  years_employed  dob_years education  education_id  \\\n",
       "0         1       23.101090         42    высшее             0   \n",
       "1         1       11.019312         36   среднее             1   \n",
       "2         0       15.396092         33   среднее             1   \n",
       "3         3       11.292942         32   среднее             1   \n",
       "4         0       38.816572         53   среднее             1   \n",
       "\n",
       "      family_status  family_status_id gender income_type  debt  total_income  \\\n",
       "0   женат / замужем                 0      F   сотрудник     0        253875   \n",
       "1   женат / замужем                 0      F   сотрудник     0        112080   \n",
       "2   женат / замужем                 0      M   сотрудник     0        145885   \n",
       "3   женат / замужем                 0      M   сотрудник     0        267628   \n",
       "4  гражданский брак                 1      F   пенсионер     0        158616   \n",
       "\n",
       "                      purpose age_group purpose_group  \n",
       "0               покупка жилья     35-45  недвижимость  \n",
       "1     приобретение автомобиля     35-45    автомобиль  \n",
       "2               покупка жилья     до 35  недвижимость  \n",
       "3  дополнительное образование     до 35   образование  \n",
       "4             сыграть свадьбу     45-55       свадьба  "
      ]
     },
     "execution_count": 24,
     "metadata": {},
     "output_type": "execute_result"
    }
   ],
   "source": [
    "def purpose_group(purpose):\n",
    "    if 'комм' in purpose:\n",
    "        return 'коммерческая недвижимость'\n",
    "    if 'стро' in purpose:\n",
    "        return 'строительство'       \n",
    "    elif 'ремо' in purpose:\n",
    "        return 'ремонт' \n",
    "    elif 'недвиж' in purpose:\n",
    "        return 'недвижимость'    \n",
    "    elif 'жил' in purpose:\n",
    "        return 'недвижимость'\n",
    "    elif 'авт' in purpose:\n",
    "        return 'автомобиль'\n",
    "    elif 'свад' in purpose:\n",
    "        return 'свадьба' \n",
    "    elif 'образ' in purpose:\n",
    "        return 'образование'    \n",
    "    else:\n",
    "        return 'проверь, что упустил'\n",
    "    \n",
    "df['purpose_group'] = df['purpose'].apply(purpose_group)\n",
    "df.head()"
   ]
  },
  {
   "cell_type": "code",
   "execution_count": 25,
   "metadata": {
    "id": "BfnBS8CcbKzJ",
    "outputId": "8077ec37-6570-4f44-b33e-fe68f2e199f6"
   },
   "outputs": [
    {
     "data": {
      "text/plain": [
       "purpose_group\n",
       "автомобиль                   4315\n",
       "коммерческая недвижимость    1315\n",
       "недвижимость                 7032\n",
       "образование                  4022\n",
       "ремонт                        612\n",
       "свадьба                      2348\n",
       "строительство                1881\n",
       "Name: education, dtype: int64"
      ]
     },
     "execution_count": 25,
     "metadata": {},
     "output_type": "execute_result"
    }
   ],
   "source": [
    "\n",
    "df.groupby('purpose_group')['education'].count()"
   ]
  },
  {
   "cell_type": "markdown",
   "metadata": {
    "id": "lxSW5ikMbKzJ"
   },
   "source": [
    "Мы объеденили все цели в 7 категорий."
   ]
  },
  {
   "cell_type": "markdown",
   "metadata": {
    "id": "hJ6TeLuKbKzJ"
   },
   "source": [
    "**Вывод**"
   ]
  },
  {
   "cell_type": "markdown",
   "metadata": {
    "id": "navRBX6qbKzJ"
   },
   "source": [
    "Мы объеденили все цели в 7 категорий."
   ]
  },
  {
   "cell_type": "markdown",
   "metadata": {
    "id": "g9hjgSkpbKzK"
   },
   "source": [
    "### Категоризация данных"
   ]
  },
  {
   "cell_type": "markdown",
   "metadata": {
    "id": "Uhf_NXRJbKzK"
   },
   "source": [
    "В процессе мы уже категоризовали даные по возрасту и целям получениы кредита. Для анализа необходимо сделать категоризацию по стажу и доходу.\n",
    "Взглянем распределение данных"
   ]
  },
  {
   "cell_type": "code",
   "execution_count": 26,
   "metadata": {
    "id": "eVVow37gbKzK",
    "outputId": "50c43003-3e61-444f-b959-6ab608a75a41"
   },
   "outputs": [
    {
     "data": {
      "text/html": [
       "<div>\n",
       "<style scoped>\n",
       "    .dataframe tbody tr th:only-of-type {\n",
       "        vertical-align: middle;\n",
       "    }\n",
       "\n",
       "    .dataframe tbody tr th {\n",
       "        vertical-align: top;\n",
       "    }\n",
       "\n",
       "    .dataframe thead th {\n",
       "        text-align: right;\n",
       "    }\n",
       "</style>\n",
       "<table border=\"1\" class=\"dataframe\">\n",
       "  <thead>\n",
       "    <tr style=\"text-align: right;\">\n",
       "      <th></th>\n",
       "      <th>mean</th>\n",
       "      <th>count</th>\n",
       "    </tr>\n",
       "    <tr>\n",
       "      <th>age_group</th>\n",
       "      <th></th>\n",
       "      <th></th>\n",
       "    </tr>\n",
       "  </thead>\n",
       "  <tbody>\n",
       "    <tr>\n",
       "      <th>35-45</th>\n",
       "      <td>7.375558</td>\n",
       "      <td>5734</td>\n",
       "    </tr>\n",
       "    <tr>\n",
       "      <th>45-55</th>\n",
       "      <td>13.924247</td>\n",
       "      <td>4828</td>\n",
       "    </tr>\n",
       "    <tr>\n",
       "      <th>55+</th>\n",
       "      <td>31.193530</td>\n",
       "      <td>4369</td>\n",
       "    </tr>\n",
       "    <tr>\n",
       "      <th>до 35</th>\n",
       "      <td>4.320118</td>\n",
       "      <td>6594</td>\n",
       "    </tr>\n",
       "  </tbody>\n",
       "</table>\n",
       "</div>"
      ],
      "text/plain": [
       "                mean  count\n",
       "age_group                  \n",
       "35-45       7.375558   5734\n",
       "45-55      13.924247   4828\n",
       "55+        31.193530   4369\n",
       "до 35       4.320118   6594"
      ]
     },
     "execution_count": 26,
     "metadata": {},
     "output_type": "execute_result"
    }
   ],
   "source": [
    "df.groupby('age_group')['years_employed'].agg(['mean', 'count'])"
   ]
  },
  {
   "cell_type": "markdown",
   "metadata": {
    "id": "3BVbFFX7bKzL"
   },
   "source": [
    "Большое количество клиентов до 35 со средним стажем 4,3 года.\n",
    "Можно предположить, что скорость увеличения стабильности работы клиента снижается со стажем, т.е. влияние первых лет стажа существеннее, чем последующих.\n",
    "Для нашей цели решаем разбить на разные по количеству лет категории"
   ]
  },
  {
   "cell_type": "code",
   "execution_count": 27,
   "metadata": {
    "id": "V-qxlnqsbKzL",
    "outputId": "b0e01183-7ad0-4d05-eab2-93f79a707f64"
   },
   "outputs": [
    {
     "data": {
      "text/html": [
       "<div>\n",
       "<style scoped>\n",
       "    .dataframe tbody tr th:only-of-type {\n",
       "        vertical-align: middle;\n",
       "    }\n",
       "\n",
       "    .dataframe tbody tr th {\n",
       "        vertical-align: top;\n",
       "    }\n",
       "\n",
       "    .dataframe thead th {\n",
       "        text-align: right;\n",
       "    }\n",
       "</style>\n",
       "<table border=\"1\" class=\"dataframe\">\n",
       "  <thead>\n",
       "    <tr style=\"text-align: right;\">\n",
       "      <th></th>\n",
       "      <th>children</th>\n",
       "      <th>years_employed</th>\n",
       "      <th>dob_years</th>\n",
       "      <th>education</th>\n",
       "      <th>education_id</th>\n",
       "      <th>family_status</th>\n",
       "      <th>family_status_id</th>\n",
       "      <th>gender</th>\n",
       "      <th>income_type</th>\n",
       "      <th>debt</th>\n",
       "      <th>total_income</th>\n",
       "      <th>purpose</th>\n",
       "      <th>age_group</th>\n",
       "      <th>purpose_group</th>\n",
       "      <th>experience</th>\n",
       "    </tr>\n",
       "  </thead>\n",
       "  <tbody>\n",
       "    <tr>\n",
       "      <th>0</th>\n",
       "      <td>1</td>\n",
       "      <td>23.101090</td>\n",
       "      <td>42</td>\n",
       "      <td>высшее</td>\n",
       "      <td>0</td>\n",
       "      <td>женат / замужем</td>\n",
       "      <td>0</td>\n",
       "      <td>F</td>\n",
       "      <td>сотрудник</td>\n",
       "      <td>0</td>\n",
       "      <td>253875</td>\n",
       "      <td>покупка жилья</td>\n",
       "      <td>35-45</td>\n",
       "      <td>недвижимость</td>\n",
       "      <td>от 12 до 40</td>\n",
       "    </tr>\n",
       "    <tr>\n",
       "      <th>1</th>\n",
       "      <td>1</td>\n",
       "      <td>11.019312</td>\n",
       "      <td>36</td>\n",
       "      <td>среднее</td>\n",
       "      <td>1</td>\n",
       "      <td>женат / замужем</td>\n",
       "      <td>0</td>\n",
       "      <td>F</td>\n",
       "      <td>сотрудник</td>\n",
       "      <td>0</td>\n",
       "      <td>112080</td>\n",
       "      <td>приобретение автомобиля</td>\n",
       "      <td>35-45</td>\n",
       "      <td>автомобиль</td>\n",
       "      <td>от 5 до 12</td>\n",
       "    </tr>\n",
       "    <tr>\n",
       "      <th>2</th>\n",
       "      <td>0</td>\n",
       "      <td>15.396092</td>\n",
       "      <td>33</td>\n",
       "      <td>среднее</td>\n",
       "      <td>1</td>\n",
       "      <td>женат / замужем</td>\n",
       "      <td>0</td>\n",
       "      <td>M</td>\n",
       "      <td>сотрудник</td>\n",
       "      <td>0</td>\n",
       "      <td>145885</td>\n",
       "      <td>покупка жилья</td>\n",
       "      <td>до 35</td>\n",
       "      <td>недвижимость</td>\n",
       "      <td>от 12 до 40</td>\n",
       "    </tr>\n",
       "    <tr>\n",
       "      <th>3</th>\n",
       "      <td>3</td>\n",
       "      <td>11.292942</td>\n",
       "      <td>32</td>\n",
       "      <td>среднее</td>\n",
       "      <td>1</td>\n",
       "      <td>женат / замужем</td>\n",
       "      <td>0</td>\n",
       "      <td>M</td>\n",
       "      <td>сотрудник</td>\n",
       "      <td>0</td>\n",
       "      <td>267628</td>\n",
       "      <td>дополнительное образование</td>\n",
       "      <td>до 35</td>\n",
       "      <td>образование</td>\n",
       "      <td>от 5 до 12</td>\n",
       "    </tr>\n",
       "    <tr>\n",
       "      <th>4</th>\n",
       "      <td>0</td>\n",
       "      <td>38.816572</td>\n",
       "      <td>53</td>\n",
       "      <td>среднее</td>\n",
       "      <td>1</td>\n",
       "      <td>гражданский брак</td>\n",
       "      <td>1</td>\n",
       "      <td>F</td>\n",
       "      <td>пенсионер</td>\n",
       "      <td>0</td>\n",
       "      <td>158616</td>\n",
       "      <td>сыграть свадьбу</td>\n",
       "      <td>45-55</td>\n",
       "      <td>свадьба</td>\n",
       "      <td>от 12 до 40</td>\n",
       "    </tr>\n",
       "  </tbody>\n",
       "</table>\n",
       "</div>"
      ],
      "text/plain": [
       "   children  years_employed  dob_years education  education_id  \\\n",
       "0         1       23.101090         42    высшее             0   \n",
       "1         1       11.019312         36   среднее             1   \n",
       "2         0       15.396092         33   среднее             1   \n",
       "3         3       11.292942         32   среднее             1   \n",
       "4         0       38.816572         53   среднее             1   \n",
       "\n",
       "      family_status  family_status_id gender income_type  debt  total_income  \\\n",
       "0   женат / замужем                 0      F   сотрудник     0        253875   \n",
       "1   женат / замужем                 0      F   сотрудник     0        112080   \n",
       "2   женат / замужем                 0      M   сотрудник     0        145885   \n",
       "3   женат / замужем                 0      M   сотрудник     0        267628   \n",
       "4  гражданский брак                 1      F   пенсионер     0        158616   \n",
       "\n",
       "                      purpose age_group purpose_group   experience  \n",
       "0               покупка жилья     35-45  недвижимость  от 12 до 40  \n",
       "1     приобретение автомобиля     35-45    автомобиль   от 5 до 12  \n",
       "2               покупка жилья     до 35  недвижимость  от 12 до 40  \n",
       "3  дополнительное образование     до 35   образование   от 5 до 12  \n",
       "4             сыграть свадьбу     45-55       свадьба  от 12 до 40  "
      ]
     },
     "execution_count": 27,
     "metadata": {},
     "output_type": "execute_result"
    }
   ],
   "source": [
    "def stazh_group(stazh):\n",
    "    if stazh <= 2:\n",
    "        return 'до 2'   \n",
    "    elif 2 < stazh <= 5:\n",
    "        return 'от 2 до 5'\n",
    "    elif 5 < stazh <= 12:\n",
    "        return 'от 5 до 12'\n",
    "    elif 12 < stazh <= 40:\n",
    "        return 'от 12 до 40'\n",
    "    else:\n",
    "        return 'от 40'\n",
    "   \n",
    "df['experience'] = df['years_employed'].apply(stazh_group)\n",
    "df.head()"
   ]
  },
  {
   "cell_type": "code",
   "execution_count": 28,
   "metadata": {
    "id": "Q3FUBdjMbKzL",
    "outputId": "24fced2a-909b-480b-99be-7a7d9ed7434e"
   },
   "outputs": [
    {
     "data": {
      "text/plain": [
       "experience\n",
       "до 2           3852\n",
       "от 12 до 40    4317\n",
       "от 2 до 5      5432\n",
       "от 40          2406\n",
       "от 5 до 12     5518\n",
       "Name: income_type, dtype: int64"
      ]
     },
     "execution_count": 28,
     "metadata": {},
     "output_type": "execute_result"
    }
   ],
   "source": [
    "df.groupby('experience')['income_type'].count()"
   ]
  },
  {
   "cell_type": "markdown",
   "metadata": {
    "id": "Z_9UFNOubKzM"
   },
   "source": [
    "Попробуем исходя из такой же концепции категоризовать клиентов по доходу"
   ]
  },
  {
   "cell_type": "code",
   "execution_count": 29,
   "metadata": {
    "id": "43jE3qlIbKzM",
    "outputId": "a6805aae-1cca-4f5c-f2e3-0587c3cd128c"
   },
   "outputs": [
    {
     "data": {
      "text/html": [
       "<div>\n",
       "<style scoped>\n",
       "    .dataframe tbody tr th:only-of-type {\n",
       "        vertical-align: middle;\n",
       "    }\n",
       "\n",
       "    .dataframe tbody tr th {\n",
       "        vertical-align: top;\n",
       "    }\n",
       "\n",
       "    .dataframe thead th {\n",
       "        text-align: right;\n",
       "    }\n",
       "</style>\n",
       "<table border=\"1\" class=\"dataframe\">\n",
       "  <thead>\n",
       "    <tr style=\"text-align: right;\">\n",
       "      <th></th>\n",
       "      <th>mean</th>\n",
       "      <th>count</th>\n",
       "    </tr>\n",
       "    <tr>\n",
       "      <th>total_income</th>\n",
       "      <th></th>\n",
       "      <th></th>\n",
       "    </tr>\n",
       "  </thead>\n",
       "  <tbody>\n",
       "    <tr>\n",
       "      <th>20667</th>\n",
       "      <td>40.978674</td>\n",
       "      <td>1</td>\n",
       "    </tr>\n",
       "    <tr>\n",
       "      <th>21205</th>\n",
       "      <td>42.175290</td>\n",
       "      <td>1</td>\n",
       "    </tr>\n",
       "    <tr>\n",
       "      <th>21367</th>\n",
       "      <td>9.973498</td>\n",
       "      <td>1</td>\n",
       "    </tr>\n",
       "    <tr>\n",
       "      <th>21695</th>\n",
       "      <td>41.036517</td>\n",
       "      <td>1</td>\n",
       "    </tr>\n",
       "    <tr>\n",
       "      <th>21895</th>\n",
       "      <td>39.539408</td>\n",
       "      <td>1</td>\n",
       "    </tr>\n",
       "    <tr>\n",
       "      <th>...</th>\n",
       "      <td>...</td>\n",
       "      <td>...</td>\n",
       "    </tr>\n",
       "    <tr>\n",
       "      <th>1711309</th>\n",
       "      <td>15.699184</td>\n",
       "      <td>1</td>\n",
       "    </tr>\n",
       "    <tr>\n",
       "      <th>1715018</th>\n",
       "      <td>12.920667</td>\n",
       "      <td>1</td>\n",
       "    </tr>\n",
       "    <tr>\n",
       "      <th>1726276</th>\n",
       "      <td>14.369759</td>\n",
       "      <td>1</td>\n",
       "    </tr>\n",
       "    <tr>\n",
       "      <th>2200852</th>\n",
       "      <td>7.057261</td>\n",
       "      <td>1</td>\n",
       "    </tr>\n",
       "    <tr>\n",
       "      <th>2265604</th>\n",
       "      <td>4.045005</td>\n",
       "      <td>1</td>\n",
       "    </tr>\n",
       "  </tbody>\n",
       "</table>\n",
       "<p>18608 rows × 2 columns</p>\n",
       "</div>"
      ],
      "text/plain": [
       "                   mean  count\n",
       "total_income                  \n",
       "20667         40.978674      1\n",
       "21205         42.175290      1\n",
       "21367          9.973498      1\n",
       "21695         41.036517      1\n",
       "21895         39.539408      1\n",
       "...                 ...    ...\n",
       "1711309       15.699184      1\n",
       "1715018       12.920667      1\n",
       "1726276       14.369759      1\n",
       "2200852        7.057261      1\n",
       "2265604        4.045005      1\n",
       "\n",
       "[18608 rows x 2 columns]"
      ]
     },
     "execution_count": 29,
     "metadata": {},
     "output_type": "execute_result"
    }
   ],
   "source": [
    "df.groupby('total_income')['years_employed'].agg(['mean', 'count'])"
   ]
  },
  {
   "cell_type": "code",
   "execution_count": 30,
   "metadata": {
    "id": "6D4f76lAbKzM",
    "outputId": "fc45e86d-4063-4a7f-bb8b-db73308eaad6"
   },
   "outputs": [
    {
     "data": {
      "text/html": [
       "<div>\n",
       "<style scoped>\n",
       "    .dataframe tbody tr th:only-of-type {\n",
       "        vertical-align: middle;\n",
       "    }\n",
       "\n",
       "    .dataframe tbody tr th {\n",
       "        vertical-align: top;\n",
       "    }\n",
       "\n",
       "    .dataframe thead th {\n",
       "        text-align: right;\n",
       "    }\n",
       "</style>\n",
       "<table border=\"1\" class=\"dataframe\">\n",
       "  <thead>\n",
       "    <tr style=\"text-align: right;\">\n",
       "      <th></th>\n",
       "      <th>children</th>\n",
       "      <th>years_employed</th>\n",
       "      <th>dob_years</th>\n",
       "      <th>education</th>\n",
       "      <th>education_id</th>\n",
       "      <th>family_status</th>\n",
       "      <th>family_status_id</th>\n",
       "      <th>gender</th>\n",
       "      <th>income_type</th>\n",
       "      <th>debt</th>\n",
       "      <th>total_income</th>\n",
       "      <th>purpose</th>\n",
       "      <th>age_group</th>\n",
       "      <th>purpose_group</th>\n",
       "      <th>experience</th>\n",
       "      <th>income_group</th>\n",
       "    </tr>\n",
       "  </thead>\n",
       "  <tbody>\n",
       "    <tr>\n",
       "      <th>0</th>\n",
       "      <td>1</td>\n",
       "      <td>23.101090</td>\n",
       "      <td>42</td>\n",
       "      <td>высшее</td>\n",
       "      <td>0</td>\n",
       "      <td>женат / замужем</td>\n",
       "      <td>0</td>\n",
       "      <td>F</td>\n",
       "      <td>сотрудник</td>\n",
       "      <td>0</td>\n",
       "      <td>253875</td>\n",
       "      <td>покупка жилья</td>\n",
       "      <td>35-45</td>\n",
       "      <td>недвижимость</td>\n",
       "      <td>от 12 до 40</td>\n",
       "      <td>от 225</td>\n",
       "    </tr>\n",
       "    <tr>\n",
       "      <th>1</th>\n",
       "      <td>1</td>\n",
       "      <td>11.019312</td>\n",
       "      <td>36</td>\n",
       "      <td>среднее</td>\n",
       "      <td>1</td>\n",
       "      <td>женат / замужем</td>\n",
       "      <td>0</td>\n",
       "      <td>F</td>\n",
       "      <td>сотрудник</td>\n",
       "      <td>0</td>\n",
       "      <td>112080</td>\n",
       "      <td>приобретение автомобиля</td>\n",
       "      <td>35-45</td>\n",
       "      <td>автомобиль</td>\n",
       "      <td>от 5 до 12</td>\n",
       "      <td>от 100 до 125</td>\n",
       "    </tr>\n",
       "    <tr>\n",
       "      <th>2</th>\n",
       "      <td>0</td>\n",
       "      <td>15.396092</td>\n",
       "      <td>33</td>\n",
       "      <td>среднее</td>\n",
       "      <td>1</td>\n",
       "      <td>женат / замужем</td>\n",
       "      <td>0</td>\n",
       "      <td>M</td>\n",
       "      <td>сотрудник</td>\n",
       "      <td>0</td>\n",
       "      <td>145885</td>\n",
       "      <td>покупка жилья</td>\n",
       "      <td>до 35</td>\n",
       "      <td>недвижимость</td>\n",
       "      <td>от 12 до 40</td>\n",
       "      <td>от 125 до 150</td>\n",
       "    </tr>\n",
       "    <tr>\n",
       "      <th>3</th>\n",
       "      <td>3</td>\n",
       "      <td>11.292942</td>\n",
       "      <td>32</td>\n",
       "      <td>среднее</td>\n",
       "      <td>1</td>\n",
       "      <td>женат / замужем</td>\n",
       "      <td>0</td>\n",
       "      <td>M</td>\n",
       "      <td>сотрудник</td>\n",
       "      <td>0</td>\n",
       "      <td>267628</td>\n",
       "      <td>дополнительное образование</td>\n",
       "      <td>до 35</td>\n",
       "      <td>образование</td>\n",
       "      <td>от 5 до 12</td>\n",
       "      <td>от 225</td>\n",
       "    </tr>\n",
       "    <tr>\n",
       "      <th>4</th>\n",
       "      <td>0</td>\n",
       "      <td>38.816572</td>\n",
       "      <td>53</td>\n",
       "      <td>среднее</td>\n",
       "      <td>1</td>\n",
       "      <td>гражданский брак</td>\n",
       "      <td>1</td>\n",
       "      <td>F</td>\n",
       "      <td>пенсионер</td>\n",
       "      <td>0</td>\n",
       "      <td>158616</td>\n",
       "      <td>сыграть свадьбу</td>\n",
       "      <td>45-55</td>\n",
       "      <td>свадьба</td>\n",
       "      <td>от 12 до 40</td>\n",
       "      <td>от 150 до 175</td>\n",
       "    </tr>\n",
       "  </tbody>\n",
       "</table>\n",
       "</div>"
      ],
      "text/plain": [
       "   children  years_employed  dob_years education  education_id  \\\n",
       "0         1       23.101090         42    высшее             0   \n",
       "1         1       11.019312         36   среднее             1   \n",
       "2         0       15.396092         33   среднее             1   \n",
       "3         3       11.292942         32   среднее             1   \n",
       "4         0       38.816572         53   среднее             1   \n",
       "\n",
       "      family_status  family_status_id gender income_type  debt  total_income  \\\n",
       "0   женат / замужем                 0      F   сотрудник     0        253875   \n",
       "1   женат / замужем                 0      F   сотрудник     0        112080   \n",
       "2   женат / замужем                 0      M   сотрудник     0        145885   \n",
       "3   женат / замужем                 0      M   сотрудник     0        267628   \n",
       "4  гражданский брак                 1      F   пенсионер     0        158616   \n",
       "\n",
       "                      purpose age_group purpose_group   experience  \\\n",
       "0               покупка жилья     35-45  недвижимость  от 12 до 40   \n",
       "1     приобретение автомобиля     35-45    автомобиль   от 5 до 12   \n",
       "2               покупка жилья     до 35  недвижимость  от 12 до 40   \n",
       "3  дополнительное образование     до 35   образование   от 5 до 12   \n",
       "4             сыграть свадьбу     45-55       свадьба  от 12 до 40   \n",
       "\n",
       "    income_group  \n",
       "0         от 225  \n",
       "1  от 100 до 125  \n",
       "2  от 125 до 150  \n",
       "3         от 225  \n",
       "4  от 150 до 175  "
      ]
     },
     "execution_count": 30,
     "metadata": {},
     "output_type": "execute_result"
    }
   ],
   "source": [
    "def income_group(inc):\n",
    "    if inc <= 75000:\n",
    "        return 'до 75'\n",
    "    elif 75000 < inc <= 100000:\n",
    "        return 'от 75 до 100'    \n",
    "    elif 100000 < inc <= 125000:\n",
    "        return 'от 100 до 125' \n",
    "    elif 125000 < inc <= 150000:\n",
    "        return 'от 125 до 150' \n",
    "    elif 150000 < inc <= 175000:\n",
    "        return 'от 150 до 175' \n",
    "    elif 175000 < inc <= 225000:\n",
    "        return 'от 175 до 225'\n",
    "    else:\n",
    "        return 'от 225'  \n",
    "   \n",
    "df['income_group'] = df['total_income'].apply(income_group)\n",
    "df.head()"
   ]
  },
  {
   "cell_type": "code",
   "execution_count": 31,
   "metadata": {
    "id": "NGQGfKUtbKzN",
    "outputId": "85614592-8715-4475-d084-45430b655138"
   },
   "outputs": [
    {
     "data": {
      "text/plain": [
       "income_group\n",
       "до 75            1865\n",
       "от 100 до 125    3319\n",
       "от 125 до 150    3903\n",
       "от 150 до 175    3062\n",
       "от 175 до 225    3004\n",
       "от 225           3774\n",
       "от 75 до 100     2598\n",
       "Name: income_type, dtype: int64"
      ]
     },
     "execution_count": 31,
     "metadata": {},
     "output_type": "execute_result"
    }
   ],
   "source": [
    "df.groupby('income_group')['income_type'].count()"
   ]
  },
  {
   "cell_type": "markdown",
   "metadata": {
    "id": "ZlL4xU_lbKzN"
   },
   "source": [
    "В итоге пробовал понятные интервалы +-25 т.р чтобы получить сопоставимое предстивительство и можно было сделать понятные запоминающиеся выводы."
   ]
  },
  {
   "cell_type": "markdown",
   "metadata": {
    "id": "fF-csDSxbKzN"
   },
   "source": [
    "## Ответьте на вопросы"
   ]
  },
  {
   "cell_type": "markdown",
   "metadata": {
    "id": "N6wJDyyubKzN"
   },
   "source": [
    "- Есть ли зависимость между наличием детей и возвратом кредита в срок?"
   ]
  },
  {
   "cell_type": "code",
   "execution_count": 32,
   "metadata": {
    "id": "9lY5szHxbKzO",
    "outputId": "f29c7a71-d208-4cc7-8477-4de5b7f3fc09"
   },
   "outputs": [
    {
     "data": {
      "text/html": [
       "<div>\n",
       "<style scoped>\n",
       "    .dataframe tbody tr th:only-of-type {\n",
       "        vertical-align: middle;\n",
       "    }\n",
       "\n",
       "    .dataframe tbody tr th {\n",
       "        vertical-align: top;\n",
       "    }\n",
       "\n",
       "    .dataframe thead th {\n",
       "        text-align: right;\n",
       "    }\n",
       "</style>\n",
       "<table border=\"1\" class=\"dataframe\">\n",
       "  <thead>\n",
       "    <tr style=\"text-align: right;\">\n",
       "      <th></th>\n",
       "      <th>count</th>\n",
       "      <th>sum</th>\n",
       "      <th>mean</th>\n",
       "    </tr>\n",
       "    <tr>\n",
       "      <th>children</th>\n",
       "      <th></th>\n",
       "      <th></th>\n",
       "      <th></th>\n",
       "    </tr>\n",
       "  </thead>\n",
       "  <tbody>\n",
       "    <tr>\n",
       "      <th>0</th>\n",
       "      <td>14149</td>\n",
       "      <td>1063</td>\n",
       "      <td>0.075129</td>\n",
       "    </tr>\n",
       "    <tr>\n",
       "      <th>1</th>\n",
       "      <td>4865</td>\n",
       "      <td>445</td>\n",
       "      <td>0.091470</td>\n",
       "    </tr>\n",
       "    <tr>\n",
       "      <th>2</th>\n",
       "      <td>2131</td>\n",
       "      <td>202</td>\n",
       "      <td>0.094791</td>\n",
       "    </tr>\n",
       "    <tr>\n",
       "      <th>3</th>\n",
       "      <td>330</td>\n",
       "      <td>27</td>\n",
       "      <td>0.081818</td>\n",
       "    </tr>\n",
       "    <tr>\n",
       "      <th>4</th>\n",
       "      <td>41</td>\n",
       "      <td>4</td>\n",
       "      <td>0.097561</td>\n",
       "    </tr>\n",
       "    <tr>\n",
       "      <th>5</th>\n",
       "      <td>9</td>\n",
       "      <td>0</td>\n",
       "      <td>0.000000</td>\n",
       "    </tr>\n",
       "  </tbody>\n",
       "</table>\n",
       "</div>"
      ],
      "text/plain": [
       "          count   sum      mean\n",
       "children                       \n",
       "0         14149  1063  0.075129\n",
       "1          4865   445  0.091470\n",
       "2          2131   202  0.094791\n",
       "3           330    27  0.081818\n",
       "4            41     4  0.097561\n",
       "5             9     0  0.000000"
      ]
     },
     "execution_count": 32,
     "metadata": {},
     "output_type": "execute_result"
    }
   ],
   "source": [
    "df.groupby('children')['debt'].agg(['count','sum','mean'])"
   ]
  },
  {
   "cell_type": "markdown",
   "metadata": {
    "id": "z1jkCFrVbKzO"
   },
   "source": [
    "Из таблицы явно следует вывод, что с появлением детей вероятность просроченной задолженности растет: 7,5% для клиентов без детей, 9,1% для клиентов с 1 ребенком дальше.\n",
    "\n",
    "Попробуем нйти взаимосвязи с другими показателями:"
   ]
  },
  {
   "cell_type": "code",
   "execution_count": 33,
   "metadata": {
    "id": "TEEG8kz8bKzO",
    "outputId": "d7c15eb0-72d2-4acd-e36d-e2ac8244b034"
   },
   "outputs": [
    {
     "data": {
      "text/html": [
       "<div>\n",
       "<style scoped>\n",
       "    .dataframe tbody tr th:only-of-type {\n",
       "        vertical-align: middle;\n",
       "    }\n",
       "\n",
       "    .dataframe tbody tr th {\n",
       "        vertical-align: top;\n",
       "    }\n",
       "\n",
       "    .dataframe thead th {\n",
       "        text-align: right;\n",
       "    }\n",
       "</style>\n",
       "<table border=\"1\" class=\"dataframe\">\n",
       "  <thead>\n",
       "    <tr style=\"text-align: right;\">\n",
       "      <th></th>\n",
       "      <th>count</th>\n",
       "      <th>sum</th>\n",
       "      <th>mean</th>\n",
       "    </tr>\n",
       "    <tr>\n",
       "      <th>children</th>\n",
       "      <th></th>\n",
       "      <th></th>\n",
       "      <th></th>\n",
       "    </tr>\n",
       "  </thead>\n",
       "  <tbody>\n",
       "    <tr>\n",
       "      <th>0</th>\n",
       "      <td>14149</td>\n",
       "      <td>219100.579892</td>\n",
       "      <td>15.485234</td>\n",
       "    </tr>\n",
       "    <tr>\n",
       "      <th>1</th>\n",
       "      <td>4865</td>\n",
       "      <td>39103.716434</td>\n",
       "      <td>8.037763</td>\n",
       "    </tr>\n",
       "    <tr>\n",
       "      <th>2</th>\n",
       "      <td>2131</td>\n",
       "      <td>13527.776284</td>\n",
       "      <td>6.348088</td>\n",
       "    </tr>\n",
       "    <tr>\n",
       "      <th>3</th>\n",
       "      <td>330</td>\n",
       "      <td>2213.660375</td>\n",
       "      <td>6.708062</td>\n",
       "    </tr>\n",
       "    <tr>\n",
       "      <th>4</th>\n",
       "      <td>41</td>\n",
       "      <td>304.625110</td>\n",
       "      <td>7.429881</td>\n",
       "    </tr>\n",
       "    <tr>\n",
       "      <th>5</th>\n",
       "      <td>9</td>\n",
       "      <td>38.748012</td>\n",
       "      <td>4.305335</td>\n",
       "    </tr>\n",
       "  </tbody>\n",
       "</table>\n",
       "</div>"
      ],
      "text/plain": [
       "          count            sum       mean\n",
       "children                                 \n",
       "0         14149  219100.579892  15.485234\n",
       "1          4865   39103.716434   8.037763\n",
       "2          2131   13527.776284   6.348088\n",
       "3           330    2213.660375   6.708062\n",
       "4            41     304.625110   7.429881\n",
       "5             9      38.748012   4.305335"
      ]
     },
     "execution_count": 33,
     "metadata": {},
     "output_type": "execute_result"
    }
   ],
   "source": [
    "df.groupby('children')['years_employed'].agg(['count','sum','mean'])"
   ]
  },
  {
   "cell_type": "markdown",
   "metadata": {
    "id": "MuwNx5rJbKzP"
   },
   "source": [
    "Вижу сильную корреляцию количества детей и стажа. \n",
    "Попробуем исключить влияние стажа и оценить наличие детей незевисимо от этого:"
   ]
  },
  {
   "cell_type": "code",
   "execution_count": 34,
   "metadata": {
    "id": "3DdHIjhjbKzP",
    "outputId": "d1588e6d-5d74-4e30-f74c-f49a0b4e27eb"
   },
   "outputs": [
    {
     "data": {
      "text/html": [
       "<div>\n",
       "<style scoped>\n",
       "    .dataframe tbody tr th:only-of-type {\n",
       "        vertical-align: middle;\n",
       "    }\n",
       "\n",
       "    .dataframe tbody tr th {\n",
       "        vertical-align: top;\n",
       "    }\n",
       "\n",
       "    .dataframe thead tr th {\n",
       "        text-align: left;\n",
       "    }\n",
       "</style>\n",
       "<table border=\"1\" class=\"dataframe\">\n",
       "  <thead>\n",
       "    <tr>\n",
       "      <th></th>\n",
       "      <th>experience</th>\n",
       "      <th colspan=\"6\" halign=\"left\">count</th>\n",
       "      <th colspan=\"6\" halign=\"left\">mean</th>\n",
       "    </tr>\n",
       "    <tr>\n",
       "      <th>children</th>\n",
       "      <th></th>\n",
       "      <th>0</th>\n",
       "      <th>1</th>\n",
       "      <th>2</th>\n",
       "      <th>3</th>\n",
       "      <th>4</th>\n",
       "      <th>5</th>\n",
       "      <th>0</th>\n",
       "      <th>1</th>\n",
       "      <th>2</th>\n",
       "      <th>3</th>\n",
       "      <th>4</th>\n",
       "      <th>5</th>\n",
       "    </tr>\n",
       "  </thead>\n",
       "  <tbody>\n",
       "    <tr>\n",
       "      <th>0</th>\n",
       "      <td>до 2</td>\n",
       "      <td>2290.0</td>\n",
       "      <td>1047.0</td>\n",
       "      <td>441.0</td>\n",
       "      <td>65.0</td>\n",
       "      <td>6.0</td>\n",
       "      <td>3.0</td>\n",
       "      <td>0.105240</td>\n",
       "      <td>0.124164</td>\n",
       "      <td>0.115646</td>\n",
       "      <td>0.107692</td>\n",
       "      <td>0.333333</td>\n",
       "      <td>0.0</td>\n",
       "    </tr>\n",
       "    <tr>\n",
       "      <th>1</th>\n",
       "      <td>от 12 до 40</td>\n",
       "      <td>3315.0</td>\n",
       "      <td>697.0</td>\n",
       "      <td>258.0</td>\n",
       "      <td>42.0</td>\n",
       "      <td>5.0</td>\n",
       "      <td>NaN</td>\n",
       "      <td>0.054299</td>\n",
       "      <td>0.064562</td>\n",
       "      <td>0.050388</td>\n",
       "      <td>0.047619</td>\n",
       "      <td>0.200000</td>\n",
       "      <td>NaN</td>\n",
       "    </tr>\n",
       "    <tr>\n",
       "      <th>2</th>\n",
       "      <td>от 2 до 5</td>\n",
       "      <td>3132.0</td>\n",
       "      <td>1490.0</td>\n",
       "      <td>700.0</td>\n",
       "      <td>96.0</td>\n",
       "      <td>12.0</td>\n",
       "      <td>2.0</td>\n",
       "      <td>0.091954</td>\n",
       "      <td>0.092617</td>\n",
       "      <td>0.112857</td>\n",
       "      <td>0.093750</td>\n",
       "      <td>0.000000</td>\n",
       "      <td>0.0</td>\n",
       "    </tr>\n",
       "    <tr>\n",
       "      <th>3</th>\n",
       "      <td>от 40</td>\n",
       "      <td>2225.0</td>\n",
       "      <td>160.0</td>\n",
       "      <td>17.0</td>\n",
       "      <td>3.0</td>\n",
       "      <td>1.0</td>\n",
       "      <td>NaN</td>\n",
       "      <td>0.052135</td>\n",
       "      <td>0.050000</td>\n",
       "      <td>0.117647</td>\n",
       "      <td>0.333333</td>\n",
       "      <td>0.000000</td>\n",
       "      <td>NaN</td>\n",
       "    </tr>\n",
       "    <tr>\n",
       "      <th>4</th>\n",
       "      <td>от 5 до 12</td>\n",
       "      <td>3187.0</td>\n",
       "      <td>1471.0</td>\n",
       "      <td>715.0</td>\n",
       "      <td>124.0</td>\n",
       "      <td>17.0</td>\n",
       "      <td>4.0</td>\n",
       "      <td>0.074678</td>\n",
       "      <td>0.084296</td>\n",
       "      <td>0.079720</td>\n",
       "      <td>0.064516</td>\n",
       "      <td>0.058824</td>\n",
       "      <td>0.0</td>\n",
       "    </tr>\n",
       "  </tbody>\n",
       "</table>\n",
       "</div>"
      ],
      "text/plain": [
       "           experience   count                                       mean  \\\n",
       "children                    0       1      2      3     4    5         0   \n",
       "0                до 2  2290.0  1047.0  441.0   65.0   6.0  3.0  0.105240   \n",
       "1         от 12 до 40  3315.0   697.0  258.0   42.0   5.0  NaN  0.054299   \n",
       "2           от 2 до 5  3132.0  1490.0  700.0   96.0  12.0  2.0  0.091954   \n",
       "3               от 40  2225.0   160.0   17.0    3.0   1.0  NaN  0.052135   \n",
       "4          от 5 до 12  3187.0  1471.0  715.0  124.0  17.0  4.0  0.074678   \n",
       "\n",
       "                                                       \n",
       "children         1         2         3         4    5  \n",
       "0         0.124164  0.115646  0.107692  0.333333  0.0  \n",
       "1         0.064562  0.050388  0.047619  0.200000  NaN  \n",
       "2         0.092617  0.112857  0.093750  0.000000  0.0  \n",
       "3         0.050000  0.117647  0.333333  0.000000  NaN  \n",
       "4         0.084296  0.079720  0.064516  0.058824  0.0  "
      ]
     },
     "execution_count": 34,
     "metadata": {},
     "output_type": "execute_result"
    }
   ],
   "source": [
    "df.pivot_table(index='experience',columns= 'children',values='debt',aggfunc=['count','mean']).reset_index()"
   ]
  },
  {
   "cell_type": "markdown",
   "metadata": {
    "id": "AxNgv_QTbKzP"
   },
   "source": [
    "Внутри каждой группы клиентов с различным стажем мы также видим увеличение вероятности, что клиент задержит оплату с появлением детей.\n",
    "Для  клиентов со стажем до 40 лет с появление 1 ребенка на обеспечении вероятность просрочки растет\n",
    "Для клиентов со стажем больше 40 лет зависимость обратная\n",
    "Интересно, что при поялении 2 и 3 ребенка вероятность просрочки снижается во всех группах и с 3 им ребенком становится даже ниже и очень близкой к показателям бездетных. (нельзя оценть в группе до 40, т.к. мало значений)\n"
   ]
  },
  {
   "cell_type": "markdown",
   "metadata": {
    "id": "CWJR4kptbKzP"
   },
   "source": [
    "**Вывод**"
   ]
  },
  {
   "cell_type": "markdown",
   "metadata": {
    "id": "qD-JzI4cbKzQ"
   },
   "source": [
    "Зависимость есть, при появлении первого ребенка вероятность возврата кредита падает, при слудующих детей возвратность растет."
   ]
  },
  {
   "cell_type": "markdown",
   "metadata": {
    "id": "F-T3kBf9bKzQ"
   },
   "source": [
    "- Есть ли зависимость между семейным положением и возвратом кредита в срок?"
   ]
  },
  {
   "cell_type": "code",
   "execution_count": 35,
   "metadata": {
    "id": "NOStlRV-bKzQ",
    "outputId": "fd2c9376-a9ee-4496-918a-0efd4a0a6974"
   },
   "outputs": [
    {
     "data": {
      "text/html": [
       "<div>\n",
       "<style scoped>\n",
       "    .dataframe tbody tr th:only-of-type {\n",
       "        vertical-align: middle;\n",
       "    }\n",
       "\n",
       "    .dataframe tbody tr th {\n",
       "        vertical-align: top;\n",
       "    }\n",
       "\n",
       "    .dataframe thead th {\n",
       "        text-align: right;\n",
       "    }\n",
       "</style>\n",
       "<table border=\"1\" class=\"dataframe\">\n",
       "  <thead>\n",
       "    <tr style=\"text-align: right;\">\n",
       "      <th></th>\n",
       "      <th>count</th>\n",
       "      <th>sum</th>\n",
       "      <th>mean</th>\n",
       "    </tr>\n",
       "    <tr>\n",
       "      <th>family_status</th>\n",
       "      <th></th>\n",
       "      <th></th>\n",
       "      <th></th>\n",
       "    </tr>\n",
       "  </thead>\n",
       "  <tbody>\n",
       "    <tr>\n",
       "      <th>Не женат / не замужем</th>\n",
       "      <td>2813</td>\n",
       "      <td>274</td>\n",
       "      <td>0.097405</td>\n",
       "    </tr>\n",
       "    <tr>\n",
       "      <th>в разводе</th>\n",
       "      <td>1195</td>\n",
       "      <td>85</td>\n",
       "      <td>0.071130</td>\n",
       "    </tr>\n",
       "    <tr>\n",
       "      <th>вдовец / вдова</th>\n",
       "      <td>960</td>\n",
       "      <td>63</td>\n",
       "      <td>0.065625</td>\n",
       "    </tr>\n",
       "    <tr>\n",
       "      <th>гражданский брак</th>\n",
       "      <td>4177</td>\n",
       "      <td>388</td>\n",
       "      <td>0.092890</td>\n",
       "    </tr>\n",
       "    <tr>\n",
       "      <th>женат / замужем</th>\n",
       "      <td>12380</td>\n",
       "      <td>931</td>\n",
       "      <td>0.075202</td>\n",
       "    </tr>\n",
       "  </tbody>\n",
       "</table>\n",
       "</div>"
      ],
      "text/plain": [
       "                       count  sum      mean\n",
       "family_status                              \n",
       "Не женат / не замужем   2813  274  0.097405\n",
       "в разводе               1195   85  0.071130\n",
       "вдовец / вдова           960   63  0.065625\n",
       "гражданский брак        4177  388  0.092890\n",
       "женат / замужем        12380  931  0.075202"
      ]
     },
     "execution_count": 35,
     "metadata": {},
     "output_type": "execute_result"
    }
   ],
   "source": [
    "df.groupby('family_status')['debt'].agg(['count','sum','mean'])"
   ]
  },
  {
   "cell_type": "markdown",
   "metadata": {
    "id": "WQDVS1BibKzQ"
   },
   "source": [
    "Вероятность задолженности сильно выше у тех, кто никогда не был в браке:\n",
    "Для тех кто никогда не был в браке 9,3% - 9,7%, для прочих 6,6% - 7,5%\n",
    "Возможно на это влияют другие факторы, например стаж, который очень сильно влияет на возвратность, явно будет больше у вдовцов. Проверим распределиение стажа:\n"
   ]
  },
  {
   "cell_type": "code",
   "execution_count": 36,
   "metadata": {
    "id": "5WaVPUOobKzR",
    "outputId": "bc0202b5-53b1-406a-8828-4021a9d1406a"
   },
   "outputs": [
    {
     "data": {
      "text/html": [
       "<div>\n",
       "<style scoped>\n",
       "    .dataframe tbody tr th:only-of-type {\n",
       "        vertical-align: middle;\n",
       "    }\n",
       "\n",
       "    .dataframe tbody tr th {\n",
       "        vertical-align: top;\n",
       "    }\n",
       "\n",
       "    .dataframe thead th {\n",
       "        text-align: right;\n",
       "    }\n",
       "</style>\n",
       "<table border=\"1\" class=\"dataframe\">\n",
       "  <thead>\n",
       "    <tr style=\"text-align: right;\">\n",
       "      <th></th>\n",
       "      <th>count</th>\n",
       "      <th>sum</th>\n",
       "      <th>mean</th>\n",
       "    </tr>\n",
       "    <tr>\n",
       "      <th>family_status</th>\n",
       "      <th></th>\n",
       "      <th></th>\n",
       "      <th></th>\n",
       "    </tr>\n",
       "  </thead>\n",
       "  <tbody>\n",
       "    <tr>\n",
       "      <th>Не женат / не замужем</th>\n",
       "      <td>2813</td>\n",
       "      <td>27315.913579</td>\n",
       "      <td>9.710598</td>\n",
       "    </tr>\n",
       "    <tr>\n",
       "      <th>в разводе</th>\n",
       "      <td>1195</td>\n",
       "      <td>15748.402013</td>\n",
       "      <td>13.178579</td>\n",
       "    </tr>\n",
       "    <tr>\n",
       "      <th>вдовец / вдова</th>\n",
       "      <td>960</td>\n",
       "      <td>25706.884108</td>\n",
       "      <td>26.778004</td>\n",
       "    </tr>\n",
       "    <tr>\n",
       "      <th>гражданский брак</th>\n",
       "      <td>4177</td>\n",
       "      <td>48999.678128</td>\n",
       "      <td>11.730830</td>\n",
       "    </tr>\n",
       "    <tr>\n",
       "      <th>женат / замужем</th>\n",
       "      <td>12380</td>\n",
       "      <td>156518.228279</td>\n",
       "      <td>12.642829</td>\n",
       "    </tr>\n",
       "  </tbody>\n",
       "</table>\n",
       "</div>"
      ],
      "text/plain": [
       "                       count            sum       mean\n",
       "family_status                                         \n",
       "Не женат / не замужем   2813   27315.913579   9.710598\n",
       "в разводе               1195   15748.402013  13.178579\n",
       "вдовец / вдова           960   25706.884108  26.778004\n",
       "гражданский брак        4177   48999.678128  11.730830\n",
       "женат / замужем        12380  156518.228279  12.642829"
      ]
     },
     "execution_count": 36,
     "metadata": {},
     "output_type": "execute_result"
    }
   ],
   "source": [
    "df.groupby('family_status')['years_employed'].agg(['count','sum','mean'])"
   ]
  },
  {
   "cell_type": "markdown",
   "metadata": {
    "id": "Mo36SyiVbKzR"
   },
   "source": [
    "На самом деле, средний стаж вдовцов очень большой, а самый небольшой стаж у неженатых\n",
    "Посмотрим внимательнее:"
   ]
  },
  {
   "cell_type": "code",
   "execution_count": 37,
   "metadata": {
    "id": "a3CXN_DzbKzR",
    "outputId": "26a1289b-b4bb-41aa-a110-db2ce60c5e9c",
    "scrolled": true
   },
   "outputs": [
    {
     "data": {
      "text/html": [
       "<div>\n",
       "<style scoped>\n",
       "    .dataframe tbody tr th:only-of-type {\n",
       "        vertical-align: middle;\n",
       "    }\n",
       "\n",
       "    .dataframe tbody tr th {\n",
       "        vertical-align: top;\n",
       "    }\n",
       "\n",
       "    .dataframe thead tr th {\n",
       "        text-align: left;\n",
       "    }\n",
       "</style>\n",
       "<table border=\"1\" class=\"dataframe\">\n",
       "  <thead>\n",
       "    <tr>\n",
       "      <th></th>\n",
       "      <th>experience</th>\n",
       "      <th colspan=\"5\" halign=\"left\">count</th>\n",
       "      <th colspan=\"5\" halign=\"left\">mean</th>\n",
       "    </tr>\n",
       "    <tr>\n",
       "      <th>family_status</th>\n",
       "      <th></th>\n",
       "      <th>Не женат / не замужем</th>\n",
       "      <th>в разводе</th>\n",
       "      <th>вдовец / вдова</th>\n",
       "      <th>гражданский брак</th>\n",
       "      <th>женат / замужем</th>\n",
       "      <th>Не женат / не замужем</th>\n",
       "      <th>в разводе</th>\n",
       "      <th>вдовец / вдова</th>\n",
       "      <th>гражданский брак</th>\n",
       "      <th>женат / замужем</th>\n",
       "    </tr>\n",
       "  </thead>\n",
       "  <tbody>\n",
       "    <tr>\n",
       "      <th>0</th>\n",
       "      <td>до 2</td>\n",
       "      <td>715</td>\n",
       "      <td>237</td>\n",
       "      <td>79</td>\n",
       "      <td>811</td>\n",
       "      <td>2010</td>\n",
       "      <td>0.132867</td>\n",
       "      <td>0.109705</td>\n",
       "      <td>0.075949</td>\n",
       "      <td>0.130703</td>\n",
       "      <td>0.098507</td>\n",
       "    </tr>\n",
       "    <tr>\n",
       "      <th>1</th>\n",
       "      <td>от 12 до 40</td>\n",
       "      <td>372</td>\n",
       "      <td>258</td>\n",
       "      <td>318</td>\n",
       "      <td>763</td>\n",
       "      <td>2606</td>\n",
       "      <td>0.056452</td>\n",
       "      <td>0.065891</td>\n",
       "      <td>0.066038</td>\n",
       "      <td>0.070773</td>\n",
       "      <td>0.049117</td>\n",
       "    </tr>\n",
       "    <tr>\n",
       "      <th>2</th>\n",
       "      <td>от 2 до 5</td>\n",
       "      <td>862</td>\n",
       "      <td>247</td>\n",
       "      <td>81</td>\n",
       "      <td>1127</td>\n",
       "      <td>3115</td>\n",
       "      <td>0.100928</td>\n",
       "      <td>0.072874</td>\n",
       "      <td>0.086420</td>\n",
       "      <td>0.101154</td>\n",
       "      <td>0.092456</td>\n",
       "    </tr>\n",
       "    <tr>\n",
       "      <th>3</th>\n",
       "      <td>от 40</td>\n",
       "      <td>226</td>\n",
       "      <td>140</td>\n",
       "      <td>345</td>\n",
       "      <td>414</td>\n",
       "      <td>1281</td>\n",
       "      <td>0.035398</td>\n",
       "      <td>0.064286</td>\n",
       "      <td>0.057971</td>\n",
       "      <td>0.048309</td>\n",
       "      <td>0.054645</td>\n",
       "    </tr>\n",
       "    <tr>\n",
       "      <th>4</th>\n",
       "      <td>от 5 до 12</td>\n",
       "      <td>638</td>\n",
       "      <td>313</td>\n",
       "      <td>137</td>\n",
       "      <td>1062</td>\n",
       "      <td>3368</td>\n",
       "      <td>0.098746</td>\n",
       "      <td>0.047923</td>\n",
       "      <td>0.065693</td>\n",
       "      <td>0.088512</td>\n",
       "      <td>0.073337</td>\n",
       "    </tr>\n",
       "  </tbody>\n",
       "</table>\n",
       "</div>"
      ],
      "text/plain": [
       "                experience                 count                           \\\n",
       "family_status              Не женат / не замужем в разводе вдовец / вдова   \n",
       "0                     до 2                   715       237             79   \n",
       "1              от 12 до 40                   372       258            318   \n",
       "2                от 2 до 5                   862       247             81   \n",
       "3                    от 40                   226       140            345   \n",
       "4               от 5 до 12                   638       313            137   \n",
       "\n",
       "                                                                mean  \\\n",
       "family_status гражданский брак женат / замужем Не женат / не замужем   \n",
       "0                          811            2010              0.132867   \n",
       "1                          763            2606              0.056452   \n",
       "2                         1127            3115              0.100928   \n",
       "3                          414            1281              0.035398   \n",
       "4                         1062            3368              0.098746   \n",
       "\n",
       "                                                                         \n",
       "family_status в разводе вдовец / вдова гражданский брак женат / замужем  \n",
       "0              0.109705       0.075949         0.130703        0.098507  \n",
       "1              0.065891       0.066038         0.070773        0.049117  \n",
       "2              0.072874       0.086420         0.101154        0.092456  \n",
       "3              0.064286       0.057971         0.048309        0.054645  \n",
       "4              0.047923       0.065693         0.088512        0.073337  "
      ]
     },
     "execution_count": 37,
     "metadata": {},
     "output_type": "execute_result"
    }
   ],
   "source": [
    "df.pivot_table(index='experience',columns= 'family_status',values='debt',aggfunc=['count','mean']).reset_index()"
   ]
  },
  {
   "cell_type": "markdown",
   "metadata": {
    "id": "gMoqmSl4bKzS"
   },
   "source": [
    "**Вывод**"
   ]
  },
  {
   "cell_type": "markdown",
   "metadata": {
    "id": "7HvX9SdNbKzS"
   },
   "source": [
    "Вероятность задолженности сильно выше у тех, кто никогда не был в браке:\n",
    "\n",
    "Брак сейчас или в прошлом видимо делает людей более ответственными\n",
    "\n",
    "Логика ломается для тех, у кого стаж выше 40 лет"
   ]
  },
  {
   "cell_type": "markdown",
   "metadata": {
    "id": "5Dp0FqlNbKzS"
   },
   "source": [
    "- Есть ли зависимость между уровнем дохода и возвратом кредита в срок?"
   ]
  },
  {
   "cell_type": "code",
   "execution_count": 38,
   "metadata": {
    "id": "Dlla5gWYbKzS",
    "outputId": "f7251a8e-ca1d-4b1e-f376-729f76f19c79"
   },
   "outputs": [
    {
     "data": {
      "text/html": [
       "<div>\n",
       "<style scoped>\n",
       "    .dataframe tbody tr th:only-of-type {\n",
       "        vertical-align: middle;\n",
       "    }\n",
       "\n",
       "    .dataframe tbody tr th {\n",
       "        vertical-align: top;\n",
       "    }\n",
       "\n",
       "    .dataframe thead th {\n",
       "        text-align: right;\n",
       "    }\n",
       "</style>\n",
       "<table border=\"1\" class=\"dataframe\">\n",
       "  <thead>\n",
       "    <tr style=\"text-align: right;\">\n",
       "      <th></th>\n",
       "      <th>count</th>\n",
       "      <th>sum</th>\n",
       "      <th>mean</th>\n",
       "    </tr>\n",
       "    <tr>\n",
       "      <th>income_group</th>\n",
       "      <th></th>\n",
       "      <th></th>\n",
       "      <th></th>\n",
       "    </tr>\n",
       "  </thead>\n",
       "  <tbody>\n",
       "    <tr>\n",
       "      <th>до 75</th>\n",
       "      <td>1865</td>\n",
       "      <td>136</td>\n",
       "      <td>0.072922</td>\n",
       "    </tr>\n",
       "    <tr>\n",
       "      <th>от 100 до 125</th>\n",
       "      <td>3319</td>\n",
       "      <td>289</td>\n",
       "      <td>0.087074</td>\n",
       "    </tr>\n",
       "    <tr>\n",
       "      <th>от 125 до 150</th>\n",
       "      <td>3903</td>\n",
       "      <td>335</td>\n",
       "      <td>0.085831</td>\n",
       "    </tr>\n",
       "    <tr>\n",
       "      <th>от 150 до 175</th>\n",
       "      <td>3062</td>\n",
       "      <td>255</td>\n",
       "      <td>0.083279</td>\n",
       "    </tr>\n",
       "    <tr>\n",
       "      <th>от 175 до 225</th>\n",
       "      <td>3004</td>\n",
       "      <td>241</td>\n",
       "      <td>0.080226</td>\n",
       "    </tr>\n",
       "    <tr>\n",
       "      <th>от 225</th>\n",
       "      <td>3774</td>\n",
       "      <td>267</td>\n",
       "      <td>0.070747</td>\n",
       "    </tr>\n",
       "    <tr>\n",
       "      <th>от 75 до 100</th>\n",
       "      <td>2598</td>\n",
       "      <td>218</td>\n",
       "      <td>0.083911</td>\n",
       "    </tr>\n",
       "  </tbody>\n",
       "</table>\n",
       "</div>"
      ],
      "text/plain": [
       "               count  sum      mean\n",
       "income_group                       \n",
       "до 75           1865  136  0.072922\n",
       "от 100 до 125   3319  289  0.087074\n",
       "от 125 до 150   3903  335  0.085831\n",
       "от 150 до 175   3062  255  0.083279\n",
       "от 175 до 225   3004  241  0.080226\n",
       "от 225          3774  267  0.070747\n",
       "от 75 до 100    2598  218  0.083911"
      ]
     },
     "execution_count": 38,
     "metadata": {},
     "output_type": "execute_result"
    }
   ],
   "source": [
    "df.groupby('income_group')['debt'].agg(['count','sum','mean'])"
   ]
  },
  {
   "cell_type": "markdown",
   "metadata": {
    "id": "Jn6t42INbKzT"
   },
   "source": [
    "**Вывод**"
   ]
  },
  {
   "cell_type": "markdown",
   "metadata": {
    "id": "6KVWo7G_bKzT"
   },
   "source": [
    "Уровень дохода влияет на возврат задолженности вовремя не сильно, можно заметить, что клиенты в группе с наименьшим и наибольшим доходом чуть более стабильно возвращают кредиты в срок, возможно это связано с большей необходимостью планировать бюджет для первых и помощью персональных помощников для вторых."
   ]
  },
  {
   "cell_type": "markdown",
   "metadata": {
    "id": "L2y4VApXbKzT"
   },
   "source": [
    "- Как разные цели кредита влияют на его возврат в срок?"
   ]
  },
  {
   "cell_type": "code",
   "execution_count": 39,
   "metadata": {
    "id": "gEl-8S-ObKzU",
    "outputId": "ed512318-bb4e-467f-ed3f-3564c21f67a3"
   },
   "outputs": [
    {
     "data": {
      "text/html": [
       "<div>\n",
       "<style scoped>\n",
       "    .dataframe tbody tr th:only-of-type {\n",
       "        vertical-align: middle;\n",
       "    }\n",
       "\n",
       "    .dataframe tbody tr th {\n",
       "        vertical-align: top;\n",
       "    }\n",
       "\n",
       "    .dataframe thead th {\n",
       "        text-align: right;\n",
       "    }\n",
       "</style>\n",
       "<table border=\"1\" class=\"dataframe\">\n",
       "  <thead>\n",
       "    <tr style=\"text-align: right;\">\n",
       "      <th></th>\n",
       "      <th>count</th>\n",
       "      <th>sum</th>\n",
       "      <th>mean</th>\n",
       "    </tr>\n",
       "    <tr>\n",
       "      <th>purpose_group</th>\n",
       "      <th></th>\n",
       "      <th></th>\n",
       "      <th></th>\n",
       "    </tr>\n",
       "  </thead>\n",
       "  <tbody>\n",
       "    <tr>\n",
       "      <th>автомобиль</th>\n",
       "      <td>4315</td>\n",
       "      <td>403</td>\n",
       "      <td>0.093395</td>\n",
       "    </tr>\n",
       "    <tr>\n",
       "      <th>коммерческая недвижимость</th>\n",
       "      <td>1315</td>\n",
       "      <td>99</td>\n",
       "      <td>0.075285</td>\n",
       "    </tr>\n",
       "    <tr>\n",
       "      <th>недвижимость</th>\n",
       "      <td>7032</td>\n",
       "      <td>504</td>\n",
       "      <td>0.071672</td>\n",
       "    </tr>\n",
       "    <tr>\n",
       "      <th>образование</th>\n",
       "      <td>4022</td>\n",
       "      <td>370</td>\n",
       "      <td>0.091994</td>\n",
       "    </tr>\n",
       "    <tr>\n",
       "      <th>ремонт</th>\n",
       "      <td>612</td>\n",
       "      <td>35</td>\n",
       "      <td>0.057190</td>\n",
       "    </tr>\n",
       "    <tr>\n",
       "      <th>свадьба</th>\n",
       "      <td>2348</td>\n",
       "      <td>186</td>\n",
       "      <td>0.079216</td>\n",
       "    </tr>\n",
       "    <tr>\n",
       "      <th>строительство</th>\n",
       "      <td>1881</td>\n",
       "      <td>144</td>\n",
       "      <td>0.076555</td>\n",
       "    </tr>\n",
       "  </tbody>\n",
       "</table>\n",
       "</div>"
      ],
      "text/plain": [
       "                           count  sum      mean\n",
       "purpose_group                                  \n",
       "автомобиль                  4315  403  0.093395\n",
       "коммерческая недвижимость   1315   99  0.075285\n",
       "недвижимость                7032  504  0.071672\n",
       "образование                 4022  370  0.091994\n",
       "ремонт                       612   35  0.057190\n",
       "свадьба                     2348  186  0.079216\n",
       "строительство               1881  144  0.076555"
      ]
     },
     "execution_count": 39,
     "metadata": {},
     "output_type": "execute_result"
    }
   ],
   "source": [
    "df.groupby('purpose_group')['debt'].agg(['count','sum','mean'])"
   ]
  },
  {
   "cell_type": "markdown",
   "metadata": {
    "id": "zmuO0IYubKzU"
   },
   "source": [
    "**Вывод**"
   ]
  },
  {
   "cell_type": "markdown",
   "metadata": {
    "id": "aGlFVc7HbKzU"
   },
   "source": [
    "Самые ответственные клиенты берут деньги на ремонт, для них вероятность стать должником 5,7%, за ними идут те, кто берут средства на покупку/строительство недвижимости как коммерческой так и личной, для них вероятность 7.2%-7,7%, за ними с небольшим отрывом желающие хорошо отметить свадьбу. Наименее ответственные покупатели авто и получающие образование, среди них доля должников 9,2% - 9,3%\n"
   ]
  },
  {
   "cell_type": "markdown",
   "metadata": {
    "id": "-wzIi511bKzV"
   },
   "source": [
    "## Общий вывод"
   ]
  },
  {
   "cell_type": "markdown",
   "metadata": {
    "id": "1LdiZVribKzV"
   },
   "source": [
    "Проведенный анализ показал несколько важных факторов, влияющих на погашение кредита в срок:\n",
    "\n",
    "1. Появление первого ребенка качество погашения снижается, при появлении следующих детей начинает восстанавливаться\n",
    "\n",
    "2. Клиенты, которые в браке или были в нем лучше погашают кредит, для категории людей с большим трудовым стажем логика обратная\n",
    "\n",
    "3. Уровень дохода не сильно влияет на качество погашения, при этом можно выделить, что клиенты с самым высоким и самым низким дохоами в среднем стабильнее возвращают кредиты\n",
    "\n",
    "4 Самые ответственные клиенты берут деньги на ремонт. Наименее ответственные клиенты это покупатели авто и получающие образование."
   ]
  }
 ],
 "metadata": {
  "ExecuteTimeLog": [
   {
    "duration": 605,
    "start_time": "2022-04-05T10:36:32.425Z"
   },
   {
    "duration": 25,
    "start_time": "2022-04-05T10:36:34.010Z"
   },
   {
    "duration": 39,
    "start_time": "2022-04-05T10:36:38.579Z"
   },
   {
    "duration": 29,
    "start_time": "2022-04-05T10:36:42.882Z"
   },
   {
    "duration": 35,
    "start_time": "2022-04-05T10:38:09.763Z"
   },
   {
    "duration": 50,
    "start_time": "2022-04-05T10:38:11.579Z"
   },
   {
    "duration": 49,
    "start_time": "2022-04-05T10:38:17.492Z"
   },
   {
    "duration": 9,
    "start_time": "2022-04-05T10:38:18.763Z"
   },
   {
    "duration": 13,
    "start_time": "2022-04-05T10:38:22.571Z"
   },
   {
    "duration": 12,
    "start_time": "2022-04-05T10:38:23.268Z"
   },
   {
    "duration": 38,
    "start_time": "2022-04-05T10:38:26.116Z"
   },
   {
    "duration": 13,
    "start_time": "2022-04-05T10:38:26.756Z"
   },
   {
    "duration": 34,
    "start_time": "2022-04-05T10:38:28.636Z"
   },
   {
    "duration": 34,
    "start_time": "2022-04-05T10:38:31.067Z"
   },
   {
    "duration": 67,
    "start_time": "2022-04-05T10:38:32.915Z"
   },
   {
    "duration": 14,
    "start_time": "2022-04-05T10:38:35.194Z"
   },
   {
    "duration": 25,
    "start_time": "2022-04-05T10:38:38.394Z"
   },
   {
    "duration": 21,
    "start_time": "2022-04-05T10:38:41.851Z"
   },
   {
    "duration": 13,
    "start_time": "2022-04-05T10:38:42.620Z"
   },
   {
    "duration": 7,
    "start_time": "2022-04-05T10:38:44.050Z"
   },
   {
    "duration": 7,
    "start_time": "2022-04-05T10:38:44.427Z"
   },
   {
    "duration": 29,
    "start_time": "2022-04-05T10:38:44.820Z"
   },
   {
    "duration": 13,
    "start_time": "2022-04-05T10:39:06.509Z"
   },
   {
    "duration": 50,
    "start_time": "2022-04-05T10:39:07.324Z"
   },
   {
    "duration": 17,
    "start_time": "2022-04-05T10:39:08.844Z"
   },
   {
    "duration": 22,
    "start_time": "2022-04-05T10:39:14.802Z"
   },
   {
    "duration": 35,
    "start_time": "2022-04-05T10:39:16.404Z"
   },
   {
    "duration": 12,
    "start_time": "2022-04-05T10:39:17.084Z"
   },
   {
    "duration": 20,
    "start_time": "2022-04-05T10:39:18.387Z"
   },
   {
    "duration": 37,
    "start_time": "2022-04-05T10:39:18.756Z"
   },
   {
    "duration": 14,
    "start_time": "2022-04-05T10:39:19.148Z"
   },
   {
    "duration": 22,
    "start_time": "2022-04-05T10:39:34.532Z"
   },
   {
    "duration": 21,
    "start_time": "2022-04-05T10:39:35.211Z"
   },
   {
    "duration": 92,
    "start_time": "2022-04-05T10:39:35.852Z"
   },
   {
    "duration": 24,
    "start_time": "2022-04-05T10:39:38.062Z"
   },
   {
    "duration": 18,
    "start_time": "2022-04-05T10:39:38.915Z"
   },
   {
    "duration": 56,
    "start_time": "2022-04-05T10:39:39.821Z"
   },
   {
    "duration": 16,
    "start_time": "2022-04-05T10:39:43.138Z"
   },
   {
    "duration": 18,
    "start_time": "2022-04-05T10:39:45.691Z"
   }
  ],
  "colab": {
   "name": "Копия блокнота \"e3abef98-ad76-487c-bc5c-ea7abab266d2-Copy1.ipynb\"",
   "provenance": []
  },
  "kernelspec": {
   "display_name": "Python 3 (ipykernel)",
   "language": "python",
   "name": "python3"
  },
  "language_info": {
   "codemirror_mode": {
    "name": "ipython",
    "version": 3
   },
   "file_extension": ".py",
   "mimetype": "text/x-python",
   "name": "python",
   "nbconvert_exporter": "python",
   "pygments_lexer": "ipython3",
   "version": "3.9.5"
  },
  "toc": {
   "base_numbering": 1,
   "nav_menu": {},
   "number_sections": true,
   "sideBar": true,
   "skip_h1_title": true,
   "title_cell": "Table of Contents",
   "title_sidebar": "Contents",
   "toc_cell": false,
   "toc_position": {},
   "toc_section_display": true,
   "toc_window_display": false
  }
 },
 "nbformat": 4,
 "nbformat_minor": 1
}
