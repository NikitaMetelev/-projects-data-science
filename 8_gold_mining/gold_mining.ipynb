{
 "cells": [
  {
   "cell_type": "markdown",
   "metadata": {},
   "source": [
    "# Восстановление золота из руды"
   ]
  },
  {
   "cell_type": "markdown",
   "metadata": {},
   "source": [
    "На основе данных с параметрами добычи и очистки, необходимо подготоитье прототип модели машинного обучения, который предсказывает коэффициент восстановления методом флотации золота из золотосодержащей руды. Модель поможет оптимизировать производство, чтобы не запускать предприятие с убыточными характеристиками."
   ]
  },
  {
   "cell_type": "markdown",
   "metadata": {},
   "source": [
    "## Подготовка данных"
   ]
  },
  {
   "cell_type": "markdown",
   "metadata": {},
   "source": [
    "### Изучение данных"
   ]
  },
  {
   "cell_type": "markdown",
   "metadata": {},
   "source": [
    "Для начала загрузим библиотеки, которые нам понадобятся в процессе работы, после загрузим и ознакомимся с данными:"
   ]
  },
  {
   "cell_type": "code",
   "execution_count": 1,
   "metadata": {},
   "outputs": [],
   "source": [
    "import pandas as pd\n",
    "import matplotlib.pyplot as plt\n",
    "import numpy as np \n",
    "\n",
    "import seaborn as sns\n",
    "\n",
    "from sklearn.metrics import mean_absolute_error\n",
    "\n",
    "from sklearn.ensemble import RandomForestRegressor\n",
    "from sklearn.tree import DecisionTreeRegressor\n",
    "from sklearn.linear_model import LinearRegression\n",
    "from sklearn.model_selection import cross_val_score\n",
    "from sklearn.metrics import make_scorer\n",
    "from sklearn.dummy import DummyRegressor\n",
    "from sklearn.model_selection import train_test_split\n",
    "import warnings\n",
    "warnings.filterwarnings(\"ignore\")"
   ]
  },
  {
   "cell_type": "code",
   "execution_count": 2,
   "metadata": {},
   "outputs": [],
   "source": [
    "df_train = pd.read_csv('/datasets/gold_recovery_train_new.csv')\n",
    "df_test = pd.read_csv('/datasets/gold_recovery_test_new.csv')\n",
    "df_full = pd.read_csv('/datasets/gold_recovery_full_new.csv')"
   ]
  },
  {
   "cell_type": "markdown",
   "metadata": {},
   "source": [
    "Напишем функцию, чтобы ускорсить изучение данных"
   ]
  },
  {
   "cell_type": "code",
   "execution_count": 3,
   "metadata": {},
   "outputs": [],
   "source": [
    "def view(df):\n",
    "    display(df.sample(n = 5, random_state=42))    \n",
    "    display(df.isnull().agg(['sum','mean']).transpose().sort_values(by = 'mean', ascending=False).head(10))"
   ]
  },
  {
   "cell_type": "code",
   "execution_count": 4,
   "metadata": {},
   "outputs": [
    {
     "data": {
      "text/html": [
       "<div>\n",
       "<style scoped>\n",
       "    .dataframe tbody tr th:only-of-type {\n",
       "        vertical-align: middle;\n",
       "    }\n",
       "\n",
       "    .dataframe tbody tr th {\n",
       "        vertical-align: top;\n",
       "    }\n",
       "\n",
       "    .dataframe thead th {\n",
       "        text-align: right;\n",
       "    }\n",
       "</style>\n",
       "<table border=\"1\" class=\"dataframe\">\n",
       "  <thead>\n",
       "    <tr style=\"text-align: right;\">\n",
       "      <th></th>\n",
       "      <th>date</th>\n",
       "      <th>final.output.concentrate_ag</th>\n",
       "      <th>final.output.concentrate_pb</th>\n",
       "      <th>final.output.concentrate_sol</th>\n",
       "      <th>final.output.concentrate_au</th>\n",
       "      <th>final.output.recovery</th>\n",
       "      <th>final.output.tail_ag</th>\n",
       "      <th>final.output.tail_pb</th>\n",
       "      <th>final.output.tail_sol</th>\n",
       "      <th>final.output.tail_au</th>\n",
       "      <th>...</th>\n",
       "      <th>secondary_cleaner.state.floatbank4_a_air</th>\n",
       "      <th>secondary_cleaner.state.floatbank4_a_level</th>\n",
       "      <th>secondary_cleaner.state.floatbank4_b_air</th>\n",
       "      <th>secondary_cleaner.state.floatbank4_b_level</th>\n",
       "      <th>secondary_cleaner.state.floatbank5_a_air</th>\n",
       "      <th>secondary_cleaner.state.floatbank5_a_level</th>\n",
       "      <th>secondary_cleaner.state.floatbank5_b_air</th>\n",
       "      <th>secondary_cleaner.state.floatbank5_b_level</th>\n",
       "      <th>secondary_cleaner.state.floatbank6_a_air</th>\n",
       "      <th>secondary_cleaner.state.floatbank6_a_level</th>\n",
       "    </tr>\n",
       "  </thead>\n",
       "  <tbody>\n",
       "    <tr>\n",
       "      <td>12057</td>\n",
       "      <td>2018-05-05 17:59:59</td>\n",
       "      <td>4.136403</td>\n",
       "      <td>11.190897</td>\n",
       "      <td>7.581249</td>\n",
       "      <td>45.955895</td>\n",
       "      <td>69.517638</td>\n",
       "      <td>8.721740</td>\n",
       "      <td>2.143706</td>\n",
       "      <td>9.677052</td>\n",
       "      <td>1.816945</td>\n",
       "      <td>...</td>\n",
       "      <td>29.984520</td>\n",
       "      <td>-498.629684</td>\n",
       "      <td>20.102755</td>\n",
       "      <td>-499.172101</td>\n",
       "      <td>24.994889</td>\n",
       "      <td>-498.498140</td>\n",
       "      <td>22.991781</td>\n",
       "      <td>-499.826666</td>\n",
       "      <td>24.995941</td>\n",
       "      <td>-498.114162</td>\n",
       "    </tr>\n",
       "    <tr>\n",
       "      <td>9161</td>\n",
       "      <td>2017-08-05 07:59:59</td>\n",
       "      <td>3.454518</td>\n",
       "      <td>12.153816</td>\n",
       "      <td>7.031890</td>\n",
       "      <td>46.545032</td>\n",
       "      <td>61.277153</td>\n",
       "      <td>7.518113</td>\n",
       "      <td>4.316743</td>\n",
       "      <td>10.871593</td>\n",
       "      <td>2.906134</td>\n",
       "      <td>...</td>\n",
       "      <td>13.019369</td>\n",
       "      <td>-501.585085</td>\n",
       "      <td>9.967641</td>\n",
       "      <td>-400.095035</td>\n",
       "      <td>10.985892</td>\n",
       "      <td>-501.390708</td>\n",
       "      <td>9.009207</td>\n",
       "      <td>-499.958183</td>\n",
       "      <td>11.994245</td>\n",
       "      <td>-500.149794</td>\n",
       "    </tr>\n",
       "    <tr>\n",
       "      <td>4069</td>\n",
       "      <td>2016-08-04 06:59:59</td>\n",
       "      <td>4.711458</td>\n",
       "      <td>10.099183</td>\n",
       "      <td>8.115405</td>\n",
       "      <td>45.048895</td>\n",
       "      <td>54.878184</td>\n",
       "      <td>8.154409</td>\n",
       "      <td>2.471231</td>\n",
       "      <td>6.352158</td>\n",
       "      <td>3.422353</td>\n",
       "      <td>...</td>\n",
       "      <td>19.996133</td>\n",
       "      <td>-400.029313</td>\n",
       "      <td>9.995622</td>\n",
       "      <td>-400.252977</td>\n",
       "      <td>9.988217</td>\n",
       "      <td>-399.905272</td>\n",
       "      <td>5.048266</td>\n",
       "      <td>-399.574305</td>\n",
       "      <td>23.038646</td>\n",
       "      <td>-500.520527</td>\n",
       "    </tr>\n",
       "    <tr>\n",
       "      <td>9379</td>\n",
       "      <td>2017-08-14 21:59:59</td>\n",
       "      <td>3.711237</td>\n",
       "      <td>12.725090</td>\n",
       "      <td>7.898281</td>\n",
       "      <td>45.897019</td>\n",
       "      <td>60.600573</td>\n",
       "      <td>7.435371</td>\n",
       "      <td>4.370888</td>\n",
       "      <td>12.377367</td>\n",
       "      <td>3.662103</td>\n",
       "      <td>...</td>\n",
       "      <td>14.532750</td>\n",
       "      <td>-499.148495</td>\n",
       "      <td>10.915564</td>\n",
       "      <td>-399.866785</td>\n",
       "      <td>13.987933</td>\n",
       "      <td>-499.534605</td>\n",
       "      <td>11.008865</td>\n",
       "      <td>-500.195312</td>\n",
       "      <td>15.004683</td>\n",
       "      <td>-500.097023</td>\n",
       "    </tr>\n",
       "    <tr>\n",
       "      <td>6498</td>\n",
       "      <td>2017-03-30 22:59:59</td>\n",
       "      <td>5.698688</td>\n",
       "      <td>10.101350</td>\n",
       "      <td>10.292669</td>\n",
       "      <td>45.665898</td>\n",
       "      <td>66.686930</td>\n",
       "      <td>9.705878</td>\n",
       "      <td>2.987865</td>\n",
       "      <td>11.382149</td>\n",
       "      <td>3.367125</td>\n",
       "      <td>...</td>\n",
       "      <td>24.976911</td>\n",
       "      <td>-399.000595</td>\n",
       "      <td>22.979774</td>\n",
       "      <td>-401.110189</td>\n",
       "      <td>29.235480</td>\n",
       "      <td>-450.500525</td>\n",
       "      <td>23.991617</td>\n",
       "      <td>-450.198839</td>\n",
       "      <td>30.018672</td>\n",
       "      <td>-499.555877</td>\n",
       "    </tr>\n",
       "  </tbody>\n",
       "</table>\n",
       "<p>5 rows × 87 columns</p>\n",
       "</div>"
      ],
      "text/plain": [
       "                      date  final.output.concentrate_ag  \\\n",
       "12057  2018-05-05 17:59:59                     4.136403   \n",
       "9161   2017-08-05 07:59:59                     3.454518   \n",
       "4069   2016-08-04 06:59:59                     4.711458   \n",
       "9379   2017-08-14 21:59:59                     3.711237   \n",
       "6498   2017-03-30 22:59:59                     5.698688   \n",
       "\n",
       "       final.output.concentrate_pb  final.output.concentrate_sol  \\\n",
       "12057                    11.190897                      7.581249   \n",
       "9161                     12.153816                      7.031890   \n",
       "4069                     10.099183                      8.115405   \n",
       "9379                     12.725090                      7.898281   \n",
       "6498                     10.101350                     10.292669   \n",
       "\n",
       "       final.output.concentrate_au  final.output.recovery  \\\n",
       "12057                    45.955895              69.517638   \n",
       "9161                     46.545032              61.277153   \n",
       "4069                     45.048895              54.878184   \n",
       "9379                     45.897019              60.600573   \n",
       "6498                     45.665898              66.686930   \n",
       "\n",
       "       final.output.tail_ag  final.output.tail_pb  final.output.tail_sol  \\\n",
       "12057              8.721740              2.143706               9.677052   \n",
       "9161               7.518113              4.316743              10.871593   \n",
       "4069               8.154409              2.471231               6.352158   \n",
       "9379               7.435371              4.370888              12.377367   \n",
       "6498               9.705878              2.987865              11.382149   \n",
       "\n",
       "       final.output.tail_au  ...  secondary_cleaner.state.floatbank4_a_air  \\\n",
       "12057              1.816945  ...                                 29.984520   \n",
       "9161               2.906134  ...                                 13.019369   \n",
       "4069               3.422353  ...                                 19.996133   \n",
       "9379               3.662103  ...                                 14.532750   \n",
       "6498               3.367125  ...                                 24.976911   \n",
       "\n",
       "       secondary_cleaner.state.floatbank4_a_level  \\\n",
       "12057                                 -498.629684   \n",
       "9161                                  -501.585085   \n",
       "4069                                  -400.029313   \n",
       "9379                                  -499.148495   \n",
       "6498                                  -399.000595   \n",
       "\n",
       "       secondary_cleaner.state.floatbank4_b_air  \\\n",
       "12057                                 20.102755   \n",
       "9161                                   9.967641   \n",
       "4069                                   9.995622   \n",
       "9379                                  10.915564   \n",
       "6498                                  22.979774   \n",
       "\n",
       "       secondary_cleaner.state.floatbank4_b_level  \\\n",
       "12057                                 -499.172101   \n",
       "9161                                  -400.095035   \n",
       "4069                                  -400.252977   \n",
       "9379                                  -399.866785   \n",
       "6498                                  -401.110189   \n",
       "\n",
       "       secondary_cleaner.state.floatbank5_a_air  \\\n",
       "12057                                 24.994889   \n",
       "9161                                  10.985892   \n",
       "4069                                   9.988217   \n",
       "9379                                  13.987933   \n",
       "6498                                  29.235480   \n",
       "\n",
       "       secondary_cleaner.state.floatbank5_a_level  \\\n",
       "12057                                 -498.498140   \n",
       "9161                                  -501.390708   \n",
       "4069                                  -399.905272   \n",
       "9379                                  -499.534605   \n",
       "6498                                  -450.500525   \n",
       "\n",
       "       secondary_cleaner.state.floatbank5_b_air  \\\n",
       "12057                                 22.991781   \n",
       "9161                                   9.009207   \n",
       "4069                                   5.048266   \n",
       "9379                                  11.008865   \n",
       "6498                                  23.991617   \n",
       "\n",
       "       secondary_cleaner.state.floatbank5_b_level  \\\n",
       "12057                                 -499.826666   \n",
       "9161                                  -499.958183   \n",
       "4069                                  -399.574305   \n",
       "9379                                  -500.195312   \n",
       "6498                                  -450.198839   \n",
       "\n",
       "       secondary_cleaner.state.floatbank6_a_air  \\\n",
       "12057                                 24.995941   \n",
       "9161                                  11.994245   \n",
       "4069                                  23.038646   \n",
       "9379                                  15.004683   \n",
       "6498                                  30.018672   \n",
       "\n",
       "       secondary_cleaner.state.floatbank6_a_level  \n",
       "12057                                 -498.114162  \n",
       "9161                                  -500.149794  \n",
       "4069                                  -500.520527  \n",
       "9379                                  -500.097023  \n",
       "6498                                  -499.555877  \n",
       "\n",
       "[5 rows x 87 columns]"
      ]
     },
     "metadata": {},
     "output_type": "display_data"
    },
    {
     "data": {
      "text/html": [
       "<div>\n",
       "<style scoped>\n",
       "    .dataframe tbody tr th:only-of-type {\n",
       "        vertical-align: middle;\n",
       "    }\n",
       "\n",
       "    .dataframe tbody tr th {\n",
       "        vertical-align: top;\n",
       "    }\n",
       "\n",
       "    .dataframe thead th {\n",
       "        text-align: right;\n",
       "    }\n",
       "</style>\n",
       "<table border=\"1\" class=\"dataframe\">\n",
       "  <thead>\n",
       "    <tr style=\"text-align: right;\">\n",
       "      <th></th>\n",
       "      <th>sum</th>\n",
       "      <th>mean</th>\n",
       "    </tr>\n",
       "  </thead>\n",
       "  <tbody>\n",
       "    <tr>\n",
       "      <td>secondary_cleaner.output.tail_sol</td>\n",
       "      <td>1605.0</td>\n",
       "      <td>0.113436</td>\n",
       "    </tr>\n",
       "    <tr>\n",
       "      <td>rougher.state.floatbank10_e_air</td>\n",
       "      <td>436.0</td>\n",
       "      <td>0.030815</td>\n",
       "    </tr>\n",
       "    <tr>\n",
       "      <td>rougher.input.floatbank11_xanthate</td>\n",
       "      <td>428.0</td>\n",
       "      <td>0.030249</td>\n",
       "    </tr>\n",
       "    <tr>\n",
       "      <td>primary_cleaner.output.concentrate_sol</td>\n",
       "      <td>286.0</td>\n",
       "      <td>0.020213</td>\n",
       "    </tr>\n",
       "    <tr>\n",
       "      <td>secondary_cleaner.state.floatbank2_a_air</td>\n",
       "      <td>217.0</td>\n",
       "      <td>0.015337</td>\n",
       "    </tr>\n",
       "    <tr>\n",
       "      <td>final.output.concentrate_sol</td>\n",
       "      <td>211.0</td>\n",
       "      <td>0.014913</td>\n",
       "    </tr>\n",
       "    <tr>\n",
       "      <td>rougher.input.feed_size</td>\n",
       "      <td>144.0</td>\n",
       "      <td>0.010177</td>\n",
       "    </tr>\n",
       "    <tr>\n",
       "      <td>primary_cleaner.input.xanthate</td>\n",
       "      <td>100.0</td>\n",
       "      <td>0.007068</td>\n",
       "    </tr>\n",
       "    <tr>\n",
       "      <td>rougher.input.feed_pb</td>\n",
       "      <td>100.0</td>\n",
       "      <td>0.007068</td>\n",
       "    </tr>\n",
       "    <tr>\n",
       "      <td>final.output.tail_pb</td>\n",
       "      <td>100.0</td>\n",
       "      <td>0.007068</td>\n",
       "    </tr>\n",
       "  </tbody>\n",
       "</table>\n",
       "</div>"
      ],
      "text/plain": [
       "                                             sum      mean\n",
       "secondary_cleaner.output.tail_sol         1605.0  0.113436\n",
       "rougher.state.floatbank10_e_air            436.0  0.030815\n",
       "rougher.input.floatbank11_xanthate         428.0  0.030249\n",
       "primary_cleaner.output.concentrate_sol     286.0  0.020213\n",
       "secondary_cleaner.state.floatbank2_a_air   217.0  0.015337\n",
       "final.output.concentrate_sol               211.0  0.014913\n",
       "rougher.input.feed_size                    144.0  0.010177\n",
       "primary_cleaner.input.xanthate             100.0  0.007068\n",
       "rougher.input.feed_pb                      100.0  0.007068\n",
       "final.output.tail_pb                       100.0  0.007068"
      ]
     },
     "metadata": {},
     "output_type": "display_data"
    }
   ],
   "source": [
    "view(df_train)"
   ]
  },
  {
   "cell_type": "code",
   "execution_count": 5,
   "metadata": {},
   "outputs": [
    {
     "data": {
      "text/html": [
       "<div>\n",
       "<style scoped>\n",
       "    .dataframe tbody tr th:only-of-type {\n",
       "        vertical-align: middle;\n",
       "    }\n",
       "\n",
       "    .dataframe tbody tr th {\n",
       "        vertical-align: top;\n",
       "    }\n",
       "\n",
       "    .dataframe thead th {\n",
       "        text-align: right;\n",
       "    }\n",
       "</style>\n",
       "<table border=\"1\" class=\"dataframe\">\n",
       "  <thead>\n",
       "    <tr style=\"text-align: right;\">\n",
       "      <th></th>\n",
       "      <th>date</th>\n",
       "      <th>primary_cleaner.input.sulfate</th>\n",
       "      <th>primary_cleaner.input.depressant</th>\n",
       "      <th>primary_cleaner.input.feed_size</th>\n",
       "      <th>primary_cleaner.input.xanthate</th>\n",
       "      <th>primary_cleaner.state.floatbank8_a_air</th>\n",
       "      <th>primary_cleaner.state.floatbank8_a_level</th>\n",
       "      <th>primary_cleaner.state.floatbank8_b_air</th>\n",
       "      <th>primary_cleaner.state.floatbank8_b_level</th>\n",
       "      <th>primary_cleaner.state.floatbank8_c_air</th>\n",
       "      <th>...</th>\n",
       "      <th>secondary_cleaner.state.floatbank4_a_air</th>\n",
       "      <th>secondary_cleaner.state.floatbank4_a_level</th>\n",
       "      <th>secondary_cleaner.state.floatbank4_b_air</th>\n",
       "      <th>secondary_cleaner.state.floatbank4_b_level</th>\n",
       "      <th>secondary_cleaner.state.floatbank5_a_air</th>\n",
       "      <th>secondary_cleaner.state.floatbank5_a_level</th>\n",
       "      <th>secondary_cleaner.state.floatbank5_b_air</th>\n",
       "      <th>secondary_cleaner.state.floatbank5_b_level</th>\n",
       "      <th>secondary_cleaner.state.floatbank6_a_air</th>\n",
       "      <th>secondary_cleaner.state.floatbank6_a_level</th>\n",
       "    </tr>\n",
       "  </thead>\n",
       "  <tbody>\n",
       "    <tr>\n",
       "      <td>422</td>\n",
       "      <td>2016-09-20 20:59:59</td>\n",
       "      <td>106.347492</td>\n",
       "      <td>5.095272</td>\n",
       "      <td>7.440000</td>\n",
       "      <td>0.705074</td>\n",
       "      <td>1601.299608</td>\n",
       "      <td>-498.532548</td>\n",
       "      <td>1598.868924</td>\n",
       "      <td>-500.147155</td>\n",
       "      <td>1599.646690</td>\n",
       "      <td>...</td>\n",
       "      <td>11.936577</td>\n",
       "      <td>-586.232550</td>\n",
       "      <td>10.002792</td>\n",
       "      <td>-494.297087</td>\n",
       "      <td>10.007500</td>\n",
       "      <td>-500.982342</td>\n",
       "      <td>5.000628</td>\n",
       "      <td>-501.196579</td>\n",
       "      <td>20.003229</td>\n",
       "      <td>-499.921164</td>\n",
       "    </tr>\n",
       "    <tr>\n",
       "      <td>1253</td>\n",
       "      <td>2016-11-02 14:59:59</td>\n",
       "      <td>112.961283</td>\n",
       "      <td>6.933103</td>\n",
       "      <td>6.730000</td>\n",
       "      <td>0.692341</td>\n",
       "      <td>1602.125936</td>\n",
       "      <td>-499.598861</td>\n",
       "      <td>1600.680582</td>\n",
       "      <td>-500.284491</td>\n",
       "      <td>1598.907669</td>\n",
       "      <td>...</td>\n",
       "      <td>14.965048</td>\n",
       "      <td>-498.434795</td>\n",
       "      <td>13.023775</td>\n",
       "      <td>-497.217669</td>\n",
       "      <td>12.643935</td>\n",
       "      <td>-497.789350</td>\n",
       "      <td>13.991069</td>\n",
       "      <td>-499.812501</td>\n",
       "      <td>22.002218</td>\n",
       "      <td>-498.050510</td>\n",
       "    </tr>\n",
       "    <tr>\n",
       "      <td>2379</td>\n",
       "      <td>2016-12-21 04:59:59</td>\n",
       "      <td>194.447809</td>\n",
       "      <td>12.545926</td>\n",
       "      <td>7.730000</td>\n",
       "      <td>1.345047</td>\n",
       "      <td>1504.739936</td>\n",
       "      <td>-500.226185</td>\n",
       "      <td>1504.057252</td>\n",
       "      <td>-500.802048</td>\n",
       "      <td>1502.199723</td>\n",
       "      <td>...</td>\n",
       "      <td>17.001110</td>\n",
       "      <td>-496.823021</td>\n",
       "      <td>14.995641</td>\n",
       "      <td>-501.416258</td>\n",
       "      <td>15.214919</td>\n",
       "      <td>-499.346017</td>\n",
       "      <td>12.043485</td>\n",
       "      <td>-499.806188</td>\n",
       "      <td>20.999981</td>\n",
       "      <td>-503.961086</td>\n",
       "    </tr>\n",
       "    <tr>\n",
       "      <td>4541</td>\n",
       "      <td>2017-11-27 23:59:59</td>\n",
       "      <td>187.187611</td>\n",
       "      <td>10.989016</td>\n",
       "      <td>7.300001</td>\n",
       "      <td>1.702953</td>\n",
       "      <td>1597.836054</td>\n",
       "      <td>-497.326746</td>\n",
       "      <td>1600.960116</td>\n",
       "      <td>-505.764951</td>\n",
       "      <td>1597.934767</td>\n",
       "      <td>...</td>\n",
       "      <td>16.998675</td>\n",
       "      <td>-498.023899</td>\n",
       "      <td>15.146317</td>\n",
       "      <td>-500.157278</td>\n",
       "      <td>10.954993</td>\n",
       "      <td>-499.032225</td>\n",
       "      <td>9.025151</td>\n",
       "      <td>-499.949342</td>\n",
       "      <td>16.000894</td>\n",
       "      <td>-498.648546</td>\n",
       "    </tr>\n",
       "    <tr>\n",
       "      <td>5177</td>\n",
       "      <td>2017-12-26 15:59:59</td>\n",
       "      <td>65.955281</td>\n",
       "      <td>4.987334</td>\n",
       "      <td>5.800000</td>\n",
       "      <td>0.432814</td>\n",
       "      <td>1602.114944</td>\n",
       "      <td>-399.129844</td>\n",
       "      <td>1602.574840</td>\n",
       "      <td>-401.095627</td>\n",
       "      <td>1300.212425</td>\n",
       "      <td>...</td>\n",
       "      <td>20.019783</td>\n",
       "      <td>-500.257457</td>\n",
       "      <td>15.078063</td>\n",
       "      <td>-499.553551</td>\n",
       "      <td>11.040759</td>\n",
       "      <td>-500.030707</td>\n",
       "      <td>8.939822</td>\n",
       "      <td>-499.982171</td>\n",
       "      <td>12.001369</td>\n",
       "      <td>-500.535695</td>\n",
       "    </tr>\n",
       "  </tbody>\n",
       "</table>\n",
       "<p>5 rows × 53 columns</p>\n",
       "</div>"
      ],
      "text/plain": [
       "                     date  primary_cleaner.input.sulfate  \\\n",
       "422   2016-09-20 20:59:59                     106.347492   \n",
       "1253  2016-11-02 14:59:59                     112.961283   \n",
       "2379  2016-12-21 04:59:59                     194.447809   \n",
       "4541  2017-11-27 23:59:59                     187.187611   \n",
       "5177  2017-12-26 15:59:59                      65.955281   \n",
       "\n",
       "      primary_cleaner.input.depressant  primary_cleaner.input.feed_size  \\\n",
       "422                           5.095272                         7.440000   \n",
       "1253                          6.933103                         6.730000   \n",
       "2379                         12.545926                         7.730000   \n",
       "4541                         10.989016                         7.300001   \n",
       "5177                          4.987334                         5.800000   \n",
       "\n",
       "      primary_cleaner.input.xanthate  primary_cleaner.state.floatbank8_a_air  \\\n",
       "422                         0.705074                             1601.299608   \n",
       "1253                        0.692341                             1602.125936   \n",
       "2379                        1.345047                             1504.739936   \n",
       "4541                        1.702953                             1597.836054   \n",
       "5177                        0.432814                             1602.114944   \n",
       "\n",
       "      primary_cleaner.state.floatbank8_a_level  \\\n",
       "422                                -498.532548   \n",
       "1253                               -499.598861   \n",
       "2379                               -500.226185   \n",
       "4541                               -497.326746   \n",
       "5177                               -399.129844   \n",
       "\n",
       "      primary_cleaner.state.floatbank8_b_air  \\\n",
       "422                              1598.868924   \n",
       "1253                             1600.680582   \n",
       "2379                             1504.057252   \n",
       "4541                             1600.960116   \n",
       "5177                             1602.574840   \n",
       "\n",
       "      primary_cleaner.state.floatbank8_b_level  \\\n",
       "422                                -500.147155   \n",
       "1253                               -500.284491   \n",
       "2379                               -500.802048   \n",
       "4541                               -505.764951   \n",
       "5177                               -401.095627   \n",
       "\n",
       "      primary_cleaner.state.floatbank8_c_air  ...  \\\n",
       "422                              1599.646690  ...   \n",
       "1253                             1598.907669  ...   \n",
       "2379                             1502.199723  ...   \n",
       "4541                             1597.934767  ...   \n",
       "5177                             1300.212425  ...   \n",
       "\n",
       "      secondary_cleaner.state.floatbank4_a_air  \\\n",
       "422                                  11.936577   \n",
       "1253                                 14.965048   \n",
       "2379                                 17.001110   \n",
       "4541                                 16.998675   \n",
       "5177                                 20.019783   \n",
       "\n",
       "      secondary_cleaner.state.floatbank4_a_level  \\\n",
       "422                                  -586.232550   \n",
       "1253                                 -498.434795   \n",
       "2379                                 -496.823021   \n",
       "4541                                 -498.023899   \n",
       "5177                                 -500.257457   \n",
       "\n",
       "      secondary_cleaner.state.floatbank4_b_air  \\\n",
       "422                                  10.002792   \n",
       "1253                                 13.023775   \n",
       "2379                                 14.995641   \n",
       "4541                                 15.146317   \n",
       "5177                                 15.078063   \n",
       "\n",
       "      secondary_cleaner.state.floatbank4_b_level  \\\n",
       "422                                  -494.297087   \n",
       "1253                                 -497.217669   \n",
       "2379                                 -501.416258   \n",
       "4541                                 -500.157278   \n",
       "5177                                 -499.553551   \n",
       "\n",
       "      secondary_cleaner.state.floatbank5_a_air  \\\n",
       "422                                  10.007500   \n",
       "1253                                 12.643935   \n",
       "2379                                 15.214919   \n",
       "4541                                 10.954993   \n",
       "5177                                 11.040759   \n",
       "\n",
       "      secondary_cleaner.state.floatbank5_a_level  \\\n",
       "422                                  -500.982342   \n",
       "1253                                 -497.789350   \n",
       "2379                                 -499.346017   \n",
       "4541                                 -499.032225   \n",
       "5177                                 -500.030707   \n",
       "\n",
       "      secondary_cleaner.state.floatbank5_b_air  \\\n",
       "422                                   5.000628   \n",
       "1253                                 13.991069   \n",
       "2379                                 12.043485   \n",
       "4541                                  9.025151   \n",
       "5177                                  8.939822   \n",
       "\n",
       "      secondary_cleaner.state.floatbank5_b_level  \\\n",
       "422                                  -501.196579   \n",
       "1253                                 -499.812501   \n",
       "2379                                 -499.806188   \n",
       "4541                                 -499.949342   \n",
       "5177                                 -499.982171   \n",
       "\n",
       "      secondary_cleaner.state.floatbank6_a_air  \\\n",
       "422                                  20.003229   \n",
       "1253                                 22.002218   \n",
       "2379                                 20.999981   \n",
       "4541                                 16.000894   \n",
       "5177                                 12.001369   \n",
       "\n",
       "      secondary_cleaner.state.floatbank6_a_level  \n",
       "422                                  -499.921164  \n",
       "1253                                 -498.050510  \n",
       "2379                                 -503.961086  \n",
       "4541                                 -498.648546  \n",
       "5177                                 -500.535695  \n",
       "\n",
       "[5 rows x 53 columns]"
      ]
     },
     "metadata": {},
     "output_type": "display_data"
    },
    {
     "data": {
      "text/html": [
       "<div>\n",
       "<style scoped>\n",
       "    .dataframe tbody tr th:only-of-type {\n",
       "        vertical-align: middle;\n",
       "    }\n",
       "\n",
       "    .dataframe tbody tr th {\n",
       "        vertical-align: top;\n",
       "    }\n",
       "\n",
       "    .dataframe thead th {\n",
       "        text-align: right;\n",
       "    }\n",
       "</style>\n",
       "<table border=\"1\" class=\"dataframe\">\n",
       "  <thead>\n",
       "    <tr style=\"text-align: right;\">\n",
       "      <th></th>\n",
       "      <th>sum</th>\n",
       "      <th>mean</th>\n",
       "    </tr>\n",
       "  </thead>\n",
       "  <tbody>\n",
       "    <tr>\n",
       "      <td>rougher.input.floatbank11_xanthate</td>\n",
       "      <td>25.0</td>\n",
       "      <td>0.004726</td>\n",
       "    </tr>\n",
       "    <tr>\n",
       "      <td>rougher.input.feed_sol</td>\n",
       "      <td>21.0</td>\n",
       "      <td>0.003970</td>\n",
       "    </tr>\n",
       "    <tr>\n",
       "      <td>secondary_cleaner.state.floatbank3_a_air</td>\n",
       "      <td>9.0</td>\n",
       "      <td>0.001701</td>\n",
       "    </tr>\n",
       "    <tr>\n",
       "      <td>rougher.input.floatbank11_sulfate</td>\n",
       "      <td>8.0</td>\n",
       "      <td>0.001512</td>\n",
       "    </tr>\n",
       "    <tr>\n",
       "      <td>primary_cleaner.input.depressant</td>\n",
       "      <td>5.0</td>\n",
       "      <td>0.000945</td>\n",
       "    </tr>\n",
       "    <tr>\n",
       "      <td>rougher.input.floatbank10_sulfate</td>\n",
       "      <td>5.0</td>\n",
       "      <td>0.000945</td>\n",
       "    </tr>\n",
       "    <tr>\n",
       "      <td>primary_cleaner.input.xanthate</td>\n",
       "      <td>4.0</td>\n",
       "      <td>0.000756</td>\n",
       "    </tr>\n",
       "    <tr>\n",
       "      <td>primary_cleaner.input.sulfate</td>\n",
       "      <td>4.0</td>\n",
       "      <td>0.000756</td>\n",
       "    </tr>\n",
       "    <tr>\n",
       "      <td>rougher.input.feed_rate</td>\n",
       "      <td>3.0</td>\n",
       "      <td>0.000567</td>\n",
       "    </tr>\n",
       "    <tr>\n",
       "      <td>secondary_cleaner.state.floatbank2_a_air</td>\n",
       "      <td>3.0</td>\n",
       "      <td>0.000567</td>\n",
       "    </tr>\n",
       "  </tbody>\n",
       "</table>\n",
       "</div>"
      ],
      "text/plain": [
       "                                           sum      mean\n",
       "rougher.input.floatbank11_xanthate        25.0  0.004726\n",
       "rougher.input.feed_sol                    21.0  0.003970\n",
       "secondary_cleaner.state.floatbank3_a_air   9.0  0.001701\n",
       "rougher.input.floatbank11_sulfate          8.0  0.001512\n",
       "primary_cleaner.input.depressant           5.0  0.000945\n",
       "rougher.input.floatbank10_sulfate          5.0  0.000945\n",
       "primary_cleaner.input.xanthate             4.0  0.000756\n",
       "primary_cleaner.input.sulfate              4.0  0.000756\n",
       "rougher.input.feed_rate                    3.0  0.000567\n",
       "secondary_cleaner.state.floatbank2_a_air   3.0  0.000567"
      ]
     },
     "metadata": {},
     "output_type": "display_data"
    }
   ],
   "source": [
    "view(df_test)"
   ]
  },
  {
   "cell_type": "code",
   "execution_count": 6,
   "metadata": {},
   "outputs": [
    {
     "data": {
      "text/html": [
       "<div>\n",
       "<style scoped>\n",
       "    .dataframe tbody tr th:only-of-type {\n",
       "        vertical-align: middle;\n",
       "    }\n",
       "\n",
       "    .dataframe tbody tr th {\n",
       "        vertical-align: top;\n",
       "    }\n",
       "\n",
       "    .dataframe thead th {\n",
       "        text-align: right;\n",
       "    }\n",
       "</style>\n",
       "<table border=\"1\" class=\"dataframe\">\n",
       "  <thead>\n",
       "    <tr style=\"text-align: right;\">\n",
       "      <th></th>\n",
       "      <th>date</th>\n",
       "      <th>final.output.concentrate_ag</th>\n",
       "      <th>final.output.concentrate_pb</th>\n",
       "      <th>final.output.concentrate_sol</th>\n",
       "      <th>final.output.concentrate_au</th>\n",
       "      <th>final.output.recovery</th>\n",
       "      <th>final.output.tail_ag</th>\n",
       "      <th>final.output.tail_pb</th>\n",
       "      <th>final.output.tail_sol</th>\n",
       "      <th>final.output.tail_au</th>\n",
       "      <th>...</th>\n",
       "      <th>secondary_cleaner.state.floatbank4_a_air</th>\n",
       "      <th>secondary_cleaner.state.floatbank4_a_level</th>\n",
       "      <th>secondary_cleaner.state.floatbank4_b_air</th>\n",
       "      <th>secondary_cleaner.state.floatbank4_b_level</th>\n",
       "      <th>secondary_cleaner.state.floatbank5_a_air</th>\n",
       "      <th>secondary_cleaner.state.floatbank5_a_level</th>\n",
       "      <th>secondary_cleaner.state.floatbank5_b_air</th>\n",
       "      <th>secondary_cleaner.state.floatbank5_b_level</th>\n",
       "      <th>secondary_cleaner.state.floatbank6_a_air</th>\n",
       "      <th>secondary_cleaner.state.floatbank6_a_level</th>\n",
       "    </tr>\n",
       "  </thead>\n",
       "  <tbody>\n",
       "    <tr>\n",
       "      <td>2621</td>\n",
       "      <td>2016-05-29 01:59:59</td>\n",
       "      <td>3.087644</td>\n",
       "      <td>6.836540</td>\n",
       "      <td>9.450256</td>\n",
       "      <td>50.377359</td>\n",
       "      <td>65.221565</td>\n",
       "      <td>7.233594</td>\n",
       "      <td>1.940332</td>\n",
       "      <td>12.212443</td>\n",
       "      <td>2.845454</td>\n",
       "      <td>...</td>\n",
       "      <td>10.032594</td>\n",
       "      <td>-499.710774</td>\n",
       "      <td>8.007087</td>\n",
       "      <td>-499.991533</td>\n",
       "      <td>8.005504</td>\n",
       "      <td>-500.337522</td>\n",
       "      <td>6.029457</td>\n",
       "      <td>-500.198914</td>\n",
       "      <td>18.003712</td>\n",
       "      <td>-500.324365</td>\n",
       "    </tr>\n",
       "    <tr>\n",
       "      <td>19184</td>\n",
       "      <td>2018-08-06 14:59:59</td>\n",
       "      <td>6.366901</td>\n",
       "      <td>9.703410</td>\n",
       "      <td>10.246201</td>\n",
       "      <td>42.524683</td>\n",
       "      <td>77.252845</td>\n",
       "      <td>17.990684</td>\n",
       "      <td>4.467190</td>\n",
       "      <td>9.632073</td>\n",
       "      <td>3.049757</td>\n",
       "      <td>...</td>\n",
       "      <td>27.017165</td>\n",
       "      <td>-500.131186</td>\n",
       "      <td>23.030999</td>\n",
       "      <td>-500.053130</td>\n",
       "      <td>22.953319</td>\n",
       "      <td>-499.117354</td>\n",
       "      <td>18.009119</td>\n",
       "      <td>-500.179989</td>\n",
       "      <td>23.007612</td>\n",
       "      <td>-541.416458</td>\n",
       "    </tr>\n",
       "    <tr>\n",
       "      <td>3421</td>\n",
       "      <td>2016-07-07 16:59:59</td>\n",
       "      <td>6.550514</td>\n",
       "      <td>10.437685</td>\n",
       "      <td>13.398971</td>\n",
       "      <td>41.083769</td>\n",
       "      <td>68.833910</td>\n",
       "      <td>7.535200</td>\n",
       "      <td>1.994040</td>\n",
       "      <td>12.532812</td>\n",
       "      <td>2.635586</td>\n",
       "      <td>...</td>\n",
       "      <td>15.935836</td>\n",
       "      <td>-500.838970</td>\n",
       "      <td>7.903151</td>\n",
       "      <td>-499.814186</td>\n",
       "      <td>16.003077</td>\n",
       "      <td>-499.903537</td>\n",
       "      <td>6.995042</td>\n",
       "      <td>-500.764074</td>\n",
       "      <td>24.956361</td>\n",
       "      <td>-500.333713</td>\n",
       "    </tr>\n",
       "    <tr>\n",
       "      <td>9292</td>\n",
       "      <td>2017-04-07 07:59:59</td>\n",
       "      <td>3.343481</td>\n",
       "      <td>10.526291</td>\n",
       "      <td>10.511193</td>\n",
       "      <td>47.652705</td>\n",
       "      <td>71.851707</td>\n",
       "      <td>8.408655</td>\n",
       "      <td>2.786684</td>\n",
       "      <td>10.532030</td>\n",
       "      <td>2.233875</td>\n",
       "      <td>...</td>\n",
       "      <td>25.053696</td>\n",
       "      <td>-401.006922</td>\n",
       "      <td>23.004290</td>\n",
       "      <td>-400.115860</td>\n",
       "      <td>33.479647</td>\n",
       "      <td>-449.811885</td>\n",
       "      <td>23.983454</td>\n",
       "      <td>-449.943234</td>\n",
       "      <td>29.983490</td>\n",
       "      <td>-500.170701</td>\n",
       "    </tr>\n",
       "    <tr>\n",
       "      <td>9303</td>\n",
       "      <td>2017-04-07 20:59:59</td>\n",
       "      <td>5.030262</td>\n",
       "      <td>11.411971</td>\n",
       "      <td>11.184144</td>\n",
       "      <td>44.132389</td>\n",
       "      <td>69.054367</td>\n",
       "      <td>8.144629</td>\n",
       "      <td>2.839787</td>\n",
       "      <td>11.326744</td>\n",
       "      <td>2.206454</td>\n",
       "      <td>...</td>\n",
       "      <td>25.006653</td>\n",
       "      <td>-402.072396</td>\n",
       "      <td>23.100763</td>\n",
       "      <td>-399.953512</td>\n",
       "      <td>25.997048</td>\n",
       "      <td>-449.780812</td>\n",
       "      <td>24.006305</td>\n",
       "      <td>-449.894407</td>\n",
       "      <td>29.972149</td>\n",
       "      <td>-499.766011</td>\n",
       "    </tr>\n",
       "  </tbody>\n",
       "</table>\n",
       "<p>5 rows × 87 columns</p>\n",
       "</div>"
      ],
      "text/plain": [
       "                      date  final.output.concentrate_ag  \\\n",
       "2621   2016-05-29 01:59:59                     3.087644   \n",
       "19184  2018-08-06 14:59:59                     6.366901   \n",
       "3421   2016-07-07 16:59:59                     6.550514   \n",
       "9292   2017-04-07 07:59:59                     3.343481   \n",
       "9303   2017-04-07 20:59:59                     5.030262   \n",
       "\n",
       "       final.output.concentrate_pb  final.output.concentrate_sol  \\\n",
       "2621                      6.836540                      9.450256   \n",
       "19184                     9.703410                     10.246201   \n",
       "3421                     10.437685                     13.398971   \n",
       "9292                     10.526291                     10.511193   \n",
       "9303                     11.411971                     11.184144   \n",
       "\n",
       "       final.output.concentrate_au  final.output.recovery  \\\n",
       "2621                     50.377359              65.221565   \n",
       "19184                    42.524683              77.252845   \n",
       "3421                     41.083769              68.833910   \n",
       "9292                     47.652705              71.851707   \n",
       "9303                     44.132389              69.054367   \n",
       "\n",
       "       final.output.tail_ag  final.output.tail_pb  final.output.tail_sol  \\\n",
       "2621               7.233594              1.940332              12.212443   \n",
       "19184             17.990684              4.467190               9.632073   \n",
       "3421               7.535200              1.994040              12.532812   \n",
       "9292               8.408655              2.786684              10.532030   \n",
       "9303               8.144629              2.839787              11.326744   \n",
       "\n",
       "       final.output.tail_au  ...  secondary_cleaner.state.floatbank4_a_air  \\\n",
       "2621               2.845454  ...                                 10.032594   \n",
       "19184              3.049757  ...                                 27.017165   \n",
       "3421               2.635586  ...                                 15.935836   \n",
       "9292               2.233875  ...                                 25.053696   \n",
       "9303               2.206454  ...                                 25.006653   \n",
       "\n",
       "       secondary_cleaner.state.floatbank4_a_level  \\\n",
       "2621                                  -499.710774   \n",
       "19184                                 -500.131186   \n",
       "3421                                  -500.838970   \n",
       "9292                                  -401.006922   \n",
       "9303                                  -402.072396   \n",
       "\n",
       "       secondary_cleaner.state.floatbank4_b_air  \\\n",
       "2621                                   8.007087   \n",
       "19184                                 23.030999   \n",
       "3421                                   7.903151   \n",
       "9292                                  23.004290   \n",
       "9303                                  23.100763   \n",
       "\n",
       "       secondary_cleaner.state.floatbank4_b_level  \\\n",
       "2621                                  -499.991533   \n",
       "19184                                 -500.053130   \n",
       "3421                                  -499.814186   \n",
       "9292                                  -400.115860   \n",
       "9303                                  -399.953512   \n",
       "\n",
       "       secondary_cleaner.state.floatbank5_a_air  \\\n",
       "2621                                   8.005504   \n",
       "19184                                 22.953319   \n",
       "3421                                  16.003077   \n",
       "9292                                  33.479647   \n",
       "9303                                  25.997048   \n",
       "\n",
       "       secondary_cleaner.state.floatbank5_a_level  \\\n",
       "2621                                  -500.337522   \n",
       "19184                                 -499.117354   \n",
       "3421                                  -499.903537   \n",
       "9292                                  -449.811885   \n",
       "9303                                  -449.780812   \n",
       "\n",
       "       secondary_cleaner.state.floatbank5_b_air  \\\n",
       "2621                                   6.029457   \n",
       "19184                                 18.009119   \n",
       "3421                                   6.995042   \n",
       "9292                                  23.983454   \n",
       "9303                                  24.006305   \n",
       "\n",
       "       secondary_cleaner.state.floatbank5_b_level  \\\n",
       "2621                                  -500.198914   \n",
       "19184                                 -500.179989   \n",
       "3421                                  -500.764074   \n",
       "9292                                  -449.943234   \n",
       "9303                                  -449.894407   \n",
       "\n",
       "       secondary_cleaner.state.floatbank6_a_air  \\\n",
       "2621                                  18.003712   \n",
       "19184                                 23.007612   \n",
       "3421                                  24.956361   \n",
       "9292                                  29.983490   \n",
       "9303                                  29.972149   \n",
       "\n",
       "       secondary_cleaner.state.floatbank6_a_level  \n",
       "2621                                  -500.324365  \n",
       "19184                                 -541.416458  \n",
       "3421                                  -500.333713  \n",
       "9292                                  -500.170701  \n",
       "9303                                  -499.766011  \n",
       "\n",
       "[5 rows x 87 columns]"
      ]
     },
     "metadata": {},
     "output_type": "display_data"
    },
    {
     "data": {
      "text/html": [
       "<div>\n",
       "<style scoped>\n",
       "    .dataframe tbody tr th:only-of-type {\n",
       "        vertical-align: middle;\n",
       "    }\n",
       "\n",
       "    .dataframe tbody tr th {\n",
       "        vertical-align: top;\n",
       "    }\n",
       "\n",
       "    .dataframe thead th {\n",
       "        text-align: right;\n",
       "    }\n",
       "</style>\n",
       "<table border=\"1\" class=\"dataframe\">\n",
       "  <thead>\n",
       "    <tr style=\"text-align: right;\">\n",
       "      <th></th>\n",
       "      <th>sum</th>\n",
       "      <th>mean</th>\n",
       "    </tr>\n",
       "  </thead>\n",
       "  <tbody>\n",
       "    <tr>\n",
       "      <td>secondary_cleaner.output.tail_sol</td>\n",
       "      <td>1748.0</td>\n",
       "      <td>0.089922</td>\n",
       "    </tr>\n",
       "    <tr>\n",
       "      <td>rougher.input.floatbank11_xanthate</td>\n",
       "      <td>453.0</td>\n",
       "      <td>0.023304</td>\n",
       "    </tr>\n",
       "    <tr>\n",
       "      <td>rougher.state.floatbank10_e_air</td>\n",
       "      <td>436.0</td>\n",
       "      <td>0.022429</td>\n",
       "    </tr>\n",
       "    <tr>\n",
       "      <td>primary_cleaner.output.concentrate_sol</td>\n",
       "      <td>370.0</td>\n",
       "      <td>0.019034</td>\n",
       "    </tr>\n",
       "    <tr>\n",
       "      <td>secondary_cleaner.state.floatbank2_a_air</td>\n",
       "      <td>220.0</td>\n",
       "      <td>0.011317</td>\n",
       "    </tr>\n",
       "    <tr>\n",
       "      <td>final.output.concentrate_sol</td>\n",
       "      <td>211.0</td>\n",
       "      <td>0.010854</td>\n",
       "    </tr>\n",
       "    <tr>\n",
       "      <td>rougher.input.feed_size</td>\n",
       "      <td>145.0</td>\n",
       "      <td>0.007459</td>\n",
       "    </tr>\n",
       "    <tr>\n",
       "      <td>primary_cleaner.output.concentrate_pb</td>\n",
       "      <td>116.0</td>\n",
       "      <td>0.005967</td>\n",
       "    </tr>\n",
       "    <tr>\n",
       "      <td>primary_cleaner.input.xanthate</td>\n",
       "      <td>104.0</td>\n",
       "      <td>0.005350</td>\n",
       "    </tr>\n",
       "    <tr>\n",
       "      <td>final.output.tail_pb</td>\n",
       "      <td>101.0</td>\n",
       "      <td>0.005196</td>\n",
       "    </tr>\n",
       "  </tbody>\n",
       "</table>\n",
       "</div>"
      ],
      "text/plain": [
       "                                             sum      mean\n",
       "secondary_cleaner.output.tail_sol         1748.0  0.089922\n",
       "rougher.input.floatbank11_xanthate         453.0  0.023304\n",
       "rougher.state.floatbank10_e_air            436.0  0.022429\n",
       "primary_cleaner.output.concentrate_sol     370.0  0.019034\n",
       "secondary_cleaner.state.floatbank2_a_air   220.0  0.011317\n",
       "final.output.concentrate_sol               211.0  0.010854\n",
       "rougher.input.feed_size                    145.0  0.007459\n",
       "primary_cleaner.output.concentrate_pb      116.0  0.005967\n",
       "primary_cleaner.input.xanthate             104.0  0.005350\n",
       "final.output.tail_pb                       101.0  0.005196"
      ]
     },
     "metadata": {},
     "output_type": "display_data"
    }
   ],
   "source": [
    "view(df_full)"
   ]
  },
  {
   "cell_type": "code",
   "execution_count": 7,
   "metadata": {},
   "outputs": [
    {
     "name": "stdout",
     "output_type": "stream",
     "text": [
      "<class 'pandas.core.frame.DataFrame'>\n",
      "RangeIndex: 14149 entries, 0 to 14148\n",
      "Data columns (total 87 columns):\n",
      "date                                                  14149 non-null object\n",
      "final.output.concentrate_ag                           14148 non-null float64\n",
      "final.output.concentrate_pb                           14148 non-null float64\n",
      "final.output.concentrate_sol                          13938 non-null float64\n",
      "final.output.concentrate_au                           14149 non-null float64\n",
      "final.output.recovery                                 14149 non-null float64\n",
      "final.output.tail_ag                                  14149 non-null float64\n",
      "final.output.tail_pb                                  14049 non-null float64\n",
      "final.output.tail_sol                                 14144 non-null float64\n",
      "final.output.tail_au                                  14149 non-null float64\n",
      "primary_cleaner.input.sulfate                         14129 non-null float64\n",
      "primary_cleaner.input.depressant                      14117 non-null float64\n",
      "primary_cleaner.input.feed_size                       14149 non-null float64\n",
      "primary_cleaner.input.xanthate                        14049 non-null float64\n",
      "primary_cleaner.output.concentrate_ag                 14149 non-null float64\n",
      "primary_cleaner.output.concentrate_pb                 14063 non-null float64\n",
      "primary_cleaner.output.concentrate_sol                13863 non-null float64\n",
      "primary_cleaner.output.concentrate_au                 14149 non-null float64\n",
      "primary_cleaner.output.tail_ag                        14148 non-null float64\n",
      "primary_cleaner.output.tail_pb                        14134 non-null float64\n",
      "primary_cleaner.output.tail_sol                       14103 non-null float64\n",
      "primary_cleaner.output.tail_au                        14149 non-null float64\n",
      "primary_cleaner.state.floatbank8_a_air                14145 non-null float64\n",
      "primary_cleaner.state.floatbank8_a_level              14148 non-null float64\n",
      "primary_cleaner.state.floatbank8_b_air                14145 non-null float64\n",
      "primary_cleaner.state.floatbank8_b_level              14148 non-null float64\n",
      "primary_cleaner.state.floatbank8_c_air                14147 non-null float64\n",
      "primary_cleaner.state.floatbank8_c_level              14148 non-null float64\n",
      "primary_cleaner.state.floatbank8_d_air                14146 non-null float64\n",
      "primary_cleaner.state.floatbank8_d_level              14148 non-null float64\n",
      "rougher.calculation.sulfate_to_au_concentrate         14148 non-null float64\n",
      "rougher.calculation.floatbank10_sulfate_to_au_feed    14148 non-null float64\n",
      "rougher.calculation.floatbank11_sulfate_to_au_feed    14148 non-null float64\n",
      "rougher.calculation.au_pb_ratio                       14149 non-null float64\n",
      "rougher.input.feed_ag                                 14149 non-null float64\n",
      "rougher.input.feed_pb                                 14049 non-null float64\n",
      "rougher.input.feed_rate                               14141 non-null float64\n",
      "rougher.input.feed_size                               14005 non-null float64\n",
      "rougher.input.feed_sol                                14071 non-null float64\n",
      "rougher.input.feed_au                                 14149 non-null float64\n",
      "rougher.input.floatbank10_sulfate                     14120 non-null float64\n",
      "rougher.input.floatbank10_xanthate                    14141 non-null float64\n",
      "rougher.input.floatbank11_sulfate                     14113 non-null float64\n",
      "rougher.input.floatbank11_xanthate                    13721 non-null float64\n",
      "rougher.output.concentrate_ag                         14149 non-null float64\n",
      "rougher.output.concentrate_pb                         14149 non-null float64\n",
      "rougher.output.concentrate_sol                        14127 non-null float64\n",
      "rougher.output.concentrate_au                         14149 non-null float64\n",
      "rougher.output.recovery                               14149 non-null float64\n",
      "rougher.output.tail_ag                                14148 non-null float64\n",
      "rougher.output.tail_pb                                14149 non-null float64\n",
      "rougher.output.tail_sol                               14149 non-null float64\n",
      "rougher.output.tail_au                                14149 non-null float64\n",
      "rougher.state.floatbank10_a_air                       14148 non-null float64\n",
      "rougher.state.floatbank10_a_level                     14148 non-null float64\n",
      "rougher.state.floatbank10_b_air                       14148 non-null float64\n",
      "rougher.state.floatbank10_b_level                     14148 non-null float64\n",
      "rougher.state.floatbank10_c_air                       14148 non-null float64\n",
      "rougher.state.floatbank10_c_level                     14148 non-null float64\n",
      "rougher.state.floatbank10_d_air                       14149 non-null float64\n",
      "rougher.state.floatbank10_d_level                     14149 non-null float64\n",
      "rougher.state.floatbank10_e_air                       13713 non-null float64\n",
      "rougher.state.floatbank10_e_level                     14149 non-null float64\n",
      "rougher.state.floatbank10_f_air                       14149 non-null float64\n",
      "rougher.state.floatbank10_f_level                     14149 non-null float64\n",
      "secondary_cleaner.output.tail_ag                      14147 non-null float64\n",
      "secondary_cleaner.output.tail_pb                      14139 non-null float64\n",
      "secondary_cleaner.output.tail_sol                     12544 non-null float64\n",
      "secondary_cleaner.output.tail_au                      14149 non-null float64\n",
      "secondary_cleaner.state.floatbank2_a_air              13932 non-null float64\n",
      "secondary_cleaner.state.floatbank2_a_level            14148 non-null float64\n",
      "secondary_cleaner.state.floatbank2_b_air              14128 non-null float64\n",
      "secondary_cleaner.state.floatbank2_b_level            14148 non-null float64\n",
      "secondary_cleaner.state.floatbank3_a_air              14145 non-null float64\n",
      "secondary_cleaner.state.floatbank3_a_level            14148 non-null float64\n",
      "secondary_cleaner.state.floatbank3_b_air              14148 non-null float64\n",
      "secondary_cleaner.state.floatbank3_b_level            14148 non-null float64\n",
      "secondary_cleaner.state.floatbank4_a_air              14143 non-null float64\n",
      "secondary_cleaner.state.floatbank4_a_level            14148 non-null float64\n",
      "secondary_cleaner.state.floatbank4_b_air              14148 non-null float64\n",
      "secondary_cleaner.state.floatbank4_b_level            14148 non-null float64\n",
      "secondary_cleaner.state.floatbank5_a_air              14148 non-null float64\n",
      "secondary_cleaner.state.floatbank5_a_level            14148 non-null float64\n",
      "secondary_cleaner.state.floatbank5_b_air              14148 non-null float64\n",
      "secondary_cleaner.state.floatbank5_b_level            14148 non-null float64\n",
      "secondary_cleaner.state.floatbank6_a_air              14147 non-null float64\n",
      "secondary_cleaner.state.floatbank6_a_level            14148 non-null float64\n",
      "dtypes: float64(86), object(1)\n",
      "memory usage: 9.4+ MB\n"
     ]
    }
   ],
   "source": [
    "df_train.info()"
   ]
  },
  {
   "cell_type": "code",
   "execution_count": 8,
   "metadata": {},
   "outputs": [
    {
     "name": "stdout",
     "output_type": "stream",
     "text": [
      "<class 'pandas.core.frame.DataFrame'>\n",
      "RangeIndex: 5290 entries, 0 to 5289\n",
      "Data columns (total 53 columns):\n",
      "date                                          5290 non-null object\n",
      "primary_cleaner.input.sulfate                 5286 non-null float64\n",
      "primary_cleaner.input.depressant              5285 non-null float64\n",
      "primary_cleaner.input.feed_size               5290 non-null float64\n",
      "primary_cleaner.input.xanthate                5286 non-null float64\n",
      "primary_cleaner.state.floatbank8_a_air        5290 non-null float64\n",
      "primary_cleaner.state.floatbank8_a_level      5290 non-null float64\n",
      "primary_cleaner.state.floatbank8_b_air        5290 non-null float64\n",
      "primary_cleaner.state.floatbank8_b_level      5290 non-null float64\n",
      "primary_cleaner.state.floatbank8_c_air        5290 non-null float64\n",
      "primary_cleaner.state.floatbank8_c_level      5290 non-null float64\n",
      "primary_cleaner.state.floatbank8_d_air        5290 non-null float64\n",
      "primary_cleaner.state.floatbank8_d_level      5290 non-null float64\n",
      "rougher.input.feed_ag                         5290 non-null float64\n",
      "rougher.input.feed_pb                         5290 non-null float64\n",
      "rougher.input.feed_rate                       5287 non-null float64\n",
      "rougher.input.feed_size                       5289 non-null float64\n",
      "rougher.input.feed_sol                        5269 non-null float64\n",
      "rougher.input.feed_au                         5290 non-null float64\n",
      "rougher.input.floatbank10_sulfate             5285 non-null float64\n",
      "rougher.input.floatbank10_xanthate            5290 non-null float64\n",
      "rougher.input.floatbank11_sulfate             5282 non-null float64\n",
      "rougher.input.floatbank11_xanthate            5265 non-null float64\n",
      "rougher.state.floatbank10_a_air               5290 non-null float64\n",
      "rougher.state.floatbank10_a_level             5290 non-null float64\n",
      "rougher.state.floatbank10_b_air               5290 non-null float64\n",
      "rougher.state.floatbank10_b_level             5290 non-null float64\n",
      "rougher.state.floatbank10_c_air               5290 non-null float64\n",
      "rougher.state.floatbank10_c_level             5290 non-null float64\n",
      "rougher.state.floatbank10_d_air               5290 non-null float64\n",
      "rougher.state.floatbank10_d_level             5290 non-null float64\n",
      "rougher.state.floatbank10_e_air               5290 non-null float64\n",
      "rougher.state.floatbank10_e_level             5290 non-null float64\n",
      "rougher.state.floatbank10_f_air               5290 non-null float64\n",
      "rougher.state.floatbank10_f_level             5290 non-null float64\n",
      "secondary_cleaner.state.floatbank2_a_air      5287 non-null float64\n",
      "secondary_cleaner.state.floatbank2_a_level    5290 non-null float64\n",
      "secondary_cleaner.state.floatbank2_b_air      5288 non-null float64\n",
      "secondary_cleaner.state.floatbank2_b_level    5290 non-null float64\n",
      "secondary_cleaner.state.floatbank3_a_air      5281 non-null float64\n",
      "secondary_cleaner.state.floatbank3_a_level    5290 non-null float64\n",
      "secondary_cleaner.state.floatbank3_b_air      5290 non-null float64\n",
      "secondary_cleaner.state.floatbank3_b_level    5290 non-null float64\n",
      "secondary_cleaner.state.floatbank4_a_air      5290 non-null float64\n",
      "secondary_cleaner.state.floatbank4_a_level    5290 non-null float64\n",
      "secondary_cleaner.state.floatbank4_b_air      5290 non-null float64\n",
      "secondary_cleaner.state.floatbank4_b_level    5290 non-null float64\n",
      "secondary_cleaner.state.floatbank5_a_air      5290 non-null float64\n",
      "secondary_cleaner.state.floatbank5_a_level    5290 non-null float64\n",
      "secondary_cleaner.state.floatbank5_b_air      5290 non-null float64\n",
      "secondary_cleaner.state.floatbank5_b_level    5290 non-null float64\n",
      "secondary_cleaner.state.floatbank6_a_air      5290 non-null float64\n",
      "secondary_cleaner.state.floatbank6_a_level    5290 non-null float64\n",
      "dtypes: float64(52), object(1)\n",
      "memory usage: 2.1+ MB\n"
     ]
    }
   ],
   "source": [
    "df_test.info()"
   ]
  },
  {
   "cell_type": "code",
   "execution_count": 9,
   "metadata": {},
   "outputs": [
    {
     "name": "stdout",
     "output_type": "stream",
     "text": [
      "<class 'pandas.core.frame.DataFrame'>\n",
      "RangeIndex: 19439 entries, 0 to 19438\n",
      "Data columns (total 87 columns):\n",
      "date                                                  19439 non-null object\n",
      "final.output.concentrate_ag                           19438 non-null float64\n",
      "final.output.concentrate_pb                           19438 non-null float64\n",
      "final.output.concentrate_sol                          19228 non-null float64\n",
      "final.output.concentrate_au                           19439 non-null float64\n",
      "final.output.recovery                                 19439 non-null float64\n",
      "final.output.tail_ag                                  19438 non-null float64\n",
      "final.output.tail_pb                                  19338 non-null float64\n",
      "final.output.tail_sol                                 19433 non-null float64\n",
      "final.output.tail_au                                  19439 non-null float64\n",
      "primary_cleaner.input.sulfate                         19415 non-null float64\n",
      "primary_cleaner.input.depressant                      19402 non-null float64\n",
      "primary_cleaner.input.feed_size                       19439 non-null float64\n",
      "primary_cleaner.input.xanthate                        19335 non-null float64\n",
      "primary_cleaner.output.concentrate_ag                 19439 non-null float64\n",
      "primary_cleaner.output.concentrate_pb                 19323 non-null float64\n",
      "primary_cleaner.output.concentrate_sol                19069 non-null float64\n",
      "primary_cleaner.output.concentrate_au                 19439 non-null float64\n",
      "primary_cleaner.output.tail_ag                        19435 non-null float64\n",
      "primary_cleaner.output.tail_pb                        19418 non-null float64\n",
      "primary_cleaner.output.tail_sol                       19377 non-null float64\n",
      "primary_cleaner.output.tail_au                        19439 non-null float64\n",
      "primary_cleaner.state.floatbank8_a_air                19435 non-null float64\n",
      "primary_cleaner.state.floatbank8_a_level              19438 non-null float64\n",
      "primary_cleaner.state.floatbank8_b_air                19435 non-null float64\n",
      "primary_cleaner.state.floatbank8_b_level              19438 non-null float64\n",
      "primary_cleaner.state.floatbank8_c_air                19437 non-null float64\n",
      "primary_cleaner.state.floatbank8_c_level              19438 non-null float64\n",
      "primary_cleaner.state.floatbank8_d_air                19436 non-null float64\n",
      "primary_cleaner.state.floatbank8_d_level              19438 non-null float64\n",
      "rougher.calculation.sulfate_to_au_concentrate         19437 non-null float64\n",
      "rougher.calculation.floatbank10_sulfate_to_au_feed    19437 non-null float64\n",
      "rougher.calculation.floatbank11_sulfate_to_au_feed    19437 non-null float64\n",
      "rougher.calculation.au_pb_ratio                       19439 non-null float64\n",
      "rougher.input.feed_ag                                 19439 non-null float64\n",
      "rougher.input.feed_pb                                 19339 non-null float64\n",
      "rougher.input.feed_rate                               19428 non-null float64\n",
      "rougher.input.feed_size                               19294 non-null float64\n",
      "rougher.input.feed_sol                                19340 non-null float64\n",
      "rougher.input.feed_au                                 19439 non-null float64\n",
      "rougher.input.floatbank10_sulfate                     19405 non-null float64\n",
      "rougher.input.floatbank10_xanthate                    19431 non-null float64\n",
      "rougher.input.floatbank11_sulfate                     19395 non-null float64\n",
      "rougher.input.floatbank11_xanthate                    18986 non-null float64\n",
      "rougher.output.concentrate_ag                         19439 non-null float64\n",
      "rougher.output.concentrate_pb                         19439 non-null float64\n",
      "rougher.output.concentrate_sol                        19416 non-null float64\n",
      "rougher.output.concentrate_au                         19439 non-null float64\n",
      "rougher.output.recovery                               19439 non-null float64\n",
      "rougher.output.tail_ag                                19438 non-null float64\n",
      "rougher.output.tail_pb                                19439 non-null float64\n",
      "rougher.output.tail_sol                               19439 non-null float64\n",
      "rougher.output.tail_au                                19439 non-null float64\n",
      "rougher.state.floatbank10_a_air                       19438 non-null float64\n",
      "rougher.state.floatbank10_a_level                     19438 non-null float64\n",
      "rougher.state.floatbank10_b_air                       19438 non-null float64\n",
      "rougher.state.floatbank10_b_level                     19438 non-null float64\n",
      "rougher.state.floatbank10_c_air                       19438 non-null float64\n",
      "rougher.state.floatbank10_c_level                     19438 non-null float64\n",
      "rougher.state.floatbank10_d_air                       19439 non-null float64\n",
      "rougher.state.floatbank10_d_level                     19439 non-null float64\n",
      "rougher.state.floatbank10_e_air                       19003 non-null float64\n",
      "rougher.state.floatbank10_e_level                     19439 non-null float64\n",
      "rougher.state.floatbank10_f_air                       19439 non-null float64\n",
      "rougher.state.floatbank10_f_level                     19439 non-null float64\n",
      "secondary_cleaner.output.tail_ag                      19437 non-null float64\n",
      "secondary_cleaner.output.tail_pb                      19427 non-null float64\n",
      "secondary_cleaner.output.tail_sol                     17691 non-null float64\n",
      "secondary_cleaner.output.tail_au                      19439 non-null float64\n",
      "secondary_cleaner.state.floatbank2_a_air              19219 non-null float64\n",
      "secondary_cleaner.state.floatbank2_a_level            19438 non-null float64\n",
      "secondary_cleaner.state.floatbank2_b_air              19416 non-null float64\n",
      "secondary_cleaner.state.floatbank2_b_level            19438 non-null float64\n",
      "secondary_cleaner.state.floatbank3_a_air              19426 non-null float64\n",
      "secondary_cleaner.state.floatbank3_a_level            19438 non-null float64\n",
      "secondary_cleaner.state.floatbank3_b_air              19438 non-null float64\n",
      "secondary_cleaner.state.floatbank3_b_level            19438 non-null float64\n",
      "secondary_cleaner.state.floatbank4_a_air              19433 non-null float64\n",
      "secondary_cleaner.state.floatbank4_a_level            19438 non-null float64\n",
      "secondary_cleaner.state.floatbank4_b_air              19438 non-null float64\n",
      "secondary_cleaner.state.floatbank4_b_level            19438 non-null float64\n",
      "secondary_cleaner.state.floatbank5_a_air              19438 non-null float64\n",
      "secondary_cleaner.state.floatbank5_a_level            19438 non-null float64\n",
      "secondary_cleaner.state.floatbank5_b_air              19438 non-null float64\n",
      "secondary_cleaner.state.floatbank5_b_level            19438 non-null float64\n",
      "secondary_cleaner.state.floatbank6_a_air              19437 non-null float64\n",
      "secondary_cleaner.state.floatbank6_a_level            19438 non-null float64\n",
      "dtypes: float64(86), object(1)\n",
      "memory usage: 12.9+ MB\n"
     ]
    }
   ],
   "source": [
    "df_full.info()"
   ]
  },
  {
   "cell_type": "code",
   "execution_count": 10,
   "metadata": {},
   "outputs": [],
   "source": [
    "def proc(df):\n",
    "    df.columns = df.columns.str.replace(\".\", \"_\")\n",
    "    df['date'] = pd.to_datetime(df['date'])    "
   ]
  },
  {
   "cell_type": "code",
   "execution_count": 11,
   "metadata": {},
   "outputs": [],
   "source": [
    "proc(df_full)\n",
    "proc(df_test)\n",
    "#proc(df_train)"
   ]
  },
  {
   "cell_type": "code",
   "execution_count": 12,
   "metadata": {},
   "outputs": [],
   "source": [
    "df_train.columns = df_train.columns.str.replace(\".\", \"_\")"
   ]
  },
  {
   "cell_type": "code",
   "execution_count": 13,
   "metadata": {},
   "outputs": [
    {
     "data": {
      "text/plain": [
       "19439"
      ]
     },
     "execution_count": 13,
     "metadata": {},
     "output_type": "execute_result"
    }
   ],
   "source": [
    "len(df_test) + len(df_train)"
   ]
  },
  {
   "cell_type": "code",
   "execution_count": 14,
   "metadata": {},
   "outputs": [
    {
     "data": {
      "text/plain": [
       "19439"
      ]
     },
     "execution_count": 14,
     "metadata": {},
     "output_type": "execute_result"
    }
   ],
   "source": [
    "len(df_full)"
   ]
  },
  {
   "cell_type": "markdown",
   "metadata": {},
   "source": [
    "У нас имеется 3 датасета: полный и его деление на тестовую и тренировочную:  \n",
    "\n",
    "- в тестовом датасете 5 290 события 53 признака, нулевых значений в каждом столбце менее 1%\n",
    "- в тренировочном датасете 14149 события 87 признаков, по 6 признакам нулевых значений больше 1%, по признаку secondary_cleaner.output.tail_sol\t больше 8% нулевых значений\n",
    "- в полном датасете 19439 событий 87 признаков, по 6 признакам нулевых значений больше 1%, по признаку secondary_cleaner.output.tail_sol больше 8% нулевых значений\n",
    "\n",
    "В названиях столбцов избавились от точки, также в столбце date тип данных - объект изменили на datetime\n"
   ]
  },
  {
   "cell_type": "markdown",
   "metadata": {},
   "source": [
    "### Проверка расчёта эффективности обогащения"
   ]
  },
  {
   "cell_type": "markdown",
   "metadata": {},
   "source": [
    "Эффективность обогащения расчитывается по следующей формуле:  \n",
    "\n",
    "Recovery = (C * (F - T)) / (F * (C - T)) * 100  \n",
    "\n",
    "где:\n",
    "C — доля золота в концентрате после флотации/очистки;  \n",
    "F — доля золота в сырье/концентрате до флотации/очистки;  \n",
    "T — доля золота в отвальных хвостах после флотации/очистки  \n",
    "\n",
    "Значения этих признаков у нас хранятся в:  \n",
    "C - rougher_output_concentrate_au  \n",
    "F - rougher_input_feed_au  \n",
    "T - rougher_output_tail_au  "
   ]
  },
  {
   "cell_type": "code",
   "execution_count": 15,
   "metadata": {},
   "outputs": [],
   "source": [
    "df_recovery = df_train.assign(recovery = lambda x: (df_train['rougher_output_concentrate_au'] *\n",
    "                                     (df_train['rougher_input_feed_au'] - \n",
    "                                      df_train['rougher_output_tail_au'])) / \n",
    "                                     (df_train['rougher_input_feed_au'] * \n",
    "                                     (df_train['rougher_output_concentrate_au'] -\n",
    "                                      df_train['rougher_output_tail_au'])) * 100                                                                           \n",
    "                                     ).copy()"
   ]
  },
  {
   "cell_type": "code",
   "execution_count": 16,
   "metadata": {},
   "outputs": [
    {
     "data": {
      "text/html": [
       "<div>\n",
       "<style scoped>\n",
       "    .dataframe tbody tr th:only-of-type {\n",
       "        vertical-align: middle;\n",
       "    }\n",
       "\n",
       "    .dataframe tbody tr th {\n",
       "        vertical-align: top;\n",
       "    }\n",
       "\n",
       "    .dataframe thead th {\n",
       "        text-align: right;\n",
       "    }\n",
       "</style>\n",
       "<table border=\"1\" class=\"dataframe\">\n",
       "  <thead>\n",
       "    <tr style=\"text-align: right;\">\n",
       "      <th></th>\n",
       "      <th>recovery</th>\n",
       "      <th>rougher_output_recovery</th>\n",
       "    </tr>\n",
       "  </thead>\n",
       "  <tbody>\n",
       "    <tr>\n",
       "      <td>0</td>\n",
       "      <td>87.107763</td>\n",
       "      <td>87.107763</td>\n",
       "    </tr>\n",
       "    <tr>\n",
       "      <td>1</td>\n",
       "      <td>86.843261</td>\n",
       "      <td>86.843261</td>\n",
       "    </tr>\n",
       "    <tr>\n",
       "      <td>2</td>\n",
       "      <td>86.842308</td>\n",
       "      <td>86.842308</td>\n",
       "    </tr>\n",
       "    <tr>\n",
       "      <td>3</td>\n",
       "      <td>87.226430</td>\n",
       "      <td>87.226430</td>\n",
       "    </tr>\n",
       "    <tr>\n",
       "      <td>4</td>\n",
       "      <td>86.688794</td>\n",
       "      <td>86.688794</td>\n",
       "    </tr>\n",
       "    <tr>\n",
       "      <td>...</td>\n",
       "      <td>...</td>\n",
       "      <td>...</td>\n",
       "    </tr>\n",
       "    <tr>\n",
       "      <td>14144</td>\n",
       "      <td>89.574376</td>\n",
       "      <td>89.574376</td>\n",
       "    </tr>\n",
       "    <tr>\n",
       "      <td>14145</td>\n",
       "      <td>87.724007</td>\n",
       "      <td>87.724007</td>\n",
       "    </tr>\n",
       "    <tr>\n",
       "      <td>14146</td>\n",
       "      <td>88.890579</td>\n",
       "      <td>88.890579</td>\n",
       "    </tr>\n",
       "    <tr>\n",
       "      <td>14147</td>\n",
       "      <td>89.858126</td>\n",
       "      <td>89.858126</td>\n",
       "    </tr>\n",
       "    <tr>\n",
       "      <td>14148</td>\n",
       "      <td>89.514960</td>\n",
       "      <td>89.514960</td>\n",
       "    </tr>\n",
       "  </tbody>\n",
       "</table>\n",
       "<p>14149 rows × 2 columns</p>\n",
       "</div>"
      ],
      "text/plain": [
       "        recovery  rougher_output_recovery\n",
       "0      87.107763                87.107763\n",
       "1      86.843261                86.843261\n",
       "2      86.842308                86.842308\n",
       "3      87.226430                87.226430\n",
       "4      86.688794                86.688794\n",
       "...          ...                      ...\n",
       "14144  89.574376                89.574376\n",
       "14145  87.724007                87.724007\n",
       "14146  88.890579                88.890579\n",
       "14147  89.858126                89.858126\n",
       "14148  89.514960                89.514960\n",
       "\n",
       "[14149 rows x 2 columns]"
      ]
     },
     "execution_count": 16,
     "metadata": {},
     "output_type": "execute_result"
    }
   ],
   "source": [
    "df_recovery[['recovery', 'rougher_output_recovery']]"
   ]
  },
  {
   "cell_type": "code",
   "execution_count": 17,
   "metadata": {},
   "outputs": [
    {
     "data": {
      "text/plain": [
       "9.682896147825551e-15"
      ]
     },
     "execution_count": 17,
     "metadata": {},
     "output_type": "execute_result"
    }
   ],
   "source": [
    "mean_absolute_error(df_recovery['recovery'], df_recovery['rougher_output_recovery'])"
   ]
  },
  {
   "cell_type": "markdown",
   "metadata": {},
   "source": [
    "Значение эффективности обогащения изначально было подсчитано верно, что видно наглядно из таблицы и подтверждает исчезающе малое значение MAE"
   ]
  },
  {
   "cell_type": "markdown",
   "metadata": {},
   "source": [
    "### Анализ признаков недоступных в тестовой выборке"
   ]
  },
  {
   "cell_type": "code",
   "execution_count": 18,
   "metadata": {},
   "outputs": [],
   "source": [
    "fg = df_train.drop(df_test.columns, axis = 1).copy()"
   ]
  },
  {
   "cell_type": "code",
   "execution_count": 19,
   "metadata": {},
   "outputs": [
    {
     "data": {
      "text/html": [
       "<div>\n",
       "<style scoped>\n",
       "    .dataframe tbody tr th:only-of-type {\n",
       "        vertical-align: middle;\n",
       "    }\n",
       "\n",
       "    .dataframe tbody tr th {\n",
       "        vertical-align: top;\n",
       "    }\n",
       "\n",
       "    .dataframe thead th {\n",
       "        text-align: right;\n",
       "    }\n",
       "</style>\n",
       "<table border=\"1\" class=\"dataframe\">\n",
       "  <thead>\n",
       "    <tr style=\"text-align: right;\">\n",
       "      <th></th>\n",
       "      <th>final_output_concentrate_ag</th>\n",
       "      <th>final_output_concentrate_pb</th>\n",
       "      <th>final_output_concentrate_sol</th>\n",
       "      <th>final_output_concentrate_au</th>\n",
       "      <th>final_output_recovery</th>\n",
       "      <th>final_output_tail_ag</th>\n",
       "      <th>final_output_tail_pb</th>\n",
       "      <th>final_output_tail_sol</th>\n",
       "      <th>final_output_tail_au</th>\n",
       "      <th>primary_cleaner_output_concentrate_ag</th>\n",
       "      <th>...</th>\n",
       "      <th>rougher_output_concentrate_au</th>\n",
       "      <th>rougher_output_recovery</th>\n",
       "      <th>rougher_output_tail_ag</th>\n",
       "      <th>rougher_output_tail_pb</th>\n",
       "      <th>rougher_output_tail_sol</th>\n",
       "      <th>rougher_output_tail_au</th>\n",
       "      <th>secondary_cleaner_output_tail_ag</th>\n",
       "      <th>secondary_cleaner_output_tail_pb</th>\n",
       "      <th>secondary_cleaner_output_tail_sol</th>\n",
       "      <th>secondary_cleaner_output_tail_au</th>\n",
       "    </tr>\n",
       "  </thead>\n",
       "  <tbody>\n",
       "    <tr>\n",
       "      <td>0</td>\n",
       "      <td>6.055403</td>\n",
       "      <td>9.889648</td>\n",
       "      <td>5.507324</td>\n",
       "      <td>42.192020</td>\n",
       "      <td>70.541216</td>\n",
       "      <td>10.411962</td>\n",
       "      <td>0.895447</td>\n",
       "      <td>16.904297</td>\n",
       "      <td>2.143149</td>\n",
       "      <td>8.547551</td>\n",
       "      <td>...</td>\n",
       "      <td>19.793808</td>\n",
       "      <td>87.107763</td>\n",
       "      <td>5.008018</td>\n",
       "      <td>0.508728</td>\n",
       "      <td>19.154297</td>\n",
       "      <td>1.170244</td>\n",
       "      <td>14.500184</td>\n",
       "      <td>4.694824</td>\n",
       "      <td>8.764648</td>\n",
       "      <td>2.606185</td>\n",
       "    </tr>\n",
       "    <tr>\n",
       "      <td>1</td>\n",
       "      <td>6.029369</td>\n",
       "      <td>9.968944</td>\n",
       "      <td>5.257781</td>\n",
       "      <td>42.701629</td>\n",
       "      <td>69.266198</td>\n",
       "      <td>10.462676</td>\n",
       "      <td>0.927452</td>\n",
       "      <td>16.634514</td>\n",
       "      <td>2.224930</td>\n",
       "      <td>8.558743</td>\n",
       "      <td>...</td>\n",
       "      <td>20.050975</td>\n",
       "      <td>86.843261</td>\n",
       "      <td>4.955378</td>\n",
       "      <td>0.536689</td>\n",
       "      <td>18.965234</td>\n",
       "      <td>1.184827</td>\n",
       "      <td>14.265474</td>\n",
       "      <td>4.592547</td>\n",
       "      <td>9.001494</td>\n",
       "      <td>2.488248</td>\n",
       "    </tr>\n",
       "    <tr>\n",
       "      <td>2</td>\n",
       "      <td>6.055926</td>\n",
       "      <td>10.213995</td>\n",
       "      <td>5.383759</td>\n",
       "      <td>42.657501</td>\n",
       "      <td>68.116445</td>\n",
       "      <td>10.507046</td>\n",
       "      <td>0.953716</td>\n",
       "      <td>16.208849</td>\n",
       "      <td>2.257889</td>\n",
       "      <td>8.603505</td>\n",
       "      <td>...</td>\n",
       "      <td>19.737170</td>\n",
       "      <td>86.842308</td>\n",
       "      <td>4.843460</td>\n",
       "      <td>0.546416</td>\n",
       "      <td>18.808533</td>\n",
       "      <td>1.162562</td>\n",
       "      <td>14.115662</td>\n",
       "      <td>4.624775</td>\n",
       "      <td>8.842896</td>\n",
       "      <td>2.458187</td>\n",
       "    </tr>\n",
       "    <tr>\n",
       "      <td>3</td>\n",
       "      <td>6.047977</td>\n",
       "      <td>9.977019</td>\n",
       "      <td>4.858634</td>\n",
       "      <td>42.689819</td>\n",
       "      <td>68.347543</td>\n",
       "      <td>10.422762</td>\n",
       "      <td>0.883763</td>\n",
       "      <td>16.532835</td>\n",
       "      <td>2.146849</td>\n",
       "      <td>7.221879</td>\n",
       "      <td>...</td>\n",
       "      <td>19.320810</td>\n",
       "      <td>87.226430</td>\n",
       "      <td>4.655288</td>\n",
       "      <td>0.542525</td>\n",
       "      <td>19.330200</td>\n",
       "      <td>1.079755</td>\n",
       "      <td>13.732071</td>\n",
       "      <td>4.482453</td>\n",
       "      <td>9.122857</td>\n",
       "      <td>2.322062</td>\n",
       "    </tr>\n",
       "    <tr>\n",
       "      <td>4</td>\n",
       "      <td>6.148599</td>\n",
       "      <td>10.142511</td>\n",
       "      <td>4.939416</td>\n",
       "      <td>42.774141</td>\n",
       "      <td>66.927016</td>\n",
       "      <td>10.360302</td>\n",
       "      <td>0.792826</td>\n",
       "      <td>16.525686</td>\n",
       "      <td>2.055292</td>\n",
       "      <td>9.089428</td>\n",
       "      <td>...</td>\n",
       "      <td>19.216101</td>\n",
       "      <td>86.688794</td>\n",
       "      <td>4.552800</td>\n",
       "      <td>0.515438</td>\n",
       "      <td>19.267422</td>\n",
       "      <td>1.012642</td>\n",
       "      <td>14.079996</td>\n",
       "      <td>4.470737</td>\n",
       "      <td>8.871028</td>\n",
       "      <td>2.330448</td>\n",
       "    </tr>\n",
       "    <tr>\n",
       "      <td>...</td>\n",
       "      <td>...</td>\n",
       "      <td>...</td>\n",
       "      <td>...</td>\n",
       "      <td>...</td>\n",
       "      <td>...</td>\n",
       "      <td>...</td>\n",
       "      <td>...</td>\n",
       "      <td>...</td>\n",
       "      <td>...</td>\n",
       "      <td>...</td>\n",
       "      <td>...</td>\n",
       "      <td>...</td>\n",
       "      <td>...</td>\n",
       "      <td>...</td>\n",
       "      <td>...</td>\n",
       "      <td>...</td>\n",
       "      <td>...</td>\n",
       "      <td>...</td>\n",
       "      <td>...</td>\n",
       "      <td>...</td>\n",
       "      <td>...</td>\n",
       "    </tr>\n",
       "    <tr>\n",
       "      <td>14144</td>\n",
       "      <td>3.224920</td>\n",
       "      <td>11.356233</td>\n",
       "      <td>6.803482</td>\n",
       "      <td>46.713954</td>\n",
       "      <td>73.755150</td>\n",
       "      <td>8.769645</td>\n",
       "      <td>3.141541</td>\n",
       "      <td>10.403181</td>\n",
       "      <td>1.529220</td>\n",
       "      <td>6.559174</td>\n",
       "      <td>...</td>\n",
       "      <td>18.603550</td>\n",
       "      <td>89.574376</td>\n",
       "      <td>4.207261</td>\n",
       "      <td>0.612935</td>\n",
       "      <td>16.666590</td>\n",
       "      <td>0.748633</td>\n",
       "      <td>0.000000</td>\n",
       "      <td>0.000000</td>\n",
       "      <td>0.000000</td>\n",
       "      <td>0.000000</td>\n",
       "    </tr>\n",
       "    <tr>\n",
       "      <td>14145</td>\n",
       "      <td>3.195978</td>\n",
       "      <td>11.349355</td>\n",
       "      <td>6.862249</td>\n",
       "      <td>46.866780</td>\n",
       "      <td>69.049291</td>\n",
       "      <td>8.897321</td>\n",
       "      <td>3.130493</td>\n",
       "      <td>10.549470</td>\n",
       "      <td>1.612542</td>\n",
       "      <td>6.612376</td>\n",
       "      <td>...</td>\n",
       "      <td>18.441436</td>\n",
       "      <td>87.724007</td>\n",
       "      <td>4.177943</td>\n",
       "      <td>0.650557</td>\n",
       "      <td>16.960649</td>\n",
       "      <td>0.771582</td>\n",
       "      <td>0.000000</td>\n",
       "      <td>0.000000</td>\n",
       "      <td>0.000000</td>\n",
       "      <td>0.000000</td>\n",
       "    </tr>\n",
       "    <tr>\n",
       "      <td>14146</td>\n",
       "      <td>3.109998</td>\n",
       "      <td>11.434366</td>\n",
       "      <td>6.886013</td>\n",
       "      <td>46.795691</td>\n",
       "      <td>67.002189</td>\n",
       "      <td>8.529606</td>\n",
       "      <td>2.911418</td>\n",
       "      <td>11.115147</td>\n",
       "      <td>1.596616</td>\n",
       "      <td>7.128896</td>\n",
       "      <td>...</td>\n",
       "      <td>15.111231</td>\n",
       "      <td>88.890579</td>\n",
       "      <td>4.050010</td>\n",
       "      <td>0.636095</td>\n",
       "      <td>18.323080</td>\n",
       "      <td>0.685059</td>\n",
       "      <td>0.000000</td>\n",
       "      <td>0.000000</td>\n",
       "      <td>0.000000</td>\n",
       "      <td>0.000000</td>\n",
       "    </tr>\n",
       "    <tr>\n",
       "      <td>14147</td>\n",
       "      <td>3.367241</td>\n",
       "      <td>11.625587</td>\n",
       "      <td>6.799433</td>\n",
       "      <td>46.408188</td>\n",
       "      <td>65.523246</td>\n",
       "      <td>8.777171</td>\n",
       "      <td>2.819214</td>\n",
       "      <td>10.463847</td>\n",
       "      <td>1.602879</td>\n",
       "      <td>7.490444</td>\n",
       "      <td>...</td>\n",
       "      <td>17.834772</td>\n",
       "      <td>89.858126</td>\n",
       "      <td>3.902494</td>\n",
       "      <td>0.625609</td>\n",
       "      <td>19.423740</td>\n",
       "      <td>0.567130</td>\n",
       "      <td>0.000000</td>\n",
       "      <td>0.000000</td>\n",
       "      <td>0.000000</td>\n",
       "      <td>0.000000</td>\n",
       "    </tr>\n",
       "    <tr>\n",
       "      <td>14148</td>\n",
       "      <td>3.598375</td>\n",
       "      <td>11.737832</td>\n",
       "      <td>6.717509</td>\n",
       "      <td>46.299438</td>\n",
       "      <td>70.281454</td>\n",
       "      <td>8.406690</td>\n",
       "      <td>2.517518</td>\n",
       "      <td>10.652193</td>\n",
       "      <td>1.389434</td>\n",
       "      <td>7.537584</td>\n",
       "      <td>...</td>\n",
       "      <td>17.804134</td>\n",
       "      <td>89.514960</td>\n",
       "      <td>3.925473</td>\n",
       "      <td>0.638677</td>\n",
       "      <td>19.946673</td>\n",
       "      <td>0.586439</td>\n",
       "      <td>0.000000</td>\n",
       "      <td>0.000000</td>\n",
       "      <td>0.000000</td>\n",
       "      <td>0.000000</td>\n",
       "    </tr>\n",
       "  </tbody>\n",
       "</table>\n",
       "<p>14149 rows × 34 columns</p>\n",
       "</div>"
      ],
      "text/plain": [
       "       final_output_concentrate_ag  final_output_concentrate_pb  \\\n",
       "0                         6.055403                     9.889648   \n",
       "1                         6.029369                     9.968944   \n",
       "2                         6.055926                    10.213995   \n",
       "3                         6.047977                     9.977019   \n",
       "4                         6.148599                    10.142511   \n",
       "...                            ...                          ...   \n",
       "14144                     3.224920                    11.356233   \n",
       "14145                     3.195978                    11.349355   \n",
       "14146                     3.109998                    11.434366   \n",
       "14147                     3.367241                    11.625587   \n",
       "14148                     3.598375                    11.737832   \n",
       "\n",
       "       final_output_concentrate_sol  final_output_concentrate_au  \\\n",
       "0                          5.507324                    42.192020   \n",
       "1                          5.257781                    42.701629   \n",
       "2                          5.383759                    42.657501   \n",
       "3                          4.858634                    42.689819   \n",
       "4                          4.939416                    42.774141   \n",
       "...                             ...                          ...   \n",
       "14144                      6.803482                    46.713954   \n",
       "14145                      6.862249                    46.866780   \n",
       "14146                      6.886013                    46.795691   \n",
       "14147                      6.799433                    46.408188   \n",
       "14148                      6.717509                    46.299438   \n",
       "\n",
       "       final_output_recovery  final_output_tail_ag  final_output_tail_pb  \\\n",
       "0                  70.541216             10.411962              0.895447   \n",
       "1                  69.266198             10.462676              0.927452   \n",
       "2                  68.116445             10.507046              0.953716   \n",
       "3                  68.347543             10.422762              0.883763   \n",
       "4                  66.927016             10.360302              0.792826   \n",
       "...                      ...                   ...                   ...   \n",
       "14144              73.755150              8.769645              3.141541   \n",
       "14145              69.049291              8.897321              3.130493   \n",
       "14146              67.002189              8.529606              2.911418   \n",
       "14147              65.523246              8.777171              2.819214   \n",
       "14148              70.281454              8.406690              2.517518   \n",
       "\n",
       "       final_output_tail_sol  final_output_tail_au  \\\n",
       "0                  16.904297              2.143149   \n",
       "1                  16.634514              2.224930   \n",
       "2                  16.208849              2.257889   \n",
       "3                  16.532835              2.146849   \n",
       "4                  16.525686              2.055292   \n",
       "...                      ...                   ...   \n",
       "14144              10.403181              1.529220   \n",
       "14145              10.549470              1.612542   \n",
       "14146              11.115147              1.596616   \n",
       "14147              10.463847              1.602879   \n",
       "14148              10.652193              1.389434   \n",
       "\n",
       "       primary_cleaner_output_concentrate_ag  ...  \\\n",
       "0                                   8.547551  ...   \n",
       "1                                   8.558743  ...   \n",
       "2                                   8.603505  ...   \n",
       "3                                   7.221879  ...   \n",
       "4                                   9.089428  ...   \n",
       "...                                      ...  ...   \n",
       "14144                               6.559174  ...   \n",
       "14145                               6.612376  ...   \n",
       "14146                               7.128896  ...   \n",
       "14147                               7.490444  ...   \n",
       "14148                               7.537584  ...   \n",
       "\n",
       "       rougher_output_concentrate_au  rougher_output_recovery  \\\n",
       "0                          19.793808                87.107763   \n",
       "1                          20.050975                86.843261   \n",
       "2                          19.737170                86.842308   \n",
       "3                          19.320810                87.226430   \n",
       "4                          19.216101                86.688794   \n",
       "...                              ...                      ...   \n",
       "14144                      18.603550                89.574376   \n",
       "14145                      18.441436                87.724007   \n",
       "14146                      15.111231                88.890579   \n",
       "14147                      17.834772                89.858126   \n",
       "14148                      17.804134                89.514960   \n",
       "\n",
       "       rougher_output_tail_ag  rougher_output_tail_pb  \\\n",
       "0                    5.008018                0.508728   \n",
       "1                    4.955378                0.536689   \n",
       "2                    4.843460                0.546416   \n",
       "3                    4.655288                0.542525   \n",
       "4                    4.552800                0.515438   \n",
       "...                       ...                     ...   \n",
       "14144                4.207261                0.612935   \n",
       "14145                4.177943                0.650557   \n",
       "14146                4.050010                0.636095   \n",
       "14147                3.902494                0.625609   \n",
       "14148                3.925473                0.638677   \n",
       "\n",
       "       rougher_output_tail_sol  rougher_output_tail_au  \\\n",
       "0                    19.154297                1.170244   \n",
       "1                    18.965234                1.184827   \n",
       "2                    18.808533                1.162562   \n",
       "3                    19.330200                1.079755   \n",
       "4                    19.267422                1.012642   \n",
       "...                        ...                     ...   \n",
       "14144                16.666590                0.748633   \n",
       "14145                16.960649                0.771582   \n",
       "14146                18.323080                0.685059   \n",
       "14147                19.423740                0.567130   \n",
       "14148                19.946673                0.586439   \n",
       "\n",
       "       secondary_cleaner_output_tail_ag  secondary_cleaner_output_tail_pb  \\\n",
       "0                             14.500184                          4.694824   \n",
       "1                             14.265474                          4.592547   \n",
       "2                             14.115662                          4.624775   \n",
       "3                             13.732071                          4.482453   \n",
       "4                             14.079996                          4.470737   \n",
       "...                                 ...                               ...   \n",
       "14144                          0.000000                          0.000000   \n",
       "14145                          0.000000                          0.000000   \n",
       "14146                          0.000000                          0.000000   \n",
       "14147                          0.000000                          0.000000   \n",
       "14148                          0.000000                          0.000000   \n",
       "\n",
       "       secondary_cleaner_output_tail_sol  secondary_cleaner_output_tail_au  \n",
       "0                               8.764648                          2.606185  \n",
       "1                               9.001494                          2.488248  \n",
       "2                               8.842896                          2.458187  \n",
       "3                               9.122857                          2.322062  \n",
       "4                               8.871028                          2.330448  \n",
       "...                                  ...                               ...  \n",
       "14144                           0.000000                          0.000000  \n",
       "14145                           0.000000                          0.000000  \n",
       "14146                           0.000000                          0.000000  \n",
       "14147                           0.000000                          0.000000  \n",
       "14148                           0.000000                          0.000000  \n",
       "\n",
       "[14149 rows x 34 columns]"
      ]
     },
     "execution_count": 19,
     "metadata": {},
     "output_type": "execute_result"
    }
   ],
   "source": [
    "fg"
   ]
  },
  {
   "cell_type": "code",
   "execution_count": 20,
   "metadata": {},
   "outputs": [
    {
     "data": {
      "text/plain": [
       "Index(['final_output_concentrate_ag', 'final_output_concentrate_pb',\n",
       "       'final_output_concentrate_sol', 'final_output_concentrate_au',\n",
       "       'final_output_recovery', 'final_output_tail_ag', 'final_output_tail_pb',\n",
       "       'final_output_tail_sol', 'final_output_tail_au',\n",
       "       'primary_cleaner_output_concentrate_ag',\n",
       "       'primary_cleaner_output_concentrate_pb',\n",
       "       'primary_cleaner_output_concentrate_sol',\n",
       "       'primary_cleaner_output_concentrate_au',\n",
       "       'primary_cleaner_output_tail_ag', 'primary_cleaner_output_tail_pb',\n",
       "       'primary_cleaner_output_tail_sol', 'primary_cleaner_output_tail_au',\n",
       "       'rougher_calculation_sulfate_to_au_concentrate',\n",
       "       'rougher_calculation_floatbank10_sulfate_to_au_feed',\n",
       "       'rougher_calculation_floatbank11_sulfate_to_au_feed',\n",
       "       'rougher_calculation_au_pb_ratio', 'rougher_output_concentrate_ag',\n",
       "       'rougher_output_concentrate_pb', 'rougher_output_concentrate_sol',\n",
       "       'rougher_output_concentrate_au', 'rougher_output_recovery',\n",
       "       'rougher_output_tail_ag', 'rougher_output_tail_pb',\n",
       "       'rougher_output_tail_sol', 'rougher_output_tail_au',\n",
       "       'secondary_cleaner_output_tail_ag', 'secondary_cleaner_output_tail_pb',\n",
       "       'secondary_cleaner_output_tail_sol',\n",
       "       'secondary_cleaner_output_tail_au'],\n",
       "      dtype='object')"
      ]
     },
     "execution_count": 20,
     "metadata": {},
     "output_type": "execute_result"
    }
   ],
   "source": [
    "fg.columns"
   ]
  },
  {
   "cell_type": "markdown",
   "metadata": {},
   "source": [
    "В тестовой выборке отсутствуют финальные концентрации веществ на каждом этапе.\n",
    "Исходя из этого, для обучения модели эти признаки также необходимо будет исключить, а для проверки качества модели их необходимо будет добавить в тестовую из полного датасета."
   ]
  },
  {
   "cell_type": "markdown",
   "metadata": {},
   "source": [
    "### Предобработка данных"
   ]
  },
  {
   "cell_type": "markdown",
   "metadata": {},
   "source": [
    "Дата и время уникальны для каждого случая, сделаем их индексом в каждом датасете, чтобы можно было корректно и удобно их сопоставить"
   ]
  },
  {
   "cell_type": "code",
   "execution_count": 21,
   "metadata": {},
   "outputs": [],
   "source": [
    "df_test = df_test.set_index('date')\n",
    "df_full = df_full.set_index('date')"
   ]
  },
  {
   "cell_type": "markdown",
   "metadata": {},
   "source": [
    "df_train.index = df_train['date']"
   ]
  },
  {
   "cell_type": "code",
   "execution_count": 22,
   "metadata": {},
   "outputs": [
    {
     "data": {
      "text/html": [
       "<div>\n",
       "<style scoped>\n",
       "    .dataframe tbody tr th:only-of-type {\n",
       "        vertical-align: middle;\n",
       "    }\n",
       "\n",
       "    .dataframe tbody tr th {\n",
       "        vertical-align: top;\n",
       "    }\n",
       "\n",
       "    .dataframe thead th {\n",
       "        text-align: right;\n",
       "    }\n",
       "</style>\n",
       "<table border=\"1\" class=\"dataframe\">\n",
       "  <thead>\n",
       "    <tr style=\"text-align: right;\">\n",
       "      <th></th>\n",
       "      <th>primary_cleaner_input_sulfate</th>\n",
       "      <th>primary_cleaner_input_depressant</th>\n",
       "      <th>primary_cleaner_input_feed_size</th>\n",
       "      <th>primary_cleaner_input_xanthate</th>\n",
       "      <th>primary_cleaner_state_floatbank8_a_air</th>\n",
       "      <th>primary_cleaner_state_floatbank8_a_level</th>\n",
       "      <th>primary_cleaner_state_floatbank8_b_air</th>\n",
       "      <th>primary_cleaner_state_floatbank8_b_level</th>\n",
       "      <th>primary_cleaner_state_floatbank8_c_air</th>\n",
       "      <th>primary_cleaner_state_floatbank8_c_level</th>\n",
       "      <th>...</th>\n",
       "      <th>secondary_cleaner_state_floatbank4_a_air</th>\n",
       "      <th>secondary_cleaner_state_floatbank4_a_level</th>\n",
       "      <th>secondary_cleaner_state_floatbank4_b_air</th>\n",
       "      <th>secondary_cleaner_state_floatbank4_b_level</th>\n",
       "      <th>secondary_cleaner_state_floatbank5_a_air</th>\n",
       "      <th>secondary_cleaner_state_floatbank5_a_level</th>\n",
       "      <th>secondary_cleaner_state_floatbank5_b_air</th>\n",
       "      <th>secondary_cleaner_state_floatbank5_b_level</th>\n",
       "      <th>secondary_cleaner_state_floatbank6_a_air</th>\n",
       "      <th>secondary_cleaner_state_floatbank6_a_level</th>\n",
       "    </tr>\n",
       "    <tr>\n",
       "      <th>date</th>\n",
       "      <th></th>\n",
       "      <th></th>\n",
       "      <th></th>\n",
       "      <th></th>\n",
       "      <th></th>\n",
       "      <th></th>\n",
       "      <th></th>\n",
       "      <th></th>\n",
       "      <th></th>\n",
       "      <th></th>\n",
       "      <th></th>\n",
       "      <th></th>\n",
       "      <th></th>\n",
       "      <th></th>\n",
       "      <th></th>\n",
       "      <th></th>\n",
       "      <th></th>\n",
       "      <th></th>\n",
       "      <th></th>\n",
       "      <th></th>\n",
       "      <th></th>\n",
       "    </tr>\n",
       "  </thead>\n",
       "  <tbody>\n",
       "    <tr>\n",
       "      <td>2016-09-01 00:59:59</td>\n",
       "      <td>210.800909</td>\n",
       "      <td>14.993118</td>\n",
       "      <td>8.080000</td>\n",
       "      <td>1.005021</td>\n",
       "      <td>1398.981301</td>\n",
       "      <td>-500.225577</td>\n",
       "      <td>1399.144926</td>\n",
       "      <td>-499.919735</td>\n",
       "      <td>1400.102998</td>\n",
       "      <td>-500.704369</td>\n",
       "      <td>...</td>\n",
       "      <td>12.023554</td>\n",
       "      <td>-497.795834</td>\n",
       "      <td>8.016656</td>\n",
       "      <td>-501.289139</td>\n",
       "      <td>7.946562</td>\n",
       "      <td>-432.317850</td>\n",
       "      <td>4.872511</td>\n",
       "      <td>-500.037437</td>\n",
       "      <td>26.705889</td>\n",
       "      <td>-499.709414</td>\n",
       "    </tr>\n",
       "    <tr>\n",
       "      <td>2016-09-01 01:59:59</td>\n",
       "      <td>215.392455</td>\n",
       "      <td>14.987471</td>\n",
       "      <td>8.080000</td>\n",
       "      <td>0.990469</td>\n",
       "      <td>1398.777912</td>\n",
       "      <td>-500.057435</td>\n",
       "      <td>1398.055362</td>\n",
       "      <td>-499.778182</td>\n",
       "      <td>1396.151033</td>\n",
       "      <td>-499.240168</td>\n",
       "      <td>...</td>\n",
       "      <td>12.058140</td>\n",
       "      <td>-498.695773</td>\n",
       "      <td>8.130979</td>\n",
       "      <td>-499.634209</td>\n",
       "      <td>7.958270</td>\n",
       "      <td>-525.839648</td>\n",
       "      <td>4.878850</td>\n",
       "      <td>-500.162375</td>\n",
       "      <td>25.019940</td>\n",
       "      <td>-499.819438</td>\n",
       "    </tr>\n",
       "    <tr>\n",
       "      <td>2016-09-01 02:59:59</td>\n",
       "      <td>215.259946</td>\n",
       "      <td>12.884934</td>\n",
       "      <td>7.786667</td>\n",
       "      <td>0.996043</td>\n",
       "      <td>1398.493666</td>\n",
       "      <td>-500.868360</td>\n",
       "      <td>1398.860436</td>\n",
       "      <td>-499.764529</td>\n",
       "      <td>1398.075709</td>\n",
       "      <td>-502.151509</td>\n",
       "      <td>...</td>\n",
       "      <td>11.962366</td>\n",
       "      <td>-498.767484</td>\n",
       "      <td>8.096893</td>\n",
       "      <td>-500.827423</td>\n",
       "      <td>8.071056</td>\n",
       "      <td>-500.801673</td>\n",
       "      <td>4.905125</td>\n",
       "      <td>-499.828510</td>\n",
       "      <td>24.994862</td>\n",
       "      <td>-500.622559</td>\n",
       "    </tr>\n",
       "    <tr>\n",
       "      <td>2016-09-01 03:59:59</td>\n",
       "      <td>215.336236</td>\n",
       "      <td>12.006805</td>\n",
       "      <td>7.640000</td>\n",
       "      <td>0.863514</td>\n",
       "      <td>1399.618111</td>\n",
       "      <td>-498.863574</td>\n",
       "      <td>1397.440120</td>\n",
       "      <td>-499.211024</td>\n",
       "      <td>1400.129303</td>\n",
       "      <td>-498.355873</td>\n",
       "      <td>...</td>\n",
       "      <td>12.033091</td>\n",
       "      <td>-498.350935</td>\n",
       "      <td>8.074946</td>\n",
       "      <td>-499.474407</td>\n",
       "      <td>7.897085</td>\n",
       "      <td>-500.868509</td>\n",
       "      <td>4.931400</td>\n",
       "      <td>-499.963623</td>\n",
       "      <td>24.948919</td>\n",
       "      <td>-498.709987</td>\n",
       "    </tr>\n",
       "    <tr>\n",
       "      <td>2016-09-01 04:59:59</td>\n",
       "      <td>199.099327</td>\n",
       "      <td>10.682530</td>\n",
       "      <td>7.530000</td>\n",
       "      <td>0.805575</td>\n",
       "      <td>1401.268123</td>\n",
       "      <td>-500.808305</td>\n",
       "      <td>1398.128818</td>\n",
       "      <td>-499.504543</td>\n",
       "      <td>1402.172226</td>\n",
       "      <td>-500.810606</td>\n",
       "      <td>...</td>\n",
       "      <td>12.025367</td>\n",
       "      <td>-500.786497</td>\n",
       "      <td>8.054678</td>\n",
       "      <td>-500.397500</td>\n",
       "      <td>8.107890</td>\n",
       "      <td>-509.526725</td>\n",
       "      <td>4.957674</td>\n",
       "      <td>-500.360026</td>\n",
       "      <td>25.003331</td>\n",
       "      <td>-500.856333</td>\n",
       "    </tr>\n",
       "  </tbody>\n",
       "</table>\n",
       "<p>5 rows × 52 columns</p>\n",
       "</div>"
      ],
      "text/plain": [
       "                     primary_cleaner_input_sulfate  \\\n",
       "date                                                 \n",
       "2016-09-01 00:59:59                     210.800909   \n",
       "2016-09-01 01:59:59                     215.392455   \n",
       "2016-09-01 02:59:59                     215.259946   \n",
       "2016-09-01 03:59:59                     215.336236   \n",
       "2016-09-01 04:59:59                     199.099327   \n",
       "\n",
       "                     primary_cleaner_input_depressant  \\\n",
       "date                                                    \n",
       "2016-09-01 00:59:59                         14.993118   \n",
       "2016-09-01 01:59:59                         14.987471   \n",
       "2016-09-01 02:59:59                         12.884934   \n",
       "2016-09-01 03:59:59                         12.006805   \n",
       "2016-09-01 04:59:59                         10.682530   \n",
       "\n",
       "                     primary_cleaner_input_feed_size  \\\n",
       "date                                                   \n",
       "2016-09-01 00:59:59                         8.080000   \n",
       "2016-09-01 01:59:59                         8.080000   \n",
       "2016-09-01 02:59:59                         7.786667   \n",
       "2016-09-01 03:59:59                         7.640000   \n",
       "2016-09-01 04:59:59                         7.530000   \n",
       "\n",
       "                     primary_cleaner_input_xanthate  \\\n",
       "date                                                  \n",
       "2016-09-01 00:59:59                        1.005021   \n",
       "2016-09-01 01:59:59                        0.990469   \n",
       "2016-09-01 02:59:59                        0.996043   \n",
       "2016-09-01 03:59:59                        0.863514   \n",
       "2016-09-01 04:59:59                        0.805575   \n",
       "\n",
       "                     primary_cleaner_state_floatbank8_a_air  \\\n",
       "date                                                          \n",
       "2016-09-01 00:59:59                             1398.981301   \n",
       "2016-09-01 01:59:59                             1398.777912   \n",
       "2016-09-01 02:59:59                             1398.493666   \n",
       "2016-09-01 03:59:59                             1399.618111   \n",
       "2016-09-01 04:59:59                             1401.268123   \n",
       "\n",
       "                     primary_cleaner_state_floatbank8_a_level  \\\n",
       "date                                                            \n",
       "2016-09-01 00:59:59                               -500.225577   \n",
       "2016-09-01 01:59:59                               -500.057435   \n",
       "2016-09-01 02:59:59                               -500.868360   \n",
       "2016-09-01 03:59:59                               -498.863574   \n",
       "2016-09-01 04:59:59                               -500.808305   \n",
       "\n",
       "                     primary_cleaner_state_floatbank8_b_air  \\\n",
       "date                                                          \n",
       "2016-09-01 00:59:59                             1399.144926   \n",
       "2016-09-01 01:59:59                             1398.055362   \n",
       "2016-09-01 02:59:59                             1398.860436   \n",
       "2016-09-01 03:59:59                             1397.440120   \n",
       "2016-09-01 04:59:59                             1398.128818   \n",
       "\n",
       "                     primary_cleaner_state_floatbank8_b_level  \\\n",
       "date                                                            \n",
       "2016-09-01 00:59:59                               -499.919735   \n",
       "2016-09-01 01:59:59                               -499.778182   \n",
       "2016-09-01 02:59:59                               -499.764529   \n",
       "2016-09-01 03:59:59                               -499.211024   \n",
       "2016-09-01 04:59:59                               -499.504543   \n",
       "\n",
       "                     primary_cleaner_state_floatbank8_c_air  \\\n",
       "date                                                          \n",
       "2016-09-01 00:59:59                             1400.102998   \n",
       "2016-09-01 01:59:59                             1396.151033   \n",
       "2016-09-01 02:59:59                             1398.075709   \n",
       "2016-09-01 03:59:59                             1400.129303   \n",
       "2016-09-01 04:59:59                             1402.172226   \n",
       "\n",
       "                     primary_cleaner_state_floatbank8_c_level  ...  \\\n",
       "date                                                           ...   \n",
       "2016-09-01 00:59:59                               -500.704369  ...   \n",
       "2016-09-01 01:59:59                               -499.240168  ...   \n",
       "2016-09-01 02:59:59                               -502.151509  ...   \n",
       "2016-09-01 03:59:59                               -498.355873  ...   \n",
       "2016-09-01 04:59:59                               -500.810606  ...   \n",
       "\n",
       "                     secondary_cleaner_state_floatbank4_a_air  \\\n",
       "date                                                            \n",
       "2016-09-01 00:59:59                                 12.023554   \n",
       "2016-09-01 01:59:59                                 12.058140   \n",
       "2016-09-01 02:59:59                                 11.962366   \n",
       "2016-09-01 03:59:59                                 12.033091   \n",
       "2016-09-01 04:59:59                                 12.025367   \n",
       "\n",
       "                     secondary_cleaner_state_floatbank4_a_level  \\\n",
       "date                                                              \n",
       "2016-09-01 00:59:59                                 -497.795834   \n",
       "2016-09-01 01:59:59                                 -498.695773   \n",
       "2016-09-01 02:59:59                                 -498.767484   \n",
       "2016-09-01 03:59:59                                 -498.350935   \n",
       "2016-09-01 04:59:59                                 -500.786497   \n",
       "\n",
       "                     secondary_cleaner_state_floatbank4_b_air  \\\n",
       "date                                                            \n",
       "2016-09-01 00:59:59                                  8.016656   \n",
       "2016-09-01 01:59:59                                  8.130979   \n",
       "2016-09-01 02:59:59                                  8.096893   \n",
       "2016-09-01 03:59:59                                  8.074946   \n",
       "2016-09-01 04:59:59                                  8.054678   \n",
       "\n",
       "                     secondary_cleaner_state_floatbank4_b_level  \\\n",
       "date                                                              \n",
       "2016-09-01 00:59:59                                 -501.289139   \n",
       "2016-09-01 01:59:59                                 -499.634209   \n",
       "2016-09-01 02:59:59                                 -500.827423   \n",
       "2016-09-01 03:59:59                                 -499.474407   \n",
       "2016-09-01 04:59:59                                 -500.397500   \n",
       "\n",
       "                     secondary_cleaner_state_floatbank5_a_air  \\\n",
       "date                                                            \n",
       "2016-09-01 00:59:59                                  7.946562   \n",
       "2016-09-01 01:59:59                                  7.958270   \n",
       "2016-09-01 02:59:59                                  8.071056   \n",
       "2016-09-01 03:59:59                                  7.897085   \n",
       "2016-09-01 04:59:59                                  8.107890   \n",
       "\n",
       "                     secondary_cleaner_state_floatbank5_a_level  \\\n",
       "date                                                              \n",
       "2016-09-01 00:59:59                                 -432.317850   \n",
       "2016-09-01 01:59:59                                 -525.839648   \n",
       "2016-09-01 02:59:59                                 -500.801673   \n",
       "2016-09-01 03:59:59                                 -500.868509   \n",
       "2016-09-01 04:59:59                                 -509.526725   \n",
       "\n",
       "                     secondary_cleaner_state_floatbank5_b_air  \\\n",
       "date                                                            \n",
       "2016-09-01 00:59:59                                  4.872511   \n",
       "2016-09-01 01:59:59                                  4.878850   \n",
       "2016-09-01 02:59:59                                  4.905125   \n",
       "2016-09-01 03:59:59                                  4.931400   \n",
       "2016-09-01 04:59:59                                  4.957674   \n",
       "\n",
       "                     secondary_cleaner_state_floatbank5_b_level  \\\n",
       "date                                                              \n",
       "2016-09-01 00:59:59                                 -500.037437   \n",
       "2016-09-01 01:59:59                                 -500.162375   \n",
       "2016-09-01 02:59:59                                 -499.828510   \n",
       "2016-09-01 03:59:59                                 -499.963623   \n",
       "2016-09-01 04:59:59                                 -500.360026   \n",
       "\n",
       "                     secondary_cleaner_state_floatbank6_a_air  \\\n",
       "date                                                            \n",
       "2016-09-01 00:59:59                                 26.705889   \n",
       "2016-09-01 01:59:59                                 25.019940   \n",
       "2016-09-01 02:59:59                                 24.994862   \n",
       "2016-09-01 03:59:59                                 24.948919   \n",
       "2016-09-01 04:59:59                                 25.003331   \n",
       "\n",
       "                     secondary_cleaner_state_floatbank6_a_level  \n",
       "date                                                             \n",
       "2016-09-01 00:59:59                                 -499.709414  \n",
       "2016-09-01 01:59:59                                 -499.819438  \n",
       "2016-09-01 02:59:59                                 -500.622559  \n",
       "2016-09-01 03:59:59                                 -498.709987  \n",
       "2016-09-01 04:59:59                                 -500.856333  \n",
       "\n",
       "[5 rows x 52 columns]"
      ]
     },
     "execution_count": 22,
     "metadata": {},
     "output_type": "execute_result"
    }
   ],
   "source": [
    "df_test.head()"
   ]
  },
  {
   "cell_type": "markdown",
   "metadata": {},
   "source": [
    "составим список признаков, которые нам недостает в тестовой выборке"
   ]
  },
  {
   "cell_type": "code",
   "execution_count": 23,
   "metadata": {},
   "outputs": [],
   "source": [
    "targets = fg.columns"
   ]
  },
  {
   "cell_type": "code",
   "execution_count": 24,
   "metadata": {},
   "outputs": [
    {
     "data": {
      "text/plain": [
       "Index(['final_output_concentrate_ag', 'final_output_concentrate_pb',\n",
       "       'final_output_concentrate_sol', 'final_output_concentrate_au',\n",
       "       'final_output_recovery', 'final_output_tail_ag', 'final_output_tail_pb',\n",
       "       'final_output_tail_sol', 'final_output_tail_au',\n",
       "       'primary_cleaner_output_concentrate_ag',\n",
       "       'primary_cleaner_output_concentrate_pb',\n",
       "       'primary_cleaner_output_concentrate_sol',\n",
       "       'primary_cleaner_output_concentrate_au',\n",
       "       'primary_cleaner_output_tail_ag', 'primary_cleaner_output_tail_pb',\n",
       "       'primary_cleaner_output_tail_sol', 'primary_cleaner_output_tail_au',\n",
       "       'rougher_calculation_sulfate_to_au_concentrate',\n",
       "       'rougher_calculation_floatbank10_sulfate_to_au_feed',\n",
       "       'rougher_calculation_floatbank11_sulfate_to_au_feed',\n",
       "       'rougher_calculation_au_pb_ratio', 'rougher_output_concentrate_ag',\n",
       "       'rougher_output_concentrate_pb', 'rougher_output_concentrate_sol',\n",
       "       'rougher_output_concentrate_au', 'rougher_output_recovery',\n",
       "       'rougher_output_tail_ag', 'rougher_output_tail_pb',\n",
       "       'rougher_output_tail_sol', 'rougher_output_tail_au',\n",
       "       'secondary_cleaner_output_tail_ag', 'secondary_cleaner_output_tail_pb',\n",
       "       'secondary_cleaner_output_tail_sol',\n",
       "       'secondary_cleaner_output_tail_au'],\n",
       "      dtype='object')"
      ]
     },
     "execution_count": 24,
     "metadata": {},
     "output_type": "execute_result"
    }
   ],
   "source": [
    "targets"
   ]
  },
  {
   "cell_type": "markdown",
   "metadata": {},
   "source": [
    "Теперь мы можем взять недостающие данные из полного датасета в тестовую выборку"
   ]
  },
  {
   "cell_type": "code",
   "execution_count": 25,
   "metadata": {},
   "outputs": [],
   "source": [
    "df_test[targets] = df_full.loc[df_test.index, targets];"
   ]
  },
  {
   "cell_type": "code",
   "execution_count": 26,
   "metadata": {},
   "outputs": [
    {
     "data": {
      "text/plain": [
       "Index(['primary_cleaner_input_sulfate', 'primary_cleaner_input_depressant',\n",
       "       'primary_cleaner_input_feed_size', 'primary_cleaner_input_xanthate',\n",
       "       'primary_cleaner_state_floatbank8_a_air',\n",
       "       'primary_cleaner_state_floatbank8_a_level',\n",
       "       'primary_cleaner_state_floatbank8_b_air',\n",
       "       'primary_cleaner_state_floatbank8_b_level',\n",
       "       'primary_cleaner_state_floatbank8_c_air',\n",
       "       'primary_cleaner_state_floatbank8_c_level',\n",
       "       'primary_cleaner_state_floatbank8_d_air',\n",
       "       'primary_cleaner_state_floatbank8_d_level', 'rougher_input_feed_ag',\n",
       "       'rougher_input_feed_pb', 'rougher_input_feed_rate',\n",
       "       'rougher_input_feed_size', 'rougher_input_feed_sol',\n",
       "       'rougher_input_feed_au', 'rougher_input_floatbank10_sulfate',\n",
       "       'rougher_input_floatbank10_xanthate',\n",
       "       'rougher_input_floatbank11_sulfate',\n",
       "       'rougher_input_floatbank11_xanthate', 'rougher_state_floatbank10_a_air',\n",
       "       'rougher_state_floatbank10_a_level', 'rougher_state_floatbank10_b_air',\n",
       "       'rougher_state_floatbank10_b_level', 'rougher_state_floatbank10_c_air',\n",
       "       'rougher_state_floatbank10_c_level', 'rougher_state_floatbank10_d_air',\n",
       "       'rougher_state_floatbank10_d_level', 'rougher_state_floatbank10_e_air',\n",
       "       'rougher_state_floatbank10_e_level', 'rougher_state_floatbank10_f_air',\n",
       "       'rougher_state_floatbank10_f_level',\n",
       "       'secondary_cleaner_state_floatbank2_a_air',\n",
       "       'secondary_cleaner_state_floatbank2_a_level',\n",
       "       'secondary_cleaner_state_floatbank2_b_air',\n",
       "       'secondary_cleaner_state_floatbank2_b_level',\n",
       "       'secondary_cleaner_state_floatbank3_a_air',\n",
       "       'secondary_cleaner_state_floatbank3_a_level',\n",
       "       'secondary_cleaner_state_floatbank3_b_air',\n",
       "       'secondary_cleaner_state_floatbank3_b_level',\n",
       "       'secondary_cleaner_state_floatbank4_a_air',\n",
       "       'secondary_cleaner_state_floatbank4_a_level',\n",
       "       'secondary_cleaner_state_floatbank4_b_air',\n",
       "       'secondary_cleaner_state_floatbank4_b_level',\n",
       "       'secondary_cleaner_state_floatbank5_a_air',\n",
       "       'secondary_cleaner_state_floatbank5_a_level',\n",
       "       'secondary_cleaner_state_floatbank5_b_air',\n",
       "       'secondary_cleaner_state_floatbank5_b_level',\n",
       "       'secondary_cleaner_state_floatbank6_a_air',\n",
       "       'secondary_cleaner_state_floatbank6_a_level',\n",
       "       'final_output_concentrate_ag', 'final_output_concentrate_pb',\n",
       "       'final_output_concentrate_sol', 'final_output_concentrate_au',\n",
       "       'final_output_recovery', 'final_output_tail_ag', 'final_output_tail_pb',\n",
       "       'final_output_tail_sol', 'final_output_tail_au',\n",
       "       'primary_cleaner_output_concentrate_ag',\n",
       "       'primary_cleaner_output_concentrate_pb',\n",
       "       'primary_cleaner_output_concentrate_sol',\n",
       "       'primary_cleaner_output_concentrate_au',\n",
       "       'primary_cleaner_output_tail_ag', 'primary_cleaner_output_tail_pb',\n",
       "       'primary_cleaner_output_tail_sol', 'primary_cleaner_output_tail_au',\n",
       "       'rougher_calculation_sulfate_to_au_concentrate',\n",
       "       'rougher_calculation_floatbank10_sulfate_to_au_feed',\n",
       "       'rougher_calculation_floatbank11_sulfate_to_au_feed',\n",
       "       'rougher_calculation_au_pb_ratio', 'rougher_output_concentrate_ag',\n",
       "       'rougher_output_concentrate_pb', 'rougher_output_concentrate_sol',\n",
       "       'rougher_output_concentrate_au', 'rougher_output_recovery',\n",
       "       'rougher_output_tail_ag', 'rougher_output_tail_pb',\n",
       "       'rougher_output_tail_sol', 'rougher_output_tail_au',\n",
       "       'secondary_cleaner_output_tail_ag', 'secondary_cleaner_output_tail_pb',\n",
       "       'secondary_cleaner_output_tail_sol',\n",
       "       'secondary_cleaner_output_tail_au'],\n",
       "      dtype='object')"
      ]
     },
     "execution_count": 26,
     "metadata": {},
     "output_type": "execute_result"
    }
   ],
   "source": [
    "test = df_test.columns.copy()\n",
    "test"
   ]
  },
  {
   "cell_type": "code",
   "execution_count": 27,
   "metadata": {},
   "outputs": [
    {
     "data": {
      "text/html": [
       "<div>\n",
       "<style scoped>\n",
       "    .dataframe tbody tr th:only-of-type {\n",
       "        vertical-align: middle;\n",
       "    }\n",
       "\n",
       "    .dataframe tbody tr th {\n",
       "        vertical-align: top;\n",
       "    }\n",
       "\n",
       "    .dataframe thead th {\n",
       "        text-align: right;\n",
       "    }\n",
       "</style>\n",
       "<table border=\"1\" class=\"dataframe\">\n",
       "  <thead>\n",
       "    <tr style=\"text-align: right;\">\n",
       "      <th></th>\n",
       "      <th>sum</th>\n",
       "      <th>mean</th>\n",
       "    </tr>\n",
       "  </thead>\n",
       "  <tbody>\n",
       "    <tr>\n",
       "      <td>secondary_cleaner_output_tail_sol</td>\n",
       "      <td>1605.0</td>\n",
       "      <td>0.113436</td>\n",
       "    </tr>\n",
       "    <tr>\n",
       "      <td>rougher_state_floatbank10_e_air</td>\n",
       "      <td>436.0</td>\n",
       "      <td>0.030815</td>\n",
       "    </tr>\n",
       "    <tr>\n",
       "      <td>rougher_input_floatbank11_xanthate</td>\n",
       "      <td>428.0</td>\n",
       "      <td>0.030249</td>\n",
       "    </tr>\n",
       "    <tr>\n",
       "      <td>primary_cleaner_output_concentrate_sol</td>\n",
       "      <td>286.0</td>\n",
       "      <td>0.020213</td>\n",
       "    </tr>\n",
       "    <tr>\n",
       "      <td>secondary_cleaner_state_floatbank2_a_air</td>\n",
       "      <td>217.0</td>\n",
       "      <td>0.015337</td>\n",
       "    </tr>\n",
       "    <tr>\n",
       "      <td>final_output_concentrate_sol</td>\n",
       "      <td>211.0</td>\n",
       "      <td>0.014913</td>\n",
       "    </tr>\n",
       "    <tr>\n",
       "      <td>rougher_input_feed_size</td>\n",
       "      <td>144.0</td>\n",
       "      <td>0.010177</td>\n",
       "    </tr>\n",
       "    <tr>\n",
       "      <td>primary_cleaner_input_xanthate</td>\n",
       "      <td>100.0</td>\n",
       "      <td>0.007068</td>\n",
       "    </tr>\n",
       "    <tr>\n",
       "      <td>rougher_input_feed_pb</td>\n",
       "      <td>100.0</td>\n",
       "      <td>0.007068</td>\n",
       "    </tr>\n",
       "    <tr>\n",
       "      <td>final_output_tail_pb</td>\n",
       "      <td>100.0</td>\n",
       "      <td>0.007068</td>\n",
       "    </tr>\n",
       "  </tbody>\n",
       "</table>\n",
       "</div>"
      ],
      "text/plain": [
       "                                             sum      mean\n",
       "secondary_cleaner_output_tail_sol         1605.0  0.113436\n",
       "rougher_state_floatbank10_e_air            436.0  0.030815\n",
       "rougher_input_floatbank11_xanthate         428.0  0.030249\n",
       "primary_cleaner_output_concentrate_sol     286.0  0.020213\n",
       "secondary_cleaner_state_floatbank2_a_air   217.0  0.015337\n",
       "final_output_concentrate_sol               211.0  0.014913\n",
       "rougher_input_feed_size                    144.0  0.010177\n",
       "primary_cleaner_input_xanthate             100.0  0.007068\n",
       "rougher_input_feed_pb                      100.0  0.007068\n",
       "final_output_tail_pb                       100.0  0.007068"
      ]
     },
     "execution_count": 27,
     "metadata": {},
     "output_type": "execute_result"
    }
   ],
   "source": [
    "df_train.isnull().agg(['sum','mean']).transpose().sort_values(by = 'mean', ascending=False).head(10)"
   ]
  },
  {
   "cell_type": "markdown",
   "metadata": {},
   "source": [
    "Далее необходимо избавиться от пропусков.  \n",
    "Пропуски в целевых переменных мы удаляем, так как это не поможет нам обучить и проверить модель.  \n",
    "Пропуски в нецелевых переменных можно заполнить ближайшими значениями, так как они располагаются по времени и очень близки друг к другу."
   ]
  },
  {
   "cell_type": "code",
   "execution_count": 28,
   "metadata": {},
   "outputs": [
    {
     "data": {
      "text/plain": [
       "200    1247.667147\n",
       "201    1251.674918\n",
       "202    1248.198495\n",
       "203    1248.996101\n",
       "204    1248.718839\n",
       "205    1254.401494\n",
       "206    1248.482066\n",
       "207    1250.314916\n",
       "208    1248.489812\n",
       "209    1251.797378\n",
       "210    1345.777708\n",
       "211    1377.079518\n",
       "212    1400.886982\n",
       "213    1400.627381\n",
       "214    1398.920029\n",
       "215    1364.520326\n",
       "216    1299.217817\n",
       "217    1299.533358\n",
       "218    1298.871243\n",
       "219    1301.616877\n",
       "220    1298.806758\n",
       "221    1298.275074\n",
       "222    1303.180980\n",
       "223    1298.698751\n",
       "224    1297.419496\n",
       "225    1303.024402\n",
       "226    1298.126769\n",
       "227    1303.660531\n",
       "228    1298.177417\n",
       "229    1299.937383\n",
       "Name: rougher_state_floatbank10_e_air, dtype: float64"
      ]
     },
     "execution_count": 28,
     "metadata": {},
     "output_type": "execute_result"
    }
   ],
   "source": [
    "df_train['rougher_state_floatbank10_e_air'].iloc[200:230]"
   ]
  },
  {
   "cell_type": "code",
   "execution_count": 29,
   "metadata": {},
   "outputs": [],
   "source": [
    "df_train.dropna(subset = ['rougher_output_recovery', 'final_output_recovery'], inplace = True) # Исправил V2\n",
    "df_test.dropna(subset = ['rougher_output_recovery', 'final_output_recovery'], inplace = True) # Исправил\n",
    "#df_test.dropna(inplace = True)"
   ]
  },
  {
   "cell_type": "code",
   "execution_count": 30,
   "metadata": {
    "scrolled": true
   },
   "outputs": [
    {
     "data": {
      "text/html": [
       "<div>\n",
       "<style scoped>\n",
       "    .dataframe tbody tr th:only-of-type {\n",
       "        vertical-align: middle;\n",
       "    }\n",
       "\n",
       "    .dataframe tbody tr th {\n",
       "        vertical-align: top;\n",
       "    }\n",
       "\n",
       "    .dataframe thead th {\n",
       "        text-align: right;\n",
       "    }\n",
       "</style>\n",
       "<table border=\"1\" class=\"dataframe\">\n",
       "  <thead>\n",
       "    <tr style=\"text-align: right;\">\n",
       "      <th></th>\n",
       "      <th>sum</th>\n",
       "      <th>mean</th>\n",
       "    </tr>\n",
       "  </thead>\n",
       "  <tbody>\n",
       "    <tr>\n",
       "      <td>secondary_cleaner_output_tail_sol</td>\n",
       "      <td>143.0</td>\n",
       "      <td>0.027032</td>\n",
       "    </tr>\n",
       "    <tr>\n",
       "      <td>primary_cleaner_output_concentrate_sol</td>\n",
       "      <td>84.0</td>\n",
       "      <td>0.015879</td>\n",
       "    </tr>\n",
       "    <tr>\n",
       "      <td>primary_cleaner_output_concentrate_pb</td>\n",
       "      <td>30.0</td>\n",
       "      <td>0.005671</td>\n",
       "    </tr>\n",
       "    <tr>\n",
       "      <td>primary_cleaner_output_tail_sol</td>\n",
       "      <td>16.0</td>\n",
       "      <td>0.003025</td>\n",
       "    </tr>\n",
       "    <tr>\n",
       "      <td>primary_cleaner_output_tail_pb</td>\n",
       "      <td>6.0</td>\n",
       "      <td>0.001134</td>\n",
       "    </tr>\n",
       "    <tr>\n",
       "      <td>primary_cleaner_output_tail_ag</td>\n",
       "      <td>3.0</td>\n",
       "      <td>0.000567</td>\n",
       "    </tr>\n",
       "    <tr>\n",
       "      <td>secondary_cleaner_output_tail_pb</td>\n",
       "      <td>2.0</td>\n",
       "      <td>0.000378</td>\n",
       "    </tr>\n",
       "    <tr>\n",
       "      <td>rougher_calculation_floatbank11_sulfate_to_au_feed</td>\n",
       "      <td>1.0</td>\n",
       "      <td>0.000189</td>\n",
       "    </tr>\n",
       "    <tr>\n",
       "      <td>rougher_calculation_floatbank10_sulfate_to_au_feed</td>\n",
       "      <td>1.0</td>\n",
       "      <td>0.000189</td>\n",
       "    </tr>\n",
       "    <tr>\n",
       "      <td>rougher_calculation_sulfate_to_au_concentrate</td>\n",
       "      <td>1.0</td>\n",
       "      <td>0.000189</td>\n",
       "    </tr>\n",
       "  </tbody>\n",
       "</table>\n",
       "</div>"
      ],
      "text/plain": [
       "                                                      sum      mean\n",
       "secondary_cleaner_output_tail_sol                   143.0  0.027032\n",
       "primary_cleaner_output_concentrate_sol               84.0  0.015879\n",
       "primary_cleaner_output_concentrate_pb                30.0  0.005671\n",
       "primary_cleaner_output_tail_sol                      16.0  0.003025\n",
       "primary_cleaner_output_tail_pb                        6.0  0.001134\n",
       "primary_cleaner_output_tail_ag                        3.0  0.000567\n",
       "secondary_cleaner_output_tail_pb                      2.0  0.000378\n",
       "rougher_calculation_floatbank11_sulfate_to_au_feed    1.0  0.000189\n",
       "rougher_calculation_floatbank10_sulfate_to_au_feed    1.0  0.000189\n",
       "rougher_calculation_sulfate_to_au_concentrate         1.0  0.000189"
      ]
     },
     "execution_count": 30,
     "metadata": {},
     "output_type": "execute_result"
    }
   ],
   "source": [
    "df_test[targets].isnull().agg(['sum','mean']).transpose().sort_values(by = 'mean', ascending=False).head(10)"
   ]
  },
  {
   "cell_type": "code",
   "execution_count": 31,
   "metadata": {},
   "outputs": [
    {
     "data": {
      "text/html": [
       "<div>\n",
       "<style scoped>\n",
       "    .dataframe tbody tr th:only-of-type {\n",
       "        vertical-align: middle;\n",
       "    }\n",
       "\n",
       "    .dataframe tbody tr th {\n",
       "        vertical-align: top;\n",
       "    }\n",
       "\n",
       "    .dataframe thead th {\n",
       "        text-align: right;\n",
       "    }\n",
       "</style>\n",
       "<table border=\"1\" class=\"dataframe\">\n",
       "  <thead>\n",
       "    <tr style=\"text-align: right;\">\n",
       "      <th></th>\n",
       "      <th>sum</th>\n",
       "      <th>mean</th>\n",
       "    </tr>\n",
       "  </thead>\n",
       "  <tbody>\n",
       "    <tr>\n",
       "      <td>secondary_cleaner_output_tail_sol</td>\n",
       "      <td>1605.0</td>\n",
       "      <td>0.113436</td>\n",
       "    </tr>\n",
       "    <tr>\n",
       "      <td>rougher_state_floatbank10_e_air</td>\n",
       "      <td>436.0</td>\n",
       "      <td>0.030815</td>\n",
       "    </tr>\n",
       "    <tr>\n",
       "      <td>rougher_input_floatbank11_xanthate</td>\n",
       "      <td>428.0</td>\n",
       "      <td>0.030249</td>\n",
       "    </tr>\n",
       "    <tr>\n",
       "      <td>primary_cleaner_output_concentrate_sol</td>\n",
       "      <td>286.0</td>\n",
       "      <td>0.020213</td>\n",
       "    </tr>\n",
       "    <tr>\n",
       "      <td>secondary_cleaner_state_floatbank2_a_air</td>\n",
       "      <td>217.0</td>\n",
       "      <td>0.015337</td>\n",
       "    </tr>\n",
       "    <tr>\n",
       "      <td>final_output_concentrate_sol</td>\n",
       "      <td>211.0</td>\n",
       "      <td>0.014913</td>\n",
       "    </tr>\n",
       "    <tr>\n",
       "      <td>rougher_input_feed_size</td>\n",
       "      <td>144.0</td>\n",
       "      <td>0.010177</td>\n",
       "    </tr>\n",
       "    <tr>\n",
       "      <td>primary_cleaner_input_xanthate</td>\n",
       "      <td>100.0</td>\n",
       "      <td>0.007068</td>\n",
       "    </tr>\n",
       "    <tr>\n",
       "      <td>final_output_tail_pb</td>\n",
       "      <td>100.0</td>\n",
       "      <td>0.007068</td>\n",
       "    </tr>\n",
       "    <tr>\n",
       "      <td>rougher_input_feed_pb</td>\n",
       "      <td>100.0</td>\n",
       "      <td>0.007068</td>\n",
       "    </tr>\n",
       "  </tbody>\n",
       "</table>\n",
       "</div>"
      ],
      "text/plain": [
       "                                             sum      mean\n",
       "secondary_cleaner_output_tail_sol         1605.0  0.113436\n",
       "rougher_state_floatbank10_e_air            436.0  0.030815\n",
       "rougher_input_floatbank11_xanthate         428.0  0.030249\n",
       "primary_cleaner_output_concentrate_sol     286.0  0.020213\n",
       "secondary_cleaner_state_floatbank2_a_air   217.0  0.015337\n",
       "final_output_concentrate_sol               211.0  0.014913\n",
       "rougher_input_feed_size                    144.0  0.010177\n",
       "primary_cleaner_input_xanthate             100.0  0.007068\n",
       "final_output_tail_pb                       100.0  0.007068\n",
       "rougher_input_feed_pb                      100.0  0.007068"
      ]
     },
     "execution_count": 31,
     "metadata": {},
     "output_type": "execute_result"
    }
   ],
   "source": [
    "df_train[test].isnull().agg(['sum','mean']).transpose().sort_values(by = 'mean', ascending=False).head(10)"
   ]
  },
  {
   "cell_type": "code",
   "execution_count": 32,
   "metadata": {},
   "outputs": [],
   "source": [
    "df_train.fillna(method='ffill', inplace = True)\n",
    "df_test.fillna(method='ffill', inplace = True) #исправил"
   ]
  },
  {
   "cell_type": "code",
   "execution_count": 33,
   "metadata": {},
   "outputs": [
    {
     "data": {
      "text/html": [
       "<div>\n",
       "<style scoped>\n",
       "    .dataframe tbody tr th:only-of-type {\n",
       "        vertical-align: middle;\n",
       "    }\n",
       "\n",
       "    .dataframe tbody tr th {\n",
       "        vertical-align: top;\n",
       "    }\n",
       "\n",
       "    .dataframe thead th {\n",
       "        text-align: right;\n",
       "    }\n",
       "</style>\n",
       "<table border=\"1\" class=\"dataframe\">\n",
       "  <thead>\n",
       "    <tr style=\"text-align: right;\">\n",
       "      <th></th>\n",
       "      <th>sum</th>\n",
       "      <th>mean</th>\n",
       "    </tr>\n",
       "  </thead>\n",
       "  <tbody>\n",
       "    <tr>\n",
       "      <td>date</td>\n",
       "      <td>0.0</td>\n",
       "      <td>0.0</td>\n",
       "    </tr>\n",
       "    <tr>\n",
       "      <td>rougher_state_floatbank10_b_air</td>\n",
       "      <td>0.0</td>\n",
       "      <td>0.0</td>\n",
       "    </tr>\n",
       "    <tr>\n",
       "      <td>rougher_state_floatbank10_f_air</td>\n",
       "      <td>0.0</td>\n",
       "      <td>0.0</td>\n",
       "    </tr>\n",
       "    <tr>\n",
       "      <td>rougher_state_floatbank10_e_level</td>\n",
       "      <td>0.0</td>\n",
       "      <td>0.0</td>\n",
       "    </tr>\n",
       "    <tr>\n",
       "      <td>rougher_state_floatbank10_e_air</td>\n",
       "      <td>0.0</td>\n",
       "      <td>0.0</td>\n",
       "    </tr>\n",
       "  </tbody>\n",
       "</table>\n",
       "</div>"
      ],
      "text/plain": [
       "                                   sum  mean\n",
       "date                               0.0   0.0\n",
       "rougher_state_floatbank10_b_air    0.0   0.0\n",
       "rougher_state_floatbank10_f_air    0.0   0.0\n",
       "rougher_state_floatbank10_e_level  0.0   0.0\n",
       "rougher_state_floatbank10_e_air    0.0   0.0"
      ]
     },
     "execution_count": 33,
     "metadata": {},
     "output_type": "execute_result"
    }
   ],
   "source": [
    "df_train.isnull().agg(['sum','mean']).transpose().sort_values(by = 'mean', ascending=False).head(5)"
   ]
  },
  {
   "cell_type": "markdown",
   "metadata": {},
   "source": [
    "### Вывод"
   ]
  },
  {
   "cell_type": "markdown",
   "metadata": {},
   "source": [
    "Мы получили 3 датасета: полный и его деление на тестовый и тренировочный:\n",
    "\n",
    "Всего 19 439 событий были разбиты на 14 149 и 5 290 соответственно.  \n",
    "В тестовой выборке 53 признака против 87 у полного датасета и тренировочной выборке.  \n",
    "\n",
    "Анализ показал, что это были исключены целевые признаки.  \n",
    "\n",
    "Мы провели расчет значения эффективности обогащения и выяснили, что оно изначально было подсчитано верно, это видно наглядно из таблицы и подтверждает исчезающее значение MAE.  \n",
    "\n",
    "Для удобства назначили дату/время индексом в каждом датасете, используя индекс подтянули из полного датасета данные по целевым признакам в тестовую выборку.  \n",
    "\n",
    "Небольшое количество пропусков в целевых значениях удалили, чтобы не помешать обучению модели, в целевых - заменили ближайшим по времени."
   ]
  },
  {
   "cell_type": "markdown",
   "metadata": {},
   "source": [
    "## Анализ данных"
   ]
  },
  {
   "cell_type": "markdown",
   "metadata": {},
   "source": [
    "### Анализ концентрации металлов на различных этапах очистки"
   ]
  },
  {
   "cell_type": "code",
   "execution_count": 34,
   "metadata": {},
   "outputs": [
    {
     "data": {
      "image/png": "[encoded data removed]",
      "text/plain": [
       "<Figure size 1080x288 with 1 Axes>"
      ]
     },
     "metadata": {
      "needs_background": "light"
     },
     "output_type": "display_data"
    }
   ],
   "source": [
    "plt.figure(figsize=(15,4))\n",
    "sns.distplot(df_full['final_output_concentrate_au'], hist=True, kde=False, \n",
    "             bins=100, color = 'blue',\n",
    "             hist_kws={'edgecolor':'black'})\n",
    "\n",
    "sns.distplot(df_full['primary_cleaner_output_concentrate_au'], hist=True, kde=False, \n",
    "             bins=100, color = 'yellow',\n",
    "             hist_kws={'edgecolor':'black'})\n",
    "\n",
    "sns.distplot(df_full['rougher_output_concentrate_au'], hist=True, kde=False, \n",
    "             bins=100, color = 'red',\n",
    "             hist_kws={'edgecolor':'black'})\n",
    "sns.distplot(df_full['rougher_input_feed_au'], hist=True, kde=False, \n",
    "             bins=100, color = 'orange', \n",
    "             hist_kws={'edgecolor':'black'})\n",
    "plt.legend(['финальные характеристики', 'первичная очистка', 'флотация','первичное сырье'])\n",
    "plt.title('Изменение концентрации золота на разных этапах очистки')\n",
    "plt.ylabel('Количество измерений, шт')\n",
    "plt.xlabel('Концентрация золота, %');"
   ]
  },
  {
   "cell_type": "code",
   "execution_count": 35,
   "metadata": {},
   "outputs": [
    {
     "data": {
      "text/html": [
       "<div>\n",
       "<style scoped>\n",
       "    .dataframe tbody tr th:only-of-type {\n",
       "        vertical-align: middle;\n",
       "    }\n",
       "\n",
       "    .dataframe tbody tr th {\n",
       "        vertical-align: top;\n",
       "    }\n",
       "\n",
       "    .dataframe thead th {\n",
       "        text-align: right;\n",
       "    }\n",
       "</style>\n",
       "<table border=\"1\" class=\"dataframe\">\n",
       "  <thead>\n",
       "    <tr style=\"text-align: right;\">\n",
       "      <th></th>\n",
       "      <th>count</th>\n",
       "      <th>mean</th>\n",
       "      <th>std</th>\n",
       "      <th>min</th>\n",
       "      <th>25%</th>\n",
       "      <th>50%</th>\n",
       "      <th>75%</th>\n",
       "      <th>max</th>\n",
       "    </tr>\n",
       "  </thead>\n",
       "  <tbody>\n",
       "    <tr>\n",
       "      <td>final_output_concentrate_au</td>\n",
       "      <td>19439.0</td>\n",
       "      <td>44.076513</td>\n",
       "      <td>5.129784</td>\n",
       "      <td>0.00</td>\n",
       "      <td>43.402215</td>\n",
       "      <td>45.011244</td>\n",
       "      <td>46.275313</td>\n",
       "      <td>52.756638</td>\n",
       "    </tr>\n",
       "    <tr>\n",
       "      <td>primary_cleaner_output_concentrate_au</td>\n",
       "      <td>19439.0</td>\n",
       "      <td>32.119400</td>\n",
       "      <td>5.627611</td>\n",
       "      <td>0.00</td>\n",
       "      <td>30.463140</td>\n",
       "      <td>32.841295</td>\n",
       "      <td>35.048006</td>\n",
       "      <td>45.933934</td>\n",
       "    </tr>\n",
       "    <tr>\n",
       "      <td>rougher_output_concentrate_au</td>\n",
       "      <td>19439.0</td>\n",
       "      <td>19.772000</td>\n",
       "      <td>3.753600</td>\n",
       "      <td>0.00</td>\n",
       "      <td>18.802523</td>\n",
       "      <td>20.280214</td>\n",
       "      <td>21.717843</td>\n",
       "      <td>28.824507</td>\n",
       "    </tr>\n",
       "    <tr>\n",
       "      <td>rougher_input_feed_au</td>\n",
       "      <td>19439.0</td>\n",
       "      <td>8.266097</td>\n",
       "      <td>1.955092</td>\n",
       "      <td>0.01</td>\n",
       "      <td>6.854384</td>\n",
       "      <td>8.125839</td>\n",
       "      <td>9.769917</td>\n",
       "      <td>13.731330</td>\n",
       "    </tr>\n",
       "  </tbody>\n",
       "</table>\n",
       "</div>"
      ],
      "text/plain": [
       "                                         count       mean       std   min  \\\n",
       "final_output_concentrate_au            19439.0  44.076513  5.129784  0.00   \n",
       "primary_cleaner_output_concentrate_au  19439.0  32.119400  5.627611  0.00   \n",
       "rougher_output_concentrate_au          19439.0  19.772000  3.753600  0.00   \n",
       "rougher_input_feed_au                  19439.0   8.266097  1.955092  0.01   \n",
       "\n",
       "                                             25%        50%        75%  \\\n",
       "final_output_concentrate_au            43.402215  45.011244  46.275313   \n",
       "primary_cleaner_output_concentrate_au  30.463140  32.841295  35.048006   \n",
       "rougher_output_concentrate_au          18.802523  20.280214  21.717843   \n",
       "rougher_input_feed_au                   6.854384   8.125839   9.769917   \n",
       "\n",
       "                                             max  \n",
       "final_output_concentrate_au            52.756638  \n",
       "primary_cleaner_output_concentrate_au  45.933934  \n",
       "rougher_output_concentrate_au          28.824507  \n",
       "rougher_input_feed_au                  13.731330  "
      ]
     },
     "execution_count": 35,
     "metadata": {},
     "output_type": "execute_result"
    }
   ],
   "source": [
    "df_full[['final_output_concentrate_au',         \n",
    "         'primary_cleaner_output_concentrate_au',\n",
    "         'rougher_output_concentrate_au',\n",
    "         'rougher_input_feed_au']].describe().transpose()"
   ]
  },
  {
   "cell_type": "markdown",
   "metadata": {},
   "source": [
    "В первоначальном сырье концентрация золота чуть выше 8%, после флотации вырастает до 20%, после первичной очистки получаем 32% концентрации золота, после вторичной - 45%  \n",
    "Флотация самый эффективный метод.  \n",
    "На каждом этапе, особенно на превичной очистке заметен большой разброс результатов.   \n",
    "Есть потенциал увеличения среднего результатов при работе над входными параметрами.\n"
   ]
  },
  {
   "cell_type": "code",
   "execution_count": 36,
   "metadata": {},
   "outputs": [
    {
     "data": {
      "image/png": "[encoded data removed]",
      "text/plain": [
       "<Figure size 1080x288 with 1 Axes>"
      ]
     },
     "metadata": {
      "needs_background": "light"
     },
     "output_type": "display_data"
    }
   ],
   "source": [
    "plt.figure(figsize=(15,4))\n",
    "sns.distplot(df_full['final_output_concentrate_ag'], hist=True, kde=False, \n",
    "             bins=100, color = 'blue',\n",
    "             hist_kws={'edgecolor':'black'})\n",
    "\n",
    "sns.distplot(df_full['primary_cleaner_output_concentrate_ag'], hist=True, kde=False, \n",
    "             bins=100, color = 'yellow',\n",
    "             hist_kws={'edgecolor':'black'})\n",
    "\n",
    "sns.distplot(df_full['rougher_output_concentrate_ag'], hist=True, kde=False, \n",
    "             bins=100, color = 'red',\n",
    "             hist_kws={'edgecolor':'black'})\n",
    "sns.distplot(df_full['rougher_input_feed_ag'], hist=True, kde=False, \n",
    "             bins=100, color = 'orange',\n",
    "             hist_kws={'edgecolor':'black'})\n",
    "\n",
    "plt.legend(['финальные характеристики', 'первичная очистка', 'флотация','первичное сырье'])\n",
    "plt.title('Изменение концентрации серебра на разных этапах очистки')\n",
    "plt.ylabel('Количество измерений, шт')\n",
    "plt.xlabel('Концентрация серебра, %');"
   ]
  },
  {
   "cell_type": "code",
   "execution_count": 37,
   "metadata": {},
   "outputs": [
    {
     "data": {
      "text/html": [
       "<div>\n",
       "<style scoped>\n",
       "    .dataframe tbody tr th:only-of-type {\n",
       "        vertical-align: middle;\n",
       "    }\n",
       "\n",
       "    .dataframe tbody tr th {\n",
       "        vertical-align: top;\n",
       "    }\n",
       "\n",
       "    .dataframe thead th {\n",
       "        text-align: right;\n",
       "    }\n",
       "</style>\n",
       "<table border=\"1\" class=\"dataframe\">\n",
       "  <thead>\n",
       "    <tr style=\"text-align: right;\">\n",
       "      <th></th>\n",
       "      <th>count</th>\n",
       "      <th>mean</th>\n",
       "      <th>std</th>\n",
       "      <th>min</th>\n",
       "      <th>25%</th>\n",
       "      <th>50%</th>\n",
       "      <th>75%</th>\n",
       "      <th>max</th>\n",
       "    </tr>\n",
       "  </thead>\n",
       "  <tbody>\n",
       "    <tr>\n",
       "      <td>final_output_concentrate_ag</td>\n",
       "      <td>19438.0</td>\n",
       "      <td>5.168470</td>\n",
       "      <td>1.372348</td>\n",
       "      <td>0.00</td>\n",
       "      <td>4.251240</td>\n",
       "      <td>5.066094</td>\n",
       "      <td>5.895527</td>\n",
       "      <td>16.001945</td>\n",
       "    </tr>\n",
       "    <tr>\n",
       "      <td>primary_cleaner_output_concentrate_ag</td>\n",
       "      <td>19439.0</td>\n",
       "      <td>8.442408</td>\n",
       "      <td>2.054465</td>\n",
       "      <td>0.00</td>\n",
       "      <td>7.263288</td>\n",
       "      <td>8.507298</td>\n",
       "      <td>9.809001</td>\n",
       "      <td>16.081632</td>\n",
       "    </tr>\n",
       "    <tr>\n",
       "      <td>rougher_output_concentrate_ag</td>\n",
       "      <td>19439.0</td>\n",
       "      <td>11.994759</td>\n",
       "      <td>2.733862</td>\n",
       "      <td>0.00</td>\n",
       "      <td>10.628337</td>\n",
       "      <td>12.098115</td>\n",
       "      <td>13.736996</td>\n",
       "      <td>24.480271</td>\n",
       "    </tr>\n",
       "    <tr>\n",
       "      <td>rougher_input_feed_ag</td>\n",
       "      <td>19439.0</td>\n",
       "      <td>8.794927</td>\n",
       "      <td>1.936847</td>\n",
       "      <td>0.01</td>\n",
       "      <td>7.237967</td>\n",
       "      <td>8.593574</td>\n",
       "      <td>10.213771</td>\n",
       "      <td>14.596026</td>\n",
       "    </tr>\n",
       "  </tbody>\n",
       "</table>\n",
       "</div>"
      ],
      "text/plain": [
       "                                         count       mean       std   min  \\\n",
       "final_output_concentrate_ag            19438.0   5.168470  1.372348  0.00   \n",
       "primary_cleaner_output_concentrate_ag  19439.0   8.442408  2.054465  0.00   \n",
       "rougher_output_concentrate_ag          19439.0  11.994759  2.733862  0.00   \n",
       "rougher_input_feed_ag                  19439.0   8.794927  1.936847  0.01   \n",
       "\n",
       "                                             25%        50%        75%  \\\n",
       "final_output_concentrate_ag             4.251240   5.066094   5.895527   \n",
       "primary_cleaner_output_concentrate_ag   7.263288   8.507298   9.809001   \n",
       "rougher_output_concentrate_ag          10.628337  12.098115  13.736996   \n",
       "rougher_input_feed_ag                   7.237967   8.593574  10.213771   \n",
       "\n",
       "                                             max  \n",
       "final_output_concentrate_ag            16.001945  \n",
       "primary_cleaner_output_concentrate_ag  16.081632  \n",
       "rougher_output_concentrate_ag          24.480271  \n",
       "rougher_input_feed_ag                  14.596026  "
      ]
     },
     "execution_count": 37,
     "metadata": {},
     "output_type": "execute_result"
    }
   ],
   "source": [
    "df_full[['final_output_concentrate_ag',         \n",
    "         'primary_cleaner_output_concentrate_ag',\n",
    "         'rougher_output_concentrate_ag',\n",
    "         'rougher_input_feed_ag']].describe().transpose()"
   ]
  },
  {
   "cell_type": "markdown",
   "metadata": {},
   "source": [
    "Во входящем   сырье концентрация серебра 9 %, после флотации 12%, после первичной очистки вновь падает до 9 и ниже, после вторичной очистки опускается до 5%, что логично, при том что мы выделяем золото"
   ]
  },
  {
   "cell_type": "code",
   "execution_count": 38,
   "metadata": {},
   "outputs": [
    {
     "data": {
      "text/plain": [
       "''"
      ]
     },
     "execution_count": 38,
     "metadata": {},
     "output_type": "execute_result"
    },
    {
     "data": {
      "image/png": "[encoded data removed]",
      "text/plain": [
       "<Figure size 1080x288 with 1 Axes>"
      ]
     },
     "metadata": {
      "needs_background": "light"
     },
     "output_type": "display_data"
    }
   ],
   "source": [
    "plt.figure(figsize=(15,4))\n",
    "sns.distplot(df_full['final_output_concentrate_pb'], hist=True, kde=False, \n",
    "             bins=100, color = 'blue',\n",
    "             hist_kws={'edgecolor':'black'})\n",
    "\n",
    "sns.distplot(df_full['primary_cleaner_output_concentrate_pb'], hist=True, kde=False, \n",
    "             bins=100, color = 'yellow',\n",
    "             hist_kws={'edgecolor':'black'})\n",
    "\n",
    "sns.distplot(df_full['rougher_output_concentrate_pb'], hist=True, kde=False, \n",
    "             bins=100, color = 'red',\n",
    "             hist_kws={'edgecolor':'black'})\n",
    "sns.distplot(df_full['rougher_input_feed_pb'], hist=True, kde=False, \n",
    "             bins=100, color = 'orange',\n",
    "             hist_kws={'edgecolor':'black'})\n",
    "plt.legend(['финальные характеристики', 'первичная очистка', 'флотация','первичное сырье'])\n",
    "plt.title('Изменение концентрации свинца на разных этапах очистки')\n",
    "plt.ylabel('Количество измерений, шт')\n",
    "plt.xlabel('Концентрация свинца, %')\n",
    ";"
   ]
  },
  {
   "cell_type": "code",
   "execution_count": 39,
   "metadata": {},
   "outputs": [
    {
     "data": {
      "text/html": [
       "<div>\n",
       "<style scoped>\n",
       "    .dataframe tbody tr th:only-of-type {\n",
       "        vertical-align: middle;\n",
       "    }\n",
       "\n",
       "    .dataframe tbody tr th {\n",
       "        vertical-align: top;\n",
       "    }\n",
       "\n",
       "    .dataframe thead th {\n",
       "        text-align: right;\n",
       "    }\n",
       "</style>\n",
       "<table border=\"1\" class=\"dataframe\">\n",
       "  <thead>\n",
       "    <tr style=\"text-align: right;\">\n",
       "      <th></th>\n",
       "      <th>count</th>\n",
       "      <th>mean</th>\n",
       "      <th>std</th>\n",
       "      <th>min</th>\n",
       "      <th>25%</th>\n",
       "      <th>50%</th>\n",
       "      <th>75%</th>\n",
       "      <th>max</th>\n",
       "    </tr>\n",
       "  </thead>\n",
       "  <tbody>\n",
       "    <tr>\n",
       "      <td>final_output_concentrate_pb</td>\n",
       "      <td>19438.0</td>\n",
       "      <td>9.978895</td>\n",
       "      <td>1.669240</td>\n",
       "      <td>0.00</td>\n",
       "      <td>9.137262</td>\n",
       "      <td>10.102433</td>\n",
       "      <td>11.035769</td>\n",
       "      <td>17.031899</td>\n",
       "    </tr>\n",
       "    <tr>\n",
       "      <td>primary_cleaner_output_concentrate_pb</td>\n",
       "      <td>19323.0</td>\n",
       "      <td>9.829530</td>\n",
       "      <td>2.556843</td>\n",
       "      <td>0.00</td>\n",
       "      <td>8.702328</td>\n",
       "      <td>10.152433</td>\n",
       "      <td>11.424971</td>\n",
       "      <td>17.081278</td>\n",
       "    </tr>\n",
       "    <tr>\n",
       "      <td>rougher_output_concentrate_pb</td>\n",
       "      <td>19439.0</td>\n",
       "      <td>7.606272</td>\n",
       "      <td>1.796757</td>\n",
       "      <td>0.00</td>\n",
       "      <td>6.725987</td>\n",
       "      <td>7.742580</td>\n",
       "      <td>8.565199</td>\n",
       "      <td>13.617072</td>\n",
       "    </tr>\n",
       "    <tr>\n",
       "      <td>rougher_input_feed_pb</td>\n",
       "      <td>19339.0</td>\n",
       "      <td>3.598085</td>\n",
       "      <td>1.049486</td>\n",
       "      <td>0.01</td>\n",
       "      <td>2.887280</td>\n",
       "      <td>3.534895</td>\n",
       "      <td>4.244161</td>\n",
       "      <td>7.142594</td>\n",
       "    </tr>\n",
       "  </tbody>\n",
       "</table>\n",
       "</div>"
      ],
      "text/plain": [
       "                                         count      mean       std   min  \\\n",
       "final_output_concentrate_pb            19438.0  9.978895  1.669240  0.00   \n",
       "primary_cleaner_output_concentrate_pb  19323.0  9.829530  2.556843  0.00   \n",
       "rougher_output_concentrate_pb          19439.0  7.606272  1.796757  0.00   \n",
       "rougher_input_feed_pb                  19339.0  3.598085  1.049486  0.01   \n",
       "\n",
       "                                            25%        50%        75%  \\\n",
       "final_output_concentrate_pb            9.137262  10.102433  11.035769   \n",
       "primary_cleaner_output_concentrate_pb  8.702328  10.152433  11.424971   \n",
       "rougher_output_concentrate_pb          6.725987   7.742580   8.565199   \n",
       "rougher_input_feed_pb                  2.887280   3.534895   4.244161   \n",
       "\n",
       "                                             max  \n",
       "final_output_concentrate_pb            17.031899  \n",
       "primary_cleaner_output_concentrate_pb  17.081278  \n",
       "rougher_output_concentrate_pb          13.617072  \n",
       "rougher_input_feed_pb                   7.142594  "
      ]
     },
     "execution_count": 39,
     "metadata": {},
     "output_type": "execute_result"
    }
   ],
   "source": [
    "df_full[['final_output_concentrate_pb',\n",
    "         'primary_cleaner_output_concentrate_pb',\n",
    "         'rougher_output_concentrate_pb',         \n",
    "         'rougher_input_feed_pb']].describe().transpose()"
   ]
  },
  {
   "cell_type": "markdown",
   "metadata": {},
   "source": [
    "Концентрация свинца растет с первоначальных 3,5% до 7,5 и выше до 10%. Виден большой разброс значений. "
   ]
  },
  {
   "cell_type": "markdown",
   "metadata": {},
   "source": [
    "### Сравнение распределения размеров гранул сырья на обучающей и тестовой выборках"
   ]
  },
  {
   "cell_type": "code",
   "execution_count": 40,
   "metadata": {},
   "outputs": [
    {
     "data": {
      "text/plain": [
       "''"
      ]
     },
     "execution_count": 40,
     "metadata": {},
     "output_type": "execute_result"
    },
    {
     "data": {
      "image/png": "[encoded data removed]",
      "text/plain": [
       "<Figure size 1080x288 with 1 Axes>"
      ]
     },
     "metadata": {
      "needs_background": "light"
     },
     "output_type": "display_data"
    }
   ],
   "source": [
    "plt.figure(figsize=(15,4))\n",
    "sns.distplot(df_train['rougher_input_feed_size'], hist=True, kde=False, \n",
    "             bins=np.linspace(0, 130, 100), color = 'blue',                     #добавил размер столбиков\n",
    "             norm_hist = True,                \n",
    "             hist_kws={'edgecolor':'black'})\n",
    "\n",
    "sns.distplot(df_test['rougher_input_feed_size'], hist=True, kde=False, \n",
    "             bins=np.linspace(0, 130, 100), color = 'yellow',\n",
    "             norm_hist = True,\n",
    "             hist_kws={'edgecolor':'black'})\n",
    "\n",
    "plt.legend(['обучающая выборка', 'тестовая выборка'])\n",
    "plt.xlim(0, 150)\n",
    "plt.title('Распределение размеров гранул перед перед флотацией')\n",
    "plt.ylabel('Доля измерений')\n",
    "plt.xlabel('Размер гранул')\n",
    ";"
   ]
  },
  {
   "cell_type": "code",
   "execution_count": 41,
   "metadata": {},
   "outputs": [
    {
     "data": {
      "image/png": "[encoded data removed]",
      "text/plain": [
       "<Figure size 1224x288 with 1 Axes>"
      ]
     },
     "metadata": {
      "needs_background": "light"
     },
     "output_type": "display_data"
    },
    {
     "data": {
      "image/png": "[encoded data removed]",
      "text/plain": [
       "<Figure size 1224x288 with 1 Axes>"
      ]
     },
     "metadata": {
      "needs_background": "light"
     },
     "output_type": "display_data"
    }
   ],
   "source": [
    "plt.figure(figsize=(17,4))\n",
    "sns.boxplot( x=df_train['rougher_input_feed_size'] )\n",
    "plt.title('Распределение размеров гранул перед перед флотацией')\n",
    "plt.ylabel('Обучающая выборка')\n",
    "plt.xlabel('Размер гранул')\n",
    "plt.xlim(0, 500)\n",
    "plt.show()\n",
    "plt.figure(figsize=(17,4))\n",
    "sns.boxplot( x=df_test['rougher_input_feed_size'] )\n",
    "plt.title('Распределение размеров гранул перед перед флотацией')\n",
    "plt.ylabel('Тестовая выборка')\n",
    "plt.xlabel('Размер гранул')\n",
    "\n",
    "plt.xlim(0, 500)\n",
    "plt.show()"
   ]
  },
  {
   "cell_type": "code",
   "execution_count": 42,
   "metadata": {},
   "outputs": [
    {
     "data": {
      "text/plain": [
       "''"
      ]
     },
     "execution_count": 42,
     "metadata": {},
     "output_type": "execute_result"
    },
    {
     "data": {
      "image/png": "[encoded data removed]",
      "text/plain": [
       "<Figure size 1080x288 with 1 Axes>"
      ]
     },
     "metadata": {
      "needs_background": "light"
     },
     "output_type": "display_data"
    }
   ],
   "source": [
    "plt.figure(figsize=(15,4))\n",
    "sns.distplot(df_train['primary_cleaner_input_feed_size'], hist=True, kde=False, \n",
    "             bins=np.linspace(0, 17, 150), color = 'blue',\n",
    "             norm_hist = True,                \n",
    "             hist_kws={'edgecolor':'black'})\n",
    "\n",
    "sns.distplot(df_test['primary_cleaner_input_feed_size'], hist=True, kde=False, \n",
    "             bins=np.linspace(0, 17, 150), color = 'yellow',\n",
    "             norm_hist = True,\n",
    "             hist_kws={'edgecolor':'black'})\n",
    "plt.legend(['обучающая выборка', 'тестовая выборка'])\n",
    "plt.title('Распределение размеров гранул перед перед первичной очисткой')\n",
    "plt.ylabel('Доля измерений')\n",
    "plt.xlabel('Размер гранул')\n",
    ";"
   ]
  },
  {
   "cell_type": "markdown",
   "metadata": {},
   "source": [
    "На начальном этапе разброс размеров гранул огромный, распределение не похоже на нормальное, средние находятся далеко друг от друга, но все же диапозоны пересекаются.\n",
    "После флотации размеры гранул существенно снижаются, их распределение принимает явно нормальный характер и совпадает в обеих выборках.\n",
    "Размеры гранул не отличаются, модель обучить возможно\n"
   ]
  },
  {
   "cell_type": "markdown",
   "metadata": {},
   "source": [
    "### Cуммарная концентрация веществ на разных стадиях"
   ]
  },
  {
   "cell_type": "markdown",
   "metadata": {},
   "source": [
    "Создадим колонки с суммарной концентрацией веществ на разных этапах"
   ]
  },
  {
   "cell_type": "code",
   "execution_count": 43,
   "metadata": {},
   "outputs": [],
   "source": [
    "df_train['final_output'] = (df_train['final_output_concentrate_au'] + \n",
    "                           df_train['final_output_concentrate_ag'] + \n",
    "                           df_train['final_output_concentrate_sol'] +                 \n",
    "                           df_train['final_output_concentrate_pb'])\n",
    "\n",
    "df_train['primary_cleaner_output'] = (df_train['primary_cleaner_output_concentrate_au'] + \n",
    "                           df_train['primary_cleaner_output_concentrate_ag'] + \n",
    "                           df_train['primary_cleaner_output_concentrate_sol'] +          \n",
    "                           df_train['primary_cleaner_output_concentrate_pb'])\n",
    "\n",
    "df_train['rougher_output'] = (df_train['rougher_output_concentrate_au'] + \n",
    "                           df_train['rougher_output_concentrate_ag'] + \n",
    "                           df_train['rougher_output_concentrate_sol'] +               \n",
    "                           df_train['rougher_output_concentrate_pb'])\n",
    "\n",
    "df_train['rougher_input'] = (df_train['rougher_input_feed_au'] + \n",
    "                           df_train['rougher_input_feed_ag'] + \n",
    "                           df_train['rougher_input_feed_sol'] +                       \n",
    "                           df_train['rougher_input_feed_pb'])"
   ]
  },
  {
   "cell_type": "code",
   "execution_count": 44,
   "metadata": {},
   "outputs": [
    {
     "data": {
      "image/png": "[encoded data removed]",
      "text/plain": [
       "<Figure size 1080x288 with 1 Axes>"
      ]
     },
     "metadata": {
      "needs_background": "light"
     },
     "output_type": "display_data"
    },
    {
     "data": {
      "image/png": "[encoded data removed]",
      "text/plain": [
       "<Figure size 1080x288 with 1 Axes>"
      ]
     },
     "metadata": {
      "needs_background": "light"
     },
     "output_type": "display_data"
    },
    {
     "data": {
      "image/png": "[encoded data removed]",
      "text/plain": [
       "<Figure size 1080x288 with 1 Axes>"
      ]
     },
     "metadata": {
      "needs_background": "light"
     },
     "output_type": "display_data"
    },
    {
     "data": {
      "text/plain": [
       "(0, 80)"
      ]
     },
     "execution_count": 44,
     "metadata": {},
     "output_type": "execute_result"
    },
    {
     "data": {
      "image/png": "[encoded data removed]",
      "text/plain": [
       "<Figure size 1080x288 with 1 Axes>"
      ]
     },
     "metadata": {
      "needs_background": "light"
     },
     "output_type": "display_data"
    }
   ],
   "source": [
    "plt.figure(figsize=(15,4))\n",
    "sns.distplot(df_train['rougher_input'], hist=True, kde=False, \n",
    "             bins=100, color = 'blue',\n",
    "             hist_kws={'edgecolor':'black'})\n",
    "plt.title('Исходное сырьё')\n",
    "plt.ylabel('Количество измерений, шт')\n",
    "plt.xlabel('Концентрация, %')\n",
    "plt.xlim(0, 80)\n",
    "plt.show()\n",
    "plt.figure(figsize=(15,4))\n",
    "sns.distplot(df_train['rougher_output'], hist=True, kde=False, \n",
    "             bins=100, color = 'yellow',\n",
    "             hist_kws={'edgecolor':'black'})\n",
    "plt.title('Флотация')\n",
    "plt.ylabel('Количество измерений, шт')\n",
    "plt.xlabel('Концентрация, %')\n",
    "plt.xlim(0, 80)\n",
    "plt.show()\n",
    "plt.figure(figsize=(15,4))\n",
    "sns.distplot(df_train['primary_cleaner_output'], hist=True, kde=False, \n",
    "             bins=100, color = 'red',\n",
    "             hist_kws={'edgecolor':'black'})\n",
    "\n",
    "plt.title('Первичная очистка')\n",
    "plt.ylabel('Количество измерений, шт')\n",
    "plt.xlabel('Концентрация, %')\n",
    "plt.xlim(0, 80)\n",
    "plt.show()\n",
    "plt.figure(figsize=(15,4))\n",
    "sns.distplot(df_train['final_output'], hist=True, kde=False, \n",
    "             bins=100, color = 'orange',\n",
    "             hist_kws={'edgecolor':'black'})\n",
    "\n",
    "plt.title('Финальный результат')\n",
    "plt.ylabel('Количество измерений, шт')\n",
    "plt.xlabel('Концентрация, %')\n",
    "plt.xlim(0, 80)\n"
   ]
  },
  {
   "cell_type": "markdown",
   "metadata": {},
   "source": [
    "После этапа флотации и более поздних большее количество нулевых значений, посмотрим подробнее"
   ]
  },
  {
   "cell_type": "code",
   "execution_count": 45,
   "metadata": {},
   "outputs": [
    {
     "data": {
      "text/html": [
       "<div>\n",
       "<style scoped>\n",
       "    .dataframe tbody tr th:only-of-type {\n",
       "        vertical-align: middle;\n",
       "    }\n",
       "\n",
       "    .dataframe tbody tr th {\n",
       "        vertical-align: top;\n",
       "    }\n",
       "\n",
       "    .dataframe thead th {\n",
       "        text-align: right;\n",
       "    }\n",
       "</style>\n",
       "<table border=\"1\" class=\"dataframe\">\n",
       "  <thead>\n",
       "    <tr style=\"text-align: right;\">\n",
       "      <th></th>\n",
       "      <th>date</th>\n",
       "      <th>final_output_concentrate_ag</th>\n",
       "      <th>final_output_concentrate_pb</th>\n",
       "      <th>final_output_concentrate_sol</th>\n",
       "      <th>final_output_concentrate_au</th>\n",
       "      <th>final_output_recovery</th>\n",
       "      <th>final_output_tail_ag</th>\n",
       "      <th>final_output_tail_pb</th>\n",
       "      <th>final_output_tail_sol</th>\n",
       "      <th>final_output_tail_au</th>\n",
       "      <th>...</th>\n",
       "      <th>secondary_cleaner_state_floatbank5_a_air</th>\n",
       "      <th>secondary_cleaner_state_floatbank5_a_level</th>\n",
       "      <th>secondary_cleaner_state_floatbank5_b_air</th>\n",
       "      <th>secondary_cleaner_state_floatbank5_b_level</th>\n",
       "      <th>secondary_cleaner_state_floatbank6_a_air</th>\n",
       "      <th>secondary_cleaner_state_floatbank6_a_level</th>\n",
       "      <th>final_output</th>\n",
       "      <th>primary_cleaner_output</th>\n",
       "      <th>rougher_output</th>\n",
       "      <th>rougher_input</th>\n",
       "    </tr>\n",
       "  </thead>\n",
       "  <tbody>\n",
       "    <tr>\n",
       "      <td>45</td>\n",
       "      <td>2016-01-16 21:00:00</td>\n",
       "      <td>4.566664</td>\n",
       "      <td>10.406178</td>\n",
       "      <td>4.588698</td>\n",
       "      <td>46.614456</td>\n",
       "      <td>68.403877</td>\n",
       "      <td>10.705777</td>\n",
       "      <td>1.509070</td>\n",
       "      <td>17.875134</td>\n",
       "      <td>2.509776</td>\n",
       "      <td>...</td>\n",
       "      <td>10.052072</td>\n",
       "      <td>-500.797905</td>\n",
       "      <td>7.984500</td>\n",
       "      <td>-499.581046</td>\n",
       "      <td>11.982025</td>\n",
       "      <td>-599.161228</td>\n",
       "      <td>66.175996</td>\n",
       "      <td>74.992510</td>\n",
       "      <td>0.00</td>\n",
       "      <td>58.602038</td>\n",
       "    </tr>\n",
       "    <tr>\n",
       "      <td>46</td>\n",
       "      <td>2016-01-16 22:00:00</td>\n",
       "      <td>4.577832</td>\n",
       "      <td>10.691605</td>\n",
       "      <td>5.274175</td>\n",
       "      <td>46.250638</td>\n",
       "      <td>70.675633</td>\n",
       "      <td>10.728531</td>\n",
       "      <td>1.641216</td>\n",
       "      <td>18.349339</td>\n",
       "      <td>2.540843</td>\n",
       "      <td>...</td>\n",
       "      <td>9.953139</td>\n",
       "      <td>-500.330920</td>\n",
       "      <td>8.012074</td>\n",
       "      <td>-500.133530</td>\n",
       "      <td>11.975316</td>\n",
       "      <td>-598.839683</td>\n",
       "      <td>66.794250</td>\n",
       "      <td>75.187102</td>\n",
       "      <td>0.00</td>\n",
       "      <td>59.921613</td>\n",
       "    </tr>\n",
       "    <tr>\n",
       "      <td>47</td>\n",
       "      <td>2016-01-16 23:00:00</td>\n",
       "      <td>4.591462</td>\n",
       "      <td>10.628846</td>\n",
       "      <td>5.688961</td>\n",
       "      <td>46.663335</td>\n",
       "      <td>55.088448</td>\n",
       "      <td>10.694584</td>\n",
       "      <td>1.671644</td>\n",
       "      <td>17.910312</td>\n",
       "      <td>2.686782</td>\n",
       "      <td>...</td>\n",
       "      <td>9.981163</td>\n",
       "      <td>-502.869109</td>\n",
       "      <td>7.941184</td>\n",
       "      <td>-500.623610</td>\n",
       "      <td>12.018837</td>\n",
       "      <td>-600.916665</td>\n",
       "      <td>67.572604</td>\n",
       "      <td>75.513787</td>\n",
       "      <td>0.00</td>\n",
       "      <td>57.269041</td>\n",
       "    </tr>\n",
       "    <tr>\n",
       "      <td>48</td>\n",
       "      <td>2016-01-17 00:00:00</td>\n",
       "      <td>5.296830</td>\n",
       "      <td>10.597469</td>\n",
       "      <td>5.688961</td>\n",
       "      <td>44.015642</td>\n",
       "      <td>41.962008</td>\n",
       "      <td>11.975654</td>\n",
       "      <td>1.846558</td>\n",
       "      <td>8.138408</td>\n",
       "      <td>2.889469</td>\n",
       "      <td>...</td>\n",
       "      <td>9.989726</td>\n",
       "      <td>-499.607365</td>\n",
       "      <td>7.958252</td>\n",
       "      <td>-498.882560</td>\n",
       "      <td>11.967977</td>\n",
       "      <td>-599.440603</td>\n",
       "      <td>65.598903</td>\n",
       "      <td>75.491415</td>\n",
       "      <td>0.00</td>\n",
       "      <td>25.352358</td>\n",
       "    </tr>\n",
       "    <tr>\n",
       "      <td>49</td>\n",
       "      <td>2016-01-17 02:00:00</td>\n",
       "      <td>8.162896</td>\n",
       "      <td>8.877528</td>\n",
       "      <td>5.688961</td>\n",
       "      <td>40.715973</td>\n",
       "      <td>49.884856</td>\n",
       "      <td>10.381465</td>\n",
       "      <td>1.024030</td>\n",
       "      <td>12.974257</td>\n",
       "      <td>2.739224</td>\n",
       "      <td>...</td>\n",
       "      <td>9.941869</td>\n",
       "      <td>-503.282068</td>\n",
       "      <td>8.018850</td>\n",
       "      <td>-500.970716</td>\n",
       "      <td>11.991078</td>\n",
       "      <td>-598.475929</td>\n",
       "      <td>63.445359</td>\n",
       "      <td>71.837866</td>\n",
       "      <td>0.00</td>\n",
       "      <td>40.721375</td>\n",
       "    </tr>\n",
       "    <tr>\n",
       "      <td>...</td>\n",
       "      <td>...</td>\n",
       "      <td>...</td>\n",
       "      <td>...</td>\n",
       "      <td>...</td>\n",
       "      <td>...</td>\n",
       "      <td>...</td>\n",
       "      <td>...</td>\n",
       "      <td>...</td>\n",
       "      <td>...</td>\n",
       "      <td>...</td>\n",
       "      <td>...</td>\n",
       "      <td>...</td>\n",
       "      <td>...</td>\n",
       "      <td>...</td>\n",
       "      <td>...</td>\n",
       "      <td>...</td>\n",
       "      <td>...</td>\n",
       "      <td>...</td>\n",
       "      <td>...</td>\n",
       "      <td>...</td>\n",
       "      <td>...</td>\n",
       "    </tr>\n",
       "    <tr>\n",
       "      <td>10936</td>\n",
       "      <td>2018-03-12 02:59:59</td>\n",
       "      <td>5.413548</td>\n",
       "      <td>9.389648</td>\n",
       "      <td>8.731319</td>\n",
       "      <td>45.270618</td>\n",
       "      <td>100.000000</td>\n",
       "      <td>0.000000</td>\n",
       "      <td>0.000000</td>\n",
       "      <td>0.000000</td>\n",
       "      <td>0.000000</td>\n",
       "      <td>...</td>\n",
       "      <td>17.987796</td>\n",
       "      <td>-500.438815</td>\n",
       "      <td>11.963555</td>\n",
       "      <td>-499.982857</td>\n",
       "      <td>12.015338</td>\n",
       "      <td>-500.051956</td>\n",
       "      <td>68.805134</td>\n",
       "      <td>63.823562</td>\n",
       "      <td>0.04</td>\n",
       "      <td>0.040000</td>\n",
       "    </tr>\n",
       "    <tr>\n",
       "      <td>10937</td>\n",
       "      <td>2018-03-12 03:59:59</td>\n",
       "      <td>5.413548</td>\n",
       "      <td>9.389648</td>\n",
       "      <td>8.731319</td>\n",
       "      <td>45.270618</td>\n",
       "      <td>100.000000</td>\n",
       "      <td>0.000000</td>\n",
       "      <td>0.000000</td>\n",
       "      <td>0.000000</td>\n",
       "      <td>0.000000</td>\n",
       "      <td>...</td>\n",
       "      <td>17.998973</td>\n",
       "      <td>-500.156797</td>\n",
       "      <td>12.035195</td>\n",
       "      <td>-500.141814</td>\n",
       "      <td>11.988525</td>\n",
       "      <td>-500.526074</td>\n",
       "      <td>68.805134</td>\n",
       "      <td>63.823562</td>\n",
       "      <td>0.04</td>\n",
       "      <td>0.040000</td>\n",
       "    </tr>\n",
       "    <tr>\n",
       "      <td>10938</td>\n",
       "      <td>2018-03-12 04:59:59</td>\n",
       "      <td>5.413548</td>\n",
       "      <td>9.389648</td>\n",
       "      <td>8.731319</td>\n",
       "      <td>45.270618</td>\n",
       "      <td>100.000000</td>\n",
       "      <td>0.000000</td>\n",
       "      <td>0.000000</td>\n",
       "      <td>0.000000</td>\n",
       "      <td>0.000000</td>\n",
       "      <td>...</td>\n",
       "      <td>18.055831</td>\n",
       "      <td>-500.061594</td>\n",
       "      <td>12.014652</td>\n",
       "      <td>-500.253440</td>\n",
       "      <td>12.003849</td>\n",
       "      <td>-499.838564</td>\n",
       "      <td>68.805134</td>\n",
       "      <td>63.823562</td>\n",
       "      <td>0.04</td>\n",
       "      <td>0.040000</td>\n",
       "    </tr>\n",
       "    <tr>\n",
       "      <td>10939</td>\n",
       "      <td>2018-03-12 05:59:59</td>\n",
       "      <td>5.413548</td>\n",
       "      <td>9.389648</td>\n",
       "      <td>8.731319</td>\n",
       "      <td>45.270618</td>\n",
       "      <td>100.000000</td>\n",
       "      <td>0.000000</td>\n",
       "      <td>0.000000</td>\n",
       "      <td>0.000000</td>\n",
       "      <td>0.000000</td>\n",
       "      <td>...</td>\n",
       "      <td>17.995171</td>\n",
       "      <td>-500.481962</td>\n",
       "      <td>11.988193</td>\n",
       "      <td>-500.208854</td>\n",
       "      <td>12.004454</td>\n",
       "      <td>-500.074096</td>\n",
       "      <td>68.805134</td>\n",
       "      <td>63.823562</td>\n",
       "      <td>0.04</td>\n",
       "      <td>0.040000</td>\n",
       "    </tr>\n",
       "    <tr>\n",
       "      <td>10940</td>\n",
       "      <td>2018-03-12 06:59:59</td>\n",
       "      <td>4.238007</td>\n",
       "      <td>7.349108</td>\n",
       "      <td>6.833999</td>\n",
       "      <td>35.424183</td>\n",
       "      <td>100.000000</td>\n",
       "      <td>0.000000</td>\n",
       "      <td>0.000000</td>\n",
       "      <td>0.000000</td>\n",
       "      <td>0.000000</td>\n",
       "      <td>...</td>\n",
       "      <td>17.954160</td>\n",
       "      <td>-499.576610</td>\n",
       "      <td>12.017173</td>\n",
       "      <td>-500.017529</td>\n",
       "      <td>11.984735</td>\n",
       "      <td>-500.399155</td>\n",
       "      <td>53.845297</td>\n",
       "      <td>49.947465</td>\n",
       "      <td>0.04</td>\n",
       "      <td>0.040000</td>\n",
       "    </tr>\n",
       "  </tbody>\n",
       "</table>\n",
       "<p>302 rows × 91 columns</p>\n",
       "</div>"
      ],
      "text/plain": [
       "                      date  final_output_concentrate_ag  \\\n",
       "45     2016-01-16 21:00:00                     4.566664   \n",
       "46     2016-01-16 22:00:00                     4.577832   \n",
       "47     2016-01-16 23:00:00                     4.591462   \n",
       "48     2016-01-17 00:00:00                     5.296830   \n",
       "49     2016-01-17 02:00:00                     8.162896   \n",
       "...                    ...                          ...   \n",
       "10936  2018-03-12 02:59:59                     5.413548   \n",
       "10937  2018-03-12 03:59:59                     5.413548   \n",
       "10938  2018-03-12 04:59:59                     5.413548   \n",
       "10939  2018-03-12 05:59:59                     5.413548   \n",
       "10940  2018-03-12 06:59:59                     4.238007   \n",
       "\n",
       "       final_output_concentrate_pb  final_output_concentrate_sol  \\\n",
       "45                       10.406178                      4.588698   \n",
       "46                       10.691605                      5.274175   \n",
       "47                       10.628846                      5.688961   \n",
       "48                       10.597469                      5.688961   \n",
       "49                        8.877528                      5.688961   \n",
       "...                            ...                           ...   \n",
       "10936                     9.389648                      8.731319   \n",
       "10937                     9.389648                      8.731319   \n",
       "10938                     9.389648                      8.731319   \n",
       "10939                     9.389648                      8.731319   \n",
       "10940                     7.349108                      6.833999   \n",
       "\n",
       "       final_output_concentrate_au  final_output_recovery  \\\n",
       "45                       46.614456              68.403877   \n",
       "46                       46.250638              70.675633   \n",
       "47                       46.663335              55.088448   \n",
       "48                       44.015642              41.962008   \n",
       "49                       40.715973              49.884856   \n",
       "...                            ...                    ...   \n",
       "10936                    45.270618             100.000000   \n",
       "10937                    45.270618             100.000000   \n",
       "10938                    45.270618             100.000000   \n",
       "10939                    45.270618             100.000000   \n",
       "10940                    35.424183             100.000000   \n",
       "\n",
       "       final_output_tail_ag  final_output_tail_pb  final_output_tail_sol  \\\n",
       "45                10.705777              1.509070              17.875134   \n",
       "46                10.728531              1.641216              18.349339   \n",
       "47                10.694584              1.671644              17.910312   \n",
       "48                11.975654              1.846558               8.138408   \n",
       "49                10.381465              1.024030              12.974257   \n",
       "...                     ...                   ...                    ...   \n",
       "10936              0.000000              0.000000               0.000000   \n",
       "10937              0.000000              0.000000               0.000000   \n",
       "10938              0.000000              0.000000               0.000000   \n",
       "10939              0.000000              0.000000               0.000000   \n",
       "10940              0.000000              0.000000               0.000000   \n",
       "\n",
       "       final_output_tail_au  ...  secondary_cleaner_state_floatbank5_a_air  \\\n",
       "45                 2.509776  ...                                 10.052072   \n",
       "46                 2.540843  ...                                  9.953139   \n",
       "47                 2.686782  ...                                  9.981163   \n",
       "48                 2.889469  ...                                  9.989726   \n",
       "49                 2.739224  ...                                  9.941869   \n",
       "...                     ...  ...                                       ...   \n",
       "10936              0.000000  ...                                 17.987796   \n",
       "10937              0.000000  ...                                 17.998973   \n",
       "10938              0.000000  ...                                 18.055831   \n",
       "10939              0.000000  ...                                 17.995171   \n",
       "10940              0.000000  ...                                 17.954160   \n",
       "\n",
       "       secondary_cleaner_state_floatbank5_a_level  \\\n",
       "45                                    -500.797905   \n",
       "46                                    -500.330920   \n",
       "47                                    -502.869109   \n",
       "48                                    -499.607365   \n",
       "49                                    -503.282068   \n",
       "...                                           ...   \n",
       "10936                                 -500.438815   \n",
       "10937                                 -500.156797   \n",
       "10938                                 -500.061594   \n",
       "10939                                 -500.481962   \n",
       "10940                                 -499.576610   \n",
       "\n",
       "       secondary_cleaner_state_floatbank5_b_air  \\\n",
       "45                                     7.984500   \n",
       "46                                     8.012074   \n",
       "47                                     7.941184   \n",
       "48                                     7.958252   \n",
       "49                                     8.018850   \n",
       "...                                         ...   \n",
       "10936                                 11.963555   \n",
       "10937                                 12.035195   \n",
       "10938                                 12.014652   \n",
       "10939                                 11.988193   \n",
       "10940                                 12.017173   \n",
       "\n",
       "       secondary_cleaner_state_floatbank5_b_level  \\\n",
       "45                                    -499.581046   \n",
       "46                                    -500.133530   \n",
       "47                                    -500.623610   \n",
       "48                                    -498.882560   \n",
       "49                                    -500.970716   \n",
       "...                                           ...   \n",
       "10936                                 -499.982857   \n",
       "10937                                 -500.141814   \n",
       "10938                                 -500.253440   \n",
       "10939                                 -500.208854   \n",
       "10940                                 -500.017529   \n",
       "\n",
       "       secondary_cleaner_state_floatbank6_a_air  \\\n",
       "45                                    11.982025   \n",
       "46                                    11.975316   \n",
       "47                                    12.018837   \n",
       "48                                    11.967977   \n",
       "49                                    11.991078   \n",
       "...                                         ...   \n",
       "10936                                 12.015338   \n",
       "10937                                 11.988525   \n",
       "10938                                 12.003849   \n",
       "10939                                 12.004454   \n",
       "10940                                 11.984735   \n",
       "\n",
       "       secondary_cleaner_state_floatbank6_a_level  final_output  \\\n",
       "45                                    -599.161228     66.175996   \n",
       "46                                    -598.839683     66.794250   \n",
       "47                                    -600.916665     67.572604   \n",
       "48                                    -599.440603     65.598903   \n",
       "49                                    -598.475929     63.445359   \n",
       "...                                           ...           ...   \n",
       "10936                                 -500.051956     68.805134   \n",
       "10937                                 -500.526074     68.805134   \n",
       "10938                                 -499.838564     68.805134   \n",
       "10939                                 -500.074096     68.805134   \n",
       "10940                                 -500.399155     53.845297   \n",
       "\n",
       "       primary_cleaner_output  rougher_output  rougher_input  \n",
       "45                  74.992510            0.00      58.602038  \n",
       "46                  75.187102            0.00      59.921613  \n",
       "47                  75.513787            0.00      57.269041  \n",
       "48                  75.491415            0.00      25.352358  \n",
       "49                  71.837866            0.00      40.721375  \n",
       "...                       ...             ...            ...  \n",
       "10936               63.823562            0.04       0.040000  \n",
       "10937               63.823562            0.04       0.040000  \n",
       "10938               63.823562            0.04       0.040000  \n",
       "10939               63.823562            0.04       0.040000  \n",
       "10940               49.947465            0.04       0.040000  \n",
       "\n",
       "[302 rows x 91 columns]"
      ]
     },
     "execution_count": 45,
     "metadata": {},
     "output_type": "execute_result"
    }
   ],
   "source": [
    "df_train[df_train['rougher_output'] < 1]"
   ]
  },
  {
   "cell_type": "code",
   "execution_count": 46,
   "metadata": {},
   "outputs": [
    {
     "data": {
      "text/plain": [
       "(0, 20)"
      ]
     },
     "execution_count": 46,
     "metadata": {},
     "output_type": "execute_result"
    },
    {
     "data": {
      "image/png": "[encoded data removed]",
      "text/plain": [
       "<Figure size 432x288 with 1 Axes>"
      ]
     },
     "metadata": {
      "needs_background": "light"
     },
     "output_type": "display_data"
    }
   ],
   "source": [
    "sns.distplot(df_train['primary_cleaner_output'], hist=True, kde=False, \n",
    "             bins=np.linspace(0, 0.4, 4), color = 'red',\n",
    "             hist_kws={'edgecolor':'black'})\n",
    "plt.xlim(0, 20)"
   ]
  },
  {
   "cell_type": "markdown",
   "metadata": {},
   "source": [
    "Нелогично, что после того как на раннем этапе была низкая концентрация металла, на следующем уже нет. Очевидно, что это ошибка измерения или особенность, о которой мне неизвестно.\n",
    "Удалим строки со значениями ниже 1:"
   ]
  },
  {
   "cell_type": "code",
   "execution_count": 47,
   "metadata": {},
   "outputs": [],
   "source": [
    "df_train = df_train[df_train['final_output'] > 1] \n",
    "df_train = df_train[df_train['rougher_output'] > 1] \n",
    "df_train = df_train[df_train['rougher_input'] > 1] \n",
    "df_train = df_train[df_train['primary_cleaner_output'] > 1] "
   ]
  },
  {
   "cell_type": "markdown",
   "metadata": {},
   "source": [
    "Проверим результат:"
   ]
  },
  {
   "cell_type": "code",
   "execution_count": 48,
   "metadata": {},
   "outputs": [
    {
     "data": {
      "image/png": "[encoded data removed]",
      "text/plain": [
       "<Figure size 1080x288 with 1 Axes>"
      ]
     },
     "metadata": {
      "needs_background": "light"
     },
     "output_type": "display_data"
    },
    {
     "data": {
      "image/png": "[encoded data removed]",
      "text/plain": [
       "<Figure size 1080x288 with 1 Axes>"
      ]
     },
     "metadata": {
      "needs_background": "light"
     },
     "output_type": "display_data"
    },
    {
     "data": {
      "image/png": "[encoded data removed]",
      "text/plain": [
       "<Figure size 1080x288 with 1 Axes>"
      ]
     },
     "metadata": {
      "needs_background": "light"
     },
     "output_type": "display_data"
    },
    {
     "data": {
      "text/plain": [
       "(0, 80)"
      ]
     },
     "execution_count": 48,
     "metadata": {},
     "output_type": "execute_result"
    },
    {
     "data": {
      "image/png": "[encoded data removed]",
      "text/plain": [
       "<Figure size 1080x288 with 1 Axes>"
      ]
     },
     "metadata": {
      "needs_background": "light"
     },
     "output_type": "display_data"
    }
   ],
   "source": [
    "plt.figure(figsize=(15,4))\n",
    "sns.distplot(df_train['rougher_input'], hist=True, kde=False, \n",
    "             bins=100, color = 'blue',\n",
    "             hist_kws={'edgecolor':'black'})\n",
    "plt.title('Исходное сырьё')\n",
    "plt.ylabel('Количество измерений, шт')\n",
    "plt.xlabel('Концентрация, %')\n",
    "plt.xlim(0, 80)\n",
    "plt.show()\n",
    "plt.figure(figsize=(15,4))\n",
    "sns.distplot(df_train['rougher_output'], hist=True, kde=False, \n",
    "             bins=100, color = 'yellow',\n",
    "             hist_kws={'edgecolor':'black'})\n",
    "plt.title('Флотация')\n",
    "plt.ylabel('Количество измерений, шт')\n",
    "plt.xlabel('Концентрация, %')\n",
    "plt.xlim(0, 80)\n",
    "plt.show()\n",
    "plt.figure(figsize=(15,4))\n",
    "sns.distplot(df_train['primary_cleaner_output'], hist=True, kde=False, \n",
    "             bins=100, color = 'red',\n",
    "             hist_kws={'edgecolor':'black'})\n",
    "\n",
    "plt.title('Первичная очистка')\n",
    "plt.ylabel('Количество измерений, шт')\n",
    "plt.xlabel('Концентрация, %')\n",
    "plt.xlim(0, 80)\n",
    "plt.show()\n",
    "plt.figure(figsize=(15,4))\n",
    "sns.distplot(df_train['final_output'], hist=True, kde=False, \n",
    "             bins=100, color = 'orange',\n",
    "             hist_kws={'edgecolor':'black'})\n",
    "\n",
    "plt.title('Финальный результат')\n",
    "plt.ylabel('Количество измерений, шт')\n",
    "plt.xlabel('Концентрация, %')\n",
    "plt.xlim(0, 80)"
   ]
  },
  {
   "cell_type": "markdown",
   "metadata": {},
   "source": [
    "Аномалий не осталось"
   ]
  },
  {
   "cell_type": "markdown",
   "metadata": {},
   "source": [
    "### Вывод"
   ]
  },
  {
   "cell_type": "markdown",
   "metadata": {},
   "source": [
    "Мы увидели, что на каждом этапе обработки  концентрация золота и других металлов увеличивается. При этом наблюдаем большой разброс результатов. Есть потенциал увеличения среднего результата при работе над входными параметрами.\n",
    "\n",
    "На начальном этапе разброс размеров гранул огромный, распределение не похоже на нормальное, средние находятся далеко друг от друга, но все же диапозоны пересекаются. После флотации размеры гранул существенно снижаются, их распределение принимает явно нормальный характер и совпадает в обеих выборках. Размеры гранул не отличаются, модель обучить возможно\n",
    "\n",
    "После этапа флотации и более поздних появляется аномально большее количество нулевых значений. Очевидно, что это ошибка измерения или особенность, о которой мне неизвестно. Мы удалили строки с нулями.\n"
   ]
  },
  {
   "cell_type": "markdown",
   "metadata": {},
   "source": [
    "## Модель"
   ]
  },
  {
   "cell_type": "markdown",
   "metadata": {},
   "source": [
    "### Функция для вычисления итоговой sMAPE"
   ]
  },
  {
   "cell_type": "code",
   "execution_count": 49,
   "metadata": {},
   "outputs": [],
   "source": [
    "def smape(targ, pred):\n",
    "    targ_rou = targ[:,0]\n",
    "    targ_fin = targ[:,1]\n",
    "    pred_rou = pred[:,0]\n",
    "    pred_fin = pred[:,1]\n",
    "    \n",
    "    smape_rou = (abs(targ_rou - pred_rou)*2/(abs(targ_rou) + abs(pred_rou))).sum()/len(targ_rou) * 100\n",
    "    smape_fin = (abs(targ_fin - pred_fin)*2/(abs(targ_fin) + abs(pred_fin))).sum()/len(targ_rou) * 100\n",
    "    smape_res = smape_rou/4 + smape_fin * 0.75\n",
    "    return smape_res    "
   ]
  },
  {
   "cell_type": "markdown",
   "metadata": {},
   "source": [
    "### Обучим модели"
   ]
  },
  {
   "cell_type": "markdown",
   "metadata": {},
   "source": [
    "Подготовим данные для моделей"
   ]
  },
  {
   "cell_type": "code",
   "execution_count": 50,
   "metadata": {},
   "outputs": [],
   "source": [
    "df_train = df_train.drop('date', axis = 1)"
   ]
  },
  {
   "cell_type": "code",
   "execution_count": 51,
   "metadata": {},
   "outputs": [],
   "source": [
    "df_train = df_train.drop(['rougher_output', 'final_output', 'rougher_input', 'primary_cleaner_output'], axis = 1)"
   ]
  },
  {
   "cell_type": "code",
   "execution_count": 52,
   "metadata": {},
   "outputs": [],
   "source": [
    "df_test.reset_index(inplace = True)\n",
    "df_test = df_test.drop('date', axis = 1)"
   ]
  },
  {
   "cell_type": "code",
   "execution_count": 53,
   "metadata": {},
   "outputs": [],
   "source": [
    "df_test = df_test[df_train.columns] #добавил"
   ]
  },
  {
   "cell_type": "code",
   "execution_count": 54,
   "metadata": {},
   "outputs": [],
   "source": [
    "x_train = df_train.drop(targets, axis = 1)\n",
    "x_test = df_test.drop(targets, axis = 1)\n",
    "y_train = df_train[['rougher_output_recovery', 'final_output_recovery']].values\n",
    "y_test = df_test[['rougher_output_recovery', 'final_output_recovery']].values"
   ]
  },
  {
   "cell_type": "markdown",
   "metadata": {},
   "source": [
    "Загрузим модели и напишем функцию для кросвалидации:"
   ]
  },
  {
   "cell_type": "code",
   "execution_count": 56,
   "metadata": {},
   "outputs": [],
   "source": [
    "lr = LinearRegression()\n",
    "dtr = DecisionTreeRegressor(random_state = 79)\n",
    "rfr = RandomForestRegressor(random_state = 79)\n",
    "base_model = DummyRegressor(strategy='mean')"
   ]
  },
  {
   "cell_type": "code",
   "execution_count": 57,
   "metadata": {},
   "outputs": [],
   "source": [
    "def crossval(model, x_train, y_train):\n",
    "    smape_score = make_scorer(smape)\n",
    "    scores = cross_val_score(model, x_train, y_train, cv=5, scoring = smape_score)\n",
    "    return scores.mean()"
   ]
  },
  {
   "cell_type": "markdown",
   "metadata": {},
   "source": [
    "Расчитаем для каждой модели итоговый sMAPE:"
   ]
  },
  {
   "cell_type": "code",
   "execution_count": 58,
   "metadata": {},
   "outputs": [
    {
     "data": {
      "text/plain": [
       "10.091070510181282"
      ]
     },
     "execution_count": 58,
     "metadata": {},
     "output_type": "execute_result"
    }
   ],
   "source": [
    "smape_lr = crossval(lr, x_train, y_train)\n",
    "smape_lr"
   ]
  },
  {
   "cell_type": "code",
   "execution_count": 59,
   "metadata": {},
   "outputs": [
    {
     "data": {
      "text/plain": [
       "15.459035826748144"
      ]
     },
     "execution_count": 59,
     "metadata": {},
     "output_type": "execute_result"
    }
   ],
   "source": [
    "smape_dtr = crossval(dtr, x_train, y_train)\n",
    "smape_dtr"
   ]
  },
  {
   "cell_type": "code",
   "execution_count": 60,
   "metadata": {},
   "outputs": [
    {
     "data": {
      "text/plain": [
       "9.583447297853231"
      ]
     },
     "execution_count": 60,
     "metadata": {},
     "output_type": "execute_result"
    }
   ],
   "source": [
    "smape_rfr = crossval(rfr, x_train, y_train)\n",
    "smape_rfr "
   ]
  },
  {
   "cell_type": "code",
   "execution_count": 62,
   "metadata": {},
   "outputs": [
    {
     "data": {
      "text/plain": [
       "9.644133153954556"
      ]
     },
     "execution_count": 62,
     "metadata": {},
     "output_type": "execute_result"
    }
   ],
   "source": [
    "smape_base = crossval(base_model, x_train, y_train)\n",
    "smape_base"
   ]
  },
  {
   "cell_type": "markdown",
   "metadata": {},
   "source": [
    "Лучший результат показала модель случайного леса с sMAPE = 9.58   \n",
    "\n",
    "Подберем гиперпараметры:"
   ]
  },
  {
   "cell_type": "code",
   "execution_count": 55,
   "metadata": {},
   "outputs": [],
   "source": [
    "state = np.random.RandomState(12345)"
   ]
  },
  {
   "cell_type": "code",
   "execution_count": 71,
   "metadata": {},
   "outputs": [
    {
     "name": "stdout",
     "output_type": "stream",
     "text": [
      "RandomForestRegressor(bootstrap=True, criterion='mse', max_depth=23,\n",
      "                      max_features='auto', max_leaf_nodes=None,\n",
      "                      min_impurity_decrease=0.0, min_impurity_split=None,\n",
      "                      min_samples_leaf=1, min_samples_split=2,\n",
      "                      min_weight_fraction_leaf=0.0, n_estimators=60,\n",
      "                      n_jobs=None, oob_score=False,\n",
      "                      random_state=RandomState(MT19937) at 0x7FB0036E3270,\n",
      "                      verbose=0, warm_start=False)\n",
      "-9.43776304742024\n",
      "CPU times: user 33min 55s, sys: 724 ms, total: 33min 56s\n",
      "Wall time: 34min 5s\n"
     ]
    }
   ],
   "source": [
    "%%time\n",
    "best_model = None\n",
    "best_result = -20\n",
    "for est in range(45, 61, 3):\n",
    "    for depth in range (23, 29, 3):\n",
    "        model = RandomForestRegressor(random_state=state, n_estimators=est, max_depth=depth) \n",
    "        result = -1*crossval(model, x_train, y_train)\n",
    "        if result > best_result:\n",
    "            best_model = model\n",
    "            best_result = result\n",
    "print(best_model)\n",
    "print(best_result)"
   ]
  },
  {
   "cell_type": "markdown",
   "metadata": {},
   "source": [
    "Показатель немного улучшился после подбора гиперпараметров\n",
    "\n",
    "Проверим нашу модель на тестовой выборке:"
   ]
  },
  {
   "cell_type": "code",
   "execution_count": 75,
   "metadata": {},
   "outputs": [],
   "source": [
    "best_model = RandomForestRegressor(random_state=79, n_estimators=60, max_depth=23)"
   ]
  },
  {
   "cell_type": "code",
   "execution_count": 76,
   "metadata": {},
   "outputs": [
    {
     "data": {
      "text/plain": [
       "RandomForestRegressor(bootstrap=True, criterion='mse', max_depth=23,\n",
       "                      max_features='auto', max_leaf_nodes=None,\n",
       "                      min_impurity_decrease=0.0, min_impurity_split=None,\n",
       "                      min_samples_leaf=1, min_samples_split=2,\n",
       "                      min_weight_fraction_leaf=0.0, n_estimators=60,\n",
       "                      n_jobs=None, oob_score=False, random_state=79, verbose=0,\n",
       "                      warm_start=False)"
      ]
     },
     "execution_count": 76,
     "metadata": {},
     "output_type": "execute_result"
    }
   ],
   "source": [
    "best_model.fit(x_train, y_train)"
   ]
  },
  {
   "cell_type": "code",
   "execution_count": 77,
   "metadata": {},
   "outputs": [],
   "source": [
    "y_pred = best_model.predict(x_test) "
   ]
  },
  {
   "cell_type": "code",
   "execution_count": 78,
   "metadata": {},
   "outputs": [
    {
     "data": {
      "text/plain": [
       "10.599586176689995"
      ]
     },
     "execution_count": 78,
     "metadata": {},
     "output_type": "execute_result"
    }
   ],
   "source": [
    "result = smape(y_test, y_pred)\n",
    "result"
   ]
  },
  {
   "cell_type": "markdown",
   "metadata": {},
   "source": [
    "## Вывод"
   ]
  },
  {
   "cell_type": "markdown",
   "metadata": {},
   "source": [
    "Мы получили 3 датасета: полный и его деление на тестовый и тренировочный:\n",
    "\n",
    "Всего 19 439 событий были разбиты на 14 149 и 5 290 соответственно.\n",
    "В тестовой выборке 53 признака против 87 у полного датасета и тренировочной выборке.\n",
    "\n",
    "Анализ показал, что это были исключены онлайн метрики.\n",
    "\n",
    "Мы провели расчет значения эффективности обогащения и выяснили, что оно изначально было подсчитано верно, это видно наглядно из таблицы и подтверждает исчезающее значение MAE.\n",
    "\n",
    "Небольшое количество пропусков в целевых значениях удалили, чтобы не помешать обучению модели, в целевых - заменили ближайшим по времени.\n",
    "\n",
    "Мы увидели, что на каждом этапе обработки концентрация золота и других металлов увеличивается. При этом наблюдаем большой разброс результатов. Есть потенциал увеличения среднего результата при работе над входными параметрами.\n",
    "\n",
    "На начальном этапе разброс размеров гранул огромный, распределение не похоже на нормальное, средние находятся далеко друг от друга, но все же диапозоны пересекаются. После флотации размеры гранул существенно снижаются, их распределение принимает явно нормальный характер и совпадает в обеих выборках. Размеры гранул не отличаются, модель обучить возможно\n",
    "\n",
    "Обучение нескольких моделей при кросвалидации показало наибольшую эффективность случайного леса\n",
    "\n",
    "sMAPE Случайного леса на тестовой выборке равен 10,6\n",
    "\n",
    "Будем использовать модель случайного леса для предсказания результатов 2 х показателей"
   ]
  }
 ],
 "metadata": {
  "ExecuteTimeLog": [
   {
    "duration": 1499,
    "start_time": "2021-08-29T12:11:45.388Z"
   },
   {
    "duration": 4,
    "start_time": "2021-08-29T12:19:23.135Z"
   },
   {
    "duration": 891,
    "start_time": "2021-08-29T12:20:32.120Z"
   },
   {
    "duration": 44,
    "start_time": "2021-08-29T12:31:44.324Z"
   },
   {
    "duration": 31,
    "start_time": "2021-08-29T12:33:35.761Z"
   },
   {
    "duration": 33,
    "start_time": "2021-08-29T12:34:07.711Z"
   },
   {
    "duration": 25,
    "start_time": "2021-08-29T12:34:39.709Z"
   },
   {
    "duration": 112,
    "start_time": "2021-08-29T12:36:08.192Z"
   },
   {
    "duration": 357,
    "start_time": "2021-08-29T12:38:03.159Z"
   },
   {
    "duration": 592,
    "start_time": "2021-08-29T12:38:24.010Z"
   },
   {
    "duration": 468,
    "start_time": "2021-08-29T12:39:01.808Z"
   },
   {
    "duration": 112,
    "start_time": "2021-08-29T12:39:08.383Z"
   },
   {
    "duration": 107,
    "start_time": "2021-08-29T12:40:11.481Z"
   },
   {
    "duration": 32,
    "start_time": "2021-08-29T12:47:45.167Z"
   },
   {
    "duration": 3,
    "start_time": "2021-08-29T12:50:40.973Z"
   },
   {
    "duration": 18,
    "start_time": "2021-08-29T12:51:04.973Z"
   },
   {
    "duration": 4,
    "start_time": "2021-08-29T12:51:46.164Z"
   },
   {
    "duration": 22,
    "start_time": "2021-08-29T12:51:47.098Z"
   },
   {
    "duration": 4,
    "start_time": "2021-08-29T12:53:24.173Z"
   },
   {
    "duration": 23,
    "start_time": "2021-08-29T12:53:25.791Z"
   },
   {
    "duration": 4,
    "start_time": "2021-08-29T12:53:52.703Z"
   },
   {
    "duration": 33,
    "start_time": "2021-08-29T12:53:53.925Z"
   },
   {
    "duration": 3,
    "start_time": "2021-08-29T12:54:18.047Z"
   },
   {
    "duration": 50,
    "start_time": "2021-08-29T12:54:18.960Z"
   },
   {
    "duration": 4,
    "start_time": "2021-08-29T12:55:32.814Z"
   },
   {
    "duration": 164,
    "start_time": "2021-08-29T12:55:34.368Z"
   },
   {
    "duration": 4,
    "start_time": "2021-08-29T13:00:45.664Z"
   },
   {
    "duration": 138,
    "start_time": "2021-08-29T13:01:01.993Z"
   },
   {
    "duration": 103,
    "start_time": "2021-08-29T13:01:27.625Z"
   },
   {
    "duration": 5,
    "start_time": "2021-08-29T13:02:21.801Z"
   },
   {
    "duration": 989,
    "start_time": "2021-08-29T13:02:23.123Z"
   },
   {
    "duration": 822,
    "start_time": "2021-08-29T13:02:32.690Z"
   },
   {
    "duration": 5,
    "start_time": "2021-08-29T13:02:36.791Z"
   },
   {
    "duration": 849,
    "start_time": "2021-08-29T13:02:37.891Z"
   },
   {
    "duration": 4,
    "start_time": "2021-08-29T13:02:52.441Z"
   },
   {
    "duration": 5,
    "start_time": "2021-08-29T13:03:01.264Z"
   },
   {
    "duration": 148,
    "start_time": "2021-08-29T13:03:02.252Z"
   },
   {
    "duration": 4,
    "start_time": "2021-08-29T13:03:08.033Z"
   },
   {
    "duration": 133,
    "start_time": "2021-08-29T13:03:09.019Z"
   },
   {
    "duration": 5,
    "start_time": "2021-08-29T13:03:18.488Z"
   },
   {
    "duration": 133,
    "start_time": "2021-08-29T13:03:19.611Z"
   },
   {
    "duration": 99,
    "start_time": "2021-08-29T13:03:31.415Z"
   },
   {
    "duration": 21,
    "start_time": "2021-08-29T13:03:33.696Z"
   },
   {
    "duration": 138,
    "start_time": "2021-08-29T13:05:18.146Z"
   },
   {
    "duration": 23,
    "start_time": "2021-08-29T13:06:22.916Z"
   },
   {
    "duration": 16,
    "start_time": "2021-08-29T13:06:29.010Z"
   },
   {
    "duration": 4,
    "start_time": "2021-08-29T13:18:48.688Z"
   },
   {
    "duration": 2950,
    "start_time": "2021-08-29T13:19:10.185Z"
   },
   {
    "duration": 4,
    "start_time": "2021-08-29T13:19:35.816Z"
   },
   {
    "duration": 47,
    "start_time": "2021-08-29T13:19:36.819Z"
   },
   {
    "duration": 26,
    "start_time": "2021-08-29T13:20:13.170Z"
   },
   {
    "duration": 43,
    "start_time": "2021-08-29T13:20:28.023Z"
   },
   {
    "duration": 336,
    "start_time": "2021-08-29T13:22:13.020Z"
   },
   {
    "duration": 350,
    "start_time": "2021-08-29T13:22:18.321Z"
   },
   {
    "duration": 362,
    "start_time": "2021-08-29T13:23:05.132Z"
   },
   {
    "duration": 352,
    "start_time": "2021-08-29T13:23:08.505Z"
   },
   {
    "duration": 359,
    "start_time": "2021-08-29T13:23:45.250Z"
   },
   {
    "duration": 6,
    "start_time": "2021-08-29T13:24:53.412Z"
   },
   {
    "duration": 333,
    "start_time": "2021-08-29T13:24:56.738Z"
   },
   {
    "duration": 8,
    "start_time": "2021-08-29T13:25:20.891Z"
   },
   {
    "duration": 16,
    "start_time": "2021-08-29T13:26:17.702Z"
   },
   {
    "duration": 5,
    "start_time": "2021-08-29T13:27:38.995Z"
   },
   {
    "duration": 5,
    "start_time": "2021-08-29T13:28:07.939Z"
   },
   {
    "duration": 5,
    "start_time": "2021-08-29T13:28:18.035Z"
   },
   {
    "duration": 5,
    "start_time": "2021-08-29T13:28:19.213Z"
   },
   {
    "duration": 5,
    "start_time": "2021-08-29T13:28:33.252Z"
   },
   {
    "duration": 1487,
    "start_time": "2021-08-29T14:01:07.043Z"
   },
   {
    "duration": 870,
    "start_time": "2021-08-29T14:01:08.533Z"
   },
   {
    "duration": 5,
    "start_time": "2021-08-29T14:01:09.406Z"
   },
   {
    "duration": 160,
    "start_time": "2021-08-29T14:01:09.414Z"
   },
   {
    "duration": 112,
    "start_time": "2021-08-29T14:01:09.577Z"
   },
   {
    "duration": 153,
    "start_time": "2021-08-29T14:01:09.691Z"
   },
   {
    "duration": 26,
    "start_time": "2021-08-29T14:01:09.847Z"
   },
   {
    "duration": 15,
    "start_time": "2021-08-29T14:01:09.876Z"
   },
   {
    "duration": 26,
    "start_time": "2021-08-29T14:01:09.894Z"
   },
   {
    "duration": 33,
    "start_time": "2021-08-29T14:01:09.923Z"
   },
   {
    "duration": 32,
    "start_time": "2021-08-29T14:01:09.959Z"
   },
   {
    "duration": 6,
    "start_time": "2021-08-29T14:01:09.994Z"
   },
   {
    "duration": 12,
    "start_time": "2021-08-29T14:01:10.002Z"
   },
   {
    "duration": 42,
    "start_time": "2021-08-29T14:09:39.203Z"
   },
   {
    "duration": 110,
    "start_time": "2021-08-29T14:56:53.112Z"
   },
   {
    "duration": 9851,
    "start_time": "2021-08-29T14:57:56.704Z"
   },
   {
    "duration": 345,
    "start_time": "2021-08-29T14:58:58.348Z"
   },
   {
    "duration": 7,
    "start_time": "2021-08-29T14:59:02.325Z"
   },
   {
    "duration": 9314,
    "start_time": "2021-08-29T15:00:22.545Z"
   },
   {
    "duration": 46,
    "start_time": "2021-08-29T15:00:45.889Z"
   },
   {
    "duration": 8711,
    "start_time": "2021-08-29T15:03:02.502Z"
   },
   {
    "duration": 9291,
    "start_time": "2021-08-29T15:03:45.120Z"
   },
   {
    "duration": 362,
    "start_time": "2021-08-29T15:05:10.826Z"
   },
   {
    "duration": 8673,
    "start_time": "2021-08-29T15:05:34.385Z"
   },
   {
    "duration": 8981,
    "start_time": "2021-08-29T15:05:55.457Z"
   },
   {
    "duration": 11,
    "start_time": "2021-08-29T15:06:34.028Z"
   },
   {
    "duration": 8,
    "start_time": "2021-08-29T15:06:38.744Z"
   },
   {
    "duration": 25,
    "start_time": "2021-08-29T15:07:32.433Z"
   },
   {
    "duration": 1495,
    "start_time": "2021-08-29T15:08:57.640Z"
   },
   {
    "duration": 927,
    "start_time": "2021-08-29T15:08:59.138Z"
   },
   {
    "duration": 4,
    "start_time": "2021-08-29T15:09:00.068Z"
   },
   {
    "duration": 164,
    "start_time": "2021-08-29T15:09:00.075Z"
   },
   {
    "duration": 119,
    "start_time": "2021-08-29T15:09:00.241Z"
   },
   {
    "duration": 160,
    "start_time": "2021-08-29T15:09:00.363Z"
   },
   {
    "duration": 33,
    "start_time": "2021-08-29T15:09:00.525Z"
   },
   {
    "duration": 16,
    "start_time": "2021-08-29T15:09:00.560Z"
   },
   {
    "duration": 34,
    "start_time": "2021-08-29T15:09:00.580Z"
   },
   {
    "duration": 8,
    "start_time": "2021-08-29T15:09:00.617Z"
   },
   {
    "duration": 48,
    "start_time": "2021-08-29T15:09:00.628Z"
   },
   {
    "duration": 6,
    "start_time": "2021-08-29T15:09:00.679Z"
   },
   {
    "duration": 17,
    "start_time": "2021-08-29T15:09:00.688Z"
   },
   {
    "duration": 21,
    "start_time": "2021-08-29T15:09:00.708Z"
   },
   {
    "duration": 36,
    "start_time": "2021-08-29T15:09:00.731Z"
   },
   {
    "duration": 31,
    "start_time": "2021-08-29T15:09:00.769Z"
   },
   {
    "duration": 484,
    "start_time": "2021-08-29T15:11:50.341Z"
   },
   {
    "duration": 686,
    "start_time": "2021-08-29T15:12:15.301Z"
   },
   {
    "duration": 354,
    "start_time": "2021-08-29T15:12:27.437Z"
   },
   {
    "duration": 350,
    "start_time": "2021-08-29T15:14:19.974Z"
   },
   {
    "duration": 10,
    "start_time": "2021-08-29T15:15:59.015Z"
   },
   {
    "duration": 45,
    "start_time": "2021-08-29T15:16:04.142Z"
   },
   {
    "duration": 47,
    "start_time": "2021-08-29T15:16:25.803Z"
   },
   {
    "duration": 5,
    "start_time": "2021-08-29T15:18:00.847Z"
   },
   {
    "duration": 13,
    "start_time": "2021-08-29T15:18:27.655Z"
   },
   {
    "duration": 12,
    "start_time": "2021-08-29T15:18:54.224Z"
   },
   {
    "duration": 347,
    "start_time": "2021-08-29T15:19:13.120Z"
   },
   {
    "duration": 363,
    "start_time": "2021-08-29T15:19:19.808Z"
   },
   {
    "duration": 13,
    "start_time": "2021-08-29T15:19:22.944Z"
   },
   {
    "duration": 350,
    "start_time": "2021-08-29T15:19:48.801Z"
   },
   {
    "duration": 1542,
    "start_time": "2021-08-29T15:20:55.222Z"
   },
   {
    "duration": 1020,
    "start_time": "2021-08-29T15:20:56.767Z"
   },
   {
    "duration": 5,
    "start_time": "2021-08-29T15:20:57.794Z"
   },
   {
    "duration": 171,
    "start_time": "2021-08-29T15:20:57.801Z"
   },
   {
    "duration": 171,
    "start_time": "2021-08-29T15:20:57.975Z"
   },
   {
    "duration": 234,
    "start_time": "2021-08-29T15:20:58.157Z"
   },
   {
    "duration": 41,
    "start_time": "2021-08-29T15:20:58.397Z"
   },
   {
    "duration": 16,
    "start_time": "2021-08-29T15:20:58.456Z"
   },
   {
    "duration": 25,
    "start_time": "2021-08-29T15:20:58.474Z"
   },
   {
    "duration": 4,
    "start_time": "2021-08-29T15:20:58.502Z"
   },
   {
    "duration": 51,
    "start_time": "2021-08-29T15:20:58.508Z"
   },
   {
    "duration": 5,
    "start_time": "2021-08-29T15:20:58.561Z"
   },
   {
    "duration": 18,
    "start_time": "2021-08-29T15:20:58.568Z"
   },
   {
    "duration": 21,
    "start_time": "2021-08-29T15:20:58.588Z"
   },
   {
    "duration": 27,
    "start_time": "2021-08-29T15:20:58.612Z"
   },
   {
    "duration": 30,
    "start_time": "2021-08-29T15:20:58.642Z"
   },
   {
    "duration": 16,
    "start_time": "2021-08-29T15:20:58.675Z"
   },
   {
    "duration": 30,
    "start_time": "2021-08-29T15:20:58.693Z"
   },
   {
    "duration": 495,
    "start_time": "2021-08-29T15:20:58.726Z"
   },
   {
    "duration": 18,
    "start_time": "2021-08-29T15:23:19.994Z"
   },
   {
    "duration": 1492,
    "start_time": "2021-08-29T15:23:46.578Z"
   },
   {
    "duration": 895,
    "start_time": "2021-08-29T15:23:48.073Z"
   },
   {
    "duration": 4,
    "start_time": "2021-08-29T15:23:48.971Z"
   },
   {
    "duration": 163,
    "start_time": "2021-08-29T15:23:48.978Z"
   },
   {
    "duration": 114,
    "start_time": "2021-08-29T15:23:49.143Z"
   },
   {
    "duration": 163,
    "start_time": "2021-08-29T15:23:49.260Z"
   },
   {
    "duration": 35,
    "start_time": "2021-08-29T15:23:49.426Z"
   },
   {
    "duration": 17,
    "start_time": "2021-08-29T15:23:49.465Z"
   },
   {
    "duration": 27,
    "start_time": "2021-08-29T15:23:49.485Z"
   },
   {
    "duration": 41,
    "start_time": "2021-08-29T15:23:49.515Z"
   },
   {
    "duration": 24,
    "start_time": "2021-08-29T15:23:49.559Z"
   },
   {
    "duration": 13,
    "start_time": "2021-08-29T15:23:49.586Z"
   },
   {
    "duration": 10,
    "start_time": "2021-08-29T15:23:49.602Z"
   },
   {
    "duration": 12,
    "start_time": "2021-08-29T15:23:49.615Z"
   },
   {
    "duration": 17,
    "start_time": "2021-08-29T15:23:49.657Z"
   },
   {
    "duration": 25,
    "start_time": "2021-08-29T15:23:49.677Z"
   },
   {
    "duration": 18,
    "start_time": "2021-08-29T15:23:49.705Z"
   },
   {
    "duration": 17,
    "start_time": "2021-08-29T15:23:49.757Z"
   },
   {
    "duration": 1457,
    "start_time": "2021-08-29T15:28:37.090Z"
   },
   {
    "duration": 898,
    "start_time": "2021-08-29T15:28:38.549Z"
   },
   {
    "duration": 8,
    "start_time": "2021-08-29T15:28:39.450Z"
   },
   {
    "duration": 153,
    "start_time": "2021-08-29T15:28:39.461Z"
   },
   {
    "duration": 103,
    "start_time": "2021-08-29T15:28:39.616Z"
   },
   {
    "duration": 163,
    "start_time": "2021-08-29T15:28:39.721Z"
   },
   {
    "duration": 24,
    "start_time": "2021-08-29T15:28:39.886Z"
   },
   {
    "duration": 15,
    "start_time": "2021-08-29T15:28:39.914Z"
   },
   {
    "duration": 25,
    "start_time": "2021-08-29T15:28:39.956Z"
   },
   {
    "duration": 11,
    "start_time": "2021-08-29T15:28:39.983Z"
   },
   {
    "duration": 44,
    "start_time": "2021-08-29T15:28:39.996Z"
   },
   {
    "duration": 9,
    "start_time": "2021-08-29T15:28:40.043Z"
   },
   {
    "duration": 7,
    "start_time": "2021-08-29T15:28:40.055Z"
   },
   {
    "duration": 20,
    "start_time": "2021-08-29T15:28:40.064Z"
   },
   {
    "duration": 22,
    "start_time": "2021-08-29T15:28:40.086Z"
   },
   {
    "duration": 27,
    "start_time": "2021-08-29T15:28:40.111Z"
   },
   {
    "duration": 18,
    "start_time": "2021-08-29T15:28:40.156Z"
   },
   {
    "duration": 21,
    "start_time": "2021-08-29T15:28:40.176Z"
   },
   {
    "duration": 7,
    "start_time": "2021-08-29T15:33:13.817Z"
   },
   {
    "duration": 6,
    "start_time": "2021-08-29T15:42:55.997Z"
   },
   {
    "duration": 481,
    "start_time": "2021-08-29T15:43:29.056Z"
   },
   {
    "duration": 7,
    "start_time": "2021-08-29T15:46:42.177Z"
   },
   {
    "duration": 6,
    "start_time": "2021-08-29T15:49:50.489Z"
   },
   {
    "duration": 5,
    "start_time": "2021-08-29T15:49:59.249Z"
   },
   {
    "duration": 6,
    "start_time": "2021-08-29T15:50:15.616Z"
   },
   {
    "duration": 369,
    "start_time": "2021-08-29T15:50:22.187Z"
   },
   {
    "duration": 6,
    "start_time": "2021-08-29T15:51:05.409Z"
   },
   {
    "duration": 37,
    "start_time": "2021-08-29T15:51:14.856Z"
   },
   {
    "duration": 18478,
    "start_time": "2021-08-29T15:59:10.156Z"
   },
   {
    "duration": 45,
    "start_time": "2021-08-29T17:34:03.123Z"
   },
   {
    "duration": 1475,
    "start_time": "2021-08-29T17:34:14.781Z"
   },
   {
    "duration": 902,
    "start_time": "2021-08-29T17:34:16.259Z"
   },
   {
    "duration": 5,
    "start_time": "2021-08-29T17:34:17.167Z"
   },
   {
    "duration": 177,
    "start_time": "2021-08-29T17:34:17.174Z"
   },
   {
    "duration": 117,
    "start_time": "2021-08-29T17:34:17.354Z"
   },
   {
    "duration": 157,
    "start_time": "2021-08-29T17:34:17.473Z"
   },
   {
    "duration": 32,
    "start_time": "2021-08-29T17:34:17.633Z"
   },
   {
    "duration": 16,
    "start_time": "2021-08-29T17:34:17.668Z"
   },
   {
    "duration": 25,
    "start_time": "2021-08-29T17:34:17.686Z"
   },
   {
    "duration": 5,
    "start_time": "2021-08-29T17:34:17.713Z"
   },
   {
    "duration": 53,
    "start_time": "2021-08-29T17:34:17.720Z"
   },
   {
    "duration": 14,
    "start_time": "2021-08-29T17:34:17.775Z"
   },
   {
    "duration": 21,
    "start_time": "2021-08-29T17:34:17.792Z"
   },
   {
    "duration": 31,
    "start_time": "2021-08-29T17:34:17.816Z"
   },
   {
    "duration": 25,
    "start_time": "2021-08-29T17:34:17.849Z"
   },
   {
    "duration": 7,
    "start_time": "2021-08-29T17:34:17.876Z"
   },
   {
    "duration": 14,
    "start_time": "2021-08-29T17:34:17.885Z"
   },
   {
    "duration": 60,
    "start_time": "2021-08-29T17:34:17.901Z"
   },
   {
    "duration": 38,
    "start_time": "2021-08-29T17:34:17.963Z"
   },
   {
    "duration": 4,
    "start_time": "2021-08-29T17:35:38.741Z"
   },
   {
    "duration": 4,
    "start_time": "2021-08-29T17:36:07.691Z"
   },
   {
    "duration": 3,
    "start_time": "2021-08-29T17:36:09.790Z"
   },
   {
    "duration": 3,
    "start_time": "2021-08-29T17:36:35.804Z"
   },
   {
    "duration": 818,
    "start_time": "2021-08-29T17:36:37.955Z"
   },
   {
    "duration": 4,
    "start_time": "2021-08-29T17:37:47.603Z"
   },
   {
    "duration": 679,
    "start_time": "2021-08-29T17:37:58.676Z"
   },
   {
    "duration": 346,
    "start_time": "2021-08-29T17:38:27.547Z"
   },
   {
    "duration": 1544,
    "start_time": "2021-08-29T17:38:38.276Z"
   },
   {
    "duration": 954,
    "start_time": "2021-08-29T17:38:39.823Z"
   },
   {
    "duration": 4,
    "start_time": "2021-08-29T17:38:40.782Z"
   },
   {
    "duration": 172,
    "start_time": "2021-08-29T17:38:40.790Z"
   },
   {
    "duration": 129,
    "start_time": "2021-08-29T17:38:40.965Z"
   },
   {
    "duration": 150,
    "start_time": "2021-08-29T17:38:41.097Z"
   },
   {
    "duration": 29,
    "start_time": "2021-08-29T17:38:41.249Z"
   },
   {
    "duration": 17,
    "start_time": "2021-08-29T17:38:41.282Z"
   },
   {
    "duration": 62,
    "start_time": "2021-08-29T17:38:41.302Z"
   },
   {
    "duration": 4,
    "start_time": "2021-08-29T17:38:41.367Z"
   },
   {
    "duration": 31,
    "start_time": "2021-08-29T17:38:41.374Z"
   },
   {
    "duration": 11,
    "start_time": "2021-08-29T17:38:41.408Z"
   },
   {
    "duration": 18,
    "start_time": "2021-08-29T17:38:41.421Z"
   },
   {
    "duration": 31,
    "start_time": "2021-08-29T17:38:41.442Z"
   },
   {
    "duration": 24,
    "start_time": "2021-08-29T17:38:41.476Z"
   },
   {
    "duration": 7,
    "start_time": "2021-08-29T17:38:41.503Z"
   },
   {
    "duration": 24,
    "start_time": "2021-08-29T17:38:41.513Z"
   },
   {
    "duration": 50,
    "start_time": "2021-08-29T17:38:41.557Z"
   },
   {
    "duration": 4,
    "start_time": "2021-08-29T17:38:41.609Z"
   },
   {
    "duration": 17,
    "start_time": "2021-08-29T17:38:41.615Z"
   },
   {
    "duration": 6,
    "start_time": "2021-08-29T17:38:41.634Z"
   },
   {
    "duration": 42,
    "start_time": "2021-08-29T17:38:50.508Z"
   },
   {
    "duration": 976,
    "start_time": "2021-08-29T17:40:02.523Z"
   },
   {
    "duration": 1436,
    "start_time": "2021-08-29T17:40:21.509Z"
   },
   {
    "duration": 892,
    "start_time": "2021-08-29T17:40:22.947Z"
   },
   {
    "duration": 5,
    "start_time": "2021-08-29T17:40:23.842Z"
   },
   {
    "duration": 153,
    "start_time": "2021-08-29T17:40:23.849Z"
   },
   {
    "duration": 113,
    "start_time": "2021-08-29T17:40:24.005Z"
   },
   {
    "duration": 146,
    "start_time": "2021-08-29T17:40:24.121Z"
   },
   {
    "duration": 23,
    "start_time": "2021-08-29T17:40:24.269Z"
   },
   {
    "duration": 15,
    "start_time": "2021-08-29T17:40:24.295Z"
   },
   {
    "duration": 57,
    "start_time": "2021-08-29T17:40:24.312Z"
   },
   {
    "duration": 4,
    "start_time": "2021-08-29T17:40:24.372Z"
   },
   {
    "duration": 31,
    "start_time": "2021-08-29T17:40:24.378Z"
   },
   {
    "duration": 6,
    "start_time": "2021-08-29T17:40:24.412Z"
   },
   {
    "duration": 9,
    "start_time": "2021-08-29T17:40:24.420Z"
   },
   {
    "duration": 38,
    "start_time": "2021-08-29T17:40:24.432Z"
   },
   {
    "duration": 23,
    "start_time": "2021-08-29T17:40:24.473Z"
   },
   {
    "duration": 5,
    "start_time": "2021-08-29T17:40:24.499Z"
   },
   {
    "duration": 7,
    "start_time": "2021-08-29T17:40:24.507Z"
   },
   {
    "duration": 70,
    "start_time": "2021-08-29T17:40:24.517Z"
   },
   {
    "duration": 561,
    "start_time": "2021-08-29T17:40:24.589Z"
   },
   {
    "duration": 135,
    "start_time": "2021-08-29T17:40:25.018Z"
   },
   {
    "duration": 4,
    "start_time": "2021-08-29T17:40:54.977Z"
   },
   {
    "duration": 48,
    "start_time": "2021-08-29T17:41:04.302Z"
   },
   {
    "duration": 431,
    "start_time": "2021-08-29T17:41:41.927Z"
   },
   {
    "duration": 1496,
    "start_time": "2021-08-29T17:43:49.471Z"
   },
   {
    "duration": 923,
    "start_time": "2021-08-29T17:43:50.970Z"
   },
   {
    "duration": 4,
    "start_time": "2021-08-29T17:43:51.896Z"
   },
   {
    "duration": 218,
    "start_time": "2021-08-29T17:43:51.903Z"
   },
   {
    "duration": 112,
    "start_time": "2021-08-29T17:43:52.124Z"
   },
   {
    "duration": 174,
    "start_time": "2021-08-29T17:43:52.239Z"
   },
   {
    "duration": 43,
    "start_time": "2021-08-29T17:43:52.416Z"
   },
   {
    "duration": 17,
    "start_time": "2021-08-29T17:43:52.464Z"
   },
   {
    "duration": 26,
    "start_time": "2021-08-29T17:43:52.484Z"
   },
   {
    "duration": 4,
    "start_time": "2021-08-29T17:43:52.513Z"
   },
   {
    "duration": 59,
    "start_time": "2021-08-29T17:43:52.519Z"
   },
   {
    "duration": 6,
    "start_time": "2021-08-29T17:43:52.581Z"
   },
   {
    "duration": 10,
    "start_time": "2021-08-29T17:43:52.589Z"
   },
   {
    "duration": 26,
    "start_time": "2021-08-29T17:43:52.601Z"
   },
   {
    "duration": 44,
    "start_time": "2021-08-29T17:43:52.630Z"
   },
   {
    "duration": 7,
    "start_time": "2021-08-29T17:43:52.676Z"
   },
   {
    "duration": 8,
    "start_time": "2021-08-29T17:43:52.685Z"
   },
   {
    "duration": 73,
    "start_time": "2021-08-29T17:43:52.696Z"
   },
   {
    "duration": 47,
    "start_time": "2021-08-29T17:43:52.771Z"
   },
   {
    "duration": 61,
    "start_time": "2021-08-29T17:43:52.820Z"
   },
   {
    "duration": 40,
    "start_time": "2021-08-29T17:44:27.708Z"
   },
   {
    "duration": 11,
    "start_time": "2021-08-29T17:44:44.035Z"
   },
   {
    "duration": 39,
    "start_time": "2021-08-29T17:44:47.637Z"
   },
   {
    "duration": 472,
    "start_time": "2021-08-29T17:45:39.515Z"
   },
   {
    "duration": 1455,
    "start_time": "2021-08-29T17:45:56.014Z"
   },
   {
    "duration": 886,
    "start_time": "2021-08-29T17:45:57.472Z"
   },
   {
    "duration": 6,
    "start_time": "2021-08-29T17:45:58.362Z"
   },
   {
    "duration": 164,
    "start_time": "2021-08-29T17:45:58.371Z"
   },
   {
    "duration": 104,
    "start_time": "2021-08-29T17:45:58.538Z"
   },
   {
    "duration": 148,
    "start_time": "2021-08-29T17:45:58.656Z"
   },
   {
    "duration": 24,
    "start_time": "2021-08-29T17:45:58.806Z"
   },
   {
    "duration": 35,
    "start_time": "2021-08-29T17:45:58.833Z"
   },
   {
    "duration": 24,
    "start_time": "2021-08-29T17:45:58.871Z"
   },
   {
    "duration": 4,
    "start_time": "2021-08-29T17:45:58.898Z"
   },
   {
    "duration": 55,
    "start_time": "2021-08-29T17:45:58.904Z"
   },
   {
    "duration": 5,
    "start_time": "2021-08-29T17:45:58.961Z"
   },
   {
    "duration": 9,
    "start_time": "2021-08-29T17:45:58.968Z"
   },
   {
    "duration": 23,
    "start_time": "2021-08-29T17:45:58.979Z"
   },
   {
    "duration": 22,
    "start_time": "2021-08-29T17:45:59.004Z"
   },
   {
    "duration": 31,
    "start_time": "2021-08-29T17:45:59.029Z"
   },
   {
    "duration": 11,
    "start_time": "2021-08-29T17:45:59.062Z"
   },
   {
    "duration": 46,
    "start_time": "2021-08-29T17:45:59.076Z"
   },
   {
    "duration": 41,
    "start_time": "2021-08-29T17:45:59.124Z"
   },
   {
    "duration": 39,
    "start_time": "2021-08-29T17:45:59.168Z"
   },
   {
    "duration": 39,
    "start_time": "2021-08-29T17:48:38.658Z"
   },
   {
    "duration": 4,
    "start_time": "2021-08-29T17:50:25.334Z"
   },
   {
    "duration": 5,
    "start_time": "2021-08-29T17:50:31.391Z"
   },
   {
    "duration": 51,
    "start_time": "2021-08-29T17:51:38.695Z"
   },
   {
    "duration": 19,
    "start_time": "2021-08-29T17:51:51.951Z"
   },
   {
    "duration": 42,
    "start_time": "2021-08-29T17:51:59.408Z"
   },
   {
    "duration": 6,
    "start_time": "2021-08-29T17:52:26.666Z"
   },
   {
    "duration": 1519,
    "start_time": "2021-08-29T17:52:54.829Z"
   },
   {
    "duration": 993,
    "start_time": "2021-08-29T17:52:56.351Z"
   },
   {
    "duration": 8,
    "start_time": "2021-08-29T17:52:57.348Z"
   },
   {
    "duration": 156,
    "start_time": "2021-08-29T17:52:57.358Z"
   },
   {
    "duration": 101,
    "start_time": "2021-08-29T17:52:57.516Z"
   },
   {
    "duration": 167,
    "start_time": "2021-08-29T17:52:57.619Z"
   },
   {
    "duration": 23,
    "start_time": "2021-08-29T17:52:57.788Z"
   },
   {
    "duration": 15,
    "start_time": "2021-08-29T17:52:57.815Z"
   },
   {
    "duration": 26,
    "start_time": "2021-08-29T17:52:57.857Z"
   },
   {
    "duration": 4,
    "start_time": "2021-08-29T17:52:57.886Z"
   },
   {
    "duration": 24,
    "start_time": "2021-08-29T17:52:57.892Z"
   },
   {
    "duration": 36,
    "start_time": "2021-08-29T17:52:57.919Z"
   },
   {
    "duration": 5,
    "start_time": "2021-08-29T17:52:57.957Z"
   },
   {
    "duration": 19,
    "start_time": "2021-08-29T17:52:57.964Z"
   },
   {
    "duration": 23,
    "start_time": "2021-08-29T17:52:57.986Z"
   },
   {
    "duration": 6,
    "start_time": "2021-08-29T17:52:58.012Z"
   },
   {
    "duration": 40,
    "start_time": "2021-08-29T17:52:58.020Z"
   },
   {
    "duration": 40,
    "start_time": "2021-08-29T17:52:58.062Z"
   },
   {
    "duration": 21,
    "start_time": "2021-08-29T17:52:58.104Z"
   },
   {
    "duration": 63,
    "start_time": "2021-08-29T17:52:58.127Z"
   },
   {
    "duration": 3,
    "start_time": "2021-08-29T17:52:58.192Z"
   },
   {
    "duration": 10,
    "start_time": "2021-08-29T17:52:58.198Z"
   },
   {
    "duration": 78,
    "start_time": "2021-08-29T17:52:58.213Z"
   },
   {
    "duration": 6,
    "start_time": "2021-08-29T17:52:58.293Z"
   },
   {
    "duration": 26,
    "start_time": "2021-08-29T17:53:08.146Z"
   },
   {
    "duration": 17,
    "start_time": "2021-08-29T17:53:16.593Z"
   },
   {
    "duration": 6,
    "start_time": "2021-08-29T17:53:18.611Z"
   },
   {
    "duration": 33,
    "start_time": "2021-08-29T17:56:05.817Z"
   },
   {
    "duration": 43,
    "start_time": "2021-08-29T17:57:03.308Z"
   },
   {
    "duration": 115,
    "start_time": "2021-08-29T17:57:39.806Z"
   },
   {
    "duration": 102,
    "start_time": "2021-08-29T18:03:24.216Z"
   },
   {
    "duration": 5,
    "start_time": "2021-08-29T18:03:49.228Z"
   },
   {
    "duration": 106,
    "start_time": "2021-08-29T18:03:56.926Z"
   },
   {
    "duration": 104,
    "start_time": "2021-08-29T18:04:28.063Z"
   },
   {
    "duration": 57,
    "start_time": "2021-08-29T18:22:12.371Z"
   },
   {
    "duration": 42,
    "start_time": "2021-08-29T18:22:36.021Z"
   },
   {
    "duration": 107,
    "start_time": "2021-08-29T18:22:49.185Z"
   },
   {
    "duration": 46,
    "start_time": "2021-08-29T18:23:57.231Z"
   },
   {
    "duration": 56,
    "start_time": "2021-08-29T18:24:03.642Z"
   },
   {
    "duration": 11,
    "start_time": "2021-08-29T18:24:16.745Z"
   },
   {
    "duration": 55,
    "start_time": "2021-08-29T18:24:19.367Z"
   },
   {
    "duration": 50,
    "start_time": "2021-08-29T18:25:11.200Z"
   },
   {
    "duration": 19,
    "start_time": "2021-08-29T18:25:29.322Z"
   },
   {
    "duration": 1471,
    "start_time": "2021-08-29T18:25:40.563Z"
   },
   {
    "duration": 880,
    "start_time": "2021-08-29T18:25:42.036Z"
   },
   {
    "duration": 5,
    "start_time": "2021-08-29T18:25:42.918Z"
   },
   {
    "duration": 152,
    "start_time": "2021-08-29T18:25:42.925Z"
   },
   {
    "duration": 111,
    "start_time": "2021-08-29T18:25:43.080Z"
   },
   {
    "duration": 152,
    "start_time": "2021-08-29T18:25:43.194Z"
   },
   {
    "duration": 26,
    "start_time": "2021-08-29T18:25:43.356Z"
   },
   {
    "duration": 15,
    "start_time": "2021-08-29T18:25:43.386Z"
   },
   {
    "duration": 54,
    "start_time": "2021-08-29T18:25:43.405Z"
   },
   {
    "duration": 4,
    "start_time": "2021-08-29T18:25:43.461Z"
   },
   {
    "duration": 26,
    "start_time": "2021-08-29T18:25:43.467Z"
   },
   {
    "duration": 6,
    "start_time": "2021-08-29T18:25:43.495Z"
   },
   {
    "duration": 6,
    "start_time": "2021-08-29T18:25:43.503Z"
   },
   {
    "duration": 57,
    "start_time": "2021-08-29T18:25:43.512Z"
   },
   {
    "duration": 25,
    "start_time": "2021-08-29T18:25:43.572Z"
   },
   {
    "duration": 8,
    "start_time": "2021-08-29T18:25:43.599Z"
   },
   {
    "duration": 46,
    "start_time": "2021-08-29T18:25:43.610Z"
   },
   {
    "duration": 38,
    "start_time": "2021-08-29T18:25:43.659Z"
   },
   {
    "duration": 22,
    "start_time": "2021-08-29T18:25:43.701Z"
   },
   {
    "duration": 61,
    "start_time": "2021-08-29T18:25:43.725Z"
   },
   {
    "duration": 8,
    "start_time": "2021-08-29T18:25:43.789Z"
   },
   {
    "duration": 10,
    "start_time": "2021-08-29T18:25:43.799Z"
   },
   {
    "duration": 79,
    "start_time": "2021-08-29T18:25:43.813Z"
   },
   {
    "duration": 6,
    "start_time": "2021-08-29T18:25:43.894Z"
   },
   {
    "duration": 129,
    "start_time": "2021-08-29T18:25:43.902Z"
   },
   {
    "duration": 5,
    "start_time": "2021-08-29T18:25:44.033Z"
   },
   {
    "duration": 45,
    "start_time": "2021-08-29T18:25:44.055Z"
   },
   {
    "duration": 117,
    "start_time": "2021-08-29T18:25:44.102Z"
   },
   {
    "duration": 117,
    "start_time": "2021-08-29T18:25:44.221Z"
   },
   {
    "duration": 508,
    "start_time": "2021-08-29T18:25:44.340Z"
   },
   {
    "duration": 53,
    "start_time": "2021-08-29T18:26:10.514Z"
   },
   {
    "duration": 107,
    "start_time": "2021-08-29T18:27:22.210Z"
   },
   {
    "duration": 45,
    "start_time": "2021-08-29T18:27:27.258Z"
   },
   {
    "duration": 111,
    "start_time": "2021-08-29T18:27:28.498Z"
   },
   {
    "duration": 12,
    "start_time": "2021-08-29T18:27:38.706Z"
   },
   {
    "duration": 136,
    "start_time": "2021-08-29T18:27:40.092Z"
   },
   {
    "duration": 11,
    "start_time": "2021-08-29T18:27:45.938Z"
   },
   {
    "duration": 104,
    "start_time": "2021-08-29T18:27:47.012Z"
   },
   {
    "duration": 1500,
    "start_time": "2021-08-29T18:28:07.346Z"
   },
   {
    "duration": 921,
    "start_time": "2021-08-29T18:28:08.849Z"
   },
   {
    "duration": 4,
    "start_time": "2021-08-29T18:28:09.773Z"
   },
   {
    "duration": 154,
    "start_time": "2021-08-29T18:28:09.780Z"
   },
   {
    "duration": 101,
    "start_time": "2021-08-29T18:28:09.936Z"
   },
   {
    "duration": 156,
    "start_time": "2021-08-29T18:28:10.039Z"
   },
   {
    "duration": 22,
    "start_time": "2021-08-29T18:28:10.197Z"
   },
   {
    "duration": 36,
    "start_time": "2021-08-29T18:28:10.223Z"
   },
   {
    "duration": 25,
    "start_time": "2021-08-29T18:28:10.262Z"
   },
   {
    "duration": 4,
    "start_time": "2021-08-29T18:28:10.289Z"
   },
   {
    "duration": 32,
    "start_time": "2021-08-29T18:28:10.295Z"
   },
   {
    "duration": 28,
    "start_time": "2021-08-29T18:28:10.330Z"
   },
   {
    "duration": 8,
    "start_time": "2021-08-29T18:28:10.360Z"
   },
   {
    "duration": 28,
    "start_time": "2021-08-29T18:28:10.371Z"
   },
   {
    "duration": 55,
    "start_time": "2021-08-29T18:28:10.402Z"
   },
   {
    "duration": 8,
    "start_time": "2021-08-29T18:28:10.460Z"
   },
   {
    "duration": 14,
    "start_time": "2021-08-29T18:28:10.472Z"
   },
   {
    "duration": 53,
    "start_time": "2021-08-29T18:28:10.488Z"
   },
   {
    "duration": 35,
    "start_time": "2021-08-29T18:28:10.543Z"
   },
   {
    "duration": 31,
    "start_time": "2021-08-29T18:28:10.580Z"
   },
   {
    "duration": 4,
    "start_time": "2021-08-29T18:28:10.613Z"
   },
   {
    "duration": 40,
    "start_time": "2021-08-29T18:28:10.619Z"
   },
   {
    "duration": 55,
    "start_time": "2021-08-29T18:28:10.664Z"
   },
   {
    "duration": 6,
    "start_time": "2021-08-29T18:28:10.722Z"
   },
   {
    "duration": 141,
    "start_time": "2021-08-29T18:28:10.731Z"
   },
   {
    "duration": 6,
    "start_time": "2021-08-29T18:28:10.876Z"
   },
   {
    "duration": 14,
    "start_time": "2021-08-29T18:28:10.885Z"
   },
   {
    "duration": 135,
    "start_time": "2021-08-29T18:28:10.901Z"
   },
   {
    "duration": 62,
    "start_time": "2021-08-29T18:28:11.038Z"
   },
   {
    "duration": 469,
    "start_time": "2021-08-29T18:28:11.102Z"
   },
   {
    "duration": 14,
    "start_time": "2021-08-29T18:35:19.224Z"
   },
   {
    "duration": 528,
    "start_time": "2021-08-29T18:35:22.209Z"
   },
   {
    "duration": 483,
    "start_time": "2021-08-29T18:35:30.471Z"
   },
   {
    "duration": 4,
    "start_time": "2021-08-29T18:35:37.835Z"
   },
   {
    "duration": 4,
    "start_time": "2021-08-29T18:35:46.472Z"
   },
   {
    "duration": 1436,
    "start_time": "2021-08-29T18:38:34.309Z"
   },
   {
    "duration": 908,
    "start_time": "2021-08-29T18:38:35.748Z"
   },
   {
    "duration": 4,
    "start_time": "2021-08-29T18:38:36.659Z"
   },
   {
    "duration": 153,
    "start_time": "2021-08-29T18:38:36.666Z"
   },
   {
    "duration": 107,
    "start_time": "2021-08-29T18:38:36.821Z"
   },
   {
    "duration": 165,
    "start_time": "2021-08-29T18:38:36.930Z"
   },
   {
    "duration": 24,
    "start_time": "2021-08-29T18:38:37.098Z"
   },
   {
    "duration": 37,
    "start_time": "2021-08-29T18:38:37.124Z"
   },
   {
    "duration": 27,
    "start_time": "2021-08-29T18:38:37.165Z"
   },
   {
    "duration": 4,
    "start_time": "2021-08-29T18:38:37.196Z"
   },
   {
    "duration": 54,
    "start_time": "2021-08-29T18:38:37.202Z"
   },
   {
    "duration": 5,
    "start_time": "2021-08-29T18:38:37.259Z"
   },
   {
    "duration": 14,
    "start_time": "2021-08-29T18:38:37.267Z"
   },
   {
    "duration": 25,
    "start_time": "2021-08-29T18:38:37.284Z"
   },
   {
    "duration": 45,
    "start_time": "2021-08-29T18:38:37.312Z"
   },
   {
    "duration": 6,
    "start_time": "2021-08-29T18:38:37.359Z"
   },
   {
    "duration": 10,
    "start_time": "2021-08-29T18:38:37.367Z"
   },
   {
    "duration": 38,
    "start_time": "2021-08-29T18:38:37.380Z"
   },
   {
    "duration": 45,
    "start_time": "2021-08-29T18:38:37.420Z"
   },
   {
    "duration": 30,
    "start_time": "2021-08-29T18:38:37.468Z"
   },
   {
    "duration": 10,
    "start_time": "2021-08-29T18:38:37.500Z"
   },
   {
    "duration": 15,
    "start_time": "2021-08-29T18:38:37.513Z"
   },
   {
    "duration": 64,
    "start_time": "2021-08-29T18:38:37.530Z"
   },
   {
    "duration": 6,
    "start_time": "2021-08-29T18:38:37.596Z"
   },
   {
    "duration": 123,
    "start_time": "2021-08-29T18:38:37.604Z"
   },
   {
    "duration": 5,
    "start_time": "2021-08-29T18:38:37.730Z"
   },
   {
    "duration": 23,
    "start_time": "2021-08-29T18:38:37.739Z"
   },
   {
    "duration": 489,
    "start_time": "2021-08-29T18:38:37.765Z"
   },
   {
    "duration": 161,
    "start_time": "2021-08-29T18:38:38.095Z"
   },
   {
    "duration": 156,
    "start_time": "2021-08-29T18:38:38.102Z"
   },
   {
    "duration": 362,
    "start_time": "2021-08-29T18:39:20.142Z"
   },
   {
    "duration": 1590,
    "start_time": "2021-08-29T18:39:53.962Z"
   },
   {
    "duration": 957,
    "start_time": "2021-08-29T18:39:55.556Z"
   },
   {
    "duration": 5,
    "start_time": "2021-08-29T18:39:56.517Z"
   },
   {
    "duration": 162,
    "start_time": "2021-08-29T18:39:56.525Z"
   },
   {
    "duration": 108,
    "start_time": "2021-08-29T18:39:56.689Z"
   },
   {
    "duration": 156,
    "start_time": "2021-08-29T18:39:56.799Z"
   },
   {
    "duration": 24,
    "start_time": "2021-08-29T18:39:56.958Z"
   },
   {
    "duration": 16,
    "start_time": "2021-08-29T18:39:56.987Z"
   },
   {
    "duration": 62,
    "start_time": "2021-08-29T18:39:57.007Z"
   },
   {
    "duration": 4,
    "start_time": "2021-08-29T18:39:57.072Z"
   },
   {
    "duration": 30,
    "start_time": "2021-08-29T18:39:57.078Z"
   },
   {
    "duration": 6,
    "start_time": "2021-08-29T18:39:57.110Z"
   },
   {
    "duration": 39,
    "start_time": "2021-08-29T18:39:57.118Z"
   },
   {
    "duration": 24,
    "start_time": "2021-08-29T18:39:57.159Z"
   },
   {
    "duration": 32,
    "start_time": "2021-08-29T18:39:57.186Z"
   },
   {
    "duration": 6,
    "start_time": "2021-08-29T18:39:57.221Z"
   },
   {
    "duration": 6,
    "start_time": "2021-08-29T18:39:57.256Z"
   },
   {
    "duration": 51,
    "start_time": "2021-08-29T18:39:57.264Z"
   },
   {
    "duration": 38,
    "start_time": "2021-08-29T18:39:57.318Z"
   },
   {
    "duration": 34,
    "start_time": "2021-08-29T18:39:57.359Z"
   },
   {
    "duration": 14,
    "start_time": "2021-08-29T18:39:57.396Z"
   },
   {
    "duration": 9,
    "start_time": "2021-08-29T18:39:57.413Z"
   },
   {
    "duration": 61,
    "start_time": "2021-08-29T18:39:57.427Z"
   },
   {
    "duration": 6,
    "start_time": "2021-08-29T18:39:57.491Z"
   },
   {
    "duration": 138,
    "start_time": "2021-08-29T18:39:57.500Z"
   },
   {
    "duration": 15,
    "start_time": "2021-08-29T18:39:57.641Z"
   },
   {
    "duration": 40,
    "start_time": "2021-08-29T18:39:57.659Z"
   },
   {
    "duration": 15,
    "start_time": "2021-08-29T18:40:17.983Z"
   },
   {
    "duration": 488,
    "start_time": "2021-08-29T18:40:29.407Z"
   },
   {
    "duration": 1555,
    "start_time": "2021-08-29T18:40:55.396Z"
   },
   {
    "duration": 931,
    "start_time": "2021-08-29T18:40:56.956Z"
   },
   {
    "duration": 4,
    "start_time": "2021-08-29T18:40:57.890Z"
   },
   {
    "duration": 160,
    "start_time": "2021-08-29T18:40:57.897Z"
   },
   {
    "duration": 123,
    "start_time": "2021-08-29T18:40:58.060Z"
   },
   {
    "duration": 158,
    "start_time": "2021-08-29T18:40:58.186Z"
   },
   {
    "duration": 26,
    "start_time": "2021-08-29T18:40:58.346Z"
   },
   {
    "duration": 15,
    "start_time": "2021-08-29T18:40:58.376Z"
   },
   {
    "duration": 25,
    "start_time": "2021-08-29T18:40:58.394Z"
   },
   {
    "duration": 34,
    "start_time": "2021-08-29T18:40:58.421Z"
   },
   {
    "duration": 30,
    "start_time": "2021-08-29T18:40:58.458Z"
   },
   {
    "duration": 4,
    "start_time": "2021-08-29T18:40:58.491Z"
   },
   {
    "duration": 16,
    "start_time": "2021-08-29T18:40:58.497Z"
   },
   {
    "duration": 22,
    "start_time": "2021-08-29T18:40:58.515Z"
   },
   {
    "duration": 37,
    "start_time": "2021-08-29T18:40:58.540Z"
   },
   {
    "duration": 7,
    "start_time": "2021-08-29T18:40:58.580Z"
   },
   {
    "duration": 9,
    "start_time": "2021-08-29T18:40:58.589Z"
   },
   {
    "duration": 73,
    "start_time": "2021-08-29T18:40:58.600Z"
   },
   {
    "duration": 22,
    "start_time": "2021-08-29T18:40:58.676Z"
   },
   {
    "duration": 33,
    "start_time": "2021-08-29T18:40:58.700Z"
   },
   {
    "duration": 4,
    "start_time": "2021-08-29T18:40:58.755Z"
   },
   {
    "duration": 12,
    "start_time": "2021-08-29T18:40:58.761Z"
   },
   {
    "duration": 43,
    "start_time": "2021-08-29T18:40:58.778Z"
   },
   {
    "duration": 32,
    "start_time": "2021-08-29T18:40:58.824Z"
   },
   {
    "duration": 117,
    "start_time": "2021-08-29T18:40:58.859Z"
   },
   {
    "duration": 6,
    "start_time": "2021-08-29T18:40:58.979Z"
   },
   {
    "duration": 18,
    "start_time": "2021-08-29T18:40:58.987Z"
   },
   {
    "duration": 128,
    "start_time": "2021-08-29T18:40:59.008Z"
   },
   {
    "duration": 44,
    "start_time": "2021-08-29T18:40:59.138Z"
   },
   {
    "duration": 55,
    "start_time": "2021-08-29T18:41:54.161Z"
   },
   {
    "duration": 1524,
    "start_time": "2021-08-29T18:43:46.528Z"
   },
   {
    "duration": 912,
    "start_time": "2021-08-29T18:43:48.057Z"
   },
   {
    "duration": 4,
    "start_time": "2021-08-29T18:43:48.974Z"
   },
   {
    "duration": 159,
    "start_time": "2021-08-29T18:43:48.980Z"
   },
   {
    "duration": 125,
    "start_time": "2021-08-29T18:43:49.141Z"
   },
   {
    "duration": 159,
    "start_time": "2021-08-29T18:43:49.269Z"
   },
   {
    "duration": 30,
    "start_time": "2021-08-29T18:43:49.432Z"
   },
   {
    "duration": 16,
    "start_time": "2021-08-29T18:43:49.465Z"
   },
   {
    "duration": 24,
    "start_time": "2021-08-29T18:43:49.483Z"
   },
   {
    "duration": 4,
    "start_time": "2021-08-29T18:43:49.509Z"
   },
   {
    "duration": 59,
    "start_time": "2021-08-29T18:43:49.515Z"
   },
   {
    "duration": 5,
    "start_time": "2021-08-29T18:43:49.576Z"
   },
   {
    "duration": 8,
    "start_time": "2021-08-29T18:43:49.583Z"
   },
   {
    "duration": 20,
    "start_time": "2021-08-29T18:43:49.593Z"
   },
   {
    "duration": 48,
    "start_time": "2021-08-29T18:43:49.615Z"
   },
   {
    "duration": 6,
    "start_time": "2021-08-29T18:43:49.666Z"
   },
   {
    "duration": 6,
    "start_time": "2021-08-29T18:43:49.674Z"
   },
   {
    "duration": 42,
    "start_time": "2021-08-29T18:43:49.682Z"
   },
   {
    "duration": 49,
    "start_time": "2021-08-29T18:43:49.726Z"
   },
   {
    "duration": 35,
    "start_time": "2021-08-29T18:43:49.778Z"
   },
   {
    "duration": 5,
    "start_time": "2021-08-29T18:43:49.815Z"
   },
   {
    "duration": 33,
    "start_time": "2021-08-29T18:43:49.825Z"
   },
   {
    "duration": 49,
    "start_time": "2021-08-29T18:43:49.861Z"
   },
   {
    "duration": 6,
    "start_time": "2021-08-29T18:43:49.912Z"
   },
   {
    "duration": 136,
    "start_time": "2021-08-29T18:43:49.920Z"
   },
   {
    "duration": 6,
    "start_time": "2021-08-29T18:43:50.058Z"
   },
   {
    "duration": 22,
    "start_time": "2021-08-29T18:43:50.066Z"
   },
   {
    "duration": 73,
    "start_time": "2021-08-29T18:43:50.091Z"
   },
   {
    "duration": 37,
    "start_time": "2021-08-29T18:43:50.167Z"
   },
   {
    "duration": 113,
    "start_time": "2021-08-29T18:44:24.677Z"
   },
   {
    "duration": 43,
    "start_time": "2021-08-29T18:44:37.647Z"
   },
   {
    "duration": 7,
    "start_time": "2021-08-29T18:47:36.538Z"
   },
   {
    "duration": 9,
    "start_time": "2021-08-29T18:47:49.775Z"
   },
   {
    "duration": 487,
    "start_time": "2021-08-29T18:48:23.119Z"
   },
   {
    "duration": 357,
    "start_time": "2021-08-29T18:48:28.753Z"
   },
   {
    "duration": 363,
    "start_time": "2021-08-29T18:49:12.672Z"
   },
   {
    "duration": 8,
    "start_time": "2021-08-29T18:49:24.793Z"
   },
   {
    "duration": 8,
    "start_time": "2021-08-29T18:50:38.767Z"
   },
   {
    "duration": 8,
    "start_time": "2021-08-29T18:50:42.487Z"
   },
   {
    "duration": 27,
    "start_time": "2021-08-29T18:52:39.056Z"
   },
   {
    "duration": 56,
    "start_time": "2021-08-29T18:53:05.056Z"
   },
   {
    "duration": 11,
    "start_time": "2021-08-29T18:59:08.362Z"
   },
   {
    "duration": 109,
    "start_time": "2021-08-29T18:59:12.761Z"
   },
   {
    "duration": 109,
    "start_time": "2021-08-29T18:59:38.138Z"
   },
   {
    "duration": 1510,
    "start_time": "2021-08-29T19:00:03.985Z"
   },
   {
    "duration": 914,
    "start_time": "2021-08-29T19:00:05.497Z"
   },
   {
    "duration": 5,
    "start_time": "2021-08-29T19:00:06.414Z"
   },
   {
    "duration": 166,
    "start_time": "2021-08-29T19:00:06.421Z"
   },
   {
    "duration": 114,
    "start_time": "2021-08-29T19:00:06.589Z"
   },
   {
    "duration": 156,
    "start_time": "2021-08-29T19:00:06.706Z"
   },
   {
    "duration": 25,
    "start_time": "2021-08-29T19:00:06.864Z"
   },
   {
    "duration": 17,
    "start_time": "2021-08-29T19:00:06.893Z"
   },
   {
    "duration": 53,
    "start_time": "2021-08-29T19:00:06.913Z"
   },
   {
    "duration": 4,
    "start_time": "2021-08-29T19:00:06.969Z"
   },
   {
    "duration": 44,
    "start_time": "2021-08-29T19:00:06.975Z"
   },
   {
    "duration": 16,
    "start_time": "2021-08-29T19:00:07.022Z"
   },
   {
    "duration": 29,
    "start_time": "2021-08-29T19:00:07.040Z"
   },
   {
    "duration": 40,
    "start_time": "2021-08-29T19:00:07.071Z"
   },
   {
    "duration": 24,
    "start_time": "2021-08-29T19:00:07.113Z"
   },
   {
    "duration": 18,
    "start_time": "2021-08-29T19:00:07.140Z"
   },
   {
    "duration": 39,
    "start_time": "2021-08-29T19:00:07.160Z"
   },
   {
    "duration": 58,
    "start_time": "2021-08-29T19:00:07.201Z"
   },
   {
    "duration": 23,
    "start_time": "2021-08-29T19:00:07.261Z"
   },
   {
    "duration": 41,
    "start_time": "2021-08-29T19:00:07.286Z"
   },
   {
    "duration": 26,
    "start_time": "2021-08-29T19:00:07.329Z"
   },
   {
    "duration": 18,
    "start_time": "2021-08-29T19:00:07.357Z"
   },
   {
    "duration": 57,
    "start_time": "2021-08-29T19:00:07.380Z"
   },
   {
    "duration": 6,
    "start_time": "2021-08-29T19:00:07.440Z"
   },
   {
    "duration": 124,
    "start_time": "2021-08-29T19:00:07.448Z"
   },
   {
    "duration": 5,
    "start_time": "2021-08-29T19:00:07.574Z"
   },
   {
    "duration": 24,
    "start_time": "2021-08-29T19:00:07.581Z"
   },
   {
    "duration": 48,
    "start_time": "2021-08-29T19:00:07.607Z"
   },
   {
    "duration": 58,
    "start_time": "2021-08-29T19:00:07.657Z"
   },
   {
    "duration": 125,
    "start_time": "2021-08-29T19:00:07.717Z"
   },
   {
    "duration": 19,
    "start_time": "2021-08-29T19:00:07.844Z"
   },
   {
    "duration": 112,
    "start_time": "2021-08-29T19:00:07.865Z"
   },
   {
    "duration": 118,
    "start_time": "2021-08-29T19:18:07.124Z"
   },
   {
    "duration": 41,
    "start_time": "2021-08-29T19:23:41.566Z"
   },
   {
    "duration": 477,
    "start_time": "2021-08-29T19:23:53.786Z"
   },
   {
    "duration": 6,
    "start_time": "2021-08-29T19:23:59.646Z"
   },
   {
    "duration": 559,
    "start_time": "2021-08-29T19:25:27.325Z"
   },
   {
    "duration": 862,
    "start_time": "2021-08-29T19:28:00.556Z"
   },
   {
    "duration": 1192,
    "start_time": "2021-08-29T19:29:33.137Z"
   },
   {
    "duration": 1132,
    "start_time": "2021-08-29T19:32:03.154Z"
   },
   {
    "duration": 1266,
    "start_time": "2021-08-29T19:32:16.184Z"
   },
   {
    "duration": 1258,
    "start_time": "2021-08-29T19:34:04.313Z"
   },
   {
    "duration": 1121,
    "start_time": "2021-08-29T19:38:11.427Z"
   },
   {
    "duration": 1280,
    "start_time": "2021-08-29T19:38:35.421Z"
   },
   {
    "duration": 1140,
    "start_time": "2021-08-29T19:38:40.259Z"
   },
   {
    "duration": 112,
    "start_time": "2021-08-29T19:38:58.858Z"
   },
   {
    "duration": 1118,
    "start_time": "2021-08-29T19:39:06.459Z"
   },
   {
    "duration": 1307,
    "start_time": "2021-08-29T19:40:10.172Z"
   },
   {
    "duration": 1131,
    "start_time": "2021-08-29T19:41:40.684Z"
   },
   {
    "duration": 1204,
    "start_time": "2021-08-29T19:41:58.475Z"
   },
   {
    "duration": 1235,
    "start_time": "2021-08-29T19:42:15.284Z"
   },
   {
    "duration": 1157,
    "start_time": "2021-08-29T19:43:24.669Z"
   },
   {
    "duration": 1510,
    "start_time": "2021-08-29T19:45:14.710Z"
   },
   {
    "duration": 1566,
    "start_time": "2021-08-29T19:45:40.430Z"
   },
   {
    "duration": 1533,
    "start_time": "2021-08-29T19:46:17.319Z"
   },
   {
    "duration": 1449,
    "start_time": "2021-08-29T19:46:39.558Z"
   },
   {
    "duration": 1531,
    "start_time": "2021-08-29T19:48:10.436Z"
   },
   {
    "duration": 39,
    "start_time": "2021-08-29T19:50:57.278Z"
   },
   {
    "duration": 1728,
    "start_time": "2021-08-29T19:52:41.473Z"
   },
   {
    "duration": 1406,
    "start_time": "2021-08-29T19:52:59.663Z"
   },
   {
    "duration": 38,
    "start_time": "2021-08-29T19:53:38.585Z"
   },
   {
    "duration": 1519,
    "start_time": "2021-08-29T19:54:34.801Z"
   },
   {
    "duration": 1505,
    "start_time": "2021-08-29T19:55:14.233Z"
   },
   {
    "duration": 36,
    "start_time": "2021-08-29T19:55:46.601Z"
   },
   {
    "duration": 37,
    "start_time": "2021-08-29T19:56:33.634Z"
   },
   {
    "duration": 38,
    "start_time": "2021-08-29T19:57:13.051Z"
   },
   {
    "duration": 41,
    "start_time": "2021-08-29T19:57:29.074Z"
   },
   {
    "duration": 1933,
    "start_time": "2021-08-29T20:15:52.162Z"
   },
   {
    "duration": 1486,
    "start_time": "2021-08-29T20:16:17.402Z"
   },
   {
    "duration": 7,
    "start_time": "2021-08-29T20:18:55.892Z"
   },
   {
    "duration": 137,
    "start_time": "2021-08-29T20:21:01.244Z"
   },
   {
    "duration": 827,
    "start_time": "2021-08-29T20:21:19.061Z"
   },
   {
    "duration": 977,
    "start_time": "2021-08-29T20:22:10.189Z"
   },
   {
    "duration": 820,
    "start_time": "2021-08-29T20:22:34.875Z"
   },
   {
    "duration": 817,
    "start_time": "2021-08-29T20:23:28.420Z"
   },
   {
    "duration": 916,
    "start_time": "2021-08-29T20:25:08.301Z"
   },
   {
    "duration": 955,
    "start_time": "2021-08-29T20:25:16.732Z"
   },
   {
    "duration": 537,
    "start_time": "2021-08-29T20:29:43.510Z"
   },
   {
    "duration": 722,
    "start_time": "2021-08-29T20:32:47.335Z"
   },
   {
    "duration": 1004,
    "start_time": "2021-08-29T20:33:29.393Z"
   },
   {
    "duration": 929,
    "start_time": "2021-08-29T20:33:40.409Z"
   },
   {
    "duration": 1234,
    "start_time": "2021-08-29T20:43:15.612Z"
   },
   {
    "duration": 127,
    "start_time": "2021-08-29T20:43:32.580Z"
   },
   {
    "duration": 951,
    "start_time": "2021-08-29T20:43:39.491Z"
   },
   {
    "duration": 914,
    "start_time": "2021-08-29T20:48:10.373Z"
   },
   {
    "duration": 362,
    "start_time": "2021-08-29T20:48:18.829Z"
   },
   {
    "duration": 1493,
    "start_time": "2021-09-03T02:53:37.792Z"
   },
   {
    "duration": 909,
    "start_time": "2021-09-03T02:53:39.287Z"
   },
   {
    "duration": 4,
    "start_time": "2021-09-03T02:53:40.199Z"
   },
   {
    "duration": 162,
    "start_time": "2021-09-03T02:53:40.206Z"
   },
   {
    "duration": 114,
    "start_time": "2021-09-03T02:53:40.371Z"
   },
   {
    "duration": 157,
    "start_time": "2021-09-03T02:53:40.487Z"
   },
   {
    "duration": 32,
    "start_time": "2021-09-03T02:53:40.646Z"
   },
   {
    "duration": 17,
    "start_time": "2021-09-03T02:53:40.682Z"
   },
   {
    "duration": 25,
    "start_time": "2021-09-03T02:53:40.702Z"
   },
   {
    "duration": 3,
    "start_time": "2021-09-03T02:53:40.730Z"
   },
   {
    "duration": 51,
    "start_time": "2021-09-03T02:53:40.735Z"
   },
   {
    "duration": 9,
    "start_time": "2021-09-03T02:53:40.789Z"
   },
   {
    "duration": 14,
    "start_time": "2021-09-03T02:53:40.800Z"
   },
   {
    "duration": 22,
    "start_time": "2021-09-03T02:53:40.816Z"
   },
   {
    "duration": 40,
    "start_time": "2021-09-03T02:53:40.841Z"
   },
   {
    "duration": 7,
    "start_time": "2021-09-03T02:53:40.884Z"
   },
   {
    "duration": 7,
    "start_time": "2021-09-03T02:53:40.893Z"
   },
   {
    "duration": 68,
    "start_time": "2021-09-03T02:53:40.902Z"
   },
   {
    "duration": 21,
    "start_time": "2021-09-03T02:53:40.973Z"
   },
   {
    "duration": 29,
    "start_time": "2021-09-03T02:53:40.997Z"
   },
   {
    "duration": 17,
    "start_time": "2021-09-03T02:53:41.028Z"
   },
   {
    "duration": 24,
    "start_time": "2021-09-03T02:53:41.047Z"
   },
   {
    "duration": 47,
    "start_time": "2021-09-03T02:53:41.076Z"
   },
   {
    "duration": 6,
    "start_time": "2021-09-03T02:53:41.126Z"
   },
   {
    "duration": 128,
    "start_time": "2021-09-03T02:53:41.135Z"
   },
   {
    "duration": 5,
    "start_time": "2021-09-03T02:53:41.268Z"
   },
   {
    "duration": 17,
    "start_time": "2021-09-03T02:53:41.276Z"
   },
   {
    "duration": 29,
    "start_time": "2021-09-03T02:53:41.295Z"
   },
   {
    "duration": 80,
    "start_time": "2021-09-03T02:53:41.327Z"
   },
   {
    "duration": 135,
    "start_time": "2021-09-03T02:53:41.410Z"
   },
   {
    "duration": 19,
    "start_time": "2021-09-03T02:53:41.548Z"
   },
   {
    "duration": 118,
    "start_time": "2021-09-03T02:53:41.569Z"
   },
   {
    "duration": 1467,
    "start_time": "2021-09-03T02:53:41.689Z"
   },
   {
    "duration": 42,
    "start_time": "2021-09-03T02:53:43.158Z"
   },
   {
    "duration": 1506,
    "start_time": "2021-09-03T02:53:43.202Z"
   },
   {
    "duration": 36,
    "start_time": "2021-09-03T02:53:44.710Z"
   },
   {
    "duration": 1466,
    "start_time": "2021-09-03T02:53:44.767Z"
   },
   {
    "duration": 52,
    "start_time": "2021-09-03T02:53:46.235Z"
   },
   {
    "duration": 391,
    "start_time": "2021-09-03T02:53:46.289Z"
   },
   {
    "duration": 1108,
    "start_time": "2021-09-03T02:53:45.576Z"
   },
   {
    "duration": 1104,
    "start_time": "2021-09-03T02:53:45.581Z"
   },
   {
    "duration": 980,
    "start_time": "2021-09-03T02:56:51.662Z"
   },
   {
    "duration": 677,
    "start_time": "2021-09-03T02:58:17.900Z"
   },
   {
    "duration": 877,
    "start_time": "2021-09-03T03:00:16.790Z"
   },
   {
    "duration": 850,
    "start_time": "2021-09-03T03:00:34.229Z"
   },
   {
    "duration": 1525,
    "start_time": "2021-09-03T03:02:02.607Z"
   },
   {
    "duration": 1446,
    "start_time": "2021-09-03T03:03:58.479Z"
   },
   {
    "duration": 1580,
    "start_time": "2021-09-03T03:05:03.426Z"
   },
   {
    "duration": 1479,
    "start_time": "2021-09-03T03:06:54.511Z"
   },
   {
    "duration": 1554,
    "start_time": "2021-09-03T03:07:46.634Z"
   },
   {
    "duration": 208,
    "start_time": "2021-09-03T03:11:40.155Z"
   },
   {
    "duration": 228,
    "start_time": "2021-09-03T03:12:13.298Z"
   },
   {
    "duration": 232,
    "start_time": "2021-09-03T03:16:21.731Z"
   },
   {
    "duration": 201,
    "start_time": "2021-09-03T03:16:27.133Z"
   },
   {
    "duration": 218,
    "start_time": "2021-09-03T03:17:27.283Z"
   },
   {
    "duration": 417,
    "start_time": "2021-09-03T03:22:38.382Z"
   },
   {
    "duration": 1521,
    "start_time": "2021-09-03T03:24:55.916Z"
   },
   {
    "duration": 1411,
    "start_time": "2021-09-03T03:25:17.912Z"
   },
   {
    "duration": 394,
    "start_time": "2021-09-03T03:26:06.439Z"
   },
   {
    "duration": 272,
    "start_time": "2021-09-03T03:36:26.154Z"
   },
   {
    "duration": 84,
    "start_time": "2021-09-03T03:36:51.299Z"
   },
   {
    "duration": 1519,
    "start_time": "2021-09-03T03:37:03.386Z"
   },
   {
    "duration": 1574,
    "start_time": "2021-09-03T03:37:14.483Z"
   },
   {
    "duration": 667,
    "start_time": "2021-09-03T03:37:54.076Z"
   },
   {
    "duration": 913,
    "start_time": "2021-09-03T03:38:05.395Z"
   },
   {
    "duration": 725,
    "start_time": "2021-09-03T03:38:14.835Z"
   },
   {
    "duration": 645,
    "start_time": "2021-09-03T03:38:26.275Z"
   },
   {
    "duration": 548,
    "start_time": "2021-09-03T03:38:33.732Z"
   },
   {
    "duration": 7,
    "start_time": "2021-09-03T03:39:44.555Z"
   },
   {
    "duration": 1762,
    "start_time": "2021-09-03T03:40:13.237Z"
   },
   {
    "duration": 1601,
    "start_time": "2021-09-03T03:40:28.821Z"
   },
   {
    "duration": 1608,
    "start_time": "2021-09-03T03:42:17.353Z"
   },
   {
    "duration": 1710,
    "start_time": "2021-09-03T03:42:49.263Z"
   },
   {
    "duration": 1578,
    "start_time": "2021-09-03T03:43:31.510Z"
   },
   {
    "duration": 563,
    "start_time": "2021-09-03T03:50:22.584Z"
   },
   {
    "duration": 697,
    "start_time": "2021-09-03T03:51:53.624Z"
   },
   {
    "duration": 7,
    "start_time": "2021-09-03T04:02:33.412Z"
   },
   {
    "duration": 10,
    "start_time": "2021-09-03T04:03:09.702Z"
   },
   {
    "duration": 5,
    "start_time": "2021-09-03T04:03:40.700Z"
   },
   {
    "duration": 5978,
    "start_time": "2021-09-03T04:06:50.485Z"
   },
   {
    "duration": 10,
    "start_time": "2021-09-03T04:07:14.113Z"
   },
   {
    "duration": 552,
    "start_time": "2021-09-03T04:11:48.800Z"
   },
   {
    "duration": 843,
    "start_time": "2021-09-03T04:12:39.569Z"
   },
   {
    "duration": 1249,
    "start_time": "2021-09-03T04:13:16.057Z"
   },
   {
    "duration": 1518,
    "start_time": "2021-09-03T04:13:48.169Z"
   },
   {
    "duration": 1691,
    "start_time": "2021-09-03T04:14:16.068Z"
   },
   {
    "duration": 2337,
    "start_time": "2021-09-03T04:14:25.513Z"
   },
   {
    "duration": 2520,
    "start_time": "2021-09-03T04:14:57.642Z"
   },
   {
    "duration": 2440,
    "start_time": "2021-09-03T04:15:15.529Z"
   },
   {
    "duration": 2602,
    "start_time": "2021-09-03T04:15:30.896Z"
   },
   {
    "duration": 2597,
    "start_time": "2021-09-03T04:16:25.667Z"
   },
   {
    "duration": 2599,
    "start_time": "2021-09-03T04:20:16.284Z"
   },
   {
    "duration": 2913,
    "start_time": "2021-09-03T04:22:03.589Z"
   },
   {
    "duration": 52,
    "start_time": "2021-09-03T04:34:43.386Z"
   },
   {
    "duration": 40,
    "start_time": "2021-09-03T04:35:44.732Z"
   },
   {
    "duration": 5692,
    "start_time": "2021-09-03T04:37:09.671Z"
   },
   {
    "duration": 43,
    "start_time": "2021-09-03T04:37:21.810Z"
   },
   {
    "duration": 1733,
    "start_time": "2021-09-04T06:29:06.802Z"
   },
   {
    "duration": 949,
    "start_time": "2021-09-04T06:29:08.538Z"
   },
   {
    "duration": 4,
    "start_time": "2021-09-04T06:29:09.490Z"
   },
   {
    "duration": 171,
    "start_time": "2021-09-04T06:29:09.496Z"
   },
   {
    "duration": 119,
    "start_time": "2021-09-04T06:29:09.670Z"
   },
   {
    "duration": 170,
    "start_time": "2021-09-04T06:29:09.791Z"
   },
   {
    "duration": 25,
    "start_time": "2021-09-04T06:29:09.964Z"
   },
   {
    "duration": 34,
    "start_time": "2021-09-04T06:29:09.992Z"
   },
   {
    "duration": 28,
    "start_time": "2021-09-04T06:29:10.030Z"
   },
   {
    "duration": 4,
    "start_time": "2021-09-04T06:29:10.061Z"
   },
   {
    "duration": 60,
    "start_time": "2021-09-04T06:29:10.068Z"
   },
   {
    "duration": 6,
    "start_time": "2021-09-04T06:29:10.131Z"
   },
   {
    "duration": 8,
    "start_time": "2021-09-04T06:29:10.139Z"
   },
   {
    "duration": 27,
    "start_time": "2021-09-04T06:29:10.149Z"
   },
   {
    "duration": 45,
    "start_time": "2021-09-04T06:29:10.178Z"
   },
   {
    "duration": 6,
    "start_time": "2021-09-04T06:29:10.226Z"
   },
   {
    "duration": 16,
    "start_time": "2021-09-04T06:29:10.234Z"
   },
   {
    "duration": 57,
    "start_time": "2021-09-04T06:29:10.253Z"
   },
   {
    "duration": 25,
    "start_time": "2021-09-04T06:29:10.316Z"
   },
   {
    "duration": 55,
    "start_time": "2021-09-04T06:29:10.344Z"
   },
   {
    "duration": 5,
    "start_time": "2021-09-04T06:29:10.420Z"
   },
   {
    "duration": 18,
    "start_time": "2021-09-04T06:29:10.428Z"
   },
   {
    "duration": 84,
    "start_time": "2021-09-04T06:29:10.455Z"
   },
   {
    "duration": 11,
    "start_time": "2021-09-04T06:29:10.544Z"
   },
   {
    "duration": 145,
    "start_time": "2021-09-04T06:29:10.559Z"
   },
   {
    "duration": 15,
    "start_time": "2021-09-04T06:29:10.708Z"
   },
   {
    "duration": 17,
    "start_time": "2021-09-04T06:29:10.726Z"
   },
   {
    "duration": 52,
    "start_time": "2021-09-04T06:29:10.746Z"
   },
   {
    "duration": 65,
    "start_time": "2021-09-04T06:29:10.801Z"
   },
   {
    "duration": 132,
    "start_time": "2021-09-04T06:29:10.868Z"
   },
   {
    "duration": 15,
    "start_time": "2021-09-04T06:29:11.003Z"
   },
   {
    "duration": 119,
    "start_time": "2021-09-04T06:29:11.020Z"
   },
   {
    "duration": 1479,
    "start_time": "2021-09-04T06:29:11.142Z"
   },
   {
    "duration": 38,
    "start_time": "2021-09-04T06:29:12.623Z"
   },
   {
    "duration": 1518,
    "start_time": "2021-09-04T06:29:12.664Z"
   },
   {
    "duration": 53,
    "start_time": "2021-09-04T06:29:14.184Z"
   },
   {
    "duration": 1622,
    "start_time": "2021-09-04T06:29:14.240Z"
   },
   {
    "duration": 50,
    "start_time": "2021-09-04T06:29:15.865Z"
   },
   {
    "duration": 1825,
    "start_time": "2021-09-04T06:29:15.918Z"
   },
   {
    "duration": 615,
    "start_time": "2021-09-04T06:29:17.745Z"
   },
   {
    "duration": 1596,
    "start_time": "2021-09-04T06:29:18.363Z"
   },
   {
    "duration": 14,
    "start_time": "2021-09-04T06:29:19.961Z"
   },
   {
    "duration": 2648,
    "start_time": "2021-09-04T06:29:19.978Z"
   },
   {
    "duration": 51,
    "start_time": "2021-09-04T06:29:22.629Z"
   },
   {
    "duration": 622,
    "start_time": "2021-09-04T06:29:22.683Z"
   },
   {
    "duration": 3999,
    "start_time": "2021-09-04T06:29:19.309Z"
   },
   {
    "duration": 159,
    "start_time": "2021-09-04T06:30:08.499Z"
   },
   {
    "duration": 1491,
    "start_time": "2021-09-04T06:30:24.816Z"
   },
   {
    "duration": 1565,
    "start_time": "2021-09-04T06:30:55.079Z"
   },
   {
    "duration": 1461,
    "start_time": "2021-09-04T06:31:02.850Z"
   },
   {
    "duration": 1190,
    "start_time": "2021-09-04T06:33:43.906Z"
   },
   {
    "duration": 1693,
    "start_time": "2021-09-04T06:36:50.737Z"
   },
   {
    "duration": 14,
    "start_time": "2021-09-04T06:48:08.168Z"
   },
   {
    "duration": 42,
    "start_time": "2021-09-04T06:48:19.403Z"
   },
   {
    "duration": 1561,
    "start_time": "2021-09-04T06:48:52.968Z"
   },
   {
    "duration": 937,
    "start_time": "2021-09-04T06:48:54.531Z"
   },
   {
    "duration": 4,
    "start_time": "2021-09-04T06:48:55.471Z"
   },
   {
    "duration": 161,
    "start_time": "2021-09-04T06:48:55.478Z"
   },
   {
    "duration": 112,
    "start_time": "2021-09-04T06:48:55.641Z"
   },
   {
    "duration": 155,
    "start_time": "2021-09-04T06:48:55.755Z"
   },
   {
    "duration": 24,
    "start_time": "2021-09-04T06:48:55.915Z"
   },
   {
    "duration": 16,
    "start_time": "2021-09-04T06:48:55.943Z"
   },
   {
    "duration": 25,
    "start_time": "2021-09-04T06:48:55.962Z"
   },
   {
    "duration": 4,
    "start_time": "2021-09-04T06:48:56.017Z"
   },
   {
    "duration": 25,
    "start_time": "2021-09-04T06:48:56.024Z"
   },
   {
    "duration": 5,
    "start_time": "2021-09-04T06:48:56.051Z"
   },
   {
    "duration": 6,
    "start_time": "2021-09-04T06:48:56.059Z"
   },
   {
    "duration": 62,
    "start_time": "2021-09-04T06:48:56.067Z"
   },
   {
    "duration": 26,
    "start_time": "2021-09-04T06:48:56.132Z"
   },
   {
    "duration": 10,
    "start_time": "2021-09-04T06:48:56.161Z"
   },
   {
    "duration": 9,
    "start_time": "2021-09-04T06:48:56.173Z"
   },
   {
    "duration": 38,
    "start_time": "2021-09-04T06:48:56.217Z"
   },
   {
    "duration": 21,
    "start_time": "2021-09-04T06:48:56.258Z"
   },
   {
    "duration": 58,
    "start_time": "2021-09-04T06:48:56.281Z"
   },
   {
    "duration": 4,
    "start_time": "2021-09-04T06:48:56.342Z"
   },
   {
    "duration": 16,
    "start_time": "2021-09-04T06:48:56.348Z"
   },
   {
    "duration": 68,
    "start_time": "2021-09-04T06:48:56.369Z"
   },
   {
    "duration": 6,
    "start_time": "2021-09-04T06:48:56.440Z"
   },
   {
    "duration": 128,
    "start_time": "2021-09-04T06:48:56.449Z"
   },
   {
    "duration": 6,
    "start_time": "2021-09-04T06:48:56.579Z"
   },
   {
    "duration": 30,
    "start_time": "2021-09-04T06:48:56.588Z"
   },
   {
    "duration": 30,
    "start_time": "2021-09-04T06:48:56.620Z"
   },
   {
    "duration": 75,
    "start_time": "2021-09-04T06:48:56.652Z"
   },
   {
    "duration": 129,
    "start_time": "2021-09-04T06:48:56.729Z"
   },
   {
    "duration": 10,
    "start_time": "2021-09-04T06:48:56.861Z"
   },
   {
    "duration": 124,
    "start_time": "2021-09-04T06:48:56.873Z"
   },
   {
    "duration": 1428,
    "start_time": "2021-09-04T06:48:57.000Z"
   },
   {
    "duration": 39,
    "start_time": "2021-09-04T06:48:58.431Z"
   },
   {
    "duration": 1533,
    "start_time": "2021-09-04T06:48:58.473Z"
   },
   {
    "duration": 39,
    "start_time": "2021-09-04T06:49:00.016Z"
   },
   {
    "duration": 1509,
    "start_time": "2021-09-04T06:49:00.057Z"
   },
   {
    "duration": 50,
    "start_time": "2021-09-04T06:49:01.569Z"
   },
   {
    "duration": 1675,
    "start_time": "2021-09-04T06:49:01.622Z"
   },
   {
    "duration": 587,
    "start_time": "2021-09-04T06:49:03.299Z"
   },
   {
    "duration": 1648,
    "start_time": "2021-09-04T06:49:03.888Z"
   },
   {
    "duration": 12,
    "start_time": "2021-09-04T06:49:05.539Z"
   },
   {
    "duration": 2592,
    "start_time": "2021-09-04T06:49:05.554Z"
   },
   {
    "duration": 67,
    "start_time": "2021-09-04T06:49:08.149Z"
   },
   {
    "duration": 39,
    "start_time": "2021-09-04T06:49:08.219Z"
   },
   {
    "duration": 13,
    "start_time": "2021-09-04T06:49:08.260Z"
   },
   {
    "duration": 67,
    "start_time": "2021-09-04T06:49:08.275Z"
   },
   {
    "duration": 6,
    "start_time": "2021-09-04T06:49:08.344Z"
   },
   {
    "duration": 13,
    "start_time": "2021-09-04T06:50:13.618Z"
   },
   {
    "duration": 42,
    "start_time": "2021-09-04T06:50:17.061Z"
   },
   {
    "duration": 33,
    "start_time": "2021-09-04T06:54:53.449Z"
   },
   {
    "duration": 24,
    "start_time": "2021-09-04T06:55:12.029Z"
   },
   {
    "duration": 39,
    "start_time": "2021-09-04T06:55:23.075Z"
   },
   {
    "duration": 6,
    "start_time": "2021-09-04T08:13:40.653Z"
   },
   {
    "duration": 42,
    "start_time": "2021-09-04T08:43:07.869Z"
   },
   {
    "duration": 43,
    "start_time": "2021-09-04T08:48:32.542Z"
   },
   {
    "duration": 7,
    "start_time": "2021-09-04T09:17:27.664Z"
   },
   {
    "duration": 4,
    "start_time": "2021-09-04T09:21:08.952Z"
   },
   {
    "duration": 5,
    "start_time": "2021-09-04T09:21:13.808Z"
   },
   {
    "duration": 555,
    "start_time": "2021-09-04T09:22:05.842Z"
   },
   {
    "duration": 7,
    "start_time": "2021-09-04T09:22:12.625Z"
   },
   {
    "duration": 396,
    "start_time": "2021-09-04T10:18:20.998Z"
   },
   {
    "duration": 389,
    "start_time": "2021-09-04T10:18:35.412Z"
   },
   {
    "duration": 404,
    "start_time": "2021-09-04T10:18:56.305Z"
   },
   {
    "duration": 54,
    "start_time": "2021-09-04T10:38:38.525Z"
   },
   {
    "duration": 411,
    "start_time": "2021-09-04T10:45:13.052Z"
   },
   {
    "duration": 1694,
    "start_time": "2021-09-04T10:46:22.222Z"
   },
   {
    "duration": 953,
    "start_time": "2021-09-04T10:46:23.919Z"
   },
   {
    "duration": 5,
    "start_time": "2021-09-04T10:46:24.875Z"
   },
   {
    "duration": 194,
    "start_time": "2021-09-04T10:46:24.883Z"
   },
   {
    "duration": 113,
    "start_time": "2021-09-04T10:46:25.079Z"
   },
   {
    "duration": 166,
    "start_time": "2021-09-04T10:46:25.195Z"
   },
   {
    "duration": 24,
    "start_time": "2021-09-04T10:46:25.363Z"
   },
   {
    "duration": 38,
    "start_time": "2021-09-04T10:46:25.390Z"
   },
   {
    "duration": 26,
    "start_time": "2021-09-04T10:46:25.432Z"
   },
   {
    "duration": 5,
    "start_time": "2021-09-04T10:46:25.460Z"
   },
   {
    "duration": 53,
    "start_time": "2021-09-04T10:46:25.467Z"
   },
   {
    "duration": 5,
    "start_time": "2021-09-04T10:46:25.522Z"
   },
   {
    "duration": 16,
    "start_time": "2021-09-04T10:46:25.529Z"
   },
   {
    "duration": 24,
    "start_time": "2021-09-04T10:46:25.547Z"
   },
   {
    "duration": 30,
    "start_time": "2021-09-04T10:46:25.574Z"
   },
   {
    "duration": 6,
    "start_time": "2021-09-04T10:46:25.616Z"
   },
   {
    "duration": 10,
    "start_time": "2021-09-04T10:46:25.625Z"
   },
   {
    "duration": 54,
    "start_time": "2021-09-04T10:46:25.638Z"
   },
   {
    "duration": 35,
    "start_time": "2021-09-04T10:46:25.695Z"
   },
   {
    "duration": 34,
    "start_time": "2021-09-04T10:46:25.732Z"
   },
   {
    "duration": 19,
    "start_time": "2021-09-04T10:46:25.770Z"
   },
   {
    "duration": 27,
    "start_time": "2021-09-04T10:46:25.792Z"
   },
   {
    "duration": 52,
    "start_time": "2021-09-04T10:46:25.826Z"
   },
   {
    "duration": 7,
    "start_time": "2021-09-04T10:46:25.882Z"
   },
   {
    "duration": 147,
    "start_time": "2021-09-04T10:46:25.892Z"
   },
   {
    "duration": 5,
    "start_time": "2021-09-04T10:46:26.042Z"
   },
   {
    "duration": 16,
    "start_time": "2021-09-04T10:46:26.050Z"
   },
   {
    "duration": 57,
    "start_time": "2021-09-04T10:46:26.068Z"
   },
   {
    "duration": 57,
    "start_time": "2021-09-04T10:46:26.127Z"
   },
   {
    "duration": 144,
    "start_time": "2021-09-04T10:46:26.187Z"
   },
   {
    "duration": 12,
    "start_time": "2021-09-04T10:46:26.334Z"
   },
   {
    "duration": 135,
    "start_time": "2021-09-04T10:46:26.349Z"
   },
   {
    "duration": 1591,
    "start_time": "2021-09-04T10:46:26.487Z"
   },
   {
    "duration": 50,
    "start_time": "2021-09-04T10:46:28.081Z"
   },
   {
    "duration": 1701,
    "start_time": "2021-09-04T10:46:28.134Z"
   },
   {
    "duration": 39,
    "start_time": "2021-09-04T10:46:29.837Z"
   },
   {
    "duration": 1576,
    "start_time": "2021-09-04T10:46:29.878Z"
   },
   {
    "duration": 38,
    "start_time": "2021-09-04T10:46:31.456Z"
   },
   {
    "duration": 1874,
    "start_time": "2021-09-04T10:46:31.516Z"
   },
   {
    "duration": 608,
    "start_time": "2021-09-04T10:46:33.393Z"
   },
   {
    "duration": 1642,
    "start_time": "2021-09-04T10:46:34.004Z"
   },
   {
    "duration": 14,
    "start_time": "2021-09-04T10:46:35.648Z"
   },
   {
    "duration": 2708,
    "start_time": "2021-09-04T10:46:35.664Z"
   },
   {
    "duration": 64,
    "start_time": "2021-09-04T10:46:38.374Z"
   },
   {
    "duration": 32,
    "start_time": "2021-09-04T10:46:38.441Z"
   },
   {
    "duration": 42,
    "start_time": "2021-09-04T10:46:38.476Z"
   },
   {
    "duration": 43,
    "start_time": "2021-09-04T10:46:38.520Z"
   },
   {
    "duration": 7,
    "start_time": "2021-09-04T10:46:38.566Z"
   },
   {
    "duration": 48,
    "start_time": "2021-09-04T10:46:38.576Z"
   },
   {
    "duration": 3,
    "start_time": "2021-09-04T10:49:04.984Z"
   },
   {
    "duration": 542,
    "start_time": "2021-09-04T11:28:11.788Z"
   },
   {
    "duration": 3782,
    "start_time": "2021-09-04T11:28:39.843Z"
   },
   {
    "duration": 170,
    "start_time": "2021-09-04T11:29:17.149Z"
   },
   {
    "duration": 3479,
    "start_time": "2021-09-04T11:30:13.113Z"
   },
   {
    "duration": 1602,
    "start_time": "2021-09-04T11:31:09.273Z"
   },
   {
    "duration": 940,
    "start_time": "2021-09-04T11:31:10.878Z"
   },
   {
    "duration": 4,
    "start_time": "2021-09-04T11:31:11.823Z"
   },
   {
    "duration": 167,
    "start_time": "2021-09-04T11:31:11.831Z"
   },
   {
    "duration": 132,
    "start_time": "2021-09-04T11:31:12.001Z"
   },
   {
    "duration": 166,
    "start_time": "2021-09-04T11:31:12.136Z"
   },
   {
    "duration": 29,
    "start_time": "2021-09-04T11:31:12.305Z"
   },
   {
    "duration": 17,
    "start_time": "2021-09-04T11:31:12.338Z"
   },
   {
    "duration": 68,
    "start_time": "2021-09-04T11:31:12.361Z"
   },
   {
    "duration": 5,
    "start_time": "2021-09-04T11:31:12.434Z"
   },
   {
    "duration": 26,
    "start_time": "2021-09-04T11:31:12.442Z"
   },
   {
    "duration": 6,
    "start_time": "2021-09-04T11:31:12.471Z"
   },
   {
    "duration": 39,
    "start_time": "2021-09-04T11:31:12.479Z"
   },
   {
    "duration": 19,
    "start_time": "2021-09-04T11:31:12.520Z"
   },
   {
    "duration": 25,
    "start_time": "2021-09-04T11:31:12.542Z"
   },
   {
    "duration": 7,
    "start_time": "2021-09-04T11:31:12.570Z"
   },
   {
    "duration": 41,
    "start_time": "2021-09-04T11:31:12.580Z"
   },
   {
    "duration": 44,
    "start_time": "2021-09-04T11:31:12.623Z"
   },
   {
    "duration": 46,
    "start_time": "2021-09-04T11:31:12.670Z"
   },
   {
    "duration": 33,
    "start_time": "2021-09-04T11:31:12.718Z"
   },
   {
    "duration": 6,
    "start_time": "2021-09-04T11:31:12.754Z"
   },
   {
    "duration": 9,
    "start_time": "2021-09-04T11:31:12.762Z"
   },
   {
    "duration": 73,
    "start_time": "2021-09-04T11:31:12.773Z"
   },
   {
    "duration": 7,
    "start_time": "2021-09-04T11:31:12.848Z"
   },
   {
    "duration": 125,
    "start_time": "2021-09-04T11:31:12.857Z"
   },
   {
    "duration": 5,
    "start_time": "2021-09-04T11:31:12.985Z"
   },
   {
    "duration": 24,
    "start_time": "2021-09-04T11:31:12.997Z"
   },
   {
    "duration": 32,
    "start_time": "2021-09-04T11:31:13.024Z"
   },
   {
    "duration": 88,
    "start_time": "2021-09-04T11:31:13.058Z"
   },
   {
    "duration": 128,
    "start_time": "2021-09-04T11:31:13.148Z"
   },
   {
    "duration": 10,
    "start_time": "2021-09-04T11:31:13.278Z"
   },
   {
    "duration": 126,
    "start_time": "2021-09-04T11:31:13.291Z"
   },
   {
    "duration": 1552,
    "start_time": "2021-09-04T11:31:13.420Z"
   },
   {
    "duration": 51,
    "start_time": "2021-09-04T11:31:14.975Z"
   },
   {
    "duration": 1815,
    "start_time": "2021-09-04T11:31:15.028Z"
   },
   {
    "duration": 37,
    "start_time": "2021-09-04T11:31:16.845Z"
   },
   {
    "duration": 1544,
    "start_time": "2021-09-04T11:31:16.885Z"
   },
   {
    "duration": 39,
    "start_time": "2021-09-04T11:31:18.432Z"
   },
   {
    "duration": 2785,
    "start_time": "2021-09-04T11:31:18.474Z"
   },
   {
    "duration": 876,
    "start_time": "2021-09-04T11:31:21.262Z"
   },
   {
    "duration": 1806,
    "start_time": "2021-09-04T11:31:22.141Z"
   },
   {
    "duration": 20,
    "start_time": "2021-09-04T11:31:23.950Z"
   },
   {
    "duration": 2545,
    "start_time": "2021-09-04T11:31:23.974Z"
   },
   {
    "duration": 51,
    "start_time": "2021-09-04T11:31:26.521Z"
   },
   {
    "duration": 56,
    "start_time": "2021-09-04T11:31:26.574Z"
   },
   {
    "duration": 14,
    "start_time": "2021-09-04T11:31:26.633Z"
   },
   {
    "duration": 53,
    "start_time": "2021-09-04T11:31:26.649Z"
   },
   {
    "duration": 15,
    "start_time": "2021-09-04T11:31:26.704Z"
   },
   {
    "duration": 81,
    "start_time": "2021-09-04T11:31:26.721Z"
   },
   {
    "duration": 68,
    "start_time": "2021-09-04T11:31:26.804Z"
   },
   {
    "duration": 422,
    "start_time": "2021-09-04T11:31:26.874Z"
   },
   {
    "duration": 121,
    "start_time": "2021-09-04T11:31:27.299Z"
   },
   {
    "duration": 3486,
    "start_time": "2021-09-04T11:31:27.424Z"
   },
   {
    "duration": 109,
    "start_time": "2021-09-04T11:34:35.911Z"
   },
   {
    "duration": 99,
    "start_time": "2021-09-04T11:34:38.222Z"
   },
   {
    "duration": 30,
    "start_time": "2021-09-04T11:34:39.398Z"
   },
   {
    "duration": 116,
    "start_time": "2021-09-04T11:34:48.207Z"
   },
   {
    "duration": 3543,
    "start_time": "2021-09-04T11:34:50.819Z"
   },
   {
    "duration": 6,
    "start_time": "2021-09-04T11:35:22.694Z"
   },
   {
    "duration": 7951,
    "start_time": "2021-09-04T11:35:24.435Z"
   },
   {
    "duration": 41,
    "start_time": "2021-09-04T11:35:58.944Z"
   },
   {
    "duration": 15,
    "start_time": "2021-09-04T11:36:20.749Z"
   },
   {
    "duration": 450,
    "start_time": "2021-09-04T11:42:35.490Z"
   },
   {
    "duration": 61,
    "start_time": "2021-09-04T11:43:31.860Z"
   },
   {
    "duration": 406,
    "start_time": "2021-09-04T11:43:33.794Z"
   },
   {
    "duration": 9,
    "start_time": "2021-09-04T11:46:43.603Z"
   },
   {
    "duration": 392,
    "start_time": "2021-09-04T11:46:48.468Z"
   },
   {
    "duration": 13,
    "start_time": "2021-09-04T11:47:39.956Z"
   },
   {
    "duration": 923,
    "start_time": "2021-09-04T11:49:00.101Z"
   },
   {
    "duration": 1119,
    "start_time": "2021-09-04T11:49:15.303Z"
   },
   {
    "duration": 895,
    "start_time": "2021-09-04T11:49:55.431Z"
   },
   {
    "duration": 1260,
    "start_time": "2021-09-04T11:49:59.764Z"
   },
   {
    "duration": 869,
    "start_time": "2021-09-04T11:50:09.196Z"
   },
   {
    "duration": 5,
    "start_time": "2021-09-04T11:50:36.886Z"
   },
   {
    "duration": 950,
    "start_time": "2021-09-04T11:50:56.373Z"
   },
   {
    "duration": 949,
    "start_time": "2021-09-04T11:51:01.373Z"
   },
   {
    "duration": 1021,
    "start_time": "2021-09-04T11:51:48.102Z"
   },
   {
    "duration": 3411,
    "start_time": "2021-09-04T11:52:27.279Z"
   },
   {
    "duration": 3649,
    "start_time": "2021-09-04T11:58:14.633Z"
   },
   {
    "duration": 547,
    "start_time": "2021-09-04T12:34:32.806Z"
   },
   {
    "duration": 988,
    "start_time": "2021-09-04T12:35:38.622Z"
   },
   {
    "duration": 753,
    "start_time": "2021-09-04T12:35:52.990Z"
   },
   {
    "duration": 5,
    "start_time": "2021-09-04T13:13:21.954Z"
   },
   {
    "duration": 12,
    "start_time": "2021-09-04T13:13:23.938Z"
   },
   {
    "duration": 4,
    "start_time": "2021-09-04T13:13:29.913Z"
   },
   {
    "duration": 461,
    "start_time": "2021-09-04T13:13:34.219Z"
   },
   {
    "duration": 42,
    "start_time": "2021-09-04T13:14:06.106Z"
   },
   {
    "duration": 524,
    "start_time": "2021-09-04T13:14:29.692Z"
   },
   {
    "duration": 12,
    "start_time": "2021-09-04T13:15:39.285Z"
   },
   {
    "duration": 464,
    "start_time": "2021-09-04T13:15:46.292Z"
   },
   {
    "duration": 1680,
    "start_time": "2021-09-04T13:16:00.002Z"
   },
   {
    "duration": 916,
    "start_time": "2021-09-04T13:16:01.685Z"
   },
   {
    "duration": 4,
    "start_time": "2021-09-04T13:16:02.604Z"
   },
   {
    "duration": 156,
    "start_time": "2021-09-04T13:16:02.617Z"
   },
   {
    "duration": 115,
    "start_time": "2021-09-04T13:16:02.776Z"
   },
   {
    "duration": 165,
    "start_time": "2021-09-04T13:16:02.893Z"
   },
   {
    "duration": 23,
    "start_time": "2021-09-04T13:16:03.060Z"
   },
   {
    "duration": 36,
    "start_time": "2021-09-04T13:16:03.087Z"
   },
   {
    "duration": 26,
    "start_time": "2021-09-04T13:16:03.126Z"
   },
   {
    "duration": 4,
    "start_time": "2021-09-04T13:16:03.155Z"
   },
   {
    "duration": 55,
    "start_time": "2021-09-04T13:16:03.161Z"
   },
   {
    "duration": 6,
    "start_time": "2021-09-04T13:16:03.219Z"
   },
   {
    "duration": 12,
    "start_time": "2021-09-04T13:16:03.228Z"
   },
   {
    "duration": 25,
    "start_time": "2021-09-04T13:16:03.243Z"
   },
   {
    "duration": 47,
    "start_time": "2021-09-04T13:16:03.271Z"
   },
   {
    "duration": 7,
    "start_time": "2021-09-04T13:16:03.321Z"
   },
   {
    "duration": 34,
    "start_time": "2021-09-04T13:16:03.330Z"
   },
   {
    "duration": 42,
    "start_time": "2021-09-04T13:16:03.366Z"
   },
   {
    "duration": 22,
    "start_time": "2021-09-04T13:16:03.411Z"
   },
   {
    "duration": 34,
    "start_time": "2021-09-04T13:16:03.435Z"
   },
   {
    "duration": 5,
    "start_time": "2021-09-04T13:16:03.472Z"
   },
   {
    "duration": 37,
    "start_time": "2021-09-04T13:16:03.479Z"
   },
   {
    "duration": 40,
    "start_time": "2021-09-04T13:16:03.521Z"
   },
   {
    "duration": 7,
    "start_time": "2021-09-04T13:16:03.564Z"
   },
   {
    "duration": 132,
    "start_time": "2021-09-04T13:16:03.573Z"
   },
   {
    "duration": 10,
    "start_time": "2021-09-04T13:16:03.707Z"
   },
   {
    "duration": 10,
    "start_time": "2021-09-04T13:16:03.719Z"
   },
   {
    "duration": 31,
    "start_time": "2021-09-04T13:16:03.731Z"
   },
   {
    "duration": 85,
    "start_time": "2021-09-04T13:16:03.765Z"
   },
   {
    "duration": 133,
    "start_time": "2021-09-04T13:16:03.853Z"
   },
   {
    "duration": 11,
    "start_time": "2021-09-04T13:16:03.989Z"
   },
   {
    "duration": 132,
    "start_time": "2021-09-04T13:16:04.002Z"
   },
   {
    "duration": 1571,
    "start_time": "2021-09-04T13:16:04.138Z"
   },
   {
    "duration": 40,
    "start_time": "2021-09-04T13:16:05.716Z"
   },
   {
    "duration": 1450,
    "start_time": "2021-09-04T13:16:05.759Z"
   },
   {
    "duration": 41,
    "start_time": "2021-09-04T13:16:07.212Z"
   },
   {
    "duration": 1516,
    "start_time": "2021-09-04T13:16:07.257Z"
   },
   {
    "duration": 51,
    "start_time": "2021-09-04T13:16:08.775Z"
   },
   {
    "duration": 1739,
    "start_time": "2021-09-04T13:16:08.829Z"
   },
   {
    "duration": 607,
    "start_time": "2021-09-04T13:16:10.571Z"
   },
   {
    "duration": 1723,
    "start_time": "2021-09-04T13:16:11.181Z"
   },
   {
    "duration": 18,
    "start_time": "2021-09-04T13:16:12.907Z"
   },
   {
    "duration": 2539,
    "start_time": "2021-09-04T13:16:12.928Z"
   },
   {
    "duration": 66,
    "start_time": "2021-09-04T13:16:15.470Z"
   },
   {
    "duration": 32,
    "start_time": "2021-09-04T13:16:15.539Z"
   },
   {
    "duration": 42,
    "start_time": "2021-09-04T13:16:15.574Z"
   },
   {
    "duration": 41,
    "start_time": "2021-09-04T13:16:15.619Z"
   },
   {
    "duration": 6,
    "start_time": "2021-09-04T13:16:15.662Z"
   },
   {
    "duration": 67,
    "start_time": "2021-09-04T13:16:15.670Z"
   },
   {
    "duration": 20,
    "start_time": "2021-09-04T13:16:15.739Z"
   },
   {
    "duration": 57,
    "start_time": "2021-09-04T13:16:15.761Z"
   },
   {
    "duration": 4,
    "start_time": "2021-09-04T13:16:15.820Z"
   },
   {
    "duration": 188,
    "start_time": "2021-09-04T13:16:15.827Z"
   },
   {
    "duration": 129,
    "start_time": "2021-09-04T13:16:16.019Z"
   },
   {
    "duration": 4165,
    "start_time": "2021-09-04T13:16:11.986Z"
   },
   {
    "duration": 4158,
    "start_time": "2021-09-04T13:16:11.994Z"
   },
   {
    "duration": 3349,
    "start_time": "2021-09-04T13:17:27.185Z"
   },
   {
    "duration": 487,
    "start_time": "2021-09-04T13:18:24.389Z"
   },
   {
    "duration": 2089,
    "start_time": "2021-09-04T13:18:36.644Z"
   },
   {
    "duration": 2282,
    "start_time": "2021-09-04T13:19:00.453Z"
   },
   {
    "duration": 1599,
    "start_time": "2021-09-04T13:32:57.760Z"
   },
   {
    "duration": 929,
    "start_time": "2021-09-04T13:32:59.362Z"
   },
   {
    "duration": 5,
    "start_time": "2021-09-04T13:33:00.294Z"
   },
   {
    "duration": 167,
    "start_time": "2021-09-04T13:33:00.302Z"
   },
   {
    "duration": 124,
    "start_time": "2021-09-04T13:33:00.472Z"
   },
   {
    "duration": 186,
    "start_time": "2021-09-04T13:33:00.599Z"
   },
   {
    "duration": 45,
    "start_time": "2021-09-04T13:33:00.788Z"
   },
   {
    "duration": 19,
    "start_time": "2021-09-04T13:33:00.839Z"
   },
   {
    "duration": 65,
    "start_time": "2021-09-04T13:33:00.862Z"
   },
   {
    "duration": 4,
    "start_time": "2021-09-04T13:33:00.929Z"
   },
   {
    "duration": 37,
    "start_time": "2021-09-04T13:33:00.936Z"
   },
   {
    "duration": 16,
    "start_time": "2021-09-04T13:33:00.976Z"
   },
   {
    "duration": 28,
    "start_time": "2021-09-04T13:33:00.995Z"
   },
   {
    "duration": 41,
    "start_time": "2021-09-04T13:33:01.026Z"
   },
   {
    "duration": 25,
    "start_time": "2021-09-04T13:33:01.070Z"
   },
   {
    "duration": 7,
    "start_time": "2021-09-04T13:33:01.098Z"
   },
   {
    "duration": 22,
    "start_time": "2021-09-04T13:33:01.107Z"
   },
   {
    "duration": 59,
    "start_time": "2021-09-04T13:33:01.132Z"
   },
   {
    "duration": 31,
    "start_time": "2021-09-04T13:33:01.194Z"
   },
   {
    "duration": 64,
    "start_time": "2021-09-04T13:33:01.227Z"
   },
   {
    "duration": 6,
    "start_time": "2021-09-04T13:33:01.294Z"
   },
   {
    "duration": 38,
    "start_time": "2021-09-04T13:33:01.302Z"
   },
   {
    "duration": 48,
    "start_time": "2021-09-04T13:33:01.345Z"
   },
   {
    "duration": 6,
    "start_time": "2021-09-04T13:33:01.396Z"
   },
   {
    "duration": 120,
    "start_time": "2021-09-04T13:33:01.404Z"
   },
   {
    "duration": 5,
    "start_time": "2021-09-04T13:33:01.526Z"
   },
   {
    "duration": 21,
    "start_time": "2021-09-04T13:33:01.533Z"
   },
   {
    "duration": 36,
    "start_time": "2021-09-04T13:33:01.556Z"
   },
   {
    "duration": 71,
    "start_time": "2021-09-04T13:33:01.595Z"
   },
   {
    "duration": 131,
    "start_time": "2021-09-04T13:33:01.668Z"
   },
   {
    "duration": 15,
    "start_time": "2021-09-04T13:33:01.802Z"
   },
   {
    "duration": 121,
    "start_time": "2021-09-04T13:33:01.819Z"
   },
   {
    "duration": 1567,
    "start_time": "2021-09-04T13:33:01.942Z"
   },
   {
    "duration": 38,
    "start_time": "2021-09-04T13:33:03.512Z"
   },
   {
    "duration": 1452,
    "start_time": "2021-09-04T13:33:03.552Z"
   },
   {
    "duration": 44,
    "start_time": "2021-09-04T13:33:05.006Z"
   },
   {
    "duration": 1481,
    "start_time": "2021-09-04T13:33:05.052Z"
   },
   {
    "duration": 37,
    "start_time": "2021-09-04T13:33:06.535Z"
   },
   {
    "duration": 1679,
    "start_time": "2021-09-04T13:33:06.574Z"
   },
   {
    "duration": 599,
    "start_time": "2021-09-04T13:33:08.255Z"
   },
   {
    "duration": 1740,
    "start_time": "2021-09-04T13:33:08.856Z"
   },
   {
    "duration": 20,
    "start_time": "2021-09-04T13:33:10.598Z"
   },
   {
    "duration": 2496,
    "start_time": "2021-09-04T13:33:10.620Z"
   },
   {
    "duration": 52,
    "start_time": "2021-09-04T13:33:13.119Z"
   },
   {
    "duration": 63,
    "start_time": "2021-09-04T13:33:13.174Z"
   },
   {
    "duration": 14,
    "start_time": "2021-09-04T13:33:13.240Z"
   },
   {
    "duration": 60,
    "start_time": "2021-09-04T13:33:13.257Z"
   },
   {
    "duration": 5,
    "start_time": "2021-09-04T13:33:13.320Z"
   },
   {
    "duration": 20,
    "start_time": "2021-09-04T13:33:13.328Z"
   },
   {
    "duration": 45,
    "start_time": "2021-09-04T13:33:13.351Z"
   },
   {
    "duration": 20,
    "start_time": "2021-09-04T13:33:13.398Z"
   },
   {
    "duration": 4,
    "start_time": "2021-09-04T13:43:26.376Z"
   },
   {
    "duration": 5,
    "start_time": "2021-09-04T13:43:35.158Z"
   },
   {
    "duration": 538,
    "start_time": "2021-09-04T13:44:01.075Z"
   },
   {
    "duration": 393,
    "start_time": "2021-09-04T13:44:40.000Z"
   },
   {
    "duration": 4,
    "start_time": "2021-09-04T13:44:46.668Z"
   },
   {
    "duration": 5,
    "start_time": "2021-09-04T13:45:43.520Z"
   },
   {
    "duration": 400,
    "start_time": "2021-09-04T13:46:02.840Z"
   },
   {
    "duration": 4299,
    "start_time": "2021-09-04T13:46:19.177Z"
   },
   {
    "duration": 44,
    "start_time": "2021-09-04T13:46:56.868Z"
   },
   {
    "duration": 14,
    "start_time": "2021-09-04T13:47:01.544Z"
   },
   {
    "duration": 4,
    "start_time": "2021-09-04T13:47:12.351Z"
   },
   {
    "duration": 5,
    "start_time": "2021-09-04T13:47:13.687Z"
   },
   {
    "duration": 4398,
    "start_time": "2021-09-04T13:47:16.313Z"
   },
   {
    "duration": 5,
    "start_time": "2021-09-04T13:54:14.835Z"
   },
   {
    "duration": 1296,
    "start_time": "2021-09-04T13:54:24.158Z"
   },
   {
    "duration": 5,
    "start_time": "2021-09-04T13:54:59.276Z"
   },
   {
    "duration": 1354,
    "start_time": "2021-09-04T13:55:01.976Z"
   },
   {
    "duration": 7,
    "start_time": "2021-09-04T13:58:43.572Z"
   },
   {
    "duration": 1448,
    "start_time": "2021-09-04T13:59:02.422Z"
   },
   {
    "duration": 404,
    "start_time": "2021-09-04T13:59:45.511Z"
   },
   {
    "duration": 1340,
    "start_time": "2021-09-04T14:00:03.690Z"
   },
   {
    "duration": 12,
    "start_time": "2021-09-04T14:00:26.541Z"
   },
   {
    "duration": 44,
    "start_time": "2021-09-04T14:00:28.552Z"
   },
   {
    "duration": 4,
    "start_time": "2021-09-04T14:00:44.220Z"
   },
   {
    "duration": 7,
    "start_time": "2021-09-04T14:00:53.927Z"
   },
   {
    "duration": 3,
    "start_time": "2021-09-04T14:01:00.293Z"
   },
   {
    "duration": 1000,
    "start_time": "2021-09-04T14:01:06.646Z"
   },
   {
    "duration": 6,
    "start_time": "2021-09-04T14:01:34.926Z"
   },
   {
    "duration": 2182,
    "start_time": "2021-09-04T14:01:39.141Z"
   },
   {
    "duration": 2550,
    "start_time": "2021-09-04T14:04:06.442Z"
   },
   {
    "duration": 2587,
    "start_time": "2021-09-04T14:04:32.592Z"
   },
   {
    "duration": 1626,
    "start_time": "2021-09-04T14:08:19.035Z"
   },
   {
    "duration": 916,
    "start_time": "2021-09-04T14:08:20.664Z"
   },
   {
    "duration": 4,
    "start_time": "2021-09-04T14:08:21.584Z"
   },
   {
    "duration": 161,
    "start_time": "2021-09-04T14:08:21.591Z"
   },
   {
    "duration": 122,
    "start_time": "2021-09-04T14:08:21.754Z"
   },
   {
    "duration": 155,
    "start_time": "2021-09-04T14:08:21.878Z"
   },
   {
    "duration": 23,
    "start_time": "2021-09-04T14:08:22.036Z"
   },
   {
    "duration": 16,
    "start_time": "2021-09-04T14:08:22.063Z"
   },
   {
    "duration": 51,
    "start_time": "2021-09-04T14:08:22.082Z"
   },
   {
    "duration": 4,
    "start_time": "2021-09-04T14:08:22.136Z"
   },
   {
    "duration": 24,
    "start_time": "2021-09-04T14:08:22.142Z"
   },
   {
    "duration": 6,
    "start_time": "2021-09-04T14:08:22.169Z"
   },
   {
    "duration": 42,
    "start_time": "2021-09-04T14:08:22.177Z"
   },
   {
    "duration": 21,
    "start_time": "2021-09-04T14:08:22.222Z"
   },
   {
    "duration": 25,
    "start_time": "2021-09-04T14:08:22.245Z"
   },
   {
    "duration": 6,
    "start_time": "2021-09-04T14:08:22.273Z"
   },
   {
    "duration": 8,
    "start_time": "2021-09-04T14:08:22.317Z"
   },
   {
    "duration": 41,
    "start_time": "2021-09-04T14:08:22.327Z"
   },
   {
    "duration": 46,
    "start_time": "2021-09-04T14:08:22.370Z"
   },
   {
    "duration": 31,
    "start_time": "2021-09-04T14:08:22.418Z"
   },
   {
    "duration": 5,
    "start_time": "2021-09-04T14:08:22.451Z"
   },
   {
    "duration": 7,
    "start_time": "2021-09-04T14:08:22.458Z"
   },
   {
    "duration": 78,
    "start_time": "2021-09-04T14:08:22.471Z"
   },
   {
    "duration": 6,
    "start_time": "2021-09-04T14:08:22.552Z"
   },
   {
    "duration": 125,
    "start_time": "2021-09-04T14:08:22.561Z"
   },
   {
    "duration": 6,
    "start_time": "2021-09-04T14:08:22.688Z"
   },
   {
    "duration": 22,
    "start_time": "2021-09-04T14:08:22.696Z"
   },
   {
    "duration": 35,
    "start_time": "2021-09-04T14:08:22.721Z"
   },
   {
    "duration": 102,
    "start_time": "2021-09-04T14:08:22.759Z"
   },
   {
    "duration": 172,
    "start_time": "2021-09-04T14:08:22.864Z"
   },
   {
    "duration": 10,
    "start_time": "2021-09-04T14:08:23.038Z"
   },
   {
    "duration": 148,
    "start_time": "2021-09-04T14:08:23.050Z"
   },
   {
    "duration": 2401,
    "start_time": "2021-09-04T14:08:23.201Z"
   },
   {
    "duration": 58,
    "start_time": "2021-09-04T14:08:25.605Z"
   },
   {
    "duration": 1728,
    "start_time": "2021-09-04T14:08:25.666Z"
   },
   {
    "duration": 52,
    "start_time": "2021-09-04T14:08:27.397Z"
   },
   {
    "duration": 1464,
    "start_time": "2021-09-04T14:08:27.452Z"
   },
   {
    "duration": 38,
    "start_time": "2021-09-04T14:08:28.919Z"
   },
   {
    "duration": 2770,
    "start_time": "2021-09-04T14:08:28.959Z"
   },
   {
    "duration": 680,
    "start_time": "2021-09-04T14:08:31.732Z"
   },
   {
    "duration": 1697,
    "start_time": "2021-09-04T14:08:32.415Z"
   },
   {
    "duration": 13,
    "start_time": "2021-09-04T14:08:34.117Z"
   },
   {
    "duration": 2557,
    "start_time": "2021-09-04T14:08:34.132Z"
   },
   {
    "duration": 63,
    "start_time": "2021-09-04T14:08:36.691Z"
   },
   {
    "duration": 33,
    "start_time": "2021-09-04T14:08:36.757Z"
   },
   {
    "duration": 33,
    "start_time": "2021-09-04T14:08:36.792Z"
   },
   {
    "duration": 39,
    "start_time": "2021-09-04T14:08:36.827Z"
   },
   {
    "duration": 143,
    "start_time": "2021-09-04T14:08:36.869Z"
   },
   {
    "duration": 4091,
    "start_time": "2021-09-04T14:08:32.924Z"
   },
   {
    "duration": 4086,
    "start_time": "2021-09-04T14:08:32.931Z"
   },
   {
    "duration": 4081,
    "start_time": "2021-09-04T14:08:32.938Z"
   },
   {
    "duration": 4077,
    "start_time": "2021-09-04T14:08:32.944Z"
   },
   {
    "duration": 4072,
    "start_time": "2021-09-04T14:08:32.951Z"
   },
   {
    "duration": 4029,
    "start_time": "2021-09-04T14:08:32.996Z"
   },
   {
    "duration": 4022,
    "start_time": "2021-09-04T14:08:33.005Z"
   },
   {
    "duration": 4016,
    "start_time": "2021-09-04T14:08:33.013Z"
   },
   {
    "duration": 42,
    "start_time": "2021-09-04T14:09:07.585Z"
   },
   {
    "duration": 25,
    "start_time": "2021-09-04T14:09:47.805Z"
   },
   {
    "duration": 45,
    "start_time": "2021-09-04T14:10:55.393Z"
   },
   {
    "duration": 44,
    "start_time": "2021-09-04T14:11:29.833Z"
   },
   {
    "duration": 46,
    "start_time": "2021-09-04T14:12:08.539Z"
   },
   {
    "duration": 14,
    "start_time": "2021-09-04T14:13:01.680Z"
   },
   {
    "duration": 41,
    "start_time": "2021-09-04T14:13:05.984Z"
   },
   {
    "duration": 17,
    "start_time": "2021-09-04T14:13:14.843Z"
   },
   {
    "duration": 15,
    "start_time": "2021-09-04T14:14:01.633Z"
   },
   {
    "duration": 8,
    "start_time": "2021-09-04T14:14:21.986Z"
   },
   {
    "duration": 13,
    "start_time": "2021-09-04T14:14:40.528Z"
   },
   {
    "duration": 7,
    "start_time": "2021-09-04T14:15:02.794Z"
   },
   {
    "duration": 4,
    "start_time": "2021-09-04T14:15:14.880Z"
   },
   {
    "duration": 2239,
    "start_time": "2021-09-04T14:15:17.985Z"
   },
   {
    "duration": 5,
    "start_time": "2021-09-04T14:16:06.522Z"
   },
   {
    "duration": 6,
    "start_time": "2021-09-04T14:16:21.236Z"
   },
   {
    "duration": 863,
    "start_time": "2021-09-04T14:16:24.195Z"
   },
   {
    "duration": 5,
    "start_time": "2021-09-04T14:17:02.156Z"
   },
   {
    "duration": 5,
    "start_time": "2021-09-04T14:17:03.870Z"
   },
   {
    "duration": 1670,
    "start_time": "2021-09-04T14:18:32.820Z"
   },
   {
    "duration": 926,
    "start_time": "2021-09-04T14:18:34.492Z"
   },
   {
    "duration": 5,
    "start_time": "2021-09-04T14:18:35.424Z"
   },
   {
    "duration": 171,
    "start_time": "2021-09-04T14:18:35.431Z"
   },
   {
    "duration": 120,
    "start_time": "2021-09-04T14:18:35.605Z"
   },
   {
    "duration": 152,
    "start_time": "2021-09-04T14:18:35.727Z"
   },
   {
    "duration": 35,
    "start_time": "2021-09-04T14:18:35.883Z"
   },
   {
    "duration": 16,
    "start_time": "2021-09-04T14:18:35.921Z"
   },
   {
    "duration": 25,
    "start_time": "2021-09-04T14:18:35.940Z"
   },
   {
    "duration": 4,
    "start_time": "2021-09-04T14:18:35.968Z"
   },
   {
    "duration": 58,
    "start_time": "2021-09-04T14:18:35.974Z"
   },
   {
    "duration": 6,
    "start_time": "2021-09-04T14:18:36.035Z"
   },
   {
    "duration": 9,
    "start_time": "2021-09-04T14:18:36.043Z"
   },
   {
    "duration": 22,
    "start_time": "2021-09-04T14:18:36.054Z"
   },
   {
    "duration": 53,
    "start_time": "2021-09-04T14:18:36.079Z"
   },
   {
    "duration": 7,
    "start_time": "2021-09-04T14:18:36.135Z"
   },
   {
    "duration": 12,
    "start_time": "2021-09-04T14:18:36.145Z"
   },
   {
    "duration": 72,
    "start_time": "2021-09-04T14:18:36.159Z"
   },
   {
    "duration": 22,
    "start_time": "2021-09-04T14:18:36.233Z"
   },
   {
    "duration": 59,
    "start_time": "2021-09-04T14:18:36.258Z"
   },
   {
    "duration": 3,
    "start_time": "2021-09-04T14:18:36.319Z"
   },
   {
    "duration": 14,
    "start_time": "2021-09-04T14:18:36.328Z"
   },
   {
    "duration": 42,
    "start_time": "2021-09-04T14:18:36.345Z"
   },
   {
    "duration": 27,
    "start_time": "2021-09-04T14:18:36.390Z"
   },
   {
    "duration": 127,
    "start_time": "2021-09-04T14:18:36.420Z"
   },
   {
    "duration": 6,
    "start_time": "2021-09-04T14:18:36.549Z"
   },
   {
    "duration": 9,
    "start_time": "2021-09-04T14:18:36.557Z"
   },
   {
    "duration": 66,
    "start_time": "2021-09-04T14:18:36.569Z"
   },
   {
    "duration": 57,
    "start_time": "2021-09-04T14:18:36.637Z"
   },
   {
    "duration": 141,
    "start_time": "2021-09-04T14:18:36.696Z"
   },
   {
    "duration": 12,
    "start_time": "2021-09-04T14:18:36.840Z"
   },
   {
    "duration": 127,
    "start_time": "2021-09-04T14:18:36.854Z"
   },
   {
    "duration": 1551,
    "start_time": "2021-09-04T14:18:36.983Z"
   },
   {
    "duration": 38,
    "start_time": "2021-09-04T14:18:38.537Z"
   },
   {
    "duration": 1548,
    "start_time": "2021-09-04T14:18:38.577Z"
   },
   {
    "duration": 38,
    "start_time": "2021-09-04T14:18:40.127Z"
   },
   {
    "duration": 1479,
    "start_time": "2021-09-04T14:18:40.167Z"
   },
   {
    "duration": 39,
    "start_time": "2021-09-04T14:18:41.650Z"
   },
   {
    "duration": 1724,
    "start_time": "2021-09-04T14:18:41.692Z"
   },
   {
    "duration": 600,
    "start_time": "2021-09-04T14:18:43.419Z"
   },
   {
    "duration": 1788,
    "start_time": "2021-09-04T14:18:44.021Z"
   },
   {
    "duration": 15,
    "start_time": "2021-09-04T14:18:45.816Z"
   },
   {
    "duration": 2565,
    "start_time": "2021-09-04T14:18:45.833Z"
   },
   {
    "duration": 61,
    "start_time": "2021-09-04T14:18:48.401Z"
   },
   {
    "duration": 51,
    "start_time": "2021-09-04T14:18:48.465Z"
   },
   {
    "duration": 17,
    "start_time": "2021-09-04T14:18:48.519Z"
   },
   {
    "duration": 40,
    "start_time": "2021-09-04T14:18:48.538Z"
   },
   {
    "duration": 39,
    "start_time": "2021-09-04T14:18:48.580Z"
   },
   {
    "duration": 12,
    "start_time": "2021-09-04T14:18:48.621Z"
   },
   {
    "duration": 17,
    "start_time": "2021-09-04T14:18:48.635Z"
   },
   {
    "duration": 18,
    "start_time": "2021-09-04T14:18:48.655Z"
   },
   {
    "duration": 6,
    "start_time": "2021-09-04T14:18:48.675Z"
   },
   {
    "duration": 34,
    "start_time": "2021-09-04T14:18:48.683Z"
   },
   {
    "duration": 4120,
    "start_time": "2021-09-04T14:18:48.719Z"
   },
   {
    "duration": 4122,
    "start_time": "2021-09-04T14:18:48.719Z"
   },
   {
    "duration": 7,
    "start_time": "2021-09-04T14:19:49.964Z"
   },
   {
    "duration": 1354,
    "start_time": "2021-09-04T14:19:53.357Z"
   },
   {
    "duration": 5,
    "start_time": "2021-09-04T14:20:49.763Z"
   },
   {
    "duration": 1311,
    "start_time": "2021-09-04T14:20:51.216Z"
   },
   {
    "duration": 6,
    "start_time": "2021-09-04T14:21:07.037Z"
   },
   {
    "duration": 12,
    "start_time": "2021-09-04T14:22:53.147Z"
   },
   {
    "duration": 7,
    "start_time": "2021-09-04T14:23:00.244Z"
   },
   {
    "duration": 423,
    "start_time": "2021-09-04T14:23:03.262Z"
   },
   {
    "duration": 1671,
    "start_time": "2021-09-04T14:23:13.800Z"
   },
   {
    "duration": 914,
    "start_time": "2021-09-04T14:23:15.474Z"
   },
   {
    "duration": 6,
    "start_time": "2021-09-04T14:23:16.391Z"
   },
   {
    "duration": 160,
    "start_time": "2021-09-04T14:23:16.416Z"
   },
   {
    "duration": 111,
    "start_time": "2021-09-04T14:23:16.579Z"
   },
   {
    "duration": 174,
    "start_time": "2021-09-04T14:23:16.693Z"
   },
   {
    "duration": 25,
    "start_time": "2021-09-04T14:23:16.870Z"
   },
   {
    "duration": 17,
    "start_time": "2021-09-04T14:23:16.920Z"
   },
   {
    "duration": 28,
    "start_time": "2021-09-04T14:23:16.941Z"
   },
   {
    "duration": 5,
    "start_time": "2021-09-04T14:23:16.972Z"
   },
   {
    "duration": 24,
    "start_time": "2021-09-04T14:23:17.017Z"
   },
   {
    "duration": 6,
    "start_time": "2021-09-04T14:23:17.044Z"
   },
   {
    "duration": 7,
    "start_time": "2021-09-04T14:23:17.053Z"
   },
   {
    "duration": 58,
    "start_time": "2021-09-04T14:23:17.062Z"
   },
   {
    "duration": 25,
    "start_time": "2021-09-04T14:23:17.122Z"
   },
   {
    "duration": 7,
    "start_time": "2021-09-04T14:23:17.149Z"
   },
   {
    "duration": 7,
    "start_time": "2021-09-04T14:23:17.158Z"
   },
   {
    "duration": 68,
    "start_time": "2021-09-04T14:23:17.168Z"
   },
   {
    "duration": 20,
    "start_time": "2021-09-04T14:23:17.238Z"
   },
   {
    "duration": 32,
    "start_time": "2021-09-04T14:23:17.261Z"
   },
   {
    "duration": 4,
    "start_time": "2021-09-04T14:23:17.316Z"
   },
   {
    "duration": 10,
    "start_time": "2021-09-04T14:23:17.322Z"
   },
   {
    "duration": 42,
    "start_time": "2021-09-04T14:23:17.337Z"
   },
   {
    "duration": 36,
    "start_time": "2021-09-04T14:23:17.382Z"
   },
   {
    "duration": 123,
    "start_time": "2021-09-04T14:23:17.420Z"
   },
   {
    "duration": 5,
    "start_time": "2021-09-04T14:23:17.545Z"
   },
   {
    "duration": 11,
    "start_time": "2021-09-04T14:23:17.553Z"
   },
   {
    "duration": 53,
    "start_time": "2021-09-04T14:23:17.566Z"
   },
   {
    "duration": 78,
    "start_time": "2021-09-04T14:23:17.622Z"
   },
   {
    "duration": 186,
    "start_time": "2021-09-04T14:23:17.702Z"
   },
   {
    "duration": 10,
    "start_time": "2021-09-04T14:23:17.890Z"
   },
   {
    "duration": 122,
    "start_time": "2021-09-04T14:23:17.903Z"
   },
   {
    "duration": 1561,
    "start_time": "2021-09-04T14:23:18.027Z"
   },
   {
    "duration": 51,
    "start_time": "2021-09-04T14:23:19.592Z"
   },
   {
    "duration": 1640,
    "start_time": "2021-09-04T14:23:19.646Z"
   },
   {
    "duration": 65,
    "start_time": "2021-09-04T14:23:21.290Z"
   },
   {
    "duration": 2405,
    "start_time": "2021-09-04T14:23:21.358Z"
   },
   {
    "duration": 69,
    "start_time": "2021-09-04T14:23:23.767Z"
   },
   {
    "duration": 2510,
    "start_time": "2021-09-04T14:23:23.839Z"
   },
   {
    "duration": 915,
    "start_time": "2021-09-04T14:23:26.352Z"
   },
   {
    "duration": 2663,
    "start_time": "2021-09-04T14:23:27.270Z"
   },
   {
    "duration": 18,
    "start_time": "2021-09-04T14:23:29.936Z"
   },
   {
    "duration": 2560,
    "start_time": "2021-09-04T14:23:29.956Z"
   },
   {
    "duration": 52,
    "start_time": "2021-09-04T14:23:32.519Z"
   },
   {
    "duration": 53,
    "start_time": "2021-09-04T14:23:32.574Z"
   },
   {
    "duration": 12,
    "start_time": "2021-09-04T14:23:32.629Z"
   },
   {
    "duration": 30,
    "start_time": "2021-09-04T14:23:32.643Z"
   },
   {
    "duration": 6,
    "start_time": "2021-09-04T14:23:32.675Z"
   },
   {
    "duration": 586,
    "start_time": "2021-09-04T14:23:32.683Z"
   },
   {
    "duration": 4158,
    "start_time": "2021-09-04T14:23:29.114Z"
   },
   {
    "duration": 4151,
    "start_time": "2021-09-04T14:23:29.122Z"
   },
   {
    "duration": 4147,
    "start_time": "2021-09-04T14:23:29.128Z"
   },
   {
    "duration": 4142,
    "start_time": "2021-09-04T14:23:29.135Z"
   },
   {
    "duration": 4130,
    "start_time": "2021-09-04T14:23:29.148Z"
   },
   {
    "duration": 4122,
    "start_time": "2021-09-04T14:23:29.158Z"
   },
   {
    "duration": 4115,
    "start_time": "2021-09-04T14:23:29.166Z"
   },
   {
    "duration": 24,
    "start_time": "2021-09-04T14:24:55.854Z"
   },
   {
    "duration": 1903,
    "start_time": "2021-09-04T14:25:43.629Z"
   },
   {
    "duration": 941,
    "start_time": "2021-09-04T14:25:45.535Z"
   },
   {
    "duration": 4,
    "start_time": "2021-09-04T14:25:46.480Z"
   },
   {
    "duration": 166,
    "start_time": "2021-09-04T14:25:46.487Z"
   },
   {
    "duration": 117,
    "start_time": "2021-09-04T14:25:46.656Z"
   },
   {
    "duration": 165,
    "start_time": "2021-09-04T14:25:46.775Z"
   },
   {
    "duration": 24,
    "start_time": "2021-09-04T14:25:46.942Z"
   },
   {
    "duration": 17,
    "start_time": "2021-09-04T14:25:46.970Z"
   },
   {
    "duration": 27,
    "start_time": "2021-09-04T14:25:47.018Z"
   },
   {
    "duration": 4,
    "start_time": "2021-09-04T14:25:47.047Z"
   },
   {
    "duration": 23,
    "start_time": "2021-09-04T14:25:47.053Z"
   },
   {
    "duration": 37,
    "start_time": "2021-09-04T14:25:47.079Z"
   },
   {
    "duration": 5,
    "start_time": "2021-09-04T14:25:47.118Z"
   },
   {
    "duration": 20,
    "start_time": "2021-09-04T14:25:47.126Z"
   },
   {
    "duration": 25,
    "start_time": "2021-09-04T14:25:47.149Z"
   },
   {
    "duration": 8,
    "start_time": "2021-09-04T14:25:47.176Z"
   },
   {
    "duration": 6,
    "start_time": "2021-09-04T14:25:47.217Z"
   },
   {
    "duration": 40,
    "start_time": "2021-09-04T14:25:47.226Z"
   },
   {
    "duration": 48,
    "start_time": "2021-09-04T14:25:47.268Z"
   },
   {
    "duration": 35,
    "start_time": "2021-09-04T14:25:47.319Z"
   },
   {
    "duration": 4,
    "start_time": "2021-09-04T14:25:47.358Z"
   },
   {
    "duration": 9,
    "start_time": "2021-09-04T14:25:47.365Z"
   },
   {
    "duration": 42,
    "start_time": "2021-09-04T14:25:47.421Z"
   },
   {
    "duration": 8,
    "start_time": "2021-09-04T14:25:47.467Z"
   },
   {
    "duration": 139,
    "start_time": "2021-09-04T14:25:47.478Z"
   },
   {
    "duration": 6,
    "start_time": "2021-09-04T14:25:47.620Z"
   },
   {
    "duration": 10,
    "start_time": "2021-09-04T14:25:47.628Z"
   },
   {
    "duration": 35,
    "start_time": "2021-09-04T14:25:47.641Z"
   },
   {
    "duration": 91,
    "start_time": "2021-09-04T14:25:47.679Z"
   },
   {
    "duration": 136,
    "start_time": "2021-09-04T14:25:47.773Z"
   },
   {
    "duration": 11,
    "start_time": "2021-09-04T14:25:47.916Z"
   },
   {
    "duration": 132,
    "start_time": "2021-09-04T14:25:47.929Z"
   },
   {
    "duration": 1671,
    "start_time": "2021-09-04T14:25:48.064Z"
   },
   {
    "duration": 41,
    "start_time": "2021-09-04T14:25:49.738Z"
   },
   {
    "duration": 1466,
    "start_time": "2021-09-04T14:25:49.781Z"
   },
   {
    "duration": 41,
    "start_time": "2021-09-04T14:25:51.250Z"
   },
   {
    "duration": 1778,
    "start_time": "2021-09-04T14:25:51.294Z"
   },
   {
    "duration": 54,
    "start_time": "2021-09-04T14:25:53.074Z"
   },
   {
    "duration": 1799,
    "start_time": "2021-09-04T14:25:53.130Z"
   },
   {
    "duration": 630,
    "start_time": "2021-09-04T14:25:54.932Z"
   },
   {
    "duration": 1725,
    "start_time": "2021-09-04T14:25:55.565Z"
   },
   {
    "duration": 29,
    "start_time": "2021-09-04T14:25:57.293Z"
   },
   {
    "duration": 2873,
    "start_time": "2021-09-04T14:25:57.324Z"
   },
   {
    "duration": 63,
    "start_time": "2021-09-04T14:26:00.200Z"
   },
   {
    "duration": 54,
    "start_time": "2021-09-04T14:26:00.266Z"
   },
   {
    "duration": 16,
    "start_time": "2021-09-04T14:26:00.323Z"
   },
   {
    "duration": 43,
    "start_time": "2021-09-04T14:26:00.341Z"
   },
   {
    "duration": 33,
    "start_time": "2021-09-04T14:26:00.388Z"
   },
   {
    "duration": 25,
    "start_time": "2021-09-04T14:26:00.424Z"
   },
   {
    "duration": 49,
    "start_time": "2021-09-04T14:26:00.453Z"
   },
   {
    "duration": 21,
    "start_time": "2021-09-04T14:26:00.505Z"
   },
   {
    "duration": 17,
    "start_time": "2021-09-04T14:26:00.529Z"
   },
   {
    "duration": 18,
    "start_time": "2021-09-04T14:26:00.549Z"
   },
   {
    "duration": 11,
    "start_time": "2021-09-04T14:26:00.570Z"
   },
   {
    "duration": 1743,
    "start_time": "2021-09-04T14:26:00.584Z"
   },
   {
    "duration": 88,
    "start_time": "2021-09-04T14:26:02.330Z"
   },
   {
    "duration": 554,
    "start_time": "2021-09-04T14:26:02.420Z"
   },
   {
    "duration": 3,
    "start_time": "2021-09-04T14:26:17.416Z"
   },
   {
    "duration": 9,
    "start_time": "2021-09-04T14:28:30.488Z"
   },
   {
    "duration": 4,
    "start_time": "2021-09-04T14:28:46.079Z"
   },
   {
    "duration": 1038,
    "start_time": "2021-09-04T14:29:05.666Z"
   },
   {
    "duration": 969,
    "start_time": "2021-09-04T14:29:22.255Z"
   },
   {
    "duration": 382,
    "start_time": "2021-09-04T14:29:43.335Z"
   },
   {
    "duration": 985,
    "start_time": "2021-09-04T14:29:56.920Z"
   },
   {
    "duration": 376,
    "start_time": "2021-09-04T14:32:07.897Z"
   },
   {
    "duration": 383,
    "start_time": "2021-09-04T14:32:15.503Z"
   },
   {
    "duration": 24,
    "start_time": "2021-09-04T14:32:21.927Z"
   },
   {
    "duration": 1843,
    "start_time": "2021-09-04T14:35:03.386Z"
   },
   {
    "duration": 1088,
    "start_time": "2021-09-04T14:35:17.986Z"
   },
   {
    "duration": 1599,
    "start_time": "2021-09-04T14:35:53.867Z"
   },
   {
    "duration": 884,
    "start_time": "2021-09-04T14:35:55.469Z"
   },
   {
    "duration": 5,
    "start_time": "2021-09-04T14:35:56.356Z"
   },
   {
    "duration": 284,
    "start_time": "2021-09-04T14:35:56.363Z"
   },
   {
    "duration": 272,
    "start_time": "2021-09-04T14:35:56.650Z"
   },
   {
    "duration": 158,
    "start_time": "2021-09-04T14:35:56.924Z"
   },
   {
    "duration": 36,
    "start_time": "2021-09-04T14:35:57.085Z"
   },
   {
    "duration": 16,
    "start_time": "2021-09-04T14:35:57.123Z"
   },
   {
    "duration": 26,
    "start_time": "2021-09-04T14:35:57.143Z"
   },
   {
    "duration": 4,
    "start_time": "2021-09-04T14:35:57.172Z"
   },
   {
    "duration": 37,
    "start_time": "2021-09-04T14:35:57.179Z"
   },
   {
    "duration": 6,
    "start_time": "2021-09-04T14:35:57.219Z"
   },
   {
    "duration": 6,
    "start_time": "2021-09-04T14:35:57.227Z"
   },
   {
    "duration": 21,
    "start_time": "2021-09-04T14:35:57.235Z"
   },
   {
    "duration": 1449,
    "start_time": "2021-09-04T14:35:57.258Z"
   },
   {
    "duration": 4161,
    "start_time": "2021-09-04T14:35:54.550Z"
   },
   {
    "duration": 4157,
    "start_time": "2021-09-04T14:35:54.556Z"
   },
   {
    "duration": 4152,
    "start_time": "2021-09-04T14:35:54.562Z"
   },
   {
    "duration": 4149,
    "start_time": "2021-09-04T14:35:54.567Z"
   },
   {
    "duration": 4144,
    "start_time": "2021-09-04T14:35:54.573Z"
   },
   {
    "duration": 4140,
    "start_time": "2021-09-04T14:35:54.578Z"
   },
   {
    "duration": 4136,
    "start_time": "2021-09-04T14:35:54.584Z"
   },
   {
    "duration": 4132,
    "start_time": "2021-09-04T14:35:54.589Z"
   },
   {
    "duration": 4127,
    "start_time": "2021-09-04T14:35:54.596Z"
   },
   {
    "duration": 4122,
    "start_time": "2021-09-04T14:35:54.602Z"
   },
   {
    "duration": 4117,
    "start_time": "2021-09-04T14:35:54.608Z"
   },
   {
    "duration": 4113,
    "start_time": "2021-09-04T14:35:54.614Z"
   },
   {
    "duration": 4108,
    "start_time": "2021-09-04T14:35:54.620Z"
   },
   {
    "duration": 4103,
    "start_time": "2021-09-04T14:35:54.626Z"
   },
   {
    "duration": 4099,
    "start_time": "2021-09-04T14:35:54.632Z"
   },
   {
    "duration": 4081,
    "start_time": "2021-09-04T14:35:54.651Z"
   },
   {
    "duration": 4076,
    "start_time": "2021-09-04T14:35:54.657Z"
   },
   {
    "duration": 4072,
    "start_time": "2021-09-04T14:35:54.663Z"
   },
   {
    "duration": 4067,
    "start_time": "2021-09-04T14:35:54.669Z"
   },
   {
    "duration": 4064,
    "start_time": "2021-09-04T14:35:54.674Z"
   },
   {
    "duration": 4059,
    "start_time": "2021-09-04T14:35:54.680Z"
   },
   {
    "duration": 4055,
    "start_time": "2021-09-04T14:35:54.685Z"
   },
   {
    "duration": 4050,
    "start_time": "2021-09-04T14:35:54.692Z"
   },
   {
    "duration": 4046,
    "start_time": "2021-09-04T14:35:54.697Z"
   },
   {
    "duration": 4041,
    "start_time": "2021-09-04T14:35:54.704Z"
   },
   {
    "duration": 4037,
    "start_time": "2021-09-04T14:35:54.709Z"
   },
   {
    "duration": 4031,
    "start_time": "2021-09-04T14:35:54.716Z"
   },
   {
    "duration": 4026,
    "start_time": "2021-09-04T14:35:54.722Z"
   },
   {
    "duration": 4021,
    "start_time": "2021-09-04T14:35:54.728Z"
   },
   {
    "duration": 4016,
    "start_time": "2021-09-04T14:35:54.734Z"
   },
   {
    "duration": 4011,
    "start_time": "2021-09-04T14:35:54.741Z"
   },
   {
    "duration": 3985,
    "start_time": "2021-09-04T14:35:54.768Z"
   },
   {
    "duration": 3966,
    "start_time": "2021-09-04T14:35:54.788Z"
   },
   {
    "duration": 3927,
    "start_time": "2021-09-04T14:35:54.828Z"
   },
   {
    "duration": 3954,
    "start_time": "2021-09-04T14:35:54.862Z"
   },
   {
    "duration": 3919,
    "start_time": "2021-09-04T14:35:54.899Z"
   },
   {
    "duration": 3879,
    "start_time": "2021-09-04T14:35:54.940Z"
   },
   {
    "duration": 3873,
    "start_time": "2021-09-04T14:35:54.947Z"
   },
   {
    "duration": 3839,
    "start_time": "2021-09-04T14:35:54.983Z"
   },
   {
    "duration": 3835,
    "start_time": "2021-09-04T14:35:54.988Z"
   },
   {
    "duration": 3830,
    "start_time": "2021-09-04T14:35:54.994Z"
   },
   {
    "duration": 3826,
    "start_time": "2021-09-04T14:35:54.999Z"
   },
   {
    "duration": 3822,
    "start_time": "2021-09-04T14:35:55.005Z"
   },
   {
    "duration": 3818,
    "start_time": "2021-09-04T14:35:55.010Z"
   },
   {
    "duration": 3814,
    "start_time": "2021-09-04T14:35:55.015Z"
   },
   {
    "duration": 3809,
    "start_time": "2021-09-04T14:35:55.021Z"
   },
   {
    "duration": 3806,
    "start_time": "2021-09-04T14:35:55.026Z"
   },
   {
    "duration": 12,
    "start_time": "2021-09-04T14:37:00.686Z"
   },
   {
    "duration": 26,
    "start_time": "2021-09-04T14:37:02.293Z"
   },
   {
    "duration": 9,
    "start_time": "2021-09-04T14:37:56.023Z"
   },
   {
    "duration": 146,
    "start_time": "2021-09-04T14:38:01.469Z"
   },
   {
    "duration": 7,
    "start_time": "2021-09-04T14:38:16.999Z"
   },
   {
    "duration": 22,
    "start_time": "2021-09-04T14:38:19.701Z"
   },
   {
    "duration": 1735,
    "start_time": "2021-09-04T14:40:17.454Z"
   },
   {
    "duration": 915,
    "start_time": "2021-09-04T14:40:19.192Z"
   },
   {
    "duration": 5,
    "start_time": "2021-09-04T14:40:20.111Z"
   },
   {
    "duration": 170,
    "start_time": "2021-09-04T14:40:20.120Z"
   },
   {
    "duration": 133,
    "start_time": "2021-09-04T14:40:20.293Z"
   },
   {
    "duration": 155,
    "start_time": "2021-09-04T14:40:20.429Z"
   },
   {
    "duration": 35,
    "start_time": "2021-09-04T14:40:20.587Z"
   },
   {
    "duration": 17,
    "start_time": "2021-09-04T14:40:20.625Z"
   },
   {
    "duration": 27,
    "start_time": "2021-09-04T14:40:20.648Z"
   },
   {
    "duration": 37,
    "start_time": "2021-09-04T14:40:20.680Z"
   },
   {
    "duration": 10,
    "start_time": "2021-09-04T14:40:20.720Z"
   },
   {
    "duration": 15,
    "start_time": "2021-09-04T14:40:20.733Z"
   },
   {
    "duration": 8,
    "start_time": "2021-09-04T14:40:20.751Z"
   },
   {
    "duration": 28,
    "start_time": "2021-09-04T14:40:20.761Z"
   },
   {
    "duration": 45,
    "start_time": "2021-09-04T14:40:20.792Z"
   },
   {
    "duration": 9,
    "start_time": "2021-09-04T14:40:20.840Z"
   },
   {
    "duration": 16,
    "start_time": "2021-09-04T14:40:20.851Z"
   },
   {
    "duration": 69,
    "start_time": "2021-09-04T14:40:20.869Z"
   },
   {
    "duration": 21,
    "start_time": "2021-09-04T14:40:20.940Z"
   },
   {
    "duration": 31,
    "start_time": "2021-09-04T14:40:20.964Z"
   },
   {
    "duration": 3,
    "start_time": "2021-09-04T14:40:21.017Z"
   },
   {
    "duration": 12,
    "start_time": "2021-09-04T14:40:21.023Z"
   },
   {
    "duration": 51,
    "start_time": "2021-09-04T14:40:21.038Z"
   },
   {
    "duration": 26,
    "start_time": "2021-09-04T14:40:21.091Z"
   },
   {
    "duration": 129,
    "start_time": "2021-09-04T14:40:21.120Z"
   },
   {
    "duration": 6,
    "start_time": "2021-09-04T14:40:21.252Z"
   },
   {
    "duration": 17,
    "start_time": "2021-09-04T14:40:21.267Z"
   },
   {
    "duration": 58,
    "start_time": "2021-09-04T14:40:21.289Z"
   },
   {
    "duration": 69,
    "start_time": "2021-09-04T14:40:21.350Z"
   },
   {
    "duration": 126,
    "start_time": "2021-09-04T14:40:21.421Z"
   },
   {
    "duration": 11,
    "start_time": "2021-09-04T14:40:21.550Z"
   },
   {
    "duration": 127,
    "start_time": "2021-09-04T14:40:21.564Z"
   },
   {
    "duration": 1648,
    "start_time": "2021-09-04T14:40:21.695Z"
   },
   {
    "duration": 41,
    "start_time": "2021-09-04T14:40:23.346Z"
   },
   {
    "duration": 1472,
    "start_time": "2021-09-04T14:40:23.390Z"
   },
   {
    "duration": 56,
    "start_time": "2021-09-04T14:40:24.866Z"
   },
   {
    "duration": 1607,
    "start_time": "2021-09-04T14:40:24.925Z"
   },
   {
    "duration": 39,
    "start_time": "2021-09-04T14:40:26.534Z"
   },
   {
    "duration": 1778,
    "start_time": "2021-09-04T14:40:26.575Z"
   },
   {
    "duration": 608,
    "start_time": "2021-09-04T14:40:28.356Z"
   },
   {
    "duration": 1810,
    "start_time": "2021-09-04T14:40:28.967Z"
   },
   {
    "duration": 13,
    "start_time": "2021-09-04T14:40:30.779Z"
   },
   {
    "duration": 2575,
    "start_time": "2021-09-04T14:40:30.795Z"
   },
   {
    "duration": 71,
    "start_time": "2021-09-04T14:40:33.374Z"
   },
   {
    "duration": 34,
    "start_time": "2021-09-04T14:40:33.448Z"
   },
   {
    "duration": 36,
    "start_time": "2021-09-04T14:40:33.484Z"
   },
   {
    "duration": 47,
    "start_time": "2021-09-04T14:40:33.523Z"
   },
   {
    "duration": 8,
    "start_time": "2021-09-04T14:40:33.573Z"
   },
   {
    "duration": 41,
    "start_time": "2021-09-04T14:40:33.584Z"
   },
   {
    "duration": 52,
    "start_time": "2021-09-04T14:40:33.628Z"
   },
   {
    "duration": 12,
    "start_time": "2021-09-04T14:40:33.684Z"
   },
   {
    "duration": 24,
    "start_time": "2021-09-04T14:40:33.715Z"
   },
   {
    "duration": 11,
    "start_time": "2021-09-04T14:40:33.742Z"
   },
   {
    "duration": 16,
    "start_time": "2021-09-04T14:40:33.756Z"
   },
   {
    "duration": 1008,
    "start_time": "2021-09-04T14:40:33.774Z"
   },
   {
    "duration": 4149,
    "start_time": "2021-09-04T14:40:30.635Z"
   },
   {
    "duration": 4090,
    "start_time": "2021-09-04T14:40:30.696Z"
   },
   {
    "duration": 4080,
    "start_time": "2021-09-04T14:40:30.707Z"
   },
   {
    "duration": 4076,
    "start_time": "2021-09-04T14:40:30.713Z"
   },
   {
    "duration": 4067,
    "start_time": "2021-09-04T14:40:30.723Z"
   },
   {
    "duration": 4062,
    "start_time": "2021-09-04T14:40:30.729Z"
   },
   {
    "duration": 4058,
    "start_time": "2021-09-04T14:40:30.735Z"
   },
   {
    "duration": 13,
    "start_time": "2021-09-04T14:42:23.007Z"
   },
   {
    "duration": 37,
    "start_time": "2021-09-04T14:42:42.002Z"
   },
   {
    "duration": 1629,
    "start_time": "2021-09-04T14:45:55.321Z"
   },
   {
    "duration": 888,
    "start_time": "2021-09-04T14:45:56.953Z"
   },
   {
    "duration": 4,
    "start_time": "2021-09-04T14:45:57.844Z"
   },
   {
    "duration": 161,
    "start_time": "2021-09-04T14:45:57.850Z"
   },
   {
    "duration": 116,
    "start_time": "2021-09-04T14:45:58.016Z"
   },
   {
    "duration": 149,
    "start_time": "2021-09-04T14:45:58.134Z"
   },
   {
    "duration": 37,
    "start_time": "2021-09-04T14:45:58.286Z"
   },
   {
    "duration": 16,
    "start_time": "2021-09-04T14:45:58.327Z"
   },
   {
    "duration": 28,
    "start_time": "2021-09-04T14:45:58.346Z"
   },
   {
    "duration": 4,
    "start_time": "2021-09-04T14:45:58.376Z"
   },
   {
    "duration": 34,
    "start_time": "2021-09-04T14:45:58.382Z"
   },
   {
    "duration": 8,
    "start_time": "2021-09-04T14:45:58.419Z"
   },
   {
    "duration": 7,
    "start_time": "2021-09-04T14:45:58.429Z"
   },
   {
    "duration": 18,
    "start_time": "2021-09-04T14:45:58.439Z"
   },
   {
    "duration": 58,
    "start_time": "2021-09-04T14:45:58.460Z"
   },
   {
    "duration": 7,
    "start_time": "2021-09-04T14:45:58.520Z"
   },
   {
    "duration": 13,
    "start_time": "2021-09-04T14:45:58.530Z"
   },
   {
    "duration": 42,
    "start_time": "2021-09-04T14:45:58.545Z"
   },
   {
    "duration": 639,
    "start_time": "2021-09-04T14:45:58.590Z"
   },
   {
    "duration": 4167,
    "start_time": "2021-09-04T14:45:55.066Z"
   },
   {
    "duration": 4163,
    "start_time": "2021-09-04T14:45:55.072Z"
   },
   {
    "duration": 4159,
    "start_time": "2021-09-04T14:45:55.078Z"
   },
   {
    "duration": 4152,
    "start_time": "2021-09-04T14:45:55.087Z"
   },
   {
    "duration": 4146,
    "start_time": "2021-09-04T14:45:55.094Z"
   },
   {
    "duration": 4143,
    "start_time": "2021-09-04T14:45:55.099Z"
   },
   {
    "duration": 4137,
    "start_time": "2021-09-04T14:45:55.106Z"
   },
   {
    "duration": 4134,
    "start_time": "2021-09-04T14:45:55.111Z"
   },
   {
    "duration": 4128,
    "start_time": "2021-09-04T14:45:55.118Z"
   },
   {
    "duration": 4124,
    "start_time": "2021-09-04T14:45:55.124Z"
   },
   {
    "duration": 4119,
    "start_time": "2021-09-04T14:45:55.130Z"
   },
   {
    "duration": 4115,
    "start_time": "2021-09-04T14:45:55.136Z"
   },
   {
    "duration": 4109,
    "start_time": "2021-09-04T14:45:55.143Z"
   },
   {
    "duration": 4106,
    "start_time": "2021-09-04T14:45:55.148Z"
   },
   {
    "duration": 4089,
    "start_time": "2021-09-04T14:45:55.166Z"
   },
   {
    "duration": 4086,
    "start_time": "2021-09-04T14:45:55.171Z"
   },
   {
    "duration": 4080,
    "start_time": "2021-09-04T14:45:55.178Z"
   },
   {
    "duration": 4077,
    "start_time": "2021-09-04T14:45:55.183Z"
   },
   {
    "duration": 4072,
    "start_time": "2021-09-04T14:45:55.189Z"
   },
   {
    "duration": 4068,
    "start_time": "2021-09-04T14:45:55.195Z"
   },
   {
    "duration": 4062,
    "start_time": "2021-09-04T14:45:55.202Z"
   },
   {
    "duration": 4059,
    "start_time": "2021-09-04T14:45:55.207Z"
   },
   {
    "duration": 4054,
    "start_time": "2021-09-04T14:45:55.213Z"
   },
   {
    "duration": 4050,
    "start_time": "2021-09-04T14:45:55.219Z"
   },
   {
    "duration": 4045,
    "start_time": "2021-09-04T14:45:55.225Z"
   },
   {
    "duration": 4041,
    "start_time": "2021-09-04T14:45:55.231Z"
   },
   {
    "duration": 4036,
    "start_time": "2021-09-04T14:45:55.237Z"
   },
   {
    "duration": 4031,
    "start_time": "2021-09-04T14:45:55.243Z"
   },
   {
    "duration": 4026,
    "start_time": "2021-09-04T14:45:55.249Z"
   },
   {
    "duration": 4062,
    "start_time": "2021-09-04T14:45:55.255Z"
   },
   {
    "duration": 4057,
    "start_time": "2021-09-04T14:45:55.261Z"
   },
   {
    "duration": 4041,
    "start_time": "2021-09-04T14:45:55.279Z"
   },
   {
    "duration": 4036,
    "start_time": "2021-09-04T14:45:55.285Z"
   },
   {
    "duration": 4032,
    "start_time": "2021-09-04T14:45:55.290Z"
   },
   {
    "duration": 4028,
    "start_time": "2021-09-04T14:45:55.296Z"
   },
   {
    "duration": 4024,
    "start_time": "2021-09-04T14:45:55.301Z"
   },
   {
    "duration": 4019,
    "start_time": "2021-09-04T14:45:55.308Z"
   },
   {
    "duration": 4014,
    "start_time": "2021-09-04T14:45:55.314Z"
   },
   {
    "duration": 4010,
    "start_time": "2021-09-04T14:45:55.320Z"
   },
   {
    "duration": 4005,
    "start_time": "2021-09-04T14:45:55.326Z"
   },
   {
    "duration": 3995,
    "start_time": "2021-09-04T14:45:55.338Z"
   },
   {
    "duration": 3984,
    "start_time": "2021-09-04T14:45:55.350Z"
   },
   {
    "duration": 32,
    "start_time": "2021-09-04T14:46:48.804Z"
   },
   {
    "duration": 1594,
    "start_time": "2021-09-04T14:59:37.770Z"
   },
   {
    "duration": 949,
    "start_time": "2021-09-04T14:59:39.366Z"
   },
   {
    "duration": 4,
    "start_time": "2021-09-04T14:59:40.318Z"
   },
   {
    "duration": 161,
    "start_time": "2021-09-04T14:59:40.325Z"
   },
   {
    "duration": 108,
    "start_time": "2021-09-04T14:59:40.488Z"
   },
   {
    "duration": 164,
    "start_time": "2021-09-04T14:59:40.598Z"
   },
   {
    "duration": 24,
    "start_time": "2021-09-04T14:59:40.774Z"
   },
   {
    "duration": 16,
    "start_time": "2021-09-04T14:59:40.818Z"
   },
   {
    "duration": 28,
    "start_time": "2021-09-04T14:59:40.837Z"
   },
   {
    "duration": 5,
    "start_time": "2021-09-04T14:59:40.868Z"
   },
   {
    "duration": 54,
    "start_time": "2021-09-04T14:59:40.876Z"
   },
   {
    "duration": 5,
    "start_time": "2021-09-04T14:59:40.933Z"
   },
   {
    "duration": 7,
    "start_time": "2021-09-04T14:59:40.941Z"
   },
   {
    "duration": 6,
    "start_time": "2021-09-04T14:59:40.951Z"
   },
   {
    "duration": 76,
    "start_time": "2021-09-04T14:59:40.959Z"
   },
   {
    "duration": 14,
    "start_time": "2021-09-04T14:59:41.037Z"
   },
   {
    "duration": 129,
    "start_time": "2021-09-04T14:59:41.054Z"
   },
   {
    "duration": 3889,
    "start_time": "2021-09-04T14:59:37.299Z"
   },
   {
    "duration": 3884,
    "start_time": "2021-09-04T14:59:37.305Z"
   },
   {
    "duration": 3879,
    "start_time": "2021-09-04T14:59:37.312Z"
   },
   {
    "duration": 3875,
    "start_time": "2021-09-04T14:59:37.317Z"
   },
   {
    "duration": 3870,
    "start_time": "2021-09-04T14:59:37.323Z"
   },
   {
    "duration": 3866,
    "start_time": "2021-09-04T14:59:37.328Z"
   },
   {
    "duration": 3822,
    "start_time": "2021-09-04T14:59:37.374Z"
   },
   {
    "duration": 3814,
    "start_time": "2021-09-04T14:59:37.383Z"
   },
   {
    "duration": 3810,
    "start_time": "2021-09-04T14:59:37.389Z"
   },
   {
    "duration": 3805,
    "start_time": "2021-09-04T14:59:37.395Z"
   },
   {
    "duration": 3800,
    "start_time": "2021-09-04T14:59:37.401Z"
   },
   {
    "duration": 3796,
    "start_time": "2021-09-04T14:59:37.406Z"
   },
   {
    "duration": 3792,
    "start_time": "2021-09-04T14:59:37.412Z"
   },
   {
    "duration": 3787,
    "start_time": "2021-09-04T14:59:37.418Z"
   },
   {
    "duration": 3784,
    "start_time": "2021-09-04T14:59:37.423Z"
   },
   {
    "duration": 3779,
    "start_time": "2021-09-04T14:59:37.429Z"
   },
   {
    "duration": 3773,
    "start_time": "2021-09-04T14:59:37.436Z"
   },
   {
    "duration": 3769,
    "start_time": "2021-09-04T14:59:37.441Z"
   },
   {
    "duration": 3764,
    "start_time": "2021-09-04T14:59:37.447Z"
   },
   {
    "duration": 3761,
    "start_time": "2021-09-04T14:59:37.452Z"
   },
   {
    "duration": 3756,
    "start_time": "2021-09-04T14:59:37.458Z"
   },
   {
    "duration": 3752,
    "start_time": "2021-09-04T14:59:37.464Z"
   },
   {
    "duration": 3747,
    "start_time": "2021-09-04T14:59:37.470Z"
   },
   {
    "duration": 3730,
    "start_time": "2021-09-04T14:59:37.488Z"
   },
   {
    "duration": 3725,
    "start_time": "2021-09-04T14:59:37.495Z"
   },
   {
    "duration": 3722,
    "start_time": "2021-09-04T14:59:37.500Z"
   },
   {
    "duration": 3718,
    "start_time": "2021-09-04T14:59:37.506Z"
   },
   {
    "duration": 3715,
    "start_time": "2021-09-04T14:59:37.511Z"
   },
   {
    "duration": 3710,
    "start_time": "2021-09-04T14:59:37.518Z"
   },
   {
    "duration": 3707,
    "start_time": "2021-09-04T14:59:37.524Z"
   },
   {
    "duration": 3703,
    "start_time": "2021-09-04T14:59:37.530Z"
   },
   {
    "duration": 3700,
    "start_time": "2021-09-04T14:59:37.535Z"
   },
   {
    "duration": 3696,
    "start_time": "2021-09-04T14:59:37.541Z"
   },
   {
    "duration": 3694,
    "start_time": "2021-09-04T14:59:37.546Z"
   },
   {
    "duration": 3689,
    "start_time": "2021-09-04T14:59:37.553Z"
   },
   {
    "duration": 3686,
    "start_time": "2021-09-04T14:59:37.558Z"
   },
   {
    "duration": 3683,
    "start_time": "2021-09-04T14:59:37.563Z"
   },
   {
    "duration": 3680,
    "start_time": "2021-09-04T14:59:37.568Z"
   },
   {
    "duration": 3676,
    "start_time": "2021-09-04T14:59:37.574Z"
   },
   {
    "duration": 3673,
    "start_time": "2021-09-04T14:59:37.579Z"
   },
   {
    "duration": 3669,
    "start_time": "2021-09-04T14:59:37.585Z"
   },
   {
    "duration": 3654,
    "start_time": "2021-09-04T14:59:37.603Z"
   },
   {
    "duration": 3706,
    "start_time": "2021-09-04T14:59:37.609Z"
   },
   {
    "duration": 3703,
    "start_time": "2021-09-04T14:59:37.615Z"
   },
   {
    "duration": 3699,
    "start_time": "2021-09-04T14:59:37.621Z"
   },
   {
    "duration": 8,
    "start_time": "2021-09-04T15:00:02.972Z"
   },
   {
    "duration": 9,
    "start_time": "2021-09-04T15:00:20.044Z"
   },
   {
    "duration": 36,
    "start_time": "2021-09-04T15:00:21.790Z"
   },
   {
    "duration": 15,
    "start_time": "2021-09-04T15:01:00.671Z"
   },
   {
    "duration": 34,
    "start_time": "2021-09-04T15:01:04.997Z"
   },
   {
    "duration": 4,
    "start_time": "2021-09-04T15:01:12.844Z"
   },
   {
    "duration": 5,
    "start_time": "2021-09-04T15:01:14.150Z"
   },
   {
    "duration": 41,
    "start_time": "2021-09-04T15:01:23.093Z"
   },
   {
    "duration": 115,
    "start_time": "2021-09-04T15:02:31.378Z"
   },
   {
    "duration": 6,
    "start_time": "2021-09-04T15:02:33.397Z"
   },
   {
    "duration": 7,
    "start_time": "2021-09-04T15:02:50.470Z"
   },
   {
    "duration": 27,
    "start_time": "2021-09-04T15:04:06.326Z"
   },
   {
    "duration": 57,
    "start_time": "2021-09-04T15:04:21.495Z"
   },
   {
    "duration": 54,
    "start_time": "2021-09-04T15:04:31.501Z"
   },
   {
    "duration": 560,
    "start_time": "2021-09-04T15:04:45.253Z"
   },
   {
    "duration": 7,
    "start_time": "2021-09-04T15:05:09.670Z"
   },
   {
    "duration": 112,
    "start_time": "2021-09-04T15:05:15.783Z"
   },
   {
    "duration": 8,
    "start_time": "2021-09-04T15:06:10.342Z"
   },
   {
    "duration": 109,
    "start_time": "2021-09-04T15:06:18.079Z"
   },
   {
    "duration": 1527,
    "start_time": "2021-09-04T15:06:30.543Z"
   },
   {
    "duration": 38,
    "start_time": "2021-09-04T15:06:35.390Z"
   },
   {
    "duration": 1434,
    "start_time": "2021-09-04T15:06:37.569Z"
   },
   {
    "duration": 38,
    "start_time": "2021-09-04T15:06:41.254Z"
   },
   {
    "duration": 1439,
    "start_time": "2021-09-04T15:06:43.518Z"
   },
   {
    "duration": 39,
    "start_time": "2021-09-04T15:06:49.758Z"
   },
   {
    "duration": 1850,
    "start_time": "2021-09-04T15:06:51.678Z"
   },
   {
    "duration": 695,
    "start_time": "2021-09-04T15:06:56.686Z"
   },
   {
    "duration": 649,
    "start_time": "2021-09-04T15:07:24.571Z"
   },
   {
    "duration": 1772,
    "start_time": "2021-09-04T15:07:48.711Z"
   },
   {
    "duration": 13,
    "start_time": "2021-09-04T15:07:55.168Z"
   },
   {
    "duration": 2541,
    "start_time": "2021-09-04T15:08:01.259Z"
   },
   {
    "duration": 55,
    "start_time": "2021-09-04T15:08:15.800Z"
   },
   {
    "duration": 36,
    "start_time": "2021-09-04T15:08:20.718Z"
   },
   {
    "duration": 413,
    "start_time": "2021-09-04T15:08:51.769Z"
   },
   {
    "duration": 15,
    "start_time": "2021-09-04T15:09:00.720Z"
   },
   {
    "duration": 41,
    "start_time": "2021-09-04T15:09:02.767Z"
   },
   {
    "duration": 116,
    "start_time": "2021-09-04T15:09:56.896Z"
   },
   {
    "duration": 10,
    "start_time": "2021-09-04T15:10:33.088Z"
   },
   {
    "duration": 39,
    "start_time": "2021-09-04T15:10:34.327Z"
   },
   {
    "duration": 8,
    "start_time": "2021-09-04T15:11:01.953Z"
   },
   {
    "duration": 14,
    "start_time": "2021-09-04T15:11:53.455Z"
   },
   {
    "duration": 4,
    "start_time": "2021-09-04T15:12:07.199Z"
   },
   {
    "duration": 4,
    "start_time": "2021-09-04T15:12:12.295Z"
   },
   {
    "duration": 4,
    "start_time": "2021-09-04T15:12:21.712Z"
   },
   {
    "duration": 1350,
    "start_time": "2021-09-04T15:12:40.567Z"
   },
   {
    "duration": 5,
    "start_time": "2021-09-04T15:12:49.201Z"
   },
   {
    "duration": 4,
    "start_time": "2021-09-04T15:13:34.496Z"
   },
   {
    "duration": 462,
    "start_time": "2021-09-04T15:13:39.777Z"
   },
   {
    "duration": 64,
    "start_time": "2021-09-04T15:14:28.561Z"
   },
   {
    "duration": 910,
    "start_time": "2021-09-04T15:14:50.686Z"
   },
   {
    "duration": 5,
    "start_time": "2021-09-04T15:15:43.447Z"
   },
   {
    "duration": 1311,
    "start_time": "2021-09-04T15:15:46.689Z"
   },
   {
    "duration": 4,
    "start_time": "2021-09-04T15:17:20.163Z"
   },
   {
    "duration": 6,
    "start_time": "2021-09-04T15:17:31.850Z"
   },
   {
    "duration": 4,
    "start_time": "2021-09-04T15:18:04.460Z"
   },
   {
    "duration": 3772,
    "start_time": "2021-09-04T15:18:06.190Z"
   },
   {
    "duration": 6,
    "start_time": "2021-09-04T15:18:12.938Z"
   },
   {
    "duration": 8,
    "start_time": "2021-09-04T15:23:59.188Z"
   },
   {
    "duration": 7,
    "start_time": "2021-09-04T15:25:07.653Z"
   },
   {
    "duration": 1861,
    "start_time": "2021-09-04T15:27:18.408Z"
   },
   {
    "duration": 919,
    "start_time": "2021-09-04T15:27:20.272Z"
   },
   {
    "duration": 4,
    "start_time": "2021-09-04T15:27:21.194Z"
   },
   {
    "duration": 160,
    "start_time": "2021-09-04T15:27:21.201Z"
   },
   {
    "duration": 115,
    "start_time": "2021-09-04T15:27:21.363Z"
   },
   {
    "duration": 166,
    "start_time": "2021-09-04T15:27:21.482Z"
   },
   {
    "duration": 22,
    "start_time": "2021-09-04T15:27:21.651Z"
   },
   {
    "duration": 39,
    "start_time": "2021-09-04T15:27:21.677Z"
   },
   {
    "duration": 26,
    "start_time": "2021-09-04T15:27:21.719Z"
   },
   {
    "duration": 4,
    "start_time": "2021-09-04T15:27:21.748Z"
   },
   {
    "duration": 24,
    "start_time": "2021-09-04T15:27:21.754Z"
   },
   {
    "duration": 5,
    "start_time": "2021-09-04T15:27:21.781Z"
   },
   {
    "duration": 30,
    "start_time": "2021-09-04T15:27:21.788Z"
   },
   {
    "duration": 23,
    "start_time": "2021-09-04T15:27:21.820Z"
   },
   {
    "duration": 46,
    "start_time": "2021-09-04T15:27:21.845Z"
   },
   {
    "duration": 15,
    "start_time": "2021-09-04T15:27:21.893Z"
   },
   {
    "duration": 7,
    "start_time": "2021-09-04T15:27:21.916Z"
   },
   {
    "duration": 16,
    "start_time": "2021-09-04T15:27:21.925Z"
   },
   {
    "duration": 47,
    "start_time": "2021-09-04T15:27:21.943Z"
   },
   {
    "duration": 31,
    "start_time": "2021-09-04T15:27:21.993Z"
   },
   {
    "duration": 32,
    "start_time": "2021-09-04T15:27:22.026Z"
   },
   {
    "duration": 6,
    "start_time": "2021-09-04T15:27:22.061Z"
   },
   {
    "duration": 8,
    "start_time": "2021-09-04T15:27:22.073Z"
   },
   {
    "duration": 76,
    "start_time": "2021-09-04T15:27:22.085Z"
   },
   {
    "duration": 7,
    "start_time": "2021-09-04T15:27:22.163Z"
   },
   {
    "duration": 135,
    "start_time": "2021-09-04T15:27:22.172Z"
   },
   {
    "duration": 9,
    "start_time": "2021-09-04T15:27:22.309Z"
   },
   {
    "duration": 36,
    "start_time": "2021-09-04T15:27:22.321Z"
   },
   {
    "duration": 66,
    "start_time": "2021-09-04T15:27:22.360Z"
   },
   {
    "duration": 124,
    "start_time": "2021-09-04T15:27:22.429Z"
   },
   {
    "duration": 7,
    "start_time": "2021-09-04T15:27:22.556Z"
   },
   {
    "duration": 124,
    "start_time": "2021-09-04T15:27:22.565Z"
   },
   {
    "duration": 1510,
    "start_time": "2021-09-04T15:27:22.692Z"
   },
   {
    "duration": 46,
    "start_time": "2021-09-04T15:27:24.205Z"
   },
   {
    "duration": 1464,
    "start_time": "2021-09-04T15:27:24.253Z"
   },
   {
    "duration": 37,
    "start_time": "2021-09-04T15:27:25.719Z"
   },
   {
    "duration": 1459,
    "start_time": "2021-09-04T15:27:25.758Z"
   },
   {
    "duration": 39,
    "start_time": "2021-09-04T15:27:27.220Z"
   },
   {
    "duration": 1760,
    "start_time": "2021-09-04T15:27:27.262Z"
   },
   {
    "duration": 593,
    "start_time": "2021-09-04T15:27:29.024Z"
   },
   {
    "duration": 1921,
    "start_time": "2021-09-04T15:27:29.620Z"
   },
   {
    "duration": 16,
    "start_time": "2021-09-04T15:27:31.543Z"
   },
   {
    "duration": 2836,
    "start_time": "2021-09-04T15:27:31.562Z"
   },
   {
    "duration": 62,
    "start_time": "2021-09-04T15:27:34.400Z"
   },
   {
    "duration": 15,
    "start_time": "2021-09-04T15:27:34.464Z"
   },
   {
    "duration": 70,
    "start_time": "2021-09-04T15:27:34.482Z"
   },
   {
    "duration": 4,
    "start_time": "2021-09-04T15:27:34.554Z"
   },
   {
    "duration": 8,
    "start_time": "2021-09-04T15:27:34.561Z"
   },
   {
    "duration": 14,
    "start_time": "2021-09-04T15:27:34.571Z"
   },
   {
    "duration": 31,
    "start_time": "2021-09-04T15:27:34.587Z"
   },
   {
    "duration": 10,
    "start_time": "2021-09-04T15:27:34.621Z"
   },
   {
    "duration": 20,
    "start_time": "2021-09-04T15:27:34.634Z"
   },
   {
    "duration": 7,
    "start_time": "2021-09-04T15:27:34.657Z"
   },
   {
    "duration": 5,
    "start_time": "2021-09-04T15:27:34.667Z"
   },
   {
    "duration": 6632,
    "start_time": "2021-09-04T15:27:34.675Z"
   },
   {
    "duration": 4153,
    "start_time": "2021-09-04T15:27:37.157Z"
   },
   {
    "duration": 4145,
    "start_time": "2021-09-04T15:27:37.167Z"
   },
   {
    "duration": 4141,
    "start_time": "2021-09-04T15:27:37.173Z"
   },
   {
    "duration": 4137,
    "start_time": "2021-09-04T15:27:37.179Z"
   },
   {
    "duration": 4131,
    "start_time": "2021-09-04T15:27:37.186Z"
   },
   {
    "duration": 11,
    "start_time": "2021-09-04T15:32:37.357Z"
   },
   {
    "duration": 13,
    "start_time": "2021-09-04T15:33:41.625Z"
   },
   {
    "duration": 27,
    "start_time": "2021-09-04T15:33:56.943Z"
   },
   {
    "duration": 37,
    "start_time": "2021-09-04T15:34:03.229Z"
   },
   {
    "duration": 7,
    "start_time": "2021-09-04T15:34:38.662Z"
   },
   {
    "duration": 41,
    "start_time": "2021-09-04T15:35:07.077Z"
   },
   {
    "duration": 38,
    "start_time": "2021-09-04T15:35:19.974Z"
   },
   {
    "duration": 16,
    "start_time": "2021-09-04T15:35:31.137Z"
   },
   {
    "duration": 14,
    "start_time": "2021-09-04T15:36:03.910Z"
   },
   {
    "duration": 12,
    "start_time": "2021-09-04T15:36:13.157Z"
   },
   {
    "duration": 5,
    "start_time": "2021-09-04T15:36:22.717Z"
   },
   {
    "duration": 6,
    "start_time": "2021-09-04T15:36:29.556Z"
   },
   {
    "duration": 3686,
    "start_time": "2021-09-04T15:36:36.960Z"
   },
   {
    "duration": 45,
    "start_time": "2021-09-04T15:39:17.878Z"
   },
   {
    "duration": 3269,
    "start_time": "2021-09-04T15:39:20.742Z"
   },
   {
    "duration": 6,
    "start_time": "2021-09-04T15:39:56.219Z"
   },
   {
    "duration": 938,
    "start_time": "2021-09-04T15:40:15.251Z"
   },
   {
    "duration": 7,
    "start_time": "2021-09-04T15:40:38.059Z"
   },
   {
    "duration": 51,
    "start_time": "2021-09-04T15:41:47.169Z"
   },
   {
    "duration": 387,
    "start_time": "2021-09-04T15:41:48.574Z"
   },
   {
    "duration": 17,
    "start_time": "2021-09-04T15:42:15.432Z"
   },
   {
    "duration": 7,
    "start_time": "2021-09-04T15:42:28.520Z"
   },
   {
    "duration": 780,
    "start_time": "2021-09-04T15:42:39.016Z"
   },
   {
    "duration": 4,
    "start_time": "2021-09-04T15:44:21.754Z"
   },
   {
    "duration": 12,
    "start_time": "2021-09-04T15:44:26.848Z"
   },
   {
    "duration": 13,
    "start_time": "2021-09-04T15:44:52.112Z"
   },
   {
    "duration": 882,
    "start_time": "2021-09-04T15:44:54.786Z"
   },
   {
    "duration": 4,
    "start_time": "2021-09-04T15:46:29.514Z"
   },
   {
    "duration": 4,
    "start_time": "2021-09-04T15:46:30.456Z"
   },
   {
    "duration": 3119,
    "start_time": "2021-09-04T15:46:59.603Z"
   },
   {
    "duration": 38,
    "start_time": "2021-09-04T16:33:36.561Z"
   },
   {
    "duration": 23,
    "start_time": "2021-09-04T16:33:49.883Z"
   },
   {
    "duration": 39,
    "start_time": "2021-09-04T16:34:19.842Z"
   },
   {
    "duration": 13,
    "start_time": "2021-09-04T16:34:30.075Z"
   },
   {
    "duration": 5,
    "start_time": "2021-09-04T16:38:42.858Z"
   },
   {
    "duration": 527,
    "start_time": "2021-09-04T16:41:58.245Z"
   },
   {
    "duration": 543,
    "start_time": "2021-09-04T16:42:15.541Z"
   },
   {
    "duration": 644,
    "start_time": "2021-09-04T16:42:30.940Z"
   },
   {
    "duration": 50,
    "start_time": "2021-09-04T16:42:40.468Z"
   },
   {
    "duration": 1632,
    "start_time": "2021-09-04T16:57:24.838Z"
   },
   {
    "duration": 933,
    "start_time": "2021-09-04T16:57:26.473Z"
   },
   {
    "duration": 9,
    "start_time": "2021-09-04T16:57:27.409Z"
   },
   {
    "duration": 158,
    "start_time": "2021-09-04T16:57:27.420Z"
   },
   {
    "duration": 110,
    "start_time": "2021-09-04T16:57:27.580Z"
   },
   {
    "duration": 169,
    "start_time": "2021-09-04T16:57:27.692Z"
   },
   {
    "duration": 23,
    "start_time": "2021-09-04T16:57:27.864Z"
   },
   {
    "duration": 36,
    "start_time": "2021-09-04T16:57:27.891Z"
   },
   {
    "duration": 26,
    "start_time": "2021-09-04T16:57:27.930Z"
   },
   {
    "duration": 3,
    "start_time": "2021-09-04T16:57:27.959Z"
   },
   {
    "duration": 18,
    "start_time": "2021-09-04T16:57:27.965Z"
   },
   {
    "duration": 33,
    "start_time": "2021-09-04T16:57:27.985Z"
   },
   {
    "duration": 9,
    "start_time": "2021-09-04T16:57:28.021Z"
   },
   {
    "duration": 6,
    "start_time": "2021-09-04T16:57:28.033Z"
   },
   {
    "duration": 37,
    "start_time": "2021-09-04T16:57:28.041Z"
   },
   {
    "duration": 37,
    "start_time": "2021-09-04T16:57:28.080Z"
   },
   {
    "duration": 7,
    "start_time": "2021-09-04T16:57:28.120Z"
   },
   {
    "duration": 15,
    "start_time": "2021-09-04T16:57:28.129Z"
   },
   {
    "duration": 38,
    "start_time": "2021-09-04T16:57:28.147Z"
   },
   {
    "duration": 42,
    "start_time": "2021-09-04T16:57:28.187Z"
   },
   {
    "duration": 31,
    "start_time": "2021-09-04T16:57:28.232Z"
   },
   {
    "duration": 4,
    "start_time": "2021-09-04T16:57:28.265Z"
   },
   {
    "duration": 41,
    "start_time": "2021-09-04T16:57:28.275Z"
   },
   {
    "duration": 41,
    "start_time": "2021-09-04T16:57:28.319Z"
   },
   {
    "duration": 6,
    "start_time": "2021-09-04T16:57:28.363Z"
   },
   {
    "duration": 132,
    "start_time": "2021-09-04T16:57:28.371Z"
   },
   {
    "duration": 13,
    "start_time": "2021-09-04T16:57:28.505Z"
   },
   {
    "duration": 27,
    "start_time": "2021-09-04T16:57:28.520Z"
   },
   {
    "duration": 73,
    "start_time": "2021-09-04T16:57:28.550Z"
   },
   {
    "duration": 132,
    "start_time": "2021-09-04T16:57:28.626Z"
   },
   {
    "duration": 7,
    "start_time": "2021-09-04T16:57:28.760Z"
   },
   {
    "duration": 126,
    "start_time": "2021-09-04T16:57:28.769Z"
   },
   {
    "duration": 1674,
    "start_time": "2021-09-04T16:57:28.898Z"
   },
   {
    "duration": 54,
    "start_time": "2021-09-04T16:57:30.575Z"
   },
   {
    "duration": 1776,
    "start_time": "2021-09-04T16:57:30.632Z"
   },
   {
    "duration": 52,
    "start_time": "2021-09-04T16:57:32.411Z"
   },
   {
    "duration": 1879,
    "start_time": "2021-09-04T16:57:32.465Z"
   },
   {
    "duration": 72,
    "start_time": "2021-09-04T16:57:34.348Z"
   },
   {
    "duration": 2000,
    "start_time": "2021-09-04T16:57:34.424Z"
   },
   {
    "duration": 658,
    "start_time": "2021-09-04T16:57:36.427Z"
   },
   {
    "duration": 2005,
    "start_time": "2021-09-04T16:57:37.087Z"
   },
   {
    "duration": 26,
    "start_time": "2021-09-04T16:57:39.094Z"
   },
   {
    "duration": 2712,
    "start_time": "2021-09-04T16:57:39.122Z"
   },
   {
    "duration": 95,
    "start_time": "2021-09-04T16:57:41.837Z"
   },
   {
    "duration": 14,
    "start_time": "2021-09-04T16:57:41.935Z"
   },
   {
    "duration": 40,
    "start_time": "2021-09-04T16:57:41.951Z"
   },
   {
    "duration": 5,
    "start_time": "2021-09-04T16:57:41.993Z"
   },
   {
    "duration": 2067,
    "start_time": "2021-09-04T16:57:42.000Z"
   },
   {
    "duration": 2757,
    "start_time": "2021-09-04T16:57:41.313Z"
   },
   {
    "duration": 2754,
    "start_time": "2021-09-04T16:57:41.318Z"
   },
   {
    "duration": 2749,
    "start_time": "2021-09-04T16:57:41.324Z"
   },
   {
    "duration": 2746,
    "start_time": "2021-09-04T16:57:41.329Z"
   },
   {
    "duration": 2743,
    "start_time": "2021-09-04T16:57:41.334Z"
   },
   {
    "duration": 2737,
    "start_time": "2021-09-04T16:57:41.342Z"
   },
   {
    "duration": 2732,
    "start_time": "2021-09-04T16:57:41.348Z"
   },
   {
    "duration": 2728,
    "start_time": "2021-09-04T16:57:41.354Z"
   },
   {
    "duration": 2725,
    "start_time": "2021-09-04T16:57:41.359Z"
   },
   {
    "duration": 2721,
    "start_time": "2021-09-04T16:57:41.365Z"
   },
   {
    "duration": 2717,
    "start_time": "2021-09-04T16:57:41.371Z"
   },
   {
    "duration": 2713,
    "start_time": "2021-09-04T16:57:41.376Z"
   },
   {
    "duration": 2708,
    "start_time": "2021-09-04T16:57:41.383Z"
   },
   {
    "duration": 2642,
    "start_time": "2021-09-04T16:57:41.451Z"
   },
   {
    "duration": 2635,
    "start_time": "2021-09-04T16:57:41.459Z"
   },
   {
    "duration": 2630,
    "start_time": "2021-09-04T16:57:41.466Z"
   },
   {
    "duration": 2626,
    "start_time": "2021-09-04T16:57:41.471Z"
   },
   {
    "duration": 2621,
    "start_time": "2021-09-04T16:57:41.477Z"
   },
   {
    "duration": 1688,
    "start_time": "2021-09-04T16:58:23.361Z"
   },
   {
    "duration": 937,
    "start_time": "2021-09-04T16:58:25.053Z"
   },
   {
    "duration": 4,
    "start_time": "2021-09-04T16:58:25.993Z"
   },
   {
    "duration": 162,
    "start_time": "2021-09-04T16:58:25.999Z"
   },
   {
    "duration": 111,
    "start_time": "2021-09-04T16:58:26.163Z"
   },
   {
    "duration": 162,
    "start_time": "2021-09-04T16:58:26.277Z"
   },
   {
    "duration": 22,
    "start_time": "2021-09-04T16:58:26.441Z"
   },
   {
    "duration": 15,
    "start_time": "2021-09-04T16:58:26.465Z"
   },
   {
    "duration": 51,
    "start_time": "2021-09-04T16:58:26.484Z"
   },
   {
    "duration": 4,
    "start_time": "2021-09-04T16:58:26.538Z"
   },
   {
    "duration": 22,
    "start_time": "2021-09-04T16:58:26.544Z"
   },
   {
    "duration": 4,
    "start_time": "2021-09-04T16:58:26.568Z"
   },
   {
    "duration": 10,
    "start_time": "2021-09-04T16:58:26.574Z"
   },
   {
    "duration": 33,
    "start_time": "2021-09-04T16:58:26.586Z"
   },
   {
    "duration": 36,
    "start_time": "2021-09-04T16:58:26.621Z"
   },
   {
    "duration": 14,
    "start_time": "2021-09-04T16:58:26.660Z"
   },
   {
    "duration": 8,
    "start_time": "2021-09-04T16:58:26.676Z"
   },
   {
    "duration": 37,
    "start_time": "2021-09-04T16:58:26.686Z"
   },
   {
    "duration": 37,
    "start_time": "2021-09-04T16:58:26.726Z"
   },
   {
    "duration": 14,
    "start_time": "2021-09-04T16:58:26.765Z"
   },
   {
    "duration": 60,
    "start_time": "2021-09-04T16:58:26.781Z"
   },
   {
    "duration": 7,
    "start_time": "2021-09-04T16:58:26.843Z"
   },
   {
    "duration": 13,
    "start_time": "2021-09-04T16:58:26.852Z"
   },
   {
    "duration": 74,
    "start_time": "2021-09-04T16:58:26.868Z"
   },
   {
    "duration": 6,
    "start_time": "2021-09-04T16:58:26.944Z"
   },
   {
    "duration": 122,
    "start_time": "2021-09-04T16:58:26.953Z"
   },
   {
    "duration": 7,
    "start_time": "2021-09-04T16:58:27.080Z"
   },
   {
    "duration": 41,
    "start_time": "2021-09-04T16:58:27.090Z"
   },
   {
    "duration": 53,
    "start_time": "2021-09-04T16:58:27.133Z"
   },
   {
    "duration": 138,
    "start_time": "2021-09-04T16:58:27.188Z"
   },
   {
    "duration": 8,
    "start_time": "2021-09-04T16:58:27.328Z"
   },
   {
    "duration": 121,
    "start_time": "2021-09-04T16:58:27.338Z"
   },
   {
    "duration": 1488,
    "start_time": "2021-09-04T16:58:27.461Z"
   },
   {
    "duration": 39,
    "start_time": "2021-09-04T16:58:28.952Z"
   },
   {
    "duration": 1429,
    "start_time": "2021-09-04T16:58:28.993Z"
   },
   {
    "duration": 39,
    "start_time": "2021-09-04T16:58:30.424Z"
   },
   {
    "duration": 1443,
    "start_time": "2021-09-04T16:58:30.465Z"
   },
   {
    "duration": 49,
    "start_time": "2021-09-04T16:58:31.910Z"
   },
   {
    "duration": 1691,
    "start_time": "2021-09-04T16:58:31.961Z"
   },
   {
    "duration": 595,
    "start_time": "2021-09-04T16:58:33.654Z"
   },
   {
    "duration": 1830,
    "start_time": "2021-09-04T16:58:34.252Z"
   },
   {
    "duration": 13,
    "start_time": "2021-09-04T16:58:36.085Z"
   },
   {
    "duration": 2518,
    "start_time": "2021-09-04T16:58:36.116Z"
   },
   {
    "duration": 81,
    "start_time": "2021-09-04T16:58:38.637Z"
   },
   {
    "duration": 16,
    "start_time": "2021-09-04T16:58:38.720Z"
   },
   {
    "duration": 46,
    "start_time": "2021-09-04T16:58:38.738Z"
   },
   {
    "duration": 194,
    "start_time": "2021-09-04T16:58:38.787Z"
   },
   {
    "duration": 4219,
    "start_time": "2021-09-04T16:58:34.764Z"
   },
   {
    "duration": 4214,
    "start_time": "2021-09-04T16:58:34.771Z"
   },
   {
    "duration": 4209,
    "start_time": "2021-09-04T16:58:34.778Z"
   },
   {
    "duration": 4204,
    "start_time": "2021-09-04T16:58:34.784Z"
   },
   {
    "duration": 4199,
    "start_time": "2021-09-04T16:58:34.791Z"
   },
   {
    "duration": 4196,
    "start_time": "2021-09-04T16:58:34.796Z"
   },
   {
    "duration": 4190,
    "start_time": "2021-09-04T16:58:34.803Z"
   },
   {
    "duration": 4187,
    "start_time": "2021-09-04T16:58:34.808Z"
   },
   {
    "duration": 4182,
    "start_time": "2021-09-04T16:58:34.814Z"
   },
   {
    "duration": 4178,
    "start_time": "2021-09-04T16:58:34.820Z"
   },
   {
    "duration": 4173,
    "start_time": "2021-09-04T16:58:34.826Z"
   },
   {
    "duration": 4155,
    "start_time": "2021-09-04T16:58:34.846Z"
   },
   {
    "duration": 4150,
    "start_time": "2021-09-04T16:58:34.852Z"
   },
   {
    "duration": 4144,
    "start_time": "2021-09-04T16:58:34.859Z"
   },
   {
    "duration": 4140,
    "start_time": "2021-09-04T16:58:34.865Z"
   },
   {
    "duration": 4135,
    "start_time": "2021-09-04T16:58:34.871Z"
   },
   {
    "duration": 4131,
    "start_time": "2021-09-04T16:58:34.877Z"
   },
   {
    "duration": 4124,
    "start_time": "2021-09-04T16:58:34.885Z"
   },
   {
    "duration": 4118,
    "start_time": "2021-09-04T16:58:34.893Z"
   },
   {
    "duration": 4115,
    "start_time": "2021-09-04T16:58:34.898Z"
   },
   {
    "duration": 6,
    "start_time": "2021-09-04T16:59:49.753Z"
   },
   {
    "duration": 4,
    "start_time": "2021-09-04T17:00:20.200Z"
   },
   {
    "duration": 8,
    "start_time": "2021-09-04T17:02:16.940Z"
   },
   {
    "duration": 10,
    "start_time": "2021-09-04T17:02:18.049Z"
   },
   {
    "duration": 11,
    "start_time": "2021-09-04T17:05:31.300Z"
   },
   {
    "duration": 8,
    "start_time": "2021-09-04T17:05:57.443Z"
   },
   {
    "duration": 7,
    "start_time": "2021-09-04T17:06:06.139Z"
   },
   {
    "duration": 3,
    "start_time": "2021-09-04T17:06:45.124Z"
   },
   {
    "duration": 117,
    "start_time": "2021-09-04T17:06:59.401Z"
   },
   {
    "duration": 508,
    "start_time": "2021-09-04T17:09:06.908Z"
   },
   {
    "duration": 1277,
    "start_time": "2021-09-04T17:10:50.340Z"
   },
   {
    "duration": 5,
    "start_time": "2021-09-04T17:11:00.829Z"
   },
   {
    "duration": 5,
    "start_time": "2021-09-04T17:11:14.533Z"
   },
   {
    "duration": 4,
    "start_time": "2021-09-04T17:12:16.788Z"
   },
   {
    "duration": 1628,
    "start_time": "2021-09-04T17:12:20.292Z"
   },
   {
    "duration": 6,
    "start_time": "2021-09-04T17:12:23.764Z"
   },
   {
    "duration": 11,
    "start_time": "2021-09-04T17:28:08.018Z"
   },
   {
    "duration": 11,
    "start_time": "2021-09-04T17:29:30.997Z"
   },
   {
    "duration": 12,
    "start_time": "2021-09-04T17:29:52.851Z"
   },
   {
    "duration": 129,
    "start_time": "2021-09-04T17:30:31.596Z"
   },
   {
    "duration": 4,
    "start_time": "2021-09-04T17:31:13.797Z"
   },
   {
    "duration": 6,
    "start_time": "2021-09-04T17:31:23.972Z"
   },
   {
    "duration": 4,
    "start_time": "2021-09-04T17:31:59.779Z"
   },
   {
    "duration": 901,
    "start_time": "2021-09-04T17:32:16.516Z"
   },
   {
    "duration": 5,
    "start_time": "2021-09-04T17:32:19.052Z"
   },
   {
    "duration": 381,
    "start_time": "2021-09-04T17:37:52.752Z"
   },
   {
    "duration": 843,
    "start_time": "2021-09-04T17:38:02.973Z"
   },
   {
    "duration": 990,
    "start_time": "2021-09-04T17:38:09.826Z"
   },
   {
    "duration": 5,
    "start_time": "2021-09-04T17:46:08.792Z"
   },
   {
    "duration": 466,
    "start_time": "2021-09-04T17:46:13.890Z"
   },
   {
    "duration": 5,
    "start_time": "2021-09-04T17:46:52.851Z"
   },
   {
    "duration": 4,
    "start_time": "2021-09-04T17:49:25.154Z"
   },
   {
    "duration": 413,
    "start_time": "2021-09-04T17:52:14.346Z"
   },
   {
    "duration": 374,
    "start_time": "2021-09-04T17:52:27.866Z"
   },
   {
    "duration": 31358,
    "start_time": "2021-09-04T17:52:39.762Z"
   },
   {
    "duration": 949,
    "start_time": "2021-09-04T17:53:58.570Z"
   },
   {
    "duration": 4328,
    "start_time": "2021-09-04T17:54:06.963Z"
   },
   {
    "duration": 25958,
    "start_time": "2021-09-04T17:54:20.211Z"
   },
   {
    "duration": 22,
    "start_time": "2021-09-04T17:54:46.172Z"
   },
   {
    "duration": 385,
    "start_time": "2021-09-04T17:57:01.507Z"
   },
   {
    "duration": 7,
    "start_time": "2021-09-04T17:57:31.341Z"
   },
   {
    "duration": 439,
    "start_time": "2021-09-04T17:57:57.493Z"
   },
   {
    "duration": 6,
    "start_time": "2021-09-04T17:59:06.781Z"
   },
   {
    "duration": 8615,
    "start_time": "2021-09-04T17:59:23.206Z"
   },
   {
    "duration": 1637,
    "start_time": "2021-09-04T18:04:13.541Z"
   },
   {
    "duration": 923,
    "start_time": "2021-09-04T18:04:15.181Z"
   },
   {
    "duration": 5,
    "start_time": "2021-09-04T18:04:16.118Z"
   },
   {
    "duration": 163,
    "start_time": "2021-09-04T18:04:16.125Z"
   },
   {
    "duration": 126,
    "start_time": "2021-09-04T18:04:16.290Z"
   },
   {
    "duration": 155,
    "start_time": "2021-09-04T18:04:16.418Z"
   },
   {
    "duration": 24,
    "start_time": "2021-09-04T18:04:16.577Z"
   },
   {
    "duration": 16,
    "start_time": "2021-09-04T18:04:16.617Z"
   },
   {
    "duration": 26,
    "start_time": "2021-09-04T18:04:16.636Z"
   },
   {
    "duration": 4,
    "start_time": "2021-09-04T18:04:16.665Z"
   },
   {
    "duration": 51,
    "start_time": "2021-09-04T18:04:16.671Z"
   },
   {
    "duration": 11,
    "start_time": "2021-09-04T18:04:16.725Z"
   },
   {
    "duration": 9,
    "start_time": "2021-09-04T18:04:16.738Z"
   },
   {
    "duration": 9,
    "start_time": "2021-09-04T18:04:16.749Z"
   },
   {
    "duration": 40,
    "start_time": "2021-09-04T18:04:16.760Z"
   },
   {
    "duration": 23,
    "start_time": "2021-09-04T18:04:16.803Z"
   },
   {
    "duration": 8,
    "start_time": "2021-09-04T18:04:16.828Z"
   },
   {
    "duration": 20,
    "start_time": "2021-09-04T18:04:16.838Z"
   },
   {
    "duration": 59,
    "start_time": "2021-09-04T18:04:16.861Z"
   },
   {
    "duration": 14,
    "start_time": "2021-09-04T18:04:16.922Z"
   },
   {
    "duration": 31,
    "start_time": "2021-09-04T18:04:16.939Z"
   },
   {
    "duration": 3,
    "start_time": "2021-09-04T18:04:16.976Z"
   },
   {
    "duration": 38,
    "start_time": "2021-09-04T18:04:16.982Z"
   },
   {
    "duration": 46,
    "start_time": "2021-09-04T18:04:17.022Z"
   },
   {
    "duration": 14,
    "start_time": "2021-09-04T18:04:17.071Z"
   },
   {
    "duration": 129,
    "start_time": "2021-09-04T18:04:17.088Z"
   },
   {
    "duration": 6,
    "start_time": "2021-09-04T18:04:17.220Z"
   },
   {
    "duration": 35,
    "start_time": "2021-09-04T18:04:17.228Z"
   },
   {
    "duration": 72,
    "start_time": "2021-09-04T18:04:17.265Z"
   },
   {
    "duration": 127,
    "start_time": "2021-09-04T18:04:17.339Z"
   },
   {
    "duration": 7,
    "start_time": "2021-09-04T18:04:17.469Z"
   },
   {
    "duration": 122,
    "start_time": "2021-09-04T18:04:17.478Z"
   },
   {
    "duration": 1568,
    "start_time": "2021-09-04T18:04:17.602Z"
   },
   {
    "duration": 48,
    "start_time": "2021-09-04T18:04:19.173Z"
   },
   {
    "duration": 1562,
    "start_time": "2021-09-04T18:04:19.224Z"
   },
   {
    "duration": 46,
    "start_time": "2021-09-04T18:04:20.789Z"
   },
   {
    "duration": 1646,
    "start_time": "2021-09-04T18:04:20.837Z"
   },
   {
    "duration": 51,
    "start_time": "2021-09-04T18:04:22.486Z"
   },
   {
    "duration": 1754,
    "start_time": "2021-09-04T18:04:22.540Z"
   },
   {
    "duration": 858,
    "start_time": "2021-09-04T18:04:24.297Z"
   },
   {
    "duration": 1725,
    "start_time": "2021-09-04T18:04:25.158Z"
   },
   {
    "duration": 31,
    "start_time": "2021-09-04T18:04:26.886Z"
   },
   {
    "duration": 2559,
    "start_time": "2021-09-04T18:04:26.920Z"
   },
   {
    "duration": 67,
    "start_time": "2021-09-04T18:04:29.482Z"
   },
   {
    "duration": 19,
    "start_time": "2021-09-04T18:04:29.551Z"
   },
   {
    "duration": 70,
    "start_time": "2021-09-04T18:04:29.573Z"
   },
   {
    "duration": 8,
    "start_time": "2021-09-04T18:04:29.646Z"
   },
   {
    "duration": 19,
    "start_time": "2021-09-04T18:04:29.657Z"
   },
   {
    "duration": 23,
    "start_time": "2021-09-04T18:04:29.679Z"
   },
   {
    "duration": 26,
    "start_time": "2021-09-04T18:04:29.705Z"
   },
   {
    "duration": 14,
    "start_time": "2021-09-04T18:04:29.734Z"
   },
   {
    "duration": 16,
    "start_time": "2021-09-04T18:04:29.751Z"
   },
   {
    "duration": 562,
    "start_time": "2021-09-04T18:04:29.770Z"
   },
   {
    "duration": 4248,
    "start_time": "2021-09-04T18:04:26.088Z"
   },
   {
    "duration": 4245,
    "start_time": "2021-09-04T18:04:26.093Z"
   },
   {
    "duration": 4241,
    "start_time": "2021-09-04T18:04:26.099Z"
   },
   {
    "duration": 1071,
    "start_time": "2021-09-04T18:05:36.550Z"
   },
   {
    "duration": 4296,
    "start_time": "2021-09-04T18:05:43.647Z"
   },
   {
    "duration": 25546,
    "start_time": "2021-09-04T18:05:47.947Z"
   },
   {
    "duration": 37,
    "start_time": "2021-09-04T18:06:13.497Z"
   },
   {
    "duration": 1576,
    "start_time": "2021-09-04T18:07:15.307Z"
   },
   {
    "duration": 913,
    "start_time": "2021-09-04T18:07:16.886Z"
   },
   {
    "duration": 4,
    "start_time": "2021-09-04T18:07:17.802Z"
   },
   {
    "duration": 154,
    "start_time": "2021-09-04T18:07:17.816Z"
   },
   {
    "duration": 110,
    "start_time": "2021-09-04T18:07:17.972Z"
   },
   {
    "duration": 163,
    "start_time": "2021-09-04T18:07:18.084Z"
   },
   {
    "duration": 23,
    "start_time": "2021-09-04T18:07:18.250Z"
   },
   {
    "duration": 39,
    "start_time": "2021-09-04T18:07:18.277Z"
   },
   {
    "duration": 27,
    "start_time": "2021-09-04T18:07:18.320Z"
   },
   {
    "duration": 5,
    "start_time": "2021-09-04T18:07:18.349Z"
   },
   {
    "duration": 17,
    "start_time": "2021-09-04T18:07:18.356Z"
   },
   {
    "duration": 5,
    "start_time": "2021-09-04T18:07:18.376Z"
   },
   {
    "duration": 35,
    "start_time": "2021-09-04T18:07:18.384Z"
   },
   {
    "duration": 8,
    "start_time": "2021-09-04T18:07:18.422Z"
   },
   {
    "duration": 39,
    "start_time": "2021-09-04T18:07:18.432Z"
   },
   {
    "duration": 14,
    "start_time": "2021-09-04T18:07:18.474Z"
   },
   {
    "duration": 8,
    "start_time": "2021-09-04T18:07:18.517Z"
   },
   {
    "duration": 12,
    "start_time": "2021-09-04T18:07:18.527Z"
   },
   {
    "duration": 37,
    "start_time": "2021-09-04T18:07:18.542Z"
   },
   {
    "duration": 37,
    "start_time": "2021-09-04T18:07:18.582Z"
   },
   {
    "duration": 31,
    "start_time": "2021-09-04T18:07:18.622Z"
   },
   {
    "duration": 3,
    "start_time": "2021-09-04T18:07:18.656Z"
   },
   {
    "duration": 6,
    "start_time": "2021-09-04T18:07:18.664Z"
   },
   {
    "duration": 78,
    "start_time": "2021-09-04T18:07:18.673Z"
   },
   {
    "duration": 6,
    "start_time": "2021-09-04T18:07:18.753Z"
   },
   {
    "duration": 132,
    "start_time": "2021-09-04T18:07:18.761Z"
   },
   {
    "duration": 20,
    "start_time": "2021-09-04T18:07:18.896Z"
   },
   {
    "duration": 25,
    "start_time": "2021-09-04T18:07:18.918Z"
   },
   {
    "duration": 75,
    "start_time": "2021-09-04T18:07:18.945Z"
   },
   {
    "duration": 136,
    "start_time": "2021-09-04T18:07:19.023Z"
   },
   {
    "duration": 10,
    "start_time": "2021-09-04T18:07:19.162Z"
   },
   {
    "duration": 127,
    "start_time": "2021-09-04T18:07:19.175Z"
   },
   {
    "duration": 1523,
    "start_time": "2021-09-04T18:07:19.304Z"
   },
   {
    "duration": 38,
    "start_time": "2021-09-04T18:07:20.830Z"
   },
   {
    "duration": 1446,
    "start_time": "2021-09-04T18:07:20.870Z"
   },
   {
    "duration": 37,
    "start_time": "2021-09-04T18:07:22.318Z"
   },
   {
    "duration": 1415,
    "start_time": "2021-09-04T18:07:22.357Z"
   },
   {
    "duration": 49,
    "start_time": "2021-09-04T18:07:23.774Z"
   },
   {
    "duration": 1796,
    "start_time": "2021-09-04T18:07:23.825Z"
   },
   {
    "duration": 580,
    "start_time": "2021-09-04T18:07:25.624Z"
   },
   {
    "duration": 1646,
    "start_time": "2021-09-04T18:07:26.207Z"
   },
   {
    "duration": 13,
    "start_time": "2021-09-04T18:07:27.856Z"
   },
   {
    "duration": 2583,
    "start_time": "2021-09-04T18:07:27.872Z"
   },
   {
    "duration": 73,
    "start_time": "2021-09-04T18:07:30.457Z"
   },
   {
    "duration": 14,
    "start_time": "2021-09-04T18:07:30.533Z"
   },
   {
    "duration": 66,
    "start_time": "2021-09-04T18:07:30.550Z"
   },
   {
    "duration": 5,
    "start_time": "2021-09-04T18:07:30.619Z"
   },
   {
    "duration": 24,
    "start_time": "2021-09-04T18:07:30.627Z"
   },
   {
    "duration": 34,
    "start_time": "2021-09-04T18:07:30.654Z"
   },
   {
    "duration": 37,
    "start_time": "2021-09-04T18:07:30.690Z"
   },
   {
    "duration": 14,
    "start_time": "2021-09-04T18:07:30.729Z"
   },
   {
    "duration": 29,
    "start_time": "2021-09-04T18:07:30.746Z"
   },
   {
    "duration": 996,
    "start_time": "2021-09-04T18:07:30.777Z"
   },
   {
    "duration": 4236,
    "start_time": "2021-09-04T18:07:27.539Z"
   },
   {
    "duration": 4230,
    "start_time": "2021-09-04T18:07:27.546Z"
   },
   {
    "duration": 4227,
    "start_time": "2021-09-04T18:07:27.551Z"
   },
   {
    "duration": 781,
    "start_time": "2021-09-04T18:07:54.596Z"
   },
   {
    "duration": 763,
    "start_time": "2021-09-04T18:08:10.586Z"
   },
   {
    "duration": 4,
    "start_time": "2021-09-04T18:08:29.916Z"
   },
   {
    "duration": 927,
    "start_time": "2021-09-04T18:08:30.594Z"
   },
   {
    "duration": 4268,
    "start_time": "2021-09-04T18:08:33.794Z"
   },
   {
    "duration": 30823,
    "start_time": "2021-09-04T18:08:38.064Z"
   },
   {
    "duration": 48,
    "start_time": "2021-09-04T18:09:08.890Z"
   },
   {
    "duration": 312,
    "start_time": "2021-09-04T18:33:24.659Z"
   },
   {
    "duration": 267,
    "start_time": "2021-09-04T18:33:43.666Z"
   },
   {
    "duration": 257,
    "start_time": "2021-09-04T18:33:53.772Z"
   },
   {
    "duration": 319,
    "start_time": "2021-09-04T18:34:35.347Z"
   },
   {
    "duration": 2360,
    "start_time": "2021-09-04T18:34:41.598Z"
   },
   {
    "duration": 7297,
    "start_time": "2021-09-04T19:29:14.401Z"
   },
   {
    "duration": 3,
    "start_time": "2021-09-04T19:29:55.274Z"
   },
   {
    "duration": 7003,
    "start_time": "2021-09-04T19:30:03.768Z"
   },
   {
    "duration": 39,
    "start_time": "2021-09-04T19:30:46.472Z"
   },
   {
    "duration": 476,
    "start_time": "2021-09-04T19:31:31.137Z"
   },
   {
    "duration": 16,
    "start_time": "2021-09-04T19:39:46.498Z"
   },
   {
    "duration": 416,
    "start_time": "2021-09-04T19:40:12.666Z"
   },
   {
    "duration": 1673,
    "start_time": "2021-09-04T19:40:24.587Z"
   },
   {
    "duration": 923,
    "start_time": "2021-09-04T19:40:26.263Z"
   },
   {
    "duration": 5,
    "start_time": "2021-09-04T19:40:27.189Z"
   },
   {
    "duration": 157,
    "start_time": "2021-09-04T19:40:27.197Z"
   },
   {
    "duration": 120,
    "start_time": "2021-09-04T19:40:27.357Z"
   },
   {
    "duration": 154,
    "start_time": "2021-09-04T19:40:27.479Z"
   },
   {
    "duration": 23,
    "start_time": "2021-09-04T19:40:27.635Z"
   },
   {
    "duration": 15,
    "start_time": "2021-09-04T19:40:27.662Z"
   },
   {
    "duration": 53,
    "start_time": "2021-09-04T19:40:27.680Z"
   },
   {
    "duration": 3,
    "start_time": "2021-09-04T19:40:27.736Z"
   },
   {
    "duration": 22,
    "start_time": "2021-09-04T19:40:27.742Z"
   },
   {
    "duration": 8,
    "start_time": "2021-09-04T19:40:27.767Z"
   },
   {
    "duration": 18,
    "start_time": "2021-09-04T19:40:27.777Z"
   },
   {
    "duration": 23,
    "start_time": "2021-09-04T19:40:27.797Z"
   },
   {
    "duration": 44,
    "start_time": "2021-09-04T19:40:27.822Z"
   },
   {
    "duration": 14,
    "start_time": "2021-09-04T19:40:27.869Z"
   },
   {
    "duration": 11,
    "start_time": "2021-09-04T19:40:27.886Z"
   },
   {
    "duration": 9,
    "start_time": "2021-09-04T19:40:27.916Z"
   },
   {
    "duration": 48,
    "start_time": "2021-09-04T19:40:27.927Z"
   },
   {
    "duration": 15,
    "start_time": "2021-09-04T19:40:27.977Z"
   },
   {
    "duration": 48,
    "start_time": "2021-09-04T19:40:27.994Z"
   },
   {
    "duration": 8,
    "start_time": "2021-09-04T19:40:28.044Z"
   },
   {
    "duration": 11,
    "start_time": "2021-09-04T19:40:28.058Z"
   },
   {
    "duration": 63,
    "start_time": "2021-09-04T19:40:28.073Z"
   },
   {
    "duration": 7,
    "start_time": "2021-09-04T19:40:28.139Z"
   },
   {
    "duration": 128,
    "start_time": "2021-09-04T19:40:28.149Z"
   },
   {
    "duration": 7,
    "start_time": "2021-09-04T19:40:28.280Z"
   },
   {
    "duration": 42,
    "start_time": "2021-09-04T19:40:28.289Z"
   },
   {
    "duration": 53,
    "start_time": "2021-09-04T19:40:28.334Z"
   },
   {
    "duration": 135,
    "start_time": "2021-09-04T19:40:28.389Z"
   },
   {
    "duration": 8,
    "start_time": "2021-09-04T19:40:28.526Z"
   },
   {
    "duration": 123,
    "start_time": "2021-09-04T19:40:28.537Z"
   },
   {
    "duration": 1644,
    "start_time": "2021-09-04T19:40:28.662Z"
   },
   {
    "duration": 43,
    "start_time": "2021-09-04T19:40:30.308Z"
   },
   {
    "duration": 1458,
    "start_time": "2021-09-04T19:40:30.354Z"
   },
   {
    "duration": 38,
    "start_time": "2021-09-04T19:40:31.817Z"
   },
   {
    "duration": 1474,
    "start_time": "2021-09-04T19:40:31.858Z"
   },
   {
    "duration": 37,
    "start_time": "2021-09-04T19:40:33.334Z"
   },
   {
    "duration": 1693,
    "start_time": "2021-09-04T19:40:33.373Z"
   },
   {
    "duration": 598,
    "start_time": "2021-09-04T19:40:35.069Z"
   },
   {
    "duration": 1652,
    "start_time": "2021-09-04T19:40:35.669Z"
   },
   {
    "duration": 13,
    "start_time": "2021-09-04T19:40:37.323Z"
   },
   {
    "duration": 2500,
    "start_time": "2021-09-04T19:40:37.339Z"
   },
   {
    "duration": 55,
    "start_time": "2021-09-04T19:40:39.841Z"
   },
   {
    "duration": 32,
    "start_time": "2021-09-04T19:40:39.898Z"
   },
   {
    "duration": 59,
    "start_time": "2021-09-04T19:40:39.933Z"
   },
   {
    "duration": 6,
    "start_time": "2021-09-04T19:40:39.994Z"
   },
   {
    "duration": 29,
    "start_time": "2021-09-04T19:40:40.003Z"
   },
   {
    "duration": 28,
    "start_time": "2021-09-04T19:40:40.034Z"
   },
   {
    "duration": 29,
    "start_time": "2021-09-04T19:40:40.064Z"
   },
   {
    "duration": 20,
    "start_time": "2021-09-04T19:40:40.096Z"
   },
   {
    "duration": 22,
    "start_time": "2021-09-04T19:40:40.119Z"
   },
   {
    "duration": 1075,
    "start_time": "2021-09-04T19:40:40.144Z"
   },
   {
    "duration": 4385,
    "start_time": "2021-09-04T19:40:41.222Z"
   },
   {
    "duration": 25747,
    "start_time": "2021-09-04T19:40:45.609Z"
   },
   {
    "duration": 23,
    "start_time": "2021-09-04T19:41:11.359Z"
   },
   {
    "duration": 3,
    "start_time": "2021-09-04T19:41:11.385Z"
   },
   {
    "duration": 6802,
    "start_time": "2021-09-04T19:41:11.390Z"
   },
   {
    "duration": 27,
    "start_time": "2021-09-04T19:41:18.194Z"
   },
   {
    "duration": 37,
    "start_time": "2021-09-04T19:41:18.224Z"
   },
   {
    "duration": 6,
    "start_time": "2021-09-04T19:44:06.908Z"
   },
   {
    "duration": 1586,
    "start_time": "2021-09-05T14:18:31.305Z"
   },
   {
    "duration": 902,
    "start_time": "2021-09-05T14:18:32.894Z"
   },
   {
    "duration": 4,
    "start_time": "2021-09-05T14:18:33.799Z"
   },
   {
    "duration": 168,
    "start_time": "2021-09-05T14:18:33.806Z"
   },
   {
    "duration": 124,
    "start_time": "2021-09-05T14:18:33.977Z"
   },
   {
    "duration": 159,
    "start_time": "2021-09-05T14:18:34.103Z"
   },
   {
    "duration": 25,
    "start_time": "2021-09-05T14:18:34.264Z"
   },
   {
    "duration": 15,
    "start_time": "2021-09-05T14:18:34.292Z"
   },
   {
    "duration": 61,
    "start_time": "2021-09-05T14:18:34.310Z"
   },
   {
    "duration": 4,
    "start_time": "2021-09-05T14:18:34.374Z"
   },
   {
    "duration": 18,
    "start_time": "2021-09-05T14:18:34.381Z"
   },
   {
    "duration": 5,
    "start_time": "2021-09-05T14:18:34.401Z"
   },
   {
    "duration": 10,
    "start_time": "2021-09-05T14:18:34.408Z"
   },
   {
    "duration": 41,
    "start_time": "2021-09-05T14:18:34.420Z"
   },
   {
    "duration": 34,
    "start_time": "2021-09-05T14:18:34.463Z"
   },
   {
    "duration": 14,
    "start_time": "2021-09-05T14:18:34.499Z"
   },
   {
    "duration": 11,
    "start_time": "2021-09-05T14:18:34.515Z"
   },
   {
    "duration": 35,
    "start_time": "2021-09-05T14:18:34.528Z"
   },
   {
    "duration": 58,
    "start_time": "2021-09-05T14:18:34.565Z"
   },
   {
    "duration": 44,
    "start_time": "2021-09-05T14:18:34.626Z"
   },
   {
    "duration": 34,
    "start_time": "2021-09-05T14:18:34.673Z"
   },
   {
    "duration": 8,
    "start_time": "2021-09-05T14:18:34.710Z"
   },
   {
    "duration": 5,
    "start_time": "2021-09-05T14:18:34.725Z"
   },
   {
    "duration": 42,
    "start_time": "2021-09-05T14:18:34.760Z"
   },
   {
    "duration": 7,
    "start_time": "2021-09-05T14:18:34.805Z"
   },
   {
    "duration": 150,
    "start_time": "2021-09-05T14:18:34.814Z"
   },
   {
    "duration": 14,
    "start_time": "2021-09-05T14:18:34.966Z"
   },
   {
    "duration": 26,
    "start_time": "2021-09-05T14:18:34.983Z"
   },
   {
    "duration": 77,
    "start_time": "2021-09-05T14:18:35.011Z"
   },
   {
    "duration": 135,
    "start_time": "2021-09-05T14:18:35.091Z"
   },
   {
    "duration": 10,
    "start_time": "2021-09-05T14:18:35.229Z"
   },
   {
    "duration": 129,
    "start_time": "2021-09-05T14:18:35.256Z"
   },
   {
    "duration": 1536,
    "start_time": "2021-09-05T14:18:35.387Z"
   },
   {
    "duration": 53,
    "start_time": "2021-09-05T14:18:36.926Z"
   },
   {
    "duration": 1489,
    "start_time": "2021-09-05T14:18:36.981Z"
   },
   {
    "duration": 40,
    "start_time": "2021-09-05T14:18:38.473Z"
   },
   {
    "duration": 1892,
    "start_time": "2021-09-05T14:18:38.516Z"
   },
   {
    "duration": 54,
    "start_time": "2021-09-05T14:18:40.410Z"
   },
   {
    "duration": 2412,
    "start_time": "2021-09-05T14:18:40.467Z"
   },
   {
    "duration": 650,
    "start_time": "2021-09-05T14:18:42.882Z"
   },
   {
    "duration": 1810,
    "start_time": "2021-09-05T14:18:43.534Z"
   },
   {
    "duration": 17,
    "start_time": "2021-09-05T14:18:45.347Z"
   },
   {
    "duration": 2814,
    "start_time": "2021-09-05T14:18:45.369Z"
   },
   {
    "duration": 53,
    "start_time": "2021-09-05T14:18:48.185Z"
   },
   {
    "duration": 16,
    "start_time": "2021-09-05T14:18:48.256Z"
   },
   {
    "duration": 45,
    "start_time": "2021-09-05T14:18:48.275Z"
   },
   {
    "duration": 6,
    "start_time": "2021-09-05T14:18:48.322Z"
   },
   {
    "duration": 9,
    "start_time": "2021-09-05T14:18:48.360Z"
   },
   {
    "duration": 11,
    "start_time": "2021-09-05T14:18:48.372Z"
   },
   {
    "duration": 19,
    "start_time": "2021-09-05T14:18:48.385Z"
   },
   {
    "duration": 5,
    "start_time": "2021-09-05T14:19:12.771Z"
   },
   {
    "duration": 274,
    "start_time": "2021-09-05T16:16:46.044Z"
   },
   {
    "duration": 1230,
    "start_time": "2021-09-05T16:17:17.740Z"
   },
   {
    "duration": 714,
    "start_time": "2021-09-05T16:17:18.974Z"
   },
   {
    "duration": 4,
    "start_time": "2021-09-05T16:17:19.692Z"
   },
   {
    "duration": 95,
    "start_time": "2021-09-05T16:17:19.698Z"
   },
   {
    "duration": 61,
    "start_time": "2021-09-05T16:17:19.797Z"
   },
   {
    "duration": 109,
    "start_time": "2021-09-05T16:17:19.860Z"
   },
   {
    "duration": 37,
    "start_time": "2021-09-05T16:17:19.971Z"
   },
   {
    "duration": 10,
    "start_time": "2021-09-05T16:17:20.010Z"
   },
   {
    "duration": 17,
    "start_time": "2021-09-05T16:17:20.022Z"
   },
   {
    "duration": 2,
    "start_time": "2021-09-05T16:17:20.041Z"
   },
   {
    "duration": 15,
    "start_time": "2021-09-05T16:17:20.045Z"
   },
   {
    "duration": 31,
    "start_time": "2021-09-05T16:17:20.061Z"
   },
   {
    "duration": 6,
    "start_time": "2021-09-05T16:17:20.096Z"
   },
   {
    "duration": 6,
    "start_time": "2021-09-05T16:17:20.104Z"
   },
   {
    "duration": 32,
    "start_time": "2021-09-05T16:17:20.112Z"
   },
   {
    "duration": 10,
    "start_time": "2021-09-05T16:17:20.146Z"
   },
   {
    "duration": 33,
    "start_time": "2021-09-05T16:17:20.158Z"
   },
   {
    "duration": 9,
    "start_time": "2021-09-05T16:17:20.194Z"
   },
   {
    "duration": 27,
    "start_time": "2021-09-05T16:17:20.205Z"
   },
   {
    "duration": 11,
    "start_time": "2021-09-05T16:17:20.234Z"
   },
   {
    "duration": 19,
    "start_time": "2021-09-05T16:17:20.247Z"
   },
   {
    "duration": 30,
    "start_time": "2021-09-05T16:17:20.269Z"
   },
   {
    "duration": 7,
    "start_time": "2021-09-05T16:17:20.301Z"
   },
   {
    "duration": 28,
    "start_time": "2021-09-05T16:17:20.310Z"
   },
   {
    "duration": 4,
    "start_time": "2021-09-05T16:17:20.340Z"
   },
   {
    "duration": 91,
    "start_time": "2021-09-05T16:17:20.346Z"
   },
   {
    "duration": 5,
    "start_time": "2021-09-05T16:17:20.438Z"
   },
   {
    "duration": 20,
    "start_time": "2021-09-05T16:17:20.445Z"
   },
   {
    "duration": 49,
    "start_time": "2021-09-05T16:17:20.467Z"
   },
   {
    "duration": 61,
    "start_time": "2021-09-05T16:17:20.518Z"
   },
   {
    "duration": 10,
    "start_time": "2021-09-05T16:17:20.592Z"
   },
   {
    "duration": 65,
    "start_time": "2021-09-05T16:17:20.604Z"
   },
   {
    "duration": 1121,
    "start_time": "2021-09-05T16:17:20.670Z"
   },
   {
    "duration": 935,
    "start_time": "2021-09-05T16:17:20.859Z"
   },
   {
    "duration": 927,
    "start_time": "2021-09-05T16:17:20.869Z"
   },
   {
    "duration": 921,
    "start_time": "2021-09-05T16:17:20.877Z"
   },
   {
    "duration": 913,
    "start_time": "2021-09-05T16:17:20.886Z"
   },
   {
    "duration": 906,
    "start_time": "2021-09-05T16:17:20.894Z"
   },
   {
    "duration": 898,
    "start_time": "2021-09-05T16:17:20.903Z"
   },
   {
    "duration": 889,
    "start_time": "2021-09-05T16:17:20.914Z"
   },
   {
    "duration": 881,
    "start_time": "2021-09-05T16:17:20.923Z"
   },
   {
    "duration": 875,
    "start_time": "2021-09-05T16:17:20.931Z"
   },
   {
    "duration": 867,
    "start_time": "2021-09-05T16:17:20.940Z"
   },
   {
    "duration": 835,
    "start_time": "2021-09-05T16:17:20.973Z"
   },
   {
    "duration": 824,
    "start_time": "2021-09-05T16:17:20.985Z"
   },
   {
    "duration": 817,
    "start_time": "2021-09-05T16:17:20.993Z"
   },
   {
    "duration": 810,
    "start_time": "2021-09-05T16:17:21.001Z"
   },
   {
    "duration": 803,
    "start_time": "2021-09-05T16:17:21.009Z"
   },
   {
    "duration": 796,
    "start_time": "2021-09-05T16:17:21.019Z"
   },
   {
    "duration": 790,
    "start_time": "2021-09-05T16:17:21.026Z"
   },
   {
    "duration": 782,
    "start_time": "2021-09-05T16:17:21.035Z"
   },
   {
    "duration": 774,
    "start_time": "2021-09-05T16:17:21.043Z"
   },
   {
    "duration": 766,
    "start_time": "2021-09-05T16:17:21.052Z"
   },
   {
    "duration": 759,
    "start_time": "2021-09-05T16:17:21.060Z"
   },
   {
    "duration": 742,
    "start_time": "2021-09-05T16:17:21.078Z"
   },
   {
    "duration": 734,
    "start_time": "2021-09-05T16:17:21.087Z"
   },
   {
    "duration": 726,
    "start_time": "2021-09-05T16:17:21.096Z"
   },
   {
    "duration": 719,
    "start_time": "2021-09-05T16:17:21.103Z"
   },
   {
    "duration": 711,
    "start_time": "2021-09-05T16:17:21.112Z"
   },
   {
    "duration": 705,
    "start_time": "2021-09-05T16:17:21.119Z"
   },
   {
    "duration": 1087,
    "start_time": "2021-09-05T16:20:00.264Z"
   },
   {
    "duration": 1057,
    "start_time": "2021-09-05T16:21:09.288Z"
   },
   {
    "duration": 35,
    "start_time": "2021-09-05T16:22:18.286Z"
   },
   {
    "duration": 1025,
    "start_time": "2021-09-05T16:22:31.599Z"
   },
   {
    "duration": 1157,
    "start_time": "2021-09-05T16:23:11.329Z"
   },
   {
    "duration": 1106,
    "start_time": "2021-09-05T16:23:46.918Z"
   },
   {
    "duration": 1281,
    "start_time": "2021-09-05T16:24:00.329Z"
   },
   {
    "duration": 1118,
    "start_time": "2021-09-05T16:24:20.929Z"
   },
   {
    "duration": 1322,
    "start_time": "2021-09-05T16:24:39.305Z"
   },
   {
    "duration": 1178,
    "start_time": "2021-09-05T16:26:11.851Z"
   },
   {
    "duration": 1269,
    "start_time": "2021-09-05T16:27:06.497Z"
   },
   {
    "duration": 1130,
    "start_time": "2021-09-05T16:27:16.488Z"
   },
   {
    "duration": 1261,
    "start_time": "2021-09-05T16:27:28.025Z"
   },
   {
    "duration": 1072,
    "start_time": "2021-09-05T16:27:45.185Z"
   },
   {
    "duration": 1341,
    "start_time": "2021-09-05T16:28:15.441Z"
   },
   {
    "duration": 29,
    "start_time": "2021-09-05T16:28:30.080Z"
   },
   {
    "duration": 1426,
    "start_time": "2021-09-05T16:28:33.056Z"
   },
   {
    "duration": 1238,
    "start_time": "2021-09-05T16:29:15.412Z"
   },
   {
    "duration": 29,
    "start_time": "2021-09-05T16:29:24.394Z"
   },
   {
    "duration": 896,
    "start_time": "2021-09-05T16:29:28.377Z"
   },
   {
    "duration": 876,
    "start_time": "2021-09-05T16:29:49.673Z"
   },
   {
    "duration": 1277,
    "start_time": "2021-09-05T16:30:33.754Z"
   },
   {
    "duration": 1047,
    "start_time": "2021-09-05T16:30:37.866Z"
   },
   {
    "duration": 774,
    "start_time": "2021-09-05T16:31:11.657Z"
   },
   {
    "duration": 1489,
    "start_time": "2021-09-05T16:31:20.505Z"
   },
   {
    "duration": 1688,
    "start_time": "2021-09-05T16:32:12.395Z"
   },
   {
    "duration": 10,
    "start_time": "2021-09-05T16:32:26.673Z"
   },
   {
    "duration": 1787,
    "start_time": "2021-09-05T16:32:35.681Z"
   },
   {
    "duration": 260,
    "start_time": "2021-09-05T16:37:15.426Z"
   },
   {
    "duration": 5,
    "start_time": "2021-09-05T16:37:19.962Z"
   },
   {
    "duration": 10,
    "start_time": "2021-09-05T16:40:11.893Z"
   },
   {
    "duration": 1660,
    "start_time": "2021-09-05T16:41:42.061Z"
   },
   {
    "duration": 1406,
    "start_time": "2021-09-05T16:42:53.470Z"
   },
   {
    "duration": 2364,
    "start_time": "2021-09-05T16:43:18.456Z"
   },
   {
    "duration": 1388,
    "start_time": "2021-09-05T16:44:05.437Z"
   },
   {
    "duration": 38,
    "start_time": "2021-09-05T16:44:28.492Z"
   },
   {
    "duration": 13,
    "start_time": "2021-09-05T16:46:45.646Z"
   },
   {
    "duration": 12,
    "start_time": "2021-09-05T16:47:00.383Z"
   },
   {
    "duration": 1654,
    "start_time": "2021-09-05T16:47:31.254Z"
   },
   {
    "duration": 11,
    "start_time": "2021-09-05T16:47:56.446Z"
   },
   {
    "duration": 6550,
    "start_time": "2021-09-05T16:48:58.704Z"
   },
   {
    "duration": 9,
    "start_time": "2021-09-05T16:51:59.657Z"
   },
   {
    "duration": 1447,
    "start_time": "2021-09-05T16:52:00.809Z"
   },
   {
    "duration": 5,
    "start_time": "2021-09-05T16:55:49.816Z"
   },
   {
    "duration": 13,
    "start_time": "2021-09-05T16:55:58.056Z"
   },
   {
    "duration": 266,
    "start_time": "2021-09-05T16:55:59.417Z"
   },
   {
    "duration": 262,
    "start_time": "2021-09-05T16:57:51.121Z"
   },
   {
    "duration": 1187,
    "start_time": "2021-09-05T16:58:09.311Z"
   },
   {
    "duration": 729,
    "start_time": "2021-09-05T16:58:10.500Z"
   },
   {
    "duration": 4,
    "start_time": "2021-09-05T16:58:11.232Z"
   },
   {
    "duration": 120,
    "start_time": "2021-09-05T16:58:11.238Z"
   },
   {
    "duration": 81,
    "start_time": "2021-09-05T16:58:11.360Z"
   },
   {
    "duration": 98,
    "start_time": "2021-09-05T16:58:11.443Z"
   },
   {
    "duration": 18,
    "start_time": "2021-09-05T16:58:11.542Z"
   },
   {
    "duration": 10,
    "start_time": "2021-09-05T16:58:11.563Z"
   },
   {
    "duration": 19,
    "start_time": "2021-09-05T16:58:11.592Z"
   },
   {
    "duration": 3,
    "start_time": "2021-09-05T16:58:11.612Z"
   },
   {
    "duration": 13,
    "start_time": "2021-09-05T16:58:11.617Z"
   },
   {
    "duration": 4,
    "start_time": "2021-09-05T16:58:11.632Z"
   },
   {
    "duration": 7,
    "start_time": "2021-09-05T16:58:11.637Z"
   },
   {
    "duration": 5,
    "start_time": "2021-09-05T16:58:11.646Z"
   },
   {
    "duration": 51,
    "start_time": "2021-09-05T16:58:11.653Z"
   },
   {
    "duration": 9,
    "start_time": "2021-09-05T16:58:11.705Z"
   },
   {
    "duration": 7,
    "start_time": "2021-09-05T16:58:11.716Z"
   },
   {
    "duration": 13,
    "start_time": "2021-09-05T16:58:11.724Z"
   },
   {
    "duration": 23,
    "start_time": "2021-09-05T16:58:11.739Z"
   },
   {
    "duration": 32,
    "start_time": "2021-09-05T16:58:11.764Z"
   },
   {
    "duration": 18,
    "start_time": "2021-09-05T16:58:11.798Z"
   },
   {
    "duration": 5,
    "start_time": "2021-09-05T16:58:11.818Z"
   },
   {
    "duration": 6,
    "start_time": "2021-09-05T16:58:11.826Z"
   },
   {
    "duration": 28,
    "start_time": "2021-09-05T16:58:11.835Z"
   },
   {
    "duration": 4,
    "start_time": "2021-09-05T16:58:11.864Z"
   },
   {
    "duration": 66,
    "start_time": "2021-09-05T16:58:11.893Z"
   },
   {
    "duration": 5,
    "start_time": "2021-09-05T16:58:11.961Z"
   },
   {
    "duration": 42,
    "start_time": "2021-09-05T16:58:11.967Z"
   },
   {
    "duration": 32,
    "start_time": "2021-09-05T16:58:12.011Z"
   },
   {
    "duration": 97,
    "start_time": "2021-09-05T16:58:12.044Z"
   },
   {
    "duration": 8,
    "start_time": "2021-09-05T16:58:12.142Z"
   },
   {
    "duration": 79,
    "start_time": "2021-09-05T16:58:12.151Z"
   },
   {
    "duration": 1060,
    "start_time": "2021-09-05T16:58:12.231Z"
   },
   {
    "duration": 25,
    "start_time": "2021-09-05T16:58:13.293Z"
   },
   {
    "duration": 1115,
    "start_time": "2021-09-05T16:58:13.319Z"
   },
   {
    "duration": 26,
    "start_time": "2021-09-05T16:58:14.436Z"
   },
   {
    "duration": 1174,
    "start_time": "2021-09-05T16:58:14.464Z"
   },
   {
    "duration": 24,
    "start_time": "2021-09-05T16:58:15.640Z"
   },
   {
    "duration": 1063,
    "start_time": "2021-09-05T16:58:15.666Z"
   },
   {
    "duration": 358,
    "start_time": "2021-09-05T16:58:16.730Z"
   },
   {
    "duration": 1291,
    "start_time": "2021-09-05T16:58:17.092Z"
   },
   {
    "duration": 17,
    "start_time": "2021-09-05T16:58:18.385Z"
   },
   {
    "duration": 1502,
    "start_time": "2021-09-05T16:58:18.404Z"
   },
   {
    "duration": 35,
    "start_time": "2021-09-05T16:58:19.908Z"
   },
   {
    "duration": 12,
    "start_time": "2021-09-05T16:58:19.945Z"
   },
   {
    "duration": 33,
    "start_time": "2021-09-05T16:58:19.958Z"
   },
   {
    "duration": 1706,
    "start_time": "2021-09-05T16:58:19.993Z"
   },
   {
    "duration": 3,
    "start_time": "2021-09-05T16:58:21.701Z"
   },
   {
    "duration": 21,
    "start_time": "2021-09-05T16:58:21.706Z"
   },
   {
    "duration": 6,
    "start_time": "2021-09-05T16:58:21.728Z"
   },
   {
    "duration": 333,
    "start_time": "2021-09-05T16:58:21.735Z"
   },
   {
    "duration": 1129,
    "start_time": "2021-09-05T16:58:20.940Z"
   },
   {
    "duration": 1122,
    "start_time": "2021-09-05T16:58:20.948Z"
   },
   {
    "duration": 1115,
    "start_time": "2021-09-05T16:58:20.956Z"
   },
   {
    "duration": 1109,
    "start_time": "2021-09-05T16:58:20.963Z"
   },
   {
    "duration": 1102,
    "start_time": "2021-09-05T16:58:20.971Z"
   },
   {
    "duration": 1097,
    "start_time": "2021-09-05T16:58:20.977Z"
   },
   {
    "duration": 1089,
    "start_time": "2021-09-05T16:58:20.986Z"
   },
   {
    "duration": 1083,
    "start_time": "2021-09-05T16:58:20.993Z"
   },
   {
    "duration": 1075,
    "start_time": "2021-09-05T16:58:21.001Z"
   },
   {
    "duration": 1069,
    "start_time": "2021-09-05T16:58:21.008Z"
   },
   {
    "duration": 1063,
    "start_time": "2021-09-05T16:58:21.016Z"
   },
   {
    "duration": 1057,
    "start_time": "2021-09-05T16:58:21.023Z"
   },
   {
    "duration": 239,
    "start_time": "2021-09-05T16:58:53.148Z"
   },
   {
    "duration": 5,
    "start_time": "2021-09-05T16:58:56.147Z"
   },
   {
    "duration": 5,
    "start_time": "2021-09-05T16:59:08.740Z"
   },
   {
    "duration": 265,
    "start_time": "2021-09-05T16:59:20.947Z"
   },
   {
    "duration": 6,
    "start_time": "2021-09-05T17:00:49.174Z"
   },
   {
    "duration": 5,
    "start_time": "2021-09-05T17:00:51.085Z"
   },
   {
    "duration": 1679,
    "start_time": "2021-09-05T17:20:48.796Z"
   },
   {
    "duration": 1028,
    "start_time": "2021-09-05T17:20:50.478Z"
   },
   {
    "duration": 4,
    "start_time": "2021-09-05T17:20:51.509Z"
   },
   {
    "duration": 96,
    "start_time": "2021-09-05T17:20:51.516Z"
   },
   {
    "duration": 77,
    "start_time": "2021-09-05T17:20:51.614Z"
   },
   {
    "duration": 82,
    "start_time": "2021-09-05T17:20:51.693Z"
   },
   {
    "duration": 28,
    "start_time": "2021-09-05T17:20:51.777Z"
   },
   {
    "duration": 10,
    "start_time": "2021-09-05T17:20:51.809Z"
   },
   {
    "duration": 18,
    "start_time": "2021-09-05T17:20:51.822Z"
   },
   {
    "duration": 4,
    "start_time": "2021-09-05T17:20:51.842Z"
   },
   {
    "duration": 51,
    "start_time": "2021-09-05T17:20:51.848Z"
   },
   {
    "duration": 4,
    "start_time": "2021-09-05T17:20:51.902Z"
   },
   {
    "duration": 5,
    "start_time": "2021-09-05T17:20:51.908Z"
   },
   {
    "duration": 4,
    "start_time": "2021-09-05T17:20:51.915Z"
   },
   {
    "duration": 27,
    "start_time": "2021-09-05T17:20:51.921Z"
   },
   {
    "duration": 10,
    "start_time": "2021-09-05T17:20:51.950Z"
   },
   {
    "duration": 32,
    "start_time": "2021-09-05T17:20:51.962Z"
   },
   {
    "duration": 9,
    "start_time": "2021-09-05T17:20:51.995Z"
   },
   {
    "duration": 24,
    "start_time": "2021-09-05T17:20:52.006Z"
   },
   {
    "duration": 12,
    "start_time": "2021-09-05T17:20:52.032Z"
   },
   {
    "duration": 54,
    "start_time": "2021-09-05T17:20:52.045Z"
   },
   {
    "duration": 2,
    "start_time": "2021-09-05T17:20:52.102Z"
   },
   {
    "duration": 5,
    "start_time": "2021-09-05T17:20:52.108Z"
   },
   {
    "duration": 26,
    "start_time": "2021-09-05T17:20:52.116Z"
   },
   {
    "duration": 4,
    "start_time": "2021-09-05T17:20:52.144Z"
   },
   {
    "duration": 93,
    "start_time": "2021-09-05T17:20:52.150Z"
   },
   {
    "duration": 4,
    "start_time": "2021-09-05T17:20:52.245Z"
   },
   {
    "duration": 24,
    "start_time": "2021-09-05T17:20:52.251Z"
   },
   {
    "duration": 42,
    "start_time": "2021-09-05T17:20:52.277Z"
   },
   {
    "duration": 76,
    "start_time": "2021-09-05T17:20:52.321Z"
   },
   {
    "duration": 8,
    "start_time": "2021-09-05T17:20:52.399Z"
   },
   {
    "duration": 63,
    "start_time": "2021-09-05T17:20:52.409Z"
   },
   {
    "duration": 1082,
    "start_time": "2021-09-05T17:20:52.474Z"
   },
   {
    "duration": 34,
    "start_time": "2021-09-05T17:20:53.558Z"
   },
   {
    "duration": 963,
    "start_time": "2021-09-05T17:20:53.594Z"
   },
   {
    "duration": 34,
    "start_time": "2021-09-05T17:20:54.558Z"
   },
   {
    "duration": 1197,
    "start_time": "2021-09-05T17:20:54.594Z"
   },
   {
    "duration": 24,
    "start_time": "2021-09-05T17:20:55.793Z"
   },
   {
    "duration": 997,
    "start_time": "2021-09-05T17:20:55.819Z"
   },
   {
    "duration": 346,
    "start_time": "2021-09-05T17:20:56.818Z"
   },
   {
    "duration": 1078,
    "start_time": "2021-09-05T17:20:57.165Z"
   },
   {
    "duration": 10,
    "start_time": "2021-09-05T17:20:58.245Z"
   },
   {
    "duration": 1487,
    "start_time": "2021-09-05T17:20:58.257Z"
   },
   {
    "duration": 44,
    "start_time": "2021-09-05T17:20:59.746Z"
   },
   {
    "duration": 12,
    "start_time": "2021-09-05T17:20:59.792Z"
   },
   {
    "duration": 9,
    "start_time": "2021-09-05T17:20:59.806Z"
   },
   {
    "duration": 1807,
    "start_time": "2021-09-05T17:20:59.817Z"
   },
   {
    "duration": 5,
    "start_time": "2021-09-05T17:21:01.626Z"
   },
   {
    "duration": 30,
    "start_time": "2021-09-05T17:21:01.633Z"
   },
   {
    "duration": 8,
    "start_time": "2021-09-05T17:21:01.665Z"
   },
   {
    "duration": 18,
    "start_time": "2021-09-05T17:21:01.675Z"
   },
   {
    "duration": 19,
    "start_time": "2021-09-05T17:21:01.695Z"
   },
   {
    "duration": 17,
    "start_time": "2021-09-05T17:21:01.716Z"
   },
   {
    "duration": 26,
    "start_time": "2021-09-05T17:21:01.734Z"
   },
   {
    "duration": 18,
    "start_time": "2021-09-05T17:21:01.761Z"
   },
   {
    "duration": 1119,
    "start_time": "2021-09-05T17:21:01.781Z"
   },
   {
    "duration": 3290,
    "start_time": "2021-09-05T17:21:02.902Z"
   },
   {
    "duration": 18775,
    "start_time": "2021-09-05T17:21:06.194Z"
   },
   {
    "duration": 29,
    "start_time": "2021-09-05T17:21:24.971Z"
   },
   {
    "duration": 331,
    "start_time": "2021-09-05T17:21:25.001Z"
   },
   {
    "duration": 1149,
    "start_time": "2021-09-05T17:21:24.185Z"
   },
   {
    "duration": 1138,
    "start_time": "2021-09-05T17:21:24.196Z"
   },
   {
    "duration": 1129,
    "start_time": "2021-09-05T17:21:24.206Z"
   },
   {
    "duration": 3,
    "start_time": "2021-09-05T17:27:27.982Z"
   },
   {
    "duration": 246,
    "start_time": "2021-09-05T17:37:01.395Z"
   },
   {
    "duration": 4,
    "start_time": "2021-09-05T17:37:27.513Z"
   },
   {
    "duration": 245,
    "start_time": "2021-09-05T17:37:37.706Z"
   },
   {
    "duration": 7,
    "start_time": "2021-09-05T17:38:27.729Z"
   },
   {
    "duration": 345630,
    "start_time": "2021-09-05T17:43:47.269Z"
   },
   {
    "duration": 3,
    "start_time": "2021-09-05T17:52:34.829Z"
   },
   {
    "duration": 5556,
    "start_time": "2021-09-05T17:52:38.836Z"
   },
   {
    "duration": 2,
    "start_time": "2021-09-05T17:53:46.630Z"
   },
   {
    "duration": 25990,
    "start_time": "2021-09-05T17:53:52.257Z"
   },
   {
    "duration": 45,
    "start_time": "2021-09-05T17:54:24.872Z"
   },
   {
    "duration": 4,
    "start_time": "2021-09-05T17:54:29.789Z"
   },
   {
    "duration": 459954,
    "start_time": "2021-09-05T17:56:17.783Z"
   },
   {
    "duration": 3,
    "start_time": "2021-09-05T18:04:59.702Z"
   },
   {
    "duration": 25585,
    "start_time": "2021-09-05T18:05:01.616Z"
   },
   {
    "duration": 37,
    "start_time": "2021-09-05T18:05:35.391Z"
   },
   {
    "duration": 4,
    "start_time": "2021-09-05T18:05:37.960Z"
   },
   {
    "duration": 1679,
    "start_time": "2021-09-06T13:42:03.526Z"
   },
   {
    "duration": 865,
    "start_time": "2021-09-06T13:42:05.208Z"
   },
   {
    "duration": 4,
    "start_time": "2021-09-06T13:42:06.076Z"
   },
   {
    "duration": 159,
    "start_time": "2021-09-06T13:42:06.083Z"
   },
   {
    "duration": 117,
    "start_time": "2021-09-06T13:42:06.245Z"
   },
   {
    "duration": 154,
    "start_time": "2021-09-06T13:42:06.365Z"
   },
   {
    "duration": 22,
    "start_time": "2021-09-06T13:42:06.521Z"
   },
   {
    "duration": 28,
    "start_time": "2021-09-06T13:42:06.547Z"
   },
   {
    "duration": 26,
    "start_time": "2021-09-06T13:42:06.578Z"
   },
   {
    "duration": 4,
    "start_time": "2021-09-06T13:42:06.606Z"
   },
   {
    "duration": 49,
    "start_time": "2021-09-06T13:42:06.613Z"
   },
   {
    "duration": 5,
    "start_time": "2021-09-06T13:42:06.664Z"
   },
   {
    "duration": 10,
    "start_time": "2021-09-06T13:42:06.671Z"
   },
   {
    "duration": 7,
    "start_time": "2021-09-06T13:42:06.683Z"
   },
   {
    "duration": 33,
    "start_time": "2021-09-06T13:42:06.693Z"
   },
   {
    "duration": 38,
    "start_time": "2021-09-06T13:42:06.729Z"
   },
   {
    "duration": 8,
    "start_time": "2021-09-06T13:42:06.770Z"
   },
   {
    "duration": 27,
    "start_time": "2021-09-06T13:42:06.780Z"
   },
   {
    "duration": 41,
    "start_time": "2021-09-06T13:42:06.809Z"
   },
   {
    "duration": 14,
    "start_time": "2021-09-06T13:42:06.862Z"
   },
   {
    "duration": 32,
    "start_time": "2021-09-06T13:42:06.878Z"
   },
   {
    "duration": 7,
    "start_time": "2021-09-06T13:42:06.913Z"
   },
   {
    "duration": 39,
    "start_time": "2021-09-06T13:42:06.925Z"
   },
   {
    "duration": 45,
    "start_time": "2021-09-06T13:42:06.966Z"
   },
   {
    "duration": 7,
    "start_time": "2021-09-06T13:42:07.013Z"
   },
   {
    "duration": 140,
    "start_time": "2021-09-06T13:42:07.023Z"
   },
   {
    "duration": 8,
    "start_time": "2021-09-06T13:42:07.166Z"
   },
   {
    "duration": 27,
    "start_time": "2021-09-06T13:42:07.177Z"
   },
   {
    "duration": 88,
    "start_time": "2021-09-06T13:42:07.207Z"
   },
   {
    "duration": 126,
    "start_time": "2021-09-06T13:42:07.297Z"
   },
   {
    "duration": 9,
    "start_time": "2021-09-06T13:42:07.426Z"
   },
   {
    "duration": 114,
    "start_time": "2021-09-06T13:42:07.437Z"
   },
   {
    "duration": 1784,
    "start_time": "2021-09-06T13:42:07.554Z"
   },
   {
    "duration": 44,
    "start_time": "2021-09-06T13:42:09.341Z"
   },
   {
    "duration": 1779,
    "start_time": "2021-09-06T13:42:09.387Z"
   },
   {
    "duration": 38,
    "start_time": "2021-09-06T13:42:11.168Z"
   },
   {
    "duration": 1987,
    "start_time": "2021-09-06T13:42:11.208Z"
   },
   {
    "duration": 38,
    "start_time": "2021-09-06T13:42:13.198Z"
   },
   {
    "duration": 1679,
    "start_time": "2021-09-06T13:42:13.239Z"
   },
   {
    "duration": 135,
    "start_time": "2021-09-06T13:43:15.523Z"
   },
   {
    "duration": 534,
    "start_time": "2021-09-06T13:43:22.337Z"
   },
   {
    "duration": 7,
    "start_time": "2021-09-06T13:43:40.095Z"
   },
   {
    "duration": 6,
    "start_time": "2021-09-06T13:43:45.163Z"
   },
   {
    "duration": 7,
    "start_time": "2021-09-06T13:44:11.966Z"
   },
   {
    "duration": 580,
    "start_time": "2021-09-06T13:44:31.376Z"
   },
   {
    "duration": 699,
    "start_time": "2021-09-06T13:44:43.493Z"
   },
   {
    "duration": 911,
    "start_time": "2021-09-06T13:49:02.846Z"
   },
   {
    "duration": 685,
    "start_time": "2021-09-06T13:49:13.462Z"
   },
   {
    "duration": 9,
    "start_time": "2021-09-06T14:05:08.921Z"
   },
   {
    "duration": 318,
    "start_time": "2021-09-06T14:19:28.268Z"
   },
   {
    "duration": 343,
    "start_time": "2021-09-06T14:19:46.333Z"
   },
   {
    "duration": 359,
    "start_time": "2021-09-06T14:20:19.620Z"
   },
   {
    "duration": 362,
    "start_time": "2021-09-06T14:20:35.238Z"
   },
   {
    "duration": 363,
    "start_time": "2021-09-06T14:20:57.733Z"
   },
   {
    "duration": 362,
    "start_time": "2021-09-06T14:22:01.474Z"
   },
   {
    "duration": 1679,
    "start_time": "2021-09-06T14:24:21.794Z"
   },
   {
    "duration": 695,
    "start_time": "2021-09-06T14:24:55.054Z"
   },
   {
    "duration": 417,
    "start_time": "2021-09-06T18:09:49.416Z"
   },
   {
    "duration": 1479,
    "start_time": "2021-09-06T18:10:19.905Z"
   },
   {
    "duration": 933,
    "start_time": "2021-09-06T18:10:21.387Z"
   },
   {
    "duration": 4,
    "start_time": "2021-09-06T18:10:22.323Z"
   },
   {
    "duration": 172,
    "start_time": "2021-09-06T18:10:22.330Z"
   },
   {
    "duration": 110,
    "start_time": "2021-09-06T18:10:22.505Z"
   },
   {
    "duration": 168,
    "start_time": "2021-09-06T18:10:22.617Z"
   },
   {
    "duration": 22,
    "start_time": "2021-09-06T18:10:22.787Z"
   },
   {
    "duration": 39,
    "start_time": "2021-09-06T18:10:22.816Z"
   },
   {
    "duration": 26,
    "start_time": "2021-09-06T18:10:22.859Z"
   },
   {
    "duration": 8,
    "start_time": "2021-09-06T18:10:22.888Z"
   },
   {
    "duration": 46,
    "start_time": "2021-09-06T18:10:22.898Z"
   },
   {
    "duration": 31,
    "start_time": "2021-09-06T18:10:22.947Z"
   },
   {
    "duration": 23,
    "start_time": "2021-09-06T18:10:22.980Z"
   },
   {
    "duration": 30,
    "start_time": "2021-09-06T18:10:23.006Z"
   },
   {
    "duration": 61,
    "start_time": "2021-09-06T18:10:23.038Z"
   },
   {
    "duration": 14,
    "start_time": "2021-09-06T18:10:23.102Z"
   },
   {
    "duration": 32,
    "start_time": "2021-09-06T18:10:23.118Z"
   },
   {
    "duration": 46,
    "start_time": "2021-09-06T18:10:23.153Z"
   },
   {
    "duration": 55,
    "start_time": "2021-09-06T18:10:23.202Z"
   },
   {
    "duration": 6,
    "start_time": "2021-09-06T18:10:23.259Z"
   },
   {
    "duration": 36,
    "start_time": "2021-09-06T18:10:23.267Z"
   },
   {
    "duration": 54,
    "start_time": "2021-09-06T18:10:23.306Z"
   },
   {
    "duration": 3,
    "start_time": "2021-09-06T18:10:23.368Z"
   },
   {
    "duration": 29,
    "start_time": "2021-09-06T18:10:23.376Z"
   },
   {
    "duration": 74,
    "start_time": "2021-09-06T18:10:23.408Z"
   },
   {
    "duration": 9,
    "start_time": "2021-09-06T18:10:23.485Z"
   },
   {
    "duration": 197,
    "start_time": "2021-09-06T18:10:23.497Z"
   },
   {
    "duration": 10,
    "start_time": "2021-09-06T18:10:23.697Z"
   },
   {
    "duration": 47,
    "start_time": "2021-09-06T18:10:23.709Z"
   },
   {
    "duration": 63,
    "start_time": "2021-09-06T18:10:23.758Z"
   },
   {
    "duration": 137,
    "start_time": "2021-09-06T18:10:23.823Z"
   },
   {
    "duration": 8,
    "start_time": "2021-09-06T18:10:23.963Z"
   },
   {
    "duration": 127,
    "start_time": "2021-09-06T18:10:23.974Z"
   },
   {
    "duration": 1799,
    "start_time": "2021-09-06T18:10:24.103Z"
   },
   {
    "duration": 53,
    "start_time": "2021-09-06T18:10:25.905Z"
   },
   {
    "duration": 1728,
    "start_time": "2021-09-06T18:10:25.961Z"
   },
   {
    "duration": 37,
    "start_time": "2021-09-06T18:10:27.692Z"
   },
   {
    "duration": 2016,
    "start_time": "2021-09-06T18:10:27.732Z"
   },
   {
    "duration": 38,
    "start_time": "2021-09-06T18:10:29.755Z"
   },
   {
    "duration": 1707,
    "start_time": "2021-09-06T18:10:29.796Z"
   },
   {
    "duration": 590,
    "start_time": "2021-09-06T18:10:31.505Z"
   },
   {
    "duration": 1796,
    "start_time": "2021-09-06T18:10:32.098Z"
   },
   {
    "duration": 15,
    "start_time": "2021-09-06T18:10:33.897Z"
   },
   {
    "duration": 2520,
    "start_time": "2021-09-06T18:10:33.915Z"
   },
   {
    "duration": 60,
    "start_time": "2021-09-06T18:10:36.438Z"
   },
   {
    "duration": 17,
    "start_time": "2021-09-06T18:10:36.500Z"
   },
   {
    "duration": 37,
    "start_time": "2021-09-06T18:10:36.519Z"
   },
   {
    "duration": 2658,
    "start_time": "2021-09-06T18:10:36.558Z"
   },
   {
    "duration": 7,
    "start_time": "2021-09-06T18:10:39.219Z"
   },
   {
    "duration": 40,
    "start_time": "2021-09-06T18:10:39.229Z"
   },
   {
    "duration": 8,
    "start_time": "2021-09-06T18:10:39.272Z"
   },
   {
    "duration": 13,
    "start_time": "2021-09-06T18:10:39.284Z"
   },
   {
    "duration": 24,
    "start_time": "2021-09-06T18:10:39.300Z"
   },
   {
    "duration": 31,
    "start_time": "2021-09-06T18:10:39.327Z"
   },
   {
    "duration": 8,
    "start_time": "2021-09-06T18:10:39.361Z"
   },
   {
    "duration": 7,
    "start_time": "2021-09-06T18:10:39.372Z"
   },
   {
    "duration": 976,
    "start_time": "2021-09-06T18:10:39.381Z"
   },
   {
    "duration": 4398,
    "start_time": "2021-09-06T18:10:40.360Z"
   },
   {
    "duration": 26902,
    "start_time": "2021-09-06T18:10:44.761Z"
   },
   {
    "duration": 394,
    "start_time": "2021-09-06T18:11:11.666Z"
   },
   {
    "duration": 902,
    "start_time": "2021-09-06T18:11:11.162Z"
   },
   {
    "duration": 895,
    "start_time": "2021-09-06T18:11:11.171Z"
   },
   {
    "duration": 885,
    "start_time": "2021-09-06T18:11:11.183Z"
   },
   {
    "duration": 879,
    "start_time": "2021-09-06T18:11:11.191Z"
   },
   {
    "duration": 873,
    "start_time": "2021-09-06T18:11:11.199Z"
   },
   {
    "duration": 865,
    "start_time": "2021-09-06T18:11:11.209Z"
   },
   {
    "duration": 848,
    "start_time": "2021-09-06T18:11:11.228Z"
   },
   {
    "duration": 843,
    "start_time": "2021-09-06T18:11:11.236Z"
   },
   {
    "duration": 1540,
    "start_time": "2021-09-06T18:36:58.553Z"
   },
   {
    "duration": 854,
    "start_time": "2021-09-06T18:37:00.096Z"
   },
   {
    "duration": 4,
    "start_time": "2021-09-06T18:37:00.955Z"
   },
   {
    "duration": 164,
    "start_time": "2021-09-06T18:37:00.962Z"
   },
   {
    "duration": 109,
    "start_time": "2021-09-06T18:37:01.128Z"
   },
   {
    "duration": 153,
    "start_time": "2021-09-06T18:37:01.255Z"
   },
   {
    "duration": 43,
    "start_time": "2021-09-06T18:37:01.411Z"
   },
   {
    "duration": 17,
    "start_time": "2021-09-06T18:37:01.460Z"
   },
   {
    "duration": 36,
    "start_time": "2021-09-06T18:37:01.482Z"
   },
   {
    "duration": 4,
    "start_time": "2021-09-06T18:37:01.521Z"
   },
   {
    "duration": 31,
    "start_time": "2021-09-06T18:37:01.555Z"
   },
   {
    "duration": 14,
    "start_time": "2021-09-06T18:37:01.589Z"
   },
   {
    "duration": 21,
    "start_time": "2021-09-06T18:37:01.605Z"
   },
   {
    "duration": 33,
    "start_time": "2021-09-06T18:37:01.628Z"
   },
   {
    "duration": 42,
    "start_time": "2021-09-06T18:37:01.664Z"
   },
   {
    "duration": 14,
    "start_time": "2021-09-06T18:37:01.709Z"
   },
   {
    "duration": 22,
    "start_time": "2021-09-06T18:37:01.727Z"
   },
   {
    "duration": 16,
    "start_time": "2021-09-06T18:37:01.755Z"
   },
   {
    "duration": 45,
    "start_time": "2021-09-06T18:37:01.773Z"
   },
   {
    "duration": 10,
    "start_time": "2021-09-06T18:37:01.820Z"
   },
   {
    "duration": 46,
    "start_time": "2021-09-06T18:37:01.832Z"
   },
   {
    "duration": 33,
    "start_time": "2021-09-06T18:37:01.881Z"
   },
   {
    "duration": 7,
    "start_time": "2021-09-06T18:37:01.921Z"
   },
   {
    "duration": 28,
    "start_time": "2021-09-06T18:37:01.931Z"
   },
   {
    "duration": 50,
    "start_time": "2021-09-06T18:37:01.962Z"
   },
   {
    "duration": 7,
    "start_time": "2021-09-06T18:37:02.014Z"
   },
   {
    "duration": 125,
    "start_time": "2021-09-06T18:37:02.023Z"
   },
   {
    "duration": 8,
    "start_time": "2021-09-06T18:37:02.150Z"
   },
   {
    "duration": 33,
    "start_time": "2021-09-06T18:37:02.161Z"
   },
   {
    "duration": 75,
    "start_time": "2021-09-06T18:37:02.196Z"
   },
   {
    "duration": 122,
    "start_time": "2021-09-06T18:37:02.273Z"
   },
   {
    "duration": 10,
    "start_time": "2021-09-06T18:37:02.397Z"
   },
   {
    "duration": 129,
    "start_time": "2021-09-06T18:37:02.409Z"
   },
   {
    "duration": 1826,
    "start_time": "2021-09-06T18:37:02.541Z"
   },
   {
    "duration": 38,
    "start_time": "2021-09-06T18:37:04.370Z"
   },
   {
    "duration": 1743,
    "start_time": "2021-09-06T18:37:04.411Z"
   },
   {
    "duration": 38,
    "start_time": "2021-09-06T18:37:06.156Z"
   },
   {
    "duration": 1880,
    "start_time": "2021-09-06T18:37:06.196Z"
   },
   {
    "duration": 40,
    "start_time": "2021-09-06T18:37:08.080Z"
   },
   {
    "duration": 1745,
    "start_time": "2021-09-06T18:37:08.124Z"
   },
   {
    "duration": 594,
    "start_time": "2021-09-06T18:37:09.872Z"
   },
   {
    "duration": 1902,
    "start_time": "2021-09-06T18:37:10.469Z"
   },
   {
    "duration": 16,
    "start_time": "2021-09-06T18:37:12.373Z"
   },
   {
    "duration": 2462,
    "start_time": "2021-09-06T18:37:12.392Z"
   },
   {
    "duration": 54,
    "start_time": "2021-09-06T18:37:14.857Z"
   },
   {
    "duration": 17,
    "start_time": "2021-09-06T18:37:14.914Z"
   },
   {
    "duration": 13,
    "start_time": "2021-09-06T18:37:14.954Z"
   },
   {
    "duration": 2599,
    "start_time": "2021-09-06T18:37:14.970Z"
   },
   {
    "duration": 5,
    "start_time": "2021-09-06T18:37:17.572Z"
   },
   {
    "duration": 41,
    "start_time": "2021-09-06T18:37:17.579Z"
   },
   {
    "duration": 10,
    "start_time": "2021-09-06T18:37:17.623Z"
   },
   {
    "duration": 27,
    "start_time": "2021-09-06T18:37:17.636Z"
   },
   {
    "duration": 44,
    "start_time": "2021-09-06T18:37:17.665Z"
   },
   {
    "duration": 26,
    "start_time": "2021-09-06T18:37:17.712Z"
   },
   {
    "duration": 24,
    "start_time": "2021-09-06T18:37:17.741Z"
   },
   {
    "duration": 13,
    "start_time": "2021-09-06T18:37:17.768Z"
   },
   {
    "duration": 1574,
    "start_time": "2021-09-06T18:37:17.783Z"
   },
   {
    "duration": 5373,
    "start_time": "2021-09-06T18:37:19.360Z"
   },
   {
    "duration": 31805,
    "start_time": "2021-09-06T18:37:24.736Z"
   },
   {
    "duration": 420,
    "start_time": "2021-09-06T18:37:56.543Z"
   },
   {
    "duration": 767,
    "start_time": "2021-09-06T18:37:56.198Z"
   },
   {
    "duration": 763,
    "start_time": "2021-09-06T18:37:56.204Z"
   },
   {
    "duration": 756,
    "start_time": "2021-09-06T18:37:56.212Z"
   },
   {
    "duration": 750,
    "start_time": "2021-09-06T18:37:56.220Z"
   },
   {
    "duration": 744,
    "start_time": "2021-09-06T18:37:56.227Z"
   },
   {
    "duration": 737,
    "start_time": "2021-09-06T18:37:56.235Z"
   },
   {
    "duration": 732,
    "start_time": "2021-09-06T18:37:56.242Z"
   },
   {
    "duration": 725,
    "start_time": "2021-09-06T18:37:56.250Z"
   },
   {
    "duration": 1029,
    "start_time": "2021-09-06T18:49:10.621Z"
   },
   {
    "duration": 1830,
    "start_time": "2021-09-06T18:49:53.308Z"
   },
   {
    "duration": 1375,
    "start_time": "2021-09-06T18:50:13.501Z"
   },
   {
    "duration": 1134,
    "start_time": "2021-09-06T18:50:29.564Z"
   },
   {
    "duration": 1037,
    "start_time": "2021-09-06T18:54:09.156Z"
   },
   {
    "duration": 1424,
    "start_time": "2021-09-06T18:54:23.108Z"
   },
   {
    "duration": 1514,
    "start_time": "2021-09-06T18:56:54.882Z"
   },
   {
    "duration": 830,
    "start_time": "2021-09-06T18:56:56.399Z"
   },
   {
    "duration": 4,
    "start_time": "2021-09-06T18:56:57.232Z"
   },
   {
    "duration": 153,
    "start_time": "2021-09-06T18:56:57.239Z"
   },
   {
    "duration": 112,
    "start_time": "2021-09-06T18:56:57.395Z"
   },
   {
    "duration": 155,
    "start_time": "2021-09-06T18:56:57.509Z"
   },
   {
    "duration": 23,
    "start_time": "2021-09-06T18:56:57.667Z"
   },
   {
    "duration": 15,
    "start_time": "2021-09-06T18:56:57.694Z"
   },
   {
    "duration": 58,
    "start_time": "2021-09-06T18:56:57.712Z"
   },
   {
    "duration": 4,
    "start_time": "2021-09-06T18:56:57.772Z"
   },
   {
    "duration": 18,
    "start_time": "2021-09-06T18:56:57.778Z"
   },
   {
    "duration": 4,
    "start_time": "2021-09-06T18:56:57.799Z"
   },
   {
    "duration": 11,
    "start_time": "2021-09-06T18:56:57.806Z"
   },
   {
    "duration": 36,
    "start_time": "2021-09-06T18:56:57.820Z"
   },
   {
    "duration": 34,
    "start_time": "2021-09-06T18:56:57.859Z"
   },
   {
    "duration": 15,
    "start_time": "2021-09-06T18:56:57.896Z"
   },
   {
    "duration": 40,
    "start_time": "2021-09-06T18:56:57.914Z"
   },
   {
    "duration": 11,
    "start_time": "2021-09-06T18:56:57.957Z"
   },
   {
    "duration": 38,
    "start_time": "2021-09-06T18:56:57.971Z"
   },
   {
    "duration": 43,
    "start_time": "2021-09-06T18:56:58.012Z"
   },
   {
    "duration": 17,
    "start_time": "2021-09-06T18:56:58.058Z"
   },
   {
    "duration": 34,
    "start_time": "2021-09-06T18:56:58.078Z"
   },
   {
    "duration": 38,
    "start_time": "2021-09-06T18:56:58.117Z"
   },
   {
    "duration": 7,
    "start_time": "2021-09-06T18:56:58.159Z"
   },
   {
    "duration": 49,
    "start_time": "2021-09-06T18:56:58.169Z"
   },
   {
    "duration": 7,
    "start_time": "2021-09-06T18:56:58.220Z"
   },
   {
    "duration": 135,
    "start_time": "2021-09-06T18:56:58.229Z"
   },
   {
    "duration": 6,
    "start_time": "2021-09-06T18:56:58.367Z"
   },
   {
    "duration": 28,
    "start_time": "2021-09-06T18:56:58.375Z"
   },
   {
    "duration": 79,
    "start_time": "2021-09-06T18:56:58.405Z"
   },
   {
    "duration": 128,
    "start_time": "2021-09-06T18:56:58.486Z"
   },
   {
    "duration": 10,
    "start_time": "2021-09-06T18:56:58.616Z"
   },
   {
    "duration": 129,
    "start_time": "2021-09-06T18:56:58.628Z"
   },
   {
    "duration": 1900,
    "start_time": "2021-09-06T18:56:58.759Z"
   },
   {
    "duration": 38,
    "start_time": "2021-09-06T18:57:00.661Z"
   },
   {
    "duration": 2152,
    "start_time": "2021-09-06T18:57:00.702Z"
   },
   {
    "duration": 38,
    "start_time": "2021-09-06T18:57:02.857Z"
   },
   {
    "duration": 1939,
    "start_time": "2021-09-06T18:57:02.898Z"
   },
   {
    "duration": 47,
    "start_time": "2021-09-06T18:57:04.839Z"
   },
   {
    "duration": 1060,
    "start_time": "2021-09-06T18:57:04.889Z"
   },
   {
    "duration": 571,
    "start_time": "2021-09-06T18:57:05.954Z"
   },
   {
    "duration": 1332,
    "start_time": "2021-09-06T18:57:06.527Z"
   },
   {
    "duration": 15,
    "start_time": "2021-09-06T18:57:07.862Z"
   },
   {
    "duration": 2649,
    "start_time": "2021-09-06T18:57:07.880Z"
   },
   {
    "duration": 66,
    "start_time": "2021-09-06T18:57:10.531Z"
   },
   {
    "duration": 17,
    "start_time": "2021-09-06T18:57:10.599Z"
   },
   {
    "duration": 34,
    "start_time": "2021-09-06T18:57:10.618Z"
   },
   {
    "duration": 2583,
    "start_time": "2021-09-06T18:57:10.655Z"
   },
   {
    "duration": 13,
    "start_time": "2021-09-06T18:57:13.241Z"
   },
   {
    "duration": 37,
    "start_time": "2021-09-06T18:57:13.257Z"
   },
   {
    "duration": 8,
    "start_time": "2021-09-06T18:57:13.297Z"
   },
   {
    "duration": 39,
    "start_time": "2021-09-06T18:57:13.308Z"
   },
   {
    "duration": 41,
    "start_time": "2021-09-06T18:57:13.349Z"
   },
   {
    "duration": 39,
    "start_time": "2021-09-06T18:57:13.392Z"
   },
   {
    "duration": 60,
    "start_time": "2021-09-06T18:57:13.433Z"
   },
   {
    "duration": 12,
    "start_time": "2021-09-06T18:57:13.496Z"
   },
   {
    "duration": 1545,
    "start_time": "2021-09-06T18:57:13.511Z"
   },
   {
    "duration": 4964,
    "start_time": "2021-09-06T18:57:15.059Z"
   },
   {
    "duration": 31531,
    "start_time": "2021-09-06T18:57:20.025Z"
   },
   {
    "duration": 390,
    "start_time": "2021-09-06T18:57:51.558Z"
   },
   {
    "duration": 852,
    "start_time": "2021-09-06T18:57:51.099Z"
   },
   {
    "duration": 839,
    "start_time": "2021-09-06T18:57:51.114Z"
   },
   {
    "duration": 825,
    "start_time": "2021-09-06T18:57:51.130Z"
   },
   {
    "duration": 818,
    "start_time": "2021-09-06T18:57:51.139Z"
   },
   {
    "duration": 806,
    "start_time": "2021-09-06T18:57:51.154Z"
   },
   {
    "duration": 792,
    "start_time": "2021-09-06T18:57:51.171Z"
   },
   {
    "duration": 779,
    "start_time": "2021-09-06T18:57:51.186Z"
   },
   {
    "duration": 764,
    "start_time": "2021-09-06T18:57:51.203Z"
   },
   {
    "duration": 39,
    "start_time": "2021-09-06T18:58:55.843Z"
   },
   {
    "duration": 272,
    "start_time": "2021-09-06T18:59:29.061Z"
   },
   {
    "duration": 275,
    "start_time": "2021-09-06T18:59:42.507Z"
   },
   {
    "duration": 23,
    "start_time": "2021-09-06T19:00:38.987Z"
   },
   {
    "duration": 22,
    "start_time": "2021-09-06T19:00:54.588Z"
   },
   {
    "duration": 20,
    "start_time": "2021-09-06T19:01:04.324Z"
   },
   {
    "duration": 21,
    "start_time": "2021-09-06T19:01:09.779Z"
   },
   {
    "duration": 320,
    "start_time": "2021-09-06T19:02:54.380Z"
   },
   {
    "duration": 1574,
    "start_time": "2021-09-06T19:03:29.057Z"
   },
   {
    "duration": 875,
    "start_time": "2021-09-06T19:03:30.634Z"
   },
   {
    "duration": 4,
    "start_time": "2021-09-06T19:03:31.512Z"
   },
   {
    "duration": 154,
    "start_time": "2021-09-06T19:03:31.519Z"
   },
   {
    "duration": 137,
    "start_time": "2021-09-06T19:03:31.675Z"
   },
   {
    "duration": 226,
    "start_time": "2021-09-06T19:03:31.815Z"
   },
   {
    "duration": 27,
    "start_time": "2021-09-06T19:03:32.043Z"
   },
   {
    "duration": 15,
    "start_time": "2021-09-06T19:03:32.074Z"
   },
   {
    "duration": 27,
    "start_time": "2021-09-06T19:03:32.092Z"
   },
   {
    "duration": 5,
    "start_time": "2021-09-06T19:03:32.154Z"
   },
   {
    "duration": 22,
    "start_time": "2021-09-06T19:03:32.163Z"
   },
   {
    "duration": 5,
    "start_time": "2021-09-06T19:03:32.188Z"
   },
   {
    "duration": 19,
    "start_time": "2021-09-06T19:03:32.196Z"
   },
   {
    "duration": 7,
    "start_time": "2021-09-06T19:03:32.218Z"
   },
   {
    "duration": 59,
    "start_time": "2021-09-06T19:03:32.227Z"
   },
   {
    "duration": 13,
    "start_time": "2021-09-06T19:03:32.289Z"
   },
   {
    "duration": 7,
    "start_time": "2021-09-06T19:03:32.305Z"
   },
   {
    "duration": 9,
    "start_time": "2021-09-06T19:03:32.315Z"
   },
   {
    "duration": 63,
    "start_time": "2021-09-06T19:03:32.326Z"
   },
   {
    "duration": 5,
    "start_time": "2021-09-06T19:03:32.391Z"
   },
   {
    "duration": 15,
    "start_time": "2021-09-06T19:03:32.399Z"
   },
   {
    "duration": 58,
    "start_time": "2021-09-06T19:03:32.417Z"
   },
   {
    "duration": 3,
    "start_time": "2021-09-06T19:03:32.482Z"
   },
   {
    "duration": 7,
    "start_time": "2021-09-06T19:03:32.489Z"
   },
   {
    "duration": 73,
    "start_time": "2021-09-06T19:03:32.499Z"
   },
   {
    "duration": 6,
    "start_time": "2021-09-06T19:03:32.575Z"
   },
   {
    "duration": 125,
    "start_time": "2021-09-06T19:03:32.583Z"
   },
   {
    "duration": 7,
    "start_time": "2021-09-06T19:03:32.710Z"
   },
   {
    "duration": 44,
    "start_time": "2021-09-06T19:03:32.719Z"
   },
   {
    "duration": 53,
    "start_time": "2021-09-06T19:03:32.766Z"
   },
   {
    "duration": 145,
    "start_time": "2021-09-06T19:03:32.822Z"
   },
   {
    "duration": 10,
    "start_time": "2021-09-06T19:03:32.970Z"
   },
   {
    "duration": 126,
    "start_time": "2021-09-06T19:03:32.983Z"
   },
   {
    "duration": 1843,
    "start_time": "2021-09-06T19:03:33.111Z"
   },
   {
    "duration": 39,
    "start_time": "2021-09-06T19:03:34.957Z"
   },
   {
    "duration": 2089,
    "start_time": "2021-09-06T19:03:34.998Z"
   },
   {
    "duration": 42,
    "start_time": "2021-09-06T19:03:37.090Z"
   },
   {
    "duration": 1981,
    "start_time": "2021-09-06T19:03:37.135Z"
   },
   {
    "duration": 54,
    "start_time": "2021-09-06T19:03:39.119Z"
   },
   {
    "duration": 1185,
    "start_time": "2021-09-06T19:03:39.176Z"
   },
   {
    "duration": 584,
    "start_time": "2021-09-06T19:03:40.363Z"
   },
   {
    "duration": 1354,
    "start_time": "2021-09-06T19:03:40.954Z"
   },
   {
    "duration": 15,
    "start_time": "2021-09-06T19:03:42.310Z"
   },
   {
    "duration": 2848,
    "start_time": "2021-09-06T19:03:42.328Z"
   },
   {
    "duration": 52,
    "start_time": "2021-09-06T19:03:45.179Z"
   },
   {
    "duration": 29,
    "start_time": "2021-09-06T19:03:45.234Z"
   },
   {
    "duration": 488,
    "start_time": "2021-09-06T19:03:45.265Z"
   },
   {
    "duration": 744,
    "start_time": "2021-09-06T19:03:45.013Z"
   },
   {
    "duration": 705,
    "start_time": "2021-09-06T19:03:45.054Z"
   },
   {
    "duration": 667,
    "start_time": "2021-09-06T19:03:45.094Z"
   },
   {
    "duration": 631,
    "start_time": "2021-09-06T19:03:45.133Z"
   },
   {
    "duration": 622,
    "start_time": "2021-09-06T19:03:45.145Z"
   },
   {
    "duration": 614,
    "start_time": "2021-09-06T19:03:45.155Z"
   },
   {
    "duration": 607,
    "start_time": "2021-09-06T19:03:45.164Z"
   },
   {
    "duration": 599,
    "start_time": "2021-09-06T19:03:45.174Z"
   },
   {
    "duration": 592,
    "start_time": "2021-09-06T19:03:45.183Z"
   },
   {
    "duration": 584,
    "start_time": "2021-09-06T19:03:45.193Z"
   },
   {
    "duration": 576,
    "start_time": "2021-09-06T19:03:45.203Z"
   },
   {
    "duration": 567,
    "start_time": "2021-09-06T19:03:45.214Z"
   },
   {
    "duration": 559,
    "start_time": "2021-09-06T19:03:45.224Z"
   },
   {
    "duration": 535,
    "start_time": "2021-09-06T19:03:45.250Z"
   },
   {
    "duration": 526,
    "start_time": "2021-09-06T19:03:45.261Z"
   },
   {
    "duration": 518,
    "start_time": "2021-09-06T19:03:45.271Z"
   },
   {
    "duration": 511,
    "start_time": "2021-09-06T19:03:45.280Z"
   },
   {
    "duration": 503,
    "start_time": "2021-09-06T19:03:45.291Z"
   },
   {
    "duration": 496,
    "start_time": "2021-09-06T19:03:45.300Z"
   },
   {
    "duration": 487,
    "start_time": "2021-09-06T19:03:45.311Z"
   },
   {
    "duration": 534,
    "start_time": "2021-09-06T19:03:45.321Z"
   },
   {
    "duration": 525,
    "start_time": "2021-09-06T19:03:45.332Z"
   },
   {
    "duration": 15,
    "start_time": "2021-09-06T19:03:56.210Z"
   },
   {
    "duration": 36,
    "start_time": "2021-09-06T19:03:58.703Z"
   },
   {
    "duration": 2560,
    "start_time": "2021-09-06T19:04:03.266Z"
   },
   {
    "duration": 544,
    "start_time": "2021-09-06T19:04:33.635Z"
   },
   {
    "duration": 521,
    "start_time": "2021-09-06T19:05:13.787Z"
   },
   {
    "duration": 677,
    "start_time": "2021-09-06T19:06:17.411Z"
   },
   {
    "duration": 445,
    "start_time": "2021-09-06T19:06:28.635Z"
   },
   {
    "duration": 327,
    "start_time": "2021-09-06T19:06:40.740Z"
   },
   {
    "duration": 409,
    "start_time": "2021-09-06T19:07:01.907Z"
   },
   {
    "duration": 277,
    "start_time": "2021-09-06T19:07:07.896Z"
   },
   {
    "duration": 275,
    "start_time": "2021-09-06T19:07:17.875Z"
   },
   {
    "duration": 42,
    "start_time": "2021-09-06T19:07:44.324Z"
   },
   {
    "duration": 2671,
    "start_time": "2021-09-06T19:08:06.791Z"
   },
   {
    "duration": 42,
    "start_time": "2021-09-06T19:08:22.422Z"
   },
   {
    "duration": 314,
    "start_time": "2021-09-06T19:08:56.211Z"
   },
   {
    "duration": 348,
    "start_time": "2021-09-06T19:09:03.268Z"
   },
   {
    "duration": 278,
    "start_time": "2021-09-06T19:09:12.187Z"
   },
   {
    "duration": 1599,
    "start_time": "2021-09-07T18:42:17.062Z"
   },
   {
    "duration": 919,
    "start_time": "2021-09-07T18:42:18.663Z"
   },
   {
    "duration": 4,
    "start_time": "2021-09-07T18:42:19.585Z"
   },
   {
    "duration": 163,
    "start_time": "2021-09-07T18:42:19.591Z"
   },
   {
    "duration": 122,
    "start_time": "2021-09-07T18:42:19.756Z"
   },
   {
    "duration": 153,
    "start_time": "2021-09-07T18:42:19.880Z"
   },
   {
    "duration": 37,
    "start_time": "2021-09-07T18:42:20.035Z"
   },
   {
    "duration": 16,
    "start_time": "2021-09-07T18:42:20.075Z"
   },
   {
    "duration": 28,
    "start_time": "2021-09-07T18:42:20.095Z"
   },
   {
    "duration": 4,
    "start_time": "2021-09-07T18:42:20.126Z"
   },
   {
    "duration": 15,
    "start_time": "2021-09-07T18:42:20.168Z"
   },
   {
    "duration": 6,
    "start_time": "2021-09-07T18:42:20.186Z"
   },
   {
    "duration": 8,
    "start_time": "2021-09-07T18:42:20.194Z"
   },
   {
    "duration": 6,
    "start_time": "2021-09-07T18:42:20.204Z"
   },
   {
    "duration": 63,
    "start_time": "2021-09-07T18:42:20.213Z"
   },
   {
    "duration": 13,
    "start_time": "2021-09-07T18:42:20.279Z"
   },
   {
    "duration": 8,
    "start_time": "2021-09-07T18:42:20.295Z"
   },
   {
    "duration": 12,
    "start_time": "2021-09-07T18:42:20.305Z"
   },
   {
    "duration": 71,
    "start_time": "2021-09-07T18:42:20.320Z"
   },
   {
    "duration": 6,
    "start_time": "2021-09-07T18:42:20.393Z"
   },
   {
    "duration": 17,
    "start_time": "2021-09-07T18:42:20.401Z"
   },
   {
    "duration": 57,
    "start_time": "2021-09-07T18:42:20.420Z"
   },
   {
    "duration": 3,
    "start_time": "2021-09-07T18:42:20.483Z"
   },
   {
    "duration": 8,
    "start_time": "2021-09-07T18:42:20.489Z"
   },
   {
    "duration": 78,
    "start_time": "2021-09-07T18:42:20.499Z"
   },
   {
    "duration": 7,
    "start_time": "2021-09-07T18:42:20.580Z"
   },
   {
    "duration": 131,
    "start_time": "2021-09-07T18:42:20.590Z"
   },
   {
    "duration": 7,
    "start_time": "2021-09-07T18:42:20.724Z"
   },
   {
    "duration": 54,
    "start_time": "2021-09-07T18:42:20.734Z"
   },
   {
    "duration": 53,
    "start_time": "2021-09-07T18:42:20.791Z"
   },
   {
    "duration": 151,
    "start_time": "2021-09-07T18:42:20.847Z"
   },
   {
    "duration": 10,
    "start_time": "2021-09-07T18:42:21.000Z"
   },
   {
    "duration": 125,
    "start_time": "2021-09-07T18:42:21.012Z"
   },
   {
    "duration": 1900,
    "start_time": "2021-09-07T18:42:21.139Z"
   },
   {
    "duration": 51,
    "start_time": "2021-09-07T18:42:23.042Z"
   },
   {
    "duration": 1762,
    "start_time": "2021-09-07T18:42:23.096Z"
   },
   {
    "duration": 36,
    "start_time": "2021-09-07T18:42:24.867Z"
   },
   {
    "duration": 1909,
    "start_time": "2021-09-07T18:42:24.906Z"
   },
   {
    "duration": 51,
    "start_time": "2021-09-07T18:42:26.817Z"
   },
   {
    "duration": 1060,
    "start_time": "2021-09-07T18:42:26.870Z"
   },
   {
    "duration": 603,
    "start_time": "2021-09-07T18:42:27.932Z"
   },
   {
    "duration": 1461,
    "start_time": "2021-09-07T18:42:28.538Z"
   },
   {
    "duration": 15,
    "start_time": "2021-09-07T18:42:30.002Z"
   },
   {
    "duration": 2691,
    "start_time": "2021-09-07T18:42:30.020Z"
   },
   {
    "duration": 66,
    "start_time": "2021-09-07T18:42:32.713Z"
   },
   {
    "duration": 17,
    "start_time": "2021-09-07T18:42:32.782Z"
   },
   {
    "duration": 7714,
    "start_time": "2021-09-07T18:42:32.801Z"
   },
   {
    "duration": 2800,
    "start_time": "2021-09-07T18:42:37.718Z"
   },
   {
    "duration": 2790,
    "start_time": "2021-09-07T18:42:37.729Z"
   },
   {
    "duration": 2783,
    "start_time": "2021-09-07T18:42:37.738Z"
   },
   {
    "duration": 2774,
    "start_time": "2021-09-07T18:42:37.748Z"
   },
   {
    "duration": 2767,
    "start_time": "2021-09-07T18:42:37.756Z"
   },
   {
    "duration": 2759,
    "start_time": "2021-09-07T18:42:37.765Z"
   },
   {
    "duration": 2753,
    "start_time": "2021-09-07T18:42:37.773Z"
   },
   {
    "duration": 2740,
    "start_time": "2021-09-07T18:42:37.787Z"
   },
   {
    "duration": 2731,
    "start_time": "2021-09-07T18:42:37.797Z"
   },
   {
    "duration": 2712,
    "start_time": "2021-09-07T18:42:37.817Z"
   },
   {
    "duration": 2706,
    "start_time": "2021-09-07T18:42:37.825Z"
   },
   {
    "duration": 2698,
    "start_time": "2021-09-07T18:42:37.834Z"
   },
   {
    "duration": 2690,
    "start_time": "2021-09-07T18:42:37.843Z"
   },
   {
    "duration": 2682,
    "start_time": "2021-09-07T18:42:37.853Z"
   },
   {
    "duration": 2676,
    "start_time": "2021-09-07T18:42:37.861Z"
   },
   {
    "duration": 2667,
    "start_time": "2021-09-07T18:42:37.871Z"
   },
   {
    "duration": 2660,
    "start_time": "2021-09-07T18:42:37.879Z"
   },
   {
    "duration": 2652,
    "start_time": "2021-09-07T18:42:37.889Z"
   },
   {
    "duration": 2643,
    "start_time": "2021-09-07T18:42:37.899Z"
   },
   {
    "duration": 2636,
    "start_time": "2021-09-07T18:42:37.908Z"
   },
   {
    "duration": 2617,
    "start_time": "2021-09-07T18:42:37.928Z"
   },
   {
    "duration": 2608,
    "start_time": "2021-09-07T18:42:37.939Z"
   },
   {
    "duration": 2600,
    "start_time": "2021-09-07T18:42:37.948Z"
   },
   {
    "duration": 2592,
    "start_time": "2021-09-07T18:42:37.957Z"
   },
   {
    "duration": 2585,
    "start_time": "2021-09-07T18:42:37.966Z"
   },
   {
    "duration": 7201,
    "start_time": "2021-09-07T18:45:02.160Z"
   },
   {
    "duration": 18,
    "start_time": "2021-09-07T18:47:47.327Z"
   },
   {
    "duration": 3012,
    "start_time": "2021-09-07T18:48:14.428Z"
   },
   {
    "duration": 48,
    "start_time": "2021-09-07T18:49:47.859Z"
   },
   {
    "duration": 75,
    "start_time": "2021-09-07T18:52:07.730Z"
   },
   {
    "duration": 34,
    "start_time": "2021-09-07T18:55:26.206Z"
   },
   {
    "duration": 336,
    "start_time": "2021-09-07T18:56:04.867Z"
   },
   {
    "duration": 25,
    "start_time": "2021-09-07T19:02:02.461Z"
   },
   {
    "duration": 2753,
    "start_time": "2021-09-07T19:02:21.339Z"
   },
   {
    "duration": 335,
    "start_time": "2021-09-07T19:03:14.210Z"
   },
   {
    "duration": 1649,
    "start_time": "2021-09-07T19:05:16.278Z"
   },
   {
    "duration": 971,
    "start_time": "2021-09-07T19:05:17.930Z"
   },
   {
    "duration": 5,
    "start_time": "2021-09-07T19:05:18.906Z"
   },
   {
    "duration": 177,
    "start_time": "2021-09-07T19:05:18.914Z"
   },
   {
    "duration": 130,
    "start_time": "2021-09-07T19:05:19.094Z"
   },
   {
    "duration": 168,
    "start_time": "2021-09-07T19:05:19.227Z"
   },
   {
    "duration": 24,
    "start_time": "2021-09-07T19:05:19.397Z"
   },
   {
    "duration": 54,
    "start_time": "2021-09-07T19:05:19.424Z"
   },
   {
    "duration": 26,
    "start_time": "2021-09-07T19:05:19.483Z"
   },
   {
    "duration": 4,
    "start_time": "2021-09-07T19:05:19.512Z"
   },
   {
    "duration": 21,
    "start_time": "2021-09-07T19:05:19.518Z"
   },
   {
    "duration": 4,
    "start_time": "2021-09-07T19:05:19.541Z"
   },
   {
    "duration": 11,
    "start_time": "2021-09-07T19:05:19.571Z"
   },
   {
    "duration": 5,
    "start_time": "2021-09-07T19:05:19.584Z"
   },
   {
    "duration": 51,
    "start_time": "2021-09-07T19:05:19.591Z"
   },
   {
    "duration": 29,
    "start_time": "2021-09-07T19:05:19.645Z"
   },
   {
    "duration": 13,
    "start_time": "2021-09-07T19:05:19.677Z"
   },
   {
    "duration": 17,
    "start_time": "2021-09-07T19:05:19.692Z"
   },
   {
    "duration": 69,
    "start_time": "2021-09-07T19:05:19.711Z"
   },
   {
    "duration": 6,
    "start_time": "2021-09-07T19:05:19.782Z"
   },
   {
    "duration": 21,
    "start_time": "2021-09-07T19:05:19.790Z"
   },
   {
    "duration": 32,
    "start_time": "2021-09-07T19:05:19.814Z"
   },
   {
    "duration": 4,
    "start_time": "2021-09-07T19:05:19.874Z"
   },
   {
    "duration": 8,
    "start_time": "2021-09-07T19:05:19.881Z"
   },
   {
    "duration": 44,
    "start_time": "2021-09-07T19:05:19.892Z"
   },
   {
    "duration": 37,
    "start_time": "2021-09-07T19:05:19.939Z"
   },
   {
    "duration": 127,
    "start_time": "2021-09-07T19:05:19.983Z"
   },
   {
    "duration": 6,
    "start_time": "2021-09-07T19:05:20.114Z"
   },
   {
    "duration": 28,
    "start_time": "2021-09-07T19:05:20.122Z"
   },
   {
    "duration": 64,
    "start_time": "2021-09-07T19:05:20.152Z"
   },
   {
    "duration": 143,
    "start_time": "2021-09-07T19:05:20.218Z"
   },
   {
    "duration": 12,
    "start_time": "2021-09-07T19:05:20.366Z"
   },
   {
    "duration": 130,
    "start_time": "2021-09-07T19:05:20.381Z"
   },
   {
    "duration": 2070,
    "start_time": "2021-09-07T19:05:20.513Z"
   },
   {
    "duration": 42,
    "start_time": "2021-09-07T19:05:22.585Z"
   },
   {
    "duration": 2148,
    "start_time": "2021-09-07T19:05:22.629Z"
   },
   {
    "duration": 38,
    "start_time": "2021-09-07T19:05:24.780Z"
   },
   {
    "duration": 2087,
    "start_time": "2021-09-07T19:05:24.820Z"
   },
   {
    "duration": 60,
    "start_time": "2021-09-07T19:05:26.910Z"
   },
   {
    "duration": 1167,
    "start_time": "2021-09-07T19:05:26.973Z"
   },
   {
    "duration": 633,
    "start_time": "2021-09-07T19:05:28.143Z"
   },
   {
    "duration": 1593,
    "start_time": "2021-09-07T19:05:28.779Z"
   },
   {
    "duration": 15,
    "start_time": "2021-09-07T19:05:30.375Z"
   },
   {
    "duration": 2920,
    "start_time": "2021-09-07T19:05:30.392Z"
   },
   {
    "duration": 65,
    "start_time": "2021-09-07T19:05:33.315Z"
   },
   {
    "duration": 326,
    "start_time": "2021-09-07T19:05:33.383Z"
   },
   {
    "duration": 23,
    "start_time": "2021-09-07T19:05:33.711Z"
   },
   {
    "duration": 2827,
    "start_time": "2021-09-07T19:05:33.736Z"
   },
   {
    "duration": 10,
    "start_time": "2021-09-07T19:05:36.568Z"
   },
   {
    "duration": 21,
    "start_time": "2021-09-07T19:05:36.580Z"
   },
   {
    "duration": 557,
    "start_time": "2021-09-07T19:05:36.603Z"
   },
   {
    "duration": 2826,
    "start_time": "2021-09-07T19:05:34.336Z"
   },
   {
    "duration": 2812,
    "start_time": "2021-09-07T19:05:34.351Z"
   },
   {
    "duration": 2805,
    "start_time": "2021-09-07T19:05:34.360Z"
   },
   {
    "duration": 2798,
    "start_time": "2021-09-07T19:05:34.368Z"
   },
   {
    "duration": 2789,
    "start_time": "2021-09-07T19:05:34.378Z"
   },
   {
    "duration": 2782,
    "start_time": "2021-09-07T19:05:34.386Z"
   },
   {
    "duration": 2773,
    "start_time": "2021-09-07T19:05:34.397Z"
   },
   {
    "duration": 2766,
    "start_time": "2021-09-07T19:05:34.405Z"
   },
   {
    "duration": 2757,
    "start_time": "2021-09-07T19:05:34.415Z"
   },
   {
    "duration": 2740,
    "start_time": "2021-09-07T19:05:34.434Z"
   },
   {
    "duration": 2731,
    "start_time": "2021-09-07T19:05:34.444Z"
   },
   {
    "duration": 2724,
    "start_time": "2021-09-07T19:05:34.452Z"
   },
   {
    "duration": 2716,
    "start_time": "2021-09-07T19:05:34.461Z"
   },
   {
    "duration": 2709,
    "start_time": "2021-09-07T19:05:34.470Z"
   },
   {
    "duration": 2691,
    "start_time": "2021-09-07T19:05:34.489Z"
   },
   {
    "duration": 2677,
    "start_time": "2021-09-07T19:05:34.506Z"
   },
   {
    "duration": 2659,
    "start_time": "2021-09-07T19:05:34.525Z"
   },
   {
    "duration": 9,
    "start_time": "2021-09-07T19:06:36.567Z"
   },
   {
    "duration": 8,
    "start_time": "2021-09-07T19:06:39.413Z"
   },
   {
    "duration": 7,
    "start_time": "2021-09-07T19:06:40.500Z"
   },
   {
    "duration": 14,
    "start_time": "2021-09-07T19:06:46.054Z"
   },
   {
    "duration": 5,
    "start_time": "2021-09-07T19:06:48.857Z"
   },
   {
    "duration": 4,
    "start_time": "2021-09-07T19:06:51.218Z"
   },
   {
    "duration": 2023,
    "start_time": "2021-09-07T19:07:02.665Z"
   },
   {
    "duration": 5569,
    "start_time": "2021-09-07T19:07:06.953Z"
   },
   {
    "duration": 32911,
    "start_time": "2021-09-07T19:07:17.834Z"
   },
   {
    "duration": 279,
    "start_time": "2021-09-07T19:07:59.478Z"
   },
   {
    "duration": 26,
    "start_time": "2021-09-07T19:08:08.904Z"
   },
   {
    "duration": 12,
    "start_time": "2021-09-07T19:14:54.168Z"
   },
   {
    "duration": 4,
    "start_time": "2021-09-07T19:14:56.626Z"
   },
   {
    "duration": 548059,
    "start_time": "2021-09-07T19:15:01.875Z"
   },
   {
    "duration": 739650,
    "start_time": "2021-09-07T19:27:54.087Z"
   },
   {
    "duration": 32203,
    "start_time": "2021-09-07T19:40:37.956Z"
   },
   {
    "duration": 185395,
    "start_time": "2021-09-07T19:42:33.004Z"
   },
   {
    "duration": 376803,
    "start_time": "2021-09-07T19:54:58.529Z"
   },
   {
    "duration": 88692,
    "start_time": "2021-09-07T20:03:24.243Z"
   },
   {
    "duration": 2045042,
    "start_time": "2021-09-07T20:05:21.241Z"
   },
   {
    "duration": 6,
    "start_time": "2021-09-07T20:43:43.077Z"
   },
   {
    "duration": 303,
    "start_time": "2021-09-07T20:43:57.413Z"
   },
   {
    "duration": 7,
    "start_time": "2021-09-07T20:45:13.575Z"
   },
   {
    "duration": 4,
    "start_time": "2021-09-07T20:45:55.254Z"
   },
   {
    "duration": 51658,
    "start_time": "2021-09-07T20:47:21.416Z"
   },
   {
    "duration": 64,
    "start_time": "2021-09-07T20:48:23.846Z"
   },
   {
    "duration": 6,
    "start_time": "2021-09-07T20:48:35.495Z"
   },
   {
    "duration": 1475,
    "start_time": "2021-09-08T12:11:56.222Z"
   },
   {
    "duration": 823,
    "start_time": "2021-09-08T12:11:57.700Z"
   },
   {
    "duration": 4,
    "start_time": "2021-09-08T12:11:58.526Z"
   },
   {
    "duration": 144,
    "start_time": "2021-09-08T12:11:58.532Z"
   },
   {
    "duration": 120,
    "start_time": "2021-09-08T12:11:58.683Z"
   },
   {
    "duration": 152,
    "start_time": "2021-09-08T12:11:58.807Z"
   },
   {
    "duration": 31,
    "start_time": "2021-09-08T12:11:58.962Z"
   },
   {
    "duration": 16,
    "start_time": "2021-09-08T12:11:58.999Z"
   },
   {
    "duration": 26,
    "start_time": "2021-09-08T12:11:59.019Z"
   },
   {
    "duration": 5,
    "start_time": "2021-09-08T12:11:59.083Z"
   },
   {
    "duration": 16,
    "start_time": "2021-09-08T12:11:59.091Z"
   },
   {
    "duration": 5,
    "start_time": "2021-09-08T12:11:59.109Z"
   },
   {
    "duration": 8,
    "start_time": "2021-09-08T12:11:59.117Z"
   },
   {
    "duration": 7,
    "start_time": "2021-09-08T12:11:59.127Z"
   },
   {
    "duration": 75,
    "start_time": "2021-09-08T12:11:59.137Z"
   },
   {
    "duration": 15,
    "start_time": "2021-09-08T12:11:59.214Z"
   },
   {
    "duration": 9,
    "start_time": "2021-09-08T12:11:59.232Z"
   },
   {
    "duration": 43,
    "start_time": "2021-09-08T12:11:59.244Z"
   },
   {
    "duration": 33,
    "start_time": "2021-09-08T12:11:59.289Z"
   },
   {
    "duration": 5,
    "start_time": "2021-09-08T12:11:59.324Z"
   },
   {
    "duration": 18,
    "start_time": "2021-09-08T12:11:59.331Z"
   },
   {
    "duration": 57,
    "start_time": "2021-09-08T12:11:59.351Z"
   },
   {
    "duration": 3,
    "start_time": "2021-09-08T12:11:59.413Z"
   },
   {
    "duration": 13,
    "start_time": "2021-09-08T12:11:59.419Z"
   },
   {
    "duration": 57,
    "start_time": "2021-09-08T12:11:59.435Z"
   },
   {
    "duration": 6,
    "start_time": "2021-09-08T12:11:59.494Z"
   },
   {
    "duration": 119,
    "start_time": "2021-09-08T12:11:59.502Z"
   },
   {
    "duration": 5,
    "start_time": "2021-09-08T12:11:59.623Z"
   },
   {
    "duration": 36,
    "start_time": "2021-09-08T12:11:59.631Z"
   },
   {
    "duration": 56,
    "start_time": "2021-09-08T12:11:59.669Z"
   },
   {
    "duration": 127,
    "start_time": "2021-09-08T12:11:59.728Z"
   },
   {
    "duration": 9,
    "start_time": "2021-09-08T12:11:59.857Z"
   },
   {
    "duration": 105,
    "start_time": "2021-09-08T12:11:59.881Z"
   },
   {
    "duration": 1775,
    "start_time": "2021-09-08T12:11:59.988Z"
   },
   {
    "duration": 48,
    "start_time": "2021-09-08T12:12:01.766Z"
   },
   {
    "duration": 1613,
    "start_time": "2021-09-08T12:12:01.816Z"
   },
   {
    "duration": 35,
    "start_time": "2021-09-08T12:12:03.431Z"
   },
   {
    "duration": 1729,
    "start_time": "2021-09-08T12:12:03.483Z"
   },
   {
    "duration": 36,
    "start_time": "2021-09-08T12:12:05.215Z"
   },
   {
    "duration": 977,
    "start_time": "2021-09-08T12:12:05.253Z"
   },
   {
    "duration": 551,
    "start_time": "2021-09-08T12:12:06.233Z"
   },
   {
    "duration": 1248,
    "start_time": "2021-09-08T12:12:06.786Z"
   },
   {
    "duration": 13,
    "start_time": "2021-09-08T12:12:08.037Z"
   },
   {
    "duration": 2439,
    "start_time": "2021-09-08T12:12:08.052Z"
   },
   {
    "duration": 47,
    "start_time": "2021-09-08T12:12:10.494Z"
   },
   {
    "duration": 296,
    "start_time": "2021-09-08T12:12:10.543Z"
   },
   {
    "duration": 19,
    "start_time": "2021-09-08T12:12:10.842Z"
   },
   {
    "duration": 2489,
    "start_time": "2021-09-08T12:12:10.864Z"
   },
   {
    "duration": 6,
    "start_time": "2021-09-08T12:12:13.355Z"
   },
   {
    "duration": 23,
    "start_time": "2021-09-08T12:12:13.363Z"
   },
   {
    "duration": 11,
    "start_time": "2021-09-08T12:12:13.388Z"
   },
   {
    "duration": 10,
    "start_time": "2021-09-08T12:12:13.402Z"
   },
   {
    "duration": 14,
    "start_time": "2021-09-08T12:12:13.414Z"
   },
   {
    "duration": 14,
    "start_time": "2021-09-08T12:12:13.430Z"
   },
   {
    "duration": 3,
    "start_time": "2021-09-08T12:12:28.491Z"
   },
   {
    "duration": 6,
    "start_time": "2021-09-08T12:13:37.203Z"
   }
  ],
  "kernelspec": {
   "display_name": "Python 3 (ipykernel)",
   "language": "python",
   "name": "python3"
  },
  "language_info": {
   "codemirror_mode": {
    "name": "ipython",
    "version": 3
   },
   "file_extension": ".py",
   "mimetype": "text/x-python",
   "name": "python",
   "nbconvert_exporter": "python",
   "pygments_lexer": "ipython3",
   "version": "3.9.5"
  },
  "toc": {
   "base_numbering": 1,
   "nav_menu": {},
   "number_sections": true,
   "sideBar": true,
   "skip_h1_title": true,
   "title_cell": "Содержание",
   "title_sidebar": "Contents",
   "toc_cell": true,
   "toc_position": {},
   "toc_section_display": true,
   "toc_window_display": false
  }
 },
 "nbformat": 4,
 "nbformat_minor": 2
}
