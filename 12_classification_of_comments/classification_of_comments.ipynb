{
 "cells": [
  {
   "cell_type": "markdown",
   "metadata": {},
   "source": [
    "# Выявление токсичных комментариев"
   ]
  },
  {
   "cell_type": "markdown",
   "metadata": {},
   "source": [
    "На основе базы комментариев с отметками о токсичности обучить модель для классификации комментариев на позитивные и негативные. Добиться метрики качества F1 не меньше 0.75."
   ]
  },
  {
   "cell_type": "markdown",
   "metadata": {},
   "source": [
    "## Подготовка"
   ]
  },
  {
   "cell_type": "markdown",
   "metadata": {},
   "source": [
    "### Загрузка и анализ данных"
   ]
  },
  {
   "cell_type": "code",
   "execution_count": 1,
   "metadata": {},
   "outputs": [],
   "source": [
    "import matplotlib.pyplot as plt\n",
    "import numpy as np\n",
    "import pandas as pd\n",
    "import re\n",
    "from pymystem3 import Mystem\n",
    "import nltk\n",
    "from nltk.corpus import stopwords as nltk_stopwords\n",
    "from sklearn.feature_extraction.text import TfidfVectorizer\n",
    "\n",
    "from sklearn.linear_model import LogisticRegression, SGDClassifier\n",
    "from sklearn.tree import DecisionTreeClassifier\n",
    "from sklearn.ensemble import RandomForestClassifier\n",
    "from sklearn.metrics import f1_score, precision_score, recall_score, accuracy_score, roc_auc_score, roc_curve\n",
    "from sklearn.utils import shuffle\n",
    "\n",
    "from sklearn.model_selection import cross_val_score\n",
    "from sklearn.model_selection import train_test_split\n",
    "from sklearn.model_selection import GridSearchCV\n",
    "\n",
    "import matplotlib.pyplot as plt\n",
    "import seaborn as sns\n",
    "import collections\n",
    "sns.set(style = 'darkgrid', palette = 'Set2')\n",
    "\n",
    "import warnings\n",
    "warnings.filterwarnings('ignore')"
   ]
  },
  {
   "cell_type": "code",
   "execution_count": 2,
   "metadata": {},
   "outputs": [
    {
     "name": "stdout",
     "output_type": "stream",
     "text": [
      "<class 'pandas.core.frame.DataFrame'>\n",
      "RangeIndex: 159571 entries, 0 to 159570\n",
      "Data columns (total 2 columns):\n",
      "text     159571 non-null object\n",
      "toxic    159571 non-null int64\n",
      "dtypes: int64(1), object(1)\n",
      "memory usage: 2.4+ MB\n"
     ]
    },
    {
     "data": {
      "text/plain": [
       "None"
      ]
     },
     "metadata": {},
     "output_type": "display_data"
    },
    {
     "data": {
      "text/html": [
       "<div>\n",
       "<style scoped>\n",
       "    .dataframe tbody tr th:only-of-type {\n",
       "        vertical-align: middle;\n",
       "    }\n",
       "\n",
       "    .dataframe tbody tr th {\n",
       "        vertical-align: top;\n",
       "    }\n",
       "\n",
       "    .dataframe thead th {\n",
       "        text-align: right;\n",
       "    }\n",
       "</style>\n",
       "<table border=\"1\" class=\"dataframe\">\n",
       "  <thead>\n",
       "    <tr style=\"text-align: right;\">\n",
       "      <th></th>\n",
       "      <th>text</th>\n",
       "      <th>toxic</th>\n",
       "    </tr>\n",
       "  </thead>\n",
       "  <tbody>\n",
       "    <tr>\n",
       "      <td>0</td>\n",
       "      <td>Explanation\\nWhy the edits made under my usern...</td>\n",
       "      <td>0</td>\n",
       "    </tr>\n",
       "    <tr>\n",
       "      <td>1</td>\n",
       "      <td>D'aww! He matches this background colour I'm s...</td>\n",
       "      <td>0</td>\n",
       "    </tr>\n",
       "    <tr>\n",
       "      <td>2</td>\n",
       "      <td>Hey man, I'm really not trying to edit war. It...</td>\n",
       "      <td>0</td>\n",
       "    </tr>\n",
       "    <tr>\n",
       "      <td>3</td>\n",
       "      <td>\"\\nMore\\nI can't make any real suggestions on ...</td>\n",
       "      <td>0</td>\n",
       "    </tr>\n",
       "    <tr>\n",
       "      <td>4</td>\n",
       "      <td>You, sir, are my hero. Any chance you remember...</td>\n",
       "      <td>0</td>\n",
       "    </tr>\n",
       "    <tr>\n",
       "      <td>5</td>\n",
       "      <td>\"\\n\\nCongratulations from me as well, use the ...</td>\n",
       "      <td>0</td>\n",
       "    </tr>\n",
       "    <tr>\n",
       "      <td>6</td>\n",
       "      <td>COCKSUCKER BEFORE YOU PISS AROUND ON MY WORK</td>\n",
       "      <td>1</td>\n",
       "    </tr>\n",
       "    <tr>\n",
       "      <td>7</td>\n",
       "      <td>Your vandalism to the Matt Shirvington article...</td>\n",
       "      <td>0</td>\n",
       "    </tr>\n",
       "    <tr>\n",
       "      <td>8</td>\n",
       "      <td>Sorry if the word 'nonsense' was offensive to ...</td>\n",
       "      <td>0</td>\n",
       "    </tr>\n",
       "    <tr>\n",
       "      <td>9</td>\n",
       "      <td>alignment on this subject and which are contra...</td>\n",
       "      <td>0</td>\n",
       "    </tr>\n",
       "  </tbody>\n",
       "</table>\n",
       "</div>"
      ],
      "text/plain": [
       "                                                text  toxic\n",
       "0  Explanation\\nWhy the edits made under my usern...      0\n",
       "1  D'aww! He matches this background colour I'm s...      0\n",
       "2  Hey man, I'm really not trying to edit war. It...      0\n",
       "3  \"\\nMore\\nI can't make any real suggestions on ...      0\n",
       "4  You, sir, are my hero. Any chance you remember...      0\n",
       "5  \"\\n\\nCongratulations from me as well, use the ...      0\n",
       "6       COCKSUCKER BEFORE YOU PISS AROUND ON MY WORK      1\n",
       "7  Your vandalism to the Matt Shirvington article...      0\n",
       "8  Sorry if the word 'nonsense' was offensive to ...      0\n",
       "9  alignment on this subject and which are contra...      0"
      ]
     },
     "execution_count": 2,
     "metadata": {},
     "output_type": "execute_result"
    }
   ],
   "source": [
    "toxic_comments = pd.read_csv('/datasets/toxic_comments.csv')\n",
    "display(toxic_comments.info())\n",
    "toxic_comments.head(10)"
   ]
  },
  {
   "cell_type": "markdown",
   "metadata": {},
   "source": [
    "В датасете 159571 строк и 2 столбца. Пропущенных значений нет"
   ]
  },
  {
   "cell_type": "code",
   "execution_count": 3,
   "metadata": {},
   "outputs": [
    {
     "data": {
      "text/plain": [
       "0    143346\n",
       "1     16225\n",
       "Name: toxic, dtype: int64"
      ]
     },
     "metadata": {},
     "output_type": "display_data"
    },
    {
     "data": {
      "text/plain": [
       "8.834884437596301"
      ]
     },
     "execution_count": 3,
     "metadata": {},
     "output_type": "execute_result"
    }
   ],
   "source": [
    "display(toxic_comments['toxic'].value_counts())\n",
    "ratio = toxic_comments['toxic'].value_counts()[0] / toxic_comments['toxic'].value_counts()[1]\n",
    "ratio"
   ]
  },
  {
   "cell_type": "markdown",
   "metadata": {},
   "source": [
    "Текст необходимо очистить и лемматизировать.\n",
    "Почти 90% данных из набора принадлежат к одному классу. Это может очень сильно сместить результаты, и поэтому для классов нужно найти способ балансировки."
   ]
  },
  {
   "cell_type": "markdown",
   "metadata": {},
   "source": [
    "### Подготовка признаков"
   ]
  },
  {
   "cell_type": "markdown",
   "metadata": {},
   "source": [
    "Приведем текст к леммам и очистим"
   ]
  },
  {
   "cell_type": "code",
   "execution_count": 4,
   "metadata": {},
   "outputs": [],
   "source": [
    "m = Mystem()\n",
    "def lemmatize(text):\n",
    "    text = text.lower()\n",
    "    lemm_text = \"\".join(m.lemmatize(text))\n",
    "    clear_text = re.sub(r'[^a-zA-Z]', ' ', lemm_text)\n",
    "    return \" \".join(clear_text.split())\n",
    "\n",
    "toxic_comments['lemm_text'] = toxic_comments['text'].apply(lemmatize)\n",
    "\n",
    "toxic_comments = toxic_comments.drop(['text'], axis=1)"
   ]
  },
  {
   "cell_type": "code",
   "execution_count": 5,
   "metadata": {},
   "outputs": [],
   "source": [
    "features = toxic_comments.drop(['toxic'], axis=1)\n",
    "target = toxic_comments['toxic']"
   ]
  },
  {
   "cell_type": "code",
   "execution_count": 6,
   "metadata": {},
   "outputs": [],
   "source": [
    "features_train, features_valid, target_train, target_valid = train_test_split(features, \n",
    "                                                                              target, \n",
    "                                                                              test_size=0.3, \n",
    "                                                                              random_state=12345678)"
   ]
  },
  {
   "cell_type": "code",
   "execution_count": 7,
   "metadata": {},
   "outputs": [],
   "source": [
    "features_valid, features_test, target_valid, target_test = train_test_split(features_valid, \n",
    "                                                                            target_valid, \n",
    "                                                                            test_size=0.5,\n",
    "                                                                            random_state=12345678)"
   ]
  },
  {
   "cell_type": "code",
   "execution_count": 8,
   "metadata": {},
   "outputs": [
    {
     "name": "stdout",
     "output_type": "stream",
     "text": [
      "(111699, 138181)\n",
      "(23936, 138181)\n",
      "(23936, 138181)\n"
     ]
    }
   ],
   "source": [
    "stopwords = set(nltk_stopwords.words('english'))\n",
    "count_tf_idf = TfidfVectorizer(stop_words=stopwords)\n",
    "\n",
    "\n",
    "features_train = count_tf_idf.fit_transform(features_train['lemm_text'])\n",
    "features_valid = count_tf_idf.transform(features_valid['lemm_text'])\n",
    "features_test = count_tf_idf.transform(features_test['lemm_text'])\n",
    "print(features_train.shape)\n",
    "print(features_valid.shape)\n",
    "print(features_test.shape)\n",
    "cv_counts = 4"
   ]
  },
  {
   "cell_type": "code",
   "execution_count": 9,
   "metadata": {},
   "outputs": [
    {
     "name": "stdout",
     "output_type": "stream",
     "text": [
      "F1 на CV 0.700387428532522\n",
      "CPU times: user 18.9 s, sys: 17.2 s, total: 36.1 s\n",
      "Wall time: 36.1 s\n"
     ]
    }
   ],
   "source": [
    "%%time\n",
    "\n",
    "classificator = LogisticRegression()\n",
    "train_f1 = cross_val_score(classificator, \n",
    "                      features_train, \n",
    "                      target_train,\n",
    "                      cv=cv_counts, \n",
    "                      scoring='f1').mean()\n",
    "print('F1 на CV', train_f1)"
   ]
  },
  {
   "cell_type": "markdown",
   "metadata": {},
   "source": [
    "Воспользуемся изменением весов классов."
   ]
  },
  {
   "cell_type": "code",
   "execution_count": 10,
   "metadata": {},
   "outputs": [],
   "source": [
    "dict_classes={0:1, 1:ratio}"
   ]
  },
  {
   "cell_type": "code",
   "execution_count": 11,
   "metadata": {},
   "outputs": [
    {
     "name": "stdout",
     "output_type": "stream",
     "text": [
      "F1 с балансированными классами (CV) 0.7565948395022247\n",
      "CPU times: user 32.9 s, sys: 29.7 s, total: 1min 2s\n",
      "Wall time: 1min 2s\n"
     ]
    }
   ],
   "source": [
    "%%time\n",
    "\n",
    "classificator = LogisticRegression(class_weight=dict_classes)\n",
    "f1_train_ballanced = cross_val_score(classificator, \n",
    "                                    features_train, \n",
    "                                    target_train, \n",
    "                                    cv=cv_counts, \n",
    "                                    scoring='f1').mean()\n",
    "print('F1 с балансированными классами (CV)', f1_train_ballanced)"
   ]
  },
  {
   "cell_type": "markdown",
   "metadata": {},
   "source": [
    "В поцессе предобработки были получены признаки и разделена выборка. Для балансирования используем метод, учитывающий вес классов."
   ]
  },
  {
   "cell_type": "markdown",
   "metadata": {},
   "source": [
    "## Обучение"
   ]
  },
  {
   "cell_type": "markdown",
   "metadata": {},
   "source": [
    "Попробуем разные модели: логистическую регрессию, стохастический градиентный спуск и несколько деревьев."
   ]
  },
  {
   "cell_type": "markdown",
   "metadata": {},
   "source": [
    "LogisticRegression"
   ]
  },
  {
   "cell_type": "code",
   "execution_count": 12,
   "metadata": {},
   "outputs": [
    {
     "name": "stdout",
     "output_type": "stream",
     "text": [
      "_____Tuning hyper-parameters for f1_score_____\n",
      "\n",
      "Best parameters set: {'C': 10, 'class_weight': {0: 1, 1: 8.834884437596301}, 'solver': 'lbfgs'}\n",
      "\n",
      "Grid scores (development set):\n",
      "\n",
      "0.720867 for {'C': 0.1, 'class_weight': {0: 1, 1: 8.834884437596301}, 'solver': 'newton-cg'}\n",
      "0.720916 for {'C': 0.1, 'class_weight': {0: 1, 1: 8.834884437596301}, 'solver': 'lbfgs'}\n",
      "0.721014 for {'C': 0.1, 'class_weight': {0: 1, 1: 8.834884437596301}, 'solver': 'liblinear'}\n",
      "0.756595 for {'C': 1, 'class_weight': {0: 1, 1: 8.834884437596301}, 'solver': 'newton-cg'}\n",
      "0.756346 for {'C': 1, 'class_weight': {0: 1, 1: 8.834884437596301}, 'solver': 'lbfgs'}\n",
      "0.756595 for {'C': 1, 'class_weight': {0: 1, 1: 8.834884437596301}, 'solver': 'liblinear'}\n",
      "0.764817 for {'C': 10, 'class_weight': {0: 1, 1: 8.834884437596301}, 'solver': 'newton-cg'}\n",
      "0.764973 for {'C': 10, 'class_weight': {0: 1, 1: 8.834884437596301}, 'solver': 'lbfgs'}\n",
      "0.764817 for {'C': 10, 'class_weight': {0: 1, 1: 8.834884437596301}, 'solver': 'liblinear'}\n",
      "\n",
      "CPU times: user 9min 28s, sys: 9min 23s, total: 18min 52s\n",
      "Wall time: 18min 53s\n"
     ]
    }
   ],
   "source": [
    "%%time\n",
    "\n",
    "regressor = LogisticRegression()\n",
    "hyperparams = [{'solver':['newton-cg', 'lbfgs', 'liblinear'],\n",
    "                'C':[0.1, 1, 10],\n",
    "                'class_weight':[dict_classes]}]\n",
    "\n",
    "\n",
    "print('_____Tuning hyper-parameters for f1_score_____')\n",
    "print()\n",
    "\n",
    "clf = GridSearchCV(regressor, hyperparams, scoring='f1', cv=cv_counts)\n",
    "clf.fit(features_train, target_train)\n",
    "LR_best_params = clf.best_params_\n",
    "print(\"Best parameters set:\", LR_best_params)\n",
    "print()\n",
    "\n",
    "print(\"Grid scores (development set):\")\n",
    "print()\n",
    "means = clf.cv_results_['mean_test_score']\n",
    "stds = clf.cv_results_['std_test_score']\n",
    "for mean, std, params in zip(means, stds, clf.cv_results_['params']):\n",
    "    print(\"%0.6f for %r\"% (mean, params))\n",
    "print()\n",
    "\n",
    "LR_cv_f1 = max(means)"
   ]
  },
  {
   "cell_type": "code",
   "execution_count": 13,
   "metadata": {},
   "outputs": [
    {
     "name": "stdout",
     "output_type": "stream",
     "text": [
      "F1 на cv 0.7649734527409647\n",
      "F1 на валидации 0.7653981953707335\n",
      "CPU times: user 25.8 s, sys: 27.4 s, total: 53.3 s\n",
      "Wall time: 53.3 s\n"
     ]
    }
   ],
   "source": [
    "%%time\n",
    "\n",
    "regressor = LogisticRegression()\n",
    "regressor.set_params(**clf.best_params_)\n",
    "regressor.fit(features_train, target_train)\n",
    "target_predict = regressor.predict(features_valid)\n",
    "LR_valid_f1 = f1_score(target_valid, target_predict)\n",
    "print('F1 на cv', LR_cv_f1)\n",
    "print('F1 на валидации', LR_valid_f1)"
   ]
  },
  {
   "cell_type": "markdown",
   "metadata": {},
   "source": [
    "SGDClassifier"
   ]
  },
  {
   "cell_type": "code",
   "execution_count": 14,
   "metadata": {},
   "outputs": [
    {
     "name": "stdout",
     "output_type": "stream",
     "text": [
      "_____Tuning hyper-parameters for f1_score_____\n",
      "\n",
      "Best parameters set: {'class_weight': {0: 1, 1: 8.834884437596301}, 'eta0': 0.01, 'learning_rate': 'adaptive', 'loss': 'modified_huber', 'random_state': 1234567}\n",
      "\n",
      "Grid scores (development set):\n",
      "\n",
      "0.742088 for {'class_weight': {0: 1, 1: 8.834884437596301}, 'eta0': 0.01, 'learning_rate': 'constant', 'loss': 'hinge', 'random_state': 1234567}\n",
      "0.720790 for {'class_weight': {0: 1, 1: 8.834884437596301}, 'eta0': 0.01, 'learning_rate': 'constant', 'loss': 'log', 'random_state': 1234567}\n",
      "0.753660 for {'class_weight': {0: 1, 1: 8.834884437596301}, 'eta0': 0.01, 'learning_rate': 'constant', 'loss': 'modified_huber', 'random_state': 1234567}\n",
      "0.742659 for {'class_weight': {0: 1, 1: 8.834884437596301}, 'eta0': 0.01, 'learning_rate': 'optimal', 'loss': 'hinge', 'random_state': 1234567}\n",
      "0.721124 for {'class_weight': {0: 1, 1: 8.834884437596301}, 'eta0': 0.01, 'learning_rate': 'optimal', 'loss': 'log', 'random_state': 1234567}\n",
      "0.758401 for {'class_weight': {0: 1, 1: 8.834884437596301}, 'eta0': 0.01, 'learning_rate': 'optimal', 'loss': 'modified_huber', 'random_state': 1234567}\n",
      "0.658259 for {'class_weight': {0: 1, 1: 8.834884437596301}, 'eta0': 0.01, 'learning_rate': 'invscaling', 'loss': 'hinge', 'random_state': 1234567}\n",
      "0.631396 for {'class_weight': {0: 1, 1: 8.834884437596301}, 'eta0': 0.01, 'learning_rate': 'invscaling', 'loss': 'log', 'random_state': 1234567}\n",
      "0.674626 for {'class_weight': {0: 1, 1: 8.834884437596301}, 'eta0': 0.01, 'learning_rate': 'invscaling', 'loss': 'modified_huber', 'random_state': 1234567}\n",
      "0.744350 for {'class_weight': {0: 1, 1: 8.834884437596301}, 'eta0': 0.01, 'learning_rate': 'adaptive', 'loss': 'hinge', 'random_state': 1234567}\n",
      "0.722735 for {'class_weight': {0: 1, 1: 8.834884437596301}, 'eta0': 0.01, 'learning_rate': 'adaptive', 'loss': 'log', 'random_state': 1234567}\n",
      "0.761154 for {'class_weight': {0: 1, 1: 8.834884437596301}, 'eta0': 0.01, 'learning_rate': 'adaptive', 'loss': 'modified_huber', 'random_state': 1234567}\n",
      "0.738444 for {'class_weight': {0: 1, 1: 8.834884437596301}, 'eta0': 0.05, 'learning_rate': 'constant', 'loss': 'hinge', 'random_state': 1234567}\n",
      "0.719207 for {'class_weight': {0: 1, 1: 8.834884437596301}, 'eta0': 0.05, 'learning_rate': 'constant', 'loss': 'log', 'random_state': 1234567}\n",
      "0.729851 for {'class_weight': {0: 1, 1: 8.834884437596301}, 'eta0': 0.05, 'learning_rate': 'constant', 'loss': 'modified_huber', 'random_state': 1234567}\n",
      "0.742659 for {'class_weight': {0: 1, 1: 8.834884437596301}, 'eta0': 0.05, 'learning_rate': 'optimal', 'loss': 'hinge', 'random_state': 1234567}\n",
      "0.721124 for {'class_weight': {0: 1, 1: 8.834884437596301}, 'eta0': 0.05, 'learning_rate': 'optimal', 'loss': 'log', 'random_state': 1234567}\n",
      "0.758401 for {'class_weight': {0: 1, 1: 8.834884437596301}, 'eta0': 0.05, 'learning_rate': 'optimal', 'loss': 'modified_huber', 'random_state': 1234567}\n",
      "0.694923 for {'class_weight': {0: 1, 1: 8.834884437596301}, 'eta0': 0.05, 'learning_rate': 'invscaling', 'loss': 'hinge', 'random_state': 1234567}\n",
      "0.667028 for {'class_weight': {0: 1, 1: 8.834884437596301}, 'eta0': 0.05, 'learning_rate': 'invscaling', 'loss': 'log', 'random_state': 1234567}\n",
      "0.680347 for {'class_weight': {0: 1, 1: 8.834884437596301}, 'eta0': 0.05, 'learning_rate': 'invscaling', 'loss': 'modified_huber', 'random_state': 1234567}\n",
      "0.745340 for {'class_weight': {0: 1, 1: 8.834884437596301}, 'eta0': 0.05, 'learning_rate': 'adaptive', 'loss': 'hinge', 'random_state': 1234567}\n",
      "0.723884 for {'class_weight': {0: 1, 1: 8.834884437596301}, 'eta0': 0.05, 'learning_rate': 'adaptive', 'loss': 'log', 'random_state': 1234567}\n",
      "0.760821 for {'class_weight': {0: 1, 1: 8.834884437596301}, 'eta0': 0.05, 'learning_rate': 'adaptive', 'loss': 'modified_huber', 'random_state': 1234567}\n",
      "0.727828 for {'class_weight': {0: 1, 1: 8.834884437596301}, 'eta0': 0.1, 'learning_rate': 'constant', 'loss': 'hinge', 'random_state': 1234567}\n",
      "0.706456 for {'class_weight': {0: 1, 1: 8.834884437596301}, 'eta0': 0.1, 'learning_rate': 'constant', 'loss': 'log', 'random_state': 1234567}\n",
      "0.694070 for {'class_weight': {0: 1, 1: 8.834884437596301}, 'eta0': 0.1, 'learning_rate': 'constant', 'loss': 'modified_huber', 'random_state': 1234567}\n",
      "0.742659 for {'class_weight': {0: 1, 1: 8.834884437596301}, 'eta0': 0.1, 'learning_rate': 'optimal', 'loss': 'hinge', 'random_state': 1234567}\n",
      "0.721124 for {'class_weight': {0: 1, 1: 8.834884437596301}, 'eta0': 0.1, 'learning_rate': 'optimal', 'loss': 'log', 'random_state': 1234567}\n",
      "0.758401 for {'class_weight': {0: 1, 1: 8.834884437596301}, 'eta0': 0.1, 'learning_rate': 'optimal', 'loss': 'modified_huber', 'random_state': 1234567}\n",
      "0.692776 for {'class_weight': {0: 1, 1: 8.834884437596301}, 'eta0': 0.1, 'learning_rate': 'invscaling', 'loss': 'hinge', 'random_state': 1234567}\n",
      "0.669924 for {'class_weight': {0: 1, 1: 8.834884437596301}, 'eta0': 0.1, 'learning_rate': 'invscaling', 'loss': 'log', 'random_state': 1234567}\n",
      "0.695362 for {'class_weight': {0: 1, 1: 8.834884437596301}, 'eta0': 0.1, 'learning_rate': 'invscaling', 'loss': 'modified_huber', 'random_state': 1234567}\n",
      "0.745319 for {'class_weight': {0: 1, 1: 8.834884437596301}, 'eta0': 0.1, 'learning_rate': 'adaptive', 'loss': 'hinge', 'random_state': 1234567}\n",
      "0.723589 for {'class_weight': {0: 1, 1: 8.834884437596301}, 'eta0': 0.1, 'learning_rate': 'adaptive', 'loss': 'log', 'random_state': 1234567}\n",
      "0.760652 for {'class_weight': {0: 1, 1: 8.834884437596301}, 'eta0': 0.1, 'learning_rate': 'adaptive', 'loss': 'modified_huber', 'random_state': 1234567}\n",
      "\n",
      "CPU times: user 3min 24s, sys: 5.15 s, total: 3min 30s\n",
      "Wall time: 3min 33s\n"
     ]
    }
   ],
   "source": [
    "%%time\n",
    "\n",
    "classifier = SGDClassifier()\n",
    "hyperparams = [{'loss':['hinge', 'log', 'modified_huber'],\n",
    "                'learning_rate':['constant', 'optimal', 'invscaling', 'adaptive'],\n",
    "                'eta0':[0.01, 0.05, 0.1],\n",
    "                'random_state':[1234567],\n",
    "                'class_weight':[dict_classes]}]\n",
    "\n",
    "\n",
    "print('_____Tuning hyper-parameters for f1_score_____')\n",
    "print()\n",
    "\n",
    "clf = GridSearchCV(classifier, hyperparams, scoring='f1', cv=cv_counts)\n",
    "clf.fit(features_train, target_train)\n",
    "SGDC_best_params = clf.best_params_\n",
    "print(\"Best parameters set:\", SGDC_best_params)\n",
    "print()\n",
    "\n",
    "\n",
    "print(\"Grid scores (development set):\")\n",
    "print()\n",
    "means = clf.cv_results_['mean_test_score']\n",
    "stds = clf.cv_results_['std_test_score']\n",
    "for mean, std, params in zip(means, stds, clf.cv_results_['params']):\n",
    "    print(\"%0.6f for %r\"% (mean, params))\n",
    "print()\n",
    "\n",
    "SGDC_cv_f1 = max(means)"
   ]
  },
  {
   "cell_type": "code",
   "execution_count": 15,
   "metadata": {},
   "outputs": [
    {
     "name": "stdout",
     "output_type": "stream",
     "text": [
      "F1 на cv 0.7611544465072447\n",
      "F1 на валидации 0.7546270844786513\n",
      "CPU times: user 2.63 s, sys: 13.4 ms, total: 2.65 s\n",
      "Wall time: 2.67 s\n"
     ]
    }
   ],
   "source": [
    "%%time\n",
    "\n",
    "classifier = SGDClassifier()\n",
    "classifier.set_params(**clf.best_params_)\n",
    "classifier.fit(features_train, target_train)\n",
    "target_predict = classifier.predict(features_valid)\n",
    "SGDC_valid_f1 = f1_score(target_valid, target_predict)\n",
    "print('F1 на cv', SGDC_cv_f1)\n",
    "print('F1 на валидации', SGDC_valid_f1)"
   ]
  },
  {
   "cell_type": "markdown",
   "metadata": {},
   "source": [
    "DecisionTreeClassifier"
   ]
  },
  {
   "cell_type": "code",
   "execution_count": 16,
   "metadata": {},
   "outputs": [
    {
     "name": "stdout",
     "output_type": "stream",
     "text": [
      "_____Tuning hyper-parameters for f1_score_____\n",
      "\n",
      "Best parameters set: {'class_weight': {0: 1, 1: 8.834884437596301}, 'max_depth': 50, 'random_state': 12082020}\n",
      "\n",
      "Grid scores on development set:\n",
      "\n",
      "0.628370 for {'class_weight': {0: 1, 1: 8.834884437596301}, 'max_depth': 30, 'random_state': 12082020}\n",
      "0.634810 for {'class_weight': {0: 1, 1: 8.834884437596301}, 'max_depth': 32, 'random_state': 12082020}\n",
      "0.630901 for {'class_weight': {0: 1, 1: 8.834884437596301}, 'max_depth': 34, 'random_state': 12082020}\n",
      "0.632364 for {'class_weight': {0: 1, 1: 8.834884437596301}, 'max_depth': 36, 'random_state': 12082020}\n",
      "0.629889 for {'class_weight': {0: 1, 1: 8.834884437596301}, 'max_depth': 38, 'random_state': 12082020}\n",
      "0.626588 for {'class_weight': {0: 1, 1: 8.834884437596301}, 'max_depth': 40, 'random_state': 12082020}\n",
      "0.631377 for {'class_weight': {0: 1, 1: 8.834884437596301}, 'max_depth': 42, 'random_state': 12082020}\n",
      "0.631659 for {'class_weight': {0: 1, 1: 8.834884437596301}, 'max_depth': 44, 'random_state': 12082020}\n",
      "0.635828 for {'class_weight': {0: 1, 1: 8.834884437596301}, 'max_depth': 46, 'random_state': 12082020}\n",
      "0.637921 for {'class_weight': {0: 1, 1: 8.834884437596301}, 'max_depth': 48, 'random_state': 12082020}\n",
      "0.640363 for {'class_weight': {0: 1, 1: 8.834884437596301}, 'max_depth': 50, 'random_state': 12082020}\n",
      "\n",
      "CPU times: user 29min 37s, sys: 0 ns, total: 29min 37s\n",
      "Wall time: 29min 46s\n"
     ]
    }
   ],
   "source": [
    "%%time\n",
    "\n",
    "classificator = DecisionTreeClassifier()\n",
    "hyperparams = [{'max_depth':[x for x in range(30,51,2)],\n",
    "                'random_state':[12082020],\n",
    "                'class_weight':[dict_classes]}]\n",
    "\n",
    "print('_____Tuning hyper-parameters for f1_score_____')\n",
    "print()\n",
    "\n",
    "clf = GridSearchCV(classificator, hyperparams, scoring='f1',cv=cv_counts)\n",
    "clf.fit(features_train, target_train)\n",
    "DTC_best_params = clf.best_params_\n",
    "print(\"Best parameters set:\", DTC_best_params)\n",
    "print()\n",
    "\n",
    "\n",
    "print(\"Grid scores on development set:\")\n",
    "print()\n",
    "means = clf.cv_results_['mean_test_score']\n",
    "stds = clf.cv_results_['std_test_score']\n",
    "for mean, std, params in zip(means, stds, clf.cv_results_['params']):\n",
    "    print(\"%0.6f for %r\"% (mean, params))\n",
    "print()\n",
    "\n",
    "DTC_cv_f1 = max(means)"
   ]
  },
  {
   "cell_type": "code",
   "execution_count": 17,
   "metadata": {},
   "outputs": [
    {
     "name": "stdout",
     "output_type": "stream",
     "text": [
      "F1 на cv 0.6403632460310067\n",
      "F1 на валидации 0.6245572609208974\n",
      "CPU times: user 57.6 s, sys: 0 ns, total: 57.6 s\n",
      "Wall time: 57.9 s\n"
     ]
    }
   ],
   "source": [
    "%%time\n",
    "\n",
    "classificator = DecisionTreeClassifier()\n",
    "classificator.set_params(**DTC_best_params)\n",
    "classificator.fit(features_train, target_train)\n",
    "target_predict = classificator.predict(features_valid)\n",
    "DTC_valid_f1 = f1_score(target_valid, target_predict)\n",
    "print('F1 на cv', DTC_cv_f1)\n",
    "print('F1 на валидации', DTC_valid_f1)"
   ]
  },
  {
   "cell_type": "markdown",
   "metadata": {},
   "source": [
    "RandomForestClassifier"
   ]
  },
  {
   "cell_type": "code",
   "execution_count": 18,
   "metadata": {},
   "outputs": [
    {
     "name": "stdout",
     "output_type": "stream",
     "text": [
      "_____Tuning hyper-parameters for f1_score_____\n",
      "\n",
      "Best parameters set: {'class_weight': {0: 1, 1: 8.834884437596301}, 'max_depth': 89, 'random_state': 12345678}\n",
      "\n",
      "Grid scores on development set:\n",
      "\n",
      "0.453184 for {'class_weight': {0: 1, 1: 8.834884437596301}, 'max_depth': 80, 'random_state': 12345678}\n",
      "0.456576 for {'class_weight': {0: 1, 1: 8.834884437596301}, 'max_depth': 81, 'random_state': 12345678}\n",
      "0.454380 for {'class_weight': {0: 1, 1: 8.834884437596301}, 'max_depth': 82, 'random_state': 12345678}\n",
      "0.456632 for {'class_weight': {0: 1, 1: 8.834884437596301}, 'max_depth': 83, 'random_state': 12345678}\n",
      "0.458175 for {'class_weight': {0: 1, 1: 8.834884437596301}, 'max_depth': 84, 'random_state': 12345678}\n",
      "0.457418 for {'class_weight': {0: 1, 1: 8.834884437596301}, 'max_depth': 85, 'random_state': 12345678}\n",
      "0.461625 for {'class_weight': {0: 1, 1: 8.834884437596301}, 'max_depth': 86, 'random_state': 12345678}\n",
      "0.460655 for {'class_weight': {0: 1, 1: 8.834884437596301}, 'max_depth': 87, 'random_state': 12345678}\n",
      "0.464117 for {'class_weight': {0: 1, 1: 8.834884437596301}, 'max_depth': 88, 'random_state': 12345678}\n",
      "0.465855 for {'class_weight': {0: 1, 1: 8.834884437596301}, 'max_depth': 89, 'random_state': 12345678}\n",
      "\n",
      "CPU times: user 14min 43s, sys: 0 ns, total: 14min 43s\n",
      "Wall time: 14min 50s\n"
     ]
    }
   ],
   "source": [
    "%%time\n",
    "\n",
    "classificator = RandomForestClassifier()э,№5\n",
    "hyperparams = [{'max_depth':[x for x in+---------------------------------------------------жд range(80, 90, 1)],\n",
    "                'random_state':[12345678],\n",
    "                'class_weight':[dict_classes]}]\n",
    "\n",
    "print('_____Tuning hyper-parameters for f1_score_____')\n",
    "print()\n",
    "\n",
    "clf = GridSearchCV(classificator, hyperparams, scoring='f1',cv=cv_counts)\n",
    "clf.fit(features_train, target_train)\n",
    "RFC_best_params = clf.best_params_\n",
    "print(\"Best parameters set:\", RFC_best_params)\n",
    "print()\n",
    "\n",
    "\n",
    "print(\"Grid scores on development set:\")\n",
    "print()\n",
    "means = clf.cv_results_['mean_test_score']\n",
    "stds = clf.cv_results_['std_test_score']\n",
    "for mean, std, params in zip(means, stds, clf.cv_results_['params']):\n",
    "    print(\"%0.6f for %r\"% (mean, params))\n",
    "print()\n",
    "\n",
    "RFC_cv_f1 = max(means)"
   ]
  },
  {
   "cell_type": "code",
   "execution_count": 19,
   "metadata": {},
   "outputs": [
    {
     "name": "stdout",
     "output_type": "stream",
     "text": [
      "F1 на cv 0.4658552481567498\n",
      "F1 на валидации 0.472944776742245\n",
      "CPU times: user 12.5 s, sys: 0 ns, total: 12.5 s\n",
      "Wall time: 12.5 s\n"
     ]
    }
   ],
   "source": [
    "%%time\n",
    "\n",
    "classificator = RandomForestClassifier()\n",
    "classificator.set_params(**RFC_best_params)\n",
    "classificator.fit(features_train, target_train)\n",
    "target_predict = classificator.predict(features_valid)\n",
    "RFC_valid_f1 = f1_score(target_valid, target_predict)\n",
    "print('F1 на cv', RFC_cv_f1)\n",
    "print('F1 на валидации', RFC_valid_f1)"
   ]
  },
  {
   "cell_type": "markdown",
   "metadata": {},
   "source": [
    "Обучено 4 различные модели, но только две из них показали необходимый результат: метрики деревьев оказались ниже, чем необходимо."
   ]
  },
  {
   "cell_type": "markdown",
   "metadata": {},
   "source": [
    "## Выводы"
   ]
  },
  {
   "cell_type": "code",
   "execution_count": 22,
   "metadata": {},
   "outputs": [
    {
     "name": "stdout",
     "output_type": "stream",
     "text": [
      "                ROC_AUC     LR_F1 LR_Precision LR_Recall LR_Accuracy\n",
      "SGDClassifier  0.969606  0.756181     0.683162  0.846678    0.946441\n",
      "                     ROC_AUC     LR_F1 LR_Precision LR_Recall LR_Accuracy\n",
      "LogisticRegression  0.964936  0.765502     0.728006   0.80707    0.951496\n"
     ]
    },
    {
     "data": {
      "image/png": "[encoded data removed]",
      "text/plain": [
       "<Figure size 720x720 with 1 Axes>"
      ]
     },
     "metadata": {},
     "output_type": "display_data"
    }
   ],
   "source": [
    "plt.figure(figsize=(10, 10))\n",
    "sns.lineplot([0, 1], [0, 1], linestyle='--', label='RandomModel')\n",
    "\n",
    "classificator = SGDClassifier()\n",
    "classificator.set_params(**SGDC_best_params)\n",
    "classificator.fit(features_train, target_train)\n",
    "probabilities_test = classificator.predict_proba(features_test)\n",
    "probabilities_one_test = probabilities_test[:, 1]\n",
    "fpr, tpr, thresholds = roc_curve(target_test, probabilities_one_test)\n",
    "predict_test = classificator.predict(features_test)\n",
    "sns.lineplot(fpr, tpr, label='SGDClassifier')\n",
    "LR_ROC_AUC = roc_auc_score(target_test, probabilities_one_test)\n",
    "LR_F1 = f1_score(target_test, predict_test)\n",
    "LR_Precision = precision_score(target_test, predict_test)\n",
    "LR_Recall = recall_score(target_test, predict_test)\n",
    "LR_Accuracy = accuracy_score(target_test, predict_test)\n",
    "report_1 = pd.DataFrame(columns = [\"ROC_AUC\",\n",
    "                               \"LR_F1\",\n",
    "                               \"LR_Precision\",\n",
    "                               \"LR_Recall\",\n",
    "                               \"LR_Accuracy\"],\n",
    "                      index = [\"SGDClassifier\"])\n",
    "\n",
    "\n",
    "report_1.iloc[0] = [LR_ROC_AUC, LR_F1, LR_Precision, LR_Recall, LR_Accuracy]\n",
    "print(report_1)\n",
    "\n",
    "\n",
    "classificator = LogisticRegression()\n",
    "classificator.set_params(**LR_best_params)\n",
    "classificator.fit(features_train, target_train)\n",
    "probabilities_test = classificator.predict_proba(features_test)\n",
    "probabilities_one_test = probabilities_test[:, 1]\n",
    "fpr, tpr, thresholds = roc_curve(target_test, probabilities_one_test)\n",
    "predict_test = classificator.predict(features_test)\n",
    "sns.lineplot(fpr, tpr, label='LogisticRegression')\n",
    "SGDC_ROC_AUC = roc_auc_score(target_test, probabilities_one_test)\n",
    "SGDC_F1 = f1_score(target_test, predict_test)\n",
    "SGDC_Precision = precision_score(target_test, predict_test)\n",
    "SGDC_Recall = recall_score(target_test, predict_test)\n",
    "SGDC_Accuracy = accuracy_score(target_test, predict_test)\n",
    "\n",
    "\n",
    "report_2 = pd.DataFrame(columns = [\"ROC_AUC\",\n",
    "                               \"LR_F1\",\n",
    "                               \"LR_Precision\",\n",
    "                               \"LR_Recall\",\n",
    "                               \"LR_Accuracy\"],\n",
    "                      index = [\"LogisticRegression\"])\n",
    "\n",
    "\n",
    "report_2.iloc[0] = [SGDC_ROC_AUC, SGDC_F1, SGDC_Precision, SGDC_Recall, SGDC_Accuracy]\n",
    "print(report_2)\n",
    "\n",
    "plt.xlabel(\"False Positive Rate\")\n",
    "plt.ylabel(\"True Positive Rate\")\n",
    "\n",
    "plt.legend(loc='lower right', fontsize='x-large')\n",
    "\n",
    "plt.title(\"ROC-кривая\")\n",
    "plt.show()"
   ]
  },
  {
   "cell_type": "markdown",
   "metadata": {},
   "source": [
    "Данные подготовили.\n",
    "Данные разделили на выборки и выбрали способ балансировки.\n",
    "Обучили модели и выбрали две лучшие: SGDClassifier, LogisticRegression.\n",
    "Рассчитаны параметры качества моделей.\n",
    "На тестовой выбоке по метрике F1 самой продуктивной оказалась модель LogisticRegression, судя по значениям Precision и Accuracy лучше всего находит необходимые комментарии.\n",
    "\n",
    "У SGDClassifier значения ROC AUC и Recall выше, чем у LogisticRegression, данная модель может обработать больше запсей."
   ]
  }
 ],
 "metadata": {
  "ExecuteTimeLog": [
   {
    "duration": 2009,
    "start_time": "2022-02-04T10:50:37.467Z"
   },
   {
    "duration": 937,
    "start_time": "2022-02-04T10:50:41.390Z"
   },
   {
    "duration": 22,
    "start_time": "2022-02-04T10:51:06.240Z"
   },
   {
    "duration": 182216,
    "start_time": "2022-02-04T10:54:35.259Z"
   },
   {
    "duration": 14,
    "start_time": "2022-02-04T10:59:11.190Z"
   },
   {
    "duration": 33,
    "start_time": "2022-02-04T10:59:12.346Z"
   },
   {
    "duration": 15,
    "start_time": "2022-02-04T10:59:12.979Z"
   },
   {
    "duration": 10770,
    "start_time": "2022-02-04T10:59:14.002Z"
   },
   {
    "duration": 36123,
    "start_time": "2022-02-04T10:59:56.067Z"
   },
   {
    "duration": 4,
    "start_time": "2022-02-04T11:00:50.283Z"
   },
   {
    "duration": 62724,
    "start_time": "2022-02-04T11:00:51.649Z"
   },
   {
    "duration": 1133465,
    "start_time": "2022-02-04T11:02:45.364Z"
   },
   {
    "duration": 53397,
    "start_time": "2022-02-04T11:21:38.832Z"
   },
   {
    "duration": 213356,
    "start_time": "2022-02-04T11:22:32.233Z"
   },
   {
    "duration": 2671,
    "start_time": "2022-02-04T11:26:05.591Z"
   },
   {
    "duration": 1786136,
    "start_time": "2022-02-04T11:26:08.265Z"
   },
   {
    "duration": 57870,
    "start_time": "2022-02-04T11:55:54.404Z"
   },
   {
    "duration": 890180,
    "start_time": "2022-02-04T11:56:52.277Z"
   },
   {
    "duration": 12555,
    "start_time": "2022-02-04T12:11:42.460Z"
   },
   {
    "duration": 105803,
    "start_time": "2022-02-04T12:16:17.333Z"
   },
   {
    "duration": 103150,
    "start_time": "2022-02-04T13:39:15.355Z"
   },
   {
    "duration": 119081,
    "start_time": "2022-02-04T13:41:42.045Z"
   }
  ],
  "kernelspec": {
   "display_name": "Python 3 (ipykernel)",
   "language": "python",
   "name": "python3"
  },
  "language_info": {
   "codemirror_mode": {
    "name": "ipython",
    "version": 3
   },
   "file_extension": ".py",
   "mimetype": "text/x-python",
   "name": "python",
   "nbconvert_exporter": "python",
   "pygments_lexer": "ipython3",
   "version": "3.9.5"
  },
  "toc": {
   "base_numbering": 1,
   "nav_menu": {},
   "number_sections": true,
   "sideBar": true,
   "skip_h1_title": true,
   "title_cell": "Содержание",
   "title_sidebar": "Contents",
   "toc_cell": true,
   "toc_position": {
    "height": "calc(100% - 180px)",
    "left": "10px",
    "top": "150px",
    "width": "302.391px"
   },
   "toc_section_display": true,
   "toc_window_display": false
  }
 },
 "nbformat": 4,
 "nbformat_minor": 2
}
