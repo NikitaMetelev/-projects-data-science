{
 "cells": [
  {
   "cell_type": "markdown",
   "metadata": {},
   "source": [
    "# Отток клиентов"
   ]
  },
  {
   "cell_type": "markdown",
   "metadata": {},
   "source": [
    "Из «Бета-Банка» стали уходить клиенты. Каждый месяц. Немного, но заметно. Банковские маркетологи посчитали: сохранять текущих клиентов дешевле, чем привлекать новых.\n",
    "\n",
    "Нужно спрогнозировать, уйдёт клиент из банка в ближайшее время или нет. Вам предоставлены исторические данные о поведении клиентов и расторжении договоров с банком. \n",
    "\n",
    "Постройте модель с предельно большим значением *F1*-меры. Чтобы сдать проект успешно, нужно довести метрику до 0.59. Проверьте *F1*-меру на тестовой выборке самостоятельно.\n",
    "\n",
    "Дополнительно измеряйте *AUC-ROC*, сравнивайте её значение с *F1*-мерой.\n",
    "\n",
    "Источник данных: [https://www.kaggle.com/barelydedicated/bank-customer-churn-modeling](https://www.kaggle.com/barelydedicated/bank-customer-churn-modeling)"
   ]
  },
  {
   "cell_type": "markdown",
   "metadata": {},
   "source": [
    "## Подготовка данных"
   ]
  },
  {
   "cell_type": "code",
   "execution_count": 1,
   "metadata": {},
   "outputs": [],
   "source": [
    "import pandas as pd\n",
    "from sklearn.model_selection import train_test_split\n",
    "from sklearn.tree import DecisionTreeClassifier\n",
    "from sklearn.ensemble import RandomForestClassifier\n",
    "from sklearn.metrics import f1_score\n",
    "from sklearn.linear_model import LogisticRegression\n",
    "from sklearn.preprocessing import StandardScaler\n",
    "from sklearn.metrics import roc_auc_score \n",
    "from sklearn.utils import shuffle\n",
    "from sklearn.metrics import roc_curve\n",
    "import matplotlib.pyplot as plt\n",
    "from sklearn.metrics import confusion_matrix"
   ]
  },
  {
   "cell_type": "code",
   "execution_count": 2,
   "metadata": {},
   "outputs": [],
   "source": [
    "df = pd.read_csv('/datasets/Churn.csv')"
   ]
  },
  {
   "cell_type": "code",
   "execution_count": 3,
   "metadata": {},
   "outputs": [
    {
     "data": {
      "text/html": [
       "<div>\n",
       "<style scoped>\n",
       "    .dataframe tbody tr th:only-of-type {\n",
       "        vertical-align: middle;\n",
       "    }\n",
       "\n",
       "    .dataframe tbody tr th {\n",
       "        vertical-align: top;\n",
       "    }\n",
       "\n",
       "    .dataframe thead th {\n",
       "        text-align: right;\n",
       "    }\n",
       "</style>\n",
       "<table border=\"1\" class=\"dataframe\">\n",
       "  <thead>\n",
       "    <tr style=\"text-align: right;\">\n",
       "      <th></th>\n",
       "      <th>RowNumber</th>\n",
       "      <th>CustomerId</th>\n",
       "      <th>Surname</th>\n",
       "      <th>CreditScore</th>\n",
       "      <th>Geography</th>\n",
       "      <th>Gender</th>\n",
       "      <th>Age</th>\n",
       "      <th>Tenure</th>\n",
       "      <th>Balance</th>\n",
       "      <th>NumOfProducts</th>\n",
       "      <th>HasCrCard</th>\n",
       "      <th>IsActiveMember</th>\n",
       "      <th>EstimatedSalary</th>\n",
       "      <th>Exited</th>\n",
       "    </tr>\n",
       "  </thead>\n",
       "  <tbody>\n",
       "    <tr>\n",
       "      <td>0</td>\n",
       "      <td>1</td>\n",
       "      <td>15634602</td>\n",
       "      <td>Hargrave</td>\n",
       "      <td>619</td>\n",
       "      <td>France</td>\n",
       "      <td>Female</td>\n",
       "      <td>42</td>\n",
       "      <td>2.0</td>\n",
       "      <td>0.00</td>\n",
       "      <td>1</td>\n",
       "      <td>1</td>\n",
       "      <td>1</td>\n",
       "      <td>101348.88</td>\n",
       "      <td>1</td>\n",
       "    </tr>\n",
       "    <tr>\n",
       "      <td>1</td>\n",
       "      <td>2</td>\n",
       "      <td>15647311</td>\n",
       "      <td>Hill</td>\n",
       "      <td>608</td>\n",
       "      <td>Spain</td>\n",
       "      <td>Female</td>\n",
       "      <td>41</td>\n",
       "      <td>1.0</td>\n",
       "      <td>83807.86</td>\n",
       "      <td>1</td>\n",
       "      <td>0</td>\n",
       "      <td>1</td>\n",
       "      <td>112542.58</td>\n",
       "      <td>0</td>\n",
       "    </tr>\n",
       "    <tr>\n",
       "      <td>2</td>\n",
       "      <td>3</td>\n",
       "      <td>15619304</td>\n",
       "      <td>Onio</td>\n",
       "      <td>502</td>\n",
       "      <td>France</td>\n",
       "      <td>Female</td>\n",
       "      <td>42</td>\n",
       "      <td>8.0</td>\n",
       "      <td>159660.80</td>\n",
       "      <td>3</td>\n",
       "      <td>1</td>\n",
       "      <td>0</td>\n",
       "      <td>113931.57</td>\n",
       "      <td>1</td>\n",
       "    </tr>\n",
       "    <tr>\n",
       "      <td>3</td>\n",
       "      <td>4</td>\n",
       "      <td>15701354</td>\n",
       "      <td>Boni</td>\n",
       "      <td>699</td>\n",
       "      <td>France</td>\n",
       "      <td>Female</td>\n",
       "      <td>39</td>\n",
       "      <td>1.0</td>\n",
       "      <td>0.00</td>\n",
       "      <td>2</td>\n",
       "      <td>0</td>\n",
       "      <td>0</td>\n",
       "      <td>93826.63</td>\n",
       "      <td>0</td>\n",
       "    </tr>\n",
       "    <tr>\n",
       "      <td>4</td>\n",
       "      <td>5</td>\n",
       "      <td>15737888</td>\n",
       "      <td>Mitchell</td>\n",
       "      <td>850</td>\n",
       "      <td>Spain</td>\n",
       "      <td>Female</td>\n",
       "      <td>43</td>\n",
       "      <td>2.0</td>\n",
       "      <td>125510.82</td>\n",
       "      <td>1</td>\n",
       "      <td>1</td>\n",
       "      <td>1</td>\n",
       "      <td>79084.10</td>\n",
       "      <td>0</td>\n",
       "    </tr>\n",
       "    <tr>\n",
       "      <td>...</td>\n",
       "      <td>...</td>\n",
       "      <td>...</td>\n",
       "      <td>...</td>\n",
       "      <td>...</td>\n",
       "      <td>...</td>\n",
       "      <td>...</td>\n",
       "      <td>...</td>\n",
       "      <td>...</td>\n",
       "      <td>...</td>\n",
       "      <td>...</td>\n",
       "      <td>...</td>\n",
       "      <td>...</td>\n",
       "      <td>...</td>\n",
       "      <td>...</td>\n",
       "    </tr>\n",
       "    <tr>\n",
       "      <td>9995</td>\n",
       "      <td>9996</td>\n",
       "      <td>15606229</td>\n",
       "      <td>Obijiaku</td>\n",
       "      <td>771</td>\n",
       "      <td>France</td>\n",
       "      <td>Male</td>\n",
       "      <td>39</td>\n",
       "      <td>5.0</td>\n",
       "      <td>0.00</td>\n",
       "      <td>2</td>\n",
       "      <td>1</td>\n",
       "      <td>0</td>\n",
       "      <td>96270.64</td>\n",
       "      <td>0</td>\n",
       "    </tr>\n",
       "    <tr>\n",
       "      <td>9996</td>\n",
       "      <td>9997</td>\n",
       "      <td>15569892</td>\n",
       "      <td>Johnstone</td>\n",
       "      <td>516</td>\n",
       "      <td>France</td>\n",
       "      <td>Male</td>\n",
       "      <td>35</td>\n",
       "      <td>10.0</td>\n",
       "      <td>57369.61</td>\n",
       "      <td>1</td>\n",
       "      <td>1</td>\n",
       "      <td>1</td>\n",
       "      <td>101699.77</td>\n",
       "      <td>0</td>\n",
       "    </tr>\n",
       "    <tr>\n",
       "      <td>9997</td>\n",
       "      <td>9998</td>\n",
       "      <td>15584532</td>\n",
       "      <td>Liu</td>\n",
       "      <td>709</td>\n",
       "      <td>France</td>\n",
       "      <td>Female</td>\n",
       "      <td>36</td>\n",
       "      <td>7.0</td>\n",
       "      <td>0.00</td>\n",
       "      <td>1</td>\n",
       "      <td>0</td>\n",
       "      <td>1</td>\n",
       "      <td>42085.58</td>\n",
       "      <td>1</td>\n",
       "    </tr>\n",
       "    <tr>\n",
       "      <td>9998</td>\n",
       "      <td>9999</td>\n",
       "      <td>15682355</td>\n",
       "      <td>Sabbatini</td>\n",
       "      <td>772</td>\n",
       "      <td>Germany</td>\n",
       "      <td>Male</td>\n",
       "      <td>42</td>\n",
       "      <td>3.0</td>\n",
       "      <td>75075.31</td>\n",
       "      <td>2</td>\n",
       "      <td>1</td>\n",
       "      <td>0</td>\n",
       "      <td>92888.52</td>\n",
       "      <td>1</td>\n",
       "    </tr>\n",
       "    <tr>\n",
       "      <td>9999</td>\n",
       "      <td>10000</td>\n",
       "      <td>15628319</td>\n",
       "      <td>Walker</td>\n",
       "      <td>792</td>\n",
       "      <td>France</td>\n",
       "      <td>Female</td>\n",
       "      <td>28</td>\n",
       "      <td>NaN</td>\n",
       "      <td>130142.79</td>\n",
       "      <td>1</td>\n",
       "      <td>1</td>\n",
       "      <td>0</td>\n",
       "      <td>38190.78</td>\n",
       "      <td>0</td>\n",
       "    </tr>\n",
       "  </tbody>\n",
       "</table>\n",
       "<p>10000 rows × 14 columns</p>\n",
       "</div>"
      ],
      "text/plain": [
       "      RowNumber  CustomerId    Surname  CreditScore Geography  Gender  Age  \\\n",
       "0             1    15634602   Hargrave          619    France  Female   42   \n",
       "1             2    15647311       Hill          608     Spain  Female   41   \n",
       "2             3    15619304       Onio          502    France  Female   42   \n",
       "3             4    15701354       Boni          699    France  Female   39   \n",
       "4             5    15737888   Mitchell          850     Spain  Female   43   \n",
       "...         ...         ...        ...          ...       ...     ...  ...   \n",
       "9995       9996    15606229   Obijiaku          771    France    Male   39   \n",
       "9996       9997    15569892  Johnstone          516    France    Male   35   \n",
       "9997       9998    15584532        Liu          709    France  Female   36   \n",
       "9998       9999    15682355  Sabbatini          772   Germany    Male   42   \n",
       "9999      10000    15628319     Walker          792    France  Female   28   \n",
       "\n",
       "      Tenure    Balance  NumOfProducts  HasCrCard  IsActiveMember  \\\n",
       "0        2.0       0.00              1          1               1   \n",
       "1        1.0   83807.86              1          0               1   \n",
       "2        8.0  159660.80              3          1               0   \n",
       "3        1.0       0.00              2          0               0   \n",
       "4        2.0  125510.82              1          1               1   \n",
       "...      ...        ...            ...        ...             ...   \n",
       "9995     5.0       0.00              2          1               0   \n",
       "9996    10.0   57369.61              1          1               1   \n",
       "9997     7.0       0.00              1          0               1   \n",
       "9998     3.0   75075.31              2          1               0   \n",
       "9999     NaN  130142.79              1          1               0   \n",
       "\n",
       "      EstimatedSalary  Exited  \n",
       "0           101348.88       1  \n",
       "1           112542.58       0  \n",
       "2           113931.57       1  \n",
       "3            93826.63       0  \n",
       "4            79084.10       0  \n",
       "...               ...     ...  \n",
       "9995         96270.64       0  \n",
       "9996        101699.77       0  \n",
       "9997         42085.58       1  \n",
       "9998         92888.52       1  \n",
       "9999         38190.78       0  \n",
       "\n",
       "[10000 rows x 14 columns]"
      ]
     },
     "execution_count": 3,
     "metadata": {},
     "output_type": "execute_result"
    }
   ],
   "source": [
    "df"
   ]
  },
  {
   "cell_type": "code",
   "execution_count": 4,
   "metadata": {},
   "outputs": [
    {
     "name": "stdout",
     "output_type": "stream",
     "text": [
      "<class 'pandas.core.frame.DataFrame'>\n",
      "RangeIndex: 10000 entries, 0 to 9999\n",
      "Data columns (total 14 columns):\n",
      "RowNumber          10000 non-null int64\n",
      "CustomerId         10000 non-null int64\n",
      "Surname            10000 non-null object\n",
      "CreditScore        10000 non-null int64\n",
      "Geography          10000 non-null object\n",
      "Gender             10000 non-null object\n",
      "Age                10000 non-null int64\n",
      "Tenure             9091 non-null float64\n",
      "Balance            10000 non-null float64\n",
      "NumOfProducts      10000 non-null int64\n",
      "HasCrCard          10000 non-null int64\n",
      "IsActiveMember     10000 non-null int64\n",
      "EstimatedSalary    10000 non-null float64\n",
      "Exited             10000 non-null int64\n",
      "dtypes: float64(3), int64(8), object(3)\n",
      "memory usage: 1.1+ MB\n"
     ]
    }
   ],
   "source": [
    "df.info()"
   ]
  },
  {
   "cell_type": "markdown",
   "metadata": {},
   "source": [
    "Заменим пропуски в сроке обслуживания на -1"
   ]
  },
  {
   "cell_type": "code",
   "execution_count": 5,
   "metadata": {},
   "outputs": [],
   "source": [
    "df['Tenure'] = df['Tenure'].fillna(-1)"
   ]
  },
  {
   "cell_type": "code",
   "execution_count": 6,
   "metadata": {},
   "outputs": [
    {
     "data": {
      "text/plain": [
       " 1.0     952\n",
       " 2.0     950\n",
       " 8.0     933\n",
       " 3.0     928\n",
       " 5.0     927\n",
       " 7.0     925\n",
       "-1.0     909\n",
       " 4.0     885\n",
       " 9.0     882\n",
       " 6.0     881\n",
       " 10.0    446\n",
       " 0.0     382\n",
       "Name: Tenure, dtype: int64"
      ]
     },
     "execution_count": 6,
     "metadata": {},
     "output_type": "execute_result"
    }
   ],
   "source": [
    "df['Tenure'].value_counts()"
   ]
  },
  {
   "cell_type": "code",
   "execution_count": 7,
   "metadata": {},
   "outputs": [
    {
     "name": "stdout",
     "output_type": "stream",
     "text": [
      "<class 'pandas.core.frame.DataFrame'>\n",
      "RangeIndex: 10000 entries, 0 to 9999\n",
      "Data columns (total 14 columns):\n",
      "RowNumber          10000 non-null int64\n",
      "CustomerId         10000 non-null int64\n",
      "Surname            10000 non-null object\n",
      "CreditScore        10000 non-null int64\n",
      "Geography          10000 non-null object\n",
      "Gender             10000 non-null object\n",
      "Age                10000 non-null int64\n",
      "Tenure             10000 non-null float64\n",
      "Balance            10000 non-null float64\n",
      "NumOfProducts      10000 non-null int64\n",
      "HasCrCard          10000 non-null int64\n",
      "IsActiveMember     10000 non-null int64\n",
      "EstimatedSalary    10000 non-null float64\n",
      "Exited             10000 non-null int64\n",
      "dtypes: float64(3), int64(8), object(3)\n",
      "memory usage: 1.1+ MB\n"
     ]
    }
   ],
   "source": [
    "df.info()"
   ]
  },
  {
   "cell_type": "code",
   "execution_count": 8,
   "metadata": {},
   "outputs": [
    {
     "data": {
      "text/plain": [
       "0    0.7963\n",
       "1    0.2037\n",
       "Name: Exited, dtype: float64"
      ]
     },
     "execution_count": 8,
     "metadata": {},
     "output_type": "execute_result"
    }
   ],
   "source": [
    "df['Exited'].value_counts(normalize=True)"
   ]
  },
  {
   "cell_type": "markdown",
   "metadata": {},
   "source": [
    "У нас 10000 наблюдений и 14 признаков, целевой признак Exited — факт ухода клиента 1\n",
    "Мы видим дисбаланс классов, ушедших клиентов в 4 раза меньше оставшихся\n",
    "\n",
    "Избавимся от признаков с которыми не будем работать:\n",
    "RowNumber - дублирует индекс и не влияет на целевой признак, также уберем: CustomerId и Surname:"
   ]
  },
  {
   "cell_type": "code",
   "execution_count": 9,
   "metadata": {},
   "outputs": [],
   "source": [
    "df = df.drop(['RowNumber', 'CustomerId', 'Surname'], axis=1)"
   ]
  },
  {
   "cell_type": "code",
   "execution_count": 10,
   "metadata": {},
   "outputs": [
    {
     "data": {
      "text/html": [
       "<div>\n",
       "<style scoped>\n",
       "    .dataframe tbody tr th:only-of-type {\n",
       "        vertical-align: middle;\n",
       "    }\n",
       "\n",
       "    .dataframe tbody tr th {\n",
       "        vertical-align: top;\n",
       "    }\n",
       "\n",
       "    .dataframe thead th {\n",
       "        text-align: right;\n",
       "    }\n",
       "</style>\n",
       "<table border=\"1\" class=\"dataframe\">\n",
       "  <thead>\n",
       "    <tr style=\"text-align: right;\">\n",
       "      <th></th>\n",
       "      <th>CreditScore</th>\n",
       "      <th>Geography</th>\n",
       "      <th>Gender</th>\n",
       "      <th>Age</th>\n",
       "      <th>Tenure</th>\n",
       "      <th>Balance</th>\n",
       "      <th>NumOfProducts</th>\n",
       "      <th>HasCrCard</th>\n",
       "      <th>IsActiveMember</th>\n",
       "      <th>EstimatedSalary</th>\n",
       "      <th>Exited</th>\n",
       "    </tr>\n",
       "  </thead>\n",
       "  <tbody>\n",
       "    <tr>\n",
       "      <td>0</td>\n",
       "      <td>619</td>\n",
       "      <td>France</td>\n",
       "      <td>Female</td>\n",
       "      <td>42</td>\n",
       "      <td>2.0</td>\n",
       "      <td>0.00</td>\n",
       "      <td>1</td>\n",
       "      <td>1</td>\n",
       "      <td>1</td>\n",
       "      <td>101348.88</td>\n",
       "      <td>1</td>\n",
       "    </tr>\n",
       "    <tr>\n",
       "      <td>1</td>\n",
       "      <td>608</td>\n",
       "      <td>Spain</td>\n",
       "      <td>Female</td>\n",
       "      <td>41</td>\n",
       "      <td>1.0</td>\n",
       "      <td>83807.86</td>\n",
       "      <td>1</td>\n",
       "      <td>0</td>\n",
       "      <td>1</td>\n",
       "      <td>112542.58</td>\n",
       "      <td>0</td>\n",
       "    </tr>\n",
       "    <tr>\n",
       "      <td>2</td>\n",
       "      <td>502</td>\n",
       "      <td>France</td>\n",
       "      <td>Female</td>\n",
       "      <td>42</td>\n",
       "      <td>8.0</td>\n",
       "      <td>159660.80</td>\n",
       "      <td>3</td>\n",
       "      <td>1</td>\n",
       "      <td>0</td>\n",
       "      <td>113931.57</td>\n",
       "      <td>1</td>\n",
       "    </tr>\n",
       "  </tbody>\n",
       "</table>\n",
       "</div>"
      ],
      "text/plain": [
       "   CreditScore Geography  Gender  Age  Tenure    Balance  NumOfProducts  \\\n",
       "0          619    France  Female   42     2.0       0.00              1   \n",
       "1          608     Spain  Female   41     1.0   83807.86              1   \n",
       "2          502    France  Female   42     8.0  159660.80              3   \n",
       "\n",
       "   HasCrCard  IsActiveMember  EstimatedSalary  Exited  \n",
       "0          1               1        101348.88       1  \n",
       "1          0               1        112542.58       0  \n",
       "2          1               0        113931.57       1  "
      ]
     },
     "execution_count": 10,
     "metadata": {},
     "output_type": "execute_result"
    }
   ],
   "source": [
    "df.head(3)"
   ]
  },
  {
   "cell_type": "markdown",
   "metadata": {},
   "source": [
    "Создадим дамми-признаки"
   ]
  },
  {
   "cell_type": "code",
   "execution_count": 11,
   "metadata": {},
   "outputs": [
    {
     "data": {
      "text/html": [
       "<div>\n",
       "<style scoped>\n",
       "    .dataframe tbody tr th:only-of-type {\n",
       "        vertical-align: middle;\n",
       "    }\n",
       "\n",
       "    .dataframe tbody tr th {\n",
       "        vertical-align: top;\n",
       "    }\n",
       "\n",
       "    .dataframe thead th {\n",
       "        text-align: right;\n",
       "    }\n",
       "</style>\n",
       "<table border=\"1\" class=\"dataframe\">\n",
       "  <thead>\n",
       "    <tr style=\"text-align: right;\">\n",
       "      <th></th>\n",
       "      <th>creditscore</th>\n",
       "      <th>age</th>\n",
       "      <th>tenure</th>\n",
       "      <th>balance</th>\n",
       "      <th>numofproducts</th>\n",
       "      <th>hascrcard</th>\n",
       "      <th>isactivemember</th>\n",
       "      <th>estimatedsalary</th>\n",
       "      <th>exited</th>\n",
       "      <th>geography_germany</th>\n",
       "      <th>geography_spain</th>\n",
       "      <th>gender_male</th>\n",
       "    </tr>\n",
       "  </thead>\n",
       "  <tbody>\n",
       "    <tr>\n",
       "      <td>0</td>\n",
       "      <td>619</td>\n",
       "      <td>42</td>\n",
       "      <td>2.0</td>\n",
       "      <td>0.00</td>\n",
       "      <td>1</td>\n",
       "      <td>1</td>\n",
       "      <td>1</td>\n",
       "      <td>101348.88</td>\n",
       "      <td>1</td>\n",
       "      <td>0</td>\n",
       "      <td>0</td>\n",
       "      <td>0</td>\n",
       "    </tr>\n",
       "    <tr>\n",
       "      <td>1</td>\n",
       "      <td>608</td>\n",
       "      <td>41</td>\n",
       "      <td>1.0</td>\n",
       "      <td>83807.86</td>\n",
       "      <td>1</td>\n",
       "      <td>0</td>\n",
       "      <td>1</td>\n",
       "      <td>112542.58</td>\n",
       "      <td>0</td>\n",
       "      <td>0</td>\n",
       "      <td>1</td>\n",
       "      <td>0</td>\n",
       "    </tr>\n",
       "    <tr>\n",
       "      <td>2</td>\n",
       "      <td>502</td>\n",
       "      <td>42</td>\n",
       "      <td>8.0</td>\n",
       "      <td>159660.80</td>\n",
       "      <td>3</td>\n",
       "      <td>1</td>\n",
       "      <td>0</td>\n",
       "      <td>113931.57</td>\n",
       "      <td>1</td>\n",
       "      <td>0</td>\n",
       "      <td>0</td>\n",
       "      <td>0</td>\n",
       "    </tr>\n",
       "  </tbody>\n",
       "</table>\n",
       "</div>"
      ],
      "text/plain": [
       "   creditscore  age  tenure    balance  numofproducts  hascrcard  \\\n",
       "0          619   42     2.0       0.00              1          1   \n",
       "1          608   41     1.0   83807.86              1          0   \n",
       "2          502   42     8.0  159660.80              3          1   \n",
       "\n",
       "   isactivemember  estimatedsalary  exited  geography_germany  \\\n",
       "0               1        101348.88       1                  0   \n",
       "1               1        112542.58       0                  0   \n",
       "2               0        113931.57       1                  0   \n",
       "\n",
       "   geography_spain  gender_male  \n",
       "0                0            0  \n",
       "1                1            0  \n",
       "2                0            0  "
      ]
     },
     "execution_count": 11,
     "metadata": {},
     "output_type": "execute_result"
    }
   ],
   "source": [
    "df_ohe = pd.get_dummies(df, drop_first=True)\n",
    "df_ohe.columns = df_ohe.columns.str.lower()\n",
    "df_ohe.head(3)"
   ]
  },
  {
   "cell_type": "markdown",
   "metadata": {},
   "source": [
    "Выделим целевой признак"
   ]
  },
  {
   "cell_type": "code",
   "execution_count": 12,
   "metadata": {},
   "outputs": [],
   "source": [
    "y = df_ohe['exited']\n",
    "x = df_ohe.drop('exited', axis=1)"
   ]
  },
  {
   "cell_type": "markdown",
   "metadata": {},
   "source": [
    "Разделим на 3 выборки"
   ]
  },
  {
   "cell_type": "code",
   "execution_count": 13,
   "metadata": {},
   "outputs": [],
   "source": [
    "x_train, x_test, y_train, y_test = train_test_split(x, y, \n",
    "                                                    train_size=0.6, \n",
    "                                                    random_state=42,\n",
    "                                                    stratify=y).copy()"
   ]
  },
  {
   "cell_type": "code",
   "execution_count": 14,
   "metadata": {},
   "outputs": [],
   "source": [
    "x_valid, x_test, y_valid, y_test = train_test_split(x_test, y_test, \n",
    "                                                    train_size=0.5, \n",
    "                                                    random_state=42,\n",
    "                                                    stratify=y_test).copy()"
   ]
  },
  {
   "cell_type": "code",
   "execution_count": 15,
   "metadata": {},
   "outputs": [
    {
     "name": "stdout",
     "output_type": "stream",
     "text": [
      "0    0.796333\n",
      "1    0.203667\n",
      "Name: exited, dtype: float64\n",
      "0    0.796\n",
      "1    0.204\n",
      "Name: exited, dtype: float64\n",
      "0    0.7965\n",
      "1    0.2035\n",
      "Name: exited, dtype: float64\n"
     ]
    }
   ],
   "source": [
    "print(y_train.value_counts(normalize=True)) \n",
    "print(y_valid.value_counts(normalize=True)) \n",
    "print(y_test.value_counts(normalize=True)) "
   ]
  },
  {
   "cell_type": "code",
   "execution_count": 16,
   "metadata": {},
   "outputs": [
    {
     "name": "stdout",
     "output_type": "stream",
     "text": [
      "6000\n",
      "2000\n",
      "2000\n",
      "10000\n"
     ]
    }
   ],
   "source": [
    "print(len(x_train))\n",
    "print(len(x_test))\n",
    "print(len(x_valid))\n",
    "print(len(x_train)+len(x_valid)+len(x_test))"
   ]
  },
  {
   "cell_type": "markdown",
   "metadata": {},
   "source": [
    "Разбиение прошло успешно"
   ]
  },
  {
   "cell_type": "markdown",
   "metadata": {},
   "source": [
    "Сделаем масштабирование, приведём все числовые фичи к одной шкале."
   ]
  },
  {
   "cell_type": "code",
   "execution_count": 17,
   "metadata": {},
   "outputs": [],
   "source": [
    "numeric = ['creditscore', 'age', 'tenure', 'balance', 'numofproducts', 'estimatedsalary']"
   ]
  },
  {
   "cell_type": "code",
   "execution_count": 18,
   "metadata": {},
   "outputs": [],
   "source": [
    "scaler = StandardScaler()"
   ]
  },
  {
   "cell_type": "code",
   "execution_count": 19,
   "metadata": {},
   "outputs": [
    {
     "name": "stderr",
     "output_type": "stream",
     "text": [
      "/opt/conda/lib/python3.7/site-packages/ipykernel_launcher.py:2: SettingWithCopyWarning: \n",
      "A value is trying to be set on a copy of a slice from a DataFrame.\n",
      "Try using .loc[row_indexer,col_indexer] = value instead\n",
      "\n",
      "See the caveats in the documentation: http://pandas.pydata.org/pandas-docs/stable/user_guide/indexing.html#returning-a-view-versus-a-copy\n",
      "  \n",
      "/opt/conda/lib/python3.7/site-packages/pandas/core/indexing.py:494: SettingWithCopyWarning: \n",
      "A value is trying to be set on a copy of a slice from a DataFrame.\n",
      "Try using .loc[row_indexer,col_indexer] = value instead\n",
      "\n",
      "See the caveats in the documentation: http://pandas.pydata.org/pandas-docs/stable/user_guide/indexing.html#returning-a-view-versus-a-copy\n",
      "  self.obj[item] = s\n"
     ]
    }
   ],
   "source": [
    "scaler.fit(x_train[numeric])\n",
    "x_train[numeric] = scaler.transform(x_train[numeric])\n",
    "x_valid[numeric] = scaler.transform(x_valid[numeric])\n",
    "x_test[numeric] = scaler.transform(x_test[numeric])"
   ]
  },
  {
   "cell_type": "code",
   "execution_count": 20,
   "metadata": {},
   "outputs": [
    {
     "data": {
      "text/html": [
       "<div>\n",
       "<style scoped>\n",
       "    .dataframe tbody tr th:only-of-type {\n",
       "        vertical-align: middle;\n",
       "    }\n",
       "\n",
       "    .dataframe tbody tr th {\n",
       "        vertical-align: top;\n",
       "    }\n",
       "\n",
       "    .dataframe thead th {\n",
       "        text-align: right;\n",
       "    }\n",
       "</style>\n",
       "<table border=\"1\" class=\"dataframe\">\n",
       "  <thead>\n",
       "    <tr style=\"text-align: right;\">\n",
       "      <th></th>\n",
       "      <th>creditscore</th>\n",
       "      <th>age</th>\n",
       "      <th>tenure</th>\n",
       "      <th>balance</th>\n",
       "      <th>numofproducts</th>\n",
       "      <th>hascrcard</th>\n",
       "      <th>isactivemember</th>\n",
       "      <th>estimatedsalary</th>\n",
       "      <th>geography_germany</th>\n",
       "      <th>geography_spain</th>\n",
       "      <th>gender_male</th>\n",
       "    </tr>\n",
       "  </thead>\n",
       "  <tbody>\n",
       "    <tr>\n",
       "      <td>6851</td>\n",
       "      <td>-1.283897</td>\n",
       "      <td>0.008566</td>\n",
       "      <td>1.396319</td>\n",
       "      <td>0.330105</td>\n",
       "      <td>0.783996</td>\n",
       "      <td>1</td>\n",
       "      <td>0</td>\n",
       "      <td>-0.084061</td>\n",
       "      <td>1</td>\n",
       "      <td>0</td>\n",
       "      <td>0</td>\n",
       "    </tr>\n",
       "    <tr>\n",
       "      <td>7026</td>\n",
       "      <td>0.271537</td>\n",
       "      <td>-1.139895</td>\n",
       "      <td>-1.679499</td>\n",
       "      <td>-1.220584</td>\n",
       "      <td>0.783996</td>\n",
       "      <td>0</td>\n",
       "      <td>1</td>\n",
       "      <td>0.264021</td>\n",
       "      <td>0</td>\n",
       "      <td>0</td>\n",
       "      <td>0</td>\n",
       "    </tr>\n",
       "    <tr>\n",
       "      <td>5705</td>\n",
       "      <td>-0.236571</td>\n",
       "      <td>0.104271</td>\n",
       "      <td>0.165992</td>\n",
       "      <td>1.692794</td>\n",
       "      <td>0.783996</td>\n",
       "      <td>1</td>\n",
       "      <td>1</td>\n",
       "      <td>0.515344</td>\n",
       "      <td>1</td>\n",
       "      <td>0</td>\n",
       "      <td>1</td>\n",
       "    </tr>\n",
       "    <tr>\n",
       "      <td>9058</td>\n",
       "      <td>-1.874962</td>\n",
       "      <td>0.869911</td>\n",
       "      <td>-1.679499</td>\n",
       "      <td>1.032566</td>\n",
       "      <td>-0.919109</td>\n",
       "      <td>1</td>\n",
       "      <td>1</td>\n",
       "      <td>0.303842</td>\n",
       "      <td>0</td>\n",
       "      <td>1</td>\n",
       "      <td>0</td>\n",
       "    </tr>\n",
       "    <tr>\n",
       "      <td>9415</td>\n",
       "      <td>1.215167</td>\n",
       "      <td>0.391386</td>\n",
       "      <td>-0.756754</td>\n",
       "      <td>0.851257</td>\n",
       "      <td>0.783996</td>\n",
       "      <td>0</td>\n",
       "      <td>0</td>\n",
       "      <td>-1.400817</td>\n",
       "      <td>1</td>\n",
       "      <td>0</td>\n",
       "      <td>0</td>\n",
       "    </tr>\n",
       "  </tbody>\n",
       "</table>\n",
       "</div>"
      ],
      "text/plain": [
       "      creditscore       age    tenure   balance  numofproducts  hascrcard  \\\n",
       "6851    -1.283897  0.008566  1.396319  0.330105       0.783996          1   \n",
       "7026     0.271537 -1.139895 -1.679499 -1.220584       0.783996          0   \n",
       "5705    -0.236571  0.104271  0.165992  1.692794       0.783996          1   \n",
       "9058    -1.874962  0.869911 -1.679499  1.032566      -0.919109          1   \n",
       "9415     1.215167  0.391386 -0.756754  0.851257       0.783996          0   \n",
       "\n",
       "      isactivemember  estimatedsalary  geography_germany  geography_spain  \\\n",
       "6851               0        -0.084061                  1                0   \n",
       "7026               1         0.264021                  0                0   \n",
       "5705               1         0.515344                  1                0   \n",
       "9058               1         0.303842                  0                1   \n",
       "9415               0        -1.400817                  1                0   \n",
       "\n",
       "      gender_male  \n",
       "6851            0  \n",
       "7026            0  \n",
       "5705            1  \n",
       "9058            0  \n",
       "9415            0  "
      ]
     },
     "execution_count": 20,
     "metadata": {},
     "output_type": "execute_result"
    }
   ],
   "source": [
    "x_train.head()"
   ]
  },
  {
   "cell_type": "markdown",
   "metadata": {},
   "source": [
    "У нас получилось стандартизировать числовые переменные."
   ]
  },
  {
   "cell_type": "markdown",
   "metadata": {},
   "source": [
    "## Исследование задачи"
   ]
  },
  {
   "cell_type": "markdown",
   "metadata": {},
   "source": [
    "У нас биноминальный целевой признак, используем алгоритмы классификации.\n",
    "Начнем с классификатора дерева решений:"
   ]
  },
  {
   "cell_type": "markdown",
   "metadata": {},
   "source": [
    "### Классификатор дерева решений"
   ]
  },
  {
   "cell_type": "code",
   "execution_count": 21,
   "metadata": {},
   "outputs": [
    {
     "name": "stdout",
     "output_type": "stream",
     "text": [
      "DecisionTreeClassifier(class_weight=None, criterion='gini', max_depth=8,\n",
      "                       max_features=None, max_leaf_nodes=None,\n",
      "                       min_impurity_decrease=0.0, min_impurity_split=None,\n",
      "                       min_samples_leaf=1, min_samples_split=2,\n",
      "                       min_weight_fraction_leaf=0.0, presort=False,\n",
      "                       random_state=42, splitter='best')\n",
      "0.5927007299270073\n",
      "CPU times: user 241 ms, sys: 9.23 ms, total: 251 ms\n",
      "Wall time: 268 ms\n"
     ]
    }
   ],
   "source": [
    "%%time\n",
    "best_model = None\n",
    "best_result = 0\n",
    "for depth in range(2, 15):\n",
    "    model = DecisionTreeClassifier(random_state=42, max_depth=depth) \n",
    "    model.fit(x_train, y_train)\n",
    "    y_pred = model.predict(x_valid) \n",
    "    result = f1_score(y_valid, y_pred)\n",
    "    if result > best_result:\n",
    "        best_model = model\n",
    "        best_result = result\n",
    "print(best_model)\n",
    "print(best_result)"
   ]
  },
  {
   "cell_type": "markdown",
   "metadata": {},
   "source": [
    "best_model"
   ]
  },
  {
   "cell_type": "markdown",
   "metadata": {},
   "source": [
    "best_result"
   ]
  },
  {
   "cell_type": "markdown",
   "metadata": {},
   "source": [
    "Наилучший результат с F1-мерой  0.59 дает модель дерева решений с максимальной глубиной глубиной 8"
   ]
  },
  {
   "cell_type": "markdown",
   "metadata": {},
   "source": [
    "### Случайный лес"
   ]
  },
  {
   "cell_type": "code",
   "execution_count": 22,
   "metadata": {},
   "outputs": [
    {
     "name": "stderr",
     "output_type": "stream",
     "text": [
      "/opt/conda/lib/python3.7/site-packages/sklearn/metrics/classification.py:1437: UndefinedMetricWarning: F-score is ill-defined and being set to 0.0 due to no predicted samples.\n",
      "  'precision', 'predicted', average, warn_for)\n",
      "/opt/conda/lib/python3.7/site-packages/sklearn/metrics/classification.py:1437: UndefinedMetricWarning: F-score is ill-defined and being set to 0.0 due to no predicted samples.\n",
      "  'precision', 'predicted', average, warn_for)\n",
      "/opt/conda/lib/python3.7/site-packages/sklearn/metrics/classification.py:1437: UndefinedMetricWarning: F-score is ill-defined and being set to 0.0 due to no predicted samples.\n",
      "  'precision', 'predicted', average, warn_for)\n",
      "/opt/conda/lib/python3.7/site-packages/sklearn/metrics/classification.py:1437: UndefinedMetricWarning: F-score is ill-defined and being set to 0.0 due to no predicted samples.\n",
      "  'precision', 'predicted', average, warn_for)\n",
      "/opt/conda/lib/python3.7/site-packages/sklearn/metrics/classification.py:1437: UndefinedMetricWarning: F-score is ill-defined and being set to 0.0 due to no predicted samples.\n",
      "  'precision', 'predicted', average, warn_for)\n",
      "/opt/conda/lib/python3.7/site-packages/sklearn/metrics/classification.py:1437: UndefinedMetricWarning: F-score is ill-defined and being set to 0.0 due to no predicted samples.\n",
      "  'precision', 'predicted', average, warn_for)\n",
      "/opt/conda/lib/python3.7/site-packages/sklearn/metrics/classification.py:1437: UndefinedMetricWarning: F-score is ill-defined and being set to 0.0 due to no predicted samples.\n",
      "  'precision', 'predicted', average, warn_for)\n",
      "/opt/conda/lib/python3.7/site-packages/sklearn/metrics/classification.py:1437: UndefinedMetricWarning: F-score is ill-defined and being set to 0.0 due to no predicted samples.\n",
      "  'precision', 'predicted', average, warn_for)\n",
      "/opt/conda/lib/python3.7/site-packages/sklearn/metrics/classification.py:1437: UndefinedMetricWarning: F-score is ill-defined and being set to 0.0 due to no predicted samples.\n",
      "  'precision', 'predicted', average, warn_for)\n"
     ]
    },
    {
     "name": "stdout",
     "output_type": "stream",
     "text": [
      "RandomForestClassifier(bootstrap=True, class_weight=None, criterion='gini',\n",
      "                       max_depth=16, max_features='auto', max_leaf_nodes=None,\n",
      "                       min_impurity_decrease=0.0, min_impurity_split=None,\n",
      "                       min_samples_leaf=1, min_samples_split=2,\n",
      "                       min_weight_fraction_leaf=0.0, n_estimators=60,\n",
      "                       n_jobs=None, oob_score=False, random_state=42, verbose=0,\n",
      "                       warm_start=False)\n",
      "0.6242603550295858\n",
      "CPU times: user 1min 9s, sys: 286 ms, total: 1min 10s\n",
      "Wall time: 1min 10s\n"
     ]
    }
   ],
   "source": [
    "%%time\n",
    "best_model = None\n",
    "best_result = 0\n",
    "for est in range(10, 100, 10):\n",
    "    for depth in range (1, 30):\n",
    "        model = RandomForestClassifier(random_state=42, n_estimators=est, max_depth=depth) \n",
    "        model.fit(x_train,y_train)\n",
    "        y_pred = model.predict(x_valid) \n",
    "        result = f1_score(y_valid, y_pred) \n",
    "        if result > best_result:\n",
    "            best_model = model\n",
    "            best_result = result\n",
    "print(best_model)\n",
    "print(best_result)"
   ]
  },
  {
   "cell_type": "code",
   "execution_count": 23,
   "metadata": {},
   "outputs": [
    {
     "name": "stdout",
     "output_type": "stream",
     "text": [
      "RandomForestClassifier(bootstrap=True, class_weight=None, criterion='gini',\n",
      "                       max_depth=16, max_features='auto', max_leaf_nodes=None,\n",
      "                       min_impurity_decrease=0.0, min_impurity_split=None,\n",
      "                       min_samples_leaf=1, min_samples_split=2,\n",
      "                       min_weight_fraction_leaf=0.0, n_estimators=60,\n",
      "                       n_jobs=None, oob_score=False, random_state=42, verbose=0,\n",
      "                       warm_start=False)\n",
      "0.6242603550295858\n",
      "CPU times: user 1min 11s, sys: 236 ms, total: 1min 11s\n",
      "Wall time: 1min 11s\n"
     ]
    }
   ],
   "source": [
    "%%time\n",
    "best_model = None\n",
    "best_result = 0\n",
    "for est in range(50, 70):\n",
    "    for depth in range (10, 20):\n",
    "        model = RandomForestClassifier(random_state=42, n_estimators=est, max_depth=depth) \n",
    "        model.fit(x_train,y_train)\n",
    "        y_pred = model.predict(x_valid) \n",
    "        result = f1_score(y_valid, y_pred) \n",
    "        if result > best_result:\n",
    "            best_model = model\n",
    "            best_result = result\n",
    "print(best_model)\n",
    "print(best_result)"
   ]
  },
  {
   "cell_type": "markdown",
   "metadata": {},
   "source": [
    "Наилучший результат с F1-мерой 0.62 дает модель  случайного  леса с 60 деревьями и максимальной глубиной 16"
   ]
  },
  {
   "cell_type": "markdown",
   "metadata": {},
   "source": [
    "### Логистическая регрессия"
   ]
  },
  {
   "cell_type": "code",
   "execution_count": 24,
   "metadata": {},
   "outputs": [
    {
     "data": {
      "text/plain": [
       "LogisticRegression(C=1.0, class_weight=None, dual=False, fit_intercept=True,\n",
       "                   intercept_scaling=1, l1_ratio=None, max_iter=100,\n",
       "                   multi_class='warn', n_jobs=None, penalty='l2',\n",
       "                   random_state=42, solver='liblinear', tol=0.0001, verbose=0,\n",
       "                   warm_start=False)"
      ]
     },
     "execution_count": 24,
     "metadata": {},
     "output_type": "execute_result"
    }
   ],
   "source": [
    "model = LogisticRegression(random_state=42, solver='liblinear') \n",
    "model.fit(x_train,y_train)"
   ]
  },
  {
   "cell_type": "code",
   "execution_count": 25,
   "metadata": {},
   "outputs": [
    {
     "data": {
      "text/plain": [
       "(0.32792792792792796,)"
      ]
     },
     "execution_count": 25,
     "metadata": {},
     "output_type": "execute_result"
    }
   ],
   "source": [
    "y_pred = model.predict(x_valid) \n",
    "result = f1_score(y_valid, y_pred) ,\n",
    "result"
   ]
  },
  {
   "cell_type": "code",
   "execution_count": 26,
   "metadata": {},
   "outputs": [
    {
     "data": {
      "text/plain": [
       "0.7908091314415214"
      ]
     },
     "execution_count": 26,
     "metadata": {},
     "output_type": "execute_result"
    }
   ],
   "source": [
    "y_proba = model.predict_proba(x_valid)\n",
    "auc_roc = roc_auc_score(y_valid, y_proba[:, 1])\n",
    "auc_roc"
   ]
  },
  {
   "cell_type": "markdown",
   "metadata": {},
   "source": [
    "Очень низкий показатель F1-меры 0.33 дает модель логистической регрессии, AUC ROC  0.79.\n",
    "\n",
    "Необходимо увеличить показатели точности и полносты:"
   ]
  },
  {
   "cell_type": "markdown",
   "metadata": {},
   "source": [
    "## Борьба с дисбалансом"
   ]
  },
  {
   "cell_type": "markdown",
   "metadata": {},
   "source": [
    "Для улучшения нашей модели избавимся от дисбаланса в числовых переменных:"
   ]
  },
  {
   "cell_type": "markdown",
   "metadata": {},
   "source": [
    "numeric = ['creditscore', 'age', 'tenure', 'balance', 'numofproducts', 'estimatedsalary']"
   ]
  },
  {
   "cell_type": "markdown",
   "metadata": {},
   "source": [
    "scaler = StandardScaler()"
   ]
  },
  {
   "cell_type": "markdown",
   "metadata": {},
   "source": [
    "scaler.fit(x_train[numeric])\n",
    "x_train[numeric] = scaler.transform(x_train[numeric])\n",
    "x_valid[numeric] = scaler.transform(x_valid[numeric])\n",
    "x_test[numeric] = scaler.transform(x_test[numeric])"
   ]
  },
  {
   "cell_type": "markdown",
   "metadata": {},
   "source": [
    "\n",
    "Теперь нам необходимо избавиться от дисбаланса классов, сделаем размножив редкий класс, наблюдения с ушедшими клиентами"
   ]
  },
  {
   "cell_type": "code",
   "execution_count": 27,
   "metadata": {},
   "outputs": [],
   "source": [
    "def upsample(features, target, repeat):\n",
    "    features_zeros = features[target == 0]\n",
    "    features_ones = features[target == 1]\n",
    "    target_zeros = target[target == 0]\n",
    "    target_ones = target[target == 1]\n",
    " \n",
    "    features_upsampled = pd.concat([features_zeros] + [features_ones] * repeat)\n",
    "    target_upsampled = pd.concat([target_zeros] + [target_ones] * repeat)\n",
    "    \n",
    "    features_upsampled, target_upsampled = shuffle(\n",
    "        features_upsampled, target_upsampled, random_state=12345)\n",
    "    \n",
    "    return features_upsampled, target_upsampled"
   ]
  },
  {
   "cell_type": "code",
   "execution_count": 28,
   "metadata": {},
   "outputs": [],
   "source": [
    "x_upsampled, y_upsampled = upsample(x_train, y_train, 4)"
   ]
  },
  {
   "cell_type": "code",
   "execution_count": 29,
   "metadata": {},
   "outputs": [
    {
     "name": "stdout",
     "output_type": "stream",
     "text": [
      "6000\n",
      "9666\n",
      "6000\n",
      "9666\n"
     ]
    }
   ],
   "source": [
    "print(len(x_train))\n",
    "print(len(x_upsampled))\n",
    "print(len(y_train))\n",
    "print(len(y_upsampled))"
   ]
  },
  {
   "cell_type": "markdown",
   "metadata": {},
   "source": [
    "У нас получилось избавиться от дисбаланса классов и в числовых переменных, теперь обучим нашу эффективную модель на обработанных данных:"
   ]
  },
  {
   "cell_type": "code",
   "execution_count": 30,
   "metadata": {},
   "outputs": [
    {
     "name": "stdout",
     "output_type": "stream",
     "text": [
      "RandomForestClassifier(bootstrap=True, class_weight=None, criterion='gini',\n",
      "                       max_depth=9, max_features='auto', max_leaf_nodes=None,\n",
      "                       min_impurity_decrease=0.0, min_impurity_split=None,\n",
      "                       min_samples_leaf=1, min_samples_split=2,\n",
      "                       min_weight_fraction_leaf=0.0, n_estimators=60,\n",
      "                       n_jobs=None, oob_score=False, random_state=42, verbose=0,\n",
      "                       warm_start=False)\n",
      "0.6332288401253918\n",
      "CPU times: user 1min 38s, sys: 344 ms, total: 1min 39s\n",
      "Wall time: 1min 39s\n"
     ]
    }
   ],
   "source": [
    "%%time\n",
    "best_model = None\n",
    "best_result = 0\n",
    "for est in range(10, 100, 10):\n",
    "    for depth in range (1, 30):\n",
    "        model = RandomForestClassifier(random_state=42, n_estimators=est, max_depth=depth) \n",
    "        model.fit(x_upsampled,y_upsampled)\n",
    "        y_pred = model.predict(x_valid) \n",
    "        result = f1_score(y_valid, y_pred) \n",
    "        if result > best_result:\n",
    "            best_model = model\n",
    "            best_result = result\n",
    "print(best_model)\n",
    "print(best_result)"
   ]
  },
  {
   "cell_type": "code",
   "execution_count": 31,
   "metadata": {},
   "outputs": [
    {
     "name": "stdout",
     "output_type": "stream",
     "text": [
      "RandomForestClassifier(bootstrap=True, class_weight=None, criterion='gini',\n",
      "                       max_depth=9, max_features='auto', max_leaf_nodes=None,\n",
      "                       min_impurity_decrease=0.0, min_impurity_split=None,\n",
      "                       min_samples_leaf=1, min_samples_split=2,\n",
      "                       min_weight_fraction_leaf=0.0, n_estimators=65,\n",
      "                       n_jobs=None, oob_score=False, random_state=42, verbose=0,\n",
      "                       warm_start=False)\n",
      "0.6358866736621196\n",
      "CPU times: user 3min 31s, sys: 396 ms, total: 3min 31s\n",
      "Wall time: 3min 31s\n"
     ]
    }
   ],
   "source": [
    "%%time\n",
    "best_model = None\n",
    "best_result = 0\n",
    "for est in range(45, 75):\n",
    "    for depth in range (5, 20):\n",
    "        model = RandomForestClassifier(random_state=42, n_estimators=est, max_depth=depth) \n",
    "        model.fit(x_upsampled,y_upsampled)\n",
    "        y_pred = model.predict(x_valid) \n",
    "        result = f1_score(y_valid, y_pred) \n",
    "        if result > best_result:\n",
    "            best_model = model\n",
    "            best_result = result\n",
    "print(best_model)\n",
    "print(best_result)"
   ]
  },
  {
   "cell_type": "markdown",
   "metadata": {},
   "source": [
    "На валидационной выборке получили улучшение F1-меры до 0.6359 при 65 деревьях и максимальной глубине 9"
   ]
  },
  {
   "cell_type": "markdown",
   "metadata": {},
   "source": [
    "Испытаем ещё 1 метод борьбы с дисбалансом:"
   ]
  },
  {
   "cell_type": "code",
   "execution_count": 32,
   "metadata": {},
   "outputs": [
    {
     "name": "stdout",
     "output_type": "stream",
     "text": [
      "RandomForestClassifier(bootstrap=True, class_weight='balanced',\n",
      "                       criterion='gini', max_depth=8, max_features='auto',\n",
      "                       max_leaf_nodes=None, min_impurity_decrease=0.0,\n",
      "                       min_impurity_split=None, min_samples_leaf=1,\n",
      "                       min_samples_split=2, min_weight_fraction_leaf=0.0,\n",
      "                       n_estimators=70, n_jobs=None, oob_score=False,\n",
      "                       random_state=42, verbose=0, warm_start=False)\n",
      "0.6334745762711864\n",
      "CPU times: user 1min 12s, sys: 160 ms, total: 1min 12s\n",
      "Wall time: 1min 12s\n"
     ]
    }
   ],
   "source": [
    "%%time\n",
    "best_model = None\n",
    "best_result = 0\n",
    "for est in range(10, 100, 10):\n",
    "    for depth in range (1, 30):\n",
    "        model = RandomForestClassifier(random_state=42, n_estimators=est, max_depth=depth, class_weight='balanced') \n",
    "        model.fit(x_train,y_train)\n",
    "        y_pred = model.predict(x_valid) \n",
    "        result = f1_score(y_valid, y_pred) \n",
    "        if result > best_result:\n",
    "            best_model = model\n",
    "            best_result = result\n",
    "print(best_model)\n",
    "print(best_result)"
   ]
  },
  {
   "cell_type": "code",
   "execution_count": 33,
   "metadata": {},
   "outputs": [
    {
     "name": "stdout",
     "output_type": "stream",
     "text": [
      "RandomForestClassifier(bootstrap=True, class_weight='balanced',\n",
      "                       criterion='gini', max_depth=8, max_features='auto',\n",
      "                       max_leaf_nodes=None, min_impurity_decrease=0.0,\n",
      "                       min_impurity_split=None, min_samples_leaf=1,\n",
      "                       min_samples_split=2, min_weight_fraction_leaf=0.0,\n",
      "                       n_estimators=56, n_jobs=None, oob_score=False,\n",
      "                       random_state=42, verbose=0, warm_start=False)\n",
      "0.635593220338983\n",
      "CPU times: user 2min 20s, sys: 352 ms, total: 2min 20s\n",
      "Wall time: 2min 20s\n"
     ]
    }
   ],
   "source": [
    "%%time\n",
    "best_model = None\n",
    "best_result = 0\n",
    "for est in range(55, 80):\n",
    "    for depth in range (5, 20):\n",
    "        model = RandomForestClassifier(random_state=42, n_estimators=est, max_depth=depth, class_weight='balanced') \n",
    "        model.fit(x_train,y_train)\n",
    "        y_pred = model.predict(x_valid) \n",
    "        result = f1_score(y_valid, y_pred) \n",
    "        if result > best_result:\n",
    "            best_model = model\n",
    "            best_result = result\n",
    "print(best_model)\n",
    "print(best_result)"
   ]
  },
  {
   "cell_type": "markdown",
   "metadata": {},
   "source": [
    "На валидационной выборке получили улучшение F1-меры до 0.6356 при 56 деревьях и максимальной глубине 8\n",
    "\n",
    "Немного лучший результат дал апсэмплинг"
   ]
  },
  {
   "cell_type": "markdown",
   "metadata": {},
   "source": [
    "## Тестирование модели"
   ]
  },
  {
   "cell_type": "markdown",
   "metadata": {},
   "source": [
    "Проверим нашу модель на тестовой выборке:"
   ]
  },
  {
   "cell_type": "code",
   "execution_count": 35,
   "metadata": {},
   "outputs": [
    {
     "data": {
      "text/plain": [
       "RandomForestClassifier(bootstrap=True, class_weight=None, criterion='gini',\n",
       "                       max_depth=9, max_features='auto', max_leaf_nodes=None,\n",
       "                       min_impurity_decrease=0.0, min_impurity_split=None,\n",
       "                       min_samples_leaf=1, min_samples_split=2,\n",
       "                       min_weight_fraction_leaf=0.0, n_estimators=65,\n",
       "                       n_jobs=None, oob_score=False, random_state=42, verbose=0,\n",
       "                       warm_start=False)"
      ]
     },
     "execution_count": 35,
     "metadata": {},
     "output_type": "execute_result"
    }
   ],
   "source": [
    "model = RandomForestClassifier(random_state=42, n_estimators=65, max_depth=9)\n",
    "model.fit(x_upsampled,y_upsampled)"
   ]
  },
  {
   "cell_type": "code",
   "execution_count": 36,
   "metadata": {},
   "outputs": [],
   "source": [
    "y_pred = model.predict(x_test) "
   ]
  },
  {
   "cell_type": "code",
   "execution_count": 37,
   "metadata": {},
   "outputs": [
    {
     "data": {
      "text/plain": [
       "0.6221743810548979"
      ]
     },
     "execution_count": 37,
     "metadata": {},
     "output_type": "execute_result"
    }
   ],
   "source": [
    "result = f1_score(y_test, y_pred)\n",
    "result"
   ]
  },
  {
   "cell_type": "markdown",
   "metadata": {},
   "source": [
    "F1-мера при проверке модели на тестовой выборке 0,62, выше нашего минимума в 0,59. Говорит о балансе точности и полноты нашей модели, её можно использовать."
   ]
  },
  {
   "cell_type": "code",
   "execution_count": 38,
   "metadata": {},
   "outputs": [],
   "source": [
    "y_proba = model.predict_proba(x_test)"
   ]
  },
  {
   "cell_type": "code",
   "execution_count": 39,
   "metadata": {},
   "outputs": [
    {
     "data": {
      "text/plain": [
       "0.8605539283505385"
      ]
     },
     "execution_count": 39,
     "metadata": {},
     "output_type": "execute_result"
    }
   ],
   "source": [
    "auc_roc = roc_auc_score(y_test, y_proba[:, 1])\n",
    "auc_roc"
   ]
  },
  {
   "cell_type": "code",
   "execution_count": 40,
   "metadata": {},
   "outputs": [
    {
     "data": {
      "text/plain": [
       "Text(0.5, 1.0, 'ROC-кривая')"
      ]
     },
     "execution_count": 40,
     "metadata": {},
     "output_type": "execute_result"
    },
    {
     "data": {
      "image/png": "[encoded data removed]",
      "text/plain": [
       "<Figure size 432x288 with 1 Axes>"
      ]
     },
     "metadata": {
      "needs_background": "light"
     },
     "output_type": "display_data"
    }
   ],
   "source": [
    "fpr, tpr, thresholds = roc_curve(y_test, y_proba[:, 1]) \n",
    "\n",
    "plt.figure()\n",
    "plt.plot(fpr, tpr)# ROC-кривая случайной модели (выглядит как прямая)\n",
    "plt.plot([0, 1], [0, 1], linestyle='--')\n",
    "plt.xlim([0.0, 1.0])\n",
    "plt.ylim([0.0, 1.0])\n",
    "plt.xlabel('False Positive Rate')\n",
    "plt.ylabel('True Positive Rate')\n",
    "plt.title('ROC-кривая')"
   ]
  },
  {
   "cell_type": "markdown",
   "metadata": {},
   "source": [
    "auc_roc = 0.86 показывает нам также, что модель хорошо справляется со своей задачей не упустить клиентов с высокой вероятностью уйти, при этом не сделав много лишних действйи в отношении других клиентов"
   ]
  },
  {
   "cell_type": "markdown",
   "metadata": {},
   "source": [
    "Построим также матрицу ошибок:"
   ]
  },
  {
   "cell_type": "code",
   "execution_count": 41,
   "metadata": {},
   "outputs": [
    {
     "name": "stdout",
     "output_type": "stream",
     "text": [
      "[[1360  233]\n",
      " [ 118  289]]\n"
     ]
    }
   ],
   "source": [
    "print(confusion_matrix(y_test, y_pred))"
   ]
  },
  {
   "cell_type": "markdown",
   "metadata": {},
   "source": [
    "Для 289 клиентов модель верно предсказала уход из банка, при этом упустила 118 ушедших клиентов и дала ложное предсказание ухода для 233."
   ]
  },
  {
   "cell_type": "markdown",
   "metadata": {},
   "source": [
    "## Вывод"
   ]
  },
  {
   "cell_type": "markdown",
   "metadata": {},
   "source": [
    "\n",
    "В ходе работы мы выгрузили и изучили данные:  \n",
    "На входе у нас было 10000 наблюдений и 14 признаков, целевой признак Exited — факт ухода клиента 1  \n",
    "Мы отметили дисбаланс классов, ушедших клиентов в 4 раза меньше оставшихся  \n",
    "\n",
    "Далее мы для правильной  работы алгоритма:  \n",
    " - избавились от лишних признаков  \n",
    " - создали дамми-признаки  \n",
    " - выделили целевой признак  \n",
    " - разделили на 3 выборки\n",
    " \n",
    "Так как у нас биноминальный целевой признак, использовали алгоритмы классификации:\n",
    "\n",
    "- классификатора дерева решений дал наилучший результат с F1-мерой 0.59 дает, с максимальной глубиной глубиной 8\n",
    "- модель случайного леса дала наилучший результат с F1-мерой 0.62,  с 60 деревьями и максимальной глубиной 16\n",
    "- модель логистической регрессии дала показатель F1-меры 0.33, AUC ROC 0.79 не сильно отличается от случайно модели\n",
    "\n",
    "Для улучшения показателей точности и полноты нашей модели мы избавились от дисбаланса классов, обучили новую модель на измененных данных\n",
    "\n",
    "F1-мера при проверке модели на тестовой выборке 0,62, выше нашего минимума в 0,59. Говорит о балансе точности и полноты нашей модели, её можно использовать.\n",
    "auc_roc = 0.86 показывает нам также, что модель хорошо справляется со своей задачей не упустить клиентов с высокой вероятностью уйти, при этом не сделав много лишних действйи в отношении других клиентов"
   ]
  }
 ],
 "metadata": {
  "ExecuteTimeLog": [
   {
    "duration": 225,
    "start_time": "2021-06-13T09:26:58.810Z"
   },
   {
    "duration": 1101,
    "start_time": "2021-06-13T09:27:10.940Z"
   },
   {
    "duration": 35,
    "start_time": "2021-06-13T09:27:13.161Z"
   },
   {
    "duration": 31,
    "start_time": "2021-06-13T09:27:15.878Z"
   },
   {
    "duration": 4,
    "start_time": "2021-06-13T09:27:21.557Z"
   },
   {
    "duration": 8,
    "start_time": "2021-06-13T09:27:30.638Z"
   },
   {
    "duration": 5,
    "start_time": "2021-06-13T09:28:04.020Z"
   },
   {
    "duration": 27,
    "start_time": "2021-06-13T09:28:11.166Z"
   },
   {
    "duration": 7,
    "start_time": "2021-06-13T09:35:26.731Z"
   },
   {
    "duration": 7,
    "start_time": "2021-06-13T09:35:30.615Z"
   },
   {
    "duration": 7,
    "start_time": "2021-06-13T09:35:34.510Z"
   },
   {
    "duration": 7,
    "start_time": "2021-06-13T09:45:15.578Z"
   },
   {
    "duration": 10,
    "start_time": "2021-06-13T09:45:38.196Z"
   },
   {
    "duration": 12,
    "start_time": "2021-06-13T09:47:46.301Z"
   },
   {
    "duration": 238,
    "start_time": "2021-06-13T09:48:04.838Z"
   },
   {
    "duration": 1104,
    "start_time": "2021-06-13T09:48:39.719Z"
   },
   {
    "duration": 29,
    "start_time": "2021-06-13T09:48:40.825Z"
   },
   {
    "duration": 22,
    "start_time": "2021-06-13T09:48:40.856Z"
   },
   {
    "duration": 12,
    "start_time": "2021-06-13T09:48:40.880Z"
   },
   {
    "duration": 9,
    "start_time": "2021-06-13T09:48:40.895Z"
   },
   {
    "duration": 9,
    "start_time": "2021-06-13T09:48:40.906Z"
   },
   {
    "duration": 7,
    "start_time": "2021-06-13T09:48:40.917Z"
   },
   {
    "duration": 5,
    "start_time": "2021-06-13T09:48:40.927Z"
   },
   {
    "duration": 3,
    "start_time": "2021-06-13T09:48:40.934Z"
   },
   {
    "duration": 11,
    "start_time": "2021-06-13T09:48:40.939Z"
   },
   {
    "duration": 57,
    "start_time": "2021-06-13T09:48:40.951Z"
   },
   {
    "duration": 7,
    "start_time": "2021-06-13T09:48:41.010Z"
   },
   {
    "duration": 9,
    "start_time": "2021-06-13T09:48:41.019Z"
   },
   {
    "duration": 275,
    "start_time": "2021-06-13T09:48:41.029Z"
   },
   {
    "duration": 643,
    "start_time": "2021-06-13T09:48:40.665Z"
   },
   {
    "duration": 640,
    "start_time": "2021-06-13T09:48:40.669Z"
   },
   {
    "duration": 637,
    "start_time": "2021-06-13T09:48:40.673Z"
   },
   {
    "duration": 634,
    "start_time": "2021-06-13T09:48:40.677Z"
   },
   {
    "duration": 631,
    "start_time": "2021-06-13T09:48:40.681Z"
   },
   {
    "duration": 628,
    "start_time": "2021-06-13T09:48:40.685Z"
   },
   {
    "duration": 625,
    "start_time": "2021-06-13T09:48:40.689Z"
   },
   {
    "duration": 622,
    "start_time": "2021-06-13T09:48:40.693Z"
   },
   {
    "duration": 618,
    "start_time": "2021-06-13T09:48:40.698Z"
   },
   {
    "duration": 615,
    "start_time": "2021-06-13T09:48:40.702Z"
   },
   {
    "duration": 612,
    "start_time": "2021-06-13T09:48:40.706Z"
   },
   {
    "duration": 608,
    "start_time": "2021-06-13T09:48:40.710Z"
   },
   {
    "duration": 605,
    "start_time": "2021-06-13T09:48:40.714Z"
   },
   {
    "duration": 602,
    "start_time": "2021-06-13T09:48:40.718Z"
   },
   {
    "duration": 598,
    "start_time": "2021-06-13T09:48:40.723Z"
   },
   {
    "duration": 595,
    "start_time": "2021-06-13T09:48:40.727Z"
   },
   {
    "duration": 591,
    "start_time": "2021-06-13T09:48:40.731Z"
   },
   {
    "duration": 588,
    "start_time": "2021-06-13T09:48:40.735Z"
   },
   {
    "duration": 585,
    "start_time": "2021-06-13T09:48:40.739Z"
   },
   {
    "duration": 583,
    "start_time": "2021-06-13T09:48:40.742Z"
   },
   {
    "duration": 580,
    "start_time": "2021-06-13T09:48:40.746Z"
   },
   {
    "duration": 578,
    "start_time": "2021-06-13T09:48:40.750Z"
   },
   {
    "duration": 575,
    "start_time": "2021-06-13T09:48:40.754Z"
   },
   {
    "duration": 546,
    "start_time": "2021-06-13T09:48:40.784Z"
   },
   {
    "duration": 537,
    "start_time": "2021-06-13T09:48:40.793Z"
   },
   {
    "duration": 532,
    "start_time": "2021-06-13T09:48:40.799Z"
   },
   {
    "duration": 528,
    "start_time": "2021-06-13T09:48:40.804Z"
   },
   {
    "duration": 520,
    "start_time": "2021-06-13T09:48:40.813Z"
   },
   {
    "duration": 515,
    "start_time": "2021-06-13T09:48:40.819Z"
   },
   {
    "duration": 511,
    "start_time": "2021-06-13T09:48:40.824Z"
   },
   {
    "duration": 507,
    "start_time": "2021-06-13T09:48:40.829Z"
   },
   {
    "duration": 504,
    "start_time": "2021-06-13T09:48:40.833Z"
   },
   {
    "duration": 500,
    "start_time": "2021-06-13T09:48:40.837Z"
   },
   {
    "duration": 1133,
    "start_time": "2021-06-13T09:49:44.808Z"
   },
   {
    "duration": 29,
    "start_time": "2021-06-13T09:49:45.943Z"
   },
   {
    "duration": 31,
    "start_time": "2021-06-13T09:49:45.974Z"
   },
   {
    "duration": 11,
    "start_time": "2021-06-13T09:49:46.008Z"
   },
   {
    "duration": 4,
    "start_time": "2021-06-13T09:49:46.020Z"
   },
   {
    "duration": 10,
    "start_time": "2021-06-13T09:49:46.026Z"
   },
   {
    "duration": 8,
    "start_time": "2021-06-13T09:49:46.037Z"
   },
   {
    "duration": 7,
    "start_time": "2021-06-13T09:49:46.047Z"
   },
   {
    "duration": 7,
    "start_time": "2021-06-13T09:49:46.086Z"
   },
   {
    "duration": 15,
    "start_time": "2021-06-13T09:49:46.095Z"
   },
   {
    "duration": 22,
    "start_time": "2021-06-13T09:49:46.111Z"
   },
   {
    "duration": 5,
    "start_time": "2021-06-13T09:49:46.134Z"
   },
   {
    "duration": 9,
    "start_time": "2021-06-13T09:49:46.141Z"
   },
   {
    "duration": 280,
    "start_time": "2021-06-13T09:49:46.151Z"
   },
   {
    "duration": 752,
    "start_time": "2021-06-13T09:49:45.682Z"
   },
   {
    "duration": 748,
    "start_time": "2021-06-13T09:49:45.687Z"
   },
   {
    "duration": 744,
    "start_time": "2021-06-13T09:49:45.692Z"
   },
   {
    "duration": 739,
    "start_time": "2021-06-13T09:49:45.698Z"
   },
   {
    "duration": 735,
    "start_time": "2021-06-13T09:49:45.703Z"
   },
   {
    "duration": 728,
    "start_time": "2021-06-13T09:49:45.710Z"
   },
   {
    "duration": 723,
    "start_time": "2021-06-13T09:49:45.716Z"
   },
   {
    "duration": 719,
    "start_time": "2021-06-13T09:49:45.721Z"
   },
   {
    "duration": 715,
    "start_time": "2021-06-13T09:49:45.726Z"
   },
   {
    "duration": 711,
    "start_time": "2021-06-13T09:49:45.731Z"
   },
   {
    "duration": 705,
    "start_time": "2021-06-13T09:49:45.738Z"
   },
   {
    "duration": 700,
    "start_time": "2021-06-13T09:49:45.744Z"
   },
   {
    "duration": 696,
    "start_time": "2021-06-13T09:49:45.749Z"
   },
   {
    "duration": 691,
    "start_time": "2021-06-13T09:49:45.754Z"
   },
   {
    "duration": 687,
    "start_time": "2021-06-13T09:49:45.759Z"
   },
   {
    "duration": 683,
    "start_time": "2021-06-13T09:49:45.764Z"
   },
   {
    "duration": 667,
    "start_time": "2021-06-13T09:49:45.781Z"
   },
   {
    "duration": 663,
    "start_time": "2021-06-13T09:49:45.786Z"
   },
   {
    "duration": 660,
    "start_time": "2021-06-13T09:49:45.790Z"
   },
   {
    "duration": 656,
    "start_time": "2021-06-13T09:49:45.795Z"
   },
   {
    "duration": 653,
    "start_time": "2021-06-13T09:49:45.799Z"
   },
   {
    "duration": 649,
    "start_time": "2021-06-13T09:49:45.804Z"
   },
   {
    "duration": 646,
    "start_time": "2021-06-13T09:49:45.808Z"
   },
   {
    "duration": 643,
    "start_time": "2021-06-13T09:49:45.812Z"
   },
   {
    "duration": 641,
    "start_time": "2021-06-13T09:49:45.815Z"
   },
   {
    "duration": 637,
    "start_time": "2021-06-13T09:49:45.820Z"
   },
   {
    "duration": 634,
    "start_time": "2021-06-13T09:49:45.824Z"
   },
   {
    "duration": 631,
    "start_time": "2021-06-13T09:49:45.828Z"
   },
   {
    "duration": 628,
    "start_time": "2021-06-13T09:49:45.832Z"
   },
   {
    "duration": 624,
    "start_time": "2021-06-13T09:49:45.837Z"
   },
   {
    "duration": 622,
    "start_time": "2021-06-13T09:49:45.840Z"
   },
   {
    "duration": 616,
    "start_time": "2021-06-13T09:49:45.847Z"
   },
   {
    "duration": 188,
    "start_time": "2021-06-13T09:50:38.852Z"
   },
   {
    "duration": 1118,
    "start_time": "2021-06-13T09:52:05.691Z"
   },
   {
    "duration": 29,
    "start_time": "2021-06-13T09:52:06.812Z"
   },
   {
    "duration": 22,
    "start_time": "2021-06-13T09:52:06.843Z"
   },
   {
    "duration": 7,
    "start_time": "2021-06-13T09:52:06.866Z"
   },
   {
    "duration": 12,
    "start_time": "2021-06-13T09:52:06.875Z"
   },
   {
    "duration": 17,
    "start_time": "2021-06-13T09:52:06.890Z"
   },
   {
    "duration": 8,
    "start_time": "2021-06-13T09:52:06.910Z"
   },
   {
    "duration": 6,
    "start_time": "2021-06-13T09:52:06.920Z"
   },
   {
    "duration": 4,
    "start_time": "2021-06-13T09:52:06.928Z"
   },
   {
    "duration": 12,
    "start_time": "2021-06-13T09:52:06.933Z"
   },
   {
    "duration": 54,
    "start_time": "2021-06-13T09:52:06.946Z"
   },
   {
    "duration": 6,
    "start_time": "2021-06-13T09:52:07.004Z"
   },
   {
    "duration": 12,
    "start_time": "2021-06-13T09:52:07.012Z"
   },
   {
    "duration": 6,
    "start_time": "2021-06-13T09:52:07.026Z"
   },
   {
    "duration": 270,
    "start_time": "2021-06-13T09:52:07.034Z"
   },
   {
    "duration": 698,
    "start_time": "2021-06-13T09:52:06.610Z"
   },
   {
    "duration": 684,
    "start_time": "2021-06-13T09:52:06.625Z"
   },
   {
    "duration": 645,
    "start_time": "2021-06-13T09:52:06.665Z"
   },
   {
    "duration": 613,
    "start_time": "2021-06-13T09:52:06.698Z"
   },
   {
    "duration": 594,
    "start_time": "2021-06-13T09:52:06.718Z"
   },
   {
    "duration": 561,
    "start_time": "2021-06-13T09:52:06.752Z"
   },
   {
    "duration": 544,
    "start_time": "2021-06-13T09:52:06.770Z"
   },
   {
    "duration": 538,
    "start_time": "2021-06-13T09:52:06.777Z"
   },
   {
    "duration": 532,
    "start_time": "2021-06-13T09:52:06.784Z"
   },
   {
    "duration": 529,
    "start_time": "2021-06-13T09:52:06.788Z"
   },
   {
    "duration": 526,
    "start_time": "2021-06-13T09:52:06.792Z"
   },
   {
    "duration": 522,
    "start_time": "2021-06-13T09:52:06.797Z"
   },
   {
    "duration": 520,
    "start_time": "2021-06-13T09:52:06.800Z"
   },
   {
    "duration": 517,
    "start_time": "2021-06-13T09:52:06.804Z"
   },
   {
    "duration": 515,
    "start_time": "2021-06-13T09:52:06.807Z"
   },
   {
    "duration": 512,
    "start_time": "2021-06-13T09:52:06.811Z"
   },
   {
    "duration": 509,
    "start_time": "2021-06-13T09:52:06.815Z"
   },
   {
    "duration": 507,
    "start_time": "2021-06-13T09:52:06.818Z"
   },
   {
    "duration": 504,
    "start_time": "2021-06-13T09:52:06.822Z"
   },
   {
    "duration": 501,
    "start_time": "2021-06-13T09:52:06.826Z"
   },
   {
    "duration": 498,
    "start_time": "2021-06-13T09:52:06.830Z"
   },
   {
    "duration": 495,
    "start_time": "2021-06-13T09:52:06.834Z"
   },
   {
    "duration": 494,
    "start_time": "2021-06-13T09:52:06.837Z"
   },
   {
    "duration": 491,
    "start_time": "2021-06-13T09:52:06.841Z"
   },
   {
    "duration": 490,
    "start_time": "2021-06-13T09:52:06.844Z"
   },
   {
    "duration": 487,
    "start_time": "2021-06-13T09:52:06.848Z"
   },
   {
    "duration": 484,
    "start_time": "2021-06-13T09:52:06.852Z"
   },
   {
    "duration": 482,
    "start_time": "2021-06-13T09:52:06.855Z"
   },
   {
    "duration": 479,
    "start_time": "2021-06-13T09:52:06.859Z"
   },
   {
    "duration": 476,
    "start_time": "2021-06-13T09:52:06.863Z"
   },
   {
    "duration": 457,
    "start_time": "2021-06-13T09:52:06.883Z"
   },
   {
    "duration": 449,
    "start_time": "2021-06-13T09:52:06.892Z"
   },
   {
    "duration": 11,
    "start_time": "2021-06-13T09:52:23.609Z"
   },
   {
    "duration": 3,
    "start_time": "2021-06-13T09:52:30.521Z"
   },
   {
    "duration": 3,
    "start_time": "2021-06-13T10:04:19.040Z"
   },
   {
    "duration": 3,
    "start_time": "2021-06-13T10:04:20.870Z"
   },
   {
    "duration": 24,
    "start_time": "2021-06-13T10:04:22.118Z"
   },
   {
    "duration": 413,
    "start_time": "2021-06-13T10:17:41.118Z"
   },
   {
    "duration": 5,
    "start_time": "2021-06-13T10:17:51.635Z"
   },
   {
    "duration": 4,
    "start_time": "2021-06-13T10:18:00.515Z"
   },
   {
    "duration": 1541,
    "start_time": "2021-06-13T10:18:14.557Z"
   },
   {
    "duration": 5,
    "start_time": "2021-06-13T10:18:18.723Z"
   },
   {
    "duration": 4,
    "start_time": "2021-06-13T10:18:21.331Z"
   },
   {
    "duration": 2069,
    "start_time": "2021-06-13T10:18:57.156Z"
   },
   {
    "duration": 4,
    "start_time": "2021-06-13T10:18:59.226Z"
   },
   {
    "duration": 4,
    "start_time": "2021-06-13T10:19:01.540Z"
   },
   {
    "duration": 1138,
    "start_time": "2021-06-13T10:19:38.065Z"
   },
   {
    "duration": 29,
    "start_time": "2021-06-13T10:19:39.205Z"
   },
   {
    "duration": 22,
    "start_time": "2021-06-13T10:19:39.236Z"
   },
   {
    "duration": 7,
    "start_time": "2021-06-13T10:19:39.260Z"
   },
   {
    "duration": 2,
    "start_time": "2021-06-13T10:19:39.269Z"
   },
   {
    "duration": 10,
    "start_time": "2021-06-13T10:19:39.285Z"
   },
   {
    "duration": 9,
    "start_time": "2021-06-13T10:19:39.297Z"
   },
   {
    "duration": 6,
    "start_time": "2021-06-13T10:19:39.309Z"
   },
   {
    "duration": 4,
    "start_time": "2021-06-13T10:19:39.317Z"
   },
   {
    "duration": 11,
    "start_time": "2021-06-13T10:19:39.323Z"
   },
   {
    "duration": 57,
    "start_time": "2021-06-13T10:19:39.335Z"
   },
   {
    "duration": 7,
    "start_time": "2021-06-13T10:19:39.395Z"
   },
   {
    "duration": 11,
    "start_time": "2021-06-13T10:19:39.404Z"
   },
   {
    "duration": 8,
    "start_time": "2021-06-13T10:19:39.417Z"
   },
   {
    "duration": 10,
    "start_time": "2021-06-13T10:19:39.427Z"
   },
   {
    "duration": 48,
    "start_time": "2021-06-13T10:19:39.439Z"
   },
   {
    "duration": 4,
    "start_time": "2021-06-13T10:19:39.490Z"
   },
   {
    "duration": 7,
    "start_time": "2021-06-13T10:19:39.496Z"
   },
   {
    "duration": 24,
    "start_time": "2021-06-13T10:19:39.505Z"
   },
   {
    "duration": 270,
    "start_time": "2021-06-13T10:19:39.531Z"
   },
   {
    "duration": 463,
    "start_time": "2021-06-13T10:19:39.340Z"
   },
   {
    "duration": 459,
    "start_time": "2021-06-13T10:19:39.345Z"
   },
   {
    "duration": 457,
    "start_time": "2021-06-13T10:19:39.348Z"
   },
   {
    "duration": 454,
    "start_time": "2021-06-13T10:19:39.352Z"
   },
   {
    "duration": 451,
    "start_time": "2021-06-13T10:19:39.356Z"
   },
   {
    "duration": 447,
    "start_time": "2021-06-13T10:19:39.361Z"
   },
   {
    "duration": 444,
    "start_time": "2021-06-13T10:19:39.365Z"
   },
   {
    "duration": 440,
    "start_time": "2021-06-13T10:19:39.370Z"
   },
   {
    "duration": 436,
    "start_time": "2021-06-13T10:19:39.375Z"
   },
   {
    "duration": 420,
    "start_time": "2021-06-13T10:19:39.391Z"
   },
   {
    "duration": 417,
    "start_time": "2021-06-13T10:19:39.395Z"
   },
   {
    "duration": 413,
    "start_time": "2021-06-13T10:19:39.400Z"
   },
   {
    "duration": 411,
    "start_time": "2021-06-13T10:19:39.403Z"
   },
   {
    "duration": 408,
    "start_time": "2021-06-13T10:19:39.407Z"
   },
   {
    "duration": 404,
    "start_time": "2021-06-13T10:19:39.412Z"
   },
   {
    "duration": 401,
    "start_time": "2021-06-13T10:19:39.416Z"
   },
   {
    "duration": 398,
    "start_time": "2021-06-13T10:19:39.420Z"
   },
   {
    "duration": 394,
    "start_time": "2021-06-13T10:19:39.425Z"
   },
   {
    "duration": 392,
    "start_time": "2021-06-13T10:19:39.428Z"
   },
   {
    "duration": 387,
    "start_time": "2021-06-13T10:19:39.433Z"
   },
   {
    "duration": 383,
    "start_time": "2021-06-13T10:19:39.438Z"
   },
   {
    "duration": 378,
    "start_time": "2021-06-13T10:19:39.444Z"
   },
   {
    "duration": 375,
    "start_time": "2021-06-13T10:19:39.448Z"
   },
   {
    "duration": 372,
    "start_time": "2021-06-13T10:19:39.452Z"
   },
   {
    "duration": 369,
    "start_time": "2021-06-13T10:19:39.456Z"
   },
   {
    "duration": 364,
    "start_time": "2021-06-13T10:19:39.461Z"
   },
   {
    "duration": 2132,
    "start_time": "2021-06-13T10:21:01.287Z"
   },
   {
    "duration": 5,
    "start_time": "2021-06-13T10:21:05.758Z"
   },
   {
    "duration": 4,
    "start_time": "2021-06-13T10:21:07.860Z"
   },
   {
    "duration": 2157,
    "start_time": "2021-06-13T10:21:30.990Z"
   },
   {
    "duration": 4,
    "start_time": "2021-06-13T10:21:33.148Z"
   },
   {
    "duration": 5,
    "start_time": "2021-06-13T10:21:34.740Z"
   },
   {
    "duration": 2207,
    "start_time": "2021-06-13T10:22:08.245Z"
   },
   {
    "duration": 4,
    "start_time": "2021-06-13T10:22:10.453Z"
   },
   {
    "duration": 4,
    "start_time": "2021-06-13T10:22:12.006Z"
   },
   {
    "duration": 400,
    "start_time": "2021-06-13T10:22:54.070Z"
   },
   {
    "duration": 6,
    "start_time": "2021-06-13T10:22:55.582Z"
   },
   {
    "duration": 4,
    "start_time": "2021-06-13T10:22:56.917Z"
   },
   {
    "duration": 353,
    "start_time": "2021-06-13T10:23:51.023Z"
   },
   {
    "duration": 4,
    "start_time": "2021-06-13T10:23:52.557Z"
   },
   {
    "duration": 5,
    "start_time": "2021-06-13T10:23:54.382Z"
   },
   {
    "duration": 367,
    "start_time": "2021-06-13T10:25:22.199Z"
   },
   {
    "duration": 258,
    "start_time": "2021-06-13T10:36:55.022Z"
   },
   {
    "duration": 4,
    "start_time": "2021-06-13T10:37:00.035Z"
   },
   {
    "duration": 5,
    "start_time": "2021-06-13T10:37:02.531Z"
   },
   {
    "duration": 4,
    "start_time": "2021-06-13T10:38:13.381Z"
   },
   {
    "duration": 4,
    "start_time": "2021-06-13T10:38:14.811Z"
   },
   {
    "duration": 1072,
    "start_time": "2021-06-13T10:41:17.647Z"
   },
   {
    "duration": 29,
    "start_time": "2021-06-13T10:41:18.720Z"
   },
   {
    "duration": 22,
    "start_time": "2021-06-13T10:41:18.751Z"
   },
   {
    "duration": 19,
    "start_time": "2021-06-13T10:41:18.776Z"
   },
   {
    "duration": 4,
    "start_time": "2021-06-13T10:41:18.798Z"
   },
   {
    "duration": 13,
    "start_time": "2021-06-13T10:41:18.803Z"
   },
   {
    "duration": 8,
    "start_time": "2021-06-13T10:41:18.817Z"
   },
   {
    "duration": 6,
    "start_time": "2021-06-13T10:41:18.827Z"
   },
   {
    "duration": 4,
    "start_time": "2021-06-13T10:41:18.835Z"
   },
   {
    "duration": 12,
    "start_time": "2021-06-13T10:41:18.841Z"
   },
   {
    "duration": 54,
    "start_time": "2021-06-13T10:41:18.854Z"
   },
   {
    "duration": 4,
    "start_time": "2021-06-13T10:41:18.910Z"
   },
   {
    "duration": 9,
    "start_time": "2021-06-13T10:41:18.916Z"
   },
   {
    "duration": 6,
    "start_time": "2021-06-13T10:41:18.926Z"
   },
   {
    "duration": 8,
    "start_time": "2021-06-13T10:41:18.933Z"
   },
   {
    "duration": 4,
    "start_time": "2021-06-13T10:41:18.942Z"
   },
   {
    "duration": 41,
    "start_time": "2021-06-13T10:41:18.947Z"
   },
   {
    "duration": 4,
    "start_time": "2021-06-13T10:41:18.991Z"
   },
   {
    "duration": 27,
    "start_time": "2021-06-13T10:41:18.998Z"
   },
   {
    "duration": 300,
    "start_time": "2021-06-13T10:41:19.026Z"
   },
   {
    "duration": 31549,
    "start_time": "2021-06-13T10:41:19.327Z"
   },
   {
    "duration": 299,
    "start_time": "2021-06-13T10:41:50.878Z"
   },
   {
    "duration": 891,
    "start_time": "2021-06-13T10:41:50.288Z"
   },
   {
    "duration": 846,
    "start_time": "2021-06-13T10:41:50.334Z"
   },
   {
    "duration": 842,
    "start_time": "2021-06-13T10:41:50.339Z"
   },
   {
    "duration": 835,
    "start_time": "2021-06-13T10:41:50.346Z"
   },
   {
    "duration": 830,
    "start_time": "2021-06-13T10:41:50.352Z"
   },
   {
    "duration": 825,
    "start_time": "2021-06-13T10:41:50.358Z"
   },
   {
    "duration": 819,
    "start_time": "2021-06-13T10:41:50.364Z"
   },
   {
    "duration": 816,
    "start_time": "2021-06-13T10:41:50.369Z"
   },
   {
    "duration": 804,
    "start_time": "2021-06-13T10:41:50.382Z"
   },
   {
    "duration": 799,
    "start_time": "2021-06-13T10:41:50.388Z"
   },
   {
    "duration": 794,
    "start_time": "2021-06-13T10:41:50.394Z"
   },
   {
    "duration": 788,
    "start_time": "2021-06-13T10:41:50.401Z"
   },
   {
    "duration": 784,
    "start_time": "2021-06-13T10:41:50.407Z"
   },
   {
    "duration": 776,
    "start_time": "2021-06-13T10:41:50.416Z"
   },
   {
    "duration": 773,
    "start_time": "2021-06-13T10:41:50.421Z"
   },
   {
    "duration": 766,
    "start_time": "2021-06-13T10:41:50.429Z"
   },
   {
    "duration": 758,
    "start_time": "2021-06-13T10:41:50.439Z"
   },
   {
    "duration": 755,
    "start_time": "2021-06-13T10:41:50.445Z"
   },
   {
    "duration": 751,
    "start_time": "2021-06-13T10:41:50.450Z"
   },
   {
    "duration": 747,
    "start_time": "2021-06-13T10:41:50.456Z"
   },
   {
    "duration": 743,
    "start_time": "2021-06-13T10:41:50.462Z"
   },
   {
    "duration": 739,
    "start_time": "2021-06-13T10:41:50.468Z"
   },
   {
    "duration": 289,
    "start_time": "2021-06-13T10:43:31.730Z"
   },
   {
    "duration": 32361,
    "start_time": "2021-06-13T10:43:53.016Z"
   },
   {
    "duration": 34828,
    "start_time": "2021-06-13T10:46:54.218Z"
   },
   {
    "duration": 18,
    "start_time": "2021-06-13T10:53:10.361Z"
   },
   {
    "duration": 10,
    "start_time": "2021-06-13T10:53:17.549Z"
   },
   {
    "duration": 15,
    "start_time": "2021-06-13T10:53:37.630Z"
   },
   {
    "duration": 60,
    "start_time": "2021-06-13T10:54:36.191Z"
   },
   {
    "duration": 57,
    "start_time": "2021-06-13T10:54:38.432Z"
   },
   {
    "duration": 54,
    "start_time": "2021-06-13T10:54:40.248Z"
   },
   {
    "duration": 56,
    "start_time": "2021-06-13T10:54:43.807Z"
   },
   {
    "duration": 65,
    "start_time": "2021-06-13T10:54:46.973Z"
   },
   {
    "duration": 63,
    "start_time": "2021-06-13T10:54:59.494Z"
   },
   {
    "duration": 59,
    "start_time": "2021-06-13T10:55:10.815Z"
   },
   {
    "duration": 65,
    "start_time": "2021-06-13T10:55:12.618Z"
   },
   {
    "duration": 12,
    "start_time": "2021-06-13T10:58:09.434Z"
   },
   {
    "duration": 11,
    "start_time": "2021-06-13T10:58:45.257Z"
   },
   {
    "duration": 4,
    "start_time": "2021-06-13T11:00:09.628Z"
   },
   {
    "duration": 11,
    "start_time": "2021-06-13T11:00:11.752Z"
   },
   {
    "duration": 4,
    "start_time": "2021-06-13T11:00:18.976Z"
   },
   {
    "duration": 3,
    "start_time": "2021-06-13T11:00:38.526Z"
   },
   {
    "duration": 74265,
    "start_time": "2021-06-13T11:02:23.035Z"
   },
   {
    "duration": 75861,
    "start_time": "2021-06-13T11:04:39.596Z"
   },
   {
    "duration": 104556,
    "start_time": "2021-06-13T11:10:32.919Z"
   },
   {
    "duration": 223013,
    "start_time": "2021-06-13T11:21:38.558Z"
   },
   {
    "duration": 71527,
    "start_time": "2021-06-13T11:26:51.220Z"
   },
   {
    "duration": 137947,
    "start_time": "2021-06-13T11:30:23.215Z"
   },
   {
    "duration": 60,
    "start_time": "2021-06-13T11:38:33.668Z"
   },
   {
    "duration": 3,
    "start_time": "2021-06-13T11:40:17.594Z"
   },
   {
    "duration": 184,
    "start_time": "2021-06-13T11:40:19.649Z"
   },
   {
    "duration": 425,
    "start_time": "2021-06-13T11:40:55.825Z"
   },
   {
    "duration": 21,
    "start_time": "2021-06-13T11:41:05.948Z"
   },
   {
    "duration": 6,
    "start_time": "2021-06-13T11:41:15.689Z"
   },
   {
    "duration": 18,
    "start_time": "2021-06-13T11:45:50.668Z"
   },
   {
    "duration": 17,
    "start_time": "2021-06-13T11:57:50.264Z"
   },
   {
    "duration": 6,
    "start_time": "2021-06-13T11:59:57.668Z"
   },
   {
    "duration": 12,
    "start_time": "2021-06-13T12:00:48.898Z"
   },
   {
    "duration": 546,
    "start_time": "2021-06-13T12:01:15.514Z"
   },
   {
    "duration": 22,
    "start_time": "2021-06-13T12:01:27.385Z"
   },
   {
    "duration": 5,
    "start_time": "2021-06-13T12:01:29.121Z"
   },
   {
    "duration": 438,
    "start_time": "2021-06-13T12:01:57.290Z"
   },
   {
    "duration": 22,
    "start_time": "2021-06-13T12:01:58.732Z"
   },
   {
    "duration": 6,
    "start_time": "2021-06-13T12:01:59.345Z"
   },
   {
    "duration": 11,
    "start_time": "2021-06-13T12:03:33.674Z"
   },
   {
    "duration": 427,
    "start_time": "2021-06-13T12:03:34.659Z"
   },
   {
    "duration": 22,
    "start_time": "2021-06-13T12:03:36.312Z"
   },
   {
    "duration": 5,
    "start_time": "2021-06-13T12:03:37.145Z"
   },
   {
    "duration": 21,
    "start_time": "2021-06-13T12:03:57.977Z"
   },
   {
    "duration": 7,
    "start_time": "2021-06-13T12:04:00.297Z"
   },
   {
    "duration": 169,
    "start_time": "2021-06-13T12:04:03.513Z"
   },
   {
    "duration": 4,
    "start_time": "2021-06-13T12:08:28.172Z"
   },
   {
    "duration": 179,
    "start_time": "2021-06-13T12:09:14.622Z"
   },
   {
    "duration": 6,
    "start_time": "2021-06-13T12:09:57.574Z"
   },
   {
    "duration": 1098,
    "start_time": "2021-06-13T12:17:10.980Z"
   },
   {
    "duration": 29,
    "start_time": "2021-06-13T12:17:12.080Z"
   },
   {
    "duration": 24,
    "start_time": "2021-06-13T12:17:12.111Z"
   },
   {
    "duration": 8,
    "start_time": "2021-06-13T12:17:12.137Z"
   },
   {
    "duration": 3,
    "start_time": "2021-06-13T12:17:12.147Z"
   },
   {
    "duration": 8,
    "start_time": "2021-06-13T12:17:12.152Z"
   },
   {
    "duration": 9,
    "start_time": "2021-06-13T12:17:12.185Z"
   },
   {
    "duration": 7,
    "start_time": "2021-06-13T12:17:12.196Z"
   },
   {
    "duration": 5,
    "start_time": "2021-06-13T12:17:12.205Z"
   },
   {
    "duration": 13,
    "start_time": "2021-06-13T12:17:12.211Z"
   },
   {
    "duration": 23,
    "start_time": "2021-06-13T12:17:12.226Z"
   },
   {
    "duration": 38,
    "start_time": "2021-06-13T12:17:12.251Z"
   },
   {
    "duration": 13,
    "start_time": "2021-06-13T12:17:12.291Z"
   },
   {
    "duration": 7,
    "start_time": "2021-06-13T12:17:12.306Z"
   },
   {
    "duration": 9,
    "start_time": "2021-06-13T12:17:12.315Z"
   },
   {
    "duration": 5,
    "start_time": "2021-06-13T12:17:12.326Z"
   },
   {
    "duration": 5,
    "start_time": "2021-06-13T12:17:12.332Z"
   },
   {
    "duration": 7,
    "start_time": "2021-06-13T12:17:12.339Z"
   },
   {
    "duration": 58,
    "start_time": "2021-06-13T12:17:12.347Z"
   },
   {
    "duration": 12,
    "start_time": "2021-06-13T12:17:12.406Z"
   },
   {
    "duration": 272,
    "start_time": "2021-06-13T12:17:12.420Z"
   },
   {
    "duration": 70177,
    "start_time": "2021-06-13T12:17:12.694Z"
   },
   {
    "duration": 71814,
    "start_time": "2021-06-13T12:18:22.875Z"
   },
   {
    "duration": 19,
    "start_time": "2021-06-13T12:19:34.692Z"
   },
   {
    "duration": 9,
    "start_time": "2021-06-13T12:19:34.713Z"
   },
   {
    "duration": 11,
    "start_time": "2021-06-13T12:19:34.787Z"
   },
   {
    "duration": 6,
    "start_time": "2021-06-13T12:19:34.887Z"
   },
   {
    "duration": 101,
    "start_time": "2021-06-13T12:19:34.896Z"
   },
   {
    "duration": 4,
    "start_time": "2021-06-13T12:19:34.998Z"
   },
   {
    "duration": 99443,
    "start_time": "2021-06-13T12:19:35.003Z"
   },
   {
    "duration": 211758,
    "start_time": "2021-06-13T12:21:14.448Z"
   },
   {
    "duration": 72612,
    "start_time": "2021-06-13T12:24:46.207Z"
   },
   {
    "duration": 140738,
    "start_time": "2021-06-13T12:25:58.821Z"
   },
   {
    "duration": 264,
    "start_time": "2021-06-13T12:28:19.561Z"
   },
   {
    "duration": 938,
    "start_time": "2021-06-13T12:28:18.889Z"
   },
   {
    "duration": 931,
    "start_time": "2021-06-13T12:28:18.898Z"
   },
   {
    "duration": 928,
    "start_time": "2021-06-13T12:28:18.902Z"
   },
   {
    "duration": 924,
    "start_time": "2021-06-13T12:28:18.907Z"
   },
   {
    "duration": 922,
    "start_time": "2021-06-13T12:28:18.911Z"
   },
   {
    "duration": 916,
    "start_time": "2021-06-13T12:28:18.918Z"
   },
   {
    "duration": 914,
    "start_time": "2021-06-13T12:28:18.922Z"
   },
   {
    "duration": 430,
    "start_time": "2021-06-13T12:52:00.646Z"
   },
   {
    "duration": 22,
    "start_time": "2021-06-13T12:52:06.568Z"
   },
   {
    "duration": 6,
    "start_time": "2021-06-13T12:52:07.820Z"
   },
   {
    "duration": 23,
    "start_time": "2021-06-13T12:52:10.084Z"
   },
   {
    "duration": 6,
    "start_time": "2021-06-13T12:52:11.548Z"
   },
   {
    "duration": 166,
    "start_time": "2021-06-13T12:52:15.646Z"
   },
   {
    "duration": 6,
    "start_time": "2021-06-13T12:52:21.061Z"
   }
  ],
  "kernelspec": {
   "display_name": "Python 3 (ipykernel)",
   "language": "python",
   "name": "python3"
  },
  "language_info": {
   "codemirror_mode": {
    "name": "ipython",
    "version": 3
   },
   "file_extension": ".py",
   "mimetype": "text/x-python",
   "name": "python",
   "nbconvert_exporter": "python",
   "pygments_lexer": "ipython3",
   "version": "3.9.5"
  },
  "toc": {
   "base_numbering": 1,
   "nav_menu": {},
   "number_sections": true,
   "sideBar": true,
   "skip_h1_title": true,
   "title_cell": "Содержание",
   "title_sidebar": "Contents",
   "toc_cell": true,
   "toc_position": {
    "height": "calc(100% - 180px)",
    "left": "10px",
    "top": "150px",
    "width": "221.449px"
   },
   "toc_section_display": true,
   "toc_window_display": false
  }
 },
 "nbformat": 4,
 "nbformat_minor": 2
}
