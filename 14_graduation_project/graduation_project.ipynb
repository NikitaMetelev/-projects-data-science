{
 "cells": [
  {
   "cell_type": "markdown",
   "metadata": {},
   "source": [
    "# Телеком. Прогнозирование оттока клиентов"
   ]
  },
  {
   "cell_type": "markdown",
   "metadata": {},
   "source": [
    "Задача научиться прогнозировать отток клиентов.\n",
    "\n",
    "Источник https://www.kaggle.com/datasets/palashfendarkar/wa-fnusec-telcocustomerchurn"
   ]
  },
  {
   "cell_type": "markdown",
   "metadata": {},
   "source": [
    "## Изучение данных"
   ]
  },
  {
   "cell_type": "markdown",
   "metadata": {},
   "source": [
    "### Загрузка и знакомство с данными"
   ]
  },
  {
   "cell_type": "code",
   "execution_count": 1,
   "metadata": {},
   "outputs": [],
   "source": [
    "import pandas as pd\n",
    "import numpy as np \n",
    "import seaborn as sns\n",
    "import matplotlib.pyplot as plt\n",
    "\n",
    "from datetime import datetime\n",
    "from sklearn.model_selection import GridSearchCV\n",
    "from sklearn.preprocessing import StandardScaler\n",
    "from sklearn.linear_model import LogisticRegression\n",
    "from sklearn.model_selection import GridSearchCV\n",
    "from sklearn.metrics import roc_auc_score, accuracy_score\n",
    "from sklearn.model_selection import train_test_split, cross_val_score, cross_validate\n",
    "from catboost import CatBoostClassifier\n",
    "from lightgbm import LGBMClassifier\n",
    "\n",
    "import warnings\n",
    "warnings.filterwarnings(\"ignore\")"
   ]
  },
  {
   "cell_type": "code",
   "execution_count": 2,
   "metadata": {},
   "outputs": [
    {
     "data": {
      "text/html": [
       "<div>\n",
       "<style scoped>\n",
       "    .dataframe tbody tr th:only-of-type {\n",
       "        vertical-align: middle;\n",
       "    }\n",
       "\n",
       "    .dataframe tbody tr th {\n",
       "        vertical-align: top;\n",
       "    }\n",
       "\n",
       "    .dataframe thead th {\n",
       "        text-align: right;\n",
       "    }\n",
       "</style>\n",
       "<table border=\"1\" class=\"dataframe\">\n",
       "  <thead>\n",
       "    <tr style=\"text-align: right;\">\n",
       "      <th></th>\n",
       "      <th>customerID</th>\n",
       "      <th>BeginDate</th>\n",
       "      <th>EndDate</th>\n",
       "      <th>Type</th>\n",
       "      <th>PaperlessBilling</th>\n",
       "      <th>PaymentMethod</th>\n",
       "      <th>MonthlyCharges</th>\n",
       "      <th>TotalCharges</th>\n",
       "    </tr>\n",
       "  </thead>\n",
       "  <tbody>\n",
       "    <tr>\n",
       "      <th>0</th>\n",
       "      <td>7590-VHVEG</td>\n",
       "      <td>2020-01-01</td>\n",
       "      <td>No</td>\n",
       "      <td>Month-to-month</td>\n",
       "      <td>Yes</td>\n",
       "      <td>Electronic check</td>\n",
       "      <td>29.85</td>\n",
       "      <td>29.85</td>\n",
       "    </tr>\n",
       "    <tr>\n",
       "      <th>1</th>\n",
       "      <td>5575-GNVDE</td>\n",
       "      <td>2017-04-01</td>\n",
       "      <td>No</td>\n",
       "      <td>One year</td>\n",
       "      <td>No</td>\n",
       "      <td>Mailed check</td>\n",
       "      <td>56.95</td>\n",
       "      <td>1889.5</td>\n",
       "    </tr>\n",
       "    <tr>\n",
       "      <th>2</th>\n",
       "      <td>3668-QPYBK</td>\n",
       "      <td>2019-10-01</td>\n",
       "      <td>2019-12-01 00:00:00</td>\n",
       "      <td>Month-to-month</td>\n",
       "      <td>Yes</td>\n",
       "      <td>Mailed check</td>\n",
       "      <td>53.85</td>\n",
       "      <td>108.15</td>\n",
       "    </tr>\n",
       "    <tr>\n",
       "      <th>3</th>\n",
       "      <td>7795-CFOCW</td>\n",
       "      <td>2016-05-01</td>\n",
       "      <td>No</td>\n",
       "      <td>One year</td>\n",
       "      <td>No</td>\n",
       "      <td>Bank transfer (automatic)</td>\n",
       "      <td>42.30</td>\n",
       "      <td>1840.75</td>\n",
       "    </tr>\n",
       "    <tr>\n",
       "      <th>4</th>\n",
       "      <td>9237-HQITU</td>\n",
       "      <td>2019-09-01</td>\n",
       "      <td>2019-11-01 00:00:00</td>\n",
       "      <td>Month-to-month</td>\n",
       "      <td>Yes</td>\n",
       "      <td>Electronic check</td>\n",
       "      <td>70.70</td>\n",
       "      <td>151.65</td>\n",
       "    </tr>\n",
       "    <tr>\n",
       "      <th>...</th>\n",
       "      <td>...</td>\n",
       "      <td>...</td>\n",
       "      <td>...</td>\n",
       "      <td>...</td>\n",
       "      <td>...</td>\n",
       "      <td>...</td>\n",
       "      <td>...</td>\n",
       "      <td>...</td>\n",
       "    </tr>\n",
       "    <tr>\n",
       "      <th>7038</th>\n",
       "      <td>6840-RESVB</td>\n",
       "      <td>2018-02-01</td>\n",
       "      <td>No</td>\n",
       "      <td>One year</td>\n",
       "      <td>Yes</td>\n",
       "      <td>Mailed check</td>\n",
       "      <td>84.80</td>\n",
       "      <td>1990.5</td>\n",
       "    </tr>\n",
       "    <tr>\n",
       "      <th>7039</th>\n",
       "      <td>2234-XADUH</td>\n",
       "      <td>2014-02-01</td>\n",
       "      <td>No</td>\n",
       "      <td>One year</td>\n",
       "      <td>Yes</td>\n",
       "      <td>Credit card (automatic)</td>\n",
       "      <td>103.20</td>\n",
       "      <td>7362.9</td>\n",
       "    </tr>\n",
       "    <tr>\n",
       "      <th>7040</th>\n",
       "      <td>4801-JZAZL</td>\n",
       "      <td>2019-03-01</td>\n",
       "      <td>No</td>\n",
       "      <td>Month-to-month</td>\n",
       "      <td>Yes</td>\n",
       "      <td>Electronic check</td>\n",
       "      <td>29.60</td>\n",
       "      <td>346.45</td>\n",
       "    </tr>\n",
       "    <tr>\n",
       "      <th>7041</th>\n",
       "      <td>8361-LTMKD</td>\n",
       "      <td>2019-07-01</td>\n",
       "      <td>2019-11-01 00:00:00</td>\n",
       "      <td>Month-to-month</td>\n",
       "      <td>Yes</td>\n",
       "      <td>Mailed check</td>\n",
       "      <td>74.40</td>\n",
       "      <td>306.6</td>\n",
       "    </tr>\n",
       "    <tr>\n",
       "      <th>7042</th>\n",
       "      <td>3186-AJIEK</td>\n",
       "      <td>2014-08-01</td>\n",
       "      <td>No</td>\n",
       "      <td>Two year</td>\n",
       "      <td>Yes</td>\n",
       "      <td>Bank transfer (automatic)</td>\n",
       "      <td>105.65</td>\n",
       "      <td>6844.5</td>\n",
       "    </tr>\n",
       "  </tbody>\n",
       "</table>\n",
       "<p>7043 rows × 8 columns</p>\n",
       "</div>"
      ],
      "text/plain": [
       "      customerID   BeginDate              EndDate            Type  \\\n",
       "0     7590-VHVEG  2020-01-01                   No  Month-to-month   \n",
       "1     5575-GNVDE  2017-04-01                   No        One year   \n",
       "2     3668-QPYBK  2019-10-01  2019-12-01 00:00:00  Month-to-month   \n",
       "3     7795-CFOCW  2016-05-01                   No        One year   \n",
       "4     9237-HQITU  2019-09-01  2019-11-01 00:00:00  Month-to-month   \n",
       "...          ...         ...                  ...             ...   \n",
       "7038  6840-RESVB  2018-02-01                   No        One year   \n",
       "7039  2234-XADUH  2014-02-01                   No        One year   \n",
       "7040  4801-JZAZL  2019-03-01                   No  Month-to-month   \n",
       "7041  8361-LTMKD  2019-07-01  2019-11-01 00:00:00  Month-to-month   \n",
       "7042  3186-AJIEK  2014-08-01                   No        Two year   \n",
       "\n",
       "     PaperlessBilling              PaymentMethod  MonthlyCharges TotalCharges  \n",
       "0                 Yes           Electronic check           29.85        29.85  \n",
       "1                  No               Mailed check           56.95       1889.5  \n",
       "2                 Yes               Mailed check           53.85       108.15  \n",
       "3                  No  Bank transfer (automatic)           42.30      1840.75  \n",
       "4                 Yes           Electronic check           70.70       151.65  \n",
       "...               ...                        ...             ...          ...  \n",
       "7038              Yes               Mailed check           84.80       1990.5  \n",
       "7039              Yes    Credit card (automatic)          103.20       7362.9  \n",
       "7040              Yes           Electronic check           29.60       346.45  \n",
       "7041              Yes               Mailed check           74.40        306.6  \n",
       "7042              Yes  Bank transfer (automatic)          105.65       6844.5  \n",
       "\n",
       "[7043 rows x 8 columns]"
      ]
     },
     "execution_count": 2,
     "metadata": {},
     "output_type": "execute_result"
    }
   ],
   "source": [
    "contract = pd.read_csv('/datasets/final_provider/contract.csv')\n",
    "contract"
   ]
  },
  {
   "cell_type": "code",
   "execution_count": 3,
   "metadata": {},
   "outputs": [
    {
     "name": "stdout",
     "output_type": "stream",
     "text": [
      "<class 'pandas.core.frame.DataFrame'>\n",
      "RangeIndex: 7043 entries, 0 to 7042\n",
      "Data columns (total 8 columns):\n",
      " #   Column            Non-Null Count  Dtype  \n",
      "---  ------            --------------  -----  \n",
      " 0   customerID        7043 non-null   object \n",
      " 1   BeginDate         7043 non-null   object \n",
      " 2   EndDate           7043 non-null   object \n",
      " 3   Type              7043 non-null   object \n",
      " 4   PaperlessBilling  7043 non-null   object \n",
      " 5   PaymentMethod     7043 non-null   object \n",
      " 6   MonthlyCharges    7043 non-null   float64\n",
      " 7   TotalCharges      7043 non-null   object \n",
      "dtypes: float64(1), object(7)\n",
      "memory usage: 440.3+ KB\n"
     ]
    }
   ],
   "source": [
    "contract.info()"
   ]
  },
  {
   "cell_type": "code",
   "execution_count": 4,
   "metadata": {},
   "outputs": [
    {
     "data": {
      "text/html": [
       "<div>\n",
       "<style scoped>\n",
       "    .dataframe tbody tr th:only-of-type {\n",
       "        vertical-align: middle;\n",
       "    }\n",
       "\n",
       "    .dataframe tbody tr th {\n",
       "        vertical-align: top;\n",
       "    }\n",
       "\n",
       "    .dataframe thead th {\n",
       "        text-align: right;\n",
       "    }\n",
       "</style>\n",
       "<table border=\"1\" class=\"dataframe\">\n",
       "  <thead>\n",
       "    <tr style=\"text-align: right;\">\n",
       "      <th></th>\n",
       "      <th>customerID</th>\n",
       "      <th>gender</th>\n",
       "      <th>SeniorCitizen</th>\n",
       "      <th>Partner</th>\n",
       "      <th>Dependents</th>\n",
       "    </tr>\n",
       "  </thead>\n",
       "  <tbody>\n",
       "    <tr>\n",
       "      <th>0</th>\n",
       "      <td>7590-VHVEG</td>\n",
       "      <td>Female</td>\n",
       "      <td>0</td>\n",
       "      <td>Yes</td>\n",
       "      <td>No</td>\n",
       "    </tr>\n",
       "    <tr>\n",
       "      <th>1</th>\n",
       "      <td>5575-GNVDE</td>\n",
       "      <td>Male</td>\n",
       "      <td>0</td>\n",
       "      <td>No</td>\n",
       "      <td>No</td>\n",
       "    </tr>\n",
       "    <tr>\n",
       "      <th>2</th>\n",
       "      <td>3668-QPYBK</td>\n",
       "      <td>Male</td>\n",
       "      <td>0</td>\n",
       "      <td>No</td>\n",
       "      <td>No</td>\n",
       "    </tr>\n",
       "    <tr>\n",
       "      <th>3</th>\n",
       "      <td>7795-CFOCW</td>\n",
       "      <td>Male</td>\n",
       "      <td>0</td>\n",
       "      <td>No</td>\n",
       "      <td>No</td>\n",
       "    </tr>\n",
       "    <tr>\n",
       "      <th>4</th>\n",
       "      <td>9237-HQITU</td>\n",
       "      <td>Female</td>\n",
       "      <td>0</td>\n",
       "      <td>No</td>\n",
       "      <td>No</td>\n",
       "    </tr>\n",
       "    <tr>\n",
       "      <th>...</th>\n",
       "      <td>...</td>\n",
       "      <td>...</td>\n",
       "      <td>...</td>\n",
       "      <td>...</td>\n",
       "      <td>...</td>\n",
       "    </tr>\n",
       "    <tr>\n",
       "      <th>7038</th>\n",
       "      <td>6840-RESVB</td>\n",
       "      <td>Male</td>\n",
       "      <td>0</td>\n",
       "      <td>Yes</td>\n",
       "      <td>Yes</td>\n",
       "    </tr>\n",
       "    <tr>\n",
       "      <th>7039</th>\n",
       "      <td>2234-XADUH</td>\n",
       "      <td>Female</td>\n",
       "      <td>0</td>\n",
       "      <td>Yes</td>\n",
       "      <td>Yes</td>\n",
       "    </tr>\n",
       "    <tr>\n",
       "      <th>7040</th>\n",
       "      <td>4801-JZAZL</td>\n",
       "      <td>Female</td>\n",
       "      <td>0</td>\n",
       "      <td>Yes</td>\n",
       "      <td>Yes</td>\n",
       "    </tr>\n",
       "    <tr>\n",
       "      <th>7041</th>\n",
       "      <td>8361-LTMKD</td>\n",
       "      <td>Male</td>\n",
       "      <td>1</td>\n",
       "      <td>Yes</td>\n",
       "      <td>No</td>\n",
       "    </tr>\n",
       "    <tr>\n",
       "      <th>7042</th>\n",
       "      <td>3186-AJIEK</td>\n",
       "      <td>Male</td>\n",
       "      <td>0</td>\n",
       "      <td>No</td>\n",
       "      <td>No</td>\n",
       "    </tr>\n",
       "  </tbody>\n",
       "</table>\n",
       "<p>7043 rows × 5 columns</p>\n",
       "</div>"
      ],
      "text/plain": [
       "      customerID  gender  SeniorCitizen Partner Dependents\n",
       "0     7590-VHVEG  Female              0     Yes         No\n",
       "1     5575-GNVDE    Male              0      No         No\n",
       "2     3668-QPYBK    Male              0      No         No\n",
       "3     7795-CFOCW    Male              0      No         No\n",
       "4     9237-HQITU  Female              0      No         No\n",
       "...          ...     ...            ...     ...        ...\n",
       "7038  6840-RESVB    Male              0     Yes        Yes\n",
       "7039  2234-XADUH  Female              0     Yes        Yes\n",
       "7040  4801-JZAZL  Female              0     Yes        Yes\n",
       "7041  8361-LTMKD    Male              1     Yes         No\n",
       "7042  3186-AJIEK    Male              0      No         No\n",
       "\n",
       "[7043 rows x 5 columns]"
      ]
     },
     "execution_count": 4,
     "metadata": {},
     "output_type": "execute_result"
    }
   ],
   "source": [
    "personal = pd.read_csv('/datasets/final_provider/personal.csv')\n",
    "personal"
   ]
  },
  {
   "cell_type": "code",
   "execution_count": 5,
   "metadata": {},
   "outputs": [
    {
     "name": "stdout",
     "output_type": "stream",
     "text": [
      "<class 'pandas.core.frame.DataFrame'>\n",
      "RangeIndex: 7043 entries, 0 to 7042\n",
      "Data columns (total 5 columns):\n",
      " #   Column         Non-Null Count  Dtype \n",
      "---  ------         --------------  ----- \n",
      " 0   customerID     7043 non-null   object\n",
      " 1   gender         7043 non-null   object\n",
      " 2   SeniorCitizen  7043 non-null   int64 \n",
      " 3   Partner        7043 non-null   object\n",
      " 4   Dependents     7043 non-null   object\n",
      "dtypes: int64(1), object(4)\n",
      "memory usage: 275.2+ KB\n"
     ]
    }
   ],
   "source": [
    "personal.info()"
   ]
  },
  {
   "cell_type": "code",
   "execution_count": 6,
   "metadata": {},
   "outputs": [
    {
     "data": {
      "text/html": [
       "<div>\n",
       "<style scoped>\n",
       "    .dataframe tbody tr th:only-of-type {\n",
       "        vertical-align: middle;\n",
       "    }\n",
       "\n",
       "    .dataframe tbody tr th {\n",
       "        vertical-align: top;\n",
       "    }\n",
       "\n",
       "    .dataframe thead th {\n",
       "        text-align: right;\n",
       "    }\n",
       "</style>\n",
       "<table border=\"1\" class=\"dataframe\">\n",
       "  <thead>\n",
       "    <tr style=\"text-align: right;\">\n",
       "      <th></th>\n",
       "      <th>customerID</th>\n",
       "      <th>InternetService</th>\n",
       "      <th>OnlineSecurity</th>\n",
       "      <th>OnlineBackup</th>\n",
       "      <th>DeviceProtection</th>\n",
       "      <th>TechSupport</th>\n",
       "      <th>StreamingTV</th>\n",
       "      <th>StreamingMovies</th>\n",
       "    </tr>\n",
       "  </thead>\n",
       "  <tbody>\n",
       "    <tr>\n",
       "      <th>0</th>\n",
       "      <td>7590-VHVEG</td>\n",
       "      <td>DSL</td>\n",
       "      <td>No</td>\n",
       "      <td>Yes</td>\n",
       "      <td>No</td>\n",
       "      <td>No</td>\n",
       "      <td>No</td>\n",
       "      <td>No</td>\n",
       "    </tr>\n",
       "    <tr>\n",
       "      <th>1</th>\n",
       "      <td>5575-GNVDE</td>\n",
       "      <td>DSL</td>\n",
       "      <td>Yes</td>\n",
       "      <td>No</td>\n",
       "      <td>Yes</td>\n",
       "      <td>No</td>\n",
       "      <td>No</td>\n",
       "      <td>No</td>\n",
       "    </tr>\n",
       "    <tr>\n",
       "      <th>2</th>\n",
       "      <td>3668-QPYBK</td>\n",
       "      <td>DSL</td>\n",
       "      <td>Yes</td>\n",
       "      <td>Yes</td>\n",
       "      <td>No</td>\n",
       "      <td>No</td>\n",
       "      <td>No</td>\n",
       "      <td>No</td>\n",
       "    </tr>\n",
       "    <tr>\n",
       "      <th>3</th>\n",
       "      <td>7795-CFOCW</td>\n",
       "      <td>DSL</td>\n",
       "      <td>Yes</td>\n",
       "      <td>No</td>\n",
       "      <td>Yes</td>\n",
       "      <td>Yes</td>\n",
       "      <td>No</td>\n",
       "      <td>No</td>\n",
       "    </tr>\n",
       "    <tr>\n",
       "      <th>4</th>\n",
       "      <td>9237-HQITU</td>\n",
       "      <td>Fiber optic</td>\n",
       "      <td>No</td>\n",
       "      <td>No</td>\n",
       "      <td>No</td>\n",
       "      <td>No</td>\n",
       "      <td>No</td>\n",
       "      <td>No</td>\n",
       "    </tr>\n",
       "    <tr>\n",
       "      <th>...</th>\n",
       "      <td>...</td>\n",
       "      <td>...</td>\n",
       "      <td>...</td>\n",
       "      <td>...</td>\n",
       "      <td>...</td>\n",
       "      <td>...</td>\n",
       "      <td>...</td>\n",
       "      <td>...</td>\n",
       "    </tr>\n",
       "    <tr>\n",
       "      <th>5512</th>\n",
       "      <td>6840-RESVB</td>\n",
       "      <td>DSL</td>\n",
       "      <td>Yes</td>\n",
       "      <td>No</td>\n",
       "      <td>Yes</td>\n",
       "      <td>Yes</td>\n",
       "      <td>Yes</td>\n",
       "      <td>Yes</td>\n",
       "    </tr>\n",
       "    <tr>\n",
       "      <th>5513</th>\n",
       "      <td>2234-XADUH</td>\n",
       "      <td>Fiber optic</td>\n",
       "      <td>No</td>\n",
       "      <td>Yes</td>\n",
       "      <td>Yes</td>\n",
       "      <td>No</td>\n",
       "      <td>Yes</td>\n",
       "      <td>Yes</td>\n",
       "    </tr>\n",
       "    <tr>\n",
       "      <th>5514</th>\n",
       "      <td>4801-JZAZL</td>\n",
       "      <td>DSL</td>\n",
       "      <td>Yes</td>\n",
       "      <td>No</td>\n",
       "      <td>No</td>\n",
       "      <td>No</td>\n",
       "      <td>No</td>\n",
       "      <td>No</td>\n",
       "    </tr>\n",
       "    <tr>\n",
       "      <th>5515</th>\n",
       "      <td>8361-LTMKD</td>\n",
       "      <td>Fiber optic</td>\n",
       "      <td>No</td>\n",
       "      <td>No</td>\n",
       "      <td>No</td>\n",
       "      <td>No</td>\n",
       "      <td>No</td>\n",
       "      <td>No</td>\n",
       "    </tr>\n",
       "    <tr>\n",
       "      <th>5516</th>\n",
       "      <td>3186-AJIEK</td>\n",
       "      <td>Fiber optic</td>\n",
       "      <td>Yes</td>\n",
       "      <td>No</td>\n",
       "      <td>Yes</td>\n",
       "      <td>Yes</td>\n",
       "      <td>Yes</td>\n",
       "      <td>Yes</td>\n",
       "    </tr>\n",
       "  </tbody>\n",
       "</table>\n",
       "<p>5517 rows × 8 columns</p>\n",
       "</div>"
      ],
      "text/plain": [
       "      customerID InternetService OnlineSecurity OnlineBackup DeviceProtection  \\\n",
       "0     7590-VHVEG             DSL             No          Yes               No   \n",
       "1     5575-GNVDE             DSL            Yes           No              Yes   \n",
       "2     3668-QPYBK             DSL            Yes          Yes               No   \n",
       "3     7795-CFOCW             DSL            Yes           No              Yes   \n",
       "4     9237-HQITU     Fiber optic             No           No               No   \n",
       "...          ...             ...            ...          ...              ...   \n",
       "5512  6840-RESVB             DSL            Yes           No              Yes   \n",
       "5513  2234-XADUH     Fiber optic             No          Yes              Yes   \n",
       "5514  4801-JZAZL             DSL            Yes           No               No   \n",
       "5515  8361-LTMKD     Fiber optic             No           No               No   \n",
       "5516  3186-AJIEK     Fiber optic            Yes           No              Yes   \n",
       "\n",
       "     TechSupport StreamingTV StreamingMovies  \n",
       "0             No          No              No  \n",
       "1             No          No              No  \n",
       "2             No          No              No  \n",
       "3            Yes          No              No  \n",
       "4             No          No              No  \n",
       "...          ...         ...             ...  \n",
       "5512         Yes         Yes             Yes  \n",
       "5513          No         Yes             Yes  \n",
       "5514          No          No              No  \n",
       "5515          No          No              No  \n",
       "5516         Yes         Yes             Yes  \n",
       "\n",
       "[5517 rows x 8 columns]"
      ]
     },
     "execution_count": 6,
     "metadata": {},
     "output_type": "execute_result"
    }
   ],
   "source": [
    "internet = pd.read_csv('/datasets/final_provider/internet.csv')\n",
    "internet"
   ]
  },
  {
   "cell_type": "code",
   "execution_count": 7,
   "metadata": {},
   "outputs": [
    {
     "name": "stdout",
     "output_type": "stream",
     "text": [
      "<class 'pandas.core.frame.DataFrame'>\n",
      "RangeIndex: 5517 entries, 0 to 5516\n",
      "Data columns (total 8 columns):\n",
      " #   Column            Non-Null Count  Dtype \n",
      "---  ------            --------------  ----- \n",
      " 0   customerID        5517 non-null   object\n",
      " 1   InternetService   5517 non-null   object\n",
      " 2   OnlineSecurity    5517 non-null   object\n",
      " 3   OnlineBackup      5517 non-null   object\n",
      " 4   DeviceProtection  5517 non-null   object\n",
      " 5   TechSupport       5517 non-null   object\n",
      " 6   StreamingTV       5517 non-null   object\n",
      " 7   StreamingMovies   5517 non-null   object\n",
      "dtypes: object(8)\n",
      "memory usage: 344.9+ KB\n"
     ]
    }
   ],
   "source": [
    "internet.info()"
   ]
  },
  {
   "cell_type": "code",
   "execution_count": 8,
   "metadata": {},
   "outputs": [
    {
     "data": {
      "text/html": [
       "<div>\n",
       "<style scoped>\n",
       "    .dataframe tbody tr th:only-of-type {\n",
       "        vertical-align: middle;\n",
       "    }\n",
       "\n",
       "    .dataframe tbody tr th {\n",
       "        vertical-align: top;\n",
       "    }\n",
       "\n",
       "    .dataframe thead th {\n",
       "        text-align: right;\n",
       "    }\n",
       "</style>\n",
       "<table border=\"1\" class=\"dataframe\">\n",
       "  <thead>\n",
       "    <tr style=\"text-align: right;\">\n",
       "      <th></th>\n",
       "      <th>customerID</th>\n",
       "      <th>MultipleLines</th>\n",
       "    </tr>\n",
       "  </thead>\n",
       "  <tbody>\n",
       "    <tr>\n",
       "      <th>0</th>\n",
       "      <td>5575-GNVDE</td>\n",
       "      <td>No</td>\n",
       "    </tr>\n",
       "    <tr>\n",
       "      <th>1</th>\n",
       "      <td>3668-QPYBK</td>\n",
       "      <td>No</td>\n",
       "    </tr>\n",
       "    <tr>\n",
       "      <th>2</th>\n",
       "      <td>9237-HQITU</td>\n",
       "      <td>No</td>\n",
       "    </tr>\n",
       "    <tr>\n",
       "      <th>3</th>\n",
       "      <td>9305-CDSKC</td>\n",
       "      <td>Yes</td>\n",
       "    </tr>\n",
       "    <tr>\n",
       "      <th>4</th>\n",
       "      <td>1452-KIOVK</td>\n",
       "      <td>Yes</td>\n",
       "    </tr>\n",
       "    <tr>\n",
       "      <th>...</th>\n",
       "      <td>...</td>\n",
       "      <td>...</td>\n",
       "    </tr>\n",
       "    <tr>\n",
       "      <th>6356</th>\n",
       "      <td>2569-WGERO</td>\n",
       "      <td>No</td>\n",
       "    </tr>\n",
       "    <tr>\n",
       "      <th>6357</th>\n",
       "      <td>6840-RESVB</td>\n",
       "      <td>Yes</td>\n",
       "    </tr>\n",
       "    <tr>\n",
       "      <th>6358</th>\n",
       "      <td>2234-XADUH</td>\n",
       "      <td>Yes</td>\n",
       "    </tr>\n",
       "    <tr>\n",
       "      <th>6359</th>\n",
       "      <td>8361-LTMKD</td>\n",
       "      <td>Yes</td>\n",
       "    </tr>\n",
       "    <tr>\n",
       "      <th>6360</th>\n",
       "      <td>3186-AJIEK</td>\n",
       "      <td>No</td>\n",
       "    </tr>\n",
       "  </tbody>\n",
       "</table>\n",
       "<p>6361 rows × 2 columns</p>\n",
       "</div>"
      ],
      "text/plain": [
       "      customerID MultipleLines\n",
       "0     5575-GNVDE            No\n",
       "1     3668-QPYBK            No\n",
       "2     9237-HQITU            No\n",
       "3     9305-CDSKC           Yes\n",
       "4     1452-KIOVK           Yes\n",
       "...          ...           ...\n",
       "6356  2569-WGERO            No\n",
       "6357  6840-RESVB           Yes\n",
       "6358  2234-XADUH           Yes\n",
       "6359  8361-LTMKD           Yes\n",
       "6360  3186-AJIEK            No\n",
       "\n",
       "[6361 rows x 2 columns]"
      ]
     },
     "execution_count": 8,
     "metadata": {},
     "output_type": "execute_result"
    }
   ],
   "source": [
    "phone = pd.read_csv('/datasets/final_provider/phone.csv')\n",
    "phone"
   ]
  },
  {
   "cell_type": "code",
   "execution_count": 9,
   "metadata": {},
   "outputs": [
    {
     "name": "stdout",
     "output_type": "stream",
     "text": [
      "<class 'pandas.core.frame.DataFrame'>\n",
      "RangeIndex: 6361 entries, 0 to 6360\n",
      "Data columns (total 2 columns):\n",
      " #   Column         Non-Null Count  Dtype \n",
      "---  ------         --------------  ----- \n",
      " 0   customerID     6361 non-null   object\n",
      " 1   MultipleLines  6361 non-null   object\n",
      "dtypes: object(2)\n",
      "memory usage: 99.5+ KB\n"
     ]
    }
   ],
   "source": [
    "phone.info()"
   ]
  },
  {
   "cell_type": "markdown",
   "metadata": {},
   "source": [
    "У нас 4 таблицы с различными данными по клиентам компании, которые можно объединить по общему полю customerID.  \n",
    "Большинство данных представлено типом object, проверим, какие данные храняться в этих столбцах:"
   ]
  },
  {
   "cell_type": "code",
   "execution_count": 10,
   "metadata": {},
   "outputs": [],
   "source": [
    "def uni(data):\n",
    "    data_minus = data.drop('customerID', axis=1)\n",
    "    for row in data_minus: \n",
    "        print(data_minus[row].unique())"
   ]
  },
  {
   "cell_type": "code",
   "execution_count": 11,
   "metadata": {},
   "outputs": [
    {
     "name": "stdout",
     "output_type": "stream",
     "text": [
      "['No' 'Yes']\n"
     ]
    }
   ],
   "source": [
    "uni(phone)"
   ]
  },
  {
   "cell_type": "code",
   "execution_count": 12,
   "metadata": {},
   "outputs": [
    {
     "name": "stdout",
     "output_type": "stream",
     "text": [
      "['DSL' 'Fiber optic']\n",
      "['No' 'Yes']\n",
      "['Yes' 'No']\n",
      "['No' 'Yes']\n",
      "['No' 'Yes']\n",
      "['No' 'Yes']\n",
      "['No' 'Yes']\n"
     ]
    }
   ],
   "source": [
    "uni(internet)"
   ]
  },
  {
   "cell_type": "code",
   "execution_count": 13,
   "metadata": {},
   "outputs": [
    {
     "name": "stdout",
     "output_type": "stream",
     "text": [
      "['Female' 'Male']\n",
      "[0 1]\n",
      "['Yes' 'No']\n",
      "['No' 'Yes']\n"
     ]
    }
   ],
   "source": [
    "uni(personal)"
   ]
  },
  {
   "cell_type": "code",
   "execution_count": 14,
   "metadata": {},
   "outputs": [
    {
     "name": "stdout",
     "output_type": "stream",
     "text": [
      "4973-MGTON    1\n",
      "6425-JWTDV    1\n",
      "4710-NKCAW    1\n",
      "3428-XZMAZ    1\n",
      "6591-QGOYB    1\n",
      "             ..\n",
      "7826-VVKWT    1\n",
      "3594-IVHJZ    1\n",
      "2080-CAZNM    1\n",
      "6235-VDHOM    1\n",
      "2013-SGDXK    1\n",
      "Name: customerID, Length: 7043, dtype: int64\n",
      "2014-02-01    366\n",
      "2019-10-01    237\n",
      "2019-09-01    237\n",
      "2019-11-01    237\n",
      "2020-01-01    233\n",
      "             ... \n",
      "2020-02-01     11\n",
      "2014-01-01      7\n",
      "2013-12-01      3\n",
      "2013-10-01      3\n",
      "2013-11-01      2\n",
      "Name: BeginDate, Length: 77, dtype: int64\n",
      "No                     5174\n",
      "2019-11-01 00:00:00     485\n",
      "2019-12-01 00:00:00     466\n",
      "2020-01-01 00:00:00     460\n",
      "2019-10-01 00:00:00     458\n",
      "Name: EndDate, dtype: int64\n",
      "Month-to-month    3875\n",
      "Two year          1695\n",
      "One year          1473\n",
      "Name: Type, dtype: int64\n",
      "Yes    4171\n",
      "No     2872\n",
      "Name: PaperlessBilling, dtype: int64\n",
      "Electronic check             2365\n",
      "Mailed check                 1612\n",
      "Bank transfer (automatic)    1544\n",
      "Credit card (automatic)      1522\n",
      "Name: PaymentMethod, dtype: int64\n",
      "20.05     61\n",
      "19.85     45\n",
      "19.90     44\n",
      "19.95     44\n",
      "19.65     43\n",
      "          ..\n",
      "87.65      1\n",
      "35.30      1\n",
      "114.85     1\n",
      "56.50      1\n",
      "97.25      1\n",
      "Name: MonthlyCharges, Length: 1585, dtype: int64\n",
      "20.2       11\n",
      "           11\n",
      "19.75       9\n",
      "19.65       8\n",
      "20.05       8\n",
      "           ..\n",
      "4539.35     1\n",
      "2680.15     1\n",
      "5064.85     1\n",
      "5301.1      1\n",
      "3974.15     1\n",
      "Name: TotalCharges, Length: 6531, dtype: int64\n"
     ]
    }
   ],
   "source": [
    "for row in contract: \n",
    "      print(contract[row].value_counts())"
   ]
  },
  {
   "cell_type": "markdown",
   "metadata": {},
   "source": [
    "В таблицах  personal, internet, phone все данные можно заменить на 0 и 1 для удобства анализа и обработки, в таблице contract так можно поступить с PaperlessBilling."
   ]
  },
  {
   "cell_type": "markdown",
   "metadata": {},
   "source": [
    "### Объединение данных"
   ]
  },
  {
   "cell_type": "code",
   "execution_count": 15,
   "metadata": {},
   "outputs": [
    {
     "data": {
      "text/html": [
       "<div>\n",
       "<style scoped>\n",
       "    .dataframe tbody tr th:only-of-type {\n",
       "        vertical-align: middle;\n",
       "    }\n",
       "\n",
       "    .dataframe tbody tr th {\n",
       "        vertical-align: top;\n",
       "    }\n",
       "\n",
       "    .dataframe thead th {\n",
       "        text-align: right;\n",
       "    }\n",
       "</style>\n",
       "<table border=\"1\" class=\"dataframe\">\n",
       "  <thead>\n",
       "    <tr style=\"text-align: right;\">\n",
       "      <th></th>\n",
       "      <th>customerID</th>\n",
       "      <th>BeginDate</th>\n",
       "      <th>EndDate</th>\n",
       "      <th>Type</th>\n",
       "      <th>PaperlessBilling</th>\n",
       "      <th>PaymentMethod</th>\n",
       "      <th>MonthlyCharges</th>\n",
       "      <th>TotalCharges</th>\n",
       "      <th>MultipleLines</th>\n",
       "    </tr>\n",
       "  </thead>\n",
       "  <tbody>\n",
       "    <tr>\n",
       "      <th>0</th>\n",
       "      <td>7590-VHVEG</td>\n",
       "      <td>2020-01-01</td>\n",
       "      <td>No</td>\n",
       "      <td>Month-to-month</td>\n",
       "      <td>Yes</td>\n",
       "      <td>Electronic check</td>\n",
       "      <td>29.85</td>\n",
       "      <td>29.85</td>\n",
       "      <td>NaN</td>\n",
       "    </tr>\n",
       "    <tr>\n",
       "      <th>1</th>\n",
       "      <td>5575-GNVDE</td>\n",
       "      <td>2017-04-01</td>\n",
       "      <td>No</td>\n",
       "      <td>One year</td>\n",
       "      <td>No</td>\n",
       "      <td>Mailed check</td>\n",
       "      <td>56.95</td>\n",
       "      <td>1889.5</td>\n",
       "      <td>No</td>\n",
       "    </tr>\n",
       "    <tr>\n",
       "      <th>2</th>\n",
       "      <td>3668-QPYBK</td>\n",
       "      <td>2019-10-01</td>\n",
       "      <td>2019-12-01 00:00:00</td>\n",
       "      <td>Month-to-month</td>\n",
       "      <td>Yes</td>\n",
       "      <td>Mailed check</td>\n",
       "      <td>53.85</td>\n",
       "      <td>108.15</td>\n",
       "      <td>No</td>\n",
       "    </tr>\n",
       "    <tr>\n",
       "      <th>3</th>\n",
       "      <td>7795-CFOCW</td>\n",
       "      <td>2016-05-01</td>\n",
       "      <td>No</td>\n",
       "      <td>One year</td>\n",
       "      <td>No</td>\n",
       "      <td>Bank transfer (automatic)</td>\n",
       "      <td>42.30</td>\n",
       "      <td>1840.75</td>\n",
       "      <td>NaN</td>\n",
       "    </tr>\n",
       "    <tr>\n",
       "      <th>4</th>\n",
       "      <td>9237-HQITU</td>\n",
       "      <td>2019-09-01</td>\n",
       "      <td>2019-11-01 00:00:00</td>\n",
       "      <td>Month-to-month</td>\n",
       "      <td>Yes</td>\n",
       "      <td>Electronic check</td>\n",
       "      <td>70.70</td>\n",
       "      <td>151.65</td>\n",
       "      <td>No</td>\n",
       "    </tr>\n",
       "    <tr>\n",
       "      <th>...</th>\n",
       "      <td>...</td>\n",
       "      <td>...</td>\n",
       "      <td>...</td>\n",
       "      <td>...</td>\n",
       "      <td>...</td>\n",
       "      <td>...</td>\n",
       "      <td>...</td>\n",
       "      <td>...</td>\n",
       "      <td>...</td>\n",
       "    </tr>\n",
       "    <tr>\n",
       "      <th>7038</th>\n",
       "      <td>6840-RESVB</td>\n",
       "      <td>2018-02-01</td>\n",
       "      <td>No</td>\n",
       "      <td>One year</td>\n",
       "      <td>Yes</td>\n",
       "      <td>Mailed check</td>\n",
       "      <td>84.80</td>\n",
       "      <td>1990.5</td>\n",
       "      <td>Yes</td>\n",
       "    </tr>\n",
       "    <tr>\n",
       "      <th>7039</th>\n",
       "      <td>2234-XADUH</td>\n",
       "      <td>2014-02-01</td>\n",
       "      <td>No</td>\n",
       "      <td>One year</td>\n",
       "      <td>Yes</td>\n",
       "      <td>Credit card (automatic)</td>\n",
       "      <td>103.20</td>\n",
       "      <td>7362.9</td>\n",
       "      <td>Yes</td>\n",
       "    </tr>\n",
       "    <tr>\n",
       "      <th>7040</th>\n",
       "      <td>4801-JZAZL</td>\n",
       "      <td>2019-03-01</td>\n",
       "      <td>No</td>\n",
       "      <td>Month-to-month</td>\n",
       "      <td>Yes</td>\n",
       "      <td>Electronic check</td>\n",
       "      <td>29.60</td>\n",
       "      <td>346.45</td>\n",
       "      <td>NaN</td>\n",
       "    </tr>\n",
       "    <tr>\n",
       "      <th>7041</th>\n",
       "      <td>8361-LTMKD</td>\n",
       "      <td>2019-07-01</td>\n",
       "      <td>2019-11-01 00:00:00</td>\n",
       "      <td>Month-to-month</td>\n",
       "      <td>Yes</td>\n",
       "      <td>Mailed check</td>\n",
       "      <td>74.40</td>\n",
       "      <td>306.6</td>\n",
       "      <td>Yes</td>\n",
       "    </tr>\n",
       "    <tr>\n",
       "      <th>7042</th>\n",
       "      <td>3186-AJIEK</td>\n",
       "      <td>2014-08-01</td>\n",
       "      <td>No</td>\n",
       "      <td>Two year</td>\n",
       "      <td>Yes</td>\n",
       "      <td>Bank transfer (automatic)</td>\n",
       "      <td>105.65</td>\n",
       "      <td>6844.5</td>\n",
       "      <td>No</td>\n",
       "    </tr>\n",
       "  </tbody>\n",
       "</table>\n",
       "<p>7043 rows × 9 columns</p>\n",
       "</div>"
      ],
      "text/plain": [
       "      customerID   BeginDate              EndDate            Type  \\\n",
       "0     7590-VHVEG  2020-01-01                   No  Month-to-month   \n",
       "1     5575-GNVDE  2017-04-01                   No        One year   \n",
       "2     3668-QPYBK  2019-10-01  2019-12-01 00:00:00  Month-to-month   \n",
       "3     7795-CFOCW  2016-05-01                   No        One year   \n",
       "4     9237-HQITU  2019-09-01  2019-11-01 00:00:00  Month-to-month   \n",
       "...          ...         ...                  ...             ...   \n",
       "7038  6840-RESVB  2018-02-01                   No        One year   \n",
       "7039  2234-XADUH  2014-02-01                   No        One year   \n",
       "7040  4801-JZAZL  2019-03-01                   No  Month-to-month   \n",
       "7041  8361-LTMKD  2019-07-01  2019-11-01 00:00:00  Month-to-month   \n",
       "7042  3186-AJIEK  2014-08-01                   No        Two year   \n",
       "\n",
       "     PaperlessBilling              PaymentMethod  MonthlyCharges TotalCharges  \\\n",
       "0                 Yes           Electronic check           29.85        29.85   \n",
       "1                  No               Mailed check           56.95       1889.5   \n",
       "2                 Yes               Mailed check           53.85       108.15   \n",
       "3                  No  Bank transfer (automatic)           42.30      1840.75   \n",
       "4                 Yes           Electronic check           70.70       151.65   \n",
       "...               ...                        ...             ...          ...   \n",
       "7038              Yes               Mailed check           84.80       1990.5   \n",
       "7039              Yes    Credit card (automatic)          103.20       7362.9   \n",
       "7040              Yes           Electronic check           29.60       346.45   \n",
       "7041              Yes               Mailed check           74.40        306.6   \n",
       "7042              Yes  Bank transfer (automatic)          105.65       6844.5   \n",
       "\n",
       "     MultipleLines  \n",
       "0              NaN  \n",
       "1               No  \n",
       "2               No  \n",
       "3              NaN  \n",
       "4               No  \n",
       "...            ...  \n",
       "7038           Yes  \n",
       "7039           Yes  \n",
       "7040           NaN  \n",
       "7041           Yes  \n",
       "7042            No  \n",
       "\n",
       "[7043 rows x 9 columns]"
      ]
     },
     "execution_count": 15,
     "metadata": {},
     "output_type": "execute_result"
    }
   ],
   "source": [
    "df = contract.merge(phone,on='customerID', how='outer')\n",
    "df"
   ]
  },
  {
   "cell_type": "code",
   "execution_count": 16,
   "metadata": {},
   "outputs": [
    {
     "name": "stdout",
     "output_type": "stream",
     "text": [
      "7043 7043\n"
     ]
    }
   ],
   "source": [
    "print(len(df),len(contract))"
   ]
  },
  {
   "cell_type": "code",
   "execution_count": 17,
   "metadata": {},
   "outputs": [
    {
     "data": {
      "text/html": [
       "<div>\n",
       "<style scoped>\n",
       "    .dataframe tbody tr th:only-of-type {\n",
       "        vertical-align: middle;\n",
       "    }\n",
       "\n",
       "    .dataframe tbody tr th {\n",
       "        vertical-align: top;\n",
       "    }\n",
       "\n",
       "    .dataframe thead th {\n",
       "        text-align: right;\n",
       "    }\n",
       "</style>\n",
       "<table border=\"1\" class=\"dataframe\">\n",
       "  <thead>\n",
       "    <tr style=\"text-align: right;\">\n",
       "      <th></th>\n",
       "      <th>customerID</th>\n",
       "      <th>BeginDate</th>\n",
       "      <th>EndDate</th>\n",
       "      <th>Type</th>\n",
       "      <th>PaperlessBilling</th>\n",
       "      <th>PaymentMethod</th>\n",
       "      <th>MonthlyCharges</th>\n",
       "      <th>TotalCharges</th>\n",
       "      <th>MultipleLines</th>\n",
       "      <th>InternetService</th>\n",
       "      <th>OnlineSecurity</th>\n",
       "      <th>OnlineBackup</th>\n",
       "      <th>DeviceProtection</th>\n",
       "      <th>TechSupport</th>\n",
       "      <th>StreamingTV</th>\n",
       "      <th>StreamingMovies</th>\n",
       "    </tr>\n",
       "  </thead>\n",
       "  <tbody>\n",
       "    <tr>\n",
       "      <th>0</th>\n",
       "      <td>7590-VHVEG</td>\n",
       "      <td>2020-01-01</td>\n",
       "      <td>No</td>\n",
       "      <td>Month-to-month</td>\n",
       "      <td>Yes</td>\n",
       "      <td>Electronic check</td>\n",
       "      <td>29.85</td>\n",
       "      <td>29.85</td>\n",
       "      <td>NaN</td>\n",
       "      <td>DSL</td>\n",
       "      <td>No</td>\n",
       "      <td>Yes</td>\n",
       "      <td>No</td>\n",
       "      <td>No</td>\n",
       "      <td>No</td>\n",
       "      <td>No</td>\n",
       "    </tr>\n",
       "    <tr>\n",
       "      <th>1</th>\n",
       "      <td>5575-GNVDE</td>\n",
       "      <td>2017-04-01</td>\n",
       "      <td>No</td>\n",
       "      <td>One year</td>\n",
       "      <td>No</td>\n",
       "      <td>Mailed check</td>\n",
       "      <td>56.95</td>\n",
       "      <td>1889.5</td>\n",
       "      <td>No</td>\n",
       "      <td>DSL</td>\n",
       "      <td>Yes</td>\n",
       "      <td>No</td>\n",
       "      <td>Yes</td>\n",
       "      <td>No</td>\n",
       "      <td>No</td>\n",
       "      <td>No</td>\n",
       "    </tr>\n",
       "    <tr>\n",
       "      <th>2</th>\n",
       "      <td>3668-QPYBK</td>\n",
       "      <td>2019-10-01</td>\n",
       "      <td>2019-12-01 00:00:00</td>\n",
       "      <td>Month-to-month</td>\n",
       "      <td>Yes</td>\n",
       "      <td>Mailed check</td>\n",
       "      <td>53.85</td>\n",
       "      <td>108.15</td>\n",
       "      <td>No</td>\n",
       "      <td>DSL</td>\n",
       "      <td>Yes</td>\n",
       "      <td>Yes</td>\n",
       "      <td>No</td>\n",
       "      <td>No</td>\n",
       "      <td>No</td>\n",
       "      <td>No</td>\n",
       "    </tr>\n",
       "  </tbody>\n",
       "</table>\n",
       "</div>"
      ],
      "text/plain": [
       "   customerID   BeginDate              EndDate            Type  \\\n",
       "0  7590-VHVEG  2020-01-01                   No  Month-to-month   \n",
       "1  5575-GNVDE  2017-04-01                   No        One year   \n",
       "2  3668-QPYBK  2019-10-01  2019-12-01 00:00:00  Month-to-month   \n",
       "\n",
       "  PaperlessBilling     PaymentMethod  MonthlyCharges TotalCharges  \\\n",
       "0              Yes  Electronic check           29.85        29.85   \n",
       "1               No      Mailed check           56.95       1889.5   \n",
       "2              Yes      Mailed check           53.85       108.15   \n",
       "\n",
       "  MultipleLines InternetService OnlineSecurity OnlineBackup DeviceProtection  \\\n",
       "0           NaN             DSL             No          Yes               No   \n",
       "1            No             DSL            Yes           No              Yes   \n",
       "2            No             DSL            Yes          Yes               No   \n",
       "\n",
       "  TechSupport StreamingTV StreamingMovies  \n",
       "0          No          No              No  \n",
       "1          No          No              No  \n",
       "2          No          No              No  "
      ]
     },
     "execution_count": 17,
     "metadata": {},
     "output_type": "execute_result"
    }
   ],
   "source": [
    "df = df.merge(internet,on='customerID', how='outer')\n",
    "df.head(3)"
   ]
  },
  {
   "cell_type": "code",
   "execution_count": 18,
   "metadata": {},
   "outputs": [
    {
     "data": {
      "text/plain": [
       "7043"
      ]
     },
     "execution_count": 18,
     "metadata": {},
     "output_type": "execute_result"
    }
   ],
   "source": [
    "len(df)"
   ]
  },
  {
   "cell_type": "code",
   "execution_count": 19,
   "metadata": {},
   "outputs": [
    {
     "data": {
      "text/html": [
       "<div>\n",
       "<style scoped>\n",
       "    .dataframe tbody tr th:only-of-type {\n",
       "        vertical-align: middle;\n",
       "    }\n",
       "\n",
       "    .dataframe tbody tr th {\n",
       "        vertical-align: top;\n",
       "    }\n",
       "\n",
       "    .dataframe thead th {\n",
       "        text-align: right;\n",
       "    }\n",
       "</style>\n",
       "<table border=\"1\" class=\"dataframe\">\n",
       "  <thead>\n",
       "    <tr style=\"text-align: right;\">\n",
       "      <th></th>\n",
       "      <th>customerID</th>\n",
       "      <th>BeginDate</th>\n",
       "      <th>EndDate</th>\n",
       "      <th>Type</th>\n",
       "      <th>PaperlessBilling</th>\n",
       "      <th>PaymentMethod</th>\n",
       "      <th>MonthlyCharges</th>\n",
       "      <th>TotalCharges</th>\n",
       "      <th>MultipleLines</th>\n",
       "      <th>InternetService</th>\n",
       "      <th>OnlineSecurity</th>\n",
       "      <th>OnlineBackup</th>\n",
       "      <th>DeviceProtection</th>\n",
       "      <th>TechSupport</th>\n",
       "      <th>StreamingTV</th>\n",
       "      <th>StreamingMovies</th>\n",
       "      <th>gender</th>\n",
       "      <th>SeniorCitizen</th>\n",
       "      <th>Partner</th>\n",
       "      <th>Dependents</th>\n",
       "    </tr>\n",
       "  </thead>\n",
       "  <tbody>\n",
       "    <tr>\n",
       "      <th>0</th>\n",
       "      <td>7590-VHVEG</td>\n",
       "      <td>2020-01-01</td>\n",
       "      <td>No</td>\n",
       "      <td>Month-to-month</td>\n",
       "      <td>Yes</td>\n",
       "      <td>Electronic check</td>\n",
       "      <td>29.85</td>\n",
       "      <td>29.85</td>\n",
       "      <td>NaN</td>\n",
       "      <td>DSL</td>\n",
       "      <td>No</td>\n",
       "      <td>Yes</td>\n",
       "      <td>No</td>\n",
       "      <td>No</td>\n",
       "      <td>No</td>\n",
       "      <td>No</td>\n",
       "      <td>Female</td>\n",
       "      <td>0</td>\n",
       "      <td>Yes</td>\n",
       "      <td>No</td>\n",
       "    </tr>\n",
       "    <tr>\n",
       "      <th>1</th>\n",
       "      <td>5575-GNVDE</td>\n",
       "      <td>2017-04-01</td>\n",
       "      <td>No</td>\n",
       "      <td>One year</td>\n",
       "      <td>No</td>\n",
       "      <td>Mailed check</td>\n",
       "      <td>56.95</td>\n",
       "      <td>1889.5</td>\n",
       "      <td>No</td>\n",
       "      <td>DSL</td>\n",
       "      <td>Yes</td>\n",
       "      <td>No</td>\n",
       "      <td>Yes</td>\n",
       "      <td>No</td>\n",
       "      <td>No</td>\n",
       "      <td>No</td>\n",
       "      <td>Male</td>\n",
       "      <td>0</td>\n",
       "      <td>No</td>\n",
       "      <td>No</td>\n",
       "    </tr>\n",
       "    <tr>\n",
       "      <th>2</th>\n",
       "      <td>3668-QPYBK</td>\n",
       "      <td>2019-10-01</td>\n",
       "      <td>2019-12-01 00:00:00</td>\n",
       "      <td>Month-to-month</td>\n",
       "      <td>Yes</td>\n",
       "      <td>Mailed check</td>\n",
       "      <td>53.85</td>\n",
       "      <td>108.15</td>\n",
       "      <td>No</td>\n",
       "      <td>DSL</td>\n",
       "      <td>Yes</td>\n",
       "      <td>Yes</td>\n",
       "      <td>No</td>\n",
       "      <td>No</td>\n",
       "      <td>No</td>\n",
       "      <td>No</td>\n",
       "      <td>Male</td>\n",
       "      <td>0</td>\n",
       "      <td>No</td>\n",
       "      <td>No</td>\n",
       "    </tr>\n",
       "  </tbody>\n",
       "</table>\n",
       "</div>"
      ],
      "text/plain": [
       "   customerID   BeginDate              EndDate            Type  \\\n",
       "0  7590-VHVEG  2020-01-01                   No  Month-to-month   \n",
       "1  5575-GNVDE  2017-04-01                   No        One year   \n",
       "2  3668-QPYBK  2019-10-01  2019-12-01 00:00:00  Month-to-month   \n",
       "\n",
       "  PaperlessBilling     PaymentMethod  MonthlyCharges TotalCharges  \\\n",
       "0              Yes  Electronic check           29.85        29.85   \n",
       "1               No      Mailed check           56.95       1889.5   \n",
       "2              Yes      Mailed check           53.85       108.15   \n",
       "\n",
       "  MultipleLines InternetService OnlineSecurity OnlineBackup DeviceProtection  \\\n",
       "0           NaN             DSL             No          Yes               No   \n",
       "1            No             DSL            Yes           No              Yes   \n",
       "2            No             DSL            Yes          Yes               No   \n",
       "\n",
       "  TechSupport StreamingTV StreamingMovies  gender  SeniorCitizen Partner  \\\n",
       "0          No          No              No  Female              0     Yes   \n",
       "1          No          No              No    Male              0      No   \n",
       "2          No          No              No    Male              0      No   \n",
       "\n",
       "  Dependents  \n",
       "0         No  \n",
       "1         No  \n",
       "2         No  "
      ]
     },
     "execution_count": 19,
     "metadata": {},
     "output_type": "execute_result"
    }
   ],
   "source": [
    "df = df.merge(personal,on='customerID', how='outer')\n",
    "df.head(3)"
   ]
  },
  {
   "cell_type": "code",
   "execution_count": 20,
   "metadata": {},
   "outputs": [
    {
     "data": {
      "text/plain": [
       "7043"
      ]
     },
     "execution_count": 20,
     "metadata": {},
     "output_type": "execute_result"
    }
   ],
   "source": [
    "len(df)"
   ]
  },
  {
   "cell_type": "code",
   "execution_count": 21,
   "metadata": {},
   "outputs": [
    {
     "name": "stdout",
     "output_type": "stream",
     "text": [
      "<class 'pandas.core.frame.DataFrame'>\n",
      "Int64Index: 7043 entries, 0 to 7042\n",
      "Data columns (total 20 columns):\n",
      " #   Column            Non-Null Count  Dtype  \n",
      "---  ------            --------------  -----  \n",
      " 0   customerID        7043 non-null   object \n",
      " 1   BeginDate         7043 non-null   object \n",
      " 2   EndDate           7043 non-null   object \n",
      " 3   Type              7043 non-null   object \n",
      " 4   PaperlessBilling  7043 non-null   object \n",
      " 5   PaymentMethod     7043 non-null   object \n",
      " 6   MonthlyCharges    7043 non-null   float64\n",
      " 7   TotalCharges      7043 non-null   object \n",
      " 8   MultipleLines     6361 non-null   object \n",
      " 9   InternetService   5517 non-null   object \n",
      " 10  OnlineSecurity    5517 non-null   object \n",
      " 11  OnlineBackup      5517 non-null   object \n",
      " 12  DeviceProtection  5517 non-null   object \n",
      " 13  TechSupport       5517 non-null   object \n",
      " 14  StreamingTV       5517 non-null   object \n",
      " 15  StreamingMovies   5517 non-null   object \n",
      " 16  gender            7043 non-null   object \n",
      " 17  SeniorCitizen     7043 non-null   int64  \n",
      " 18  Partner           7043 non-null   object \n",
      " 19  Dependents        7043 non-null   object \n",
      "dtypes: float64(1), int64(1), object(18)\n",
      "memory usage: 1.1+ MB\n"
     ]
    }
   ],
   "source": [
    "df.info()"
   ]
  },
  {
   "cell_type": "markdown",
   "metadata": {},
   "source": [
    "### Подготовка данных для анализа"
   ]
  },
  {
   "cell_type": "markdown",
   "metadata": {},
   "source": [
    "После объединения у нас получились отсутствующие значения у тех клиентов, кто не пользуются одним из сервисов.  \n",
    "Создадим новые колонки, которые нам явно сообщают, чем клиент пользуется:"
   ]
  },
  {
   "cell_type": "code",
   "execution_count": 22,
   "metadata": {},
   "outputs": [
    {
     "data": {
      "text/html": [
       "<div>\n",
       "<style scoped>\n",
       "    .dataframe tbody tr th:only-of-type {\n",
       "        vertical-align: middle;\n",
       "    }\n",
       "\n",
       "    .dataframe tbody tr th {\n",
       "        vertical-align: top;\n",
       "    }\n",
       "\n",
       "    .dataframe thead th {\n",
       "        text-align: right;\n",
       "    }\n",
       "</style>\n",
       "<table border=\"1\" class=\"dataframe\">\n",
       "  <thead>\n",
       "    <tr style=\"text-align: right;\">\n",
       "      <th></th>\n",
       "      <th>customerID</th>\n",
       "      <th>BeginDate</th>\n",
       "      <th>EndDate</th>\n",
       "      <th>Type</th>\n",
       "      <th>PaperlessBilling</th>\n",
       "      <th>PaymentMethod</th>\n",
       "      <th>MonthlyCharges</th>\n",
       "      <th>TotalCharges</th>\n",
       "      <th>MultipleLines</th>\n",
       "      <th>InternetService</th>\n",
       "      <th>...</th>\n",
       "      <th>DeviceProtection</th>\n",
       "      <th>TechSupport</th>\n",
       "      <th>StreamingTV</th>\n",
       "      <th>StreamingMovies</th>\n",
       "      <th>gender</th>\n",
       "      <th>SeniorCitizen</th>\n",
       "      <th>Partner</th>\n",
       "      <th>Dependents</th>\n",
       "      <th>is_internet_user</th>\n",
       "      <th>is_phone_user</th>\n",
       "    </tr>\n",
       "  </thead>\n",
       "  <tbody>\n",
       "    <tr>\n",
       "      <th>0</th>\n",
       "      <td>7590-VHVEG</td>\n",
       "      <td>2020-01-01</td>\n",
       "      <td>No</td>\n",
       "      <td>Month-to-month</td>\n",
       "      <td>Yes</td>\n",
       "      <td>Electronic check</td>\n",
       "      <td>29.85</td>\n",
       "      <td>29.85</td>\n",
       "      <td>NaN</td>\n",
       "      <td>DSL</td>\n",
       "      <td>...</td>\n",
       "      <td>No</td>\n",
       "      <td>No</td>\n",
       "      <td>No</td>\n",
       "      <td>No</td>\n",
       "      <td>Female</td>\n",
       "      <td>0</td>\n",
       "      <td>Yes</td>\n",
       "      <td>No</td>\n",
       "      <td>1</td>\n",
       "      <td>0</td>\n",
       "    </tr>\n",
       "    <tr>\n",
       "      <th>1</th>\n",
       "      <td>5575-GNVDE</td>\n",
       "      <td>2017-04-01</td>\n",
       "      <td>No</td>\n",
       "      <td>One year</td>\n",
       "      <td>No</td>\n",
       "      <td>Mailed check</td>\n",
       "      <td>56.95</td>\n",
       "      <td>1889.5</td>\n",
       "      <td>No</td>\n",
       "      <td>DSL</td>\n",
       "      <td>...</td>\n",
       "      <td>Yes</td>\n",
       "      <td>No</td>\n",
       "      <td>No</td>\n",
       "      <td>No</td>\n",
       "      <td>Male</td>\n",
       "      <td>0</td>\n",
       "      <td>No</td>\n",
       "      <td>No</td>\n",
       "      <td>1</td>\n",
       "      <td>1</td>\n",
       "    </tr>\n",
       "    <tr>\n",
       "      <th>2</th>\n",
       "      <td>3668-QPYBK</td>\n",
       "      <td>2019-10-01</td>\n",
       "      <td>2019-12-01 00:00:00</td>\n",
       "      <td>Month-to-month</td>\n",
       "      <td>Yes</td>\n",
       "      <td>Mailed check</td>\n",
       "      <td>53.85</td>\n",
       "      <td>108.15</td>\n",
       "      <td>No</td>\n",
       "      <td>DSL</td>\n",
       "      <td>...</td>\n",
       "      <td>No</td>\n",
       "      <td>No</td>\n",
       "      <td>No</td>\n",
       "      <td>No</td>\n",
       "      <td>Male</td>\n",
       "      <td>0</td>\n",
       "      <td>No</td>\n",
       "      <td>No</td>\n",
       "      <td>1</td>\n",
       "      <td>1</td>\n",
       "    </tr>\n",
       "  </tbody>\n",
       "</table>\n",
       "<p>3 rows × 22 columns</p>\n",
       "</div>"
      ],
      "text/plain": [
       "   customerID   BeginDate              EndDate            Type  \\\n",
       "0  7590-VHVEG  2020-01-01                   No  Month-to-month   \n",
       "1  5575-GNVDE  2017-04-01                   No        One year   \n",
       "2  3668-QPYBK  2019-10-01  2019-12-01 00:00:00  Month-to-month   \n",
       "\n",
       "  PaperlessBilling     PaymentMethod  MonthlyCharges TotalCharges  \\\n",
       "0              Yes  Electronic check           29.85        29.85   \n",
       "1               No      Mailed check           56.95       1889.5   \n",
       "2              Yes      Mailed check           53.85       108.15   \n",
       "\n",
       "  MultipleLines InternetService  ... DeviceProtection TechSupport StreamingTV  \\\n",
       "0           NaN             DSL  ...               No          No          No   \n",
       "1            No             DSL  ...              Yes          No          No   \n",
       "2            No             DSL  ...               No          No          No   \n",
       "\n",
       "  StreamingMovies  gender SeniorCitizen Partner  Dependents is_internet_user  \\\n",
       "0              No  Female             0     Yes          No                1   \n",
       "1              No    Male             0      No          No                1   \n",
       "2              No    Male             0      No          No                1   \n",
       "\n",
       "  is_phone_user  \n",
       "0             0  \n",
       "1             1  \n",
       "2             1  \n",
       "\n",
       "[3 rows x 22 columns]"
      ]
     },
     "execution_count": 22,
     "metadata": {},
     "output_type": "execute_result"
    }
   ],
   "source": [
    "df['is_internet_user'] = df['InternetService'].notna()*1\n",
    "df['is_phone_user'] = df['MultipleLines'].notna()*1\n",
    "df.head(3)"
   ]
  },
  {
   "cell_type": "markdown",
   "metadata": {},
   "source": [
    "Избавимся от NaN, заполним их No, для каждого поля это вполне логично означает отсутствие признака"
   ]
  },
  {
   "cell_type": "code",
   "execution_count": 23,
   "metadata": {},
   "outputs": [
    {
     "name": "stdout",
     "output_type": "stream",
     "text": [
      "<class 'pandas.core.frame.DataFrame'>\n",
      "Int64Index: 7043 entries, 0 to 7042\n",
      "Data columns (total 22 columns):\n",
      " #   Column            Non-Null Count  Dtype  \n",
      "---  ------            --------------  -----  \n",
      " 0   customerID        7043 non-null   object \n",
      " 1   BeginDate         7043 non-null   object \n",
      " 2   EndDate           7043 non-null   object \n",
      " 3   Type              7043 non-null   object \n",
      " 4   PaperlessBilling  7043 non-null   object \n",
      " 5   PaymentMethod     7043 non-null   object \n",
      " 6   MonthlyCharges    7043 non-null   float64\n",
      " 7   TotalCharges      7043 non-null   object \n",
      " 8   MultipleLines     6361 non-null   object \n",
      " 9   InternetService   5517 non-null   object \n",
      " 10  OnlineSecurity    5517 non-null   object \n",
      " 11  OnlineBackup      5517 non-null   object \n",
      " 12  DeviceProtection  5517 non-null   object \n",
      " 13  TechSupport       5517 non-null   object \n",
      " 14  StreamingTV       5517 non-null   object \n",
      " 15  StreamingMovies   5517 non-null   object \n",
      " 16  gender            7043 non-null   object \n",
      " 17  SeniorCitizen     7043 non-null   int64  \n",
      " 18  Partner           7043 non-null   object \n",
      " 19  Dependents        7043 non-null   object \n",
      " 20  is_internet_user  7043 non-null   int64  \n",
      " 21  is_phone_user     7043 non-null   int64  \n",
      "dtypes: float64(1), int64(3), object(18)\n",
      "memory usage: 1.2+ MB\n"
     ]
    }
   ],
   "source": [
    "df.info()"
   ]
  },
  {
   "cell_type": "code",
   "execution_count": 24,
   "metadata": {},
   "outputs": [
    {
     "data": {
      "text/html": [
       "<div>\n",
       "<style scoped>\n",
       "    .dataframe tbody tr th:only-of-type {\n",
       "        vertical-align: middle;\n",
       "    }\n",
       "\n",
       "    .dataframe tbody tr th {\n",
       "        vertical-align: top;\n",
       "    }\n",
       "\n",
       "    .dataframe thead th {\n",
       "        text-align: right;\n",
       "    }\n",
       "</style>\n",
       "<table border=\"1\" class=\"dataframe\">\n",
       "  <thead>\n",
       "    <tr style=\"text-align: right;\">\n",
       "      <th></th>\n",
       "      <th>customerID</th>\n",
       "      <th>BeginDate</th>\n",
       "      <th>EndDate</th>\n",
       "      <th>Type</th>\n",
       "      <th>PaperlessBilling</th>\n",
       "      <th>PaymentMethod</th>\n",
       "      <th>MonthlyCharges</th>\n",
       "      <th>TotalCharges</th>\n",
       "      <th>MultipleLines</th>\n",
       "      <th>InternetService</th>\n",
       "      <th>...</th>\n",
       "      <th>DeviceProtection</th>\n",
       "      <th>TechSupport</th>\n",
       "      <th>StreamingTV</th>\n",
       "      <th>StreamingMovies</th>\n",
       "      <th>gender</th>\n",
       "      <th>SeniorCitizen</th>\n",
       "      <th>Partner</th>\n",
       "      <th>Dependents</th>\n",
       "      <th>is_internet_user</th>\n",
       "      <th>is_phone_user</th>\n",
       "    </tr>\n",
       "  </thead>\n",
       "  <tbody>\n",
       "    <tr>\n",
       "      <th>0</th>\n",
       "      <td>7590-VHVEG</td>\n",
       "      <td>2020-01-01</td>\n",
       "      <td>No</td>\n",
       "      <td>Month-to-month</td>\n",
       "      <td>Yes</td>\n",
       "      <td>Electronic check</td>\n",
       "      <td>29.85</td>\n",
       "      <td>29.85</td>\n",
       "      <td>No</td>\n",
       "      <td>DSL</td>\n",
       "      <td>...</td>\n",
       "      <td>No</td>\n",
       "      <td>No</td>\n",
       "      <td>No</td>\n",
       "      <td>No</td>\n",
       "      <td>Female</td>\n",
       "      <td>0</td>\n",
       "      <td>Yes</td>\n",
       "      <td>No</td>\n",
       "      <td>1</td>\n",
       "      <td>0</td>\n",
       "    </tr>\n",
       "    <tr>\n",
       "      <th>1</th>\n",
       "      <td>5575-GNVDE</td>\n",
       "      <td>2017-04-01</td>\n",
       "      <td>No</td>\n",
       "      <td>One year</td>\n",
       "      <td>No</td>\n",
       "      <td>Mailed check</td>\n",
       "      <td>56.95</td>\n",
       "      <td>1889.5</td>\n",
       "      <td>No</td>\n",
       "      <td>DSL</td>\n",
       "      <td>...</td>\n",
       "      <td>Yes</td>\n",
       "      <td>No</td>\n",
       "      <td>No</td>\n",
       "      <td>No</td>\n",
       "      <td>Male</td>\n",
       "      <td>0</td>\n",
       "      <td>No</td>\n",
       "      <td>No</td>\n",
       "      <td>1</td>\n",
       "      <td>1</td>\n",
       "    </tr>\n",
       "    <tr>\n",
       "      <th>2</th>\n",
       "      <td>3668-QPYBK</td>\n",
       "      <td>2019-10-01</td>\n",
       "      <td>2019-12-01 00:00:00</td>\n",
       "      <td>Month-to-month</td>\n",
       "      <td>Yes</td>\n",
       "      <td>Mailed check</td>\n",
       "      <td>53.85</td>\n",
       "      <td>108.15</td>\n",
       "      <td>No</td>\n",
       "      <td>DSL</td>\n",
       "      <td>...</td>\n",
       "      <td>No</td>\n",
       "      <td>No</td>\n",
       "      <td>No</td>\n",
       "      <td>No</td>\n",
       "      <td>Male</td>\n",
       "      <td>0</td>\n",
       "      <td>No</td>\n",
       "      <td>No</td>\n",
       "      <td>1</td>\n",
       "      <td>1</td>\n",
       "    </tr>\n",
       "  </tbody>\n",
       "</table>\n",
       "<p>3 rows × 22 columns</p>\n",
       "</div>"
      ],
      "text/plain": [
       "   customerID   BeginDate              EndDate            Type  \\\n",
       "0  7590-VHVEG  2020-01-01                   No  Month-to-month   \n",
       "1  5575-GNVDE  2017-04-01                   No        One year   \n",
       "2  3668-QPYBK  2019-10-01  2019-12-01 00:00:00  Month-to-month   \n",
       "\n",
       "  PaperlessBilling     PaymentMethod  MonthlyCharges TotalCharges  \\\n",
       "0              Yes  Electronic check           29.85        29.85   \n",
       "1               No      Mailed check           56.95       1889.5   \n",
       "2              Yes      Mailed check           53.85       108.15   \n",
       "\n",
       "  MultipleLines InternetService  ... DeviceProtection TechSupport StreamingTV  \\\n",
       "0            No             DSL  ...               No          No          No   \n",
       "1            No             DSL  ...              Yes          No          No   \n",
       "2            No             DSL  ...               No          No          No   \n",
       "\n",
       "  StreamingMovies  gender SeniorCitizen Partner  Dependents is_internet_user  \\\n",
       "0              No  Female             0     Yes          No                1   \n",
       "1              No    Male             0      No          No                1   \n",
       "2              No    Male             0      No          No                1   \n",
       "\n",
       "  is_phone_user  \n",
       "0             0  \n",
       "1             1  \n",
       "2             1  \n",
       "\n",
       "[3 rows x 22 columns]"
      ]
     },
     "execution_count": 24,
     "metadata": {},
     "output_type": "execute_result"
    }
   ],
   "source": [
    "df = df.fillna('No')\n",
    "df.head(3)"
   ]
  },
  {
   "cell_type": "code",
   "execution_count": 25,
   "metadata": {},
   "outputs": [
    {
     "data": {
      "text/plain": [
       "Index(['customerID', 'BeginDate', 'EndDate', 'Type', 'PaperlessBilling',\n",
       "       'PaymentMethod', 'MonthlyCharges', 'TotalCharges', 'MultipleLines',\n",
       "       'InternetService', 'OnlineSecurity', 'OnlineBackup', 'DeviceProtection',\n",
       "       'TechSupport', 'StreamingTV', 'StreamingMovies', 'gender',\n",
       "       'SeniorCitizen', 'Partner', 'Dependents', 'is_internet_user',\n",
       "       'is_phone_user'],\n",
       "      dtype='object')"
      ]
     },
     "execution_count": 25,
     "metadata": {},
     "output_type": "execute_result"
    }
   ],
   "source": [
    "df.columns"
   ]
  },
  {
   "cell_type": "markdown",
   "metadata": {},
   "source": [
    "## Теперь избавимся от Yes/No  для удобства анализа"
   ]
  },
  {
   "cell_type": "markdown",
   "metadata": {},
   "source": [
    "Изменим тип данных в колонке с датами для удобства анализа"
   ]
  },
  {
   "cell_type": "code",
   "execution_count": 26,
   "metadata": {},
   "outputs": [],
   "source": [
    "df['BeginDate'] = pd.to_datetime(df['BeginDate'])"
   ]
  },
  {
   "cell_type": "markdown",
   "metadata": {},
   "source": [
    "Приведем к числовому типу TotalCharges, для этого 11 отсутствующих значений заменим на 0"
   ]
  },
  {
   "cell_type": "code",
   "execution_count": 27,
   "metadata": {},
   "outputs": [],
   "source": [
    "df['TotalCharges'] = df['TotalCharges'].replace(' ', 0)\n",
    "df['TotalCharges'] = pd.to_numeric(df['TotalCharges'])"
   ]
  },
  {
   "cell_type": "markdown",
   "metadata": {},
   "source": [
    "Также нам сразу стоит выделить целевой признак:"
   ]
  },
  {
   "cell_type": "code",
   "execution_count": 28,
   "metadata": {},
   "outputs": [],
   "source": [
    "df['churn'] = (df['EndDate'] != 'No')*1"
   ]
  },
  {
   "cell_type": "markdown",
   "metadata": {},
   "source": [
    "Полезным для анализа и возможно для создания модели будет время жизни клинета.\n",
    "Для оставшихся клиентов это будет дата сбора информации - февраль 2020 минус дата начала договора."
   ]
  },
  {
   "cell_type": "code",
   "execution_count": 29,
   "metadata": {},
   "outputs": [],
   "source": [
    "df['tenure'] = (pd.to_datetime(df['EndDate'].replace('No', '2020-02-01')) -\\\n",
    "               df['BeginDate']).dt.days"
   ]
  },
  {
   "cell_type": "code",
   "execution_count": 30,
   "metadata": {},
   "outputs": [
    {
     "data": {
      "text/html": [
       "<div>\n",
       "<style scoped>\n",
       "    .dataframe tbody tr th:only-of-type {\n",
       "        vertical-align: middle;\n",
       "    }\n",
       "\n",
       "    .dataframe tbody tr th {\n",
       "        vertical-align: top;\n",
       "    }\n",
       "\n",
       "    .dataframe thead th {\n",
       "        text-align: right;\n",
       "    }\n",
       "</style>\n",
       "<table border=\"1\" class=\"dataframe\">\n",
       "  <thead>\n",
       "    <tr style=\"text-align: right;\">\n",
       "      <th></th>\n",
       "      <th>customerID</th>\n",
       "      <th>BeginDate</th>\n",
       "      <th>EndDate</th>\n",
       "      <th>Type</th>\n",
       "      <th>PaperlessBilling</th>\n",
       "      <th>PaymentMethod</th>\n",
       "      <th>MonthlyCharges</th>\n",
       "      <th>TotalCharges</th>\n",
       "      <th>MultipleLines</th>\n",
       "      <th>InternetService</th>\n",
       "      <th>...</th>\n",
       "      <th>StreamingTV</th>\n",
       "      <th>StreamingMovies</th>\n",
       "      <th>gender</th>\n",
       "      <th>SeniorCitizen</th>\n",
       "      <th>Partner</th>\n",
       "      <th>Dependents</th>\n",
       "      <th>is_internet_user</th>\n",
       "      <th>is_phone_user</th>\n",
       "      <th>churn</th>\n",
       "      <th>tenure</th>\n",
       "    </tr>\n",
       "  </thead>\n",
       "  <tbody>\n",
       "    <tr>\n",
       "      <th>0</th>\n",
       "      <td>7590-VHVEG</td>\n",
       "      <td>2020-01-01</td>\n",
       "      <td>No</td>\n",
       "      <td>Month-to-month</td>\n",
       "      <td>Yes</td>\n",
       "      <td>Electronic check</td>\n",
       "      <td>29.85</td>\n",
       "      <td>29.85</td>\n",
       "      <td>No</td>\n",
       "      <td>DSL</td>\n",
       "      <td>...</td>\n",
       "      <td>No</td>\n",
       "      <td>No</td>\n",
       "      <td>Female</td>\n",
       "      <td>0</td>\n",
       "      <td>Yes</td>\n",
       "      <td>No</td>\n",
       "      <td>1</td>\n",
       "      <td>0</td>\n",
       "      <td>0</td>\n",
       "      <td>31</td>\n",
       "    </tr>\n",
       "    <tr>\n",
       "      <th>1</th>\n",
       "      <td>5575-GNVDE</td>\n",
       "      <td>2017-04-01</td>\n",
       "      <td>No</td>\n",
       "      <td>One year</td>\n",
       "      <td>No</td>\n",
       "      <td>Mailed check</td>\n",
       "      <td>56.95</td>\n",
       "      <td>1889.50</td>\n",
       "      <td>No</td>\n",
       "      <td>DSL</td>\n",
       "      <td>...</td>\n",
       "      <td>No</td>\n",
       "      <td>No</td>\n",
       "      <td>Male</td>\n",
       "      <td>0</td>\n",
       "      <td>No</td>\n",
       "      <td>No</td>\n",
       "      <td>1</td>\n",
       "      <td>1</td>\n",
       "      <td>0</td>\n",
       "      <td>1036</td>\n",
       "    </tr>\n",
       "    <tr>\n",
       "      <th>2</th>\n",
       "      <td>3668-QPYBK</td>\n",
       "      <td>2019-10-01</td>\n",
       "      <td>2019-12-01 00:00:00</td>\n",
       "      <td>Month-to-month</td>\n",
       "      <td>Yes</td>\n",
       "      <td>Mailed check</td>\n",
       "      <td>53.85</td>\n",
       "      <td>108.15</td>\n",
       "      <td>No</td>\n",
       "      <td>DSL</td>\n",
       "      <td>...</td>\n",
       "      <td>No</td>\n",
       "      <td>No</td>\n",
       "      <td>Male</td>\n",
       "      <td>0</td>\n",
       "      <td>No</td>\n",
       "      <td>No</td>\n",
       "      <td>1</td>\n",
       "      <td>1</td>\n",
       "      <td>1</td>\n",
       "      <td>61</td>\n",
       "    </tr>\n",
       "  </tbody>\n",
       "</table>\n",
       "<p>3 rows × 24 columns</p>\n",
       "</div>"
      ],
      "text/plain": [
       "   customerID  BeginDate              EndDate            Type  \\\n",
       "0  7590-VHVEG 2020-01-01                   No  Month-to-month   \n",
       "1  5575-GNVDE 2017-04-01                   No        One year   \n",
       "2  3668-QPYBK 2019-10-01  2019-12-01 00:00:00  Month-to-month   \n",
       "\n",
       "  PaperlessBilling     PaymentMethod  MonthlyCharges  TotalCharges  \\\n",
       "0              Yes  Electronic check           29.85         29.85   \n",
       "1               No      Mailed check           56.95       1889.50   \n",
       "2              Yes      Mailed check           53.85        108.15   \n",
       "\n",
       "  MultipleLines InternetService  ... StreamingTV StreamingMovies  gender  \\\n",
       "0            No             DSL  ...          No              No  Female   \n",
       "1            No             DSL  ...          No              No    Male   \n",
       "2            No             DSL  ...          No              No    Male   \n",
       "\n",
       "  SeniorCitizen Partner Dependents is_internet_user  is_phone_user churn  \\\n",
       "0             0     Yes         No                1              0     0   \n",
       "1             0      No         No                1              1     0   \n",
       "2             0      No         No                1              1     1   \n",
       "\n",
       "  tenure  \n",
       "0     31  \n",
       "1   1036  \n",
       "2     61  \n",
       "\n",
       "[3 rows x 24 columns]"
      ]
     },
     "execution_count": 30,
     "metadata": {},
     "output_type": "execute_result"
    }
   ],
   "source": [
    "df.head(3)"
   ]
  },
  {
   "cell_type": "code",
   "execution_count": 31,
   "metadata": {},
   "outputs": [],
   "source": [
    "def to_one_zero(data, columns):\n",
    "    for column in columns:\n",
    "        data[column] = data[column].map(dict(Yes=1, No=0))"
   ]
  },
  {
   "cell_type": "markdown",
   "metadata": {},
   "source": [
    "Я не хочу сохранять это изменение в данный при создании модели, чтобы оставить начальные данные создам новую переменную"
   ]
  },
  {
   "cell_type": "code",
   "execution_count": 32,
   "metadata": {},
   "outputs": [],
   "source": [
    "fg = df"
   ]
  },
  {
   "cell_type": "code",
   "execution_count": 33,
   "metadata": {},
   "outputs": [],
   "source": [
    "fg = fg.set_index('customerID')"
   ]
  },
  {
   "cell_type": "code",
   "execution_count": 34,
   "metadata": {},
   "outputs": [],
   "source": [
    "columns = ['PaperlessBilling', 'MultipleLines', 'OnlineSecurity', 'OnlineBackup',\n",
    "           'DeviceProtection','TechSupport', 'StreamingTV', 'StreamingMovies',\n",
    "           'Partner', 'Dependents']\n",
    "to_one_zero(df, columns)"
   ]
  },
  {
   "cell_type": "code",
   "execution_count": 35,
   "metadata": {},
   "outputs": [
    {
     "data": {
      "text/html": [
       "<div>\n",
       "<style scoped>\n",
       "    .dataframe tbody tr th:only-of-type {\n",
       "        vertical-align: middle;\n",
       "    }\n",
       "\n",
       "    .dataframe tbody tr th {\n",
       "        vertical-align: top;\n",
       "    }\n",
       "\n",
       "    .dataframe thead th {\n",
       "        text-align: right;\n",
       "    }\n",
       "</style>\n",
       "<table border=\"1\" class=\"dataframe\">\n",
       "  <thead>\n",
       "    <tr style=\"text-align: right;\">\n",
       "      <th></th>\n",
       "      <th>customerID</th>\n",
       "      <th>BeginDate</th>\n",
       "      <th>EndDate</th>\n",
       "      <th>Type</th>\n",
       "      <th>PaperlessBilling</th>\n",
       "      <th>PaymentMethod</th>\n",
       "      <th>MonthlyCharges</th>\n",
       "      <th>TotalCharges</th>\n",
       "      <th>MultipleLines</th>\n",
       "      <th>InternetService</th>\n",
       "      <th>...</th>\n",
       "      <th>StreamingTV</th>\n",
       "      <th>StreamingMovies</th>\n",
       "      <th>gender</th>\n",
       "      <th>SeniorCitizen</th>\n",
       "      <th>Partner</th>\n",
       "      <th>Dependents</th>\n",
       "      <th>is_internet_user</th>\n",
       "      <th>is_phone_user</th>\n",
       "      <th>churn</th>\n",
       "      <th>tenure</th>\n",
       "    </tr>\n",
       "  </thead>\n",
       "  <tbody>\n",
       "    <tr>\n",
       "      <th>0</th>\n",
       "      <td>7590-VHVEG</td>\n",
       "      <td>2020-01-01</td>\n",
       "      <td>No</td>\n",
       "      <td>Month-to-month</td>\n",
       "      <td>1</td>\n",
       "      <td>Electronic check</td>\n",
       "      <td>29.85</td>\n",
       "      <td>29.85</td>\n",
       "      <td>0</td>\n",
       "      <td>DSL</td>\n",
       "      <td>...</td>\n",
       "      <td>0</td>\n",
       "      <td>0</td>\n",
       "      <td>Female</td>\n",
       "      <td>0</td>\n",
       "      <td>1</td>\n",
       "      <td>0</td>\n",
       "      <td>1</td>\n",
       "      <td>0</td>\n",
       "      <td>0</td>\n",
       "      <td>31</td>\n",
       "    </tr>\n",
       "    <tr>\n",
       "      <th>1</th>\n",
       "      <td>5575-GNVDE</td>\n",
       "      <td>2017-04-01</td>\n",
       "      <td>No</td>\n",
       "      <td>One year</td>\n",
       "      <td>0</td>\n",
       "      <td>Mailed check</td>\n",
       "      <td>56.95</td>\n",
       "      <td>1889.50</td>\n",
       "      <td>0</td>\n",
       "      <td>DSL</td>\n",
       "      <td>...</td>\n",
       "      <td>0</td>\n",
       "      <td>0</td>\n",
       "      <td>Male</td>\n",
       "      <td>0</td>\n",
       "      <td>0</td>\n",
       "      <td>0</td>\n",
       "      <td>1</td>\n",
       "      <td>1</td>\n",
       "      <td>0</td>\n",
       "      <td>1036</td>\n",
       "    </tr>\n",
       "    <tr>\n",
       "      <th>2</th>\n",
       "      <td>3668-QPYBK</td>\n",
       "      <td>2019-10-01</td>\n",
       "      <td>2019-12-01 00:00:00</td>\n",
       "      <td>Month-to-month</td>\n",
       "      <td>1</td>\n",
       "      <td>Mailed check</td>\n",
       "      <td>53.85</td>\n",
       "      <td>108.15</td>\n",
       "      <td>0</td>\n",
       "      <td>DSL</td>\n",
       "      <td>...</td>\n",
       "      <td>0</td>\n",
       "      <td>0</td>\n",
       "      <td>Male</td>\n",
       "      <td>0</td>\n",
       "      <td>0</td>\n",
       "      <td>0</td>\n",
       "      <td>1</td>\n",
       "      <td>1</td>\n",
       "      <td>1</td>\n",
       "      <td>61</td>\n",
       "    </tr>\n",
       "    <tr>\n",
       "      <th>3</th>\n",
       "      <td>7795-CFOCW</td>\n",
       "      <td>2016-05-01</td>\n",
       "      <td>No</td>\n",
       "      <td>One year</td>\n",
       "      <td>0</td>\n",
       "      <td>Bank transfer (automatic)</td>\n",
       "      <td>42.30</td>\n",
       "      <td>1840.75</td>\n",
       "      <td>0</td>\n",
       "      <td>DSL</td>\n",
       "      <td>...</td>\n",
       "      <td>0</td>\n",
       "      <td>0</td>\n",
       "      <td>Male</td>\n",
       "      <td>0</td>\n",
       "      <td>0</td>\n",
       "      <td>0</td>\n",
       "      <td>1</td>\n",
       "      <td>0</td>\n",
       "      <td>0</td>\n",
       "      <td>1371</td>\n",
       "    </tr>\n",
       "    <tr>\n",
       "      <th>4</th>\n",
       "      <td>9237-HQITU</td>\n",
       "      <td>2019-09-01</td>\n",
       "      <td>2019-11-01 00:00:00</td>\n",
       "      <td>Month-to-month</td>\n",
       "      <td>1</td>\n",
       "      <td>Electronic check</td>\n",
       "      <td>70.70</td>\n",
       "      <td>151.65</td>\n",
       "      <td>0</td>\n",
       "      <td>Fiber optic</td>\n",
       "      <td>...</td>\n",
       "      <td>0</td>\n",
       "      <td>0</td>\n",
       "      <td>Female</td>\n",
       "      <td>0</td>\n",
       "      <td>0</td>\n",
       "      <td>0</td>\n",
       "      <td>1</td>\n",
       "      <td>1</td>\n",
       "      <td>1</td>\n",
       "      <td>61</td>\n",
       "    </tr>\n",
       "  </tbody>\n",
       "</table>\n",
       "<p>5 rows × 24 columns</p>\n",
       "</div>"
      ],
      "text/plain": [
       "   customerID  BeginDate              EndDate            Type  \\\n",
       "0  7590-VHVEG 2020-01-01                   No  Month-to-month   \n",
       "1  5575-GNVDE 2017-04-01                   No        One year   \n",
       "2  3668-QPYBK 2019-10-01  2019-12-01 00:00:00  Month-to-month   \n",
       "3  7795-CFOCW 2016-05-01                   No        One year   \n",
       "4  9237-HQITU 2019-09-01  2019-11-01 00:00:00  Month-to-month   \n",
       "\n",
       "   PaperlessBilling              PaymentMethod  MonthlyCharges  TotalCharges  \\\n",
       "0                 1           Electronic check           29.85         29.85   \n",
       "1                 0               Mailed check           56.95       1889.50   \n",
       "2                 1               Mailed check           53.85        108.15   \n",
       "3                 0  Bank transfer (automatic)           42.30       1840.75   \n",
       "4                 1           Electronic check           70.70        151.65   \n",
       "\n",
       "   MultipleLines InternetService  ...  StreamingTV  StreamingMovies  gender  \\\n",
       "0              0             DSL  ...            0                0  Female   \n",
       "1              0             DSL  ...            0                0    Male   \n",
       "2              0             DSL  ...            0                0    Male   \n",
       "3              0             DSL  ...            0                0    Male   \n",
       "4              0     Fiber optic  ...            0                0  Female   \n",
       "\n",
       "   SeniorCitizen  Partner  Dependents is_internet_user  is_phone_user  churn  \\\n",
       "0              0        1           0                1              0      0   \n",
       "1              0        0           0                1              1      0   \n",
       "2              0        0           0                1              1      1   \n",
       "3              0        0           0                1              0      0   \n",
       "4              0        0           0                1              1      1   \n",
       "\n",
       "   tenure  \n",
       "0      31  \n",
       "1    1036  \n",
       "2      61  \n",
       "3    1371  \n",
       "4      61  \n",
       "\n",
       "[5 rows x 24 columns]"
      ]
     },
     "execution_count": 35,
     "metadata": {},
     "output_type": "execute_result"
    }
   ],
   "source": [
    "df.head()"
   ]
  },
  {
   "cell_type": "code",
   "execution_count": 36,
   "metadata": {},
   "outputs": [
    {
     "name": "stdout",
     "output_type": "stream",
     "text": [
      "<class 'pandas.core.frame.DataFrame'>\n",
      "Int64Index: 7043 entries, 0 to 7042\n",
      "Data columns (total 24 columns):\n",
      " #   Column            Non-Null Count  Dtype         \n",
      "---  ------            --------------  -----         \n",
      " 0   customerID        7043 non-null   object        \n",
      " 1   BeginDate         7043 non-null   datetime64[ns]\n",
      " 2   EndDate           7043 non-null   object        \n",
      " 3   Type              7043 non-null   object        \n",
      " 4   PaperlessBilling  7043 non-null   int64         \n",
      " 5   PaymentMethod     7043 non-null   object        \n",
      " 6   MonthlyCharges    7043 non-null   float64       \n",
      " 7   TotalCharges      7043 non-null   float64       \n",
      " 8   MultipleLines     7043 non-null   int64         \n",
      " 9   InternetService   7043 non-null   object        \n",
      " 10  OnlineSecurity    7043 non-null   int64         \n",
      " 11  OnlineBackup      7043 non-null   int64         \n",
      " 12  DeviceProtection  7043 non-null   int64         \n",
      " 13  TechSupport       7043 non-null   int64         \n",
      " 14  StreamingTV       7043 non-null   int64         \n",
      " 15  StreamingMovies   7043 non-null   int64         \n",
      " 16  gender            7043 non-null   object        \n",
      " 17  SeniorCitizen     7043 non-null   int64         \n",
      " 18  Partner           7043 non-null   int64         \n",
      " 19  Dependents        7043 non-null   int64         \n",
      " 20  is_internet_user  7043 non-null   int64         \n",
      " 21  is_phone_user     7043 non-null   int64         \n",
      " 22  churn             7043 non-null   int64         \n",
      " 23  tenure            7043 non-null   int64         \n",
      "dtypes: datetime64[ns](1), float64(2), int64(15), object(6)\n",
      "memory usage: 1.3+ MB\n"
     ]
    }
   ],
   "source": [
    "df.info()"
   ]
  },
  {
   "cell_type": "markdown",
   "metadata": {},
   "source": [
    "Мы объединили данные в одну таблицу, теперь можно посмотреть всю доступную информацию по каждому клиенту.\n",
    "Для удобства анализа мы перевели Yes/No в 0/1\n",
    "Также мы выделили признаки is_internet_user, is_phone_user, время жизни клиента tenure, и целевой - churn."
   ]
  },
  {
   "cell_type": "markdown",
   "metadata": {},
   "source": [
    "## Анализ данных"
   ]
  },
  {
   "cell_type": "markdown",
   "metadata": {},
   "source": [
    "### Общий взгляд"
   ]
  },
  {
   "cell_type": "markdown",
   "metadata": {},
   "source": [
    "Для начала посмотрим статистики по нашим данным:"
   ]
  },
  {
   "cell_type": "code",
   "execution_count": 37,
   "metadata": {},
   "outputs": [
    {
     "data": {
      "text/html": [
       "<div>\n",
       "<style scoped>\n",
       "    .dataframe tbody tr th:only-of-type {\n",
       "        vertical-align: middle;\n",
       "    }\n",
       "\n",
       "    .dataframe tbody tr th {\n",
       "        vertical-align: top;\n",
       "    }\n",
       "\n",
       "    .dataframe thead th {\n",
       "        text-align: right;\n",
       "    }\n",
       "</style>\n",
       "<table border=\"1\" class=\"dataframe\">\n",
       "  <thead>\n",
       "    <tr style=\"text-align: right;\">\n",
       "      <th></th>\n",
       "      <th>count</th>\n",
       "      <th>mean</th>\n",
       "      <th>std</th>\n",
       "      <th>min</th>\n",
       "      <th>25%</th>\n",
       "      <th>50%</th>\n",
       "      <th>75%</th>\n",
       "      <th>max</th>\n",
       "    </tr>\n",
       "  </thead>\n",
       "  <tbody>\n",
       "    <tr>\n",
       "      <th>PaperlessBilling</th>\n",
       "      <td>7043.0</td>\n",
       "      <td>0.592219</td>\n",
       "      <td>0.491457</td>\n",
       "      <td>0.00</td>\n",
       "      <td>0.00</td>\n",
       "      <td>1.00</td>\n",
       "      <td>1.00</td>\n",
       "      <td>1.00</td>\n",
       "    </tr>\n",
       "    <tr>\n",
       "      <th>MonthlyCharges</th>\n",
       "      <td>7043.0</td>\n",
       "      <td>64.761692</td>\n",
       "      <td>30.090047</td>\n",
       "      <td>18.25</td>\n",
       "      <td>35.50</td>\n",
       "      <td>70.35</td>\n",
       "      <td>89.85</td>\n",
       "      <td>118.75</td>\n",
       "    </tr>\n",
       "    <tr>\n",
       "      <th>TotalCharges</th>\n",
       "      <td>7043.0</td>\n",
       "      <td>2279.734304</td>\n",
       "      <td>2266.794470</td>\n",
       "      <td>0.00</td>\n",
       "      <td>398.55</td>\n",
       "      <td>1394.55</td>\n",
       "      <td>3786.60</td>\n",
       "      <td>8684.80</td>\n",
       "    </tr>\n",
       "    <tr>\n",
       "      <th>MultipleLines</th>\n",
       "      <td>7043.0</td>\n",
       "      <td>0.421837</td>\n",
       "      <td>0.493888</td>\n",
       "      <td>0.00</td>\n",
       "      <td>0.00</td>\n",
       "      <td>0.00</td>\n",
       "      <td>1.00</td>\n",
       "      <td>1.00</td>\n",
       "    </tr>\n",
       "    <tr>\n",
       "      <th>OnlineSecurity</th>\n",
       "      <td>7043.0</td>\n",
       "      <td>0.286668</td>\n",
       "      <td>0.452237</td>\n",
       "      <td>0.00</td>\n",
       "      <td>0.00</td>\n",
       "      <td>0.00</td>\n",
       "      <td>1.00</td>\n",
       "      <td>1.00</td>\n",
       "    </tr>\n",
       "    <tr>\n",
       "      <th>OnlineBackup</th>\n",
       "      <td>7043.0</td>\n",
       "      <td>0.344881</td>\n",
       "      <td>0.475363</td>\n",
       "      <td>0.00</td>\n",
       "      <td>0.00</td>\n",
       "      <td>0.00</td>\n",
       "      <td>1.00</td>\n",
       "      <td>1.00</td>\n",
       "    </tr>\n",
       "    <tr>\n",
       "      <th>DeviceProtection</th>\n",
       "      <td>7043.0</td>\n",
       "      <td>0.343888</td>\n",
       "      <td>0.475038</td>\n",
       "      <td>0.00</td>\n",
       "      <td>0.00</td>\n",
       "      <td>0.00</td>\n",
       "      <td>1.00</td>\n",
       "      <td>1.00</td>\n",
       "    </tr>\n",
       "    <tr>\n",
       "      <th>TechSupport</th>\n",
       "      <td>7043.0</td>\n",
       "      <td>0.290217</td>\n",
       "      <td>0.453895</td>\n",
       "      <td>0.00</td>\n",
       "      <td>0.00</td>\n",
       "      <td>0.00</td>\n",
       "      <td>1.00</td>\n",
       "      <td>1.00</td>\n",
       "    </tr>\n",
       "    <tr>\n",
       "      <th>StreamingTV</th>\n",
       "      <td>7043.0</td>\n",
       "      <td>0.384353</td>\n",
       "      <td>0.486477</td>\n",
       "      <td>0.00</td>\n",
       "      <td>0.00</td>\n",
       "      <td>0.00</td>\n",
       "      <td>1.00</td>\n",
       "      <td>1.00</td>\n",
       "    </tr>\n",
       "    <tr>\n",
       "      <th>StreamingMovies</th>\n",
       "      <td>7043.0</td>\n",
       "      <td>0.387903</td>\n",
       "      <td>0.487307</td>\n",
       "      <td>0.00</td>\n",
       "      <td>0.00</td>\n",
       "      <td>0.00</td>\n",
       "      <td>1.00</td>\n",
       "      <td>1.00</td>\n",
       "    </tr>\n",
       "    <tr>\n",
       "      <th>SeniorCitizen</th>\n",
       "      <td>7043.0</td>\n",
       "      <td>0.162147</td>\n",
       "      <td>0.368612</td>\n",
       "      <td>0.00</td>\n",
       "      <td>0.00</td>\n",
       "      <td>0.00</td>\n",
       "      <td>0.00</td>\n",
       "      <td>1.00</td>\n",
       "    </tr>\n",
       "    <tr>\n",
       "      <th>Partner</th>\n",
       "      <td>7043.0</td>\n",
       "      <td>0.483033</td>\n",
       "      <td>0.499748</td>\n",
       "      <td>0.00</td>\n",
       "      <td>0.00</td>\n",
       "      <td>0.00</td>\n",
       "      <td>1.00</td>\n",
       "      <td>1.00</td>\n",
       "    </tr>\n",
       "    <tr>\n",
       "      <th>Dependents</th>\n",
       "      <td>7043.0</td>\n",
       "      <td>0.299588</td>\n",
       "      <td>0.458110</td>\n",
       "      <td>0.00</td>\n",
       "      <td>0.00</td>\n",
       "      <td>0.00</td>\n",
       "      <td>1.00</td>\n",
       "      <td>1.00</td>\n",
       "    </tr>\n",
       "    <tr>\n",
       "      <th>is_internet_user</th>\n",
       "      <td>7043.0</td>\n",
       "      <td>0.783331</td>\n",
       "      <td>0.412004</td>\n",
       "      <td>0.00</td>\n",
       "      <td>1.00</td>\n",
       "      <td>1.00</td>\n",
       "      <td>1.00</td>\n",
       "      <td>1.00</td>\n",
       "    </tr>\n",
       "    <tr>\n",
       "      <th>is_phone_user</th>\n",
       "      <td>7043.0</td>\n",
       "      <td>0.903166</td>\n",
       "      <td>0.295752</td>\n",
       "      <td>0.00</td>\n",
       "      <td>1.00</td>\n",
       "      <td>1.00</td>\n",
       "      <td>1.00</td>\n",
       "      <td>1.00</td>\n",
       "    </tr>\n",
       "    <tr>\n",
       "      <th>churn</th>\n",
       "      <td>7043.0</td>\n",
       "      <td>0.265370</td>\n",
       "      <td>0.441561</td>\n",
       "      <td>0.00</td>\n",
       "      <td>0.00</td>\n",
       "      <td>0.00</td>\n",
       "      <td>1.00</td>\n",
       "      <td>1.00</td>\n",
       "    </tr>\n",
       "    <tr>\n",
       "      <th>tenure</th>\n",
       "      <td>7043.0</td>\n",
       "      <td>985.996166</td>\n",
       "      <td>747.587844</td>\n",
       "      <td>0.00</td>\n",
       "      <td>273.00</td>\n",
       "      <td>883.00</td>\n",
       "      <td>1676.00</td>\n",
       "      <td>2191.00</td>\n",
       "    </tr>\n",
       "  </tbody>\n",
       "</table>\n",
       "</div>"
      ],
      "text/plain": [
       "                   count         mean          std    min     25%      50%  \\\n",
       "PaperlessBilling  7043.0     0.592219     0.491457   0.00    0.00     1.00   \n",
       "MonthlyCharges    7043.0    64.761692    30.090047  18.25   35.50    70.35   \n",
       "TotalCharges      7043.0  2279.734304  2266.794470   0.00  398.55  1394.55   \n",
       "MultipleLines     7043.0     0.421837     0.493888   0.00    0.00     0.00   \n",
       "OnlineSecurity    7043.0     0.286668     0.452237   0.00    0.00     0.00   \n",
       "OnlineBackup      7043.0     0.344881     0.475363   0.00    0.00     0.00   \n",
       "DeviceProtection  7043.0     0.343888     0.475038   0.00    0.00     0.00   \n",
       "TechSupport       7043.0     0.290217     0.453895   0.00    0.00     0.00   \n",
       "StreamingTV       7043.0     0.384353     0.486477   0.00    0.00     0.00   \n",
       "StreamingMovies   7043.0     0.387903     0.487307   0.00    0.00     0.00   \n",
       "SeniorCitizen     7043.0     0.162147     0.368612   0.00    0.00     0.00   \n",
       "Partner           7043.0     0.483033     0.499748   0.00    0.00     0.00   \n",
       "Dependents        7043.0     0.299588     0.458110   0.00    0.00     0.00   \n",
       "is_internet_user  7043.0     0.783331     0.412004   0.00    1.00     1.00   \n",
       "is_phone_user     7043.0     0.903166     0.295752   0.00    1.00     1.00   \n",
       "churn             7043.0     0.265370     0.441561   0.00    0.00     0.00   \n",
       "tenure            7043.0   985.996166   747.587844   0.00  273.00   883.00   \n",
       "\n",
       "                      75%      max  \n",
       "PaperlessBilling     1.00     1.00  \n",
       "MonthlyCharges      89.85   118.75  \n",
       "TotalCharges      3786.60  8684.80  \n",
       "MultipleLines        1.00     1.00  \n",
       "OnlineSecurity       1.00     1.00  \n",
       "OnlineBackup         1.00     1.00  \n",
       "DeviceProtection     1.00     1.00  \n",
       "TechSupport          1.00     1.00  \n",
       "StreamingTV          1.00     1.00  \n",
       "StreamingMovies      1.00     1.00  \n",
       "SeniorCitizen        0.00     1.00  \n",
       "Partner              1.00     1.00  \n",
       "Dependents           1.00     1.00  \n",
       "is_internet_user     1.00     1.00  \n",
       "is_phone_user        1.00     1.00  \n",
       "churn                1.00     1.00  \n",
       "tenure            1676.00  2191.00  "
      ]
     },
     "execution_count": 37,
     "metadata": {},
     "output_type": "execute_result"
    }
   ],
   "source": [
    "df.describe().T"
   ]
  },
  {
   "cell_type": "markdown",
   "metadata": {},
   "source": [
    "Мы видим:\n",
    "\n",
    "90% клиентов пользуются телефонной связью, немногим меньше 78% интернетом, несложно посчитать, что 68% клиентом используют оба сервиса\n",
    "\n",
    "- 48% наших клиентов имеют партнера\n",
    "- 30% - имеют иждивенцев\n",
    "- 16% - пенсионеры\n",
    "- 38% - пользуются стриминговым телевидением\n",
    "- 39% - смотрят фильмы\n",
    "- 29% - пользуются тех поддержкой\n",
    "- 34% - платят за антивирус\n",
    "- 34% - пользуются нашим облаком\n",
    "- 28% - пользуются блокировкой небезопасных сайтов \n",
    "- 42% - подключают телефонных аппарат к нескольким линиям\n",
    "- 59% - предпочитаюи выставление счетов онлайн  \n",
    "\n",
    "- 26% - ушли\n",
    "\n",
    "В средем клиенты платят 65,76 в месяц"
   ]
  },
  {
   "cell_type": "code",
   "execution_count": 38,
   "metadata": {},
   "outputs": [
    {
     "data": {
      "text/plain": [
       "<AxesSubplot:>"
      ]
     },
     "execution_count": 38,
     "metadata": {},
     "output_type": "execute_result"
    },
    {
     "data": {
      "image/png": "[encoded data removed]",
      "text/plain": [
       "<Figure size 432x288 with 2 Axes>"
      ]
     },
     "metadata": {
      "needs_background": "light"
     },
     "output_type": "display_data"
    }
   ],
   "source": [
    "sns.heatmap(df[['MonthlyCharges', 'TotalCharges', 'tenure']].corr(), annot=True, fmt = '.1g', cmap= 'coolwarm')"
   ]
  },
  {
   "cell_type": "markdown",
   "metadata": {},
   "source": [
    "Из карты корреляций видна высокая корреляция TotalCharges с  tenure и MonthlyCharges.  \n",
    "Вернемся к этому позже и примем решение."
   ]
  },
  {
   "cell_type": "markdown",
   "metadata": {},
   "source": [
    "### Анализ даты и времени пользования услугами"
   ]
  },
  {
   "cell_type": "markdown",
   "metadata": {},
   "source": [
    "Теперь подробнее рассмотрим каждый показатель, начнем с даты начала обслуживания:"
   ]
  },
  {
   "cell_type": "code",
   "execution_count": 39,
   "metadata": {},
   "outputs": [
    {
     "name": "stdout",
     "output_type": "stream",
     "text": [
      "Месяц появления первых клиентов: 2013-10-01 00:00:00\n",
      "Последний месяц в наших данных: 2020-02-01 00:00:00\n"
     ]
    }
   ],
   "source": [
    "print('Месяц появления первых клиентов:',df['BeginDate'].min())\n",
    "print('Последний месяц в наших данных:',df['BeginDate'].max())"
   ]
  },
  {
   "cell_type": "markdown",
   "metadata": {},
   "source": [
    "Дата начала дана по месяцам с октября 2013 г. по февраль 2020 г."
   ]
  },
  {
   "cell_type": "code",
   "execution_count": 40,
   "metadata": {},
   "outputs": [],
   "source": [
    "def plot(data, column):\n",
    "    df_to_plot = data.groupby(column)['BeginDate'].count()\n",
    "    plot = df_to_plot.plot(kind='bar', y=column,figsize = (15,5),  ec='black')\n",
    "    plt.ylabel('Колличество клиентов')  \n",
    "    plt.xlabel('Месяц')"
   ]
  },
  {
   "cell_type": "markdown",
   "metadata": {},
   "source": [
    "Выделим для анализа ушедших клиентов:"
   ]
  },
  {
   "cell_type": "code",
   "execution_count": 41,
   "metadata": {},
   "outputs": [
    {
     "data": {
      "text/html": [
       "<div>\n",
       "<style scoped>\n",
       "    .dataframe tbody tr th:only-of-type {\n",
       "        vertical-align: middle;\n",
       "    }\n",
       "\n",
       "    .dataframe tbody tr th {\n",
       "        vertical-align: top;\n",
       "    }\n",
       "\n",
       "    .dataframe thead th {\n",
       "        text-align: right;\n",
       "    }\n",
       "</style>\n",
       "<table border=\"1\" class=\"dataframe\">\n",
       "  <thead>\n",
       "    <tr style=\"text-align: right;\">\n",
       "      <th></th>\n",
       "      <th>customerID</th>\n",
       "      <th>BeginDate</th>\n",
       "      <th>EndDate</th>\n",
       "      <th>Type</th>\n",
       "      <th>PaperlessBilling</th>\n",
       "      <th>PaymentMethod</th>\n",
       "      <th>MonthlyCharges</th>\n",
       "      <th>TotalCharges</th>\n",
       "      <th>MultipleLines</th>\n",
       "      <th>InternetService</th>\n",
       "      <th>...</th>\n",
       "      <th>StreamingTV</th>\n",
       "      <th>StreamingMovies</th>\n",
       "      <th>gender</th>\n",
       "      <th>SeniorCitizen</th>\n",
       "      <th>Partner</th>\n",
       "      <th>Dependents</th>\n",
       "      <th>is_internet_user</th>\n",
       "      <th>is_phone_user</th>\n",
       "      <th>churn</th>\n",
       "      <th>tenure</th>\n",
       "    </tr>\n",
       "  </thead>\n",
       "  <tbody>\n",
       "    <tr>\n",
       "      <th>2</th>\n",
       "      <td>3668-QPYBK</td>\n",
       "      <td>2019-10-01</td>\n",
       "      <td>2019-12-01 00:00:00</td>\n",
       "      <td>Month-to-month</td>\n",
       "      <td>1</td>\n",
       "      <td>Mailed check</td>\n",
       "      <td>53.85</td>\n",
       "      <td>108.15</td>\n",
       "      <td>0</td>\n",
       "      <td>DSL</td>\n",
       "      <td>...</td>\n",
       "      <td>0</td>\n",
       "      <td>0</td>\n",
       "      <td>Male</td>\n",
       "      <td>0</td>\n",
       "      <td>0</td>\n",
       "      <td>0</td>\n",
       "      <td>1</td>\n",
       "      <td>1</td>\n",
       "      <td>1</td>\n",
       "      <td>61</td>\n",
       "    </tr>\n",
       "    <tr>\n",
       "      <th>4</th>\n",
       "      <td>9237-HQITU</td>\n",
       "      <td>2019-09-01</td>\n",
       "      <td>2019-11-01 00:00:00</td>\n",
       "      <td>Month-to-month</td>\n",
       "      <td>1</td>\n",
       "      <td>Electronic check</td>\n",
       "      <td>70.70</td>\n",
       "      <td>151.65</td>\n",
       "      <td>0</td>\n",
       "      <td>Fiber optic</td>\n",
       "      <td>...</td>\n",
       "      <td>0</td>\n",
       "      <td>0</td>\n",
       "      <td>Female</td>\n",
       "      <td>0</td>\n",
       "      <td>0</td>\n",
       "      <td>0</td>\n",
       "      <td>1</td>\n",
       "      <td>1</td>\n",
       "      <td>1</td>\n",
       "      <td>61</td>\n",
       "    </tr>\n",
       "    <tr>\n",
       "      <th>5</th>\n",
       "      <td>9305-CDSKC</td>\n",
       "      <td>2019-03-01</td>\n",
       "      <td>2019-11-01 00:00:00</td>\n",
       "      <td>Month-to-month</td>\n",
       "      <td>1</td>\n",
       "      <td>Electronic check</td>\n",
       "      <td>99.65</td>\n",
       "      <td>820.50</td>\n",
       "      <td>1</td>\n",
       "      <td>Fiber optic</td>\n",
       "      <td>...</td>\n",
       "      <td>1</td>\n",
       "      <td>1</td>\n",
       "      <td>Female</td>\n",
       "      <td>0</td>\n",
       "      <td>0</td>\n",
       "      <td>0</td>\n",
       "      <td>1</td>\n",
       "      <td>1</td>\n",
       "      <td>1</td>\n",
       "      <td>245</td>\n",
       "    </tr>\n",
       "  </tbody>\n",
       "</table>\n",
       "<p>3 rows × 24 columns</p>\n",
       "</div>"
      ],
      "text/plain": [
       "   customerID  BeginDate              EndDate            Type  \\\n",
       "2  3668-QPYBK 2019-10-01  2019-12-01 00:00:00  Month-to-month   \n",
       "4  9237-HQITU 2019-09-01  2019-11-01 00:00:00  Month-to-month   \n",
       "5  9305-CDSKC 2019-03-01  2019-11-01 00:00:00  Month-to-month   \n",
       "\n",
       "   PaperlessBilling     PaymentMethod  MonthlyCharges  TotalCharges  \\\n",
       "2                 1      Mailed check           53.85        108.15   \n",
       "4                 1  Electronic check           70.70        151.65   \n",
       "5                 1  Electronic check           99.65        820.50   \n",
       "\n",
       "   MultipleLines InternetService  ...  StreamingTV  StreamingMovies  gender  \\\n",
       "2              0             DSL  ...            0                0    Male   \n",
       "4              0     Fiber optic  ...            0                0  Female   \n",
       "5              1     Fiber optic  ...            1                1  Female   \n",
       "\n",
       "   SeniorCitizen  Partner  Dependents is_internet_user  is_phone_user  churn  \\\n",
       "2              0        0           0                1              1      1   \n",
       "4              0        0           0                1              1      1   \n",
       "5              0        0           0                1              1      1   \n",
       "\n",
       "   tenure  \n",
       "2      61  \n",
       "4      61  \n",
       "5     245  \n",
       "\n",
       "[3 rows x 24 columns]"
      ]
     },
     "execution_count": 41,
     "metadata": {},
     "output_type": "execute_result"
    }
   ],
   "source": [
    "df_churn = df.query('churn == 1')\n",
    "df_churn.head(3)"
   ]
  },
  {
   "cell_type": "code",
   "execution_count": 42,
   "metadata": {},
   "outputs": [
    {
     "data": {
      "text/plain": [
       "Text(0.5, 1.0, 'Распределение во времени по месяцам новых подключений')"
      ]
     },
     "execution_count": 42,
     "metadata": {},
     "output_type": "execute_result"
    },
    {
     "data": {
      "image/png": "[encoded data removed]",
      "text/plain": [
       "<Figure size 1080x360 with 1 Axes>"
      ]
     },
     "metadata": {
      "needs_background": "light"
     },
     "output_type": "display_data"
    }
   ],
   "source": [
    "plot(df,'BeginDate')\n",
    "plt.title('Распределение во времени по месяцам новых подключений')"
   ]
  },
  {
   "cell_type": "code",
   "execution_count": 43,
   "metadata": {},
   "outputs": [
    {
     "data": {
      "text/plain": [
       "Text(0.5, 1.0, 'Распределение во времени по месяцам новых подключений среди ушедших клиентов')"
      ]
     },
     "execution_count": 43,
     "metadata": {},
     "output_type": "execute_result"
    },
    {
     "data": {
      "image/png": "[encoded data removed]",
      "text/plain": [
       "<Figure size 1080x360 with 1 Axes>"
      ]
     },
     "metadata": {
      "needs_background": "light"
     },
     "output_type": "display_data"
    }
   ],
   "source": [
    "plot(df_churn,'BeginDate')\n",
    "plt.title('Распределение во времени по месяцам новых подключений среди ушедших клиентов')"
   ]
  },
  {
   "cell_type": "markdown",
   "metadata": {},
   "source": [
    "На распределениях можно заметить, что в конце 2019 года был всплеск привлеченных новых клиентов, и большинство из них ушли в ближайшие месяцы.\n",
    "Необычно много клиентов было привлечено в феврале марте 2014 г. и большинство из них остались с компанией.\n",
    "Можно будет потом изучить этих клиентов подробнее, чтобы выявить причину их лояльности, предположу, что была проведена маркетинговая акция с очень привлекательными тарифами, которые позже повысились для последующих клиентов."
   ]
  },
  {
   "cell_type": "code",
   "execution_count": 44,
   "metadata": {},
   "outputs": [],
   "source": [
    "df_churn['EndDate'] = pd.to_datetime(df_churn['EndDate'])"
   ]
  },
  {
   "cell_type": "code",
   "execution_count": 45,
   "metadata": {},
   "outputs": [
    {
     "data": {
      "text/plain": [
       "EndDate\n",
       "2019-10-01    458\n",
       "2019-11-01    485\n",
       "2019-12-01    466\n",
       "2020-01-01    460\n",
       "Name: BeginDate, dtype: int64"
      ]
     },
     "execution_count": 45,
     "metadata": {},
     "output_type": "execute_result"
    }
   ],
   "source": [
    "df_churn.groupby('EndDate')['BeginDate'].count()"
   ]
  },
  {
   "cell_type": "code",
   "execution_count": 46,
   "metadata": {},
   "outputs": [
    {
     "data": {
      "text/plain": [
       "Text(0.5, 1.0, 'Распределение по месяцам ушедших клиентов')"
      ]
     },
     "execution_count": 46,
     "metadata": {},
     "output_type": "execute_result"
    },
    {
     "data": {
      "image/png": "[encoded data removed]",
      "text/plain": [
       "<Figure size 1080x360 with 1 Axes>"
      ]
     },
     "metadata": {
      "needs_background": "light"
     },
     "output_type": "display_data"
    }
   ],
   "source": [
    "plot(df_churn,'EndDate')\n",
    "plt.title('Распределение по месяцам ушедших клиентов')"
   ]
  },
  {
   "cell_type": "markdown",
   "metadata": {},
   "source": [
    "Все клиенты ушли в последние 4 месяца перед сбором информации, возможно специально выбрали таких клиентов, или месяцы проставлены неверно. Не будем использовать эту информацию"
   ]
  },
  {
   "cell_type": "code",
   "execution_count": 47,
   "metadata": {},
   "outputs": [
    {
     "data": {
      "text/plain": [
       "2191"
      ]
     },
     "execution_count": 47,
     "metadata": {},
     "output_type": "execute_result"
    }
   ],
   "source": [
    "df.tenure.max()"
   ]
  },
  {
   "cell_type": "code",
   "execution_count": 48,
   "metadata": {},
   "outputs": [
    {
     "data": {
      "image/png": "[encoded data removed]",
      "text/plain": [
       "<Figure size 1080x288 with 1 Axes>"
      ]
     },
     "metadata": {
      "needs_background": "light"
     },
     "output_type": "display_data"
    }
   ],
   "source": [
    "plt.figure(figsize=(15,4))\n",
    "sns.distplot(df.query('churn != 1')['tenure'], hist=True, kde=True, \n",
    "             bins=np.linspace(0, 72, 73),color = 'orange',\n",
    "             hist_kws={'edgecolor':'black'})\n",
    "plt.title('Распределение клиентов по времени обслуживания')\n",
    "\n",
    "sns.distplot(df_churn['tenure'], hist=True, kde=True, \n",
    "             bins=np.linspace(0, 72, 73),color = 'blue',\n",
    "             hist_kws={'edgecolor':'black'})\n",
    "plt.legend(['Оставшиеся клиенты', 'Ушедшие клиенты'])\n",
    "plt.xlim(0, 72)\n",
    "plt.ylabel('Доля клиентов')\n",
    "plt.xlabel('Время, месяцев');"
   ]
  },
  {
   "cell_type": "markdown",
   "metadata": {},
   "source": [
    "Здесь очень хорошо видна зависимость факта ухода клиента от времени. Клиенты, что дольше обслуживаются, реже решают уйти. Очень много клиентов уходят после первого же месяца."
   ]
  },
  {
   "cell_type": "markdown",
   "metadata": {},
   "source": [
    "### Анализ числовых данных"
   ]
  },
  {
   "cell_type": "code",
   "execution_count": 49,
   "metadata": {},
   "outputs": [
    {
     "data": {
      "image/png": "[encoded data removed]",
      "text/plain": [
       "<Figure size 1080x288 with 1 Axes>"
      ]
     },
     "metadata": {
      "needs_background": "light"
     },
     "output_type": "display_data"
    }
   ],
   "source": [
    "plt.figure(figsize=(15,4))\n",
    "sns.distplot(df.query('churn != 1')['MonthlyCharges'], hist=True, kde=True, \n",
    "             bins=30,color = 'green',\n",
    "             hist_kws={'edgecolor':'black'})\n",
    "plt.title('Распределение клиентов по сумме ежемесячных платежей')\n",
    "\n",
    "sns.distplot(df_churn['MonthlyCharges'], hist=True, kde=True, \n",
    "             bins=30,color = 'red',\n",
    "             hist_kws={'edgecolor':'black'})\n",
    "plt.legend(['Оставшиеся клиенты', 'Ушедшие клиенты'])\n",
    "plt.ylabel('Доля клиентов')\n",
    "plt.xlabel('Сумма, долларов');"
   ]
  },
  {
   "cell_type": "markdown",
   "metadata": {},
   "source": [
    "Видно, что в большой мере уходят клиенты с большим ежемесячным платежом\n",
    "Распределения очень разные"
   ]
  },
  {
   "cell_type": "code",
   "execution_count": 50,
   "metadata": {},
   "outputs": [
    {
     "data": {
      "text/plain": [
       "0.9995600907033263"
      ]
     },
     "execution_count": 50,
     "metadata": {},
     "output_type": "execute_result"
    }
   ],
   "source": [
    "df['TotalCharges'].corr(df['tenure']*df['MonthlyCharges'])"
   ]
  },
  {
   "cell_type": "markdown",
   "metadata": {},
   "source": [
    "TotalCharges полностью  зависит от текущей суммы ежемесячного платежа и срока обслуживания клиента.\n",
    "Использовать этот признак совместно с tenure и MonthlyCharges не имеет смысла. Коэффициент корреляции это подтверждает."
   ]
  },
  {
   "cell_type": "markdown",
   "metadata": {},
   "source": [
    "### Анализ категориальных данных"
   ]
  },
  {
   "cell_type": "code",
   "execution_count": 51,
   "metadata": {},
   "outputs": [],
   "source": [
    "def binary_ploting_distributions(col):\n",
    "    fig = plt.figure(figsize=(15,4))\n",
    "\n",
    "    ax_1 = fig.add_subplot(1,2, 1)\n",
    "\n",
    "    plt.title('Оставшиеся клиенты')\n",
    "    plt.pie(df.query('churn != 1').groupby(col)[col].count(),\n",
    "            labels=[' ',col], explode = [0,0.1], autopct='%1.1f%%')\n",
    "    plt.axis('equal')\n",
    "\n",
    "    ax_2 = fig.add_subplot(1, 2, 2)\n",
    "    plt.title('Ушедшие клиенты')\n",
    "    plt.pie(df_churn.groupby(col)[col].count(),\n",
    "            labels=[' ',col], explode = [0,0.1], autopct='%1.1f%%')\n",
    "    plt.axis('equal');"
   ]
  },
  {
   "cell_type": "code",
   "execution_count": 52,
   "metadata": {},
   "outputs": [
    {
     "data": {
      "image/png": "[encoded data removed]",
      "text/plain": [
       "<Figure size 1080x288 with 2 Axes>"
      ]
     },
     "metadata": {},
     "output_type": "display_data"
    }
   ],
   "source": [
    "binary_ploting_distributions('SeniorCitizen')"
   ]
  },
  {
   "cell_type": "markdown",
   "metadata": {},
   "source": [
    "Среди ушедших клиентов пенсионеров в 2 раза больше, чем среди оставшихся, фактор значимый"
   ]
  },
  {
   "cell_type": "code",
   "execution_count": 53,
   "metadata": {},
   "outputs": [
    {
     "data": {
      "image/png": "[encoded data removed]",
      "text/plain": [
       "<Figure size 1080x288 with 2 Axes>"
      ]
     },
     "metadata": {},
     "output_type": "display_data"
    }
   ],
   "source": [
    "binary_ploting_distributions('MultipleLines')"
   ]
  },
  {
   "cell_type": "markdown",
   "metadata": {},
   "source": [
    "Доля клиентов использующих на одном аппарате несколько линий среди ушедних клиентов отличается незначительно"
   ]
  },
  {
   "cell_type": "code",
   "execution_count": 54,
   "metadata": {},
   "outputs": [
    {
     "data": {
      "image/png": "[encoded data removed]",
      "text/plain": [
       "<Figure size 1080x288 with 2 Axes>"
      ]
     },
     "metadata": {},
     "output_type": "display_data"
    }
   ],
   "source": [
    "binary_ploting_distributions('PaperlessBilling')"
   ]
  },
  {
   "cell_type": "markdown",
   "metadata": {},
   "source": [
    "Клиенты предпочитающие бумажные счета уходят значительно реже"
   ]
  },
  {
   "cell_type": "code",
   "execution_count": 55,
   "metadata": {},
   "outputs": [
    {
     "data": {
      "image/png": "[encoded data removed]",
      "text/plain": [
       "<Figure size 1080x288 with 2 Axes>"
      ]
     },
     "metadata": {},
     "output_type": "display_data"
    }
   ],
   "source": [
    "binary_ploting_distributions('OnlineSecurity')"
   ]
  },
  {
   "cell_type": "markdown",
   "metadata": {},
   "source": [
    "Доля пользователей сервиса OnlineSecurity среди оставшихся в 2 раза выше, чем среди ушедших"
   ]
  },
  {
   "cell_type": "code",
   "execution_count": 56,
   "metadata": {},
   "outputs": [
    {
     "data": {
      "image/png": "[encoded data removed]",
      "text/plain": [
       "<Figure size 1080x288 with 2 Axes>"
      ]
     },
     "metadata": {},
     "output_type": "display_data"
    }
   ],
   "source": [
    "binary_ploting_distributions('OnlineBackup')"
   ]
  },
  {
   "cell_type": "markdown",
   "metadata": {},
   "source": [
    "Облачным хранилищем чуть меньше пользовались ушедшие клиенты"
   ]
  },
  {
   "cell_type": "code",
   "execution_count": 57,
   "metadata": {},
   "outputs": [
    {
     "data": {
      "image/png": "[encoded data removed]",
      "text/plain": [
       "<Figure size 1080x288 with 2 Axes>"
      ]
     },
     "metadata": {},
     "output_type": "display_data"
    }
   ],
   "source": [
    "binary_ploting_distributions('DeviceProtection')"
   ]
  },
  {
   "cell_type": "markdown",
   "metadata": {},
   "source": [
    "Такая же ситуация с антивирусом"
   ]
  },
  {
   "cell_type": "code",
   "execution_count": 58,
   "metadata": {},
   "outputs": [
    {
     "data": {
      "image/png": "[encoded data removed]",
      "text/plain": [
       "<Figure size 1080x288 with 2 Axes>"
      ]
     },
     "metadata": {},
     "output_type": "display_data"
    }
   ],
   "source": [
    "binary_ploting_distributions('TechSupport')"
   ]
  },
  {
   "cell_type": "markdown",
   "metadata": {},
   "source": [
    "Клиенты обратившиеся в тех поддержку остаютсячаще"
   ]
  },
  {
   "cell_type": "code",
   "execution_count": 59,
   "metadata": {},
   "outputs": [
    {
     "data": {
      "image/png": "[encoded data removed]",
      "text/plain": [
       "<Figure size 1080x288 with 2 Axes>"
      ]
     },
     "metadata": {},
     "output_type": "display_data"
    }
   ],
   "source": [
    "binary_ploting_distributions('StreamingTV')"
   ]
  },
  {
   "cell_type": "code",
   "execution_count": 60,
   "metadata": {},
   "outputs": [
    {
     "data": {
      "image/png": "[encoded data removed]",
      "text/plain": [
       "<Figure size 1080x288 with 2 Axes>"
      ]
     },
     "metadata": {},
     "output_type": "display_data"
    }
   ],
   "source": [
    "binary_ploting_distributions('StreamingMovies')"
   ]
  },
  {
   "cell_type": "markdown",
   "metadata": {},
   "source": [
    "Клиенты пользующиеся телевидением и прокатом фильмов уходят лишь незначительно чаще"
   ]
  },
  {
   "cell_type": "code",
   "execution_count": 61,
   "metadata": {},
   "outputs": [
    {
     "data": {
      "image/png": "[encoded data removed]",
      "text/plain": [
       "<Figure size 1080x288 with 2 Axes>"
      ]
     },
     "metadata": {},
     "output_type": "display_data"
    }
   ],
   "source": [
    "binary_ploting_distributions('Partner')"
   ]
  },
  {
   "cell_type": "markdown",
   "metadata": {},
   "source": [
    "Клиенты с партнером остаются значительно чаще, возможно это связано с возрастом, они в среднем старше людей без партнера."
   ]
  },
  {
   "cell_type": "code",
   "execution_count": 62,
   "metadata": {},
   "outputs": [
    {
     "data": {
      "image/png": "[encoded data removed]",
      "text/plain": [
       "<Figure size 1080x288 with 2 Axes>"
      ]
     },
     "metadata": {},
     "output_type": "display_data"
    }
   ],
   "source": [
    "binary_ploting_distributions('Dependents')"
   ]
  },
  {
   "cell_type": "markdown",
   "metadata": {},
   "source": [
    "Клиенты с детьми в 2 раза реже отказываются от услуг"
   ]
  },
  {
   "cell_type": "code",
   "execution_count": 63,
   "metadata": {},
   "outputs": [
    {
     "name": "stdout",
     "output_type": "stream",
     "text": [
      "Доля ушедших клиентов от общего количества клиентов этой категории\n"
     ]
    },
    {
     "data": {
      "text/html": [
       "<div>\n",
       "<style scoped>\n",
       "    .dataframe tbody tr th:only-of-type {\n",
       "        vertical-align: middle;\n",
       "    }\n",
       "\n",
       "    .dataframe tbody tr th {\n",
       "        vertical-align: top;\n",
       "    }\n",
       "\n",
       "    .dataframe thead th {\n",
       "        text-align: right;\n",
       "    }\n",
       "</style>\n",
       "<table border=\"1\" class=\"dataframe\">\n",
       "  <thead>\n",
       "    <tr style=\"text-align: right;\">\n",
       "      <th></th>\n",
       "      <th>Нет иждивенцев</th>\n",
       "      <th>Есть иждивенцы</th>\n",
       "    </tr>\n",
       "  </thead>\n",
       "  <tbody>\n",
       "    <tr>\n",
       "      <th>Нет партнера</th>\n",
       "      <td>34.237805</td>\n",
       "      <td>21.329640</td>\n",
       "    </tr>\n",
       "    <tr>\n",
       "      <th>Есть партнер</th>\n",
       "      <td>25.408348</td>\n",
       "      <td>14.236707</td>\n",
       "    </tr>\n",
       "  </tbody>\n",
       "</table>\n",
       "</div>"
      ],
      "text/plain": [
       "              Нет иждивенцев  Есть иждивенцы\n",
       "Нет партнера       34.237805       21.329640\n",
       "Есть партнер       25.408348       14.236707"
      ]
     },
     "execution_count": 63,
     "metadata": {},
     "output_type": "execute_result"
    }
   ],
   "source": [
    "churn_share = pd.DataFrame(df.pivot_table(index='Partner',columns= 'Dependents',values='churn',aggfunc=['mean']).reset_index())\n",
    "churn_share.columns = ['Partner', 'Нет иждивенцев','Есть иждивенцы']\n",
    "churn_share.index = ['Нет партнера','Есть партнер']\n",
    "print('Доля ушедших клиентов от общего количества клиентов этой категории')\n",
    "churn_share.drop('Partner', axis = 1)*100"
   ]
  },
  {
   "cell_type": "markdown",
   "metadata": {},
   "source": [
    "Из таблицы мы видим, что каждый фактор влияет независимо и в совокупности клиенты с партнером и иждивенцами уходят более чем в 2 раза реже, оба фактора существенны"
   ]
  },
  {
   "cell_type": "code",
   "execution_count": 64,
   "metadata": {},
   "outputs": [
    {
     "data": {
      "image/png": "[encoded data removed]",
      "text/plain": [
       "<Figure size 1080x288 with 2 Axes>"
      ]
     },
     "metadata": {},
     "output_type": "display_data"
    }
   ],
   "source": [
    "binary_ploting_distributions('is_internet_user')"
   ]
  },
  {
   "cell_type": "markdown",
   "metadata": {},
   "source": [
    "Клиенты использующие исключительно телефонные сервисы в 4,5 раза реже отказываются от услуг, очень существенный фактор"
   ]
  },
  {
   "cell_type": "code",
   "execution_count": 65,
   "metadata": {},
   "outputs": [
    {
     "data": {
      "image/png": "[encoded data removed]",
      "text/plain": [
       "<Figure size 1080x288 with 2 Axes>"
      ]
     },
     "metadata": {},
     "output_type": "display_data"
    }
   ],
   "source": [
    "binary_ploting_distributions('is_phone_user')"
   ]
  },
  {
   "cell_type": "markdown",
   "metadata": {},
   "source": [
    "Факт того что клиент пользуется только интернетом или обоими сервисами не влияет на отток"
   ]
  },
  {
   "cell_type": "code",
   "execution_count": 66,
   "metadata": {},
   "outputs": [
    {
     "data": {
      "text/plain": [
       "Index(['customerID', 'BeginDate', 'EndDate', 'Type', 'PaperlessBilling',\n",
       "       'PaymentMethod', 'MonthlyCharges', 'TotalCharges', 'MultipleLines',\n",
       "       'InternetService', 'OnlineSecurity', 'OnlineBackup', 'DeviceProtection',\n",
       "       'TechSupport', 'StreamingTV', 'StreamingMovies', 'gender',\n",
       "       'SeniorCitizen', 'Partner', 'Dependents', 'is_internet_user',\n",
       "       'is_phone_user', 'churn', 'tenure'],\n",
       "      dtype='object')"
      ]
     },
     "execution_count": 66,
     "metadata": {},
     "output_type": "execute_result"
    }
   ],
   "source": [
    "df.columns"
   ]
  },
  {
   "cell_type": "code",
   "execution_count": 67,
   "metadata": {},
   "outputs": [
    {
     "data": {
      "text/plain": [
       "Type\n",
       "Month-to-month    3875\n",
       "One year          1473\n",
       "Two year          1695\n",
       "Name: BeginDate, dtype: int64"
      ]
     },
     "execution_count": 67,
     "metadata": {},
     "output_type": "execute_result"
    }
   ],
   "source": [
    "df.groupby('Type')['BeginDate'].count()"
   ]
  },
  {
   "cell_type": "code",
   "execution_count": 68,
   "metadata": {},
   "outputs": [],
   "source": [
    "df_for = pd.DataFrame(df.groupby('Type')['Type'].count())"
   ]
  },
  {
   "cell_type": "code",
   "execution_count": 69,
   "metadata": {},
   "outputs": [],
   "source": [
    "def binary_ploting_distributions(col):\n",
    "    fig = plt.figure(figsize=(15,4))\n",
    "\n",
    "    ax_1 = fig.add_subplot(1,2, 1)\n",
    "\n",
    "    plt.title('Оставшиеся клиенты')\n",
    "    plt.pie(df.query('churn != 1').groupby(col)[col].count(),\n",
    "            labels=[' ',col], explode = [0,0.1], autopct='%1.1f%%')\n",
    "    plt.axis('equal')\n",
    "\n",
    "    ax_2 = fig.add_subplot(1, 2, 2)\n",
    "    plt.title('Ушедшие клиенты')\n",
    "    plt.pie(df_churn.groupby(col)[col].count(),\n",
    "            labels=[' ',col], explode = [0,0.1], autopct='%1.1f%%')\n",
    "    plt.axis('equal');"
   ]
  },
  {
   "cell_type": "code",
   "execution_count": 70,
   "metadata": {},
   "outputs": [
    {
     "name": "stdout",
     "output_type": "stream",
     "text": [
      "\n",
      "Распределение клиентов по типу контракта\n"
     ]
    },
    {
     "data": {
      "image/png": "[encoded data removed]",
      "text/plain": [
       "<Figure size 1080x288 with 2 Axes>"
      ]
     },
     "metadata": {
      "needs_background": "light"
     },
     "output_type": "display_data"
    }
   ],
   "source": [
    "print()\n",
    "print('Распределение клиентов по типу контракта')\n",
    "fig = plt.figure(figsize=(15,4))\n",
    "ax_1 = fig.add_subplot(1,2, 1)\n",
    "plt.title('Оставшиеся клиенты')\n",
    "df.query('churn != 1')['Type'].value_counts(normalize=True).plot.bar()\n",
    "plt.xlabel('Тип контракта')\n",
    "plt.ylabel('Доля клиентов')\n",
    "ax_2 = fig.add_subplot(1, 2, 2)\n",
    "plt.title('Ушедшие клиенты')\n",
    "df_churn['Type'].value_counts(normalize=True).plot.bar()\n",
    "\n",
    "plt.xlabel('Тип контракта')\n",
    "plt.ylabel('Доля клиентов');"
   ]
  },
  {
   "cell_type": "markdown",
   "metadata": {},
   "source": [
    "Видно, что среди ушедших клиентов в 2 раза выше доля ежемясячных контрактов, это очень существенный фактор."
   ]
  },
  {
   "cell_type": "code",
   "execution_count": 71,
   "metadata": {},
   "outputs": [
    {
     "name": "stdout",
     "output_type": "stream",
     "text": [
      "\n",
      "Распределение клиентов по способу оплаты\n"
     ]
    },
    {
     "data": {
      "image/png": "[encoded data removed]",
      "text/plain": [
       "<Figure size 1080x288 with 2 Axes>"
      ]
     },
     "metadata": {
      "needs_background": "light"
     },
     "output_type": "display_data"
    }
   ],
   "source": [
    "print()\n",
    "print('Распределение клиентов по способу оплаты')\n",
    "fig = plt.figure(figsize=(15,4))\n",
    "ax_1 = fig.add_subplot(1,2, 1)\n",
    "plt.title('Оставшиеся клиенты')\n",
    "df.query('churn != 1')['PaymentMethod'].value_counts(normalize=True).plot.bar()\n",
    "plt.xlabel('Тип контракта')\n",
    "plt.ylabel('Доля клиентов')\n",
    "ax_2 = fig.add_subplot(1, 2, 2)\n",
    "plt.title('Ушедшие клиенты')\n",
    "df_churn['PaymentMethod'].value_counts(normalize=True).plot.bar()\n",
    "\n",
    "plt.xlabel('Способ оплаты')\n",
    "plt.ylabel('Доля клиентов');"
   ]
  },
  {
   "cell_type": "markdown",
   "metadata": {},
   "source": [
    "По большей части уходят клиенты оплачивающие самостоятельно онлайн, значительно меньше уходят клиенты настроившие автоматическую оплату со счета или карты, и отправляющие чеки по почте."
   ]
  },
  {
   "cell_type": "code",
   "execution_count": 72,
   "metadata": {},
   "outputs": [
    {
     "name": "stdout",
     "output_type": "stream",
     "text": [
      "\n",
      "Распределение клиентов по типу интернет связи\n"
     ]
    },
    {
     "data": {
      "image/png": "[encoded data removed]",
      "text/plain": [
       "<Figure size 1080x288 with 2 Axes>"
      ]
     },
     "metadata": {
      "needs_background": "light"
     },
     "output_type": "display_data"
    }
   ],
   "source": [
    "print()\n",
    "print('Распределение клиентов по типу интернет связи')\n",
    "fig = plt.figure(figsize=(15,4))\n",
    "ax_1 = fig.add_subplot(1,2, 1)\n",
    "plt.title('Оставшиеся клиенты')\n",
    "df.query('churn != 1')['InternetService'].value_counts(normalize=True).plot.bar()\n",
    "plt.xlabel('Тип интернет связи')\n",
    "plt.ylabel('Доля клиентов')\n",
    "ax_2 = fig.add_subplot(1, 2, 2)\n",
    "plt.title('Ушедшие клиенты')\n",
    "df_churn['InternetService'].value_counts(normalize=True).plot.bar()\n",
    "\n",
    "plt.xlabel('Тип интернет связи')\n",
    "plt.ylabel('Доля клиентов');"
   ]
  },
  {
   "cell_type": "markdown",
   "metadata": {},
   "source": [
    "Клиенты с DSL уходят значительно реже, чем использующие оптоволокно"
   ]
  },
  {
   "cell_type": "code",
   "execution_count": 73,
   "metadata": {},
   "outputs": [
    {
     "name": "stdout",
     "output_type": "stream",
     "text": [
      "\n",
      "Распределение клиентов по полу\n"
     ]
    },
    {
     "data": {
      "image/png": "[encoded data removed]",
      "text/plain": [
       "<Figure size 1080x288 with 2 Axes>"
      ]
     },
     "metadata": {
      "needs_background": "light"
     },
     "output_type": "display_data"
    }
   ],
   "source": [
    "print()\n",
    "print('Распределение клиентов по полу')\n",
    "fig = plt.figure(figsize=(15,4))\n",
    "ax_1 = fig.add_subplot(1,2, 1)\n",
    "plt.title('Оставшиеся клиенты')\n",
    "df.query('churn != 1')['gender'].value_counts(normalize=True).plot.bar()\n",
    "plt.xlabel('Тип интернет связи')\n",
    "plt.ylabel('Пол клиентов')\n",
    "ax_2 = fig.add_subplot(1, 2, 2)\n",
    "plt.title('Ушедшие клиенты')\n",
    "df_churn['gender'].value_counts(normalize=True).plot.bar()\n",
    "\n",
    "plt.xlabel('Тип интернет связи')\n",
    "plt.ylabel('Пол клиентов');"
   ]
  },
  {
   "cell_type": "markdown",
   "metadata": {},
   "source": [
    "Клиентов разного пола примерно одинаковое количество, при этом не видно явного влияния пола на уход клиентов"
   ]
  },
  {
   "cell_type": "code",
   "execution_count": 74,
   "metadata": {},
   "outputs": [
    {
     "data": {
      "image/png": "[encoded data removed]",
      "text/plain": [
       "<Figure size 432x288 with 1 Axes>"
      ]
     },
     "metadata": {
      "needs_background": "light"
     },
     "output_type": "display_data"
    }
   ],
   "source": [
    "plt.title('Баланс классов')\n",
    "df['churn'].value_counts(normalize=True).plot.bar()\n",
    "plt.ylabel('Доля клиентов');"
   ]
  },
  {
   "cell_type": "markdown",
   "metadata": {},
   "source": [
    "Из графика видим, что присутствует дисбаланс классов, соотношение 74% на 26%. Используем метод по взвешиванию классов для устранения дисбаланса, используем аргумент class_weight при обучении"
   ]
  },
  {
   "cell_type": "markdown",
   "metadata": {},
   "source": [
    "### Вывод:"
   ]
  },
  {
   "cell_type": "markdown",
   "metadata": {},
   "source": [
    "Профиль клиента, который может потенциально уйти:  \n",
    "- без детей и партнера\n",
    "- пользуется интернетом с оптоволокном\n",
    "- ежемесячный контракт\n",
    "- получает счет не на бумаге\n",
    "- пенсионер\n",
    "- большой ежемесячный платеж\n",
    "- платит каждый месяц онлайн\n",
    "- обслуживается недавно\n",
    "- не пользуется OnlineSecurity"
   ]
  },
  {
   "cell_type": "markdown",
   "metadata": {},
   "source": [
    "Можно выделить несущественные и лишние параметры:\n",
    "- TotalCharges\n",
    "- MultipleLines\n",
    "- OnlineBackup\n",
    "- DeviceProtection\n",
    "- StreamingTV\n",
    "- StreamingMovies"
   ]
  },
  {
   "cell_type": "markdown",
   "metadata": {},
   "source": [
    "Наиболее существенным факторов является цена услуг"
   ]
  },
  {
   "cell_type": "markdown",
   "metadata": {},
   "source": [
    "<b>План работы:</b>"
   ]
  },
  {
   "cell_type": "markdown",
   "metadata": {},
   "source": [
    "- подготовка признаков: удаление лишних, разделение не таргет и фичи\n",
    "- разделение на обучающую и тестовую выборки\n",
    "- обработка категориальных признаков\n",
    "- масштабирование признаков\n",
    "- обучение моделей\n",
    "- анализ моделей"
   ]
  },
  {
   "cell_type": "markdown",
   "metadata": {},
   "source": [
    "## Подготовка признаков"
   ]
  },
  {
   "cell_type": "markdown",
   "metadata": {},
   "source": [
    "Удалим лишние признаки"
   ]
  },
  {
   "cell_type": "code",
   "execution_count": 75,
   "metadata": {},
   "outputs": [],
   "source": [
    "fg = fg.drop(['TotalCharges','is_internet_user', 'is_phone_user', 'BeginDate',  'EndDate'], axis=1)"
   ]
  },
  {
   "cell_type": "markdown",
   "metadata": {},
   "source": [
    "Разделим на цель и признаки:"
   ]
  },
  {
   "cell_type": "code",
   "execution_count": 76,
   "metadata": {},
   "outputs": [],
   "source": [
    "X = fg.drop(['churn'], axis=1)\n",
    "y = fg['churn']"
   ]
  },
  {
   "cell_type": "markdown",
   "metadata": {},
   "source": [
    "Разделим признаки по типам данных, для дальнейшей обработки."
   ]
  },
  {
   "cell_type": "code",
   "execution_count": 77,
   "metadata": {},
   "outputs": [],
   "source": [
    "num_col = ['MonthlyCharges', 'tenure']\n",
    "cat_col = ['Type', 'PaperlessBilling', 'PaymentMethod', \n",
    "           'MultipleLines', 'InternetService', 'OnlineSecurity', 'OnlineBackup',\n",
    "           'DeviceProtection', 'TechSupport', 'StreamingTV', 'StreamingMovies',\n",
    "           'SeniorCitizen', 'Partner', 'Dependents', 'gender']"
   ]
  },
  {
   "cell_type": "code",
   "execution_count": 78,
   "metadata": {},
   "outputs": [
    {
     "data": {
      "text/plain": [
       "(['Type',\n",
       "  'PaperlessBilling',\n",
       "  'PaymentMethod',\n",
       "  'MultipleLines',\n",
       "  'InternetService',\n",
       "  'OnlineSecurity',\n",
       "  'OnlineBackup',\n",
       "  'DeviceProtection',\n",
       "  'TechSupport',\n",
       "  'StreamingTV',\n",
       "  'StreamingMovies',\n",
       "  'SeniorCitizen',\n",
       "  'Partner',\n",
       "  'Dependents',\n",
       "  'gender'],\n",
       " ['MonthlyCharges', 'tenure'])"
      ]
     },
     "execution_count": 78,
     "metadata": {},
     "output_type": "execute_result"
    }
   ],
   "source": [
    "cat_col, num_col"
   ]
  },
  {
   "cell_type": "markdown",
   "metadata": {},
   "source": [
    "Разделим на обучающую, тестовую и валидационную выборки:"
   ]
  },
  {
   "cell_type": "code",
   "execution_count": 79,
   "metadata": {},
   "outputs": [],
   "source": [
    "y_train, y_valid, X_train, X_valid = train_test_split(y, X, test_size=0.4, random_state=42, stratify=y)\n",
    "y_valid, y_test, X_valid, X_test = train_test_split(y_valid, X_valid, test_size=0.5, random_state=42, stratify=y_valid)"
   ]
  },
  {
   "cell_type": "code",
   "execution_count": 80,
   "metadata": {},
   "outputs": [
    {
     "data": {
      "text/plain": [
       "7043"
      ]
     },
     "execution_count": 80,
     "metadata": {},
     "output_type": "execute_result"
    }
   ],
   "source": [
    "len(df)"
   ]
  },
  {
   "cell_type": "code",
   "execution_count": 81,
   "metadata": {},
   "outputs": [
    {
     "data": {
      "text/plain": [
       "(7043, 4225, 1409, 1409)"
      ]
     },
     "execution_count": 81,
     "metadata": {},
     "output_type": "execute_result"
    }
   ],
   "source": [
    "len(X_train) + len(X_valid) + len(X_test), len(X_train), len(X_valid), len(X_test)"
   ]
  },
  {
   "cell_type": "markdown",
   "metadata": {},
   "source": [
    "Разделение прошло успешно"
   ]
  },
  {
   "cell_type": "markdown",
   "metadata": {},
   "source": [
    "Обработаем категориальные признаки для логистической регрессии:"
   ]
  },
  {
   "cell_type": "code",
   "execution_count": 82,
   "metadata": {},
   "outputs": [],
   "source": [
    "fg_ohe = pd.get_dummies(fg, drop_first=True)"
   ]
  },
  {
   "cell_type": "code",
   "execution_count": 83,
   "metadata": {},
   "outputs": [
    {
     "data": {
      "text/html": [
       "<div>\n",
       "<style scoped>\n",
       "    .dataframe tbody tr th:only-of-type {\n",
       "        vertical-align: middle;\n",
       "    }\n",
       "\n",
       "    .dataframe tbody tr th {\n",
       "        vertical-align: top;\n",
       "    }\n",
       "\n",
       "    .dataframe thead th {\n",
       "        text-align: right;\n",
       "    }\n",
       "</style>\n",
       "<table border=\"1\" class=\"dataframe\">\n",
       "  <thead>\n",
       "    <tr style=\"text-align: right;\">\n",
       "      <th></th>\n",
       "      <th>MonthlyCharges</th>\n",
       "      <th>SeniorCitizen</th>\n",
       "      <th>churn</th>\n",
       "      <th>tenure</th>\n",
       "      <th>Type_One year</th>\n",
       "      <th>Type_Two year</th>\n",
       "      <th>PaperlessBilling_Yes</th>\n",
       "      <th>PaymentMethod_Credit card (automatic)</th>\n",
       "      <th>PaymentMethod_Electronic check</th>\n",
       "      <th>PaymentMethod_Mailed check</th>\n",
       "      <th>...</th>\n",
       "      <th>InternetService_No</th>\n",
       "      <th>OnlineSecurity_Yes</th>\n",
       "      <th>OnlineBackup_Yes</th>\n",
       "      <th>DeviceProtection_Yes</th>\n",
       "      <th>TechSupport_Yes</th>\n",
       "      <th>StreamingTV_Yes</th>\n",
       "      <th>StreamingMovies_Yes</th>\n",
       "      <th>gender_Male</th>\n",
       "      <th>Partner_Yes</th>\n",
       "      <th>Dependents_Yes</th>\n",
       "    </tr>\n",
       "    <tr>\n",
       "      <th>customerID</th>\n",
       "      <th></th>\n",
       "      <th></th>\n",
       "      <th></th>\n",
       "      <th></th>\n",
       "      <th></th>\n",
       "      <th></th>\n",
       "      <th></th>\n",
       "      <th></th>\n",
       "      <th></th>\n",
       "      <th></th>\n",
       "      <th></th>\n",
       "      <th></th>\n",
       "      <th></th>\n",
       "      <th></th>\n",
       "      <th></th>\n",
       "      <th></th>\n",
       "      <th></th>\n",
       "      <th></th>\n",
       "      <th></th>\n",
       "      <th></th>\n",
       "      <th></th>\n",
       "    </tr>\n",
       "  </thead>\n",
       "  <tbody>\n",
       "    <tr>\n",
       "      <th>7590-VHVEG</th>\n",
       "      <td>29.85</td>\n",
       "      <td>0</td>\n",
       "      <td>0</td>\n",
       "      <td>31</td>\n",
       "      <td>0</td>\n",
       "      <td>0</td>\n",
       "      <td>1</td>\n",
       "      <td>0</td>\n",
       "      <td>1</td>\n",
       "      <td>0</td>\n",
       "      <td>...</td>\n",
       "      <td>0</td>\n",
       "      <td>0</td>\n",
       "      <td>1</td>\n",
       "      <td>0</td>\n",
       "      <td>0</td>\n",
       "      <td>0</td>\n",
       "      <td>0</td>\n",
       "      <td>0</td>\n",
       "      <td>1</td>\n",
       "      <td>0</td>\n",
       "    </tr>\n",
       "    <tr>\n",
       "      <th>5575-GNVDE</th>\n",
       "      <td>56.95</td>\n",
       "      <td>0</td>\n",
       "      <td>0</td>\n",
       "      <td>1036</td>\n",
       "      <td>1</td>\n",
       "      <td>0</td>\n",
       "      <td>0</td>\n",
       "      <td>0</td>\n",
       "      <td>0</td>\n",
       "      <td>1</td>\n",
       "      <td>...</td>\n",
       "      <td>0</td>\n",
       "      <td>1</td>\n",
       "      <td>0</td>\n",
       "      <td>1</td>\n",
       "      <td>0</td>\n",
       "      <td>0</td>\n",
       "      <td>0</td>\n",
       "      <td>1</td>\n",
       "      <td>0</td>\n",
       "      <td>0</td>\n",
       "    </tr>\n",
       "    <tr>\n",
       "      <th>3668-QPYBK</th>\n",
       "      <td>53.85</td>\n",
       "      <td>0</td>\n",
       "      <td>1</td>\n",
       "      <td>61</td>\n",
       "      <td>0</td>\n",
       "      <td>0</td>\n",
       "      <td>1</td>\n",
       "      <td>0</td>\n",
       "      <td>0</td>\n",
       "      <td>1</td>\n",
       "      <td>...</td>\n",
       "      <td>0</td>\n",
       "      <td>1</td>\n",
       "      <td>1</td>\n",
       "      <td>0</td>\n",
       "      <td>0</td>\n",
       "      <td>0</td>\n",
       "      <td>0</td>\n",
       "      <td>1</td>\n",
       "      <td>0</td>\n",
       "      <td>0</td>\n",
       "    </tr>\n",
       "  </tbody>\n",
       "</table>\n",
       "<p>3 rows × 22 columns</p>\n",
       "</div>"
      ],
      "text/plain": [
       "            MonthlyCharges  SeniorCitizen  churn  tenure  Type_One year  \\\n",
       "customerID                                                                \n",
       "7590-VHVEG           29.85              0      0      31              0   \n",
       "5575-GNVDE           56.95              0      0    1036              1   \n",
       "3668-QPYBK           53.85              0      1      61              0   \n",
       "\n",
       "            Type_Two year  PaperlessBilling_Yes  \\\n",
       "customerID                                        \n",
       "7590-VHVEG              0                     1   \n",
       "5575-GNVDE              0                     0   \n",
       "3668-QPYBK              0                     1   \n",
       "\n",
       "            PaymentMethod_Credit card (automatic)  \\\n",
       "customerID                                          \n",
       "7590-VHVEG                                      0   \n",
       "5575-GNVDE                                      0   \n",
       "3668-QPYBK                                      0   \n",
       "\n",
       "            PaymentMethod_Electronic check  PaymentMethod_Mailed check  ...  \\\n",
       "customerID                                                              ...   \n",
       "7590-VHVEG                               1                           0  ...   \n",
       "5575-GNVDE                               0                           1  ...   \n",
       "3668-QPYBK                               0                           1  ...   \n",
       "\n",
       "            InternetService_No  OnlineSecurity_Yes  OnlineBackup_Yes  \\\n",
       "customerID                                                             \n",
       "7590-VHVEG                   0                   0                 1   \n",
       "5575-GNVDE                   0                   1                 0   \n",
       "3668-QPYBK                   0                   1                 1   \n",
       "\n",
       "            DeviceProtection_Yes  TechSupport_Yes  StreamingTV_Yes  \\\n",
       "customerID                                                           \n",
       "7590-VHVEG                     0                0                0   \n",
       "5575-GNVDE                     1                0                0   \n",
       "3668-QPYBK                     0                0                0   \n",
       "\n",
       "            StreamingMovies_Yes  gender_Male  Partner_Yes  Dependents_Yes  \n",
       "customerID                                                                 \n",
       "7590-VHVEG                    0            0            1               0  \n",
       "5575-GNVDE                    0            1            0               0  \n",
       "3668-QPYBK                    0            1            0               0  \n",
       "\n",
       "[3 rows x 22 columns]"
      ]
     },
     "execution_count": 83,
     "metadata": {},
     "output_type": "execute_result"
    }
   ],
   "source": [
    "fg_ohe.head(3)"
   ]
  },
  {
   "cell_type": "code",
   "execution_count": 84,
   "metadata": {},
   "outputs": [],
   "source": [
    "X_ohe = fg_ohe.drop(['churn'], axis=1)\n",
    "y_ohe = fg_ohe['churn']"
   ]
  },
  {
   "cell_type": "code",
   "execution_count": 85,
   "metadata": {},
   "outputs": [],
   "source": [
    "y_train_ohe, y_valid_ohe, X_train_ohe, X_valid_ohe = train_test_split(y_ohe, X_ohe,\n",
    "                                                     test_size=0.4, random_state=42, stratify=y_ohe)\n",
    "y_valid_ohe, y_test_ohe, X_valid_ohe, X_test_ohe = train_test_split(y_valid_ohe, X_valid_ohe,\n",
    "                                                     test_size=0.5, random_state=42, stratify=y_valid_ohe)"
   ]
  },
  {
   "cell_type": "code",
   "execution_count": 86,
   "metadata": {},
   "outputs": [
    {
     "data": {
      "text/plain": [
       "(7043, 4225, 1409)"
      ]
     },
     "execution_count": 86,
     "metadata": {},
     "output_type": "execute_result"
    }
   ],
   "source": [
    "len(y_ohe), len(y_train_ohe), len(y_valid_ohe)"
   ]
  },
  {
   "cell_type": "markdown",
   "metadata": {},
   "source": [
    "Масштабирование признаков"
   ]
  },
  {
   "cell_type": "code",
   "execution_count": 87,
   "metadata": {},
   "outputs": [
    {
     "data": {
      "text/plain": [
       "StandardScaler()"
      ]
     },
     "execution_count": 87,
     "metadata": {},
     "output_type": "execute_result"
    }
   ],
   "source": [
    "scaler = StandardScaler()\n",
    "scaler.fit(X_train_ohe[num_col])"
   ]
  },
  {
   "cell_type": "code",
   "execution_count": 88,
   "metadata": {},
   "outputs": [],
   "source": [
    "X_train_ohe[num_col] = scaler.transform(X_train_ohe[num_col])\n",
    "X_valid_ohe[num_col] = scaler.transform(X_valid_ohe[num_col])\n",
    "X_test_ohe[num_col]  = scaler.transform(X_test_ohe[num_col])"
   ]
  },
  {
   "cell_type": "markdown",
   "metadata": {},
   "source": [
    "## Обучение моделей"
   ]
  },
  {
   "cell_type": "markdown",
   "metadata": {},
   "source": [
    "Обучим 2 модели градиентного бустинга Catboost, LightGBM и  логистическую регрессию. В качестве основной метрики будем использовать AUC-ROC и дополнительно рассчитаем accuracy"
   ]
  },
  {
   "cell_type": "markdown",
   "metadata": {},
   "source": [
    "<b>CatBoost</b>"
   ]
  },
  {
   "cell_type": "code",
   "execution_count": 89,
   "metadata": {},
   "outputs": [],
   "source": [
    "params = {\n",
    "    'learning_rate': 0.05,\n",
    "    'auto_class_weights': 'Balanced',\n",
    "    'eval_metric': 'AUC',\n",
    "    'num_boost_round': 1000,\n",
    "    'random_state': 42\n",
    "}"
   ]
  },
  {
   "cell_type": "code",
   "execution_count": 90,
   "metadata": {},
   "outputs": [
    {
     "name": "stdout",
     "output_type": "stream",
     "text": [
      "0:\ttest: 0.8285437\tbest: 0.8285437 (0)\ttotal: 61.6ms\tremaining: 1m 1s\n",
      "50:\ttest: 0.8675192\tbest: 0.8675192 (50)\ttotal: 508ms\tremaining: 9.45s\n",
      "100:\ttest: 0.8734571\tbest: 0.8735707 (96)\ttotal: 918ms\tremaining: 8.17s\n",
      "150:\ttest: 0.8777842\tbest: 0.8777842 (150)\ttotal: 1.33s\tremaining: 7.51s\n",
      "200:\ttest: 0.8837544\tbest: 0.8838707 (198)\ttotal: 1.79s\tremaining: 7.12s\n",
      "250:\ttest: 0.8909724\tbest: 0.8910086 (249)\ttotal: 2.32s\tremaining: 6.92s\n",
      "300:\ttest: 0.8965744\tbest: 0.8965744 (300)\ttotal: 2.87s\tremaining: 6.65s\n",
      "350:\ttest: 0.9022450\tbest: 0.9022450 (350)\ttotal: 3.56s\tremaining: 6.58s\n",
      "400:\ttest: 0.9078044\tbest: 0.9078044 (400)\ttotal: 4.09s\tremaining: 6.11s\n",
      "450:\ttest: 0.9102302\tbest: 0.9102767 (446)\ttotal: 4.6s\tremaining: 5.6s\n",
      "500:\ttest: 0.9129169\tbest: 0.9129169 (500)\ttotal: 5.12s\tremaining: 5.09s\n",
      "550:\ttest: 0.9143300\tbest: 0.9143300 (550)\ttotal: 5.64s\tremaining: 4.59s\n",
      "600:\ttest: 0.9153840\tbest: 0.9156165 (589)\ttotal: 6.17s\tremaining: 4.09s\n",
      "650:\ttest: 0.9165388\tbest: 0.9165853 (647)\ttotal: 6.7s\tremaining: 3.59s\n",
      "700:\ttest: 0.9184169\tbest: 0.9184737 (692)\ttotal: 7.23s\tremaining: 3.08s\n",
      "750:\ttest: 0.9197654\tbest: 0.9198068 (738)\ttotal: 7.82s\tremaining: 2.59s\n",
      "800:\ttest: 0.9201659\tbest: 0.9201865 (799)\ttotal: 8.39s\tremaining: 2.08s\n",
      "850:\ttest: 0.9208169\tbest: 0.9208169 (850)\ttotal: 8.95s\tremaining: 1.57s\n",
      "900:\ttest: 0.9224496\tbest: 0.9224909 (897)\ttotal: 9.52s\tremaining: 1.05s\n",
      "950:\ttest: 0.9224857\tbest: 0.9225813 (904)\ttotal: 10.1s\tremaining: 519ms\n",
      "999:\ttest: 0.9228138\tbest: 0.9230541 (992)\ttotal: 10.6s\tremaining: 0us\n",
      "\n",
      "bestTest = 0.9230540701\n",
      "bestIteration = 992\n",
      "\n",
      "Shrink model to first 993 iterations.\n"
     ]
    },
    {
     "data": {
      "text/plain": [
       "<catboost.core.CatBoostClassifier at 0x7f8c4c9971c0>"
      ]
     },
     "execution_count": 90,
     "metadata": {},
     "output_type": "execute_result"
    }
   ],
   "source": [
    "CatBoost_model = CatBoostClassifier(**params)\n",
    "CatBoost_model.fit(X_train, y_train, cat_features=cat_col, eval_set=(X_valid, y_valid), \n",
    "             verbose=50)"
   ]
  },
  {
   "cell_type": "markdown",
   "metadata": {},
   "source": [
    "<b>LightGBM</b>"
   ]
  },
  {
   "cell_type": "code",
   "execution_count": 92,
   "metadata": {},
   "outputs": [],
   "source": [
    "X_train[cat_col] = X_train[cat_col].astype('category')\n",
    "X_valid[cat_col] = X_valid[cat_col].astype('category')\n",
    "X_test[cat_col]  = X_test[cat_col].astype('category')"
   ]
  },
  {
   "cell_type": "code",
   "execution_count": 93,
   "metadata": {},
   "outputs": [],
   "source": [
    "params = {\n",
    "    'learning_rate': 0.1,\n",
    "    'class_weight': 'balanced',\n",
    "    'metric': 'auc',\n",
    "    'boosting_type': 'gbdt',\n",
    "    'early_stopping_rounds': 50,\n",
    "    'objective': 'binary',\n",
    "    'num_boost_round': 1000\n",
    "}"
   ]
  },
  {
   "cell_type": "code",
   "execution_count": 94,
   "metadata": {},
   "outputs": [
    {
     "name": "stdout",
     "output_type": "stream",
     "text": [
      "[LightGBM] [Warning] early_stopping_round is set=50, early_stopping_rounds=50 will be ignored. Current value: early_stopping_round=50\n",
      "[LightGBM] [Warning] num_iterations is set=1000, num_boost_round=1000 will be ignored. Current value: num_iterations=1000\n",
      "[50]\ttraining's auc: 0.951877\tvalid_1's auc: 0.893988\n",
      "[100]\ttraining's auc: 0.981045\tvalid_1's auc: 0.902\n"
     ]
    }
   ],
   "source": [
    "start_time = datetime.now()\n",
    "\n",
    "lgb_model = LGBMClassifier(**params)\n",
    "lgb_model.fit(X_train, y_train,\n",
    "              eval_set = [(X_train, y_train), (X_valid, y_valid)],\n",
    "              categorical_feature=cat_col,\n",
    "              verbose= 50\n",
    "             )\n",
    "\n",
    "train_time = datetime.now() - start_time"
   ]
  },
  {
   "cell_type": "markdown",
   "metadata": {},
   "source": [
    "<b>LogisticRegression</b>"
   ]
  },
  {
   "cell_type": "code",
   "execution_count": 95,
   "metadata": {},
   "outputs": [
    {
     "name": "stdout",
     "output_type": "stream",
     "text": [
      "{'C': 10, 'max_iter': 100, 'solver': 'liblinear'}\n",
      "ROC-AUC: 0.857538298586892\n"
     ]
    }
   ],
   "source": [
    "param_grid = {'C': [0.1,1,10,100],\n",
    "     'solver':['liblinear', 'lbfgs'],\n",
    "     'max_iter':[100,500]}\n",
    "\n",
    "model = LogisticRegression(random_state=12345, class_weight='balanced')\n",
    "\n",
    "lr = GridSearchCV(model, param_grid, scoring = 'roc_auc', cv = 5)\n",
    "lr.fit(X_train_ohe, y_train_ohe)\n",
    "\n",
    "predictions_valid = lr.predict(X_valid_ohe)\n",
    "probabilities_valid = lr.predict_proba(X_valid_ohe)\n",
    "probabilities_one_valid = probabilities_valid[:, 1]\n",
    "\n",
    "auc_roc = roc_auc_score(y_valid_ohe, probabilities_one_valid)\n",
    "\n",
    "print(lr.best_params_)\n",
    "print('ROC-AUC:', auc_roc)"
   ]
  },
  {
   "cell_type": "markdown",
   "metadata": {},
   "source": [
    "Лучший результат у модели на CatBoost ROC-AUC = 0.9230541"
   ]
  },
  {
   "cell_type": "markdown",
   "metadata": {},
   "source": [
    "## Анализ моделей"
   ]
  },
  {
   "cell_type": "markdown",
   "metadata": {},
   "source": [
    "Проверим модели на тестовой выборке."
   ]
  },
  {
   "cell_type": "code",
   "execution_count": 97,
   "metadata": {},
   "outputs": [],
   "source": [
    "def test(model):\n",
    "    predictions_test = model.predict(X_test)\n",
    "    probabilities_test = model.predict_proba(X_test)\n",
    "    probabilities_one_test = probabilities_test[:, 1]\n",
    "\n",
    "    roc_auc = roc_auc_score(y_test, probabilities_one_test)\n",
    "    accuracy = accuracy_score(y_test, predictions_test)\n",
    "\n",
    "    print('ROC-AUC:', roc_auc)\n",
    "    print('Accuracy:', accuracy)"
   ]
  },
  {
   "cell_type": "markdown",
   "metadata": {},
   "source": [
    "<b>CatBoost</b>"
   ]
  },
  {
   "cell_type": "code",
   "execution_count": 98,
   "metadata": {},
   "outputs": [
    {
     "name": "stdout",
     "output_type": "stream",
     "text": [
      "ROC-AUC: 0.9039344855201632\n",
      "Accuracy: 0.8481192334989354\n"
     ]
    }
   ],
   "source": [
    "test(CatBoost_model)"
   ]
  },
  {
   "cell_type": "markdown",
   "metadata": {},
   "source": [
    "<b>LightGBM</b>"
   ]
  },
  {
   "cell_type": "code",
   "execution_count": 99,
   "metadata": {},
   "outputs": [
    {
     "name": "stdout",
     "output_type": "stream",
     "text": [
      "ROC-AUC: 0.8865470562401507\n",
      "Accuracy: 0.8055358410220014\n"
     ]
    }
   ],
   "source": [
    "test(lgb_model)"
   ]
  },
  {
   "cell_type": "markdown",
   "metadata": {},
   "source": [
    "<b>LogisticRegression</b>"
   ]
  },
  {
   "cell_type": "code",
   "execution_count": 100,
   "metadata": {},
   "outputs": [
    {
     "name": "stdout",
     "output_type": "stream",
     "text": [
      "ROC-AUC: 0.8301945284042469\n",
      "Accuracy: 0.7416607523066004\n"
     ]
    }
   ],
   "source": [
    "predictions_test = lr.predict(X_test_ohe)\n",
    "probabilities_test = lr.predict_proba(X_test_ohe)\n",
    "probabilities_one_test = probabilities_test[:, 1]\n",
    "\n",
    "roc_auc = roc_auc_score(y_test_ohe, probabilities_one_test)\n",
    "accuracy = accuracy_score(y_test_ohe, predictions_test)\n",
    "\n",
    "print('ROC-AUC:', roc_auc)\n",
    "print('Accuracy:', accuracy)"
   ]
  },
  {
   "cell_type": "markdown",
   "metadata": {},
   "source": [
    "Лучший результат на тестовой выборке показала модель CatBoost:  \n",
    "- ROC-AUC: 0.9039344855201632\n",
    "- Accuracy: 0.8481192334989354"
   ]
  },
  {
   "cell_type": "code",
   "execution_count": 101,
   "metadata": {},
   "outputs": [],
   "source": [
    "def plot_feature_importance(importance,names,model_type):\n",
    "    feature_importance = np.array(importance)\n",
    "    feature_names = np.array(names)\n",
    "    data={'feature_names':feature_names,'feature_importance':feature_importance}\n",
    "    fi_df = pd.DataFrame(data)\n",
    "    fi_df.sort_values(by=['feature_importance'], ascending=False,inplace=True)\n",
    "    plt.figure(figsize=(10,8))\n",
    "    sns.barplot(x=fi_df['feature_importance'], y=fi_df['feature_names'])\n",
    "    plt.title(model_type + 'FEATURE IMPORTANCE')\n",
    "    plt.xlabel('FEATURE IMPORTANCE')\n",
    "    plt.ylabel('FEATURE NAMES')"
   ]
  },
  {
   "cell_type": "code",
   "execution_count": 102,
   "metadata": {},
   "outputs": [
    {
     "data": {
      "image/png": "[encoded data removed]",
      "text/plain": [
       "<Figure size 720x576 with 1 Axes>"
      ]
     },
     "metadata": {
      "needs_background": "light"
     },
     "output_type": "display_data"
    }
   ],
   "source": [
    "plot_feature_importance(CatBoost_model.get_feature_importance(),X_train.columns,'CATBOOST')"
   ]
  },
  {
   "cell_type": "markdown",
   "metadata": {},
   "source": [
    "Из графика видно, что самым значимым фактором является врямя жизни клиента, за ним с существенным отставанием: сумма контракта, срок контракта, тип интернет соединения,  метод оплаты.  \n",
    "Остальные признаки признаки влияют значительно меньше.  \n",
    "При этом при их удалении качество модели снижается, уже эксперементировал."
   ]
  },
  {
   "cell_type": "markdown",
   "metadata": {},
   "source": [
    "## Отчет"
   ]
  },
  {
   "cell_type": "markdown",
   "metadata": {},
   "source": [
    "Были выполнены все пункты плана:\n",
    "- подготовлены признаки для моделей:\n",
    "    - удалены лишние,\n",
    "    - отделен целевой признак,\n",
    "    - разделены на 3 выборки: обучающую, валидационную и тестовую,\n",
    "    - для логистической регрессии категориальные признаки обработаны OHE и масштабированы,\n",
    "- обучены 3 модели ML с подбором гиперпараметров: <b>Catboost, LightGBM, LogisticRegression</b>, в качестве метрики использована AUC-ROC,\n",
    "- модели были проверены на тестовой выборке,\n",
    "- изучена важность признаков для модели."
   ]
  },
  {
   "cell_type": "markdown",
   "metadata": {},
   "source": [
    "Возникла сложность с достижением необходимой метрики.  \n",
    "В анализе я поменял yes/no у признаков на 1/0, и при построении модели ROC-AUC на валидационной получалось максимум 0,82.\n",
    "Замена типа данных у этих признаков на bool или str никак не улучшали результат. Эксперименты с другими методам при этом давали лишь небольшие изменения.  \n",
    "Когда я решил оставить Yes/No в признаках как есть, удалось получить существенный прирост ROC-AUC.  \n",
    "Добавление признака отражающего количество сервисов только снизило метрику.\n",
    "Удаление казалось бы неважных признаков также не увеличивало качество модели."
   ]
  },
  {
   "cell_type": "markdown",
   "metadata": {},
   "source": [
    "Выделю 2 ключевых шага:  \n",
    "\n",
    "Выбор модели - у нас много категориальных признаков, известно, что это сильная сторона Catboost, 2 другие были взяты для сравнения  \n",
    "\n",
    "Подготовка признаков, как оказалось именно это сыграло решающую роль:\n",
    "- важно было удалить лики данных, колонки с датами,\n",
    "- создать признак срок жизни клиента,\n",
    "- не менять данные в категориальных признаках."
   ]
  },
  {
   "cell_type": "markdown",
   "metadata": {},
   "source": [
    "Лучший результат на тестовой выборке показала модель CatBoost:  \n",
    "- ROC-AUC: 0.9039344855201632\n",
    "- Accuracy: 0.8481192334989354"
   ]
  }
 ],
 "metadata": {
  "ExecuteTimeLog": [
   {
    "duration": 110,
    "start_time": "2022-04-01T12:53:35.009Z"
   },
   {
    "duration": 2524,
    "start_time": "2022-04-01T13:19:05.963Z"
   },
   {
    "duration": 57,
    "start_time": "2022-04-01T13:19:08.489Z"
   },
   {
    "duration": 25,
    "start_time": "2022-04-01T13:19:08.548Z"
   },
   {
    "duration": 31,
    "start_time": "2022-04-01T13:19:08.576Z"
   },
   {
    "duration": 16,
    "start_time": "2022-04-01T13:19:08.609Z"
   },
   {
    "duration": 61,
    "start_time": "2022-04-01T13:19:08.627Z"
   },
   {
    "duration": 16,
    "start_time": "2022-04-01T13:19:08.691Z"
   },
   {
    "duration": 26,
    "start_time": "2022-04-01T13:19:08.710Z"
   },
   {
    "duration": 36,
    "start_time": "2022-04-01T13:19:08.738Z"
   },
   {
    "duration": 4,
    "start_time": "2022-04-01T13:19:08.778Z"
   },
   {
    "duration": 10,
    "start_time": "2022-04-01T13:19:08.784Z"
   },
   {
    "duration": 12,
    "start_time": "2022-04-01T13:19:08.796Z"
   },
   {
    "duration": 8,
    "start_time": "2022-04-01T13:19:08.810Z"
   },
   {
    "duration": 70,
    "start_time": "2022-04-01T13:19:08.820Z"
   },
   {
    "duration": 34,
    "start_time": "2022-04-01T13:19:08.893Z"
   },
   {
    "duration": 5,
    "start_time": "2022-04-01T13:19:08.929Z"
   },
   {
    "duration": 66,
    "start_time": "2022-04-01T13:19:08.936Z"
   },
   {
    "duration": 5,
    "start_time": "2022-04-01T13:19:09.005Z"
   },
   {
    "duration": 72,
    "start_time": "2022-04-01T13:19:09.013Z"
   },
   {
    "duration": 6,
    "start_time": "2022-04-01T13:19:09.087Z"
   },
   {
    "duration": 25,
    "start_time": "2022-04-01T13:19:09.095Z"
   },
   {
    "duration": 66,
    "start_time": "2022-04-01T13:19:09.122Z"
   },
   {
    "duration": 23,
    "start_time": "2022-04-01T13:19:09.191Z"
   },
   {
    "duration": 67,
    "start_time": "2022-04-01T13:19:09.216Z"
   },
   {
    "duration": 6,
    "start_time": "2022-04-01T13:19:09.286Z"
   },
   {
    "duration": 10,
    "start_time": "2022-04-01T13:19:09.295Z"
   },
   {
    "duration": 11,
    "start_time": "2022-04-01T13:19:09.307Z"
   },
   {
    "duration": 44,
    "start_time": "2022-04-01T13:19:09.325Z"
   },
   {
    "duration": 12,
    "start_time": "2022-04-01T13:19:09.371Z"
   },
   {
    "duration": 35,
    "start_time": "2022-04-01T13:19:09.385Z"
   },
   {
    "duration": 4,
    "start_time": "2022-04-01T13:19:09.422Z"
   },
   {
    "duration": 6,
    "start_time": "2022-04-01T13:19:09.428Z"
   },
   {
    "duration": 11,
    "start_time": "2022-04-01T13:19:09.469Z"
   },
   {
    "duration": 21,
    "start_time": "2022-04-01T13:19:09.482Z"
   },
   {
    "duration": 33,
    "start_time": "2022-04-01T13:19:09.505Z"
   },
   {
    "duration": 23,
    "start_time": "2022-04-01T13:19:09.568Z"
   },
   {
    "duration": 98,
    "start_time": "2022-04-01T13:19:09.594Z"
   },
   {
    "duration": 490,
    "start_time": "2022-04-01T13:19:09.694Z"
   },
   {
    "duration": 7,
    "start_time": "2022-04-01T13:19:10.187Z"
   },
   {
    "duration": 5,
    "start_time": "2022-04-01T13:19:10.196Z"
   },
   {
    "duration": 64,
    "start_time": "2022-04-01T13:19:10.203Z"
   },
   {
    "duration": 2025,
    "start_time": "2022-04-01T13:19:10.270Z"
   },
   {
    "duration": 2126,
    "start_time": "2022-04-01T13:19:12.297Z"
   },
   {
    "duration": 7,
    "start_time": "2022-04-01T13:19:14.429Z"
   },
   {
    "duration": 11,
    "start_time": "2022-04-01T13:19:14.438Z"
   },
   {
    "duration": 269,
    "start_time": "2022-04-01T13:19:14.467Z"
   },
   {
    "duration": 6,
    "start_time": "2022-04-01T13:19:14.738Z"
   },
   {
    "duration": 662,
    "start_time": "2022-04-01T13:19:14.746Z"
   },
   {
    "duration": 465,
    "start_time": "2022-04-01T13:19:15.410Z"
   },
   {
    "duration": 7,
    "start_time": "2022-04-01T13:19:15.878Z"
   },
   {
    "duration": 7,
    "start_time": "2022-04-01T13:19:15.887Z"
   },
   {
    "duration": 255,
    "start_time": "2022-04-01T13:19:15.896Z"
   },
   {
    "duration": 234,
    "start_time": "2022-04-01T13:19:16.153Z"
   },
   {
    "duration": 326,
    "start_time": "2022-04-01T13:19:16.390Z"
   },
   {
    "duration": 241,
    "start_time": "2022-04-01T13:19:16.718Z"
   },
   {
    "duration": 236,
    "start_time": "2022-04-01T13:19:16.961Z"
   },
   {
    "duration": 234,
    "start_time": "2022-04-01T13:19:17.200Z"
   },
   {
    "duration": 237,
    "start_time": "2022-04-01T13:19:17.437Z"
   },
   {
    "duration": 235,
    "start_time": "2022-04-01T13:19:17.677Z"
   },
   {
    "duration": 230,
    "start_time": "2022-04-01T13:19:17.915Z"
   },
   {
    "duration": 236,
    "start_time": "2022-04-01T13:19:18.147Z"
   },
   {
    "duration": 239,
    "start_time": "2022-04-01T13:19:18.385Z"
   },
   {
    "duration": 45,
    "start_time": "2022-04-01T13:19:18.626Z"
   },
   {
    "duration": 241,
    "start_time": "2022-04-01T13:19:18.673Z"
   },
   {
    "duration": 242,
    "start_time": "2022-04-01T13:19:18.917Z"
   },
   {
    "duration": 6,
    "start_time": "2022-04-01T13:19:19.167Z"
   },
   {
    "duration": 9,
    "start_time": "2022-04-01T13:19:19.175Z"
   },
   {
    "duration": 6,
    "start_time": "2022-04-01T13:19:19.187Z"
   },
   {
    "duration": 6,
    "start_time": "2022-04-01T13:19:19.195Z"
   },
   {
    "duration": 373,
    "start_time": "2022-04-01T13:19:19.204Z"
   },
   {
    "duration": 618,
    "start_time": "2022-04-01T13:19:19.579Z"
   },
   {
    "duration": 371,
    "start_time": "2022-04-01T13:19:20.199Z"
   },
   {
    "duration": 334,
    "start_time": "2022-04-01T13:19:20.572Z"
   },
   {
    "duration": 186,
    "start_time": "2022-04-01T13:19:20.909Z"
   },
   {
    "duration": 9,
    "start_time": "2022-04-01T13:19:21.098Z"
   },
   {
    "duration": 6,
    "start_time": "2022-04-01T13:19:21.109Z"
   },
   {
    "duration": 6,
    "start_time": "2022-04-01T13:19:21.117Z"
   },
   {
    "duration": 8,
    "start_time": "2022-04-01T13:19:21.125Z"
   },
   {
    "duration": 18,
    "start_time": "2022-04-01T13:19:21.171Z"
   },
   {
    "duration": 6,
    "start_time": "2022-04-01T13:19:21.191Z"
   },
   {
    "duration": 7,
    "start_time": "2022-04-01T13:19:21.200Z"
   },
   {
    "duration": 83,
    "start_time": "2022-04-01T13:19:21.210Z"
   },
   {
    "duration": 27,
    "start_time": "2022-04-01T13:19:21.295Z"
   },
   {
    "duration": 7,
    "start_time": "2022-04-01T13:19:21.325Z"
   },
   {
    "duration": 45,
    "start_time": "2022-04-01T13:19:21.335Z"
   },
   {
    "duration": 6,
    "start_time": "2022-04-01T13:19:21.383Z"
   },
   {
    "duration": 13,
    "start_time": "2022-04-01T13:19:21.392Z"
   },
   {
    "duration": 63,
    "start_time": "2022-04-01T13:19:21.407Z"
   },
   {
    "duration": 5,
    "start_time": "2022-04-01T13:19:21.473Z"
   },
   {
    "duration": 12399,
    "start_time": "2022-04-01T13:19:21.481Z"
   },
   {
    "duration": 108,
    "start_time": "2022-04-01T13:19:33.882Z"
   },
   {
    "duration": 0,
    "start_time": "2022-04-01T13:19:33.992Z"
   },
   {
    "duration": 0,
    "start_time": "2022-04-01T13:19:33.994Z"
   },
   {
    "duration": 0,
    "start_time": "2022-04-01T13:19:33.996Z"
   },
   {
    "duration": 0,
    "start_time": "2022-04-01T13:19:33.997Z"
   },
   {
    "duration": 0,
    "start_time": "2022-04-01T13:19:33.999Z"
   },
   {
    "duration": 0,
    "start_time": "2022-04-01T13:19:34.000Z"
   },
   {
    "duration": 0,
    "start_time": "2022-04-01T13:19:34.001Z"
   },
   {
    "duration": 0,
    "start_time": "2022-04-01T13:19:34.003Z"
   },
   {
    "duration": 0,
    "start_time": "2022-04-01T13:19:34.004Z"
   },
   {
    "duration": 0,
    "start_time": "2022-04-01T13:19:34.006Z"
   },
   {
    "duration": 0,
    "start_time": "2022-04-01T13:19:34.007Z"
   },
   {
    "duration": 71,
    "start_time": "2022-04-01T13:20:13.457Z"
   },
   {
    "duration": 5,
    "start_time": "2022-04-01T13:20:13.772Z"
   },
   {
    "duration": 2929,
    "start_time": "2022-04-01T13:20:14.139Z"
   },
   {
    "duration": 33796,
    "start_time": "2022-04-01T13:20:17.071Z"
   },
   {
    "duration": 147,
    "start_time": "2022-04-01T13:20:50.871Z"
   },
   {
    "duration": 0,
    "start_time": "2022-04-01T13:20:51.020Z"
   },
   {
    "duration": 0,
    "start_time": "2022-04-01T13:20:51.021Z"
   },
   {
    "duration": 0,
    "start_time": "2022-04-01T13:20:51.023Z"
   },
   {
    "duration": 0,
    "start_time": "2022-04-01T13:20:51.024Z"
   },
   {
    "duration": 0,
    "start_time": "2022-04-01T13:20:51.025Z"
   },
   {
    "duration": 0,
    "start_time": "2022-04-01T13:20:51.027Z"
   },
   {
    "duration": 6,
    "start_time": "2022-04-01T13:21:33.865Z"
   },
   {
    "duration": 26,
    "start_time": "2022-04-01T13:21:34.785Z"
   },
   {
    "duration": 208,
    "start_time": "2022-04-01T13:21:35.459Z"
   },
   {
    "duration": 22,
    "start_time": "2022-04-01T13:21:36.077Z"
   },
   {
    "duration": 7,
    "start_time": "2022-04-01T13:21:38.065Z"
   },
   {
    "duration": 407,
    "start_time": "2022-04-01T13:21:38.548Z"
   },
   {
    "duration": 5,
    "start_time": "2022-04-01T14:06:47.184Z"
   },
   {
    "duration": 86,
    "start_time": "2022-04-03T14:06:52.987Z"
   }
  ],
  "kernelspec": {
   "display_name": "Python 3 (ipykernel)",
   "language": "python",
   "name": "python3"
  },
  "language_info": {
   "codemirror_mode": {
    "name": "ipython",
    "version": 3
   },
   "file_extension": ".py",
   "mimetype": "text/x-python",
   "name": "python",
   "nbconvert_exporter": "python",
   "pygments_lexer": "ipython3",
   "version": "3.9.5"
  },
  "toc": {
   "base_numbering": 1,
   "nav_menu": {},
   "number_sections": true,
   "sideBar": true,
   "skip_h1_title": true,
   "title_cell": "Table of Contents",
   "title_sidebar": "Contents",
   "toc_cell": false,
   "toc_position": {},
   "toc_section_display": true,
   "toc_window_display": false
  }
 },
 "nbformat": 4,
 "nbformat_minor": 2
}
