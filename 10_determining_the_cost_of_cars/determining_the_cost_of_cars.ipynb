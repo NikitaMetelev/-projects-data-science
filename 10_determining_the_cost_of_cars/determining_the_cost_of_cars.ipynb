{
 "cells": [
  {
   "cell_type": "markdown",
   "metadata": {},
   "source": [
    "# Определение стоимости автомобилей"
   ]
  },
  {
   "cell_type": "markdown",
   "metadata": {},
   "source": [
    "Сервис по продаже автомобилей с пробегом «Не бит, не крашен» разрабатывает приложение для привлечения новых клиентов. В нём можно быстро узнать рыночную стоимость своего автомобиля. В вашем распоряжении исторические данные: технические характеристики, комплектации и цены автомобилей. Вам нужно построить модель для определения стоимости. \n",
    "\n",
    "Заказчику важны:\n",
    "\n",
    "- качество предсказания;\n",
    "- скорость предсказания;\n",
    "- время обучения."
   ]
  },
  {
   "cell_type": "markdown",
   "metadata": {},
   "source": [
    "## Подготовка данных"
   ]
  },
  {
   "cell_type": "markdown",
   "metadata": {},
   "source": [
    "### Изучение данных"
   ]
  },
  {
   "cell_type": "markdown",
   "metadata": {},
   "source": [
    "Для начала загрузим библиотеки, которые нам понадобятся в процессе работы, после загрузим и ознакомимся с данными:"
   ]
  },
  {
   "cell_type": "code",
   "execution_count": 1,
   "metadata": {},
   "outputs": [],
   "source": [
    "import pandas as pd\n",
    "from sklearn.model_selection import train_test_split\n",
    "from catboost import CatBoostClassifier\n",
    "import seaborn as sns\n",
    "import matplotlib.pyplot as plt\n",
    "from sklearn.preprocessing import StandardScaler\n",
    "from sklearn.metrics import mean_squared_error\n",
    "from sklearn.preprocessing import PolynomialFeatures\n",
    "from sklearn.preprocessing import OrdinalEncoder\n",
    "from sklearn.linear_model import LinearRegression\n",
    "from sklearn.linear_model import Ridge\n",
    "from sklearn.tree import DecisionTreeRegressor\n",
    "from sklearn.ensemble import ExtraTreesRegressor\n",
    "from catboost import Pool, CatBoostRegressor, cv\n",
    "from lightgbm import LGBMRegressor\n",
    "from sklearn.model_selection import cross_val_score\n",
    "from sklearn.model_selection import GridSearchCV\n",
    "from sklearn.pipeline import Pipeline\n",
    "from sklearn.ensemble import RandomForestRegressor\n",
    "import collections\n",
    "import warnings\n",
    "warnings.filterwarnings('ignore')"
   ]
  },
  {
   "cell_type": "code",
   "execution_count": 2,
   "metadata": {},
   "outputs": [],
   "source": [
    "df = pd.read_csv('/datasets/autos.csv')"
   ]
  },
  {
   "cell_type": "code",
   "execution_count": 3,
   "metadata": {},
   "outputs": [
    {
     "data": {
      "text/html": [
       "<div>\n",
       "<style scoped>\n",
       "    .dataframe tbody tr th:only-of-type {\n",
       "        vertical-align: middle;\n",
       "    }\n",
       "\n",
       "    .dataframe tbody tr th {\n",
       "        vertical-align: top;\n",
       "    }\n",
       "\n",
       "    .dataframe thead th {\n",
       "        text-align: right;\n",
       "    }\n",
       "</style>\n",
       "<table border=\"1\" class=\"dataframe\">\n",
       "  <thead>\n",
       "    <tr style=\"text-align: right;\">\n",
       "      <th></th>\n",
       "      <th>DateCrawled</th>\n",
       "      <th>Price</th>\n",
       "      <th>VehicleType</th>\n",
       "      <th>RegistrationYear</th>\n",
       "      <th>Gearbox</th>\n",
       "      <th>Power</th>\n",
       "      <th>Model</th>\n",
       "      <th>Kilometer</th>\n",
       "      <th>RegistrationMonth</th>\n",
       "      <th>FuelType</th>\n",
       "      <th>Brand</th>\n",
       "      <th>NotRepaired</th>\n",
       "      <th>DateCreated</th>\n",
       "      <th>NumberOfPictures</th>\n",
       "      <th>PostalCode</th>\n",
       "      <th>LastSeen</th>\n",
       "    </tr>\n",
       "  </thead>\n",
       "  <tbody>\n",
       "    <tr>\n",
       "      <td>0</td>\n",
       "      <td>2016-03-24 11:52:17</td>\n",
       "      <td>480</td>\n",
       "      <td>NaN</td>\n",
       "      <td>1993</td>\n",
       "      <td>manual</td>\n",
       "      <td>0</td>\n",
       "      <td>golf</td>\n",
       "      <td>150000</td>\n",
       "      <td>0</td>\n",
       "      <td>petrol</td>\n",
       "      <td>volkswagen</td>\n",
       "      <td>NaN</td>\n",
       "      <td>2016-03-24 00:00:00</td>\n",
       "      <td>0</td>\n",
       "      <td>70435</td>\n",
       "      <td>2016-04-07 03:16:57</td>\n",
       "    </tr>\n",
       "    <tr>\n",
       "      <td>1</td>\n",
       "      <td>2016-03-24 10:58:45</td>\n",
       "      <td>18300</td>\n",
       "      <td>coupe</td>\n",
       "      <td>2011</td>\n",
       "      <td>manual</td>\n",
       "      <td>190</td>\n",
       "      <td>NaN</td>\n",
       "      <td>125000</td>\n",
       "      <td>5</td>\n",
       "      <td>gasoline</td>\n",
       "      <td>audi</td>\n",
       "      <td>yes</td>\n",
       "      <td>2016-03-24 00:00:00</td>\n",
       "      <td>0</td>\n",
       "      <td>66954</td>\n",
       "      <td>2016-04-07 01:46:50</td>\n",
       "    </tr>\n",
       "    <tr>\n",
       "      <td>2</td>\n",
       "      <td>2016-03-14 12:52:21</td>\n",
       "      <td>9800</td>\n",
       "      <td>suv</td>\n",
       "      <td>2004</td>\n",
       "      <td>auto</td>\n",
       "      <td>163</td>\n",
       "      <td>grand</td>\n",
       "      <td>125000</td>\n",
       "      <td>8</td>\n",
       "      <td>gasoline</td>\n",
       "      <td>jeep</td>\n",
       "      <td>NaN</td>\n",
       "      <td>2016-03-14 00:00:00</td>\n",
       "      <td>0</td>\n",
       "      <td>90480</td>\n",
       "      <td>2016-04-05 12:47:46</td>\n",
       "    </tr>\n",
       "    <tr>\n",
       "      <td>3</td>\n",
       "      <td>2016-03-17 16:54:04</td>\n",
       "      <td>1500</td>\n",
       "      <td>small</td>\n",
       "      <td>2001</td>\n",
       "      <td>manual</td>\n",
       "      <td>75</td>\n",
       "      <td>golf</td>\n",
       "      <td>150000</td>\n",
       "      <td>6</td>\n",
       "      <td>petrol</td>\n",
       "      <td>volkswagen</td>\n",
       "      <td>no</td>\n",
       "      <td>2016-03-17 00:00:00</td>\n",
       "      <td>0</td>\n",
       "      <td>91074</td>\n",
       "      <td>2016-03-17 17:40:17</td>\n",
       "    </tr>\n",
       "    <tr>\n",
       "      <td>4</td>\n",
       "      <td>2016-03-31 17:25:20</td>\n",
       "      <td>3600</td>\n",
       "      <td>small</td>\n",
       "      <td>2008</td>\n",
       "      <td>manual</td>\n",
       "      <td>69</td>\n",
       "      <td>fabia</td>\n",
       "      <td>90000</td>\n",
       "      <td>7</td>\n",
       "      <td>gasoline</td>\n",
       "      <td>skoda</td>\n",
       "      <td>no</td>\n",
       "      <td>2016-03-31 00:00:00</td>\n",
       "      <td>0</td>\n",
       "      <td>60437</td>\n",
       "      <td>2016-04-06 10:17:21</td>\n",
       "    </tr>\n",
       "    <tr>\n",
       "      <td>...</td>\n",
       "      <td>...</td>\n",
       "      <td>...</td>\n",
       "      <td>...</td>\n",
       "      <td>...</td>\n",
       "      <td>...</td>\n",
       "      <td>...</td>\n",
       "      <td>...</td>\n",
       "      <td>...</td>\n",
       "      <td>...</td>\n",
       "      <td>...</td>\n",
       "      <td>...</td>\n",
       "      <td>...</td>\n",
       "      <td>...</td>\n",
       "      <td>...</td>\n",
       "      <td>...</td>\n",
       "      <td>...</td>\n",
       "    </tr>\n",
       "    <tr>\n",
       "      <td>354364</td>\n",
       "      <td>2016-03-21 09:50:58</td>\n",
       "      <td>0</td>\n",
       "      <td>NaN</td>\n",
       "      <td>2005</td>\n",
       "      <td>manual</td>\n",
       "      <td>0</td>\n",
       "      <td>colt</td>\n",
       "      <td>150000</td>\n",
       "      <td>7</td>\n",
       "      <td>petrol</td>\n",
       "      <td>mitsubishi</td>\n",
       "      <td>yes</td>\n",
       "      <td>2016-03-21 00:00:00</td>\n",
       "      <td>0</td>\n",
       "      <td>2694</td>\n",
       "      <td>2016-03-21 10:42:49</td>\n",
       "    </tr>\n",
       "    <tr>\n",
       "      <td>354365</td>\n",
       "      <td>2016-03-14 17:48:27</td>\n",
       "      <td>2200</td>\n",
       "      <td>NaN</td>\n",
       "      <td>2005</td>\n",
       "      <td>NaN</td>\n",
       "      <td>0</td>\n",
       "      <td>NaN</td>\n",
       "      <td>20000</td>\n",
       "      <td>1</td>\n",
       "      <td>NaN</td>\n",
       "      <td>sonstige_autos</td>\n",
       "      <td>NaN</td>\n",
       "      <td>2016-03-14 00:00:00</td>\n",
       "      <td>0</td>\n",
       "      <td>39576</td>\n",
       "      <td>2016-04-06 00:46:52</td>\n",
       "    </tr>\n",
       "    <tr>\n",
       "      <td>354366</td>\n",
       "      <td>2016-03-05 19:56:21</td>\n",
       "      <td>1199</td>\n",
       "      <td>convertible</td>\n",
       "      <td>2000</td>\n",
       "      <td>auto</td>\n",
       "      <td>101</td>\n",
       "      <td>fortwo</td>\n",
       "      <td>125000</td>\n",
       "      <td>3</td>\n",
       "      <td>petrol</td>\n",
       "      <td>smart</td>\n",
       "      <td>no</td>\n",
       "      <td>2016-03-05 00:00:00</td>\n",
       "      <td>0</td>\n",
       "      <td>26135</td>\n",
       "      <td>2016-03-11 18:17:12</td>\n",
       "    </tr>\n",
       "    <tr>\n",
       "      <td>354367</td>\n",
       "      <td>2016-03-19 18:57:12</td>\n",
       "      <td>9200</td>\n",
       "      <td>bus</td>\n",
       "      <td>1996</td>\n",
       "      <td>manual</td>\n",
       "      <td>102</td>\n",
       "      <td>transporter</td>\n",
       "      <td>150000</td>\n",
       "      <td>3</td>\n",
       "      <td>gasoline</td>\n",
       "      <td>volkswagen</td>\n",
       "      <td>no</td>\n",
       "      <td>2016-03-19 00:00:00</td>\n",
       "      <td>0</td>\n",
       "      <td>87439</td>\n",
       "      <td>2016-04-07 07:15:26</td>\n",
       "    </tr>\n",
       "    <tr>\n",
       "      <td>354368</td>\n",
       "      <td>2016-03-20 19:41:08</td>\n",
       "      <td>3400</td>\n",
       "      <td>wagon</td>\n",
       "      <td>2002</td>\n",
       "      <td>manual</td>\n",
       "      <td>100</td>\n",
       "      <td>golf</td>\n",
       "      <td>150000</td>\n",
       "      <td>6</td>\n",
       "      <td>gasoline</td>\n",
       "      <td>volkswagen</td>\n",
       "      <td>NaN</td>\n",
       "      <td>2016-03-20 00:00:00</td>\n",
       "      <td>0</td>\n",
       "      <td>40764</td>\n",
       "      <td>2016-03-24 12:45:21</td>\n",
       "    </tr>\n",
       "  </tbody>\n",
       "</table>\n",
       "<p>354369 rows × 16 columns</p>\n",
       "</div>"
      ],
      "text/plain": [
       "                DateCrawled  Price  VehicleType  RegistrationYear Gearbox  \\\n",
       "0       2016-03-24 11:52:17    480          NaN              1993  manual   \n",
       "1       2016-03-24 10:58:45  18300        coupe              2011  manual   \n",
       "2       2016-03-14 12:52:21   9800          suv              2004    auto   \n",
       "3       2016-03-17 16:54:04   1500        small              2001  manual   \n",
       "4       2016-03-31 17:25:20   3600        small              2008  manual   \n",
       "...                     ...    ...          ...               ...     ...   \n",
       "354364  2016-03-21 09:50:58      0          NaN              2005  manual   \n",
       "354365  2016-03-14 17:48:27   2200          NaN              2005     NaN   \n",
       "354366  2016-03-05 19:56:21   1199  convertible              2000    auto   \n",
       "354367  2016-03-19 18:57:12   9200          bus              1996  manual   \n",
       "354368  2016-03-20 19:41:08   3400        wagon              2002  manual   \n",
       "\n",
       "        Power        Model  Kilometer  RegistrationMonth  FuelType  \\\n",
       "0           0         golf     150000                  0    petrol   \n",
       "1         190          NaN     125000                  5  gasoline   \n",
       "2         163        grand     125000                  8  gasoline   \n",
       "3          75         golf     150000                  6    petrol   \n",
       "4          69        fabia      90000                  7  gasoline   \n",
       "...       ...          ...        ...                ...       ...   \n",
       "354364      0         colt     150000                  7    petrol   \n",
       "354365      0          NaN      20000                  1       NaN   \n",
       "354366    101       fortwo     125000                  3    petrol   \n",
       "354367    102  transporter     150000                  3  gasoline   \n",
       "354368    100         golf     150000                  6  gasoline   \n",
       "\n",
       "                 Brand NotRepaired          DateCreated  NumberOfPictures  \\\n",
       "0           volkswagen         NaN  2016-03-24 00:00:00                 0   \n",
       "1                 audi         yes  2016-03-24 00:00:00                 0   \n",
       "2                 jeep         NaN  2016-03-14 00:00:00                 0   \n",
       "3           volkswagen          no  2016-03-17 00:00:00                 0   \n",
       "4                skoda          no  2016-03-31 00:00:00                 0   \n",
       "...                ...         ...                  ...               ...   \n",
       "354364      mitsubishi         yes  2016-03-21 00:00:00                 0   \n",
       "354365  sonstige_autos         NaN  2016-03-14 00:00:00                 0   \n",
       "354366           smart          no  2016-03-05 00:00:00                 0   \n",
       "354367      volkswagen          no  2016-03-19 00:00:00                 0   \n",
       "354368      volkswagen         NaN  2016-03-20 00:00:00                 0   \n",
       "\n",
       "        PostalCode             LastSeen  \n",
       "0            70435  2016-04-07 03:16:57  \n",
       "1            66954  2016-04-07 01:46:50  \n",
       "2            90480  2016-04-05 12:47:46  \n",
       "3            91074  2016-03-17 17:40:17  \n",
       "4            60437  2016-04-06 10:17:21  \n",
       "...            ...                  ...  \n",
       "354364        2694  2016-03-21 10:42:49  \n",
       "354365       39576  2016-04-06 00:46:52  \n",
       "354366       26135  2016-03-11 18:17:12  \n",
       "354367       87439  2016-04-07 07:15:26  \n",
       "354368       40764  2016-03-24 12:45:21  \n",
       "\n",
       "[354369 rows x 16 columns]"
      ]
     },
     "execution_count": 3,
     "metadata": {},
     "output_type": "execute_result"
    }
   ],
   "source": [
    "df"
   ]
  },
  {
   "cell_type": "code",
   "execution_count": 4,
   "metadata": {},
   "outputs": [
    {
     "name": "stdout",
     "output_type": "stream",
     "text": [
      "<class 'pandas.core.frame.DataFrame'>\n",
      "RangeIndex: 354369 entries, 0 to 354368\n",
      "Data columns (total 16 columns):\n",
      "DateCrawled          354369 non-null object\n",
      "Price                354369 non-null int64\n",
      "VehicleType          316879 non-null object\n",
      "RegistrationYear     354369 non-null int64\n",
      "Gearbox              334536 non-null object\n",
      "Power                354369 non-null int64\n",
      "Model                334664 non-null object\n",
      "Kilometer            354369 non-null int64\n",
      "RegistrationMonth    354369 non-null int64\n",
      "FuelType             321474 non-null object\n",
      "Brand                354369 non-null object\n",
      "NotRepaired          283215 non-null object\n",
      "DateCreated          354369 non-null object\n",
      "NumberOfPictures     354369 non-null int64\n",
      "PostalCode           354369 non-null int64\n",
      "LastSeen             354369 non-null object\n",
      "dtypes: int64(7), object(9)\n",
      "memory usage: 43.3+ MB\n"
     ]
    }
   ],
   "source": [
    "df.info()"
   ]
  },
  {
   "cell_type": "markdown",
   "metadata": {},
   "source": [
    "В таблице 354369 объектов, 16 признаков, ключевой для нас Price"
   ]
  },
  {
   "cell_type": "code",
   "execution_count": 5,
   "metadata": {},
   "outputs": [
    {
     "data": {
      "text/html": [
       "<div>\n",
       "<style scoped>\n",
       "    .dataframe tbody tr th:only-of-type {\n",
       "        vertical-align: middle;\n",
       "    }\n",
       "\n",
       "    .dataframe tbody tr th {\n",
       "        vertical-align: top;\n",
       "    }\n",
       "\n",
       "    .dataframe thead th {\n",
       "        text-align: right;\n",
       "    }\n",
       "</style>\n",
       "<table border=\"1\" class=\"dataframe\">\n",
       "  <thead>\n",
       "    <tr style=\"text-align: right;\">\n",
       "      <th></th>\n",
       "      <th>sum</th>\n",
       "      <th>mean</th>\n",
       "    </tr>\n",
       "  </thead>\n",
       "  <tbody>\n",
       "    <tr>\n",
       "      <td>NotRepaired</td>\n",
       "      <td>71154.0</td>\n",
       "      <td>0.200791</td>\n",
       "    </tr>\n",
       "    <tr>\n",
       "      <td>VehicleType</td>\n",
       "      <td>37490.0</td>\n",
       "      <td>0.105794</td>\n",
       "    </tr>\n",
       "    <tr>\n",
       "      <td>FuelType</td>\n",
       "      <td>32895.0</td>\n",
       "      <td>0.092827</td>\n",
       "    </tr>\n",
       "    <tr>\n",
       "      <td>Gearbox</td>\n",
       "      <td>19833.0</td>\n",
       "      <td>0.055967</td>\n",
       "    </tr>\n",
       "    <tr>\n",
       "      <td>Model</td>\n",
       "      <td>19705.0</td>\n",
       "      <td>0.055606</td>\n",
       "    </tr>\n",
       "    <tr>\n",
       "      <td>DateCrawled</td>\n",
       "      <td>0.0</td>\n",
       "      <td>0.000000</td>\n",
       "    </tr>\n",
       "    <tr>\n",
       "      <td>Price</td>\n",
       "      <td>0.0</td>\n",
       "      <td>0.000000</td>\n",
       "    </tr>\n",
       "    <tr>\n",
       "      <td>RegistrationYear</td>\n",
       "      <td>0.0</td>\n",
       "      <td>0.000000</td>\n",
       "    </tr>\n",
       "    <tr>\n",
       "      <td>Power</td>\n",
       "      <td>0.0</td>\n",
       "      <td>0.000000</td>\n",
       "    </tr>\n",
       "    <tr>\n",
       "      <td>Kilometer</td>\n",
       "      <td>0.0</td>\n",
       "      <td>0.000000</td>\n",
       "    </tr>\n",
       "    <tr>\n",
       "      <td>RegistrationMonth</td>\n",
       "      <td>0.0</td>\n",
       "      <td>0.000000</td>\n",
       "    </tr>\n",
       "    <tr>\n",
       "      <td>Brand</td>\n",
       "      <td>0.0</td>\n",
       "      <td>0.000000</td>\n",
       "    </tr>\n",
       "    <tr>\n",
       "      <td>DateCreated</td>\n",
       "      <td>0.0</td>\n",
       "      <td>0.000000</td>\n",
       "    </tr>\n",
       "    <tr>\n",
       "      <td>NumberOfPictures</td>\n",
       "      <td>0.0</td>\n",
       "      <td>0.000000</td>\n",
       "    </tr>\n",
       "    <tr>\n",
       "      <td>PostalCode</td>\n",
       "      <td>0.0</td>\n",
       "      <td>0.000000</td>\n",
       "    </tr>\n",
       "    <tr>\n",
       "      <td>LastSeen</td>\n",
       "      <td>0.0</td>\n",
       "      <td>0.000000</td>\n",
       "    </tr>\n",
       "  </tbody>\n",
       "</table>\n",
       "</div>"
      ],
      "text/plain": [
       "                       sum      mean\n",
       "NotRepaired        71154.0  0.200791\n",
       "VehicleType        37490.0  0.105794\n",
       "FuelType           32895.0  0.092827\n",
       "Gearbox            19833.0  0.055967\n",
       "Model              19705.0  0.055606\n",
       "DateCrawled            0.0  0.000000\n",
       "Price                  0.0  0.000000\n",
       "RegistrationYear       0.0  0.000000\n",
       "Power                  0.0  0.000000\n",
       "Kilometer              0.0  0.000000\n",
       "RegistrationMonth      0.0  0.000000\n",
       "Brand                  0.0  0.000000\n",
       "DateCreated            0.0  0.000000\n",
       "NumberOfPictures       0.0  0.000000\n",
       "PostalCode             0.0  0.000000\n",
       "LastSeen               0.0  0.000000"
      ]
     },
     "execution_count": 5,
     "metadata": {},
     "output_type": "execute_result"
    }
   ],
   "source": [
    "df.isnull().agg(['sum','mean']).transpose().sort_values(by = 'mean', ascending=False)"
   ]
  },
  {
   "cell_type": "markdown",
   "metadata": {},
   "source": [
    "В 5 признаках значительное количество пропусков, больше 5%, необходимо будет изучить и принять решение"
   ]
  },
  {
   "cell_type": "code",
   "execution_count": 6,
   "metadata": {},
   "outputs": [
    {
     "name": "stdout",
     "output_type": "stream",
     "text": [
      "2016-03-24 14:49:47    7\n",
      "2016-03-19 21:49:56    6\n",
      "2016-03-26 22:57:31    6\n",
      "2016-03-08 15:50:29    5\n",
      "2016-04-01 19:25:23    5\n",
      "                      ..\n",
      "2016-03-28 10:52:24    1\n",
      "2016-03-21 19:58:08    1\n",
      "2016-04-04 11:37:39    1\n",
      "2016-03-16 17:50:55    1\n",
      "2016-03-16 12:50:26    1\n",
      "Name: DateCrawled, Length: 271174, dtype: int64\n",
      "0        10772\n",
      "500       5670\n",
      "1500      5394\n",
      "1000      4649\n",
      "1200      4594\n",
      "         ...  \n",
      "13440        1\n",
      "1414         1\n",
      "8069         1\n",
      "10370        1\n",
      "384          1\n",
      "Name: Price, Length: 3731, dtype: int64\n",
      "sedan          91457\n",
      "small          79831\n",
      "wagon          65166\n",
      "bus            28775\n",
      "convertible    20203\n",
      "coupe          16163\n",
      "suv            11996\n",
      "other           3288\n",
      "Name: VehicleType, dtype: int64\n",
      "2000    24490\n",
      "1999    22728\n",
      "2005    22109\n",
      "2001    20124\n",
      "2006    19900\n",
      "        ...  \n",
      "3200        1\n",
      "1920        1\n",
      "1919        1\n",
      "1915        1\n",
      "8455        1\n",
      "Name: RegistrationYear, Length: 151, dtype: int64\n",
      "manual    268251\n",
      "auto       66285\n",
      "Name: Gearbox, dtype: int64\n",
      "0        40225\n",
      "75       24023\n",
      "60       15897\n",
      "150      14590\n",
      "101      13298\n",
      "         ...  \n",
      "16311        1\n",
      "1360         1\n",
      "1968         1\n",
      "6226         1\n",
      "6006         1\n",
      "Name: Power, Length: 712, dtype: int64\n",
      "golf                  29232\n",
      "other                 24421\n",
      "3er                   19761\n",
      "polo                  13066\n",
      "corsa                 12570\n",
      "                      ...  \n",
      "serie_2                   8\n",
      "serie_3                   4\n",
      "rangerover                4\n",
      "serie_1                   2\n",
      "range_rover_evoque        2\n",
      "Name: Model, Length: 250, dtype: int64\n",
      "150000    238209\n",
      "125000     36454\n",
      "100000     14882\n",
      "90000      11567\n",
      "80000      10047\n",
      "70000       8593\n",
      "60000       7444\n",
      "5000        6397\n",
      "50000       6232\n",
      "40000       4911\n",
      "30000       4436\n",
      "20000       3975\n",
      "10000       1222\n",
      "Name: Kilometer, dtype: int64\n",
      "0     37352\n",
      "3     34373\n",
      "6     31508\n",
      "4     29270\n",
      "5     29153\n",
      "7     27213\n",
      "10    26099\n",
      "12    24289\n",
      "11    24186\n",
      "9     23813\n",
      "1     23219\n",
      "8     22627\n",
      "2     21267\n",
      "Name: RegistrationMonth, dtype: int64\n",
      "petrol      216352\n",
      "gasoline     98720\n",
      "lpg           5310\n",
      "cng            565\n",
      "hybrid         233\n",
      "other          204\n",
      "electric        90\n",
      "Name: FuelType, dtype: int64\n",
      "volkswagen        77013\n",
      "opel              39931\n",
      "bmw               36914\n",
      "mercedes_benz     32046\n",
      "audi              29456\n",
      "ford              25179\n",
      "renault           17927\n",
      "peugeot           10998\n",
      "fiat               9643\n",
      "seat               6907\n",
      "mazda              5615\n",
      "skoda              5500\n",
      "smart              5246\n",
      "citroen            5148\n",
      "nissan             4941\n",
      "toyota             4606\n",
      "hyundai            3587\n",
      "sonstige_autos     3374\n",
      "volvo              3210\n",
      "mini               3202\n",
      "mitsubishi         3022\n",
      "honda              2817\n",
      "kia                2465\n",
      "suzuki             2323\n",
      "alfa_romeo         2314\n",
      "chevrolet          1754\n",
      "chrysler           1439\n",
      "dacia               900\n",
      "daihatsu            806\n",
      "subaru              762\n",
      "porsche             758\n",
      "jeep                677\n",
      "trabant             589\n",
      "land_rover          545\n",
      "daewoo              542\n",
      "saab                526\n",
      "jaguar              505\n",
      "rover               486\n",
      "lancia              471\n",
      "lada                225\n",
      "Name: Brand, dtype: int64\n",
      "no     247161\n",
      "yes     36054\n",
      "Name: NotRepaired, dtype: int64\n",
      "2016-04-03 00:00:00    13719\n",
      "2016-04-04 00:00:00    13317\n",
      "2016-03-20 00:00:00    12918\n",
      "2016-03-12 00:00:00    12840\n",
      "2016-03-21 00:00:00    12691\n",
      "                       ...  \n",
      "2016-01-16 00:00:00        1\n",
      "2016-01-08 00:00:00        1\n",
      "2015-06-18 00:00:00        1\n",
      "2015-12-27 00:00:00        1\n",
      "2015-11-02 00:00:00        1\n",
      "Name: DateCreated, Length: 109, dtype: int64\n",
      "0    354369\n",
      "Name: NumberOfPictures, dtype: int64\n",
      "10115    819\n",
      "65428    613\n",
      "66333    343\n",
      "44145    317\n",
      "32257    317\n",
      "        ... \n",
      "6725       1\n",
      "6922       1\n",
      "85071      1\n",
      "97528      1\n",
      "63931      1\n",
      "Name: PostalCode, Length: 8143, dtype: int64\n",
      "2016-04-06 13:45:54    17\n",
      "2016-04-06 12:15:45    16\n",
      "2016-04-06 04:15:59    16\n",
      "2016-04-06 09:46:00    16\n",
      "2016-04-07 13:17:48    16\n",
      "                       ..\n",
      "2016-03-16 15:41:39     1\n",
      "2016-03-17 02:16:59     1\n",
      "2016-03-17 07:17:54     1\n",
      "2016-03-30 03:17:48     1\n",
      "2016-04-01 12:45:52     1\n",
      "Name: LastSeen, Length: 179150, dtype: int64\n"
     ]
    }
   ],
   "source": [
    "for row in df: \n",
    "      print(df[row].value_counts())"
   ]
  },
  {
   "cell_type": "markdown",
   "metadata": {},
   "source": [
    "RegistrationYear - много значений введенных наугад  \n",
    "RegistrationMonth - у многих указан 0 (по факту не указан)  \n",
    "NumberOfPictures - везде 0  \n",
    "Power - много указано 0, видимо автозаполнение при отсутствии данных, также  часть указаны явно некоректно  \n",
    "Price - 10772 значения 0, явно речь не о подарке\n"
   ]
  },
  {
   "cell_type": "code",
   "execution_count": 7,
   "metadata": {},
   "outputs": [
    {
     "data": {
      "text/html": [
       "<div>\n",
       "<style scoped>\n",
       "    .dataframe tbody tr th:only-of-type {\n",
       "        vertical-align: middle;\n",
       "    }\n",
       "\n",
       "    .dataframe tbody tr th {\n",
       "        vertical-align: top;\n",
       "    }\n",
       "\n",
       "    .dataframe thead th {\n",
       "        text-align: right;\n",
       "    }\n",
       "</style>\n",
       "<table border=\"1\" class=\"dataframe\">\n",
       "  <thead>\n",
       "    <tr style=\"text-align: right;\">\n",
       "      <th></th>\n",
       "      <th>count</th>\n",
       "      <th>mean</th>\n",
       "      <th>std</th>\n",
       "      <th>min</th>\n",
       "      <th>25%</th>\n",
       "      <th>50%</th>\n",
       "      <th>75%</th>\n",
       "      <th>max</th>\n",
       "    </tr>\n",
       "  </thead>\n",
       "  <tbody>\n",
       "    <tr>\n",
       "      <td>Price</td>\n",
       "      <td>354369.0</td>\n",
       "      <td>4416.656776</td>\n",
       "      <td>4514.158514</td>\n",
       "      <td>0.0</td>\n",
       "      <td>1050.0</td>\n",
       "      <td>2700.0</td>\n",
       "      <td>6400.0</td>\n",
       "      <td>20000.0</td>\n",
       "    </tr>\n",
       "    <tr>\n",
       "      <td>RegistrationYear</td>\n",
       "      <td>354369.0</td>\n",
       "      <td>2004.234448</td>\n",
       "      <td>90.227958</td>\n",
       "      <td>1000.0</td>\n",
       "      <td>1999.0</td>\n",
       "      <td>2003.0</td>\n",
       "      <td>2008.0</td>\n",
       "      <td>9999.0</td>\n",
       "    </tr>\n",
       "    <tr>\n",
       "      <td>Power</td>\n",
       "      <td>354369.0</td>\n",
       "      <td>110.094337</td>\n",
       "      <td>189.850405</td>\n",
       "      <td>0.0</td>\n",
       "      <td>69.0</td>\n",
       "      <td>105.0</td>\n",
       "      <td>143.0</td>\n",
       "      <td>20000.0</td>\n",
       "    </tr>\n",
       "    <tr>\n",
       "      <td>Kilometer</td>\n",
       "      <td>354369.0</td>\n",
       "      <td>128211.172535</td>\n",
       "      <td>37905.341530</td>\n",
       "      <td>5000.0</td>\n",
       "      <td>125000.0</td>\n",
       "      <td>150000.0</td>\n",
       "      <td>150000.0</td>\n",
       "      <td>150000.0</td>\n",
       "    </tr>\n",
       "    <tr>\n",
       "      <td>RegistrationMonth</td>\n",
       "      <td>354369.0</td>\n",
       "      <td>5.714645</td>\n",
       "      <td>3.726421</td>\n",
       "      <td>0.0</td>\n",
       "      <td>3.0</td>\n",
       "      <td>6.0</td>\n",
       "      <td>9.0</td>\n",
       "      <td>12.0</td>\n",
       "    </tr>\n",
       "    <tr>\n",
       "      <td>NumberOfPictures</td>\n",
       "      <td>354369.0</td>\n",
       "      <td>0.000000</td>\n",
       "      <td>0.000000</td>\n",
       "      <td>0.0</td>\n",
       "      <td>0.0</td>\n",
       "      <td>0.0</td>\n",
       "      <td>0.0</td>\n",
       "      <td>0.0</td>\n",
       "    </tr>\n",
       "    <tr>\n",
       "      <td>PostalCode</td>\n",
       "      <td>354369.0</td>\n",
       "      <td>50508.689087</td>\n",
       "      <td>25783.096248</td>\n",
       "      <td>1067.0</td>\n",
       "      <td>30165.0</td>\n",
       "      <td>49413.0</td>\n",
       "      <td>71083.0</td>\n",
       "      <td>99998.0</td>\n",
       "    </tr>\n",
       "  </tbody>\n",
       "</table>\n",
       "</div>"
      ],
      "text/plain": [
       "                      count           mean           std     min       25%  \\\n",
       "Price              354369.0    4416.656776   4514.158514     0.0    1050.0   \n",
       "RegistrationYear   354369.0    2004.234448     90.227958  1000.0    1999.0   \n",
       "Power              354369.0     110.094337    189.850405     0.0      69.0   \n",
       "Kilometer          354369.0  128211.172535  37905.341530  5000.0  125000.0   \n",
       "RegistrationMonth  354369.0       5.714645      3.726421     0.0       3.0   \n",
       "NumberOfPictures   354369.0       0.000000      0.000000     0.0       0.0   \n",
       "PostalCode         354369.0   50508.689087  25783.096248  1067.0   30165.0   \n",
       "\n",
       "                        50%       75%       max  \n",
       "Price                2700.0    6400.0   20000.0  \n",
       "RegistrationYear     2003.0    2008.0    9999.0  \n",
       "Power                 105.0     143.0   20000.0  \n",
       "Kilometer          150000.0  150000.0  150000.0  \n",
       "RegistrationMonth       6.0       9.0      12.0  \n",
       "NumberOfPictures        0.0       0.0       0.0  \n",
       "PostalCode          49413.0   71083.0   99998.0  "
      ]
     },
     "execution_count": 7,
     "metadata": {},
     "output_type": "execute_result"
    }
   ],
   "source": [
    "df.describe().transpose()"
   ]
  },
  {
   "cell_type": "code",
   "execution_count": 8,
   "metadata": {},
   "outputs": [
    {
     "data": {
      "image/png": "[encoded data removed]",
      "text/plain": [
       "<Figure size 432x288 with 2 Axes>"
      ]
     },
     "metadata": {
      "needs_background": "light"
     },
     "output_type": "display_data"
    }
   ],
   "source": [
    "sns.heatmap(df.corr(), annot = True, vmin=-1, vmax=1, center= 0, cmap= 'coolwarm')\n",
    "plt.title(\"Матрица корреляции\");"
   ]
  },
  {
   "cell_type": "markdown",
   "metadata": {},
   "source": [
    "Матрица корреляции на данном этапе ценной информации не даёт, исходя из нашей цели нет необходимости в дальнейшем анализе зависимостей"
   ]
  },
  {
   "cell_type": "markdown",
   "metadata": {},
   "source": [
    "Определимся со значимыми признаками:\n",
    "\n",
    "- VehicleType — тип автомобильного кузова влияет на характеристики цену    \n",
    "- RegistrationYear — год регистрации автомобиля определяет его возраст и возможный износ, влияет на цену  \n",
    "- Gearbox — тип коробки передач определяет удобство и стоимость эксплуатации, влияет на цену   \n",
    "- Power — мощность (л. с.), влияет на цену   \n",
    "- Model — модель автомобиля определяет множество параметров автомобиля, влияет на цену   \n",
    "- Kilometer — пробег (км) определяет износ автомобиля, чем выше он, тем ниже цена  \n",
    "- FuelType — тип топлива определяет стоимость экплуатации и другие характеристики, влияет на цену  \n",
    "- Brand — марка автомобиля оказывает существенное влияние на цену через эмоции историю или её отсутствие  \n",
    "- NotRepaired — была машина в ремонте или нет, влияет на цену   \n",
    "\n",
    "\n",
    "DateCrawled, RegistrationMonth, DateCreated, PostalCode, NumberOfPictures, LastSeen - не являются характеристиками самого автомобиля.     Важно что даты создания анкет и скачивания близки между собой, нет цен годовой давности. Все эти характеристики можно отбросить.\n",
    "\n",
    "\n"
   ]
  },
  {
   "cell_type": "markdown",
   "metadata": {},
   "source": [
    "### Предобработка данных"
   ]
  },
  {
   "cell_type": "markdown",
   "metadata": {},
   "source": [
    "Оставим только значимые и целевой признаки"
   ]
  },
  {
   "cell_type": "code",
   "execution_count": 9,
   "metadata": {},
   "outputs": [
    {
     "data": {
      "text/plain": [
       "Index(['DateCrawled', 'Price', 'VehicleType', 'RegistrationYear', 'Gearbox',\n",
       "       'Power', 'Model', 'Kilometer', 'RegistrationMonth', 'FuelType', 'Brand',\n",
       "       'NotRepaired', 'DateCreated', 'NumberOfPictures', 'PostalCode',\n",
       "       'LastSeen'],\n",
       "      dtype='object')"
      ]
     },
     "execution_count": 9,
     "metadata": {},
     "output_type": "execute_result"
    }
   ],
   "source": [
    "df.columns"
   ]
  },
  {
   "cell_type": "code",
   "execution_count": 10,
   "metadata": {},
   "outputs": [
    {
     "data": {
      "text/html": [
       "<div>\n",
       "<style scoped>\n",
       "    .dataframe tbody tr th:only-of-type {\n",
       "        vertical-align: middle;\n",
       "    }\n",
       "\n",
       "    .dataframe tbody tr th {\n",
       "        vertical-align: top;\n",
       "    }\n",
       "\n",
       "    .dataframe thead th {\n",
       "        text-align: right;\n",
       "    }\n",
       "</style>\n",
       "<table border=\"1\" class=\"dataframe\">\n",
       "  <thead>\n",
       "    <tr style=\"text-align: right;\">\n",
       "      <th></th>\n",
       "      <th>Price</th>\n",
       "      <th>VehicleType</th>\n",
       "      <th>RegistrationYear</th>\n",
       "      <th>Gearbox</th>\n",
       "      <th>Power</th>\n",
       "      <th>Model</th>\n",
       "      <th>Kilometer</th>\n",
       "      <th>FuelType</th>\n",
       "      <th>Brand</th>\n",
       "      <th>NotRepaired</th>\n",
       "    </tr>\n",
       "  </thead>\n",
       "  <tbody>\n",
       "    <tr>\n",
       "      <td>0</td>\n",
       "      <td>480</td>\n",
       "      <td>NaN</td>\n",
       "      <td>1993</td>\n",
       "      <td>manual</td>\n",
       "      <td>0</td>\n",
       "      <td>golf</td>\n",
       "      <td>150000</td>\n",
       "      <td>petrol</td>\n",
       "      <td>volkswagen</td>\n",
       "      <td>NaN</td>\n",
       "    </tr>\n",
       "    <tr>\n",
       "      <td>1</td>\n",
       "      <td>18300</td>\n",
       "      <td>coupe</td>\n",
       "      <td>2011</td>\n",
       "      <td>manual</td>\n",
       "      <td>190</td>\n",
       "      <td>NaN</td>\n",
       "      <td>125000</td>\n",
       "      <td>gasoline</td>\n",
       "      <td>audi</td>\n",
       "      <td>yes</td>\n",
       "    </tr>\n",
       "    <tr>\n",
       "      <td>2</td>\n",
       "      <td>9800</td>\n",
       "      <td>suv</td>\n",
       "      <td>2004</td>\n",
       "      <td>auto</td>\n",
       "      <td>163</td>\n",
       "      <td>grand</td>\n",
       "      <td>125000</td>\n",
       "      <td>gasoline</td>\n",
       "      <td>jeep</td>\n",
       "      <td>NaN</td>\n",
       "    </tr>\n",
       "    <tr>\n",
       "      <td>3</td>\n",
       "      <td>1500</td>\n",
       "      <td>small</td>\n",
       "      <td>2001</td>\n",
       "      <td>manual</td>\n",
       "      <td>75</td>\n",
       "      <td>golf</td>\n",
       "      <td>150000</td>\n",
       "      <td>petrol</td>\n",
       "      <td>volkswagen</td>\n",
       "      <td>no</td>\n",
       "    </tr>\n",
       "    <tr>\n",
       "      <td>4</td>\n",
       "      <td>3600</td>\n",
       "      <td>small</td>\n",
       "      <td>2008</td>\n",
       "      <td>manual</td>\n",
       "      <td>69</td>\n",
       "      <td>fabia</td>\n",
       "      <td>90000</td>\n",
       "      <td>gasoline</td>\n",
       "      <td>skoda</td>\n",
       "      <td>no</td>\n",
       "    </tr>\n",
       "    <tr>\n",
       "      <td>...</td>\n",
       "      <td>...</td>\n",
       "      <td>...</td>\n",
       "      <td>...</td>\n",
       "      <td>...</td>\n",
       "      <td>...</td>\n",
       "      <td>...</td>\n",
       "      <td>...</td>\n",
       "      <td>...</td>\n",
       "      <td>...</td>\n",
       "      <td>...</td>\n",
       "    </tr>\n",
       "    <tr>\n",
       "      <td>354364</td>\n",
       "      <td>0</td>\n",
       "      <td>NaN</td>\n",
       "      <td>2005</td>\n",
       "      <td>manual</td>\n",
       "      <td>0</td>\n",
       "      <td>colt</td>\n",
       "      <td>150000</td>\n",
       "      <td>petrol</td>\n",
       "      <td>mitsubishi</td>\n",
       "      <td>yes</td>\n",
       "    </tr>\n",
       "    <tr>\n",
       "      <td>354365</td>\n",
       "      <td>2200</td>\n",
       "      <td>NaN</td>\n",
       "      <td>2005</td>\n",
       "      <td>NaN</td>\n",
       "      <td>0</td>\n",
       "      <td>NaN</td>\n",
       "      <td>20000</td>\n",
       "      <td>NaN</td>\n",
       "      <td>sonstige_autos</td>\n",
       "      <td>NaN</td>\n",
       "    </tr>\n",
       "    <tr>\n",
       "      <td>354366</td>\n",
       "      <td>1199</td>\n",
       "      <td>convertible</td>\n",
       "      <td>2000</td>\n",
       "      <td>auto</td>\n",
       "      <td>101</td>\n",
       "      <td>fortwo</td>\n",
       "      <td>125000</td>\n",
       "      <td>petrol</td>\n",
       "      <td>smart</td>\n",
       "      <td>no</td>\n",
       "    </tr>\n",
       "    <tr>\n",
       "      <td>354367</td>\n",
       "      <td>9200</td>\n",
       "      <td>bus</td>\n",
       "      <td>1996</td>\n",
       "      <td>manual</td>\n",
       "      <td>102</td>\n",
       "      <td>transporter</td>\n",
       "      <td>150000</td>\n",
       "      <td>gasoline</td>\n",
       "      <td>volkswagen</td>\n",
       "      <td>no</td>\n",
       "    </tr>\n",
       "    <tr>\n",
       "      <td>354368</td>\n",
       "      <td>3400</td>\n",
       "      <td>wagon</td>\n",
       "      <td>2002</td>\n",
       "      <td>manual</td>\n",
       "      <td>100</td>\n",
       "      <td>golf</td>\n",
       "      <td>150000</td>\n",
       "      <td>gasoline</td>\n",
       "      <td>volkswagen</td>\n",
       "      <td>NaN</td>\n",
       "    </tr>\n",
       "  </tbody>\n",
       "</table>\n",
       "<p>354369 rows × 10 columns</p>\n",
       "</div>"
      ],
      "text/plain": [
       "        Price  VehicleType  RegistrationYear Gearbox  Power        Model  \\\n",
       "0         480          NaN              1993  manual      0         golf   \n",
       "1       18300        coupe              2011  manual    190          NaN   \n",
       "2        9800          suv              2004    auto    163        grand   \n",
       "3        1500        small              2001  manual     75         golf   \n",
       "4        3600        small              2008  manual     69        fabia   \n",
       "...       ...          ...               ...     ...    ...          ...   \n",
       "354364      0          NaN              2005  manual      0         colt   \n",
       "354365   2200          NaN              2005     NaN      0          NaN   \n",
       "354366   1199  convertible              2000    auto    101       fortwo   \n",
       "354367   9200          bus              1996  manual    102  transporter   \n",
       "354368   3400        wagon              2002  manual    100         golf   \n",
       "\n",
       "        Kilometer  FuelType           Brand NotRepaired  \n",
       "0          150000    petrol      volkswagen         NaN  \n",
       "1          125000  gasoline            audi         yes  \n",
       "2          125000  gasoline            jeep         NaN  \n",
       "3          150000    petrol      volkswagen          no  \n",
       "4           90000  gasoline           skoda          no  \n",
       "...           ...       ...             ...         ...  \n",
       "354364     150000    petrol      mitsubishi         yes  \n",
       "354365      20000       NaN  sonstige_autos         NaN  \n",
       "354366     125000    petrol           smart          no  \n",
       "354367     150000  gasoline      volkswagen          no  \n",
       "354368     150000  gasoline      volkswagen         NaN  \n",
       "\n",
       "[354369 rows x 10 columns]"
      ]
     },
     "execution_count": 10,
     "metadata": {},
     "output_type": "execute_result"
    }
   ],
   "source": [
    "fg = df[['Price', 'VehicleType', 'RegistrationYear', 'Gearbox',\n",
    "       'Power', 'Model', 'Kilometer', 'FuelType', 'Brand',\n",
    "       'NotRepaired']]\n",
    "fg"
   ]
  },
  {
   "cell_type": "markdown",
   "metadata": {},
   "source": [
    "Поправим год регистрации, он не может быть больше даты регистрации анкет и меньше  начала 20 века, назначим всем таким датам одно значение 1900"
   ]
  },
  {
   "cell_type": "code",
   "execution_count": 11,
   "metadata": {},
   "outputs": [],
   "source": [
    "def Year(y):\n",
    "    if 1900 < y < 2017:\n",
    "        return y\n",
    "    else:\n",
    "        return 1900\n",
    "    \n",
    "fg[\"RegistrationYear\"] = fg[\"RegistrationYear\"].apply(Year)"
   ]
  },
  {
   "cell_type": "code",
   "execution_count": 12,
   "metadata": {},
   "outputs": [
    {
     "data": {
      "text/plain": [
       "0         1993\n",
       "1         2011\n",
       "2         2004\n",
       "3         2001\n",
       "4         2008\n",
       "          ... \n",
       "354364    2005\n",
       "354365    2005\n",
       "354366    2000\n",
       "354367    1996\n",
       "354368    2002\n",
       "Name: RegistrationYear, Length: 354369, dtype: int64"
      ]
     },
     "execution_count": 12,
     "metadata": {},
     "output_type": "execute_result"
    }
   ],
   "source": [
    "fg[\"RegistrationYear\"]"
   ]
  },
  {
   "cell_type": "markdown",
   "metadata": {},
   "source": [
    "Отбросим нулевые значения цены, которые для нашей цели в любом случае не будут полезны. Остальные данные оставим, модель сама определит их ценность."
   ]
  },
  {
   "cell_type": "code",
   "execution_count": 13,
   "metadata": {},
   "outputs": [],
   "source": [
    "fg = fg.query('Price > 0')"
   ]
  },
  {
   "cell_type": "markdown",
   "metadata": {},
   "source": [
    "Заполним отсутствующие значения в Gearbox, NotRepaired и Model:  \n",
    "- большинство машин с ручной коробкой передач, можно уверенно предположить, что в анкете пользователь бы указал о наличии автомата для обоснования цены, по умолчанию укажем ручную  \n",
    "- согласно большинству объявлений, автомобиль не был восстановлен после аварии, также заполним пропуски модой  \n",
    "- модель может быть не указана по разным причинам, при этом она играет важную роль в цене автомобиля, укажем, что модель неизвестна"
   ]
  },
  {
   "cell_type": "code",
   "execution_count": 14,
   "metadata": {},
   "outputs": [],
   "source": [
    "fg.fillna({'Gearbox':'manual',\n",
    "           'NotRepaired':'yes',\n",
    "           'Model':'unknown'},\n",
    "          inplace=True)"
   ]
  },
  {
   "cell_type": "code",
   "execution_count": 15,
   "metadata": {},
   "outputs": [
    {
     "data": {
      "text/html": [
       "<div>\n",
       "<style scoped>\n",
       "    .dataframe tbody tr th:only-of-type {\n",
       "        vertical-align: middle;\n",
       "    }\n",
       "\n",
       "    .dataframe tbody tr th {\n",
       "        vertical-align: top;\n",
       "    }\n",
       "\n",
       "    .dataframe thead th {\n",
       "        text-align: right;\n",
       "    }\n",
       "</style>\n",
       "<table border=\"1\" class=\"dataframe\">\n",
       "  <thead>\n",
       "    <tr style=\"text-align: right;\">\n",
       "      <th></th>\n",
       "      <th>Price</th>\n",
       "      <th>VehicleType</th>\n",
       "      <th>RegistrationYear</th>\n",
       "      <th>Gearbox</th>\n",
       "      <th>Power</th>\n",
       "      <th>Model</th>\n",
       "      <th>Kilometer</th>\n",
       "      <th>FuelType</th>\n",
       "      <th>Brand</th>\n",
       "      <th>NotRepaired</th>\n",
       "    </tr>\n",
       "  </thead>\n",
       "  <tbody>\n",
       "    <tr>\n",
       "      <td>0</td>\n",
       "      <td>480</td>\n",
       "      <td>NaN</td>\n",
       "      <td>1993</td>\n",
       "      <td>manual</td>\n",
       "      <td>0</td>\n",
       "      <td>golf</td>\n",
       "      <td>150000</td>\n",
       "      <td>petrol</td>\n",
       "      <td>volkswagen</td>\n",
       "      <td>yes</td>\n",
       "    </tr>\n",
       "    <tr>\n",
       "      <td>1</td>\n",
       "      <td>18300</td>\n",
       "      <td>coupe</td>\n",
       "      <td>2011</td>\n",
       "      <td>manual</td>\n",
       "      <td>190</td>\n",
       "      <td>unknown</td>\n",
       "      <td>125000</td>\n",
       "      <td>gasoline</td>\n",
       "      <td>audi</td>\n",
       "      <td>yes</td>\n",
       "    </tr>\n",
       "    <tr>\n",
       "      <td>2</td>\n",
       "      <td>9800</td>\n",
       "      <td>suv</td>\n",
       "      <td>2004</td>\n",
       "      <td>auto</td>\n",
       "      <td>163</td>\n",
       "      <td>grand</td>\n",
       "      <td>125000</td>\n",
       "      <td>gasoline</td>\n",
       "      <td>jeep</td>\n",
       "      <td>yes</td>\n",
       "    </tr>\n",
       "    <tr>\n",
       "      <td>3</td>\n",
       "      <td>1500</td>\n",
       "      <td>small</td>\n",
       "      <td>2001</td>\n",
       "      <td>manual</td>\n",
       "      <td>75</td>\n",
       "      <td>golf</td>\n",
       "      <td>150000</td>\n",
       "      <td>petrol</td>\n",
       "      <td>volkswagen</td>\n",
       "      <td>no</td>\n",
       "    </tr>\n",
       "    <tr>\n",
       "      <td>4</td>\n",
       "      <td>3600</td>\n",
       "      <td>small</td>\n",
       "      <td>2008</td>\n",
       "      <td>manual</td>\n",
       "      <td>69</td>\n",
       "      <td>fabia</td>\n",
       "      <td>90000</td>\n",
       "      <td>gasoline</td>\n",
       "      <td>skoda</td>\n",
       "      <td>no</td>\n",
       "    </tr>\n",
       "    <tr>\n",
       "      <td>...</td>\n",
       "      <td>...</td>\n",
       "      <td>...</td>\n",
       "      <td>...</td>\n",
       "      <td>...</td>\n",
       "      <td>...</td>\n",
       "      <td>...</td>\n",
       "      <td>...</td>\n",
       "      <td>...</td>\n",
       "      <td>...</td>\n",
       "      <td>...</td>\n",
       "    </tr>\n",
       "    <tr>\n",
       "      <td>354363</td>\n",
       "      <td>1150</td>\n",
       "      <td>bus</td>\n",
       "      <td>2000</td>\n",
       "      <td>manual</td>\n",
       "      <td>0</td>\n",
       "      <td>zafira</td>\n",
       "      <td>150000</td>\n",
       "      <td>petrol</td>\n",
       "      <td>opel</td>\n",
       "      <td>no</td>\n",
       "    </tr>\n",
       "    <tr>\n",
       "      <td>354365</td>\n",
       "      <td>2200</td>\n",
       "      <td>NaN</td>\n",
       "      <td>2005</td>\n",
       "      <td>manual</td>\n",
       "      <td>0</td>\n",
       "      <td>unknown</td>\n",
       "      <td>20000</td>\n",
       "      <td>NaN</td>\n",
       "      <td>sonstige_autos</td>\n",
       "      <td>yes</td>\n",
       "    </tr>\n",
       "    <tr>\n",
       "      <td>354366</td>\n",
       "      <td>1199</td>\n",
       "      <td>convertible</td>\n",
       "      <td>2000</td>\n",
       "      <td>auto</td>\n",
       "      <td>101</td>\n",
       "      <td>fortwo</td>\n",
       "      <td>125000</td>\n",
       "      <td>petrol</td>\n",
       "      <td>smart</td>\n",
       "      <td>no</td>\n",
       "    </tr>\n",
       "    <tr>\n",
       "      <td>354367</td>\n",
       "      <td>9200</td>\n",
       "      <td>bus</td>\n",
       "      <td>1996</td>\n",
       "      <td>manual</td>\n",
       "      <td>102</td>\n",
       "      <td>transporter</td>\n",
       "      <td>150000</td>\n",
       "      <td>gasoline</td>\n",
       "      <td>volkswagen</td>\n",
       "      <td>no</td>\n",
       "    </tr>\n",
       "    <tr>\n",
       "      <td>354368</td>\n",
       "      <td>3400</td>\n",
       "      <td>wagon</td>\n",
       "      <td>2002</td>\n",
       "      <td>manual</td>\n",
       "      <td>100</td>\n",
       "      <td>golf</td>\n",
       "      <td>150000</td>\n",
       "      <td>gasoline</td>\n",
       "      <td>volkswagen</td>\n",
       "      <td>yes</td>\n",
       "    </tr>\n",
       "  </tbody>\n",
       "</table>\n",
       "<p>343597 rows × 10 columns</p>\n",
       "</div>"
      ],
      "text/plain": [
       "        Price  VehicleType  RegistrationYear Gearbox  Power        Model  \\\n",
       "0         480          NaN              1993  manual      0         golf   \n",
       "1       18300        coupe              2011  manual    190      unknown   \n",
       "2        9800          suv              2004    auto    163        grand   \n",
       "3        1500        small              2001  manual     75         golf   \n",
       "4        3600        small              2008  manual     69        fabia   \n",
       "...       ...          ...               ...     ...    ...          ...   \n",
       "354363   1150          bus              2000  manual      0       zafira   \n",
       "354365   2200          NaN              2005  manual      0      unknown   \n",
       "354366   1199  convertible              2000    auto    101       fortwo   \n",
       "354367   9200          bus              1996  manual    102  transporter   \n",
       "354368   3400        wagon              2002  manual    100         golf   \n",
       "\n",
       "        Kilometer  FuelType           Brand NotRepaired  \n",
       "0          150000    petrol      volkswagen         yes  \n",
       "1          125000  gasoline            audi         yes  \n",
       "2          125000  gasoline            jeep         yes  \n",
       "3          150000    petrol      volkswagen          no  \n",
       "4           90000  gasoline           skoda          no  \n",
       "...           ...       ...             ...         ...  \n",
       "354363     150000    petrol            opel          no  \n",
       "354365      20000       NaN  sonstige_autos         yes  \n",
       "354366     125000    petrol           smart          no  \n",
       "354367     150000  gasoline      volkswagen          no  \n",
       "354368     150000  gasoline      volkswagen         yes  \n",
       "\n",
       "[343597 rows x 10 columns]"
      ]
     },
     "execution_count": 15,
     "metadata": {},
     "output_type": "execute_result"
    }
   ],
   "source": [
    "fg"
   ]
  },
  {
   "cell_type": "markdown",
   "metadata": {},
   "source": [
    "Проведем замену столбцов Gearbox и NotRepaired на булев тип.\n",
    "\n",
    "- IsManualGearbox. 1(manual) - означает механическую коробку передач. 0(auto) - автоматическую.\n",
    "- IsNotRepaired. 1(yes) - означает машину без ремонта. 0(no) - с ремонтом."
   ]
  },
  {
   "cell_type": "code",
   "execution_count": 16,
   "metadata": {},
   "outputs": [],
   "source": [
    "fg['IsManualGearbox'] = 0\n",
    "fg.loc[fg['Gearbox'] == 'manual', 'IsManualGearbox'] = 1\n",
    "fg['IsNotRepaired'] = 0\n",
    "fg.loc[fg['NotRepaired'] == 'yes', 'IsNotRepaired'] = 1"
   ]
  },
  {
   "cell_type": "code",
   "execution_count": 17,
   "metadata": {},
   "outputs": [
    {
     "data": {
      "text/html": [
       "<div>\n",
       "<style scoped>\n",
       "    .dataframe tbody tr th:only-of-type {\n",
       "        vertical-align: middle;\n",
       "    }\n",
       "\n",
       "    .dataframe tbody tr th {\n",
       "        vertical-align: top;\n",
       "    }\n",
       "\n",
       "    .dataframe thead th {\n",
       "        text-align: right;\n",
       "    }\n",
       "</style>\n",
       "<table border=\"1\" class=\"dataframe\">\n",
       "  <thead>\n",
       "    <tr style=\"text-align: right;\">\n",
       "      <th></th>\n",
       "      <th>Price</th>\n",
       "      <th>VehicleType</th>\n",
       "      <th>RegistrationYear</th>\n",
       "      <th>Gearbox</th>\n",
       "      <th>Power</th>\n",
       "      <th>Model</th>\n",
       "      <th>Kilometer</th>\n",
       "      <th>FuelType</th>\n",
       "      <th>Brand</th>\n",
       "      <th>NotRepaired</th>\n",
       "      <th>IsManualGearbox</th>\n",
       "      <th>IsNotRepaired</th>\n",
       "    </tr>\n",
       "  </thead>\n",
       "  <tbody>\n",
       "    <tr>\n",
       "      <td>0</td>\n",
       "      <td>480</td>\n",
       "      <td>NaN</td>\n",
       "      <td>1993</td>\n",
       "      <td>manual</td>\n",
       "      <td>0</td>\n",
       "      <td>golf</td>\n",
       "      <td>150000</td>\n",
       "      <td>petrol</td>\n",
       "      <td>volkswagen</td>\n",
       "      <td>yes</td>\n",
       "      <td>1</td>\n",
       "      <td>1</td>\n",
       "    </tr>\n",
       "    <tr>\n",
       "      <td>1</td>\n",
       "      <td>18300</td>\n",
       "      <td>coupe</td>\n",
       "      <td>2011</td>\n",
       "      <td>manual</td>\n",
       "      <td>190</td>\n",
       "      <td>unknown</td>\n",
       "      <td>125000</td>\n",
       "      <td>gasoline</td>\n",
       "      <td>audi</td>\n",
       "      <td>yes</td>\n",
       "      <td>1</td>\n",
       "      <td>1</td>\n",
       "    </tr>\n",
       "    <tr>\n",
       "      <td>2</td>\n",
       "      <td>9800</td>\n",
       "      <td>suv</td>\n",
       "      <td>2004</td>\n",
       "      <td>auto</td>\n",
       "      <td>163</td>\n",
       "      <td>grand</td>\n",
       "      <td>125000</td>\n",
       "      <td>gasoline</td>\n",
       "      <td>jeep</td>\n",
       "      <td>yes</td>\n",
       "      <td>0</td>\n",
       "      <td>1</td>\n",
       "    </tr>\n",
       "    <tr>\n",
       "      <td>3</td>\n",
       "      <td>1500</td>\n",
       "      <td>small</td>\n",
       "      <td>2001</td>\n",
       "      <td>manual</td>\n",
       "      <td>75</td>\n",
       "      <td>golf</td>\n",
       "      <td>150000</td>\n",
       "      <td>petrol</td>\n",
       "      <td>volkswagen</td>\n",
       "      <td>no</td>\n",
       "      <td>1</td>\n",
       "      <td>0</td>\n",
       "    </tr>\n",
       "    <tr>\n",
       "      <td>4</td>\n",
       "      <td>3600</td>\n",
       "      <td>small</td>\n",
       "      <td>2008</td>\n",
       "      <td>manual</td>\n",
       "      <td>69</td>\n",
       "      <td>fabia</td>\n",
       "      <td>90000</td>\n",
       "      <td>gasoline</td>\n",
       "      <td>skoda</td>\n",
       "      <td>no</td>\n",
       "      <td>1</td>\n",
       "      <td>0</td>\n",
       "    </tr>\n",
       "    <tr>\n",
       "      <td>...</td>\n",
       "      <td>...</td>\n",
       "      <td>...</td>\n",
       "      <td>...</td>\n",
       "      <td>...</td>\n",
       "      <td>...</td>\n",
       "      <td>...</td>\n",
       "      <td>...</td>\n",
       "      <td>...</td>\n",
       "      <td>...</td>\n",
       "      <td>...</td>\n",
       "      <td>...</td>\n",
       "      <td>...</td>\n",
       "    </tr>\n",
       "    <tr>\n",
       "      <td>354363</td>\n",
       "      <td>1150</td>\n",
       "      <td>bus</td>\n",
       "      <td>2000</td>\n",
       "      <td>manual</td>\n",
       "      <td>0</td>\n",
       "      <td>zafira</td>\n",
       "      <td>150000</td>\n",
       "      <td>petrol</td>\n",
       "      <td>opel</td>\n",
       "      <td>no</td>\n",
       "      <td>1</td>\n",
       "      <td>0</td>\n",
       "    </tr>\n",
       "    <tr>\n",
       "      <td>354365</td>\n",
       "      <td>2200</td>\n",
       "      <td>NaN</td>\n",
       "      <td>2005</td>\n",
       "      <td>manual</td>\n",
       "      <td>0</td>\n",
       "      <td>unknown</td>\n",
       "      <td>20000</td>\n",
       "      <td>NaN</td>\n",
       "      <td>sonstige_autos</td>\n",
       "      <td>yes</td>\n",
       "      <td>1</td>\n",
       "      <td>1</td>\n",
       "    </tr>\n",
       "    <tr>\n",
       "      <td>354366</td>\n",
       "      <td>1199</td>\n",
       "      <td>convertible</td>\n",
       "      <td>2000</td>\n",
       "      <td>auto</td>\n",
       "      <td>101</td>\n",
       "      <td>fortwo</td>\n",
       "      <td>125000</td>\n",
       "      <td>petrol</td>\n",
       "      <td>smart</td>\n",
       "      <td>no</td>\n",
       "      <td>0</td>\n",
       "      <td>0</td>\n",
       "    </tr>\n",
       "    <tr>\n",
       "      <td>354367</td>\n",
       "      <td>9200</td>\n",
       "      <td>bus</td>\n",
       "      <td>1996</td>\n",
       "      <td>manual</td>\n",
       "      <td>102</td>\n",
       "      <td>transporter</td>\n",
       "      <td>150000</td>\n",
       "      <td>gasoline</td>\n",
       "      <td>volkswagen</td>\n",
       "      <td>no</td>\n",
       "      <td>1</td>\n",
       "      <td>0</td>\n",
       "    </tr>\n",
       "    <tr>\n",
       "      <td>354368</td>\n",
       "      <td>3400</td>\n",
       "      <td>wagon</td>\n",
       "      <td>2002</td>\n",
       "      <td>manual</td>\n",
       "      <td>100</td>\n",
       "      <td>golf</td>\n",
       "      <td>150000</td>\n",
       "      <td>gasoline</td>\n",
       "      <td>volkswagen</td>\n",
       "      <td>yes</td>\n",
       "      <td>1</td>\n",
       "      <td>1</td>\n",
       "    </tr>\n",
       "  </tbody>\n",
       "</table>\n",
       "<p>343597 rows × 12 columns</p>\n",
       "</div>"
      ],
      "text/plain": [
       "        Price  VehicleType  RegistrationYear Gearbox  Power        Model  \\\n",
       "0         480          NaN              1993  manual      0         golf   \n",
       "1       18300        coupe              2011  manual    190      unknown   \n",
       "2        9800          suv              2004    auto    163        grand   \n",
       "3        1500        small              2001  manual     75         golf   \n",
       "4        3600        small              2008  manual     69        fabia   \n",
       "...       ...          ...               ...     ...    ...          ...   \n",
       "354363   1150          bus              2000  manual      0       zafira   \n",
       "354365   2200          NaN              2005  manual      0      unknown   \n",
       "354366   1199  convertible              2000    auto    101       fortwo   \n",
       "354367   9200          bus              1996  manual    102  transporter   \n",
       "354368   3400        wagon              2002  manual    100         golf   \n",
       "\n",
       "        Kilometer  FuelType           Brand NotRepaired  IsManualGearbox  \\\n",
       "0          150000    petrol      volkswagen         yes                1   \n",
       "1          125000  gasoline            audi         yes                1   \n",
       "2          125000  gasoline            jeep         yes                0   \n",
       "3          150000    petrol      volkswagen          no                1   \n",
       "4           90000  gasoline           skoda          no                1   \n",
       "...           ...       ...             ...         ...              ...   \n",
       "354363     150000    petrol            opel          no                1   \n",
       "354365      20000       NaN  sonstige_autos         yes                1   \n",
       "354366     125000    petrol           smart          no                0   \n",
       "354367     150000  gasoline      volkswagen          no                1   \n",
       "354368     150000  gasoline      volkswagen         yes                1   \n",
       "\n",
       "        IsNotRepaired  \n",
       "0                   1  \n",
       "1                   1  \n",
       "2                   1  \n",
       "3                   0  \n",
       "4                   0  \n",
       "...               ...  \n",
       "354363              0  \n",
       "354365              1  \n",
       "354366              0  \n",
       "354367              0  \n",
       "354368              1  \n",
       "\n",
       "[343597 rows x 12 columns]"
      ]
     },
     "execution_count": 17,
     "metadata": {},
     "output_type": "execute_result"
    }
   ],
   "source": [
    "fg"
   ]
  },
  {
   "cell_type": "code",
   "execution_count": 18,
   "metadata": {},
   "outputs": [],
   "source": [
    "fg.drop(['NotRepaired','Gearbox'], inplace=True, axis=1)"
   ]
  },
  {
   "cell_type": "code",
   "execution_count": 19,
   "metadata": {},
   "outputs": [
    {
     "data": {
      "text/html": [
       "<div>\n",
       "<style scoped>\n",
       "    .dataframe tbody tr th:only-of-type {\n",
       "        vertical-align: middle;\n",
       "    }\n",
       "\n",
       "    .dataframe tbody tr th {\n",
       "        vertical-align: top;\n",
       "    }\n",
       "\n",
       "    .dataframe thead th {\n",
       "        text-align: right;\n",
       "    }\n",
       "</style>\n",
       "<table border=\"1\" class=\"dataframe\">\n",
       "  <thead>\n",
       "    <tr style=\"text-align: right;\">\n",
       "      <th></th>\n",
       "      <th>sum</th>\n",
       "      <th>mean</th>\n",
       "    </tr>\n",
       "  </thead>\n",
       "  <tbody>\n",
       "    <tr>\n",
       "      <td>VehicleType</td>\n",
       "      <td>33750.0</td>\n",
       "      <td>0.098226</td>\n",
       "    </tr>\n",
       "    <tr>\n",
       "      <td>FuelType</td>\n",
       "      <td>29459.0</td>\n",
       "      <td>0.085737</td>\n",
       "    </tr>\n",
       "    <tr>\n",
       "      <td>Price</td>\n",
       "      <td>0.0</td>\n",
       "      <td>0.000000</td>\n",
       "    </tr>\n",
       "    <tr>\n",
       "      <td>RegistrationYear</td>\n",
       "      <td>0.0</td>\n",
       "      <td>0.000000</td>\n",
       "    </tr>\n",
       "    <tr>\n",
       "      <td>Power</td>\n",
       "      <td>0.0</td>\n",
       "      <td>0.000000</td>\n",
       "    </tr>\n",
       "    <tr>\n",
       "      <td>Model</td>\n",
       "      <td>0.0</td>\n",
       "      <td>0.000000</td>\n",
       "    </tr>\n",
       "    <tr>\n",
       "      <td>Kilometer</td>\n",
       "      <td>0.0</td>\n",
       "      <td>0.000000</td>\n",
       "    </tr>\n",
       "    <tr>\n",
       "      <td>Brand</td>\n",
       "      <td>0.0</td>\n",
       "      <td>0.000000</td>\n",
       "    </tr>\n",
       "    <tr>\n",
       "      <td>IsManualGearbox</td>\n",
       "      <td>0.0</td>\n",
       "      <td>0.000000</td>\n",
       "    </tr>\n",
       "    <tr>\n",
       "      <td>IsNotRepaired</td>\n",
       "      <td>0.0</td>\n",
       "      <td>0.000000</td>\n",
       "    </tr>\n",
       "  </tbody>\n",
       "</table>\n",
       "</div>"
      ],
      "text/plain": [
       "                      sum      mean\n",
       "VehicleType       33750.0  0.098226\n",
       "FuelType          29459.0  0.085737\n",
       "Price                 0.0  0.000000\n",
       "RegistrationYear      0.0  0.000000\n",
       "Power                 0.0  0.000000\n",
       "Model                 0.0  0.000000\n",
       "Kilometer             0.0  0.000000\n",
       "Brand                 0.0  0.000000\n",
       "IsManualGearbox       0.0  0.000000\n",
       "IsNotRepaired         0.0  0.000000"
      ]
     },
     "execution_count": 19,
     "metadata": {},
     "output_type": "execute_result"
    }
   ],
   "source": [
    "fg.isnull().agg(['sum','mean']).transpose().sort_values(by = 'mean', ascending=False)"
   ]
  },
  {
   "cell_type": "markdown",
   "metadata": {},
   "source": [
    "Посмотрим внимательнее на возможность определения типа кузова и топлива в зависимости от марки"
   ]
  },
  {
   "cell_type": "code",
   "execution_count": 20,
   "metadata": {},
   "outputs": [
    {
     "data": {
      "text/html": [
       "<div>\n",
       "<style scoped>\n",
       "    .dataframe tbody tr th:only-of-type {\n",
       "        vertical-align: middle;\n",
       "    }\n",
       "\n",
       "    .dataframe tbody tr th {\n",
       "        vertical-align: top;\n",
       "    }\n",
       "\n",
       "    .dataframe thead tr th {\n",
       "        text-align: left;\n",
       "    }\n",
       "\n",
       "    .dataframe thead tr:last-of-type th {\n",
       "        text-align: right;\n",
       "    }\n",
       "</style>\n",
       "<table border=\"1\" class=\"dataframe\">\n",
       "  <thead>\n",
       "    <tr>\n",
       "      <th></th>\n",
       "      <th colspan=\"21\" halign=\"left\">count</th>\n",
       "    </tr>\n",
       "    <tr>\n",
       "      <th></th>\n",
       "      <th colspan=\"21\" halign=\"left\">Price</th>\n",
       "    </tr>\n",
       "    <tr>\n",
       "      <th>Brand</th>\n",
       "      <th>alfa_romeo</th>\n",
       "      <th>audi</th>\n",
       "      <th>bmw</th>\n",
       "      <th>chevrolet</th>\n",
       "      <th>chrysler</th>\n",
       "      <th>citroen</th>\n",
       "      <th>dacia</th>\n",
       "      <th>daewoo</th>\n",
       "      <th>daihatsu</th>\n",
       "      <th>fiat</th>\n",
       "      <th>...</th>\n",
       "      <th>seat</th>\n",
       "      <th>skoda</th>\n",
       "      <th>smart</th>\n",
       "      <th>sonstige_autos</th>\n",
       "      <th>subaru</th>\n",
       "      <th>suzuki</th>\n",
       "      <th>toyota</th>\n",
       "      <th>trabant</th>\n",
       "      <th>volkswagen</th>\n",
       "      <th>volvo</th>\n",
       "    </tr>\n",
       "    <tr>\n",
       "      <th>VehicleType</th>\n",
       "      <th></th>\n",
       "      <th></th>\n",
       "      <th></th>\n",
       "      <th></th>\n",
       "      <th></th>\n",
       "      <th></th>\n",
       "      <th></th>\n",
       "      <th></th>\n",
       "      <th></th>\n",
       "      <th></th>\n",
       "      <th></th>\n",
       "      <th></th>\n",
       "      <th></th>\n",
       "      <th></th>\n",
       "      <th></th>\n",
       "      <th></th>\n",
       "      <th></th>\n",
       "      <th></th>\n",
       "      <th></th>\n",
       "      <th></th>\n",
       "      <th></th>\n",
       "    </tr>\n",
       "  </thead>\n",
       "  <tbody>\n",
       "    <tr>\n",
       "      <td>bus</td>\n",
       "      <td>NaN</td>\n",
       "      <td>10.0</td>\n",
       "      <td>6.0</td>\n",
       "      <td>156.0</td>\n",
       "      <td>415.0</td>\n",
       "      <td>1252.0</td>\n",
       "      <td>50.0</td>\n",
       "      <td>27.0</td>\n",
       "      <td>34.0</td>\n",
       "      <td>818.0</td>\n",
       "      <td>...</td>\n",
       "      <td>610.0</td>\n",
       "      <td>231.0</td>\n",
       "      <td>1.0</td>\n",
       "      <td>187.0</td>\n",
       "      <td>17.0</td>\n",
       "      <td>27.0</td>\n",
       "      <td>446.0</td>\n",
       "      <td>NaN</td>\n",
       "      <td>9388.0</td>\n",
       "      <td>NaN</td>\n",
       "    </tr>\n",
       "    <tr>\n",
       "      <td>convertible</td>\n",
       "      <td>177.0</td>\n",
       "      <td>1612.0</td>\n",
       "      <td>3199.0</td>\n",
       "      <td>17.0</td>\n",
       "      <td>228.0</td>\n",
       "      <td>112.0</td>\n",
       "      <td>NaN</td>\n",
       "      <td>1.0</td>\n",
       "      <td>17.0</td>\n",
       "      <td>506.0</td>\n",
       "      <td>...</td>\n",
       "      <td>NaN</td>\n",
       "      <td>4.0</td>\n",
       "      <td>1126.0</td>\n",
       "      <td>322.0</td>\n",
       "      <td>1.0</td>\n",
       "      <td>35.0</td>\n",
       "      <td>63.0</td>\n",
       "      <td>36.0</td>\n",
       "      <td>2887.0</td>\n",
       "      <td>75.0</td>\n",
       "    </tr>\n",
       "    <tr>\n",
       "      <td>coupe</td>\n",
       "      <td>226.0</td>\n",
       "      <td>1464.0</td>\n",
       "      <td>3683.0</td>\n",
       "      <td>89.0</td>\n",
       "      <td>47.0</td>\n",
       "      <td>148.0</td>\n",
       "      <td>NaN</td>\n",
       "      <td>8.0</td>\n",
       "      <td>NaN</td>\n",
       "      <td>168.0</td>\n",
       "      <td>...</td>\n",
       "      <td>84.0</td>\n",
       "      <td>10.0</td>\n",
       "      <td>338.0</td>\n",
       "      <td>222.0</td>\n",
       "      <td>8.0</td>\n",
       "      <td>7.0</td>\n",
       "      <td>222.0</td>\n",
       "      <td>3.0</td>\n",
       "      <td>1725.0</td>\n",
       "      <td>67.0</td>\n",
       "    </tr>\n",
       "    <tr>\n",
       "      <td>other</td>\n",
       "      <td>14.0</td>\n",
       "      <td>107.0</td>\n",
       "      <td>224.0</td>\n",
       "      <td>43.0</td>\n",
       "      <td>9.0</td>\n",
       "      <td>114.0</td>\n",
       "      <td>6.0</td>\n",
       "      <td>5.0</td>\n",
       "      <td>10.0</td>\n",
       "      <td>178.0</td>\n",
       "      <td>...</td>\n",
       "      <td>62.0</td>\n",
       "      <td>26.0</td>\n",
       "      <td>9.0</td>\n",
       "      <td>217.0</td>\n",
       "      <td>6.0</td>\n",
       "      <td>14.0</td>\n",
       "      <td>19.0</td>\n",
       "      <td>5.0</td>\n",
       "      <td>722.0</td>\n",
       "      <td>5.0</td>\n",
       "    </tr>\n",
       "    <tr>\n",
       "      <td>sedan</td>\n",
       "      <td>912.0</td>\n",
       "      <td>10677.0</td>\n",
       "      <td>17224.0</td>\n",
       "      <td>223.0</td>\n",
       "      <td>279.0</td>\n",
       "      <td>693.0</td>\n",
       "      <td>100.0</td>\n",
       "      <td>105.0</td>\n",
       "      <td>47.0</td>\n",
       "      <td>877.0</td>\n",
       "      <td>...</td>\n",
       "      <td>1738.0</td>\n",
       "      <td>904.0</td>\n",
       "      <td>28.0</td>\n",
       "      <td>465.0</td>\n",
       "      <td>164.0</td>\n",
       "      <td>178.0</td>\n",
       "      <td>887.0</td>\n",
       "      <td>201.0</td>\n",
       "      <td>19299.0</td>\n",
       "      <td>635.0</td>\n",
       "    </tr>\n",
       "    <tr>\n",
       "      <td>small</td>\n",
       "      <td>235.0</td>\n",
       "      <td>1538.0</td>\n",
       "      <td>437.0</td>\n",
       "      <td>580.0</td>\n",
       "      <td>12.0</td>\n",
       "      <td>1570.0</td>\n",
       "      <td>221.0</td>\n",
       "      <td>265.0</td>\n",
       "      <td>512.0</td>\n",
       "      <td>5192.0</td>\n",
       "      <td>...</td>\n",
       "      <td>3060.0</td>\n",
       "      <td>1115.0</td>\n",
       "      <td>3232.0</td>\n",
       "      <td>240.0</td>\n",
       "      <td>117.0</td>\n",
       "      <td>967.0</td>\n",
       "      <td>1580.0</td>\n",
       "      <td>54.0</td>\n",
       "      <td>17979.0</td>\n",
       "      <td>7.0</td>\n",
       "    </tr>\n",
       "    <tr>\n",
       "      <td>suv</td>\n",
       "      <td>NaN</td>\n",
       "      <td>177.0</td>\n",
       "      <td>805.0</td>\n",
       "      <td>377.0</td>\n",
       "      <td>23.0</td>\n",
       "      <td>36.0</td>\n",
       "      <td>214.0</td>\n",
       "      <td>1.0</td>\n",
       "      <td>46.0</td>\n",
       "      <td>24.0</td>\n",
       "      <td>...</td>\n",
       "      <td>4.0</td>\n",
       "      <td>173.0</td>\n",
       "      <td>NaN</td>\n",
       "      <td>422.0</td>\n",
       "      <td>59.0</td>\n",
       "      <td>743.0</td>\n",
       "      <td>439.0</td>\n",
       "      <td>1.0</td>\n",
       "      <td>1308.0</td>\n",
       "      <td>219.0</td>\n",
       "    </tr>\n",
       "    <tr>\n",
       "      <td>wagon</td>\n",
       "      <td>451.0</td>\n",
       "      <td>10827.0</td>\n",
       "      <td>7763.0</td>\n",
       "      <td>105.0</td>\n",
       "      <td>241.0</td>\n",
       "      <td>617.0</td>\n",
       "      <td>251.0</td>\n",
       "      <td>46.0</td>\n",
       "      <td>16.0</td>\n",
       "      <td>444.0</td>\n",
       "      <td>...</td>\n",
       "      <td>387.0</td>\n",
       "      <td>2684.0</td>\n",
       "      <td>9.0</td>\n",
       "      <td>123.0</td>\n",
       "      <td>292.0</td>\n",
       "      <td>87.0</td>\n",
       "      <td>568.0</td>\n",
       "      <td>71.0</td>\n",
       "      <td>12374.0</td>\n",
       "      <td>1934.0</td>\n",
       "    </tr>\n",
       "  </tbody>\n",
       "</table>\n",
       "<p>8 rows × 40 columns</p>\n",
       "</div>"
      ],
      "text/plain": [
       "                 count                                                      \\\n",
       "                 Price                                                       \n",
       "Brand       alfa_romeo     audi      bmw chevrolet chrysler citroen  dacia   \n",
       "VehicleType                                                                  \n",
       "bus                NaN     10.0      6.0     156.0    415.0  1252.0   50.0   \n",
       "convertible      177.0   1612.0   3199.0      17.0    228.0   112.0    NaN   \n",
       "coupe            226.0   1464.0   3683.0      89.0     47.0   148.0    NaN   \n",
       "other             14.0    107.0    224.0      43.0      9.0   114.0    6.0   \n",
       "sedan            912.0  10677.0  17224.0     223.0    279.0   693.0  100.0   \n",
       "small            235.0   1538.0    437.0     580.0     12.0  1570.0  221.0   \n",
       "suv                NaN    177.0    805.0     377.0     23.0    36.0  214.0   \n",
       "wagon            451.0  10827.0   7763.0     105.0    241.0   617.0  251.0   \n",
       "\n",
       "                                     ...                          \\\n",
       "                                     ...                           \n",
       "Brand       daewoo daihatsu    fiat  ...    seat   skoda   smart   \n",
       "VehicleType                          ...                           \n",
       "bus           27.0     34.0   818.0  ...   610.0   231.0     1.0   \n",
       "convertible    1.0     17.0   506.0  ...     NaN     4.0  1126.0   \n",
       "coupe          8.0      NaN   168.0  ...    84.0    10.0   338.0   \n",
       "other          5.0     10.0   178.0  ...    62.0    26.0     9.0   \n",
       "sedan        105.0     47.0   877.0  ...  1738.0   904.0    28.0   \n",
       "small        265.0    512.0  5192.0  ...  3060.0  1115.0  3232.0   \n",
       "suv            1.0     46.0    24.0  ...     4.0   173.0     NaN   \n",
       "wagon         46.0     16.0   444.0  ...   387.0  2684.0     9.0   \n",
       "\n",
       "                                                                             \n",
       "                                                                             \n",
       "Brand       sonstige_autos subaru suzuki  toyota trabant volkswagen   volvo  \n",
       "VehicleType                                                                  \n",
       "bus                  187.0   17.0   27.0   446.0     NaN     9388.0     NaN  \n",
       "convertible          322.0    1.0   35.0    63.0    36.0     2887.0    75.0  \n",
       "coupe                222.0    8.0    7.0   222.0     3.0     1725.0    67.0  \n",
       "other                217.0    6.0   14.0    19.0     5.0      722.0     5.0  \n",
       "sedan                465.0  164.0  178.0   887.0   201.0    19299.0   635.0  \n",
       "small                240.0  117.0  967.0  1580.0    54.0    17979.0     7.0  \n",
       "suv                  422.0   59.0  743.0   439.0     1.0     1308.0   219.0  \n",
       "wagon                123.0  292.0   87.0   568.0    71.0    12374.0  1934.0  \n",
       "\n",
       "[8 rows x 40 columns]"
      ]
     },
     "execution_count": 20,
     "metadata": {},
     "output_type": "execute_result"
    }
   ],
   "source": [
    "VehicleType = fg.pivot_table(index=['VehicleType'],columns=['Brand'],values=['Price'],aggfunc=['count'])\n",
    "VehicleType"
   ]
  },
  {
   "cell_type": "code",
   "execution_count": 21,
   "metadata": {},
   "outputs": [
    {
     "data": {
      "text/html": [
       "<div>\n",
       "<style scoped>\n",
       "    .dataframe tbody tr th:only-of-type {\n",
       "        vertical-align: middle;\n",
       "    }\n",
       "\n",
       "    .dataframe tbody tr th {\n",
       "        vertical-align: top;\n",
       "    }\n",
       "\n",
       "    .dataframe thead tr th {\n",
       "        text-align: left;\n",
       "    }\n",
       "\n",
       "    .dataframe thead tr:last-of-type th {\n",
       "        text-align: right;\n",
       "    }\n",
       "</style>\n",
       "<table border=\"1\" class=\"dataframe\">\n",
       "  <thead>\n",
       "    <tr>\n",
       "      <th></th>\n",
       "      <th colspan=\"21\" halign=\"left\">count</th>\n",
       "    </tr>\n",
       "    <tr>\n",
       "      <th></th>\n",
       "      <th colspan=\"21\" halign=\"left\">Price</th>\n",
       "    </tr>\n",
       "    <tr>\n",
       "      <th>Brand</th>\n",
       "      <th>alfa_romeo</th>\n",
       "      <th>audi</th>\n",
       "      <th>bmw</th>\n",
       "      <th>chevrolet</th>\n",
       "      <th>chrysler</th>\n",
       "      <th>citroen</th>\n",
       "      <th>dacia</th>\n",
       "      <th>daewoo</th>\n",
       "      <th>daihatsu</th>\n",
       "      <th>fiat</th>\n",
       "      <th>...</th>\n",
       "      <th>seat</th>\n",
       "      <th>skoda</th>\n",
       "      <th>smart</th>\n",
       "      <th>sonstige_autos</th>\n",
       "      <th>subaru</th>\n",
       "      <th>suzuki</th>\n",
       "      <th>toyota</th>\n",
       "      <th>trabant</th>\n",
       "      <th>volkswagen</th>\n",
       "      <th>volvo</th>\n",
       "    </tr>\n",
       "    <tr>\n",
       "      <th>FuelType</th>\n",
       "      <th></th>\n",
       "      <th></th>\n",
       "      <th></th>\n",
       "      <th></th>\n",
       "      <th></th>\n",
       "      <th></th>\n",
       "      <th></th>\n",
       "      <th></th>\n",
       "      <th></th>\n",
       "      <th></th>\n",
       "      <th></th>\n",
       "      <th></th>\n",
       "      <th></th>\n",
       "      <th></th>\n",
       "      <th></th>\n",
       "      <th></th>\n",
       "      <th></th>\n",
       "      <th></th>\n",
       "      <th></th>\n",
       "      <th></th>\n",
       "      <th></th>\n",
       "    </tr>\n",
       "  </thead>\n",
       "  <tbody>\n",
       "    <tr>\n",
       "      <td>cng</td>\n",
       "      <td>NaN</td>\n",
       "      <td>1.0</td>\n",
       "      <td>10.0</td>\n",
       "      <td>4.0</td>\n",
       "      <td>NaN</td>\n",
       "      <td>8.0</td>\n",
       "      <td>2.0</td>\n",
       "      <td>NaN</td>\n",
       "      <td>NaN</td>\n",
       "      <td>68.0</td>\n",
       "      <td>...</td>\n",
       "      <td>3.0</td>\n",
       "      <td>6.0</td>\n",
       "      <td>3.0</td>\n",
       "      <td>7.0</td>\n",
       "      <td>2.0</td>\n",
       "      <td>NaN</td>\n",
       "      <td>NaN</td>\n",
       "      <td>NaN</td>\n",
       "      <td>186.0</td>\n",
       "      <td>20.0</td>\n",
       "    </tr>\n",
       "    <tr>\n",
       "      <td>electric</td>\n",
       "      <td>NaN</td>\n",
       "      <td>2.0</td>\n",
       "      <td>3.0</td>\n",
       "      <td>NaN</td>\n",
       "      <td>NaN</td>\n",
       "      <td>1.0</td>\n",
       "      <td>NaN</td>\n",
       "      <td>NaN</td>\n",
       "      <td>1.0</td>\n",
       "      <td>4.0</td>\n",
       "      <td>...</td>\n",
       "      <td>NaN</td>\n",
       "      <td>NaN</td>\n",
       "      <td>7.0</td>\n",
       "      <td>21.0</td>\n",
       "      <td>NaN</td>\n",
       "      <td>NaN</td>\n",
       "      <td>NaN</td>\n",
       "      <td>NaN</td>\n",
       "      <td>5.0</td>\n",
       "      <td>NaN</td>\n",
       "    </tr>\n",
       "    <tr>\n",
       "      <td>gasoline</td>\n",
       "      <td>598.0</td>\n",
       "      <td>12213.0</td>\n",
       "      <td>11966.0</td>\n",
       "      <td>236.0</td>\n",
       "      <td>377.0</td>\n",
       "      <td>1594.0</td>\n",
       "      <td>206.0</td>\n",
       "      <td>1.0</td>\n",
       "      <td>4.0</td>\n",
       "      <td>1492.0</td>\n",
       "      <td>...</td>\n",
       "      <td>1676.0</td>\n",
       "      <td>1912.0</td>\n",
       "      <td>868.0</td>\n",
       "      <td>441.0</td>\n",
       "      <td>41.0</td>\n",
       "      <td>229.0</td>\n",
       "      <td>983.0</td>\n",
       "      <td>1.0</td>\n",
       "      <td>25238.0</td>\n",
       "      <td>1051.0</td>\n",
       "    </tr>\n",
       "    <tr>\n",
       "      <td>hybrid</td>\n",
       "      <td>NaN</td>\n",
       "      <td>2.0</td>\n",
       "      <td>NaN</td>\n",
       "      <td>NaN</td>\n",
       "      <td>NaN</td>\n",
       "      <td>NaN</td>\n",
       "      <td>NaN</td>\n",
       "      <td>NaN</td>\n",
       "      <td>NaN</td>\n",
       "      <td>3.0</td>\n",
       "      <td>...</td>\n",
       "      <td>1.0</td>\n",
       "      <td>NaN</td>\n",
       "      <td>1.0</td>\n",
       "      <td>20.0</td>\n",
       "      <td>NaN</td>\n",
       "      <td>NaN</td>\n",
       "      <td>126.0</td>\n",
       "      <td>1.0</td>\n",
       "      <td>5.0</td>\n",
       "      <td>NaN</td>\n",
       "    </tr>\n",
       "    <tr>\n",
       "      <td>lpg</td>\n",
       "      <td>37.0</td>\n",
       "      <td>451.0</td>\n",
       "      <td>750.0</td>\n",
       "      <td>177.0</td>\n",
       "      <td>93.0</td>\n",
       "      <td>70.0</td>\n",
       "      <td>53.0</td>\n",
       "      <td>23.0</td>\n",
       "      <td>6.0</td>\n",
       "      <td>68.0</td>\n",
       "      <td>...</td>\n",
       "      <td>63.0</td>\n",
       "      <td>52.0</td>\n",
       "      <td>3.0</td>\n",
       "      <td>121.0</td>\n",
       "      <td>30.0</td>\n",
       "      <td>24.0</td>\n",
       "      <td>25.0</td>\n",
       "      <td>NaN</td>\n",
       "      <td>540.0</td>\n",
       "      <td>108.0</td>\n",
       "    </tr>\n",
       "    <tr>\n",
       "      <td>other</td>\n",
       "      <td>NaN</td>\n",
       "      <td>4.0</td>\n",
       "      <td>8.0</td>\n",
       "      <td>1.0</td>\n",
       "      <td>NaN</td>\n",
       "      <td>3.0</td>\n",
       "      <td>NaN</td>\n",
       "      <td>1.0</td>\n",
       "      <td>NaN</td>\n",
       "      <td>4.0</td>\n",
       "      <td>...</td>\n",
       "      <td>NaN</td>\n",
       "      <td>NaN</td>\n",
       "      <td>1.0</td>\n",
       "      <td>30.0</td>\n",
       "      <td>1.0</td>\n",
       "      <td>1.0</td>\n",
       "      <td>1.0</td>\n",
       "      <td>37.0</td>\n",
       "      <td>23.0</td>\n",
       "      <td>3.0</td>\n",
       "    </tr>\n",
       "    <tr>\n",
       "      <td>petrol</td>\n",
       "      <td>1406.0</td>\n",
       "      <td>13899.0</td>\n",
       "      <td>20478.0</td>\n",
       "      <td>1152.0</td>\n",
       "      <td>789.0</td>\n",
       "      <td>2965.0</td>\n",
       "      <td>573.0</td>\n",
       "      <td>443.0</td>\n",
       "      <td>673.0</td>\n",
       "      <td>6753.0</td>\n",
       "      <td>...</td>\n",
       "      <td>4420.0</td>\n",
       "      <td>3171.0</td>\n",
       "      <td>3952.0</td>\n",
       "      <td>1481.0</td>\n",
       "      <td>581.0</td>\n",
       "      <td>1825.0</td>\n",
       "      <td>3147.0</td>\n",
       "      <td>281.0</td>\n",
       "      <td>41749.0</td>\n",
       "      <td>1740.0</td>\n",
       "    </tr>\n",
       "  </tbody>\n",
       "</table>\n",
       "<p>7 rows × 40 columns</p>\n",
       "</div>"
      ],
      "text/plain": [
       "              count                                                      \\\n",
       "              Price                                                       \n",
       "Brand    alfa_romeo     audi      bmw chevrolet chrysler citroen  dacia   \n",
       "FuelType                                                                  \n",
       "cng             NaN      1.0     10.0       4.0      NaN     8.0    2.0   \n",
       "electric        NaN      2.0      3.0       NaN      NaN     1.0    NaN   \n",
       "gasoline      598.0  12213.0  11966.0     236.0    377.0  1594.0  206.0   \n",
       "hybrid          NaN      2.0      NaN       NaN      NaN     NaN    NaN   \n",
       "lpg            37.0    451.0    750.0     177.0     93.0    70.0   53.0   \n",
       "other           NaN      4.0      8.0       1.0      NaN     3.0    NaN   \n",
       "petrol       1406.0  13899.0  20478.0    1152.0    789.0  2965.0  573.0   \n",
       "\n",
       "                                  ...                                         \\\n",
       "                                  ...                                          \n",
       "Brand    daewoo daihatsu    fiat  ...    seat   skoda   smart sonstige_autos   \n",
       "FuelType                          ...                                          \n",
       "cng         NaN      NaN    68.0  ...     3.0     6.0     3.0            7.0   \n",
       "electric    NaN      1.0     4.0  ...     NaN     NaN     7.0           21.0   \n",
       "gasoline    1.0      4.0  1492.0  ...  1676.0  1912.0   868.0          441.0   \n",
       "hybrid      NaN      NaN     3.0  ...     1.0     NaN     1.0           20.0   \n",
       "lpg        23.0      6.0    68.0  ...    63.0    52.0     3.0          121.0   \n",
       "other       1.0      NaN     4.0  ...     NaN     NaN     1.0           30.0   \n",
       "petrol    443.0    673.0  6753.0  ...  4420.0  3171.0  3952.0         1481.0   \n",
       "\n",
       "                                                            \n",
       "                                                            \n",
       "Brand    subaru  suzuki  toyota trabant volkswagen   volvo  \n",
       "FuelType                                                    \n",
       "cng         2.0     NaN     NaN     NaN      186.0    20.0  \n",
       "electric    NaN     NaN     NaN     NaN        5.0     NaN  \n",
       "gasoline   41.0   229.0   983.0     1.0    25238.0  1051.0  \n",
       "hybrid      NaN     NaN   126.0     1.0        5.0     NaN  \n",
       "lpg        30.0    24.0    25.0     NaN      540.0   108.0  \n",
       "other       1.0     1.0     1.0    37.0       23.0     3.0  \n",
       "petrol    581.0  1825.0  3147.0   281.0    41749.0  1740.0  \n",
       "\n",
       "[7 rows x 40 columns]"
      ]
     },
     "execution_count": 21,
     "metadata": {},
     "output_type": "execute_result"
    }
   ],
   "source": [
    "FuelType = fg.pivot_table(index=['FuelType'],columns=['Brand'],values=['Price'],aggfunc=['count'])\n",
    "FuelType"
   ]
  },
  {
   "cell_type": "markdown",
   "metadata": {},
   "source": [
    "Типы кузова бывают разные у каждой марки, пропуски заполним неизвестным  \n",
    "Таже история с типом топлива, причем, насколько я знаю, есть техническая возможность переоборудовать автомобиль под новый тип топлива."
   ]
  },
  {
   "cell_type": "code",
   "execution_count": 22,
   "metadata": {},
   "outputs": [],
   "source": [
    "fg.fillna({'FuelType':'unknown',\n",
    "           'VehicleType':'unknown'},\n",
    "          inplace=True)"
   ]
  },
  {
   "cell_type": "markdown",
   "metadata": {},
   "source": [
    "Посмотрим внимательнее на мощность Power"
   ]
  },
  {
   "cell_type": "code",
   "execution_count": 23,
   "metadata": {},
   "outputs": [
    {
     "data": {
      "image/png": "[encoded data removed]",
      "text/plain": [
       "<Figure size 1224x288 with 1 Axes>"
      ]
     },
     "metadata": {
      "needs_background": "light"
     },
     "output_type": "display_data"
    }
   ],
   "source": [
    "plt.figure(figsize=(17,4))\n",
    "sns.boxplot( x=fg['Power'] )\n",
    "plt.title('Распределение мощностей двигателей')\n",
    "plt.xlabel('Мощность, лошадиные силы')\n",
    "plt.show()"
   ]
  },
  {
   "cell_type": "code",
   "execution_count": 24,
   "metadata": {},
   "outputs": [
    {
     "data": {
      "image/png": "[encoded data removed]",
      "text/plain": [
       "<Figure size 1224x288 with 1 Axes>"
      ]
     },
     "metadata": {
      "needs_background": "light"
     },
     "output_type": "display_data"
    }
   ],
   "source": [
    "plt.figure(figsize=(17,4))\n",
    "sns.boxplot( x=fg['Power'] )\n",
    "plt.title('Распределение мощностей двигателей')\n",
    "plt.xlabel('Мощность, лошадиные силы')\n",
    "plt.xlim(0, 500)\n",
    "plt.show()"
   ]
  },
  {
   "cell_type": "code",
   "execution_count": 25,
   "metadata": {},
   "outputs": [
    {
     "data": {
      "text/plain": [
       "(10, 500)"
      ]
     },
     "execution_count": 25,
     "metadata": {},
     "output_type": "execute_result"
    },
    {
     "data": {
      "image/png": "[encoded data removed]",
      "text/plain": [
       "<Figure size 1080x288 with 1 Axes>"
      ]
     },
     "metadata": {
      "needs_background": "light"
     },
     "output_type": "display_data"
    }
   ],
   "source": [
    "plt.figure(figsize=(15,4))\n",
    "sns.distplot(fg['Power'], hist=True,  \n",
    "             bins=1000,\n",
    "             hist_kws={'edgecolor':'black'})\n",
    "plt.title('Распределение мощностей двигателей')\n",
    "plt.ylabel('Количество автомобилей, шт')\n",
    "plt.xlabel('Мощность, лошадиные силы');\n",
    "plt.xlim(10, 500)"
   ]
  },
  {
   "cell_type": "code",
   "execution_count": 26,
   "metadata": {},
   "outputs": [
    {
     "data": {
      "text/plain": [
       "1816      1398\n",
       "4060       953\n",
       "5328      1001\n",
       "6296       603\n",
       "6504       771\n",
       "          ... \n",
       "348968    1241\n",
       "351947    1001\n",
       "353493    2000\n",
       "353633     650\n",
       "354260    1103\n",
       "Name: Power, Length: 429, dtype: int64"
      ]
     },
     "execution_count": 26,
     "metadata": {},
     "output_type": "execute_result"
    }
   ],
   "source": [
    "fg['Power'][fg['Power'] > 500]"
   ]
  },
  {
   "cell_type": "code",
   "execution_count": 27,
   "metadata": {},
   "outputs": [
    {
     "data": {
      "text/plain": [
       "0         0\n",
       "15        0\n",
       "32        0\n",
       "37        0\n",
       "54        0\n",
       "         ..\n",
       "354336    0\n",
       "354338    0\n",
       "354346    0\n",
       "354363    0\n",
       "354365    0\n",
       "Name: Power, Length: 36360, dtype: int64"
      ]
     },
     "execution_count": 27,
     "metadata": {},
     "output_type": "execute_result"
    }
   ],
   "source": [
    "fg['Power'][fg['Power'] == 0]"
   ]
  },
  {
   "cell_type": "markdown",
   "metadata": {},
   "source": [
    "Из графиков видно, что большое количество вбросов, немного изучил вопрос и узнал, что одни из самых мощных спорткаров имеют немногим больше 1000 л/с, понятно также что есть специализированные автомобили, трактор...   \n",
    "При том, что в нашем дата сете всего 429 авто с мощностью больше 500 л/с, от них можно было бы просто избавиться.  \n",
    "Также нас около 10% значений 0.\n",
    "Как я узнал, автомобили одной марки модели в одном кузове могут иметь разную мощность двигателя, и эта мощность играет существенную роль для владельца и следовательно отражается в цене.  \n",
    "Попробуем удалить нулевые значения и значения выше 500.    \n",
    "Для определения цены автомобиля по нашему алгоритму придется заполнить поле с мощностью  "
   ]
  },
  {
   "cell_type": "code",
   "execution_count": 28,
   "metadata": {},
   "outputs": [],
   "source": [
    "fg = fg.query('1 <= Power <= 5000')"
   ]
  },
  {
   "cell_type": "code",
   "execution_count": 29,
   "metadata": {},
   "outputs": [
    {
     "data": {
      "text/html": [
       "<div>\n",
       "<style scoped>\n",
       "    .dataframe tbody tr th:only-of-type {\n",
       "        vertical-align: middle;\n",
       "    }\n",
       "\n",
       "    .dataframe tbody tr th {\n",
       "        vertical-align: top;\n",
       "    }\n",
       "\n",
       "    .dataframe thead th {\n",
       "        text-align: right;\n",
       "    }\n",
       "</style>\n",
       "<table border=\"1\" class=\"dataframe\">\n",
       "  <thead>\n",
       "    <tr style=\"text-align: right;\">\n",
       "      <th></th>\n",
       "      <th>sum</th>\n",
       "      <th>mean</th>\n",
       "    </tr>\n",
       "  </thead>\n",
       "  <tbody>\n",
       "    <tr>\n",
       "      <td>Price</td>\n",
       "      <td>0.0</td>\n",
       "      <td>0.0</td>\n",
       "    </tr>\n",
       "    <tr>\n",
       "      <td>VehicleType</td>\n",
       "      <td>0.0</td>\n",
       "      <td>0.0</td>\n",
       "    </tr>\n",
       "    <tr>\n",
       "      <td>RegistrationYear</td>\n",
       "      <td>0.0</td>\n",
       "      <td>0.0</td>\n",
       "    </tr>\n",
       "    <tr>\n",
       "      <td>Power</td>\n",
       "      <td>0.0</td>\n",
       "      <td>0.0</td>\n",
       "    </tr>\n",
       "    <tr>\n",
       "      <td>Model</td>\n",
       "      <td>0.0</td>\n",
       "      <td>0.0</td>\n",
       "    </tr>\n",
       "    <tr>\n",
       "      <td>Kilometer</td>\n",
       "      <td>0.0</td>\n",
       "      <td>0.0</td>\n",
       "    </tr>\n",
       "    <tr>\n",
       "      <td>FuelType</td>\n",
       "      <td>0.0</td>\n",
       "      <td>0.0</td>\n",
       "    </tr>\n",
       "    <tr>\n",
       "      <td>Brand</td>\n",
       "      <td>0.0</td>\n",
       "      <td>0.0</td>\n",
       "    </tr>\n",
       "    <tr>\n",
       "      <td>IsManualGearbox</td>\n",
       "      <td>0.0</td>\n",
       "      <td>0.0</td>\n",
       "    </tr>\n",
       "    <tr>\n",
       "      <td>IsNotRepaired</td>\n",
       "      <td>0.0</td>\n",
       "      <td>0.0</td>\n",
       "    </tr>\n",
       "  </tbody>\n",
       "</table>\n",
       "</div>"
      ],
      "text/plain": [
       "                  sum  mean\n",
       "Price             0.0   0.0\n",
       "VehicleType       0.0   0.0\n",
       "RegistrationYear  0.0   0.0\n",
       "Power             0.0   0.0\n",
       "Model             0.0   0.0\n",
       "Kilometer         0.0   0.0\n",
       "FuelType          0.0   0.0\n",
       "Brand             0.0   0.0\n",
       "IsManualGearbox   0.0   0.0\n",
       "IsNotRepaired     0.0   0.0"
      ]
     },
     "execution_count": 29,
     "metadata": {},
     "output_type": "execute_result"
    }
   ],
   "source": [
    "fg.isnull().agg(['sum','mean']).transpose().sort_values(by = 'mean', ascending=False)"
   ]
  },
  {
   "cell_type": "code",
   "execution_count": 30,
   "metadata": {},
   "outputs": [
    {
     "data": {
      "text/html": [
       "<div>\n",
       "<style scoped>\n",
       "    .dataframe tbody tr th:only-of-type {\n",
       "        vertical-align: middle;\n",
       "    }\n",
       "\n",
       "    .dataframe tbody tr th {\n",
       "        vertical-align: top;\n",
       "    }\n",
       "\n",
       "    .dataframe thead th {\n",
       "        text-align: right;\n",
       "    }\n",
       "</style>\n",
       "<table border=\"1\" class=\"dataframe\">\n",
       "  <thead>\n",
       "    <tr style=\"text-align: right;\">\n",
       "      <th></th>\n",
       "      <th>Price</th>\n",
       "      <th>VehicleType</th>\n",
       "      <th>RegistrationYear</th>\n",
       "      <th>Power</th>\n",
       "      <th>Model</th>\n",
       "      <th>Kilometer</th>\n",
       "      <th>FuelType</th>\n",
       "      <th>Brand</th>\n",
       "      <th>IsManualGearbox</th>\n",
       "      <th>IsNotRepaired</th>\n",
       "    </tr>\n",
       "  </thead>\n",
       "  <tbody>\n",
       "    <tr>\n",
       "      <td>1</td>\n",
       "      <td>18300</td>\n",
       "      <td>coupe</td>\n",
       "      <td>2011</td>\n",
       "      <td>190</td>\n",
       "      <td>unknown</td>\n",
       "      <td>125000</td>\n",
       "      <td>gasoline</td>\n",
       "      <td>audi</td>\n",
       "      <td>1</td>\n",
       "      <td>1</td>\n",
       "    </tr>\n",
       "    <tr>\n",
       "      <td>2</td>\n",
       "      <td>9800</td>\n",
       "      <td>suv</td>\n",
       "      <td>2004</td>\n",
       "      <td>163</td>\n",
       "      <td>grand</td>\n",
       "      <td>125000</td>\n",
       "      <td>gasoline</td>\n",
       "      <td>jeep</td>\n",
       "      <td>0</td>\n",
       "      <td>1</td>\n",
       "    </tr>\n",
       "    <tr>\n",
       "      <td>3</td>\n",
       "      <td>1500</td>\n",
       "      <td>small</td>\n",
       "      <td>2001</td>\n",
       "      <td>75</td>\n",
       "      <td>golf</td>\n",
       "      <td>150000</td>\n",
       "      <td>petrol</td>\n",
       "      <td>volkswagen</td>\n",
       "      <td>1</td>\n",
       "      <td>0</td>\n",
       "    </tr>\n",
       "    <tr>\n",
       "      <td>4</td>\n",
       "      <td>3600</td>\n",
       "      <td>small</td>\n",
       "      <td>2008</td>\n",
       "      <td>69</td>\n",
       "      <td>fabia</td>\n",
       "      <td>90000</td>\n",
       "      <td>gasoline</td>\n",
       "      <td>skoda</td>\n",
       "      <td>1</td>\n",
       "      <td>0</td>\n",
       "    </tr>\n",
       "    <tr>\n",
       "      <td>5</td>\n",
       "      <td>650</td>\n",
       "      <td>sedan</td>\n",
       "      <td>1995</td>\n",
       "      <td>102</td>\n",
       "      <td>3er</td>\n",
       "      <td>150000</td>\n",
       "      <td>petrol</td>\n",
       "      <td>bmw</td>\n",
       "      <td>1</td>\n",
       "      <td>1</td>\n",
       "    </tr>\n",
       "    <tr>\n",
       "      <td>...</td>\n",
       "      <td>...</td>\n",
       "      <td>...</td>\n",
       "      <td>...</td>\n",
       "      <td>...</td>\n",
       "      <td>...</td>\n",
       "      <td>...</td>\n",
       "      <td>...</td>\n",
       "      <td>...</td>\n",
       "      <td>...</td>\n",
       "      <td>...</td>\n",
       "    </tr>\n",
       "    <tr>\n",
       "      <td>354361</td>\n",
       "      <td>5250</td>\n",
       "      <td>unknown</td>\n",
       "      <td>2016</td>\n",
       "      <td>150</td>\n",
       "      <td>159</td>\n",
       "      <td>150000</td>\n",
       "      <td>unknown</td>\n",
       "      <td>alfa_romeo</td>\n",
       "      <td>0</td>\n",
       "      <td>0</td>\n",
       "    </tr>\n",
       "    <tr>\n",
       "      <td>354362</td>\n",
       "      <td>3200</td>\n",
       "      <td>sedan</td>\n",
       "      <td>2004</td>\n",
       "      <td>225</td>\n",
       "      <td>leon</td>\n",
       "      <td>150000</td>\n",
       "      <td>petrol</td>\n",
       "      <td>seat</td>\n",
       "      <td>1</td>\n",
       "      <td>1</td>\n",
       "    </tr>\n",
       "    <tr>\n",
       "      <td>354366</td>\n",
       "      <td>1199</td>\n",
       "      <td>convertible</td>\n",
       "      <td>2000</td>\n",
       "      <td>101</td>\n",
       "      <td>fortwo</td>\n",
       "      <td>125000</td>\n",
       "      <td>petrol</td>\n",
       "      <td>smart</td>\n",
       "      <td>0</td>\n",
       "      <td>0</td>\n",
       "    </tr>\n",
       "    <tr>\n",
       "      <td>354367</td>\n",
       "      <td>9200</td>\n",
       "      <td>bus</td>\n",
       "      <td>1996</td>\n",
       "      <td>102</td>\n",
       "      <td>transporter</td>\n",
       "      <td>150000</td>\n",
       "      <td>gasoline</td>\n",
       "      <td>volkswagen</td>\n",
       "      <td>1</td>\n",
       "      <td>0</td>\n",
       "    </tr>\n",
       "    <tr>\n",
       "      <td>354368</td>\n",
       "      <td>3400</td>\n",
       "      <td>wagon</td>\n",
       "      <td>2002</td>\n",
       "      <td>100</td>\n",
       "      <td>golf</td>\n",
       "      <td>150000</td>\n",
       "      <td>gasoline</td>\n",
       "      <td>volkswagen</td>\n",
       "      <td>1</td>\n",
       "      <td>1</td>\n",
       "    </tr>\n",
       "  </tbody>\n",
       "</table>\n",
       "<p>307159 rows × 10 columns</p>\n",
       "</div>"
      ],
      "text/plain": [
       "        Price  VehicleType  RegistrationYear  Power        Model  Kilometer  \\\n",
       "1       18300        coupe              2011    190      unknown     125000   \n",
       "2        9800          suv              2004    163        grand     125000   \n",
       "3        1500        small              2001     75         golf     150000   \n",
       "4        3600        small              2008     69        fabia      90000   \n",
       "5         650        sedan              1995    102          3er     150000   \n",
       "...       ...          ...               ...    ...          ...        ...   \n",
       "354361   5250      unknown              2016    150          159     150000   \n",
       "354362   3200        sedan              2004    225         leon     150000   \n",
       "354366   1199  convertible              2000    101       fortwo     125000   \n",
       "354367   9200          bus              1996    102  transporter     150000   \n",
       "354368   3400        wagon              2002    100         golf     150000   \n",
       "\n",
       "        FuelType       Brand  IsManualGearbox  IsNotRepaired  \n",
       "1       gasoline        audi                1              1  \n",
       "2       gasoline        jeep                0              1  \n",
       "3         petrol  volkswagen                1              0  \n",
       "4       gasoline       skoda                1              0  \n",
       "5         petrol         bmw                1              1  \n",
       "...          ...         ...              ...            ...  \n",
       "354361   unknown  alfa_romeo                0              0  \n",
       "354362    petrol        seat                1              1  \n",
       "354366    petrol       smart                0              0  \n",
       "354367  gasoline  volkswagen                1              0  \n",
       "354368  gasoline  volkswagen                1              1  \n",
       "\n",
       "[307159 rows x 10 columns]"
      ]
     },
     "execution_count": 30,
     "metadata": {},
     "output_type": "execute_result"
    }
   ],
   "source": [
    "fg"
   ]
  },
  {
   "cell_type": "markdown",
   "metadata": {},
   "source": [
    "Уменьшим размерность хранения типа для ускорения работы"
   ]
  },
  {
   "cell_type": "code",
   "execution_count": 31,
   "metadata": {},
   "outputs": [
    {
     "name": "stdout",
     "output_type": "stream",
     "text": [
      "<class 'pandas.core.frame.DataFrame'>\n",
      "Int64Index: 307159 entries, 1 to 354368\n",
      "Data columns (total 10 columns):\n",
      "Price               307159 non-null int16\n",
      "VehicleType         307159 non-null object\n",
      "RegistrationYear    307159 non-null int16\n",
      "Power               307159 non-null int16\n",
      "Model               307159 non-null object\n",
      "Kilometer           307159 non-null int32\n",
      "FuelType            307159 non-null object\n",
      "Brand               307159 non-null object\n",
      "IsManualGearbox     307159 non-null int8\n",
      "IsNotRepaired       307159 non-null int8\n",
      "dtypes: int16(3), int32(1), int8(2), object(4)\n",
      "memory usage: 15.2+ MB\n"
     ]
    }
   ],
   "source": [
    "fg['IsNotRepaired'] = pd.to_numeric(fg['IsNotRepaired'], downcast='integer')\n",
    "fg['IsManualGearbox'] = pd.to_numeric(fg['IsManualGearbox'], downcast='integer')\n",
    "fg['RegistrationYear'] = pd.to_numeric(fg['RegistrationYear'], downcast='integer')\n",
    "fg['Power'] = pd.to_numeric(fg['Power'], downcast='integer')\n",
    "fg['Kilometer'] = pd.to_numeric(fg['Kilometer'], downcast='integer')\n",
    "fg['Price'] = pd.to_numeric(fg['Price'], downcast='integer')\n",
    "fg.info()"
   ]
  },
  {
   "cell_type": "markdown",
   "metadata": {},
   "source": [
    "### Вывод\n",
    "\n",
    "Загружены данные, в  таблице 354369 объектов, 16 признаков, целевой для нас Price.  \n",
    "Выделены 9 значимых признаков для определения цены, остальные отброшены.  \n",
    "Удалены строки с отсутствием значения целевого признака Price.  \n",
    "В значимых признаках заполнены пропуски.  \n",
    "В годе выпуска были заменены аномальные значения на константу.  \n",
    "Признак коробки передач и восстановления заменен с категорияального на числовой.\n",
    "Данные готовы к обучению.\n"
   ]
  },
  {
   "cell_type": "markdown",
   "metadata": {},
   "source": [
    "## Обучение моделей"
   ]
  },
  {
   "cell_type": "markdown",
   "metadata": {},
   "source": [
    "### Признаки"
   ]
  },
  {
   "cell_type": "markdown",
   "metadata": {},
   "source": [
    "Подготовим три типа признаков для кроссвалидации:\n",
    "\n",
    "- Неизмененные. Название original_features.\n",
    "- Закодированные методом OHE. Название ohe_features.\n",
    "- Закодированные методом OE. Название ordinal_features."
   ]
  },
  {
   "cell_type": "code",
   "execution_count": 32,
   "metadata": {},
   "outputs": [],
   "source": [
    "target = fg['Price']"
   ]
  },
  {
   "cell_type": "markdown",
   "metadata": {},
   "source": [
    "Неизмененные данные:"
   ]
  },
  {
   "cell_type": "code",
   "execution_count": 33,
   "metadata": {},
   "outputs": [],
   "source": [
    "original_features = fg.drop('Price', axis=1)\n",
    "\n",
    "original_features_train, original_features_test, target_train, target_test = train_test_split(\n",
    "    original_features, target, test_size=0.25, random_state=12345)"
   ]
  },
  {
   "cell_type": "markdown",
   "metadata": {},
   "source": [
    "Закодированные методом OE:"
   ]
  },
  {
   "cell_type": "code",
   "execution_count": 34,
   "metadata": {},
   "outputs": [],
   "source": [
    "encoder = OrdinalEncoder()\n",
    "cat_columns = ['VehicleType','FuelType','Brand','Model']\n",
    "cat_features = original_features[cat_columns]\n",
    "cat_features = pd.DataFrame(encoder.fit_transform(cat_features), columns=cat_features.columns, index=cat_features.index)\n",
    "ordinal_features = original_features.copy()\n",
    "for column in cat_columns:\n",
    "    ordinal_features[column] = cat_features[column]\n",
    "    \n",
    "    \n",
    "ordinal_features_train = ordinal_features.loc[original_features_train.index, :]\n",
    "ordinal_features_test = ordinal_features.loc[original_features_test.index, :]"
   ]
  },
  {
   "cell_type": "markdown",
   "metadata": {},
   "source": [
    "Закодированные методом OHE:"
   ]
  },
  {
   "cell_type": "code",
   "execution_count": 35,
   "metadata": {},
   "outputs": [],
   "source": [
    "ohe_features = pd.get_dummies(original_features, drop_first=True)\n",
    "\n",
    "ohe_features_train = ohe_features.loc[original_features_train.index, :]\n",
    "ohe_features_test = ohe_features.loc[original_features_test.index, :]"
   ]
  },
  {
   "cell_type": "markdown",
   "metadata": {},
   "source": [
    "### CatBoostRegressor"
   ]
  },
  {
   "cell_type": "markdown",
   "metadata": {},
   "source": [
    "- Обучим модель на данных, закодированных по методу OE.\n",
    "- Обучим на оригинальных данных с указанием категорий."
   ]
  },
  {
   "cell_type": "code",
   "execution_count": 36,
   "metadata": {},
   "outputs": [
    {
     "name": "stdout",
     "output_type": "stream",
     "text": [
      "___Tuning hyper-parameters for RMSE___\n",
      "\n",
      "Best parameters set: {'learning_rate': 0.2, 'random_state': 123456, 'verbose': False}\n",
      "\n",
      "Grid scores (development set):\n",
      "1630.24576 for {'learning_rate': 0.2, 'random_state': 123456, 'verbose': False}\n",
      "1633.41287 for {'learning_rate': 0.5, 'random_state': 123456, 'verbose': False}\n",
      "1655.71968 for {'learning_rate': 0.7, 'random_state': 123456, 'verbose': False}\n",
      "\n",
      "CPU times: user 17min 36s, sys: 3min 19s, total: 20min 55s\n",
      "Wall time: 23min 17s\n"
     ]
    }
   ],
   "source": [
    "%%time\n",
    "\n",
    "regressor = CatBoostRegressor() \n",
    "hyperparams = [{'learning_rate':[0.2, 0.5, 0.7], 'random_state':[123456], 'verbose':[False]}]\n",
    "print('___Tuning hyper-parameters for RMSE___')\n",
    "print()\n",
    "\n",
    "clf = GridSearchCV(regressor, hyperparams, scoring='neg_mean_squared_error')\n",
    "clf.fit(ordinal_features_train, target_train)\n",
    "print(\"Best parameters set:\", clf.best_params_)\n",
    "print()\n",
    "\n",
    "print(\"Grid scores (development set):\")\n",
    "means = clf.cv_results_['mean_test_score']\n",
    "stds = clf.cv_results_['std_test_score']\n",
    "for mean, std, params in zip(means, stds, clf.cv_results_['params']):\n",
    "    print(\"%0.5f for %r\"% ((mean*-1)** 0.5, params))\n",
    "print()\n",
    "\n",
    "CBR_ordinal_RMSE = (max(means)*-1) ** 0.5"
   ]
  },
  {
   "cell_type": "code",
   "execution_count": 37,
   "metadata": {},
   "outputs": [
    {
     "name": "stdout",
     "output_type": "stream",
     "text": [
      "___Train for RMSE___\n",
      "\n",
      "Mean RMSE from CV of CatBoostRegressor = 1679.2327366656675\n",
      "CPU times: user 9min 11s, sys: 1min 56s, total: 11min 8s\n",
      "Wall time: 12min 7s\n"
     ]
    }
   ],
   "source": [
    "%%time\n",
    "regressor = CatBoostRegressor(learning_rate=0.2, iterations = 250, random_state=123456, verbose=False, \n",
    "                              cat_features=['VehicleType','FuelType','Brand','Model']) \n",
    "print('___Train for RMSE___')\n",
    "print()\n",
    "\n",
    "CBR_original_RMSE = (cross_val_score(regressor, original_features_train, target_train, cv=5, \n",
    "                                scoring='neg_mean_squared_error').mean() * -1) ** 0.5\n",
    "\n",
    "print('Mean RMSE from CV of CatBoostRegressor =', CBR_original_RMSE)"
   ]
  },
  {
   "cell_type": "markdown",
   "metadata": {},
   "source": [
    "### LGBMRegressor"
   ]
  },
  {
   "cell_type": "code",
   "execution_count": 66,
   "metadata": {},
   "outputs": [
    {
     "name": "stdout",
     "output_type": "stream",
     "text": [
      "___Tuning hyper-parameters for RMSE___\n",
      "\n",
      "Best parameters set: {'learning_rate': 0.3, 'num_leaves': 200, 'random_state': 123456}\n",
      "\n",
      "Grid scores (development set):\n",
      "1708.52617 for {'learning_rate': 0.1, 'num_leaves': 50, 'random_state': 123456}\n",
      "1659.40168 for {'learning_rate': 0.1, 'num_leaves': 100, 'random_state': 123456}\n",
      "1625.33252 for {'learning_rate': 0.1, 'num_leaves': 200, 'random_state': 123456}\n",
      "1657.57587 for {'learning_rate': 0.3, 'num_leaves': 50, 'random_state': 123456}\n",
      "1632.69779 for {'learning_rate': 0.3, 'num_leaves': 100, 'random_state': 123456}\n",
      "1624.20702 for {'learning_rate': 0.3, 'num_leaves': 200, 'random_state': 123456}\n",
      "1673.05884 for {'learning_rate': 0.5, 'num_leaves': 50, 'random_state': 123456}\n",
      "1662.22395 for {'learning_rate': 0.5, 'num_leaves': 100, 'random_state': 123456}\n",
      "1664.55542 for {'learning_rate': 0.5, 'num_leaves': 200, 'random_state': 123456}\n",
      "\n",
      "CPU times: user 15min 12s, sys: 6.12 s, total: 15min 18s\n",
      "Wall time: 15min 25s\n"
     ]
    }
   ],
   "source": [
    "%%time\n",
    "regressor = LGBMRegressor() \n",
    "hyperparams = [{'num_leaves':[50, 100, 200], 'learning_rate':[0.1, 0.3, 0.5], 'random_state':[123456]}]\n",
    "print('___Tuning hyper-parameters for RMSE___')\n",
    "print()\n",
    "\n",
    "clf = GridSearchCV(regressor, hyperparams, scoring='neg_mean_squared_error')\n",
    "clf.fit(ordinal_features_train, target_train)\n",
    "print(\"Best parameters set:\", clf.best_params_)\n",
    "print()\n",
    "\n",
    "print(\"Grid scores (development set):\")\n",
    "means = clf.cv_results_['mean_test_score']\n",
    "stds = clf.cv_results_['std_test_score']\n",
    "for mean, std, params in zip(means, stds, clf.cv_results_['params']):\n",
    "    print(\"%0.5f for %r\"% ((mean*-1)** 0.5, params))\n",
    "print()\n",
    "\n",
    "LGBMR_RMSE = (max(means)*-1) ** 0.5"
   ]
  },
  {
   "cell_type": "markdown",
   "metadata": {},
   "source": [
    "### LinearRegression"
   ]
  },
  {
   "cell_type": "markdown",
   "metadata": {},
   "source": [
    "Необходимо сравнить результаты градиентного бустинга с простыми моделями. Для начала возьмем линейную регрессию."
   ]
  },
  {
   "cell_type": "code",
   "execution_count": 63,
   "metadata": {},
   "outputs": [
    {
     "name": "stdout",
     "output_type": "stream",
     "text": [
      "___Train RMSE___\n",
      "\n",
      "Mean RMSE from CV of LinearRegression = 3030.032182244037\n",
      "CPU times: user 1min 26s, sys: 48.8 s, total: 2min 15s\n",
      "Wall time: 2min 15s\n"
     ]
    }
   ],
   "source": [
    "%%time\n",
    "regressor = LinearRegression()\n",
    "print('___Train RMSE___')\n",
    "print()\n",
    "\n",
    "LR_RMSE = (cross_val_score(regressor, ohe_features_train, target_train, cv=5, \n",
    "                             scoring='neg_mean_squared_error').mean() * -1) ** 0.5\n",
    "\n",
    "print('Mean RMSE from CV of LinearRegression =', LR_RMSE)"
   ]
  },
  {
   "cell_type": "markdown",
   "metadata": {},
   "source": [
    "Попробуем масштабировать данные."
   ]
  },
  {
   "cell_type": "code",
   "execution_count": 62,
   "metadata": {},
   "outputs": [
    {
     "name": "stdout",
     "output_type": "stream",
     "text": [
      "___Train RMSE___\n",
      "\n",
      "Mean RMSE from CV of LinearRegression = 2730745329972.857\n",
      "CPU times: user 1min 32s, sys: 49.4 s, total: 2min 21s\n",
      "Wall time: 2min 21s\n"
     ]
    }
   ],
   "source": [
    "%%time\n",
    "\n",
    "regressor = LinearRegression()\n",
    "scaller = StandardScaler()\n",
    "pipeline = Pipeline([(\"standard_scaller\", scaller),(\"linear_regression\", regressor)])\n",
    "print('___Train RMSE___')\n",
    "print()\n",
    "\n",
    "LR_RMSE_S = (cross_val_score(pipeline, ohe_features_train, target_train, cv=5, \n",
    "                                scoring='neg_mean_squared_error').mean() * -1) ** 0.5\n",
    "\n",
    "print('Mean RMSE from CV of LinearRegression =', LR_RMSE_S)"
   ]
  },
  {
   "cell_type": "markdown",
   "metadata": {},
   "source": [
    "Масштабирование очень сильно ухудшило ситуацию, не будем использовать."
   ]
  },
  {
   "cell_type": "markdown",
   "metadata": {},
   "source": [
    "### DecisionTreeRegressor"
   ]
  },
  {
   "cell_type": "markdown",
   "metadata": {},
   "source": [
    "В заключении воспользуемся деревом решений.\n",
    "Воспользуемся двумя различными типами признаков:\n",
    "\n",
    "- OHE\n",
    "- OE"
   ]
  },
  {
   "cell_type": "code",
   "execution_count": 64,
   "metadata": {},
   "outputs": [
    {
     "name": "stdout",
     "output_type": "stream",
     "text": [
      "___Train hyper-parameters for RMSE___\n",
      "\n",
      "Best parameters set: {'criterion': 'mse', 'max_depth': 16, 'random_state': 123456}\n",
      "\n",
      "Grid scores (development set):\n",
      "3654.78571 for {'criterion': 'mse', 'max_depth': 1, 'random_state': 123456}\n",
      "2650.42537 for {'criterion': 'mse', 'max_depth': 4, 'random_state': 123456}\n",
      "2218.73280 for {'criterion': 'mse', 'max_depth': 7, 'random_state': 123456}\n",
      "2026.08644 for {'criterion': 'mse', 'max_depth': 10, 'random_state': 123456}\n",
      "1942.50612 for {'criterion': 'mse', 'max_depth': 13, 'random_state': 123456}\n",
      "1934.21244 for {'criterion': 'mse', 'max_depth': 16, 'random_state': 123456}\n",
      "1947.93075 for {'criterion': 'mse', 'max_depth': 19, 'random_state': 123456}\n",
      "1963.40408 for {'criterion': 'mse', 'max_depth': 22, 'random_state': 123456}\n",
      "\n",
      "CPU times: user 1min 42s, sys: 4.21 s, total: 1min 46s\n",
      "Wall time: 1min 47s\n"
     ]
    }
   ],
   "source": [
    "%%time\n",
    "\n",
    "regressor = DecisionTreeRegressor() \n",
    "max_depth_list = [x for x in range(1, 25, 3)]\n",
    "hyperparams = [{'criterion':['mse'], 'max_depth':max_depth_list, 'random_state':[123456]}]\n",
    "print('___Train hyper-parameters for RMSE___')\n",
    "print()\n",
    "\n",
    "\n",
    "clf = GridSearchCV(regressor, hyperparams, scoring='neg_mean_squared_error')\n",
    "clf.fit(ohe_features_train, target_train)\n",
    "print(\"Best parameters set:\", clf.best_params_)\n",
    "print()\n",
    "\n",
    "print(\"Grid scores (development set):\")\n",
    "means = clf.cv_results_['mean_test_score']\n",
    "stds = clf.cv_results_['std_test_score']\n",
    "for mean, std, params in zip(means, stds, clf.cv_results_['params']):\n",
    "    print(\"%0.5f for %r\"% ((mean*-1)** 0.5, params))\n",
    "print()\n",
    "\n",
    "DTR_ohe_RMSE = (max(means)*-1) ** 0.5"
   ]
  },
  {
   "cell_type": "code",
   "execution_count": 65,
   "metadata": {},
   "outputs": [
    {
     "name": "stdout",
     "output_type": "stream",
     "text": [
      "___Tuning hyper-parameters for RMSE___\n",
      "\n",
      "Best parameters set: {'criterion': 'mse', 'max_depth': 13, 'random_state': 123456}\n",
      "\n",
      "Grid scores (development set):\n",
      "3654.78571 for {'criterion': 'mse', 'max_depth': 1, 'random_state': 123456}\n",
      "3200.05544 for {'criterion': 'mse', 'max_depth': 2, 'random_state': 123456}\n",
      "2952.43391 for {'criterion': 'mse', 'max_depth': 3, 'random_state': 123456}\n",
      "2654.14241 for {'criterion': 'mse', 'max_depth': 4, 'random_state': 123456}\n",
      "2475.84768 for {'criterion': 'mse', 'max_depth': 5, 'random_state': 123456}\n",
      "2329.59262 for {'criterion': 'mse', 'max_depth': 6, 'random_state': 123456}\n",
      "2220.45902 for {'criterion': 'mse', 'max_depth': 7, 'random_state': 123456}\n",
      "2136.87351 for {'criterion': 'mse', 'max_depth': 8, 'random_state': 123456}\n",
      "2070.52469 for {'criterion': 'mse', 'max_depth': 9, 'random_state': 123456}\n",
      "2016.94810 for {'criterion': 'mse', 'max_depth': 10, 'random_state': 123456}\n",
      "1984.60419 for {'criterion': 'mse', 'max_depth': 11, 'random_state': 123456}\n",
      "1962.99121 for {'criterion': 'mse', 'max_depth': 12, 'random_state': 123456}\n",
      "1956.25108 for {'criterion': 'mse', 'max_depth': 13, 'random_state': 123456}\n",
      "1962.38487 for {'criterion': 'mse', 'max_depth': 14, 'random_state': 123456}\n",
      "\n",
      "CPU times: user 13.9 s, sys: 0 ns, total: 13.9 s\n",
      "Wall time: 13.9 s\n"
     ]
    }
   ],
   "source": [
    "%%time\n",
    "\n",
    "regressor = DecisionTreeRegressor() \n",
    "max_depth_list = [x for x in range(1, 15)]\n",
    "hyperparams = [{'criterion':['mse'], 'max_depth':max_depth_list, 'random_state':[123456]}]\n",
    "print('___Tuning hyper-parameters for RMSE___')\n",
    "print()\n",
    "\n",
    "clf = GridSearchCV(regressor, hyperparams, scoring='neg_mean_squared_error')\n",
    "clf.fit(ordinal_features_train, target_train)\n",
    "print(\"Best parameters set:\", clf.best_params_)\n",
    "print()\n",
    "\n",
    "print(\"Grid scores (development set):\")\n",
    "means = clf.cv_results_['mean_test_score']\n",
    "stds = clf.cv_results_['std_test_score']\n",
    "for mean, std, params in zip(means, stds, clf.cv_results_['params']):\n",
    "    print(\"%0.5f for %r\"% ((mean*-1)** 0.5, params))\n",
    "print()\n",
    "\n",
    "DTR_ordinal_RMSE = (max(means)*-1) ** 0.5"
   ]
  },
  {
   "cell_type": "markdown",
   "metadata": {},
   "source": [
    "## Анализ моделей"
   ]
  },
  {
   "cell_type": "markdown",
   "metadata": {},
   "source": [
    "Для каждой из рассмотренных моделей были выбраны лучшие гиперпараметры. Проведем обучение."
   ]
  },
  {
   "cell_type": "markdown",
   "metadata": {},
   "source": [
    "### CatBoostRegressor"
   ]
  },
  {
   "cell_type": "markdown",
   "metadata": {},
   "source": [
    "Для начала обучим на данных, которые закодированы по методу OE."
   ]
  },
  {
   "cell_type": "code",
   "execution_count": 67,
   "metadata": {},
   "outputs": [
    {
     "name": "stdout",
     "output_type": "stream",
     "text": [
      "CPU times: user 2min 26s, sys: 20.5 s, total: 2min 46s\n",
      "Wall time: 2min 49s\n"
     ]
    },
    {
     "data": {
      "text/plain": [
       "<catboost.core.CatBoostRegressor at 0x7f4123ad9090>"
      ]
     },
     "execution_count": 67,
     "metadata": {},
     "output_type": "execute_result"
    }
   ],
   "source": [
    "%%time\n",
    "\n",
    "model = CatBoostRegressor(learning_rate=0.2, random_state=123456, verbose=False) \n",
    "model.fit(ordinal_features_train, target_train)"
   ]
  },
  {
   "cell_type": "code",
   "execution_count": 68,
   "metadata": {},
   "outputs": [
    {
     "name": "stdout",
     "output_type": "stream",
     "text": [
      "CPU times: user 169 ms, sys: 0 ns, total: 169 ms\n",
      "Wall time: 123 ms\n"
     ]
    }
   ],
   "source": [
    "%%time\n",
    "\n",
    "target_predict = model.predict(ordinal_features_test)"
   ]
  },
  {
   "cell_type": "code",
   "execution_count": 69,
   "metadata": {},
   "outputs": [
    {
     "name": "stdout",
     "output_type": "stream",
     "text": [
      "final_RMSE of CatBoostRegressor = 1630.245758530857\n"
     ]
    }
   ],
   "source": [
    "\n",
    "final_RMSE_CBR_ordinal = mean_squared_error(target_test, target_predict) ** 0.5\n",
    "print('final_RMSE of CatBoostRegressor =', CBR_ordinal_RMSE)"
   ]
  },
  {
   "cell_type": "markdown",
   "metadata": {},
   "source": [
    "Теперь на оригинальных."
   ]
  },
  {
   "cell_type": "code",
   "execution_count": 70,
   "metadata": {},
   "outputs": [
    {
     "name": "stdout",
     "output_type": "stream",
     "text": [
      "CPU times: user 2min 15s, sys: 16.1 s, total: 2min 31s\n",
      "Wall time: 2min 32s\n"
     ]
    },
    {
     "data": {
      "text/plain": [
       "<catboost.core.CatBoostRegressor at 0x7f4123a5bd10>"
      ]
     },
     "execution_count": 70,
     "metadata": {},
     "output_type": "execute_result"
    }
   ],
   "source": [
    "%%time\n",
    "\n",
    "model = CatBoostRegressor(learning_rate=0.2, iterations = 250, random_state=123456, verbose=False,\n",
    "                          cat_features=['VehicleType','FuelType','Brand','Model']) \n",
    "model.fit(original_features_train, target_train)"
   ]
  },
  {
   "cell_type": "code",
   "execution_count": 71,
   "metadata": {},
   "outputs": [
    {
     "name": "stdout",
     "output_type": "stream",
     "text": [
      "CPU times: user 429 ms, sys: 1.33 ms, total: 431 ms\n",
      "Wall time: 424 ms\n"
     ]
    }
   ],
   "source": [
    "%%time\n",
    "\n",
    "target_predict = model.predict(original_features_test)"
   ]
  },
  {
   "cell_type": "code",
   "execution_count": 72,
   "metadata": {},
   "outputs": [
    {
     "name": "stdout",
     "output_type": "stream",
     "text": [
      "final_RMSE of CatBoostRegressor = 1663.3952700829466\n"
     ]
    }
   ],
   "source": [
    "final_RMSE_CBR_original = mean_squared_error(target_test, target_predict) ** 0.5\n",
    "print('final_RMSE of CatBoostRegressor =', final_RMSE_CBR_original)"
   ]
  },
  {
   "cell_type": "markdown",
   "metadata": {},
   "source": [
    "### LGBMRegressor"
   ]
  },
  {
   "cell_type": "code",
   "execution_count": 73,
   "metadata": {},
   "outputs": [
    {
     "name": "stdout",
     "output_type": "stream",
     "text": [
      "CPU times: user 6min 2s, sys: 2.9 s, total: 6min 5s\n",
      "Wall time: 6min 7s\n"
     ]
    },
    {
     "data": {
      "text/plain": [
       "LGBMRegressor(boosting_type='gbdt', class_weight=None, colsample_bytree=1.0,\n",
       "              importance_type='split', learning_rate=0.3, max_depth=-1,\n",
       "              min_child_samples=20, min_child_weight=0.001, min_split_gain=0.0,\n",
       "              n_estimators=100, n_jobs=-1, num_leaves=200, objective=None,\n",
       "              random_state=123456, reg_alpha=0.0, reg_lambda=0.0, silent=True,\n",
       "              subsample=1.0, subsample_for_bin=200000, subsample_freq=0)"
      ]
     },
     "execution_count": 73,
     "metadata": {},
     "output_type": "execute_result"
    }
   ],
   "source": [
    "%%time\n",
    "\n",
    "model = LGBMRegressor(learning_rate=0.3, num_leaves=200, random_state=123456)\n",
    "model.fit(ordinal_features_train, target_train)"
   ]
  },
  {
   "cell_type": "code",
   "execution_count": 74,
   "metadata": {},
   "outputs": [
    {
     "name": "stdout",
     "output_type": "stream",
     "text": [
      "CPU times: user 1.09 s, sys: 0 ns, total: 1.09 s\n",
      "Wall time: 1.11 s\n"
     ]
    }
   ],
   "source": [
    "%%time\n",
    "\n",
    "target_predict = model.predict(ordinal_features_test)\n"
   ]
  },
  {
   "cell_type": "code",
   "execution_count": 75,
   "metadata": {},
   "outputs": [
    {
     "name": "stdout",
     "output_type": "stream",
     "text": [
      "final_RMSE of LGBMRegressor = 1579.9949606516054\n"
     ]
    }
   ],
   "source": [
    "final_RMSE_LGBMR = mean_squared_error(target_test, target_predict) ** 0.5\n",
    "print('final_RMSE of LGBMRegressor =', final_RMSE_LGBMR)"
   ]
  },
  {
   "cell_type": "markdown",
   "metadata": {},
   "source": [
    "### LinearRegression"
   ]
  },
  {
   "cell_type": "code",
   "execution_count": 76,
   "metadata": {},
   "outputs": [
    {
     "name": "stdout",
     "output_type": "stream",
     "text": [
      "CPU times: user 19.5 s, sys: 8.3 s, total: 27.8 s\n",
      "Wall time: 27.8 s\n"
     ]
    },
    {
     "data": {
      "text/plain": [
       "LinearRegression(copy_X=True, fit_intercept=True, n_jobs=None, normalize=False)"
      ]
     },
     "execution_count": 76,
     "metadata": {},
     "output_type": "execute_result"
    }
   ],
   "source": [
    "%%time\n",
    "\n",
    "model = LinearRegression()\n",
    "model.fit(ohe_features_train, target_train)"
   ]
  },
  {
   "cell_type": "code",
   "execution_count": 77,
   "metadata": {},
   "outputs": [
    {
     "name": "stdout",
     "output_type": "stream",
     "text": [
      "CPU times: user 57.9 ms, sys: 117 ms, total: 175 ms\n",
      "Wall time: 192 ms\n"
     ]
    }
   ],
   "source": [
    "%%time\n",
    "\n",
    "target_predict = model.predict(ohe_features_test)"
   ]
  },
  {
   "cell_type": "code",
   "execution_count": 78,
   "metadata": {},
   "outputs": [
    {
     "name": "stdout",
     "output_type": "stream",
     "text": [
      "final_RMSE of LinearRegression = 2997.3158965800762\n"
     ]
    }
   ],
   "source": [
    "final_RMSE_LR = mean_squared_error(target_test, target_predict) ** 0.5\n",
    "print('final_RMSE of LinearRegression =', final_RMSE_LR)"
   ]
  },
  {
   "cell_type": "markdown",
   "metadata": {},
   "source": [
    "### DecisionTreeRegressor"
   ]
  },
  {
   "cell_type": "markdown",
   "metadata": {},
   "source": [
    "OHE"
   ]
  },
  {
   "cell_type": "code",
   "execution_count": 79,
   "metadata": {},
   "outputs": [
    {
     "name": "stdout",
     "output_type": "stream",
     "text": [
      "CPU times: user 7.58 s, sys: 119 ms, total: 7.7 s\n",
      "Wall time: 7.72 s\n"
     ]
    },
    {
     "data": {
      "text/plain": [
       "DecisionTreeRegressor(criterion='mse', max_depth=16, max_features=None,\n",
       "                      max_leaf_nodes=None, min_impurity_decrease=0.0,\n",
       "                      min_impurity_split=None, min_samples_leaf=1,\n",
       "                      min_samples_split=2, min_weight_fraction_leaf=0.0,\n",
       "                      presort=False, random_state=123456, splitter='best')"
      ]
     },
     "execution_count": 79,
     "metadata": {},
     "output_type": "execute_result"
    }
   ],
   "source": [
    "%%time\n",
    "\n",
    "model = DecisionTreeRegressor(criterion='mse',  max_depth=16, random_state=123456) \n",
    "model.fit(ohe_features_train, target_train)"
   ]
  },
  {
   "cell_type": "code",
   "execution_count": 80,
   "metadata": {},
   "outputs": [
    {
     "name": "stdout",
     "output_type": "stream",
     "text": [
      "CPU times: user 68.5 ms, sys: 58.6 ms, total: 127 ms\n",
      "Wall time: 150 ms\n"
     ]
    }
   ],
   "source": [
    "%%time\n",
    "\n",
    "target_predict = model.predict(ohe_features_test)"
   ]
  },
  {
   "cell_type": "code",
   "execution_count": 81,
   "metadata": {},
   "outputs": [
    {
     "name": "stdout",
     "output_type": "stream",
     "text": [
      "final_RMSE of DecisionTreeRegressor = 1865.3841342194362\n"
     ]
    }
   ],
   "source": [
    "final_RMSE_DTR_ohe = mean_squared_error(target_test, target_predict) ** 0.5\n",
    "print('final_RMSE of DecisionTreeRegressor =', final_RMSE_DTR_ohe)"
   ]
  },
  {
   "cell_type": "markdown",
   "metadata": {},
   "source": [
    "OE"
   ]
  },
  {
   "cell_type": "code",
   "execution_count": 82,
   "metadata": {},
   "outputs": [
    {
     "name": "stdout",
     "output_type": "stream",
     "text": [
      "CPU times: user 720 ms, sys: 0 ns, total: 720 ms\n",
      "Wall time: 719 ms\n"
     ]
    },
    {
     "data": {
      "text/plain": [
       "DecisionTreeRegressor(criterion='mse', max_depth=13, max_features=None,\n",
       "                      max_leaf_nodes=None, min_impurity_decrease=0.0,\n",
       "                      min_impurity_split=None, min_samples_leaf=1,\n",
       "                      min_samples_split=2, min_weight_fraction_leaf=0.0,\n",
       "                      presort=False, random_state=123456, splitter='best')"
      ]
     },
     "execution_count": 82,
     "metadata": {},
     "output_type": "execute_result"
    }
   ],
   "source": [
    "%%time\n",
    "\n",
    "model = DecisionTreeRegressor(criterion='mse',  max_depth=13, random_state=123456) \n",
    "model.fit(ordinal_features_train, target_train)"
   ]
  },
  {
   "cell_type": "code",
   "execution_count": 83,
   "metadata": {},
   "outputs": [
    {
     "name": "stdout",
     "output_type": "stream",
     "text": [
      "CPU times: user 22.5 ms, sys: 0 ns, total: 22.5 ms\n",
      "Wall time: 20.7 ms\n"
     ]
    }
   ],
   "source": [
    "%%time\n",
    "\n",
    "target_predict = model.predict(ordinal_features_test)"
   ]
  },
  {
   "cell_type": "code",
   "execution_count": 84,
   "metadata": {},
   "outputs": [
    {
     "name": "stdout",
     "output_type": "stream",
     "text": [
      "final_RMSE of DecisionTreeRegressor = 1885.9963198747478\n"
     ]
    }
   ],
   "source": [
    "final_RMSE_DTR_ordinal = mean_squared_error(target_test, target_predict) ** 0.5\n",
    "print('final_RMSE of DecisionTreeRegressor =', final_RMSE_DTR_ordinal)"
   ]
  },
  {
   "cell_type": "markdown",
   "metadata": {},
   "source": [
    "### Сравнение"
   ]
  },
  {
   "cell_type": "code",
   "execution_count": 85,
   "metadata": {},
   "outputs": [
    {
     "data": {
      "text/html": [
       "<div>\n",
       "<style scoped>\n",
       "    .dataframe tbody tr th:only-of-type {\n",
       "        vertical-align: middle;\n",
       "    }\n",
       "\n",
       "    .dataframe tbody tr th {\n",
       "        vertical-align: top;\n",
       "    }\n",
       "\n",
       "    .dataframe thead th {\n",
       "        text-align: right;\n",
       "    }\n",
       "</style>\n",
       "<table border=\"1\" class=\"dataframe\">\n",
       "  <thead>\n",
       "    <tr style=\"text-align: right;\">\n",
       "      <th></th>\n",
       "      <th>RMSE на CV, €</th>\n",
       "      <th>Время обучения на CV, сек</th>\n",
       "      <th>RMSE модели на тестовой выборке, €</th>\n",
       "      <th>Время обучения модели, сек</th>\n",
       "      <th>Время предсказания модели, сек</th>\n",
       "    </tr>\n",
       "  </thead>\n",
       "  <tbody>\n",
       "    <tr>\n",
       "      <td>CatBoostRegressor on OE features</td>\n",
       "      <td>1630.245759</td>\n",
       "      <td>1397</td>\n",
       "      <td>1605.531100</td>\n",
       "      <td>169.0</td>\n",
       "      <td>0.123</td>\n",
       "    </tr>\n",
       "    <tr>\n",
       "      <td>CatBoostRegressor on original features</td>\n",
       "      <td>1679.232737</td>\n",
       "      <td>727</td>\n",
       "      <td>1663.395270</td>\n",
       "      <td>152.0</td>\n",
       "      <td>0.424</td>\n",
       "    </tr>\n",
       "    <tr>\n",
       "      <td>LGBMRegressor</td>\n",
       "      <td>1624.207015</td>\n",
       "      <td>925</td>\n",
       "      <td>1579.994961</td>\n",
       "      <td>367.0</td>\n",
       "      <td>1.110</td>\n",
       "    </tr>\n",
       "    <tr>\n",
       "      <td>LinearRegression</td>\n",
       "      <td>3030.032182</td>\n",
       "      <td>135</td>\n",
       "      <td>2997.315897</td>\n",
       "      <td>28.0</td>\n",
       "      <td>0.192</td>\n",
       "    </tr>\n",
       "    <tr>\n",
       "      <td>DecisionTreeRegressor on OHE features</td>\n",
       "      <td>1934.212443</td>\n",
       "      <td>107</td>\n",
       "      <td>1865.384134</td>\n",
       "      <td>8.0</td>\n",
       "      <td>0.150</td>\n",
       "    </tr>\n",
       "    <tr>\n",
       "      <td>DecisionTreeRegressor on OE features</td>\n",
       "      <td>1956.251083</td>\n",
       "      <td>14</td>\n",
       "      <td>1885.996320</td>\n",
       "      <td>0.7</td>\n",
       "      <td>0.021</td>\n",
       "    </tr>\n",
       "  </tbody>\n",
       "</table>\n",
       "</div>"
      ],
      "text/plain": [
       "                                        RMSE на CV, €  \\\n",
       "CatBoostRegressor on OE features          1630.245759   \n",
       "CatBoostRegressor on original features    1679.232737   \n",
       "LGBMRegressor                             1624.207015   \n",
       "LinearRegression                          3030.032182   \n",
       "DecisionTreeRegressor on OHE features     1934.212443   \n",
       "DecisionTreeRegressor on OE features      1956.251083   \n",
       "\n",
       "                                        Время обучения на CV, сек  \\\n",
       "CatBoostRegressor on OE features                             1397   \n",
       "CatBoostRegressor on original features                        727   \n",
       "LGBMRegressor                                                 925   \n",
       "LinearRegression                                              135   \n",
       "DecisionTreeRegressor on OHE features                         107   \n",
       "DecisionTreeRegressor on OE features                           14   \n",
       "\n",
       "                                        RMSE модели на тестовой выборке, €  \\\n",
       "CatBoostRegressor on OE features                               1605.531100   \n",
       "CatBoostRegressor on original features                         1663.395270   \n",
       "LGBMRegressor                                                  1579.994961   \n",
       "LinearRegression                                               2997.315897   \n",
       "DecisionTreeRegressor on OHE features                          1865.384134   \n",
       "DecisionTreeRegressor on OE features                           1885.996320   \n",
       "\n",
       "                                        Время обучения модели, сек  \\\n",
       "CatBoostRegressor on OE features                             169.0   \n",
       "CatBoostRegressor on original features                       152.0   \n",
       "LGBMRegressor                                                367.0   \n",
       "LinearRegression                                              28.0   \n",
       "DecisionTreeRegressor on OHE features                          8.0   \n",
       "DecisionTreeRegressor on OE features                           0.7   \n",
       "\n",
       "                                        Время предсказания модели, сек  \n",
       "CatBoostRegressor on OE features                                 0.123  \n",
       "CatBoostRegressor on original features                           0.424  \n",
       "LGBMRegressor                                                    1.110  \n",
       "LinearRegression                                                 0.192  \n",
       "DecisionTreeRegressor on OHE features                            0.150  \n",
       "DecisionTreeRegressor on OE features                             0.021  "
      ]
     },
     "execution_count": 85,
     "metadata": {},
     "output_type": "execute_result"
    }
   ],
   "source": [
    "index = ['CatBoostRegressor on OE features',\n",
    "         'CatBoostRegressor on original features',\n",
    "         'LGBMRegressor',\n",
    "         'LinearRegression',\n",
    "         'DecisionTreeRegressor on OHE features',\n",
    "         'DecisionTreeRegressor on OE features']\n",
    "\n",
    "data = {'RMSE на CV, €':[ CBR_ordinal_RMSE,\n",
    "                            CBR_original_RMSE,\n",
    "                            LGBMR_RMSE,\n",
    "                            LR_RMSE,\n",
    "                            DTR_ohe_RMSE,\n",
    "                            DTR_ordinal_RMSE],\n",
    "        \n",
    "        'Время обучения на CV, сек':[1397,\n",
    "                                     727,\n",
    "                                     925,\n",
    "                                     135,                                     \n",
    "                                     107,\n",
    "                                     14],\n",
    "        \n",
    "        'RMSE модели на тестовой выборке, €':[final_RMSE_CBR_ordinal,\n",
    "                                                final_RMSE_CBR_original,\n",
    "                                                final_RMSE_LGBMR,\n",
    "                                                final_RMSE_LR,\n",
    "                                                final_RMSE_DTR_ohe,\n",
    "                                                final_RMSE_DTR_ordinal],\n",
    "        'Время обучения модели, сек':[169,\n",
    "                                      152,\n",
    "                                      367,\n",
    "                                      28,\n",
    "                                      8,\n",
    "                                      0.7],\n",
    "        \n",
    "        'Время предсказания модели, сек':[0.123,\n",
    "                                          0.424,\n",
    "                                          1.11,\n",
    "                                          0.192,\n",
    "                                          0.150,\n",
    "                                          0.021]}\n",
    "\n",
    "\n",
    "\n",
    "Regression = pd.DataFrame(data=data, index=index)   \n",
    "Regression"
   ]
  },
  {
   "cell_type": "markdown",
   "metadata": {},
   "source": [
    "Лучшей моделью по трем параметрам: качество, скорость обучения и скорость предсказания - можно считать CatBoostRegressor. Немного отстает DecisionTreeRegressor (с подготовленными признаками), но для задач, в которых необходимо бысторое решение с достаточной точностью, можно использовать. Остальные значительно отстают.\n",
    "LGBMRegressor дает самый точный результат, нодолгое обучение и время предсказания.\n",
    "\n",
    "\n",
    "Лучшее время обучения у DecisionTreeRegressor."
   ]
  }
 ],
 "metadata": {
  "ExecuteTimeLog": [
   {
    "duration": 862,
    "start_time": "2022-01-26T07:57:38.428Z"
   },
   {
    "duration": 1209,
    "start_time": "2022-01-26T07:59:09.001Z"
   },
   {
    "duration": 45,
    "start_time": "2022-01-26T08:02:56.160Z"
   },
   {
    "duration": 192,
    "start_time": "2022-01-26T08:04:32.207Z"
   },
   {
    "duration": 183,
    "start_time": "2022-01-26T08:04:40.056Z"
   },
   {
    "duration": 185,
    "start_time": "2022-01-26T08:04:56.534Z"
   },
   {
    "duration": 21,
    "start_time": "2022-01-26T09:24:55.866Z"
   },
   {
    "duration": 57,
    "start_time": "2022-01-26T09:25:05.865Z"
   },
   {
    "duration": 912,
    "start_time": "2022-01-26T09:28:15.821Z"
   },
   {
    "duration": 123,
    "start_time": "2022-01-26T09:28:56.195Z"
   },
   {
    "duration": 365,
    "start_time": "2022-01-26T09:29:10.378Z"
   },
   {
    "duration": 814,
    "start_time": "2022-01-26T09:29:34.651Z"
   },
   {
    "duration": 958,
    "start_time": "2022-01-26T09:29:40.827Z"
   },
   {
    "duration": 4,
    "start_time": "2022-01-26T09:30:09.883Z"
   },
   {
    "duration": 683,
    "start_time": "2022-01-26T09:30:15.091Z"
   },
   {
    "duration": 235216,
    "start_time": "2022-01-26T09:31:23.133Z"
   },
   {
    "duration": 185,
    "start_time": "2022-01-26T10:21:01.109Z"
   },
   {
    "duration": 23,
    "start_time": "2022-01-26T10:28:17.629Z"
   },
   {
    "duration": 157,
    "start_time": "2022-01-26T10:28:48.693Z"
   },
   {
    "duration": 4775,
    "start_time": "2022-01-26T16:12:02.979Z"
   },
   {
    "duration": 342,
    "start_time": "2022-01-26T16:12:10.235Z"
   },
   {
    "duration": 365,
    "start_time": "2022-01-26T16:13:14.362Z"
   },
   {
    "duration": 4778,
    "start_time": "2022-01-26T16:13:09.952Z"
   },
   {
    "duration": 4753,
    "start_time": "2022-01-26T16:13:09.977Z"
   },
   {
    "duration": 4749,
    "start_time": "2022-01-26T16:13:09.982Z"
   },
   {
    "duration": 4746,
    "start_time": "2022-01-26T16:13:09.986Z"
   },
   {
    "duration": 4743,
    "start_time": "2022-01-26T16:13:09.989Z"
   },
   {
    "duration": 4742,
    "start_time": "2022-01-26T16:13:09.991Z"
   },
   {
    "duration": 4741,
    "start_time": "2022-01-26T16:13:09.992Z"
   },
   {
    "duration": 4740,
    "start_time": "2022-01-26T16:13:09.994Z"
   },
   {
    "duration": 4739,
    "start_time": "2022-01-26T16:13:09.996Z"
   },
   {
    "duration": 4737,
    "start_time": "2022-01-26T16:13:09.998Z"
   },
   {
    "duration": 4736,
    "start_time": "2022-01-26T16:13:10.000Z"
   },
   {
    "duration": 1684,
    "start_time": "2022-01-26T16:13:40.356Z"
   },
   {
    "duration": 3214,
    "start_time": "2022-01-26T16:13:42.042Z"
   },
   {
    "duration": 3151,
    "start_time": "2022-01-26T16:13:45.257Z"
   },
   {
    "duration": 4099,
    "start_time": "2022-01-26T16:13:48.410Z"
   },
   {
    "duration": 8161,
    "start_time": "2022-01-26T16:13:52.512Z"
   },
   {
    "duration": 7725,
    "start_time": "2022-01-26T16:14:00.674Z"
   },
   {
    "duration": 5622,
    "start_time": "2022-01-26T16:14:08.400Z"
   },
   {
    "duration": 7846,
    "start_time": "2022-01-26T16:14:14.025Z"
   },
   {
    "duration": 123315,
    "start_time": "2022-01-26T16:14:21.873Z"
   },
   {
    "duration": 4775,
    "start_time": "2022-01-26T16:16:20.732Z"
   },
   {
    "duration": 4767,
    "start_time": "2022-01-26T16:16:20.741Z"
   },
   {
    "duration": 321,
    "start_time": "2022-01-26T16:16:30.959Z"
   },
   {
    "duration": 4,
    "start_time": "2022-01-26T16:16:35.901Z"
   },
   {
    "duration": 15,
    "start_time": "2022-01-26T16:18:11.990Z"
   },
   {
    "duration": 38,
    "start_time": "2022-01-26T16:18:18.339Z"
   },
   {
    "duration": 365,
    "start_time": "2022-01-26T16:22:41.800Z"
   },
   {
    "duration": 100,
    "start_time": "2022-01-26T16:31:55.660Z"
   },
   {
    "duration": 101,
    "start_time": "2022-01-26T16:32:38.418Z"
   },
   {
    "duration": 101,
    "start_time": "2022-01-26T16:33:01.274Z"
   },
   {
    "duration": 309,
    "start_time": "2022-01-26T16:33:17.554Z"
   },
   {
    "duration": 5,
    "start_time": "2022-01-26T16:33:23.474Z"
   },
   {
    "duration": 1178,
    "start_time": "2022-01-26T16:34:33.112Z"
   },
   {
    "duration": 710,
    "start_time": "2022-01-26T16:34:34.292Z"
   },
   {
    "duration": 94,
    "start_time": "2022-01-26T16:34:35.004Z"
   },
   {
    "duration": 558,
    "start_time": "2022-01-26T16:34:35.100Z"
   },
   {
    "duration": 588,
    "start_time": "2022-01-26T16:34:35.659Z"
   },
   {
    "duration": 764,
    "start_time": "2022-01-26T16:34:36.249Z"
   },
   {
    "duration": 808,
    "start_time": "2022-01-26T16:34:37.015Z"
   },
   {
    "duration": 1956,
    "start_time": "2022-01-26T16:34:37.825Z"
   },
   {
    "duration": 1714,
    "start_time": "2022-01-26T16:34:39.783Z"
   },
   {
    "duration": 2636,
    "start_time": "2022-01-26T16:34:41.499Z"
   },
   {
    "duration": 1535,
    "start_time": "2022-01-26T16:34:44.137Z"
   },
   {
    "duration": 1204,
    "start_time": "2022-01-26T16:34:45.673Z"
   },
   {
    "duration": 2996,
    "start_time": "2022-01-26T16:35:22.900Z"
   },
   {
    "duration": 1093,
    "start_time": "2022-01-26T16:35:25.898Z"
   },
   {
    "duration": 2241,
    "start_time": "2022-01-26T16:35:26.993Z"
   },
   {
    "duration": 1914,
    "start_time": "2022-01-26T16:35:29.236Z"
   },
   {
    "duration": 2050,
    "start_time": "2022-01-26T16:35:31.152Z"
   },
   {
    "duration": 2799,
    "start_time": "2022-01-26T16:35:33.204Z"
   },
   {
    "duration": 2664,
    "start_time": "2022-01-26T16:35:36.005Z"
   },
   {
    "duration": 2565,
    "start_time": "2022-01-26T16:35:38.671Z"
   },
   {
    "duration": 786,
    "start_time": "2022-01-26T16:35:41.239Z"
   },
   {
    "duration": 4099,
    "start_time": "2022-01-26T16:35:42.027Z"
   },
   {
    "duration": 4212,
    "start_time": "2022-01-26T16:35:46.128Z"
   },
   {
    "duration": 4055,
    "start_time": "2022-01-26T16:35:50.341Z"
   },
   {
    "duration": 8,
    "start_time": "2022-01-26T16:43:23.663Z"
   },
   {
    "duration": 17,
    "start_time": "2022-01-26T16:43:29.142Z"
   },
   {
    "duration": 1133,
    "start_time": "2022-01-26T16:48:39.060Z"
   },
   {
    "duration": 3008,
    "start_time": "2022-01-26T16:48:40.195Z"
   },
   {
    "duration": 4765,
    "start_time": "2022-01-26T16:48:43.205Z"
   },
   {
    "duration": 6049,
    "start_time": "2022-01-26T16:48:47.971Z"
   },
   {
    "duration": 5246,
    "start_time": "2022-01-26T16:48:54.021Z"
   },
   {
    "duration": 7097,
    "start_time": "2022-01-26T16:48:59.272Z"
   },
   {
    "duration": 8476,
    "start_time": "2022-01-26T16:49:06.371Z"
   },
   {
    "duration": 7357,
    "start_time": "2022-01-26T16:49:14.849Z"
   },
   {
    "duration": 3992,
    "start_time": "2022-01-26T16:49:22.207Z"
   },
   {
    "duration": 4766,
    "start_time": "2022-01-26T16:49:26.201Z"
   },
   {
    "duration": 1083,
    "start_time": "2022-01-26T16:49:30.969Z"
   },
   {
    "duration": 4773,
    "start_time": "2022-01-26T16:49:27.281Z"
   },
   {
    "duration": 296,
    "start_time": "2022-01-26T16:49:57.340Z"
   },
   {
    "duration": 1175,
    "start_time": "2022-01-26T16:50:27.435Z"
   },
   {
    "duration": 4561,
    "start_time": "2022-01-26T16:50:28.612Z"
   },
   {
    "duration": 5469,
    "start_time": "2022-01-26T16:50:33.175Z"
   },
   {
    "duration": 6483,
    "start_time": "2022-01-26T16:50:38.646Z"
   },
   {
    "duration": 6198,
    "start_time": "2022-01-26T16:50:45.131Z"
   },
   {
    "duration": 5542,
    "start_time": "2022-01-26T16:50:51.330Z"
   },
   {
    "duration": 5665,
    "start_time": "2022-01-26T16:50:56.874Z"
   },
   {
    "duration": 4511,
    "start_time": "2022-01-26T16:51:02.541Z"
   },
   {
    "duration": 2565,
    "start_time": "2022-01-26T16:51:07.054Z"
   },
   {
    "duration": 5295,
    "start_time": "2022-01-26T16:51:09.621Z"
   },
   {
    "duration": 3417,
    "start_time": "2022-01-26T16:51:14.918Z"
   },
   {
    "duration": 3309,
    "start_time": "2022-01-26T16:51:18.337Z"
   },
   {
    "duration": 28,
    "start_time": "2022-01-26T16:58:31.639Z"
   },
   {
    "duration": 43,
    "start_time": "2022-01-26T17:15:22.516Z"
   },
   {
    "duration": 17,
    "start_time": "2022-01-26T17:16:25.776Z"
   },
   {
    "duration": 88,
    "start_time": "2022-01-26T17:24:49.112Z"
   },
   {
    "duration": 19,
    "start_time": "2022-01-26T17:25:02.776Z"
   },
   {
    "duration": 102,
    "start_time": "2022-01-26T17:32:24.509Z"
   },
   {
    "duration": 62,
    "start_time": "2022-01-26T17:39:22.896Z"
   },
   {
    "duration": 78,
    "start_time": "2022-01-26T17:39:27.886Z"
   },
   {
    "duration": 77,
    "start_time": "2022-01-26T17:39:56.193Z"
   },
   {
    "duration": 83,
    "start_time": "2022-01-26T17:41:07.167Z"
   },
   {
    "duration": 79,
    "start_time": "2022-01-26T17:46:58.294Z"
   },
   {
    "duration": 83,
    "start_time": "2022-01-26T17:47:35.228Z"
   },
   {
    "duration": 38,
    "start_time": "2022-01-26T17:52:28.954Z"
   },
   {
    "duration": 94,
    "start_time": "2022-01-26T17:52:36.442Z"
   },
   {
    "duration": 18,
    "start_time": "2022-01-26T17:57:38.996Z"
   },
   {
    "duration": 19,
    "start_time": "2022-01-26T17:58:40.318Z"
   },
   {
    "duration": 67,
    "start_time": "2022-01-26T17:58:42.040Z"
   },
   {
    "duration": 84,
    "start_time": "2022-01-26T17:59:32.853Z"
   },
   {
    "duration": 1540,
    "start_time": "2022-01-26T18:01:45.374Z"
   },
   {
    "duration": 4767,
    "start_time": "2022-01-26T18:01:42.149Z"
   },
   {
    "duration": 4759,
    "start_time": "2022-01-26T18:01:42.158Z"
   },
   {
    "duration": 4757,
    "start_time": "2022-01-26T18:01:42.161Z"
   },
   {
    "duration": 4755,
    "start_time": "2022-01-26T18:01:42.164Z"
   },
   {
    "duration": 4754,
    "start_time": "2022-01-26T18:01:42.166Z"
   },
   {
    "duration": 4751,
    "start_time": "2022-01-26T18:01:42.169Z"
   },
   {
    "duration": 4750,
    "start_time": "2022-01-26T18:01:42.171Z"
   },
   {
    "duration": 4748,
    "start_time": "2022-01-26T18:01:42.174Z"
   },
   {
    "duration": 4747,
    "start_time": "2022-01-26T18:01:42.176Z"
   },
   {
    "duration": 4743,
    "start_time": "2022-01-26T18:01:42.181Z"
   },
   {
    "duration": 4740,
    "start_time": "2022-01-26T18:01:42.185Z"
   },
   {
    "duration": 4738,
    "start_time": "2022-01-26T18:01:42.188Z"
   },
   {
    "duration": 4736,
    "start_time": "2022-01-26T18:01:42.191Z"
   },
   {
    "duration": 4734,
    "start_time": "2022-01-26T18:01:42.194Z"
   },
   {
    "duration": 4731,
    "start_time": "2022-01-26T18:01:42.197Z"
   },
   {
    "duration": 4729,
    "start_time": "2022-01-26T18:01:42.200Z"
   },
   {
    "duration": 4722,
    "start_time": "2022-01-26T18:01:42.208Z"
   },
   {
    "duration": 4718,
    "start_time": "2022-01-26T18:01:42.213Z"
   },
   {
    "duration": 4715,
    "start_time": "2022-01-26T18:01:42.217Z"
   },
   {
    "duration": 4713,
    "start_time": "2022-01-26T18:01:42.220Z"
   },
   {
    "duration": 4709,
    "start_time": "2022-01-26T18:01:42.225Z"
   },
   {
    "duration": 4706,
    "start_time": "2022-01-26T18:01:42.229Z"
   },
   {
    "duration": 4704,
    "start_time": "2022-01-26T18:01:42.232Z"
   },
   {
    "duration": 4702,
    "start_time": "2022-01-26T18:01:42.235Z"
   },
   {
    "duration": 1117,
    "start_time": "2022-01-26T18:02:35.175Z"
   },
   {
    "duration": 7846,
    "start_time": "2022-01-26T18:02:36.293Z"
   },
   {
    "duration": 24,
    "start_time": "2022-01-26T18:02:44.141Z"
   },
   {
    "duration": 119,
    "start_time": "2022-01-26T18:02:44.166Z"
   },
   {
    "duration": 131,
    "start_time": "2022-01-26T18:02:44.287Z"
   },
   {
    "duration": 642,
    "start_time": "2022-01-26T18:02:44.420Z"
   },
   {
    "duration": 89,
    "start_time": "2022-01-26T18:02:45.064Z"
   },
   {
    "duration": 460,
    "start_time": "2022-01-26T18:02:45.156Z"
   },
   {
    "duration": 4,
    "start_time": "2022-01-26T18:02:45.618Z"
   },
   {
    "duration": 52,
    "start_time": "2022-01-26T18:02:45.623Z"
   },
   {
    "duration": 120,
    "start_time": "2022-01-26T18:02:45.677Z"
   },
   {
    "duration": 5,
    "start_time": "2022-01-26T18:02:45.799Z"
   },
   {
    "duration": 33,
    "start_time": "2022-01-26T18:02:45.805Z"
   },
   {
    "duration": 51,
    "start_time": "2022-01-26T18:02:45.840Z"
   },
   {
    "duration": 16,
    "start_time": "2022-01-26T18:02:45.893Z"
   },
   {
    "duration": 95,
    "start_time": "2022-01-26T18:02:45.910Z"
   },
   {
    "duration": 24,
    "start_time": "2022-01-26T18:02:46.006Z"
   },
   {
    "duration": 38,
    "start_time": "2022-01-26T18:02:46.031Z"
   },
   {
    "duration": 65,
    "start_time": "2022-01-26T18:02:46.071Z"
   },
   {
    "duration": 82,
    "start_time": "2022-01-26T18:02:46.138Z"
   },
   {
    "duration": 83,
    "start_time": "2022-01-26T18:02:46.222Z"
   },
   {
    "duration": 26,
    "start_time": "2022-01-26T18:02:46.307Z"
   },
   {
    "duration": 81,
    "start_time": "2022-01-26T18:02:46.336Z"
   },
   {
    "duration": 14,
    "start_time": "2022-01-26T18:02:46.418Z"
   },
   {
    "duration": 110,
    "start_time": "2022-01-26T18:02:46.434Z"
   },
   {
    "duration": 2,
    "start_time": "2022-01-26T18:17:43.372Z"
   },
   {
    "duration": 3,
    "start_time": "2022-01-26T18:17:46.612Z"
   },
   {
    "duration": 400,
    "start_time": "2022-01-26T18:18:57.599Z"
   },
   {
    "duration": 3,
    "start_time": "2022-01-26T18:19:08.068Z"
   },
   {
    "duration": 3,
    "start_time": "2022-01-26T18:19:36.884Z"
   },
   {
    "duration": 73,
    "start_time": "2022-01-26T18:26:36.623Z"
   },
   {
    "duration": 377,
    "start_time": "2022-01-26T18:28:26.616Z"
   },
   {
    "duration": 45,
    "start_time": "2022-01-26T18:29:54.976Z"
   },
   {
    "duration": 355,
    "start_time": "2022-01-26T18:30:07.417Z"
   },
   {
    "duration": 1761,
    "start_time": "2022-01-26T18:30:29.952Z"
   },
   {
    "duration": 935225,
    "start_time": "2022-01-26T18:32:46.731Z"
   },
   {
    "duration": 423649,
    "start_time": "2022-01-26T18:52:45.640Z"
   },
   {
    "duration": 253757,
    "start_time": "2022-01-26T19:03:38.117Z"
   },
   {
    "duration": 92808,
    "start_time": "2022-01-26T19:09:42.072Z"
   },
   {
    "duration": 102797,
    "start_time": "2022-01-26T19:11:35.680Z"
   },
   {
    "duration": 554,
    "start_time": "2022-01-26T19:23:14.958Z"
   },
   {
    "duration": 1165,
    "start_time": "2022-01-26T19:23:48.894Z"
   },
   {
    "duration": 5,
    "start_time": "2022-01-26T19:23:58.178Z"
   },
   {
    "duration": 9940,
    "start_time": "2022-01-26T19:24:00.332Z"
   },
   {
    "duration": 5,
    "start_time": "2022-01-26T19:25:37.367Z"
   },
   {
    "duration": 738,
    "start_time": "2022-01-26T19:25:40.044Z"
   },
   {
    "duration": 24,
    "start_time": "2022-01-26T19:25:41.281Z"
   },
   {
    "duration": 112,
    "start_time": "2022-01-26T19:25:43.460Z"
   },
   {
    "duration": 128,
    "start_time": "2022-01-26T19:25:45.140Z"
   },
   {
    "duration": 675,
    "start_time": "2022-01-26T19:25:45.930Z"
   },
   {
    "duration": 88,
    "start_time": "2022-01-26T19:25:47.341Z"
   },
   {
    "duration": 449,
    "start_time": "2022-01-26T19:25:48.124Z"
   },
   {
    "duration": 4,
    "start_time": "2022-01-26T19:25:52.763Z"
   },
   {
    "duration": 30,
    "start_time": "2022-01-26T19:25:53.198Z"
   },
   {
    "duration": 110,
    "start_time": "2022-01-26T19:25:54.014Z"
   },
   {
    "duration": 5,
    "start_time": "2022-01-26T19:25:54.388Z"
   },
   {
    "duration": 32,
    "start_time": "2022-01-26T19:25:55.330Z"
   },
   {
    "duration": 42,
    "start_time": "2022-01-26T19:25:56.160Z"
   },
   {
    "duration": 21,
    "start_time": "2022-01-26T19:25:56.556Z"
   },
   {
    "duration": 108,
    "start_time": "2022-01-26T19:25:57.338Z"
   },
   {
    "duration": 17,
    "start_time": "2022-01-26T19:25:57.661Z"
   },
   {
    "duration": 15,
    "start_time": "2022-01-26T19:25:57.907Z"
   },
   {
    "duration": 61,
    "start_time": "2022-01-26T19:25:58.164Z"
   },
   {
    "duration": 79,
    "start_time": "2022-01-26T19:25:58.748Z"
   },
   {
    "duration": 120,
    "start_time": "2022-01-26T19:25:59.021Z"
   },
   {
    "duration": 29,
    "start_time": "2022-01-26T19:25:59.667Z"
   },
   {
    "duration": 68,
    "start_time": "2022-01-26T19:25:59.963Z"
   },
   {
    "duration": 16,
    "start_time": "2022-01-26T19:26:00.260Z"
   },
   {
    "duration": 97,
    "start_time": "2022-01-26T19:26:00.842Z"
   },
   {
    "duration": 3,
    "start_time": "2022-01-26T19:26:07.338Z"
   },
   {
    "duration": 64,
    "start_time": "2022-01-26T19:26:08.730Z"
   },
   {
    "duration": 354,
    "start_time": "2022-01-26T19:26:10.291Z"
   },
   {
    "duration": 1349,
    "start_time": "2022-01-26T19:26:11.987Z"
   },
   {
    "duration": 264,
    "start_time": "2022-01-26T19:40:42.578Z"
   },
   {
    "duration": 194,
    "start_time": "2022-01-26T19:45:08.553Z"
   },
   {
    "duration": 1234,
    "start_time": "2022-01-26T19:45:14.364Z"
   },
   {
    "duration": 9767,
    "start_time": "2022-01-26T19:45:15.600Z"
   },
   {
    "duration": 37,
    "start_time": "2022-01-26T19:45:25.369Z"
   },
   {
    "duration": 220,
    "start_time": "2022-01-26T19:45:25.408Z"
   },
   {
    "duration": 245,
    "start_time": "2022-01-26T19:45:25.630Z"
   },
   {
    "duration": 942,
    "start_time": "2022-01-26T19:45:25.877Z"
   },
   {
    "duration": 125,
    "start_time": "2022-01-26T19:45:26.821Z"
   },
   {
    "duration": 647,
    "start_time": "2022-01-26T19:45:26.949Z"
   },
   {
    "duration": 4,
    "start_time": "2022-01-26T19:45:27.597Z"
   },
   {
    "duration": 39,
    "start_time": "2022-01-26T19:45:27.603Z"
   },
   {
    "duration": 230,
    "start_time": "2022-01-26T19:45:27.644Z"
   },
   {
    "duration": 6,
    "start_time": "2022-01-26T19:45:27.876Z"
   },
   {
    "duration": 38,
    "start_time": "2022-01-26T19:45:27.883Z"
   },
   {
    "duration": 91,
    "start_time": "2022-01-26T19:45:27.923Z"
   },
   {
    "duration": 22,
    "start_time": "2022-01-26T19:45:28.017Z"
   },
   {
    "duration": 131,
    "start_time": "2022-01-26T19:45:28.041Z"
   },
   {
    "duration": 24,
    "start_time": "2022-01-26T19:45:28.175Z"
   },
   {
    "duration": 18,
    "start_time": "2022-01-26T19:45:28.201Z"
   },
   {
    "duration": 127,
    "start_time": "2022-01-26T19:45:28.222Z"
   },
   {
    "duration": 129,
    "start_time": "2022-01-26T19:45:28.351Z"
   },
   {
    "duration": 123,
    "start_time": "2022-01-26T19:45:28.482Z"
   },
   {
    "duration": 49,
    "start_time": "2022-01-26T19:45:29.291Z"
   },
   {
    "duration": 120,
    "start_time": "2022-01-26T19:45:29.770Z"
   },
   {
    "duration": 22,
    "start_time": "2022-01-26T19:45:30.083Z"
   },
   {
    "duration": 148,
    "start_time": "2022-01-26T19:45:30.832Z"
   },
   {
    "duration": 3,
    "start_time": "2022-01-26T19:45:35.561Z"
   },
   {
    "duration": 96,
    "start_time": "2022-01-26T19:45:36.442Z"
   },
   {
    "duration": 575,
    "start_time": "2022-01-26T19:45:37.481Z"
   },
   {
    "duration": 1861,
    "start_time": "2022-01-26T19:45:38.801Z"
   },
   {
    "duration": 291,
    "start_time": "2022-01-26T19:54:54.078Z"
   },
   {
    "duration": 1284,
    "start_time": "2022-01-26T19:55:04.051Z"
   },
   {
    "duration": 6442,
    "start_time": "2022-01-26T19:55:05.338Z"
   },
   {
    "duration": 26,
    "start_time": "2022-01-26T19:55:11.782Z"
   },
   {
    "duration": 129,
    "start_time": "2022-01-26T19:55:11.810Z"
   },
   {
    "duration": 145,
    "start_time": "2022-01-26T19:55:11.941Z"
   },
   {
    "duration": 624,
    "start_time": "2022-01-26T19:55:12.088Z"
   },
   {
    "duration": 95,
    "start_time": "2022-01-26T19:55:12.714Z"
   },
   {
    "duration": 500,
    "start_time": "2022-01-26T19:55:12.812Z"
   },
   {
    "duration": 3,
    "start_time": "2022-01-26T19:55:13.314Z"
   },
   {
    "duration": 32,
    "start_time": "2022-01-26T19:55:13.319Z"
   },
   {
    "duration": 129,
    "start_time": "2022-01-26T19:55:13.352Z"
   },
   {
    "duration": 4,
    "start_time": "2022-01-26T19:55:13.483Z"
   },
   {
    "duration": 28,
    "start_time": "2022-01-26T19:55:13.489Z"
   },
   {
    "duration": 56,
    "start_time": "2022-01-26T19:55:13.519Z"
   },
   {
    "duration": 16,
    "start_time": "2022-01-26T19:55:13.577Z"
   },
   {
    "duration": 89,
    "start_time": "2022-01-26T19:55:13.594Z"
   },
   {
    "duration": 16,
    "start_time": "2022-01-26T19:55:13.685Z"
   },
   {
    "duration": 17,
    "start_time": "2022-01-26T19:55:13.702Z"
   },
   {
    "duration": 78,
    "start_time": "2022-01-26T19:55:13.720Z"
   },
   {
    "duration": 101,
    "start_time": "2022-01-26T19:55:13.800Z"
   },
   {
    "duration": 85,
    "start_time": "2022-01-26T19:55:13.903Z"
   },
   {
    "duration": 28,
    "start_time": "2022-01-26T19:55:13.990Z"
   },
   {
    "duration": 75,
    "start_time": "2022-01-26T19:55:14.020Z"
   },
   {
    "duration": 15,
    "start_time": "2022-01-26T19:55:14.250Z"
   },
   {
    "duration": 102,
    "start_time": "2022-01-26T19:55:15.769Z"
   },
   {
    "duration": 2,
    "start_time": "2022-01-26T19:55:17.401Z"
   },
   {
    "duration": 70,
    "start_time": "2022-01-26T19:55:18.344Z"
   },
   {
    "duration": 370,
    "start_time": "2022-01-26T19:55:19.457Z"
   },
   {
    "duration": 1379,
    "start_time": "2022-01-26T19:55:20.488Z"
   },
   {
    "duration": 1353,
    "start_time": "2022-01-26T20:04:31.258Z"
   },
   {
    "duration": 6335,
    "start_time": "2022-01-26T20:04:32.613Z"
   },
   {
    "duration": 27,
    "start_time": "2022-01-26T20:04:38.949Z"
   },
   {
    "duration": 115,
    "start_time": "2022-01-26T20:04:38.978Z"
   },
   {
    "duration": 138,
    "start_time": "2022-01-26T20:04:39.095Z"
   },
   {
    "duration": 644,
    "start_time": "2022-01-26T20:04:39.235Z"
   },
   {
    "duration": 95,
    "start_time": "2022-01-26T20:04:39.881Z"
   },
   {
    "duration": 440,
    "start_time": "2022-01-26T20:04:39.978Z"
   },
   {
    "duration": 4,
    "start_time": "2022-01-26T20:04:40.420Z"
   },
   {
    "duration": 53,
    "start_time": "2022-01-26T20:04:40.426Z"
   },
   {
    "duration": 121,
    "start_time": "2022-01-26T20:04:40.481Z"
   },
   {
    "duration": 5,
    "start_time": "2022-01-26T20:04:40.604Z"
   },
   {
    "duration": 32,
    "start_time": "2022-01-26T20:04:40.611Z"
   },
   {
    "duration": 55,
    "start_time": "2022-01-26T20:04:40.645Z"
   },
   {
    "duration": 16,
    "start_time": "2022-01-26T20:04:40.702Z"
   },
   {
    "duration": 100,
    "start_time": "2022-01-26T20:04:40.720Z"
   },
   {
    "duration": 19,
    "start_time": "2022-01-26T20:04:40.822Z"
   },
   {
    "duration": 33,
    "start_time": "2022-01-26T20:04:40.842Z"
   },
   {
    "duration": 63,
    "start_time": "2022-01-26T20:04:40.878Z"
   },
   {
    "duration": 98,
    "start_time": "2022-01-26T20:04:40.942Z"
   },
   {
    "duration": 89,
    "start_time": "2022-01-26T20:04:41.042Z"
   },
   {
    "duration": 28,
    "start_time": "2022-01-26T20:04:41.132Z"
   },
   {
    "duration": 70,
    "start_time": "2022-01-26T20:04:41.161Z"
   },
   {
    "duration": 15,
    "start_time": "2022-01-26T20:04:41.233Z"
   },
   {
    "duration": 95,
    "start_time": "2022-01-26T20:04:41.616Z"
   },
   {
    "duration": 2,
    "start_time": "2022-01-26T20:04:43.656Z"
   },
   {
    "duration": 70,
    "start_time": "2022-01-26T20:04:44.583Z"
   },
   {
    "duration": 492,
    "start_time": "2022-01-26T20:04:45.520Z"
   },
   {
    "duration": 1490,
    "start_time": "2022-01-26T20:04:49.202Z"
   },
   {
    "duration": 92996,
    "start_time": "2022-01-26T20:04:56.618Z"
   },
   {
    "duration": 11344,
    "start_time": "2022-01-26T20:08:10.227Z"
   },
   {
    "duration": 125358,
    "start_time": "2022-01-26T20:12:06.613Z"
   },
   {
    "duration": 2272,
    "start_time": "2022-01-26T20:14:44.677Z"
   },
   {
    "duration": 126440,
    "start_time": "2022-01-26T20:16:48.252Z"
   },
   {
    "duration": 107,
    "start_time": "2022-01-26T20:21:35.080Z"
   },
   {
    "duration": 311,
    "start_time": "2022-01-26T20:21:39.362Z"
   },
   {
    "duration": 6,
    "start_time": "2022-01-26T20:23:21.817Z"
   },
   {
    "duration": 108262,
    "start_time": "2022-01-26T20:23:33.364Z"
   },
   {
    "duration": 432662,
    "start_time": "2022-01-26T20:25:21.628Z"
   },
   {
    "duration": 110987,
    "start_time": "2022-01-26T20:35:15.439Z"
   },
   {
    "duration": 224,
    "start_time": "2022-01-26T20:44:06.559Z"
   },
   {
    "duration": 4,
    "start_time": "2022-01-26T20:44:09.399Z"
   },
   {
    "duration": 10880,
    "start_time": "2022-01-26T20:44:32.712Z"
   },
   {
    "duration": 599,
    "start_time": "2022-01-26T20:49:26.192Z"
   },
   {
    "duration": 4,
    "start_time": "2022-01-26T20:49:31.184Z"
   },
   {
    "duration": 23174,
    "start_time": "2022-01-26T20:49:45.200Z"
   },
   {
    "duration": 128,
    "start_time": "2022-01-26T20:53:48.850Z"
   },
   {
    "duration": 5,
    "start_time": "2022-01-26T20:53:52.255Z"
   },
   {
    "duration": 7003,
    "start_time": "2022-01-26T20:54:20.946Z"
   },
   {
    "duration": 101,
    "start_time": "2022-01-26T20:55:08.591Z"
   },
   {
    "duration": 4,
    "start_time": "2022-01-26T20:55:14.305Z"
   },
   {
    "duration": 581,
    "start_time": "2022-01-26T20:55:40.300Z"
   },
   {
    "duration": 17,
    "start_time": "2022-01-26T20:55:47.066Z"
   },
   {
    "duration": 4,
    "start_time": "2022-01-26T20:55:50.906Z"
   },
   {
    "duration": 410,
    "start_time": "2022-01-26T21:13:06.280Z"
   },
   {
    "duration": 17,
    "start_time": "2022-01-26T21:14:36.682Z"
   },
   {
    "duration": 294,
    "start_time": "2022-01-26T21:14:44.857Z"
   },
   {
    "duration": 1139,
    "start_time": "2022-01-26T21:15:05.526Z"
   },
   {
    "duration": 767,
    "start_time": "2022-01-26T21:15:06.666Z"
   },
   {
    "duration": 37,
    "start_time": "2022-01-26T21:15:07.435Z"
   },
   {
    "duration": 120,
    "start_time": "2022-01-26T21:15:07.474Z"
   },
   {
    "duration": 141,
    "start_time": "2022-01-26T21:15:07.595Z"
   },
   {
    "duration": 750,
    "start_time": "2022-01-26T21:15:07.738Z"
   },
   {
    "duration": 97,
    "start_time": "2022-01-26T21:15:08.491Z"
   },
   {
    "duration": 462,
    "start_time": "2022-01-26T21:15:08.590Z"
   },
   {
    "duration": 4,
    "start_time": "2022-01-26T21:15:09.055Z"
   },
   {
    "duration": 41,
    "start_time": "2022-01-26T21:15:09.060Z"
   },
   {
    "duration": 129,
    "start_time": "2022-01-26T21:15:09.103Z"
   },
   {
    "duration": 5,
    "start_time": "2022-01-26T21:15:09.234Z"
   },
   {
    "duration": 44,
    "start_time": "2022-01-26T21:15:09.241Z"
   },
   {
    "duration": 44,
    "start_time": "2022-01-26T21:15:09.287Z"
   },
   {
    "duration": 17,
    "start_time": "2022-01-26T21:15:09.333Z"
   },
   {
    "duration": 89,
    "start_time": "2022-01-26T21:15:09.372Z"
   },
   {
    "duration": 23,
    "start_time": "2022-01-26T21:15:09.462Z"
   },
   {
    "duration": 17,
    "start_time": "2022-01-26T21:15:09.487Z"
   },
   {
    "duration": 86,
    "start_time": "2022-01-26T21:15:09.506Z"
   },
   {
    "duration": 91,
    "start_time": "2022-01-26T21:15:09.594Z"
   },
   {
    "duration": 90,
    "start_time": "2022-01-26T21:15:09.687Z"
   },
   {
    "duration": 29,
    "start_time": "2022-01-26T21:15:09.778Z"
   },
   {
    "duration": 78,
    "start_time": "2022-01-26T21:15:09.811Z"
   },
   {
    "duration": 14,
    "start_time": "2022-01-26T21:15:09.891Z"
   },
   {
    "duration": 104,
    "start_time": "2022-01-26T21:15:09.906Z"
   },
   {
    "duration": 3,
    "start_time": "2022-01-26T21:15:10.011Z"
   },
   {
    "duration": 82,
    "start_time": "2022-01-26T21:15:10.015Z"
   },
   {
    "duration": 366,
    "start_time": "2022-01-26T21:15:10.099Z"
   },
   {
    "duration": 1466,
    "start_time": "2022-01-26T21:15:10.467Z"
   },
   {
    "duration": 873195,
    "start_time": "2022-01-26T21:15:11.935Z"
   },
   {
    "duration": 436458,
    "start_time": "2022-01-26T21:29:45.132Z"
   },
   {
    "duration": 238083,
    "start_time": "2022-01-26T21:37:01.592Z"
   },
   {
    "duration": 93200,
    "start_time": "2022-01-26T21:40:59.677Z"
   },
   {
    "duration": 98793,
    "start_time": "2022-01-26T21:42:32.880Z"
   },
   {
    "duration": 93310,
    "start_time": "2022-01-26T21:44:11.676Z"
   },
   {
    "duration": 10868,
    "start_time": "2022-01-26T21:45:44.987Z"
   },
   {
    "duration": 117116,
    "start_time": "2022-01-26T21:45:55.856Z"
   },
   {
    "duration": 106,
    "start_time": "2022-01-26T21:47:52.974Z"
   },
   {
    "duration": 4,
    "start_time": "2022-01-26T21:47:53.082Z"
   },
   {
    "duration": 104036,
    "start_time": "2022-01-26T21:47:53.087Z"
   },
   {
    "duration": 262,
    "start_time": "2022-01-26T21:49:37.124Z"
   },
   {
    "duration": 4,
    "start_time": "2022-01-26T21:49:37.388Z"
   },
   {
    "duration": 10796,
    "start_time": "2022-01-26T21:49:37.393Z"
   },
   {
    "duration": 690,
    "start_time": "2022-01-26T21:49:48.191Z"
   },
   {
    "duration": 4,
    "start_time": "2022-01-26T21:49:48.883Z"
   },
   {
    "duration": 23194,
    "start_time": "2022-01-26T21:49:48.888Z"
   },
   {
    "duration": 202,
    "start_time": "2022-01-26T21:50:12.173Z"
   },
   {
    "duration": 6,
    "start_time": "2022-01-26T21:50:12.377Z"
   },
   {
    "duration": 6642,
    "start_time": "2022-01-26T21:50:12.472Z"
   },
   {
    "duration": 115,
    "start_time": "2022-01-26T21:50:19.115Z"
   },
   {
    "duration": 4,
    "start_time": "2022-01-26T21:50:19.231Z"
   },
   {
    "duration": 613,
    "start_time": "2022-01-26T21:50:19.237Z"
   },
   {
    "duration": 24,
    "start_time": "2022-01-26T21:50:19.852Z"
   },
   {
    "duration": 4,
    "start_time": "2022-01-26T21:50:19.878Z"
   },
   {
    "duration": 26,
    "start_time": "2022-01-26T21:50:19.884Z"
   },
   {
    "duration": 1842,
    "start_time": "2022-01-27T05:04:06.227Z"
   },
   {
    "duration": 1125,
    "start_time": "2022-01-27T05:04:08.072Z"
   },
   {
    "duration": 44,
    "start_time": "2022-01-27T05:04:09.200Z"
   },
   {
    "duration": 185,
    "start_time": "2022-01-27T05:04:09.246Z"
   },
   {
    "duration": 185,
    "start_time": "2022-01-27T05:04:17.651Z"
   },
   {
    "duration": 953,
    "start_time": "2022-01-27T05:04:19.070Z"
   },
   {
    "duration": 127,
    "start_time": "2022-01-27T05:05:37.716Z"
   },
   {
    "duration": 680,
    "start_time": "2022-01-27T05:05:40.104Z"
   },
   {
    "duration": 6,
    "start_time": "2022-01-27T05:10:18.145Z"
   },
   {
    "duration": 53,
    "start_time": "2022-01-27T05:10:19.669Z"
   },
   {
    "duration": 185,
    "start_time": "2022-01-27T05:10:25.420Z"
   },
   {
    "duration": 7,
    "start_time": "2022-01-27T05:11:36.158Z"
   },
   {
    "duration": 53,
    "start_time": "2022-01-27T05:11:39.032Z"
   },
   {
    "duration": 57,
    "start_time": "2022-01-27T05:11:58.746Z"
   },
   {
    "duration": 32,
    "start_time": "2022-01-27T05:11:59.394Z"
   },
   {
    "duration": 116,
    "start_time": "2022-01-27T05:12:12.279Z"
   },
   {
    "duration": 30,
    "start_time": "2022-01-27T05:12:13.024Z"
   },
   {
    "duration": 30,
    "start_time": "2022-01-27T05:12:14.147Z"
   },
   {
    "duration": 92,
    "start_time": "2022-01-27T05:12:15.045Z"
   },
   {
    "duration": 136,
    "start_time": "2022-01-27T05:12:21.879Z"
   },
   {
    "duration": 129,
    "start_time": "2022-01-27T05:12:22.419Z"
   },
   {
    "duration": 40,
    "start_time": "2022-01-27T05:12:23.218Z"
   },
   {
    "duration": 93,
    "start_time": "2022-01-27T05:12:23.561Z"
   },
   {
    "duration": 27,
    "start_time": "2022-01-27T05:12:23.771Z"
   },
   {
    "duration": 132,
    "start_time": "2022-01-27T05:12:24.164Z"
   },
   {
    "duration": 4,
    "start_time": "2022-01-27T05:16:50.746Z"
   },
   {
    "duration": 142,
    "start_time": "2022-01-27T05:16:56.413Z"
   },
   {
    "duration": 570,
    "start_time": "2022-01-27T05:16:59.899Z"
   },
   {
    "duration": 2599,
    "start_time": "2022-01-27T05:17:01.480Z"
   },
   {
    "duration": 336,
    "start_time": "2022-01-27T08:15:12.399Z"
   },
   {
    "duration": 1825,
    "start_time": "2022-01-27T08:15:22.194Z"
   },
   {
    "duration": 1275,
    "start_time": "2022-01-27T08:15:25.983Z"
   },
   {
    "duration": 47,
    "start_time": "2022-01-27T08:15:27.262Z"
   },
   {
    "duration": 210,
    "start_time": "2022-01-27T08:15:27.311Z"
   },
   {
    "duration": 218,
    "start_time": "2022-01-27T08:15:27.868Z"
   },
   {
    "duration": 1108,
    "start_time": "2022-01-27T08:15:28.357Z"
   },
   {
    "duration": 150,
    "start_time": "2022-01-27T08:15:29.471Z"
   },
   {
    "duration": 860,
    "start_time": "2022-01-27T08:15:29.632Z"
   },
   {
    "duration": 6,
    "start_time": "2022-01-27T08:15:31.095Z"
   },
   {
    "duration": 66,
    "start_time": "2022-01-27T08:15:31.312Z"
   },
   {
    "duration": 373,
    "start_time": "2022-01-27T08:15:31.783Z"
   },
   {
    "duration": 10,
    "start_time": "2022-01-27T08:15:32.465Z"
   },
   {
    "duration": 55,
    "start_time": "2022-01-27T08:15:34.076Z"
   },
   {
    "duration": 83,
    "start_time": "2022-01-27T08:15:34.137Z"
   },
   {
    "duration": 51,
    "start_time": "2022-01-27T08:15:34.223Z"
   },
   {
    "duration": 148,
    "start_time": "2022-01-27T08:15:34.562Z"
   },
   {
    "duration": 53,
    "start_time": "2022-01-27T08:15:43.444Z"
   },
   {
    "duration": 39,
    "start_time": "2022-01-27T08:15:44.327Z"
   },
   {
    "duration": 100,
    "start_time": "2022-01-27T08:15:51.279Z"
   },
   {
    "duration": 168,
    "start_time": "2022-01-27T08:15:53.938Z"
   },
   {
    "duration": 202,
    "start_time": "2022-01-27T08:15:54.757Z"
   },
   {
    "duration": 60,
    "start_time": "2022-01-27T08:15:57.287Z"
   },
   {
    "duration": 933,
    "start_time": "2022-01-27T08:16:01.687Z"
   },
   {
    "duration": 360,
    "start_time": "2022-01-27T08:17:36.152Z"
   },
   {
    "duration": 459,
    "start_time": "2022-01-27T08:17:57.258Z"
   },
   {
    "duration": 364,
    "start_time": "2022-01-27T08:19:07.275Z"
   },
   {
    "duration": 349,
    "start_time": "2022-01-27T08:19:38.002Z"
   },
   {
    "duration": 712,
    "start_time": "2022-01-27T08:21:26.347Z"
   },
   {
    "duration": 756,
    "start_time": "2022-01-27T08:21:48.123Z"
   },
   {
    "duration": 727,
    "start_time": "2022-01-27T08:22:11.825Z"
   },
   {
    "duration": 691,
    "start_time": "2022-01-27T08:22:27.571Z"
   },
   {
    "duration": 834,
    "start_time": "2022-01-27T08:23:34.114Z"
   },
   {
    "duration": 359,
    "start_time": "2022-01-27T08:25:08.048Z"
   },
   {
    "duration": 288,
    "start_time": "2022-01-27T08:25:12.456Z"
   },
   {
    "duration": 348,
    "start_time": "2022-01-27T08:25:20.763Z"
   },
   {
    "duration": 349,
    "start_time": "2022-01-27T08:25:29.497Z"
   },
   {
    "duration": 346,
    "start_time": "2022-01-27T08:36:07.310Z"
   },
   {
    "duration": 343,
    "start_time": "2022-01-27T08:36:11.453Z"
   },
   {
    "duration": 17,
    "start_time": "2022-01-27T08:36:24.164Z"
   },
   {
    "duration": 380,
    "start_time": "2022-01-27T08:36:50.126Z"
   },
   {
    "duration": 304,
    "start_time": "2022-01-27T08:37:12.092Z"
   },
   {
    "duration": 7,
    "start_time": "2022-01-27T08:37:15.909Z"
   },
   {
    "duration": 47,
    "start_time": "2022-01-27T08:37:42.321Z"
   },
   {
    "duration": 374,
    "start_time": "2022-01-27T08:37:56.516Z"
   },
   {
    "duration": 358,
    "start_time": "2022-01-27T08:38:00.455Z"
   },
   {
    "duration": 719,
    "start_time": "2022-01-27T08:38:30.470Z"
   },
   {
    "duration": 812,
    "start_time": "2022-01-27T08:38:55.390Z"
   },
   {
    "duration": 737,
    "start_time": "2022-01-27T08:39:06.155Z"
   },
   {
    "duration": 484,
    "start_time": "2022-01-27T08:39:31.327Z"
   },
   {
    "duration": 4432,
    "start_time": "2022-01-27T08:39:39.038Z"
   },
   {
    "duration": 381,
    "start_time": "2022-01-27T08:40:36.946Z"
   },
   {
    "duration": 3860,
    "start_time": "2022-01-27T08:41:09.692Z"
   },
   {
    "duration": 9,
    "start_time": "2022-01-27T08:46:45.791Z"
   },
   {
    "duration": 9,
    "start_time": "2022-01-27T08:46:55.794Z"
   },
   {
    "duration": 9,
    "start_time": "2022-01-27T08:47:10.814Z"
   },
   {
    "duration": 11,
    "start_time": "2022-01-27T08:48:34.415Z"
   },
   {
    "duration": 2134,
    "start_time": "2022-01-27T09:17:41.426Z"
   },
   {
    "duration": 1487,
    "start_time": "2022-01-27T09:17:43.563Z"
   },
   {
    "duration": 45,
    "start_time": "2022-01-27T09:17:45.055Z"
   },
   {
    "duration": 286,
    "start_time": "2022-01-27T09:17:45.103Z"
   },
   {
    "duration": 315,
    "start_time": "2022-01-27T09:17:45.392Z"
   },
   {
    "duration": 1390,
    "start_time": "2022-01-27T09:17:45.710Z"
   },
   {
    "duration": 140,
    "start_time": "2022-01-27T09:17:47.103Z"
   },
   {
    "duration": 791,
    "start_time": "2022-01-27T09:17:47.248Z"
   },
   {
    "duration": 23,
    "start_time": "2022-01-27T09:17:48.048Z"
   },
   {
    "duration": 64,
    "start_time": "2022-01-27T09:17:48.074Z"
   },
   {
    "duration": 225,
    "start_time": "2022-01-27T09:17:48.142Z"
   },
   {
    "duration": 7,
    "start_time": "2022-01-27T09:17:48.370Z"
   },
   {
    "duration": 80,
    "start_time": "2022-01-27T09:17:48.380Z"
   },
   {
    "duration": 60,
    "start_time": "2022-01-27T09:17:48.462Z"
   },
   {
    "duration": 42,
    "start_time": "2022-01-27T09:17:48.524Z"
   },
   {
    "duration": 152,
    "start_time": "2022-01-27T09:17:48.569Z"
   },
   {
    "duration": 42,
    "start_time": "2022-01-27T09:17:48.724Z"
   },
   {
    "duration": 28,
    "start_time": "2022-01-27T09:17:48.769Z"
   },
   {
    "duration": 122,
    "start_time": "2022-01-27T09:17:48.800Z"
   },
   {
    "duration": 450,
    "start_time": "2022-01-27T09:17:48.932Z"
   },
   {
    "duration": 158,
    "start_time": "2022-01-27T09:17:49.385Z"
   },
   {
    "duration": 56,
    "start_time": "2022-01-27T09:17:49.546Z"
   },
   {
    "duration": 388,
    "start_time": "2022-01-27T09:17:49.608Z"
   },
   {
    "duration": 371,
    "start_time": "2022-01-27T09:17:49.999Z"
   },
   {
    "duration": 3721,
    "start_time": "2022-01-27T09:17:50.372Z"
   },
   {
    "duration": 8,
    "start_time": "2022-01-27T09:17:54.095Z"
   },
   {
    "duration": 34,
    "start_time": "2022-01-27T09:17:54.105Z"
   },
   {
    "duration": 39,
    "start_time": "2022-01-27T09:17:54.141Z"
   },
   {
    "duration": 132,
    "start_time": "2022-01-27T09:17:54.183Z"
   },
   {
    "duration": 45,
    "start_time": "2022-01-27T09:17:54.317Z"
   },
   {
    "duration": 143,
    "start_time": "2022-01-27T09:17:54.366Z"
   },
   {
    "duration": 4,
    "start_time": "2022-01-27T09:17:54.511Z"
   },
   {
    "duration": 138,
    "start_time": "2022-01-27T09:17:54.532Z"
   },
   {
    "duration": 571,
    "start_time": "2022-01-27T09:17:54.673Z"
   },
   {
    "duration": 2930,
    "start_time": "2022-01-27T09:17:55.248Z"
   },
   {
    "duration": 8041,
    "start_time": "2022-01-27T09:17:58.181Z"
   },
   {
    "duration": 1647,
    "start_time": "2022-01-27T09:18:51.678Z"
   },
   {
    "duration": 1164,
    "start_time": "2022-01-27T09:18:53.328Z"
   },
   {
    "duration": 56,
    "start_time": "2022-01-27T09:18:54.495Z"
   },
   {
    "duration": 221,
    "start_time": "2022-01-27T09:18:54.558Z"
   },
   {
    "duration": 201,
    "start_time": "2022-01-27T09:18:54.781Z"
   },
   {
    "duration": 1179,
    "start_time": "2022-01-27T09:18:54.985Z"
   },
   {
    "duration": 144,
    "start_time": "2022-01-27T09:18:56.166Z"
   },
   {
    "duration": 847,
    "start_time": "2022-01-27T09:18:56.314Z"
   },
   {
    "duration": 6,
    "start_time": "2022-01-27T09:18:57.165Z"
   },
   {
    "duration": 82,
    "start_time": "2022-01-27T09:18:57.176Z"
   },
   {
    "duration": 253,
    "start_time": "2022-01-27T09:18:57.262Z"
   },
   {
    "duration": 24,
    "start_time": "2022-01-27T09:18:57.518Z"
   },
   {
    "duration": 65,
    "start_time": "2022-01-27T09:18:57.544Z"
   },
   {
    "duration": 72,
    "start_time": "2022-01-27T09:18:57.611Z"
   },
   {
    "duration": 29,
    "start_time": "2022-01-27T09:18:57.685Z"
   },
   {
    "duration": 155,
    "start_time": "2022-01-27T09:18:57.732Z"
   },
   {
    "duration": 31,
    "start_time": "2022-01-27T09:18:57.890Z"
   },
   {
    "duration": 37,
    "start_time": "2022-01-27T09:18:57.924Z"
   },
   {
    "duration": 123,
    "start_time": "2022-01-27T09:18:57.964Z"
   },
   {
    "duration": 201,
    "start_time": "2022-01-27T09:18:58.089Z"
   },
   {
    "duration": 149,
    "start_time": "2022-01-27T09:18:58.292Z"
   },
   {
    "duration": 45,
    "start_time": "2022-01-27T09:18:58.444Z"
   },
   {
    "duration": 389,
    "start_time": "2022-01-27T09:18:58.495Z"
   },
   {
    "duration": 360,
    "start_time": "2022-01-27T09:18:58.887Z"
   },
   {
    "duration": 4256,
    "start_time": "2022-01-27T09:18:59.253Z"
   },
   {
    "duration": 8,
    "start_time": "2022-01-27T09:19:03.512Z"
   },
   {
    "duration": 17,
    "start_time": "2022-01-27T09:19:03.537Z"
   },
   {
    "duration": 42,
    "start_time": "2022-01-27T09:19:03.557Z"
   },
   {
    "duration": 116,
    "start_time": "2022-01-27T09:19:03.602Z"
   },
   {
    "duration": 40,
    "start_time": "2022-01-27T09:19:03.721Z"
   },
   {
    "duration": 135,
    "start_time": "2022-01-27T09:19:03.764Z"
   },
   {
    "duration": 4,
    "start_time": "2022-01-27T09:19:03.902Z"
   },
   {
    "duration": 162,
    "start_time": "2022-01-27T09:19:03.909Z"
   },
   {
    "duration": 788,
    "start_time": "2022-01-27T09:19:04.074Z"
   },
   {
    "duration": 2192,
    "start_time": "2022-01-27T09:19:04.865Z"
   },
   {
    "duration": 1397499,
    "start_time": "2022-01-27T09:19:07.060Z"
   },
   {
    "duration": 727606,
    "start_time": "2022-01-27T09:42:24.562Z"
   },
   {
    "duration": 7151,
    "start_time": "2022-01-27T11:16:37.873Z"
   },
   {
    "duration": 141876,
    "start_time": "2022-01-27T11:18:23.765Z"
   },
   {
    "duration": 136014,
    "start_time": "2022-01-27T11:22:54.825Z"
   },
   {
    "duration": 107299,
    "start_time": "2022-01-27T11:26:27.282Z"
   },
   {
    "duration": 13927,
    "start_time": "2022-01-27T11:28:23.187Z"
   },
   {
    "duration": 925272,
    "start_time": "2022-01-27T11:28:49.978Z"
   },
   {
    "duration": 169099,
    "start_time": "2022-01-27T11:49:51.018Z"
   },
   {
    "duration": 129,
    "start_time": "2022-01-27T11:52:40.121Z"
   },
   {
    "duration": 6,
    "start_time": "2022-01-27T11:52:40.253Z"
   },
   {
    "duration": 152661,
    "start_time": "2022-01-27T11:52:40.262Z"
   },
   {
    "duration": 430,
    "start_time": "2022-01-27T11:55:12.926Z"
   },
   {
    "duration": 7,
    "start_time": "2022-01-27T11:55:13.359Z"
   },
   {
    "duration": 367847,
    "start_time": "2022-01-27T11:59:08.198Z"
   },
   {
    "duration": 1113,
    "start_time": "2022-01-27T12:05:16.048Z"
   },
   {
    "duration": 6,
    "start_time": "2022-01-27T12:05:17.164Z"
   },
   {
    "duration": 27864,
    "start_time": "2022-01-27T12:05:17.172Z"
   },
   {
    "duration": 202,
    "start_time": "2022-01-27T12:05:45.038Z"
   },
   {
    "duration": 7,
    "start_time": "2022-01-27T12:05:45.244Z"
   },
   {
    "duration": 7799,
    "start_time": "2022-01-27T12:05:45.254Z"
   },
   {
    "duration": 157,
    "start_time": "2022-01-27T12:05:53.057Z"
   },
   {
    "duration": 6,
    "start_time": "2022-01-27T12:05:53.217Z"
   },
   {
    "duration": 728,
    "start_time": "2022-01-27T12:08:46.199Z"
   },
   {
    "duration": 26,
    "start_time": "2022-01-27T12:08:46.934Z"
   },
   {
    "duration": 5,
    "start_time": "2022-01-27T12:08:47.889Z"
   },
   {
    "duration": 25,
    "start_time": "2022-01-27T12:42:42.431Z"
   }
  ],
  "kernelspec": {
   "display_name": "Python 3 (ipykernel)",
   "language": "python",
   "name": "python3"
  },
  "language_info": {
   "codemirror_mode": {
    "name": "ipython",
    "version": 3
   },
   "file_extension": ".py",
   "mimetype": "text/x-python",
   "name": "python",
   "nbconvert_exporter": "python",
   "pygments_lexer": "ipython3",
   "version": "3.9.5"
  },
  "toc": {
   "base_numbering": 1,
   "nav_menu": {},
   "number_sections": true,
   "sideBar": true,
   "skip_h1_title": true,
   "title_cell": "Table of Contents",
   "title_sidebar": "Contents",
   "toc_cell": false,
   "toc_position": {},
   "toc_section_display": true,
   "toc_window_display": false
  }
 },
 "nbformat": 4,
 "nbformat_minor": 2
}
