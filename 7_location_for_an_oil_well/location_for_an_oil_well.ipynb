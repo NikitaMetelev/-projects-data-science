{
 "cells": [
  {
   "cell_type": "markdown",
   "metadata": {},
   "source": [
    "# Выбор локации для скважины"
   ]
  },
  {
   "cell_type": "markdown",
   "metadata": {},
   "source": [
    "Допустим, вы работаете в добывающей компании «ГлавРосГосНефть». Нужно решить, где бурить новую скважину.\n",
    "\n",
    "Вам предоставлены пробы нефти в трёх регионах: в каждом 10 000 месторождений, где измерили качество нефти и объём её запасов. Постройте модель машинного обучения, которая поможет определить регион, где добыча принесёт наибольшую прибыль. Проанализируйте возможную прибыль и риски техникой *Bootstrap.*\n",
    "\n",
    "Шаги для выбора локации:\n",
    "\n",
    "- В избранном регионе ищут месторождения, для каждого определяют значения признаков;\n",
    "- Строят модель и оценивают объём запасов;\n",
    "- Выбирают месторождения с самым высокими оценками значений. Количество месторождений зависит от бюджета компании и стоимости разработки одной скважины;\n",
    "- Прибыль равна суммарной прибыли отобранных месторождений."
   ]
  },
  {
   "cell_type": "markdown",
   "metadata": {},
   "source": [
    "## Загрузка и подготовка данных"
   ]
  },
  {
   "cell_type": "code",
   "execution_count": 1,
   "metadata": {},
   "outputs": [],
   "source": [
    "import pandas as pd\n",
    "import numpy as np \n",
    "import matplotlib.pyplot as plt\n",
    "\n",
    "import seaborn as sns\n",
    "\n",
    "from sklearn.model_selection import train_test_split\n",
    "from sklearn.metrics import accuracy_score\n",
    "from sklearn.linear_model import LinearRegression\n",
    "from sklearn.metrics import mean_squared_error\n",
    "from sklearn.preprocessing import StandardScaler"
   ]
  },
  {
   "cell_type": "markdown",
   "metadata": {},
   "source": [
    "Загрузим и просмотрим данные:"
   ]
  },
  {
   "cell_type": "code",
   "execution_count": 2,
   "metadata": {},
   "outputs": [],
   "source": [
    "df_0 = pd.read_csv('/datasets/geo_data_0.csv')\n",
    "df_1 = pd.read_csv('/datasets/geo_data_1.csv')\n",
    "df_2 = pd.read_csv('/datasets/geo_data_2.csv')"
   ]
  },
  {
   "cell_type": "code",
   "execution_count": 3,
   "metadata": {},
   "outputs": [
    {
     "data": {
      "text/html": [
       "<div>\n",
       "<style scoped>\n",
       "    .dataframe tbody tr th:only-of-type {\n",
       "        vertical-align: middle;\n",
       "    }\n",
       "\n",
       "    .dataframe tbody tr th {\n",
       "        vertical-align: top;\n",
       "    }\n",
       "\n",
       "    .dataframe thead th {\n",
       "        text-align: right;\n",
       "    }\n",
       "</style>\n",
       "<table border=\"1\" class=\"dataframe\">\n",
       "  <thead>\n",
       "    <tr style=\"text-align: right;\">\n",
       "      <th></th>\n",
       "      <th>id</th>\n",
       "      <th>f0</th>\n",
       "      <th>f1</th>\n",
       "      <th>f2</th>\n",
       "      <th>product</th>\n",
       "    </tr>\n",
       "  </thead>\n",
       "  <tbody>\n",
       "    <tr>\n",
       "      <td>0</td>\n",
       "      <td>txEyH</td>\n",
       "      <td>0.705745</td>\n",
       "      <td>-0.497823</td>\n",
       "      <td>1.221170</td>\n",
       "      <td>105.280062</td>\n",
       "    </tr>\n",
       "    <tr>\n",
       "      <td>1</td>\n",
       "      <td>2acmU</td>\n",
       "      <td>1.334711</td>\n",
       "      <td>-0.340164</td>\n",
       "      <td>4.365080</td>\n",
       "      <td>73.037750</td>\n",
       "    </tr>\n",
       "    <tr>\n",
       "      <td>2</td>\n",
       "      <td>409Wp</td>\n",
       "      <td>1.022732</td>\n",
       "      <td>0.151990</td>\n",
       "      <td>1.419926</td>\n",
       "      <td>85.265647</td>\n",
       "    </tr>\n",
       "    <tr>\n",
       "      <td>3</td>\n",
       "      <td>iJLyR</td>\n",
       "      <td>-0.032172</td>\n",
       "      <td>0.139033</td>\n",
       "      <td>2.978566</td>\n",
       "      <td>168.620776</td>\n",
       "    </tr>\n",
       "    <tr>\n",
       "      <td>4</td>\n",
       "      <td>Xdl7t</td>\n",
       "      <td>1.988431</td>\n",
       "      <td>0.155413</td>\n",
       "      <td>4.751769</td>\n",
       "      <td>154.036647</td>\n",
       "    </tr>\n",
       "    <tr>\n",
       "      <td>...</td>\n",
       "      <td>...</td>\n",
       "      <td>...</td>\n",
       "      <td>...</td>\n",
       "      <td>...</td>\n",
       "      <td>...</td>\n",
       "    </tr>\n",
       "    <tr>\n",
       "      <td>99995</td>\n",
       "      <td>DLsed</td>\n",
       "      <td>0.971957</td>\n",
       "      <td>0.370953</td>\n",
       "      <td>6.075346</td>\n",
       "      <td>110.744026</td>\n",
       "    </tr>\n",
       "    <tr>\n",
       "      <td>99996</td>\n",
       "      <td>QKivN</td>\n",
       "      <td>1.392429</td>\n",
       "      <td>-0.382606</td>\n",
       "      <td>1.273912</td>\n",
       "      <td>122.346843</td>\n",
       "    </tr>\n",
       "    <tr>\n",
       "      <td>99997</td>\n",
       "      <td>3rnvd</td>\n",
       "      <td>1.029585</td>\n",
       "      <td>0.018787</td>\n",
       "      <td>-1.348308</td>\n",
       "      <td>64.375443</td>\n",
       "    </tr>\n",
       "    <tr>\n",
       "      <td>99998</td>\n",
       "      <td>7kl59</td>\n",
       "      <td>0.998163</td>\n",
       "      <td>-0.528582</td>\n",
       "      <td>1.583869</td>\n",
       "      <td>74.040764</td>\n",
       "    </tr>\n",
       "    <tr>\n",
       "      <td>99999</td>\n",
       "      <td>1CWhH</td>\n",
       "      <td>1.764754</td>\n",
       "      <td>-0.266417</td>\n",
       "      <td>5.722849</td>\n",
       "      <td>149.633246</td>\n",
       "    </tr>\n",
       "  </tbody>\n",
       "</table>\n",
       "<p>100000 rows × 5 columns</p>\n",
       "</div>"
      ],
      "text/plain": [
       "          id        f0        f1        f2     product\n",
       "0      txEyH  0.705745 -0.497823  1.221170  105.280062\n",
       "1      2acmU  1.334711 -0.340164  4.365080   73.037750\n",
       "2      409Wp  1.022732  0.151990  1.419926   85.265647\n",
       "3      iJLyR -0.032172  0.139033  2.978566  168.620776\n",
       "4      Xdl7t  1.988431  0.155413  4.751769  154.036647\n",
       "...      ...       ...       ...       ...         ...\n",
       "99995  DLsed  0.971957  0.370953  6.075346  110.744026\n",
       "99996  QKivN  1.392429 -0.382606  1.273912  122.346843\n",
       "99997  3rnvd  1.029585  0.018787 -1.348308   64.375443\n",
       "99998  7kl59  0.998163 -0.528582  1.583869   74.040764\n",
       "99999  1CWhH  1.764754 -0.266417  5.722849  149.633246\n",
       "\n",
       "[100000 rows x 5 columns]"
      ]
     },
     "execution_count": 3,
     "metadata": {},
     "output_type": "execute_result"
    }
   ],
   "source": [
    "df_0"
   ]
  },
  {
   "cell_type": "code",
   "execution_count": 4,
   "metadata": {},
   "outputs": [
    {
     "data": {
      "text/html": [
       "<div>\n",
       "<style scoped>\n",
       "    .dataframe tbody tr th:only-of-type {\n",
       "        vertical-align: middle;\n",
       "    }\n",
       "\n",
       "    .dataframe tbody tr th {\n",
       "        vertical-align: top;\n",
       "    }\n",
       "\n",
       "    .dataframe thead th {\n",
       "        text-align: right;\n",
       "    }\n",
       "</style>\n",
       "<table border=\"1\" class=\"dataframe\">\n",
       "  <thead>\n",
       "    <tr style=\"text-align: right;\">\n",
       "      <th></th>\n",
       "      <th>id</th>\n",
       "      <th>f0</th>\n",
       "      <th>f1</th>\n",
       "      <th>f2</th>\n",
       "      <th>product</th>\n",
       "    </tr>\n",
       "  </thead>\n",
       "  <tbody>\n",
       "    <tr>\n",
       "      <td>0</td>\n",
       "      <td>kBEdx</td>\n",
       "      <td>-15.001348</td>\n",
       "      <td>-8.276000</td>\n",
       "      <td>-0.005876</td>\n",
       "      <td>3.179103</td>\n",
       "    </tr>\n",
       "    <tr>\n",
       "      <td>1</td>\n",
       "      <td>62mP7</td>\n",
       "      <td>14.272088</td>\n",
       "      <td>-3.475083</td>\n",
       "      <td>0.999183</td>\n",
       "      <td>26.953261</td>\n",
       "    </tr>\n",
       "    <tr>\n",
       "      <td>2</td>\n",
       "      <td>vyE1P</td>\n",
       "      <td>6.263187</td>\n",
       "      <td>-5.948386</td>\n",
       "      <td>5.001160</td>\n",
       "      <td>134.766305</td>\n",
       "    </tr>\n",
       "    <tr>\n",
       "      <td>3</td>\n",
       "      <td>KcrkZ</td>\n",
       "      <td>-13.081196</td>\n",
       "      <td>-11.506057</td>\n",
       "      <td>4.999415</td>\n",
       "      <td>137.945408</td>\n",
       "    </tr>\n",
       "    <tr>\n",
       "      <td>4</td>\n",
       "      <td>AHL4O</td>\n",
       "      <td>12.702195</td>\n",
       "      <td>-8.147433</td>\n",
       "      <td>5.004363</td>\n",
       "      <td>134.766305</td>\n",
       "    </tr>\n",
       "    <tr>\n",
       "      <td>...</td>\n",
       "      <td>...</td>\n",
       "      <td>...</td>\n",
       "      <td>...</td>\n",
       "      <td>...</td>\n",
       "      <td>...</td>\n",
       "    </tr>\n",
       "    <tr>\n",
       "      <td>99995</td>\n",
       "      <td>QywKC</td>\n",
       "      <td>9.535637</td>\n",
       "      <td>-6.878139</td>\n",
       "      <td>1.998296</td>\n",
       "      <td>53.906522</td>\n",
       "    </tr>\n",
       "    <tr>\n",
       "      <td>99996</td>\n",
       "      <td>ptvty</td>\n",
       "      <td>-10.160631</td>\n",
       "      <td>-12.558096</td>\n",
       "      <td>5.005581</td>\n",
       "      <td>137.945408</td>\n",
       "    </tr>\n",
       "    <tr>\n",
       "      <td>99997</td>\n",
       "      <td>09gWa</td>\n",
       "      <td>-7.378891</td>\n",
       "      <td>-3.084104</td>\n",
       "      <td>4.998651</td>\n",
       "      <td>137.945408</td>\n",
       "    </tr>\n",
       "    <tr>\n",
       "      <td>99998</td>\n",
       "      <td>rqwUm</td>\n",
       "      <td>0.665714</td>\n",
       "      <td>-6.152593</td>\n",
       "      <td>1.000146</td>\n",
       "      <td>30.132364</td>\n",
       "    </tr>\n",
       "    <tr>\n",
       "      <td>99999</td>\n",
       "      <td>relB0</td>\n",
       "      <td>-3.426139</td>\n",
       "      <td>-7.794274</td>\n",
       "      <td>-0.003299</td>\n",
       "      <td>3.179103</td>\n",
       "    </tr>\n",
       "  </tbody>\n",
       "</table>\n",
       "<p>100000 rows × 5 columns</p>\n",
       "</div>"
      ],
      "text/plain": [
       "          id         f0         f1        f2     product\n",
       "0      kBEdx -15.001348  -8.276000 -0.005876    3.179103\n",
       "1      62mP7  14.272088  -3.475083  0.999183   26.953261\n",
       "2      vyE1P   6.263187  -5.948386  5.001160  134.766305\n",
       "3      KcrkZ -13.081196 -11.506057  4.999415  137.945408\n",
       "4      AHL4O  12.702195  -8.147433  5.004363  134.766305\n",
       "...      ...        ...        ...       ...         ...\n",
       "99995  QywKC   9.535637  -6.878139  1.998296   53.906522\n",
       "99996  ptvty -10.160631 -12.558096  5.005581  137.945408\n",
       "99997  09gWa  -7.378891  -3.084104  4.998651  137.945408\n",
       "99998  rqwUm   0.665714  -6.152593  1.000146   30.132364\n",
       "99999  relB0  -3.426139  -7.794274 -0.003299    3.179103\n",
       "\n",
       "[100000 rows x 5 columns]"
      ]
     },
     "execution_count": 4,
     "metadata": {},
     "output_type": "execute_result"
    }
   ],
   "source": [
    "df_1"
   ]
  },
  {
   "cell_type": "code",
   "execution_count": 5,
   "metadata": {},
   "outputs": [
    {
     "data": {
      "text/html": [
       "<div>\n",
       "<style scoped>\n",
       "    .dataframe tbody tr th:only-of-type {\n",
       "        vertical-align: middle;\n",
       "    }\n",
       "\n",
       "    .dataframe tbody tr th {\n",
       "        vertical-align: top;\n",
       "    }\n",
       "\n",
       "    .dataframe thead th {\n",
       "        text-align: right;\n",
       "    }\n",
       "</style>\n",
       "<table border=\"1\" class=\"dataframe\">\n",
       "  <thead>\n",
       "    <tr style=\"text-align: right;\">\n",
       "      <th></th>\n",
       "      <th>id</th>\n",
       "      <th>f0</th>\n",
       "      <th>f1</th>\n",
       "      <th>f2</th>\n",
       "      <th>product</th>\n",
       "    </tr>\n",
       "  </thead>\n",
       "  <tbody>\n",
       "    <tr>\n",
       "      <td>0</td>\n",
       "      <td>fwXo0</td>\n",
       "      <td>-1.146987</td>\n",
       "      <td>0.963328</td>\n",
       "      <td>-0.828965</td>\n",
       "      <td>27.758673</td>\n",
       "    </tr>\n",
       "    <tr>\n",
       "      <td>1</td>\n",
       "      <td>WJtFt</td>\n",
       "      <td>0.262778</td>\n",
       "      <td>0.269839</td>\n",
       "      <td>-2.530187</td>\n",
       "      <td>56.069697</td>\n",
       "    </tr>\n",
       "    <tr>\n",
       "      <td>2</td>\n",
       "      <td>ovLUW</td>\n",
       "      <td>0.194587</td>\n",
       "      <td>0.289035</td>\n",
       "      <td>-5.586433</td>\n",
       "      <td>62.871910</td>\n",
       "    </tr>\n",
       "    <tr>\n",
       "      <td>3</td>\n",
       "      <td>q6cA6</td>\n",
       "      <td>2.236060</td>\n",
       "      <td>-0.553760</td>\n",
       "      <td>0.930038</td>\n",
       "      <td>114.572842</td>\n",
       "    </tr>\n",
       "    <tr>\n",
       "      <td>4</td>\n",
       "      <td>WPMUX</td>\n",
       "      <td>-0.515993</td>\n",
       "      <td>1.716266</td>\n",
       "      <td>5.899011</td>\n",
       "      <td>149.600746</td>\n",
       "    </tr>\n",
       "    <tr>\n",
       "      <td>...</td>\n",
       "      <td>...</td>\n",
       "      <td>...</td>\n",
       "      <td>...</td>\n",
       "      <td>...</td>\n",
       "      <td>...</td>\n",
       "    </tr>\n",
       "    <tr>\n",
       "      <td>99995</td>\n",
       "      <td>4GxBu</td>\n",
       "      <td>-1.777037</td>\n",
       "      <td>1.125220</td>\n",
       "      <td>6.263374</td>\n",
       "      <td>172.327046</td>\n",
       "    </tr>\n",
       "    <tr>\n",
       "      <td>99996</td>\n",
       "      <td>YKFjq</td>\n",
       "      <td>-1.261523</td>\n",
       "      <td>-0.894828</td>\n",
       "      <td>2.524545</td>\n",
       "      <td>138.748846</td>\n",
       "    </tr>\n",
       "    <tr>\n",
       "      <td>99997</td>\n",
       "      <td>tKPY3</td>\n",
       "      <td>-1.199934</td>\n",
       "      <td>-2.957637</td>\n",
       "      <td>5.219411</td>\n",
       "      <td>157.080080</td>\n",
       "    </tr>\n",
       "    <tr>\n",
       "      <td>99998</td>\n",
       "      <td>nmxp2</td>\n",
       "      <td>-2.419896</td>\n",
       "      <td>2.417221</td>\n",
       "      <td>-5.548444</td>\n",
       "      <td>51.795253</td>\n",
       "    </tr>\n",
       "    <tr>\n",
       "      <td>99999</td>\n",
       "      <td>V9kWn</td>\n",
       "      <td>-2.551421</td>\n",
       "      <td>-2.025625</td>\n",
       "      <td>6.090891</td>\n",
       "      <td>102.775767</td>\n",
       "    </tr>\n",
       "  </tbody>\n",
       "</table>\n",
       "<p>100000 rows × 5 columns</p>\n",
       "</div>"
      ],
      "text/plain": [
       "          id        f0        f1        f2     product\n",
       "0      fwXo0 -1.146987  0.963328 -0.828965   27.758673\n",
       "1      WJtFt  0.262778  0.269839 -2.530187   56.069697\n",
       "2      ovLUW  0.194587  0.289035 -5.586433   62.871910\n",
       "3      q6cA6  2.236060 -0.553760  0.930038  114.572842\n",
       "4      WPMUX -0.515993  1.716266  5.899011  149.600746\n",
       "...      ...       ...       ...       ...         ...\n",
       "99995  4GxBu -1.777037  1.125220  6.263374  172.327046\n",
       "99996  YKFjq -1.261523 -0.894828  2.524545  138.748846\n",
       "99997  tKPY3 -1.199934 -2.957637  5.219411  157.080080\n",
       "99998  nmxp2 -2.419896  2.417221 -5.548444   51.795253\n",
       "99999  V9kWn -2.551421 -2.025625  6.090891  102.775767\n",
       "\n",
       "[100000 rows x 5 columns]"
      ]
     },
     "execution_count": 5,
     "metadata": {},
     "output_type": "execute_result"
    }
   ],
   "source": [
    "df_2"
   ]
  },
  {
   "cell_type": "code",
   "execution_count": 6,
   "metadata": {},
   "outputs": [
    {
     "name": "stdout",
     "output_type": "stream",
     "text": [
      "<class 'pandas.core.frame.DataFrame'>\n",
      "RangeIndex: 100000 entries, 0 to 99999\n",
      "Data columns (total 5 columns):\n",
      "id         100000 non-null object\n",
      "f0         100000 non-null float64\n",
      "f1         100000 non-null float64\n",
      "f2         100000 non-null float64\n",
      "product    100000 non-null float64\n",
      "dtypes: float64(4), object(1)\n",
      "memory usage: 3.8+ MB\n"
     ]
    }
   ],
   "source": [
    "df_0.info()"
   ]
  },
  {
   "cell_type": "code",
   "execution_count": 7,
   "metadata": {},
   "outputs": [
    {
     "name": "stdout",
     "output_type": "stream",
     "text": [
      "<class 'pandas.core.frame.DataFrame'>\n",
      "RangeIndex: 100000 entries, 0 to 99999\n",
      "Data columns (total 5 columns):\n",
      "id         100000 non-null object\n",
      "f0         100000 non-null float64\n",
      "f1         100000 non-null float64\n",
      "f2         100000 non-null float64\n",
      "product    100000 non-null float64\n",
      "dtypes: float64(4), object(1)\n",
      "memory usage: 3.8+ MB\n"
     ]
    }
   ],
   "source": [
    "df_1.info()"
   ]
  },
  {
   "cell_type": "code",
   "execution_count": 8,
   "metadata": {},
   "outputs": [
    {
     "name": "stdout",
     "output_type": "stream",
     "text": [
      "<class 'pandas.core.frame.DataFrame'>\n",
      "RangeIndex: 100000 entries, 0 to 99999\n",
      "Data columns (total 5 columns):\n",
      "id         100000 non-null object\n",
      "f0         100000 non-null float64\n",
      "f1         100000 non-null float64\n",
      "f2         100000 non-null float64\n",
      "product    100000 non-null float64\n",
      "dtypes: float64(4), object(1)\n",
      "memory usage: 3.8+ MB\n"
     ]
    }
   ],
   "source": [
    "df_2.info()"
   ]
  },
  {
   "cell_type": "markdown",
   "metadata": {},
   "source": [
    "У нас данные по 3 регионам, в каждом информация о 100 000 скважин, с объемом запасов и 3 скрытыми параметрами.\n",
    "Пропущенных значений нет"
   ]
  },
  {
   "cell_type": "markdown",
   "metadata": {},
   "source": [
    "Просмотрим статистики по каждому показателю:"
   ]
  },
  {
   "cell_type": "code",
   "execution_count": 9,
   "metadata": {},
   "outputs": [
    {
     "data": {
      "text/html": [
       "<div>\n",
       "<style scoped>\n",
       "    .dataframe tbody tr th:only-of-type {\n",
       "        vertical-align: middle;\n",
       "    }\n",
       "\n",
       "    .dataframe tbody tr th {\n",
       "        vertical-align: top;\n",
       "    }\n",
       "\n",
       "    .dataframe thead th {\n",
       "        text-align: right;\n",
       "    }\n",
       "</style>\n",
       "<table border=\"1\" class=\"dataframe\">\n",
       "  <thead>\n",
       "    <tr style=\"text-align: right;\">\n",
       "      <th></th>\n",
       "      <th>count</th>\n",
       "      <th>mean</th>\n",
       "      <th>std</th>\n",
       "      <th>min</th>\n",
       "      <th>25%</th>\n",
       "      <th>50%</th>\n",
       "      <th>75%</th>\n",
       "      <th>max</th>\n",
       "    </tr>\n",
       "  </thead>\n",
       "  <tbody>\n",
       "    <tr>\n",
       "      <td>f0</td>\n",
       "      <td>100000.0</td>\n",
       "      <td>0.500419</td>\n",
       "      <td>0.871832</td>\n",
       "      <td>-1.408605</td>\n",
       "      <td>-0.072580</td>\n",
       "      <td>0.502360</td>\n",
       "      <td>1.073581</td>\n",
       "      <td>2.362331</td>\n",
       "    </tr>\n",
       "    <tr>\n",
       "      <td>f1</td>\n",
       "      <td>100000.0</td>\n",
       "      <td>0.250143</td>\n",
       "      <td>0.504433</td>\n",
       "      <td>-0.848218</td>\n",
       "      <td>-0.200881</td>\n",
       "      <td>0.250252</td>\n",
       "      <td>0.700646</td>\n",
       "      <td>1.343769</td>\n",
       "    </tr>\n",
       "    <tr>\n",
       "      <td>f2</td>\n",
       "      <td>100000.0</td>\n",
       "      <td>2.502647</td>\n",
       "      <td>3.248248</td>\n",
       "      <td>-12.088328</td>\n",
       "      <td>0.287748</td>\n",
       "      <td>2.515969</td>\n",
       "      <td>4.715088</td>\n",
       "      <td>16.003790</td>\n",
       "    </tr>\n",
       "    <tr>\n",
       "      <td>product</td>\n",
       "      <td>100000.0</td>\n",
       "      <td>92.500000</td>\n",
       "      <td>44.288691</td>\n",
       "      <td>0.000000</td>\n",
       "      <td>56.497507</td>\n",
       "      <td>91.849972</td>\n",
       "      <td>128.564089</td>\n",
       "      <td>185.364347</td>\n",
       "    </tr>\n",
       "  </tbody>\n",
       "</table>\n",
       "</div>"
      ],
      "text/plain": [
       "            count       mean        std        min        25%        50%  \\\n",
       "f0       100000.0   0.500419   0.871832  -1.408605  -0.072580   0.502360   \n",
       "f1       100000.0   0.250143   0.504433  -0.848218  -0.200881   0.250252   \n",
       "f2       100000.0   2.502647   3.248248 -12.088328   0.287748   2.515969   \n",
       "product  100000.0  92.500000  44.288691   0.000000  56.497507  91.849972   \n",
       "\n",
       "                75%         max  \n",
       "f0         1.073581    2.362331  \n",
       "f1         0.700646    1.343769  \n",
       "f2         4.715088   16.003790  \n",
       "product  128.564089  185.364347  "
      ]
     },
     "execution_count": 9,
     "metadata": {},
     "output_type": "execute_result"
    }
   ],
   "source": [
    "df_0.describe().transpose()"
   ]
  },
  {
   "cell_type": "code",
   "execution_count": 10,
   "metadata": {},
   "outputs": [
    {
     "data": {
      "text/html": [
       "<div>\n",
       "<style scoped>\n",
       "    .dataframe tbody tr th:only-of-type {\n",
       "        vertical-align: middle;\n",
       "    }\n",
       "\n",
       "    .dataframe tbody tr th {\n",
       "        vertical-align: top;\n",
       "    }\n",
       "\n",
       "    .dataframe thead th {\n",
       "        text-align: right;\n",
       "    }\n",
       "</style>\n",
       "<table border=\"1\" class=\"dataframe\">\n",
       "  <thead>\n",
       "    <tr style=\"text-align: right;\">\n",
       "      <th></th>\n",
       "      <th>count</th>\n",
       "      <th>mean</th>\n",
       "      <th>std</th>\n",
       "      <th>min</th>\n",
       "      <th>25%</th>\n",
       "      <th>50%</th>\n",
       "      <th>75%</th>\n",
       "      <th>max</th>\n",
       "    </tr>\n",
       "  </thead>\n",
       "  <tbody>\n",
       "    <tr>\n",
       "      <td>f0</td>\n",
       "      <td>100000.0</td>\n",
       "      <td>1.141296</td>\n",
       "      <td>8.965932</td>\n",
       "      <td>-31.609576</td>\n",
       "      <td>-6.298551</td>\n",
       "      <td>1.153055</td>\n",
       "      <td>8.621015</td>\n",
       "      <td>29.421755</td>\n",
       "    </tr>\n",
       "    <tr>\n",
       "      <td>f1</td>\n",
       "      <td>100000.0</td>\n",
       "      <td>-4.796579</td>\n",
       "      <td>5.119872</td>\n",
       "      <td>-26.358598</td>\n",
       "      <td>-8.267985</td>\n",
       "      <td>-4.813172</td>\n",
       "      <td>-1.332816</td>\n",
       "      <td>18.734063</td>\n",
       "    </tr>\n",
       "    <tr>\n",
       "      <td>f2</td>\n",
       "      <td>100000.0</td>\n",
       "      <td>2.494541</td>\n",
       "      <td>1.703572</td>\n",
       "      <td>-0.018144</td>\n",
       "      <td>1.000021</td>\n",
       "      <td>2.011479</td>\n",
       "      <td>3.999904</td>\n",
       "      <td>5.019721</td>\n",
       "    </tr>\n",
       "    <tr>\n",
       "      <td>product</td>\n",
       "      <td>100000.0</td>\n",
       "      <td>68.825000</td>\n",
       "      <td>45.944423</td>\n",
       "      <td>0.000000</td>\n",
       "      <td>26.953261</td>\n",
       "      <td>57.085625</td>\n",
       "      <td>107.813044</td>\n",
       "      <td>137.945408</td>\n",
       "    </tr>\n",
       "  </tbody>\n",
       "</table>\n",
       "</div>"
      ],
      "text/plain": [
       "            count       mean        std        min        25%        50%  \\\n",
       "f0       100000.0   1.141296   8.965932 -31.609576  -6.298551   1.153055   \n",
       "f1       100000.0  -4.796579   5.119872 -26.358598  -8.267985  -4.813172   \n",
       "f2       100000.0   2.494541   1.703572  -0.018144   1.000021   2.011479   \n",
       "product  100000.0  68.825000  45.944423   0.000000  26.953261  57.085625   \n",
       "\n",
       "                75%         max  \n",
       "f0         8.621015   29.421755  \n",
       "f1        -1.332816   18.734063  \n",
       "f2         3.999904    5.019721  \n",
       "product  107.813044  137.945408  "
      ]
     },
     "execution_count": 10,
     "metadata": {},
     "output_type": "execute_result"
    }
   ],
   "source": [
    "df_1.describe().transpose()"
   ]
  },
  {
   "cell_type": "code",
   "execution_count": 11,
   "metadata": {},
   "outputs": [
    {
     "data": {
      "text/html": [
       "<div>\n",
       "<style scoped>\n",
       "    .dataframe tbody tr th:only-of-type {\n",
       "        vertical-align: middle;\n",
       "    }\n",
       "\n",
       "    .dataframe tbody tr th {\n",
       "        vertical-align: top;\n",
       "    }\n",
       "\n",
       "    .dataframe thead th {\n",
       "        text-align: right;\n",
       "    }\n",
       "</style>\n",
       "<table border=\"1\" class=\"dataframe\">\n",
       "  <thead>\n",
       "    <tr style=\"text-align: right;\">\n",
       "      <th></th>\n",
       "      <th>count</th>\n",
       "      <th>mean</th>\n",
       "      <th>std</th>\n",
       "      <th>min</th>\n",
       "      <th>25%</th>\n",
       "      <th>50%</th>\n",
       "      <th>75%</th>\n",
       "      <th>max</th>\n",
       "    </tr>\n",
       "  </thead>\n",
       "  <tbody>\n",
       "    <tr>\n",
       "      <td>f0</td>\n",
       "      <td>100000.0</td>\n",
       "      <td>0.002023</td>\n",
       "      <td>1.732045</td>\n",
       "      <td>-8.760004</td>\n",
       "      <td>-1.162288</td>\n",
       "      <td>0.009424</td>\n",
       "      <td>1.158535</td>\n",
       "      <td>7.238262</td>\n",
       "    </tr>\n",
       "    <tr>\n",
       "      <td>f1</td>\n",
       "      <td>100000.0</td>\n",
       "      <td>-0.002081</td>\n",
       "      <td>1.730417</td>\n",
       "      <td>-7.084020</td>\n",
       "      <td>-1.174820</td>\n",
       "      <td>-0.009482</td>\n",
       "      <td>1.163678</td>\n",
       "      <td>7.844801</td>\n",
       "    </tr>\n",
       "    <tr>\n",
       "      <td>f2</td>\n",
       "      <td>100000.0</td>\n",
       "      <td>2.495128</td>\n",
       "      <td>3.473445</td>\n",
       "      <td>-11.970335</td>\n",
       "      <td>0.130359</td>\n",
       "      <td>2.484236</td>\n",
       "      <td>4.858794</td>\n",
       "      <td>16.739402</td>\n",
       "    </tr>\n",
       "    <tr>\n",
       "      <td>product</td>\n",
       "      <td>100000.0</td>\n",
       "      <td>95.000000</td>\n",
       "      <td>44.749921</td>\n",
       "      <td>0.000000</td>\n",
       "      <td>59.450441</td>\n",
       "      <td>94.925613</td>\n",
       "      <td>130.595027</td>\n",
       "      <td>190.029838</td>\n",
       "    </tr>\n",
       "  </tbody>\n",
       "</table>\n",
       "</div>"
      ],
      "text/plain": [
       "            count       mean        std        min        25%        50%  \\\n",
       "f0       100000.0   0.002023   1.732045  -8.760004  -1.162288   0.009424   \n",
       "f1       100000.0  -0.002081   1.730417  -7.084020  -1.174820  -0.009482   \n",
       "f2       100000.0   2.495128   3.473445 -11.970335   0.130359   2.484236   \n",
       "product  100000.0  95.000000  44.749921   0.000000  59.450441  94.925613   \n",
       "\n",
       "                75%         max  \n",
       "f0         1.158535    7.238262  \n",
       "f1         1.163678    7.844801  \n",
       "f2         4.858794   16.739402  \n",
       "product  130.595027  190.029838  "
      ]
     },
     "execution_count": 11,
     "metadata": {},
     "output_type": "execute_result"
    }
   ],
   "source": [
    "df_2.describe().transpose()"
   ]
  },
  {
   "cell_type": "markdown",
   "metadata": {},
   "source": [
    "В регионах 0 и 2 близки статистики продуктивности и признака f2, при этом существенное отличаются признаки f0 и f1  \n",
    "Средняя продуктивность региона 1 в 1,5 ниже чем в других, статистики признаков существенно отличаются"
   ]
  },
  {
   "cell_type": "markdown",
   "metadata": {},
   "source": [
    "Проверим наличие повторов скважин:"
   ]
  },
  {
   "cell_type": "code",
   "execution_count": 12,
   "metadata": {},
   "outputs": [
    {
     "data": {
      "text/plain": [
       "99990"
      ]
     },
     "execution_count": 12,
     "metadata": {},
     "output_type": "execute_result"
    }
   ],
   "source": [
    "len(df_0['id'].unique())"
   ]
  },
  {
   "cell_type": "code",
   "execution_count": 13,
   "metadata": {},
   "outputs": [
    {
     "data": {
      "text/plain": [
       "99996"
      ]
     },
     "execution_count": 13,
     "metadata": {},
     "output_type": "execute_result"
    }
   ],
   "source": [
    "len(df_1['id'].unique())"
   ]
  },
  {
   "cell_type": "code",
   "execution_count": 14,
   "metadata": {},
   "outputs": [
    {
     "data": {
      "text/plain": [
       "99996"
      ]
     },
     "execution_count": 14,
     "metadata": {},
     "output_type": "execute_result"
    }
   ],
   "source": [
    "len(df_2['id'].unique())"
   ]
  },
  {
   "cell_type": "markdown",
   "metadata": {},
   "source": [
    "Из 10 000 строк 4 -10 не уникальны, этим можно пренебречь.  \n",
    "Столбец с ID  нам не нужен для анализа и прогноза, удалим его:"
   ]
  },
  {
   "cell_type": "code",
   "execution_count": 15,
   "metadata": {},
   "outputs": [],
   "source": [
    "df_0 = df_0.drop(['id'], axis = 1)\n",
    "df_1 = df_1.drop(['id'], axis = 1)\n",
    "df_2 = df_2.drop(['id'], axis = 1)"
   ]
  },
  {
   "cell_type": "markdown",
   "metadata": {},
   "source": [
    "проверим результат:"
   ]
  },
  {
   "cell_type": "code",
   "execution_count": 16,
   "metadata": {},
   "outputs": [
    {
     "data": {
      "text/html": [
       "<div>\n",
       "<style scoped>\n",
       "    .dataframe tbody tr th:only-of-type {\n",
       "        vertical-align: middle;\n",
       "    }\n",
       "\n",
       "    .dataframe tbody tr th {\n",
       "        vertical-align: top;\n",
       "    }\n",
       "\n",
       "    .dataframe thead th {\n",
       "        text-align: right;\n",
       "    }\n",
       "</style>\n",
       "<table border=\"1\" class=\"dataframe\">\n",
       "  <thead>\n",
       "    <tr style=\"text-align: right;\">\n",
       "      <th></th>\n",
       "      <th>f0</th>\n",
       "      <th>f1</th>\n",
       "      <th>f2</th>\n",
       "      <th>product</th>\n",
       "    </tr>\n",
       "  </thead>\n",
       "  <tbody>\n",
       "    <tr>\n",
       "      <td>0</td>\n",
       "      <td>-15.001348</td>\n",
       "      <td>-8.276000</td>\n",
       "      <td>-0.005876</td>\n",
       "      <td>3.179103</td>\n",
       "    </tr>\n",
       "    <tr>\n",
       "      <td>1</td>\n",
       "      <td>14.272088</td>\n",
       "      <td>-3.475083</td>\n",
       "      <td>0.999183</td>\n",
       "      <td>26.953261</td>\n",
       "    </tr>\n",
       "    <tr>\n",
       "      <td>2</td>\n",
       "      <td>6.263187</td>\n",
       "      <td>-5.948386</td>\n",
       "      <td>5.001160</td>\n",
       "      <td>134.766305</td>\n",
       "    </tr>\n",
       "    <tr>\n",
       "      <td>3</td>\n",
       "      <td>-13.081196</td>\n",
       "      <td>-11.506057</td>\n",
       "      <td>4.999415</td>\n",
       "      <td>137.945408</td>\n",
       "    </tr>\n",
       "    <tr>\n",
       "      <td>4</td>\n",
       "      <td>12.702195</td>\n",
       "      <td>-8.147433</td>\n",
       "      <td>5.004363</td>\n",
       "      <td>134.766305</td>\n",
       "    </tr>\n",
       "  </tbody>\n",
       "</table>\n",
       "</div>"
      ],
      "text/plain": [
       "          f0         f1        f2     product\n",
       "0 -15.001348  -8.276000 -0.005876    3.179103\n",
       "1  14.272088  -3.475083  0.999183   26.953261\n",
       "2   6.263187  -5.948386  5.001160  134.766305\n",
       "3 -13.081196 -11.506057  4.999415  137.945408\n",
       "4  12.702195  -8.147433  5.004363  134.766305"
      ]
     },
     "execution_count": 16,
     "metadata": {},
     "output_type": "execute_result"
    }
   ],
   "source": [
    "df_1.head()"
   ]
  },
  {
   "cell_type": "markdown",
   "metadata": {},
   "source": [
    "Построим корреляциооные матрицы для каждого региона, чтобы проследить влияние признаков на продукт и друг на друга:"
   ]
  },
  {
   "cell_type": "code",
   "execution_count": 17,
   "metadata": {},
   "outputs": [
    {
     "data": {
      "image/png": "[encoded data removed]",
      "text/plain": [
       "<Figure size 432x288 with 2 Axes>"
      ]
     },
     "metadata": {
      "needs_background": "light"
     },
     "output_type": "display_data"
    }
   ],
   "source": [
    "sns.heatmap(df_0.corr(), annot = True, vmin=-1, vmax=1, center= 0, cmap= 'coolwarm')\n",
    "plt.title(\"Регион 0\");"
   ]
  },
  {
   "cell_type": "code",
   "execution_count": 18,
   "metadata": {},
   "outputs": [
    {
     "data": {
      "image/png": "[encoded data removed]",
      "text/plain": [
       "<Figure size 432x288 with 2 Axes>"
      ]
     },
     "metadata": {
      "needs_background": "light"
     },
     "output_type": "display_data"
    }
   ],
   "source": [
    "sns.heatmap(df_1.corr(), annot = True, vmin=-1, vmax=1, center= 0, cmap= 'coolwarm')\n",
    "plt.title(\"Регион 1\");"
   ]
  },
  {
   "cell_type": "code",
   "execution_count": 19,
   "metadata": {},
   "outputs": [
    {
     "data": {
      "text/html": [
       "<div>\n",
       "<style scoped>\n",
       "    .dataframe tbody tr th:only-of-type {\n",
       "        vertical-align: middle;\n",
       "    }\n",
       "\n",
       "    .dataframe tbody tr th {\n",
       "        vertical-align: top;\n",
       "    }\n",
       "\n",
       "    .dataframe thead th {\n",
       "        text-align: right;\n",
       "    }\n",
       "</style>\n",
       "<table border=\"1\" class=\"dataframe\">\n",
       "  <thead>\n",
       "    <tr style=\"text-align: right;\">\n",
       "      <th></th>\n",
       "      <th>f0</th>\n",
       "      <th>f1</th>\n",
       "      <th>f2</th>\n",
       "      <th>product</th>\n",
       "    </tr>\n",
       "  </thead>\n",
       "  <tbody>\n",
       "    <tr>\n",
       "      <td>f0</td>\n",
       "      <td>1.000000</td>\n",
       "      <td>0.182287</td>\n",
       "      <td>-0.001777</td>\n",
       "      <td>-0.030491</td>\n",
       "    </tr>\n",
       "    <tr>\n",
       "      <td>f1</td>\n",
       "      <td>0.182287</td>\n",
       "      <td>1.000000</td>\n",
       "      <td>-0.002595</td>\n",
       "      <td>-0.010155</td>\n",
       "    </tr>\n",
       "    <tr>\n",
       "      <td>f2</td>\n",
       "      <td>-0.001777</td>\n",
       "      <td>-0.002595</td>\n",
       "      <td>1.000000</td>\n",
       "      <td>0.999397</td>\n",
       "    </tr>\n",
       "    <tr>\n",
       "      <td>product</td>\n",
       "      <td>-0.030491</td>\n",
       "      <td>-0.010155</td>\n",
       "      <td>0.999397</td>\n",
       "      <td>1.000000</td>\n",
       "    </tr>\n",
       "  </tbody>\n",
       "</table>\n",
       "</div>"
      ],
      "text/plain": [
       "               f0        f1        f2   product\n",
       "f0       1.000000  0.182287 -0.001777 -0.030491\n",
       "f1       0.182287  1.000000 -0.002595 -0.010155\n",
       "f2      -0.001777 -0.002595  1.000000  0.999397\n",
       "product -0.030491 -0.010155  0.999397  1.000000"
      ]
     },
     "execution_count": 19,
     "metadata": {},
     "output_type": "execute_result"
    }
   ],
   "source": [
    "df_1.corr(method ='pearson')"
   ]
  },
  {
   "cell_type": "code",
   "execution_count": 20,
   "metadata": {},
   "outputs": [
    {
     "data": {
      "image/png": "[encoded data removed]",
      "text/plain": [
       "<Figure size 432x288 with 2 Axes>"
      ]
     },
     "metadata": {
      "needs_background": "light"
     },
     "output_type": "display_data"
    }
   ],
   "source": [
    "sns.heatmap(df_2.corr(), annot = True, vmin=-1, vmax=1, center= 0, cmap= 'coolwarm')\n",
    "plt.title(\"Регион 2\");"
   ]
  },
  {
   "cell_type": "markdown",
   "metadata": {},
   "source": [
    "В регионах 0 и 2, влияние признака f2 значительно, для региона 1 признак f2 играет почти определяющее значение с небольшим отклонением.  \n",
    "Признаки f1 и f0 не влияют линейно на продуктивность скважин. Возможно зависимость носит нелинейный характер.  \n",
    "Необходимо будет испытать модели включающую признаки f0, f1,  и исключающую их."
   ]
  },
  {
   "cell_type": "code",
   "execution_count": 21,
   "metadata": {},
   "outputs": [
    {
     "data": {
      "text/plain": [
       "''"
      ]
     },
     "execution_count": 21,
     "metadata": {},
     "output_type": "execute_result"
    },
    {
     "data": {
      "image/png": "[encoded data removed]",
      "text/plain": [
       "<Figure size 432x288 with 1 Axes>"
      ]
     },
     "metadata": {
      "needs_background": "light"
     },
     "output_type": "display_data"
    }
   ],
   "source": [
    "sns.distplot(df_0['product'], hist=True, kde=False, \n",
    "             bins=100, color = 'blue',\n",
    "             hist_kws={'edgecolor':'black'})\n",
    "plt.title('Распределение скважин по объёму запасов в регионе 0')\n",
    "plt.ylabel('Скважины, шт')\n",
    "plt.xlabel('Запасы нефти, тыс. баррелей')\n",
    ";"
   ]
  },
  {
   "cell_type": "code",
   "execution_count": 22,
   "metadata": {},
   "outputs": [
    {
     "data": {
      "text/plain": [
       "''"
      ]
     },
     "execution_count": 22,
     "metadata": {},
     "output_type": "execute_result"
    },
    {
     "data": {
      "image/png": "[encoded data removed]",
      "text/plain": [
       "<Figure size 432x288 with 1 Axes>"
      ]
     },
     "metadata": {
      "needs_background": "light"
     },
     "output_type": "display_data"
    }
   ],
   "source": [
    "sns.distplot(df_1['product'], hist=True, kde=False,\n",
    "             bins=100, color = 'blue',\n",
    "             hist_kws={'edgecolor':'black'})\n",
    "plt.title('Распределение скважин по объёму запасов в регионе 1')\n",
    "plt.ylabel('Скважины, шт')\n",
    "plt.xlabel('Запасы нефти, тыс. баррелей')\n",
    ";"
   ]
  },
  {
   "cell_type": "code",
   "execution_count": 23,
   "metadata": {},
   "outputs": [
    {
     "data": {
      "text/plain": [
       "''"
      ]
     },
     "execution_count": 23,
     "metadata": {},
     "output_type": "execute_result"
    },
    {
     "data": {
      "image/png": "[encoded data removed]",
      "text/plain": [
       "<Figure size 432x288 with 1 Axes>"
      ]
     },
     "metadata": {
      "needs_background": "light"
     },
     "output_type": "display_data"
    }
   ],
   "source": [
    "sns.distplot(df_2['product'], hist=True, kde=False,\n",
    "             bins=100, color = 'blue',\n",
    "             hist_kws={'edgecolor':'black'})\n",
    "plt.title('Распределение скважин по объёму запасов в регионе 2')\n",
    "plt.ylabel('Скважины, шт')\n",
    "plt.xlabel('Запасы нефти, тыс. баррелей')\n",
    ";"
   ]
  },
  {
   "cell_type": "markdown",
   "metadata": {},
   "source": [
    "Распределение скважин по запасам явно не нормальное. Можно выделить 6 явных вершин пиков в каждом регионе. Предполагаю, это свзано с неизвестными мне отраслевыми стандартами и с точностью современных методов оценки запасов нефти в скважине. В регионе 1 видимо скважину по умолчанию присваивают к одному из классов, а в других регионах учитываются дополнительные параметры."
   ]
  },
  {
   "cell_type": "markdown",
   "metadata": {},
   "source": [
    "### Вывод:"
   ]
  },
  {
   "cell_type": "markdown",
   "metadata": {},
   "source": [
    "У нас данные по 3 регионам  \n",
    "Регионах 0 и 2 близки по параметрам  \n",
    "Средняя продуктивность региона 1 в 1,5 ниже чем в других, статистики признаков существенно отличаются  \n",
    "Признак f2 имеет наибольшее вляние на продуктивность скважины  \n",
    "Испытаем модели включающую признаки f0, f1, и исключающую их.  \n",
    "Распределение скважин по запасам не нормальное.   "
   ]
  },
  {
   "cell_type": "markdown",
   "metadata": {},
   "source": [
    "## Обучение и проверка модели"
   ]
  },
  {
   "cell_type": "markdown",
   "metadata": {},
   "source": [
    "### Подготовим данные"
   ]
  },
  {
   "cell_type": "markdown",
   "metadata": {},
   "source": [
    "Напишем функцию, которая будет разделять данные на обучающию и тестовую выборки со всеми признаками и только с признаком f2"
   ]
  },
  {
   "cell_type": "code",
   "execution_count": 24,
   "metadata": {},
   "outputs": [],
   "source": [
    "def split(df):\n",
    "    x = df.drop('product', axis=1)\n",
    "    y = df['product']\n",
    "    x_train, x_test, y_train, y_test = train_test_split(\n",
    "        x, y, train_size=0.75,random_state=42)\n",
    "    x_train_f2 = x_train['f2'].values.reshape(-1,1)   \n",
    "    x_test_f2 = x_test['f2'].values.reshape(-1,1)\n",
    "    \n",
    "    return x_train, x_test, x_train_f2, x_test_f2, y_train, y_test"
   ]
  },
  {
   "cell_type": "markdown",
   "metadata": {},
   "source": [
    "Разделим данные по каждому региону"
   ]
  },
  {
   "cell_type": "code",
   "execution_count": 25,
   "metadata": {},
   "outputs": [],
   "source": [
    "x_0_train, x_0_test, x_0_train_f2, x_0_test_f2,  y_0_train, y_0_test = split(df_0)"
   ]
  },
  {
   "cell_type": "code",
   "execution_count": 26,
   "metadata": {},
   "outputs": [
    {
     "data": {
      "text/plain": [
       "(25000, 3)"
      ]
     },
     "execution_count": 26,
     "metadata": {},
     "output_type": "execute_result"
    }
   ],
   "source": [
    "x_0_test.shape"
   ]
  },
  {
   "cell_type": "code",
   "execution_count": 27,
   "metadata": {},
   "outputs": [],
   "source": [
    "x_1_train, x_1_test, x_1_train_f2, x_1_test_f2,  y_1_train, y_1_test = split(df_1)"
   ]
  },
  {
   "cell_type": "code",
   "execution_count": 28,
   "metadata": {},
   "outputs": [
    {
     "data": {
      "text/plain": [
       "(75000, 3)"
      ]
     },
     "execution_count": 28,
     "metadata": {},
     "output_type": "execute_result"
    }
   ],
   "source": [
    "x_1_train.shape"
   ]
  },
  {
   "cell_type": "code",
   "execution_count": 29,
   "metadata": {},
   "outputs": [],
   "source": [
    "x_2_train, x_2_test, x_2_train_f2, x_2_test_f2,  y_2_train, y_2_test = split(df_2)"
   ]
  },
  {
   "cell_type": "code",
   "execution_count": 30,
   "metadata": {},
   "outputs": [
    {
     "data": {
      "text/plain": [
       "(25000,)"
      ]
     },
     "execution_count": 30,
     "metadata": {},
     "output_type": "execute_result"
    }
   ],
   "source": [
    "y_2_test.shape"
   ]
  },
  {
   "cell_type": "markdown",
   "metadata": {},
   "source": [
    "### Масштабируем данные"
   ]
  },
  {
   "cell_type": "code",
   "execution_count": 31,
   "metadata": {},
   "outputs": [],
   "source": [
    "def scaler(x_train,x_test):\n",
    "    scaler = StandardScaler()\n",
    "    scaler.fit(x_train)\n",
    "    x_train_s = scaler.transform(x_train)\n",
    "    x_test_s = scaler.transform(x_test)\n",
    "    return x_train_s, x_test_s"
   ]
  },
  {
   "cell_type": "code",
   "execution_count": 32,
   "metadata": {},
   "outputs": [],
   "source": [
    "x_0_train, x_0_test = scaler(x_0_train, x_0_test)\n",
    "x_1_train, x_1_test = scaler(x_1_train, x_1_test)\n",
    "x_2_train, x_2_test = scaler(x_2_train, x_2_test)"
   ]
  },
  {
   "cell_type": "markdown",
   "metadata": {},
   "source": [
    "### Линейная регрессия"
   ]
  },
  {
   "cell_type": "markdown",
   "metadata": {},
   "source": [
    "Построим модель для каждого региона с учетом параметров f0 f1 и без учета, проверим предсказания модели средним квадратичным отклонением, для удобства напишем функцию:"
   ]
  },
  {
   "cell_type": "code",
   "execution_count": 33,
   "metadata": {},
   "outputs": [],
   "source": [
    "def linear(x_train, x_test, x_train_f2, x_test_f2, y_train, y_test):\n",
    "    model = LinearRegression()\n",
    "    model.fit(x_train, y_train)\n",
    "    predictions_valid = model.predict(x_test)\n",
    "    predictions_valid = pd.Series(predictions_valid)\n",
    "    pred_mean = predictions_valid.mean()\n",
    "    result = mean_squared_error(y_test, predictions_valid)**0.5 \n",
    "    \n",
    "    model_f2 = LinearRegression()\n",
    "    model_f2.fit(x_train_f2, y_train)\n",
    "    predictions_valid_f2 = model_f2.predict(x_test_f2)\n",
    "    predictions_valid_f2 = pd.Series(predictions_valid_f2)\n",
    "    pred_mean_f2 = predictions_valid_f2.mean()\n",
    "    result_f2 = mean_squared_error(y_test, predictions_valid_f2)**0.5 \n",
    "    print('Средний запаc:',pred_mean,'RMSE:', result)\n",
    "    print('Средний запаc f2:',pred_mean_f2,'RMSE f2:', result_f2)\n",
    "    return pred_mean, result, pred_mean_f2, result_f2, predictions_valid    \n",
    "    "
   ]
  },
  {
   "cell_type": "markdown",
   "metadata": {},
   "source": [
    "Регион 0:"
   ]
  },
  {
   "cell_type": "code",
   "execution_count": 34,
   "metadata": {},
   "outputs": [
    {
     "name": "stdout",
     "output_type": "stream",
     "text": [
      "Средний запаc: 92.39879990657768 RMSE: 37.75660035026169\n",
      "Средний запаc f2: 92.34937175741717 RMSE f2: 38.75148536710881\n"
     ]
    }
   ],
   "source": [
    "pred_mean_0, result_0, pred_mean_f2_0, result_f2_0, y_0_pred = linear(\n",
    "    x_0_train, x_0_test, x_0_train_f2, x_0_test_f2,  y_0_train, y_0_test)"
   ]
  },
  {
   "cell_type": "markdown",
   "metadata": {},
   "source": [
    "Регион 1:"
   ]
  },
  {
   "cell_type": "code",
   "execution_count": 35,
   "metadata": {},
   "outputs": [
    {
     "name": "stdout",
     "output_type": "stream",
     "text": [
      "Средний запаc: 68.71287803913762 RMSE: 0.8902801001028834\n",
      "Средний запаc f2: 68.7212172926088 RMSE f2: 1.595175235376749\n"
     ]
    }
   ],
   "source": [
    "pred_mean_1, result_1, pred_mean_f2_1, result_f2_1, y_1_pred = linear(\n",
    "    x_1_train, x_1_test, x_1_train_f2, x_1_test_f2,  y_1_train, y_1_test)"
   ]
  },
  {
   "cell_type": "markdown",
   "metadata": {},
   "source": [
    "Регион 2:"
   ]
  },
  {
   "cell_type": "code",
   "execution_count": 36,
   "metadata": {},
   "outputs": [
    {
     "name": "stdout",
     "output_type": "stream",
     "text": [
      "Средний запаc: 94.77102387765939 RMSE: 40.145872311342174\n",
      "Средний запаc f2: 94.7711306999486 RMSE f2: 40.145281273044134\n"
     ]
    }
   ],
   "source": [
    "pred_mean_2, result_2, pred_mean_f2_2, result_f2_2, y_2_pred = linear(\n",
    "    x_2_train, x_2_test, x_2_train_f2, x_2_test_f2,  y_2_train, y_2_test)"
   ]
  },
  {
   "cell_type": "markdown",
   "metadata": {},
   "source": [
    "### Вывод"
   ]
  },
  {
   "cell_type": "markdown",
   "metadata": {},
   "source": [
    "Наилучший результат модель линейной регрессии показала по региону 1 с минимальным RMSE, что ожидаемо, учитывая корреляцию и распределение.  \n",
    "По регионам 0 и 1 видно, что исключение признаков f0 f1 ухудшает прогноз, в регионе 2 не влияет на результат. В дальнейшем будем использовать все признаки.\n"
   ]
  },
  {
   "cell_type": "markdown",
   "metadata": {},
   "source": [
    "## Подготовка к расчёту прибыли"
   ]
  },
  {
   "cell_type": "code",
   "execution_count": 37,
   "metadata": {},
   "outputs": [],
   "source": [
    "BUDGET = 10000000000\n",
    "REVENUE = 450000\n",
    "WELLS = 200"
   ]
  },
  {
   "cell_type": "markdown",
   "metadata": {},
   "source": [
    "Найдем минимальную средню продуктивность выбранных скважин в регионе.\n",
    "Для этого бюджет разделим на количество скважин, получив среднюю минимальную прибыль со скважины, и разделим на прибыль с 1 тыс. барелей."
   ]
  },
  {
   "cell_type": "code",
   "execution_count": 38,
   "metadata": {},
   "outputs": [
    {
     "name": "stdout",
     "output_type": "stream",
     "text": [
      "111.11111111111111 тыс. баррелей\n"
     ]
    }
   ],
   "source": [
    "min_prod = BUDGET / REVENUE / WELLS\n",
    "print(min_prod, 'тыс. баррелей')"
   ]
  },
  {
   "cell_type": "markdown",
   "metadata": {},
   "source": [
    "Как видим, это выше, чем средний показатель по любому из рассматриваемых регионов. "
   ]
  },
  {
   "cell_type": "markdown",
   "metadata": {},
   "source": [
    "Попробуем создать датафреймы для каждого региона, объединяющие предсказание модели и фактические данные, это мне поможет не запутаться в дальнейшем анализе"
   ]
  },
  {
   "cell_type": "code",
   "execution_count": 39,
   "metadata": {},
   "outputs": [],
   "source": [
    "y_0 = pd.DataFrame(list(zip(y_0_pred, y_0_test)), columns = ['predict', 'target'])\n",
    "y_1 = pd.DataFrame(list(zip(y_1_pred, y_1_test)), columns = ['predict', 'target'])\n",
    "y_2 = pd.DataFrame(list(zip(y_2_pred, y_2_test)), columns = ['predict', 'target'])"
   ]
  },
  {
   "cell_type": "code",
   "execution_count": 40,
   "metadata": {},
   "outputs": [
    {
     "data": {
      "text/html": [
       "<div>\n",
       "<style scoped>\n",
       "    .dataframe tbody tr th:only-of-type {\n",
       "        vertical-align: middle;\n",
       "    }\n",
       "\n",
       "    .dataframe tbody tr th {\n",
       "        vertical-align: top;\n",
       "    }\n",
       "\n",
       "    .dataframe thead th {\n",
       "        text-align: right;\n",
       "    }\n",
       "</style>\n",
       "<table border=\"1\" class=\"dataframe\">\n",
       "  <thead>\n",
       "    <tr style=\"text-align: right;\">\n",
       "      <th></th>\n",
       "      <th>predict</th>\n",
       "      <th>target</th>\n",
       "    </tr>\n",
       "  </thead>\n",
       "  <tbody>\n",
       "    <tr>\n",
       "      <td>0</td>\n",
       "      <td>101.901017</td>\n",
       "      <td>122.073350</td>\n",
       "    </tr>\n",
       "    <tr>\n",
       "      <td>1</td>\n",
       "      <td>78.217774</td>\n",
       "      <td>48.738540</td>\n",
       "    </tr>\n",
       "    <tr>\n",
       "      <td>2</td>\n",
       "      <td>115.266901</td>\n",
       "      <td>131.338088</td>\n",
       "    </tr>\n",
       "    <tr>\n",
       "      <td>3</td>\n",
       "      <td>105.618618</td>\n",
       "      <td>88.327757</td>\n",
       "    </tr>\n",
       "    <tr>\n",
       "      <td>4</td>\n",
       "      <td>97.980185</td>\n",
       "      <td>36.959266</td>\n",
       "    </tr>\n",
       "  </tbody>\n",
       "</table>\n",
       "</div>"
      ],
      "text/plain": [
       "      predict      target\n",
       "0  101.901017  122.073350\n",
       "1   78.217774   48.738540\n",
       "2  115.266901  131.338088\n",
       "3  105.618618   88.327757\n",
       "4   97.980185   36.959266"
      ]
     },
     "execution_count": 40,
     "metadata": {},
     "output_type": "execute_result"
    }
   ],
   "source": [
    "y_0.head()"
   ]
  },
  {
   "cell_type": "markdown",
   "metadata": {},
   "source": [
    "## Расчёт прибыли и рисков "
   ]
  },
  {
   "cell_type": "markdown",
   "metadata": {},
   "source": [
    "### Расчёт прибыли"
   ]
  },
  {
   "cell_type": "markdown",
   "metadata": {},
   "source": [
    "Напишем функцию и расчитаем прибыль по каждому региону исходя из того, что буду выбраны 200 скважин с лучшим результатом"
   ]
  },
  {
   "cell_type": "code",
   "execution_count": 41,
   "metadata": {},
   "outputs": [],
   "source": [
    "def profit(pred, y):\n",
    "    pred_200 = pred.sort_values(ascending = False)[:WELLS]\n",
    "    targ = y[pred_200.index].sum()\n",
    "    prft = targ * REVENUE - BUDGET    \n",
    "    return prft"
   ]
  },
  {
   "cell_type": "markdown",
   "metadata": {},
   "source": [
    "### Расчёт рисков "
   ]
  },
  {
   "cell_type": "markdown",
   "metadata": {},
   "source": [
    "Необходимо оценить вероятность получения убытка и спрогнозировать среднюю прибыль, на которую можно расчитывать. Так так у нас распределение не нормальное, используем инструмент бутстреп"
   ]
  },
  {
   "cell_type": "code",
   "execution_count": 42,
   "metadata": {},
   "outputs": [],
   "source": [
    "state = np.random.RandomState(42)\n",
    "\n",
    "def bootstrap(fg):\n",
    "    values = []\n",
    "    pred = fg['predict'] \n",
    "    y = fg['target']\n",
    "    losses = 0\n",
    "    \n",
    "    for i in range(1000):\n",
    "        y_sample = y.sample(n = 500, replace = True, random_state = state)\n",
    "        pred_sample = pred[y_sample.index]\n",
    "        values.append(profit(pred_sample, y_sample))\n",
    "        if profit(pred_sample, y_sample) < 0: losses += 1\n",
    "        \n",
    "    values = pd.Series(values)\n",
    "    lower = values.quantile(0.025).astype(int)\n",
    "    upper = values.quantile(0.975).astype(int)\n",
    "    mean = values.mean().astype(int)\n",
    "    probability_of_losses = losses / 10\n",
    "    print('Прибыль от:',lower,'до', upper,'среднее:', mean, 'Риск убытка:', probability_of_losses, '%')\n",
    "    return values, lower, upper, mean, probability_of_losses    "
   ]
  },
  {
   "cell_type": "markdown",
   "metadata": {},
   "source": [
    "Регион 0"
   ]
  },
  {
   "cell_type": "code",
   "execution_count": 43,
   "metadata": {},
   "outputs": [
    {
     "name": "stdout",
     "output_type": "stream",
     "text": [
      "Прибыль от: 10089411 до 1246370980 среднее: 606122631 Риск убытка: 2.5 %\n"
     ]
    }
   ],
   "source": [
    "profit_0, lower_0, upper_0, profit_0_mean, prob_los_0 = bootstrap(y_0)"
   ]
  },
  {
   "cell_type": "markdown",
   "metadata": {},
   "source": [
    "С вероятностью выше 97,5% прибыль выше 10 млн, убытка можно не бояться"
   ]
  },
  {
   "cell_type": "code",
   "execution_count": 44,
   "metadata": {},
   "outputs": [
    {
     "data": {
      "text/plain": [
       "''"
      ]
     },
     "execution_count": 44,
     "metadata": {},
     "output_type": "execute_result"
    },
    {
     "data": {
      "image/png": "[encoded data removed]",
      "text/plain": [
       "<Figure size 432x288 with 1 Axes>"
      ]
     },
     "metadata": {
      "needs_background": "light"
     },
     "output_type": "display_data"
    }
   ],
   "source": [
    "sns.distplot(profit_0, hist=True, kde=False,\n",
    "             bins=20, color = 'yellow',\n",
    "             hist_kws={'edgecolor':'black'})\n",
    "plt.title('Вероятностное распределение прибыли в регионе 0')\n",
    "plt.ylabel('Частота, случай из 1000')\n",
    "plt.xlabel('Прибыль, млрд. руб')\n",
    ";"
   ]
  },
  {
   "cell_type": "markdown",
   "metadata": {},
   "source": [
    "Регион 1"
   ]
  },
  {
   "cell_type": "code",
   "execution_count": 45,
   "metadata": {},
   "outputs": [
    {
     "name": "stdout",
     "output_type": "stream",
     "text": [
      "Прибыль от: 148800010 до 1186977426 среднее: 662413205 Риск убытка: 0.3 %\n"
     ]
    }
   ],
   "source": [
    "profit_1, lower_1, upper_1, profit_1_mean, prob_los_1 = bootstrap(y_1)"
   ]
  },
  {
   "cell_type": "markdown",
   "metadata": {},
   "source": [
    "Средняя прибыль в этом регионе выше уже 662 млн.руб, также с вероятностью 97,5% прибыль выше 148 млн. руб."
   ]
  },
  {
   "cell_type": "code",
   "execution_count": 46,
   "metadata": {},
   "outputs": [
    {
     "data": {
      "text/plain": [
       "''"
      ]
     },
     "execution_count": 46,
     "metadata": {},
     "output_type": "execute_result"
    },
    {
     "data": {
      "image/png": "[encoded data removed]",
      "text/plain": [
       "<Figure size 432x288 with 1 Axes>"
      ]
     },
     "metadata": {
      "needs_background": "light"
     },
     "output_type": "display_data"
    }
   ],
   "source": [
    "sns.distplot(profit_1, hist=True, kde=False,\n",
    "             bins=20, color = 'yellow',\n",
    "             hist_kws={'edgecolor':'black'})\n",
    "plt.title('Вероятностное распределение прибыли в регионе 1')\n",
    "plt.ylabel('Частота, случай из 1000')\n",
    "plt.xlabel('Прибыль, млрд. руб')\n",
    ";"
   ]
  },
  {
   "cell_type": "code",
   "execution_count": 47,
   "metadata": {},
   "outputs": [
    {
     "name": "stdout",
     "output_type": "stream",
     "text": [
      "Прибыль от: 2464800 до 1254827360 среднее: 592052020 Риск убытка: 2.5 %\n"
     ]
    }
   ],
   "source": [
    "profit_2, lower_2, upper_2, profit_2_mean, prob_los_2 = bootstrap(y_2)"
   ]
  },
  {
   "cell_type": "markdown",
   "metadata": {},
   "source": [
    "Средняя прибыль в регионе самая низкая 592 млн. руб., при этом с вероятностью 2,5% можно получить результат ниже 2,4 млн. руб."
   ]
  },
  {
   "cell_type": "code",
   "execution_count": 48,
   "metadata": {},
   "outputs": [
    {
     "data": {
      "text/plain": [
       "''"
      ]
     },
     "execution_count": 48,
     "metadata": {},
     "output_type": "execute_result"
    },
    {
     "data": {
      "image/png": "[encoded data removed]",
      "text/plain": [
       "<Figure size 432x288 with 1 Axes>"
      ]
     },
     "metadata": {
      "needs_background": "light"
     },
     "output_type": "display_data"
    }
   ],
   "source": [
    "sns.distplot(profit_2, hist=True, kde=False,\n",
    "             bins=20, color = 'yellow',\n",
    "             hist_kws={'edgecolor':'black'})\n",
    "plt.title('Вероятностное распределение прибыли в регионе 2')\n",
    "plt.ylabel('Частота, случай из 1000')\n",
    "plt.xlabel('Прибыль, млрд. руб')\n",
    ";"
   ]
  },
  {
   "cell_type": "code",
   "execution_count": 49,
   "metadata": {},
   "outputs": [
    {
     "data": {
      "text/html": [
       "<div>\n",
       "<style scoped>\n",
       "    .dataframe tbody tr th:only-of-type {\n",
       "        vertical-align: middle;\n",
       "    }\n",
       "\n",
       "    .dataframe tbody tr th {\n",
       "        vertical-align: top;\n",
       "    }\n",
       "\n",
       "    .dataframe thead th {\n",
       "        text-align: right;\n",
       "    }\n",
       "</style>\n",
       "<table border=\"1\" class=\"dataframe\">\n",
       "  <thead>\n",
       "    <tr style=\"text-align: right;\">\n",
       "      <th></th>\n",
       "      <th>Нижняя граница прибыли, руб.</th>\n",
       "      <th>Верхняя граница прибыли, руб.</th>\n",
       "      <th>Средняя прибыль, руб.</th>\n",
       "      <th>Вероятность убытков, %</th>\n",
       "    </tr>\n",
       "  </thead>\n",
       "  <tbody>\n",
       "    <tr>\n",
       "      <td>Регион 0</td>\n",
       "      <td>10089411</td>\n",
       "      <td>1246370980</td>\n",
       "      <td>606122631</td>\n",
       "      <td>2.5</td>\n",
       "    </tr>\n",
       "    <tr>\n",
       "      <td>Регион 1</td>\n",
       "      <td>148800010</td>\n",
       "      <td>1186977426</td>\n",
       "      <td>662413205</td>\n",
       "      <td>0.3</td>\n",
       "    </tr>\n",
       "    <tr>\n",
       "      <td>Регион 2</td>\n",
       "      <td>2464800</td>\n",
       "      <td>1254827360</td>\n",
       "      <td>592052020</td>\n",
       "      <td>2.5</td>\n",
       "    </tr>\n",
       "  </tbody>\n",
       "</table>\n",
       "</div>"
      ],
      "text/plain": [
       "          Нижняя граница прибыли, руб.  Верхняя граница прибыли, руб.  \\\n",
       "Регион 0                      10089411                     1246370980   \n",
       "Регион 1                     148800010                     1186977426   \n",
       "Регион 2                       2464800                     1254827360   \n",
       "\n",
       "          Средняя прибыль, руб.  Вероятность убытков, %  \n",
       "Регион 0              606122631                     2.5  \n",
       "Регион 1              662413205                     0.3  \n",
       "Регион 2              592052020                     2.5  "
      ]
     },
     "execution_count": 49,
     "metadata": {},
     "output_type": "execute_result"
    }
   ],
   "source": [
    "res = pd.DataFrame([[lower_0, upper_0, profit_0_mean, prob_los_0],\n",
    "                    [lower_1, upper_1, profit_1_mean, prob_los_1], \n",
    "                    [lower_2, upper_2, profit_2_mean, prob_los_2]], \n",
    "                   columns = ['Нижняя граница прибыли, руб.', 'Верхняя граница прибыли, руб.', 'Средняя прибыль, руб.', 'Вероятность убытков, %'],\n",
    "                  index = ['Регион 0','Регион 1','Регион 2']\n",
    "                  )\n",
    "\n",
    "res"
   ]
  },
  {
   "cell_type": "markdown",
   "metadata": {},
   "source": [
    "## Вывод"
   ]
  },
  {
   "cell_type": "markdown",
   "metadata": {},
   "source": [
    "Мы загрузили данные о скважинах по трем регионам, увидели не нормальное распределение в каждом.  \n",
    "\n",
    "Признак f2 оказывает наибольшее влияние на объем запасов скважины, в Регионе 1 определяющее.  \n",
    "При этом результат работы моделей показал, что влияние прочих признаков также стоит учитывать.\n",
    "\n",
    "После разбиения данных на тренировочну и тестовую выборку, мы построили по каждому региону модель линейной регрессии для предсказания запасов.\n",
    "Проверка на тестовой выборке показала наилучшую эффективность модели для 3 го региона.  \n",
    "\n",
    "Для вычисления вероятности получить наибольшую прибыль без большого риска убытка мы воспользовались бутстрепом, так как наше распределение не нормальное и другие методы не подходят.  \n",
    "\n",
    "В итоге выяснилось, что вероятность получить убыток во всех 3 регионах ниже 2,5%.\n",
    "\n",
    "Наибольшую среднюю потенциальную прибыль обеспечит бурение 200 скважин выбранных на основе нашей модели в Регионе 1.   \n",
    "\n",
    "Выбираем Регион 1"
   ]
  }
 ],
 "metadata": {
  "ExecuteTimeLog": [
   {
    "duration": 1502,
    "start_time": "2021-08-21T13:20:32.181Z"
   },
   {
    "duration": 466,
    "start_time": "2021-08-21T13:23:45.305Z"
   },
   {
    "duration": 22,
    "start_time": "2021-08-21T13:24:42.120Z"
   },
   {
    "duration": 17,
    "start_time": "2021-08-21T13:24:49.038Z"
   },
   {
    "duration": 18,
    "start_time": "2021-08-21T13:24:55.670Z"
   },
   {
    "duration": 16,
    "start_time": "2021-08-21T13:27:40.769Z"
   },
   {
    "duration": 15,
    "start_time": "2021-08-21T13:27:52.161Z"
   },
   {
    "duration": 15,
    "start_time": "2021-08-21T13:27:53.655Z"
   },
   {
    "duration": 54,
    "start_time": "2021-08-21T13:36:09.492Z"
   },
   {
    "duration": 58,
    "start_time": "2021-08-21T13:36:54.443Z"
   },
   {
    "duration": 54,
    "start_time": "2021-08-21T13:36:55.683Z"
   },
   {
    "duration": 54,
    "start_time": "2021-08-21T13:36:57.139Z"
   },
   {
    "duration": 534,
    "start_time": "2021-08-21T13:46:45.789Z"
   },
   {
    "duration": 486,
    "start_time": "2021-08-21T13:47:07.562Z"
   },
   {
    "duration": 137,
    "start_time": "2021-08-21T13:47:24.737Z"
   },
   {
    "duration": 23,
    "start_time": "2021-08-21T13:48:56.467Z"
   },
   {
    "duration": 2168,
    "start_time": "2021-08-21T13:49:11.017Z"
   },
   {
    "duration": 568,
    "start_time": "2021-08-21T13:49:26.458Z"
   },
   {
    "duration": 23,
    "start_time": "2021-08-21T13:51:15.091Z"
   },
   {
    "duration": 22,
    "start_time": "2021-08-21T13:51:28.587Z"
   },
   {
    "duration": 24,
    "start_time": "2021-08-21T13:51:29.842Z"
   },
   {
    "duration": 15,
    "start_time": "2021-08-21T13:55:46.102Z"
   },
   {
    "duration": 12,
    "start_time": "2021-08-21T13:56:27.958Z"
   },
   {
    "duration": 402,
    "start_time": "2021-08-21T14:01:20.216Z"
   },
   {
    "duration": 125,
    "start_time": "2021-08-21T14:01:44.032Z"
   },
   {
    "duration": 522,
    "start_time": "2021-08-21T14:01:49.319Z"
   },
   {
    "duration": 479,
    "start_time": "2021-08-21T14:03:38.681Z"
   },
   {
    "duration": 427,
    "start_time": "2021-08-21T14:04:52.193Z"
   },
   {
    "duration": 429,
    "start_time": "2021-08-21T14:07:29.098Z"
   },
   {
    "duration": 491,
    "start_time": "2021-08-21T14:07:55.187Z"
   },
   {
    "duration": 540,
    "start_time": "2021-08-21T14:08:05.832Z"
   },
   {
    "duration": 479,
    "start_time": "2021-08-21T14:08:31.042Z"
   },
   {
    "duration": 465,
    "start_time": "2021-08-21T14:09:07.451Z"
   },
   {
    "duration": 432,
    "start_time": "2021-08-21T14:09:09.507Z"
   },
   {
    "duration": 11461,
    "start_time": "2021-08-21T15:03:27.020Z"
   },
   {
    "duration": 474,
    "start_time": "2021-08-21T15:04:25.355Z"
   },
   {
    "duration": 504,
    "start_time": "2021-08-21T15:07:38.645Z"
   },
   {
    "duration": 487,
    "start_time": "2021-08-21T15:08:13.868Z"
   },
   {
    "duration": 453,
    "start_time": "2021-08-21T15:09:00.430Z"
   },
   {
    "duration": 870,
    "start_time": "2021-08-21T15:09:21.645Z"
   },
   {
    "duration": 819,
    "start_time": "2021-08-21T15:09:36.700Z"
   },
   {
    "duration": 684,
    "start_time": "2021-08-21T15:09:54.029Z"
   },
   {
    "duration": 3851,
    "start_time": "2021-08-21T15:10:58.175Z"
   },
   {
    "duration": 658,
    "start_time": "2021-08-21T15:12:03.127Z"
   },
   {
    "duration": 4129,
    "start_time": "2021-08-21T15:12:22.542Z"
   },
   {
    "duration": 2074,
    "start_time": "2021-08-21T15:12:51.743Z"
   },
   {
    "duration": 1619,
    "start_time": "2021-08-21T15:13:12.959Z"
   },
   {
    "duration": 702,
    "start_time": "2021-08-21T15:13:23.063Z"
   },
   {
    "duration": 715,
    "start_time": "2021-08-21T15:13:48.402Z"
   },
   {
    "duration": 699,
    "start_time": "2021-08-21T15:14:20.239Z"
   },
   {
    "duration": 406,
    "start_time": "2021-08-21T15:39:34.027Z"
   },
   {
    "duration": 23,
    "start_time": "2021-08-21T15:40:38.291Z"
   },
   {
    "duration": 811,
    "start_time": "2021-08-21T16:07:27.160Z"
   },
   {
    "duration": 709,
    "start_time": "2021-08-21T16:07:32.767Z"
   },
   {
    "duration": 699,
    "start_time": "2021-08-21T16:07:35.512Z"
   },
   {
    "duration": 1632,
    "start_time": "2021-08-21T16:27:02.402Z"
   },
   {
    "duration": 573,
    "start_time": "2021-08-21T16:27:04.037Z"
   },
   {
    "duration": 22,
    "start_time": "2021-08-21T16:27:04.618Z"
   },
   {
    "duration": 28,
    "start_time": "2021-08-21T16:27:04.642Z"
   },
   {
    "duration": 31,
    "start_time": "2021-08-21T16:27:04.673Z"
   },
   {
    "duration": 19,
    "start_time": "2021-08-21T16:27:04.706Z"
   },
   {
    "duration": 14,
    "start_time": "2021-08-21T16:27:04.729Z"
   },
   {
    "duration": 46,
    "start_time": "2021-08-21T16:27:04.746Z"
   },
   {
    "duration": 57,
    "start_time": "2021-08-21T16:27:04.794Z"
   },
   {
    "duration": 78,
    "start_time": "2021-08-21T16:27:04.853Z"
   },
   {
    "duration": 70,
    "start_time": "2021-08-21T16:27:04.933Z"
   },
   {
    "duration": 26,
    "start_time": "2021-08-21T16:27:05.007Z"
   },
   {
    "duration": 24,
    "start_time": "2021-08-21T16:27:05.035Z"
   },
   {
    "duration": 54,
    "start_time": "2021-08-21T16:27:05.061Z"
   },
   {
    "duration": 13,
    "start_time": "2021-08-21T16:27:05.118Z"
   },
   {
    "duration": 29,
    "start_time": "2021-08-21T16:27:05.134Z"
   },
   {
    "duration": 437,
    "start_time": "2021-08-21T16:27:05.166Z"
   },
   {
    "duration": 410,
    "start_time": "2021-08-21T16:27:05.607Z"
   },
   {
    "duration": 17,
    "start_time": "2021-08-21T16:27:06.019Z"
   },
   {
    "duration": 439,
    "start_time": "2021-08-21T16:27:06.038Z"
   },
   {
    "duration": 657,
    "start_time": "2021-08-21T16:27:06.484Z"
   },
   {
    "duration": 753,
    "start_time": "2021-08-21T16:27:07.145Z"
   },
   {
    "duration": 679,
    "start_time": "2021-08-21T16:27:07.902Z"
   },
   {
    "duration": 6,
    "start_time": "2021-08-21T17:05:46.000Z"
   },
   {
    "duration": 5,
    "start_time": "2021-08-21T17:07:19.952Z"
   },
   {
    "duration": 578,
    "start_time": "2021-08-21T17:10:07.697Z"
   },
   {
    "duration": 861,
    "start_time": "2021-08-21T17:10:41.994Z"
   },
   {
    "duration": 5,
    "start_time": "2021-08-21T17:12:57.323Z"
   },
   {
    "duration": 846,
    "start_time": "2021-08-21T17:12:58.539Z"
   },
   {
    "duration": 7,
    "start_time": "2021-08-21T17:14:19.220Z"
   },
   {
    "duration": 824,
    "start_time": "2021-08-21T17:14:20.565Z"
   },
   {
    "duration": 5,
    "start_time": "2021-08-21T17:15:54.295Z"
   },
   {
    "duration": 27,
    "start_time": "2021-08-21T17:15:55.652Z"
   },
   {
    "duration": 5,
    "start_time": "2021-08-21T17:16:08.235Z"
   },
   {
    "duration": 19,
    "start_time": "2021-08-21T17:16:09.323Z"
   },
   {
    "duration": 15,
    "start_time": "2021-08-21T17:16:23.467Z"
   },
   {
    "duration": 4,
    "start_time": "2021-08-21T17:17:14.372Z"
   },
   {
    "duration": 24,
    "start_time": "2021-08-21T17:17:15.579Z"
   },
   {
    "duration": 8,
    "start_time": "2021-08-21T17:17:24.335Z"
   },
   {
    "duration": 15,
    "start_time": "2021-08-21T17:18:04.245Z"
   },
   {
    "duration": 7,
    "start_time": "2021-08-21T17:23:02.404Z"
   },
   {
    "duration": 19,
    "start_time": "2021-08-21T17:23:29.799Z"
   },
   {
    "duration": 6,
    "start_time": "2021-08-21T17:23:44.366Z"
   },
   {
    "duration": 465,
    "start_time": "2021-08-22T07:22:49.378Z"
   },
   {
    "duration": 1557,
    "start_time": "2021-08-22T07:23:01.770Z"
   },
   {
    "duration": 4405,
    "start_time": "2021-08-22T07:23:03.330Z"
   },
   {
    "duration": 22,
    "start_time": "2021-08-22T07:23:07.737Z"
   },
   {
    "duration": 45,
    "start_time": "2021-08-22T07:23:07.762Z"
   },
   {
    "duration": 30,
    "start_time": "2021-08-22T07:23:07.809Z"
   },
   {
    "duration": 21,
    "start_time": "2021-08-22T07:23:07.841Z"
   },
   {
    "duration": 30,
    "start_time": "2021-08-22T07:23:07.865Z"
   },
   {
    "duration": 22,
    "start_time": "2021-08-22T07:23:07.899Z"
   },
   {
    "duration": 64,
    "start_time": "2021-08-22T07:23:07.925Z"
   },
   {
    "duration": 51,
    "start_time": "2021-08-22T07:23:07.992Z"
   },
   {
    "duration": 61,
    "start_time": "2021-08-22T07:23:08.045Z"
   },
   {
    "duration": 21,
    "start_time": "2021-08-22T07:23:08.109Z"
   },
   {
    "duration": 27,
    "start_time": "2021-08-22T07:23:08.132Z"
   },
   {
    "duration": 46,
    "start_time": "2021-08-22T07:23:08.161Z"
   },
   {
    "duration": 15,
    "start_time": "2021-08-22T07:23:08.210Z"
   },
   {
    "duration": 38,
    "start_time": "2021-08-22T07:23:08.228Z"
   },
   {
    "duration": 413,
    "start_time": "2021-08-22T07:23:08.268Z"
   },
   {
    "duration": 384,
    "start_time": "2021-08-22T07:23:08.684Z"
   },
   {
    "duration": 17,
    "start_time": "2021-08-22T07:23:09.070Z"
   },
   {
    "duration": 383,
    "start_time": "2021-08-22T07:23:09.101Z"
   },
   {
    "duration": 599,
    "start_time": "2021-08-22T07:23:09.486Z"
   },
   {
    "duration": 661,
    "start_time": "2021-08-22T07:23:10.087Z"
   },
   {
    "duration": 625,
    "start_time": "2021-08-22T07:23:10.753Z"
   },
   {
    "duration": 5,
    "start_time": "2021-08-22T07:23:11.381Z"
   },
   {
    "duration": 32,
    "start_time": "2021-08-22T07:23:11.388Z"
   },
   {
    "duration": 5,
    "start_time": "2021-08-22T07:23:11.423Z"
   },
   {
    "duration": 28,
    "start_time": "2021-08-22T07:23:11.432Z"
   },
   {
    "duration": 6,
    "start_time": "2021-08-22T07:23:11.463Z"
   },
   {
    "duration": 23,
    "start_time": "2021-08-22T07:23:11.501Z"
   },
   {
    "duration": 134,
    "start_time": "2021-08-22T07:23:11.526Z"
   },
   {
    "duration": 19,
    "start_time": "2021-08-22T07:24:09.933Z"
   },
   {
    "duration": 20,
    "start_time": "2021-08-22T07:24:13.588Z"
   },
   {
    "duration": 6,
    "start_time": "2021-08-22T07:24:21.038Z"
   },
   {
    "duration": 5,
    "start_time": "2021-08-22T07:24:41.797Z"
   },
   {
    "duration": 5,
    "start_time": "2021-08-22T07:45:52.959Z"
   },
   {
    "duration": 969,
    "start_time": "2021-08-22T07:47:39.808Z"
   },
   {
    "duration": 5,
    "start_time": "2021-08-22T07:48:45.153Z"
   },
   {
    "duration": 745,
    "start_time": "2021-08-22T07:48:53.784Z"
   },
   {
    "duration": 6,
    "start_time": "2021-08-22T07:52:06.057Z"
   },
   {
    "duration": 20,
    "start_time": "2021-08-22T07:52:09.657Z"
   },
   {
    "duration": 21,
    "start_time": "2021-08-22T07:52:10.522Z"
   },
   {
    "duration": 20,
    "start_time": "2021-08-22T07:52:11.961Z"
   },
   {
    "duration": 6,
    "start_time": "2021-08-22T07:52:15.401Z"
   },
   {
    "duration": 1012,
    "start_time": "2021-08-22T07:52:17.850Z"
   },
   {
    "duration": 5,
    "start_time": "2021-08-22T07:53:32.862Z"
   },
   {
    "duration": 96,
    "start_time": "2021-08-22T07:54:02.203Z"
   },
   {
    "duration": 16,
    "start_time": "2021-08-22T07:55:20.756Z"
   },
   {
    "duration": 116,
    "start_time": "2021-08-22T07:56:39.581Z"
   },
   {
    "duration": 16,
    "start_time": "2021-08-22T07:57:10.950Z"
   },
   {
    "duration": 169,
    "start_time": "2021-08-22T07:57:46.301Z"
   },
   {
    "duration": 17,
    "start_time": "2021-08-22T07:57:52.196Z"
   },
   {
    "duration": 5,
    "start_time": "2021-08-22T07:58:29.908Z"
   },
   {
    "duration": 14,
    "start_time": "2021-08-22T07:58:35.155Z"
   },
   {
    "duration": 5,
    "start_time": "2021-08-22T07:58:37.380Z"
   },
   {
    "duration": 13,
    "start_time": "2021-08-22T07:58:38.740Z"
   },
   {
    "duration": 5,
    "start_time": "2021-08-22T07:58:52.710Z"
   },
   {
    "duration": 16,
    "start_time": "2021-08-22T07:58:54.045Z"
   },
   {
    "duration": 4,
    "start_time": "2021-08-22T08:00:15.405Z"
   },
   {
    "duration": 372,
    "start_time": "2021-08-22T08:00:16.605Z"
   },
   {
    "duration": 10,
    "start_time": "2021-08-22T08:00:53.141Z"
   },
   {
    "duration": 4,
    "start_time": "2021-08-22T08:01:42.366Z"
   },
   {
    "duration": 5,
    "start_time": "2021-08-22T08:02:20.902Z"
   },
   {
    "duration": 6,
    "start_time": "2021-08-22T08:05:25.472Z"
   },
   {
    "duration": 44,
    "start_time": "2021-08-22T08:06:46.656Z"
   },
   {
    "duration": 181,
    "start_time": "2021-08-22T08:07:55.921Z"
   },
   {
    "duration": 6,
    "start_time": "2021-08-22T08:08:54.745Z"
   },
   {
    "duration": 71,
    "start_time": "2021-08-22T08:08:56.530Z"
   },
   {
    "duration": 23,
    "start_time": "2021-08-22T08:09:48.307Z"
   },
   {
    "duration": 24,
    "start_time": "2021-08-22T08:10:30.276Z"
   },
   {
    "duration": 446,
    "start_time": "2021-08-22T08:23:22.914Z"
   },
   {
    "duration": 5,
    "start_time": "2021-08-22T08:23:47.967Z"
   },
   {
    "duration": 4,
    "start_time": "2021-08-22T08:23:55.136Z"
   },
   {
    "duration": 5,
    "start_time": "2021-08-22T08:32:10.379Z"
   },
   {
    "duration": 1539,
    "start_time": "2021-08-22T08:36:16.453Z"
   },
   {
    "duration": 449,
    "start_time": "2021-08-22T08:36:17.995Z"
   },
   {
    "duration": 22,
    "start_time": "2021-08-22T08:36:18.447Z"
   },
   {
    "duration": 14,
    "start_time": "2021-08-22T08:36:18.472Z"
   },
   {
    "duration": 15,
    "start_time": "2021-08-22T08:36:18.501Z"
   },
   {
    "duration": 14,
    "start_time": "2021-08-22T08:36:18.519Z"
   },
   {
    "duration": 13,
    "start_time": "2021-08-22T08:36:18.535Z"
   },
   {
    "duration": 57,
    "start_time": "2021-08-22T08:36:18.552Z"
   },
   {
    "duration": 54,
    "start_time": "2021-08-22T08:36:18.612Z"
   },
   {
    "duration": 71,
    "start_time": "2021-08-22T08:36:18.668Z"
   },
   {
    "duration": 60,
    "start_time": "2021-08-22T08:36:18.741Z"
   },
   {
    "duration": 21,
    "start_time": "2021-08-22T08:36:18.804Z"
   },
   {
    "duration": 20,
    "start_time": "2021-08-22T08:36:18.827Z"
   },
   {
    "duration": 21,
    "start_time": "2021-08-22T08:36:18.849Z"
   },
   {
    "duration": 14,
    "start_time": "2021-08-22T08:36:18.901Z"
   },
   {
    "duration": 14,
    "start_time": "2021-08-22T08:36:18.918Z"
   },
   {
    "duration": 444,
    "start_time": "2021-08-22T08:36:18.934Z"
   },
   {
    "duration": 406,
    "start_time": "2021-08-22T08:36:19.380Z"
   },
   {
    "duration": 25,
    "start_time": "2021-08-22T08:36:19.789Z"
   },
   {
    "duration": 387,
    "start_time": "2021-08-22T08:36:19.816Z"
   },
   {
    "duration": 602,
    "start_time": "2021-08-22T08:36:20.206Z"
   },
   {
    "duration": 672,
    "start_time": "2021-08-22T08:36:20.811Z"
   },
   {
    "duration": 582,
    "start_time": "2021-08-22T08:36:21.488Z"
   },
   {
    "duration": 6,
    "start_time": "2021-08-22T08:36:22.074Z"
   },
   {
    "duration": 38,
    "start_time": "2021-08-22T08:36:22.083Z"
   },
   {
    "duration": 7,
    "start_time": "2021-08-22T08:36:22.123Z"
   },
   {
    "duration": 21,
    "start_time": "2021-08-22T08:36:22.133Z"
   },
   {
    "duration": 5,
    "start_time": "2021-08-22T08:36:22.157Z"
   },
   {
    "duration": 23,
    "start_time": "2021-08-22T08:36:22.201Z"
   },
   {
    "duration": 6,
    "start_time": "2021-08-22T08:36:22.227Z"
   },
   {
    "duration": 5,
    "start_time": "2021-08-22T08:36:22.236Z"
   },
   {
    "duration": 80,
    "start_time": "2021-08-22T08:36:22.244Z"
   },
   {
    "duration": 9,
    "start_time": "2021-08-22T08:36:22.326Z"
   },
   {
    "duration": 67,
    "start_time": "2021-08-22T08:36:22.338Z"
   },
   {
    "duration": 293,
    "start_time": "2021-08-22T08:36:22.410Z"
   },
   {
    "duration": 194,
    "start_time": "2021-08-22T08:36:22.707Z"
   },
   {
    "duration": 6,
    "start_time": "2021-08-22T08:37:28.518Z"
   },
   {
    "duration": 3,
    "start_time": "2021-08-22T09:08:47.562Z"
   },
   {
    "duration": 4,
    "start_time": "2021-08-22T09:24:56.440Z"
   },
   {
    "duration": 5,
    "start_time": "2021-08-22T09:25:11.687Z"
   },
   {
    "duration": 5,
    "start_time": "2021-08-22T09:29:50.961Z"
   },
   {
    "duration": 4,
    "start_time": "2021-08-22T09:46:22.148Z"
   },
   {
    "duration": 5,
    "start_time": "2021-08-22T09:47:02.540Z"
   },
   {
    "duration": 5,
    "start_time": "2021-08-22T10:00:11.143Z"
   },
   {
    "duration": 6,
    "start_time": "2021-08-22T10:04:45.055Z"
   },
   {
    "duration": 102,
    "start_time": "2021-08-22T10:04:48.604Z"
   },
   {
    "duration": 58,
    "start_time": "2021-08-22T10:06:02.442Z"
   },
   {
    "duration": 22,
    "start_time": "2021-08-22T10:06:13.486Z"
   },
   {
    "duration": 616,
    "start_time": "2021-08-22T10:06:41.629Z"
   },
   {
    "duration": 753,
    "start_time": "2021-08-22T10:07:01.728Z"
   },
   {
    "duration": 14,
    "start_time": "2021-08-22T10:07:38.167Z"
   },
   {
    "duration": 12,
    "start_time": "2021-08-22T10:07:47.872Z"
   },
   {
    "duration": 53,
    "start_time": "2021-08-22T10:08:43.549Z"
   },
   {
    "duration": 21,
    "start_time": "2021-08-22T10:08:55.019Z"
   },
   {
    "duration": 12,
    "start_time": "2021-08-22T10:09:04.879Z"
   },
   {
    "duration": 10,
    "start_time": "2021-08-22T10:09:16.238Z"
   },
   {
    "duration": 14,
    "start_time": "2021-08-22T10:09:40.849Z"
   },
   {
    "duration": 6,
    "start_time": "2021-08-22T10:34:15.661Z"
   },
   {
    "duration": 8,
    "start_time": "2021-08-22T10:34:30.730Z"
   },
   {
    "duration": 7,
    "start_time": "2021-08-22T10:35:07.098Z"
   },
   {
    "duration": 8,
    "start_time": "2021-08-22T11:09:28.032Z"
   },
   {
    "duration": 5010,
    "start_time": "2021-08-22T11:10:58.216Z"
   },
   {
    "duration": 5090,
    "start_time": "2021-08-22T11:12:06.672Z"
   },
   {
    "duration": 5,
    "start_time": "2021-08-22T14:11:38.140Z"
   },
   {
    "duration": 1141,
    "start_time": "2021-08-22T14:11:47.526Z"
   },
   {
    "duration": 366,
    "start_time": "2021-08-22T14:11:48.670Z"
   },
   {
    "duration": 16,
    "start_time": "2021-08-22T14:11:49.040Z"
   },
   {
    "duration": 12,
    "start_time": "2021-08-22T14:11:49.058Z"
   },
   {
    "duration": 11,
    "start_time": "2021-08-22T14:11:49.084Z"
   },
   {
    "duration": 10,
    "start_time": "2021-08-22T14:11:49.096Z"
   },
   {
    "duration": 9,
    "start_time": "2021-08-22T14:11:49.109Z"
   },
   {
    "duration": 10,
    "start_time": "2021-08-22T14:11:49.120Z"
   },
   {
    "duration": 71,
    "start_time": "2021-08-22T14:11:49.131Z"
   },
   {
    "duration": 36,
    "start_time": "2021-08-22T14:11:49.204Z"
   },
   {
    "duration": 52,
    "start_time": "2021-08-22T14:11:49.242Z"
   },
   {
    "duration": 17,
    "start_time": "2021-08-22T14:11:49.295Z"
   },
   {
    "duration": 16,
    "start_time": "2021-08-22T14:11:49.313Z"
   },
   {
    "duration": 16,
    "start_time": "2021-08-22T14:11:49.330Z"
   },
   {
    "duration": 42,
    "start_time": "2021-08-22T14:11:49.347Z"
   },
   {
    "duration": 10,
    "start_time": "2021-08-22T14:11:49.391Z"
   },
   {
    "duration": 303,
    "start_time": "2021-08-22T14:11:49.403Z"
   },
   {
    "duration": 296,
    "start_time": "2021-08-22T14:11:49.707Z"
   },
   {
    "duration": 13,
    "start_time": "2021-08-22T14:11:50.005Z"
   },
   {
    "duration": 297,
    "start_time": "2021-08-22T14:11:50.020Z"
   },
   {
    "duration": 399,
    "start_time": "2021-08-22T14:11:50.319Z"
   },
   {
    "duration": 436,
    "start_time": "2021-08-22T14:11:50.722Z"
   },
   {
    "duration": 383,
    "start_time": "2021-08-22T14:11:51.160Z"
   },
   {
    "duration": 3,
    "start_time": "2021-08-22T14:11:51.545Z"
   },
   {
    "duration": 29,
    "start_time": "2021-08-22T14:11:51.550Z"
   },
   {
    "duration": 10,
    "start_time": "2021-08-22T14:11:51.580Z"
   },
   {
    "duration": 24,
    "start_time": "2021-08-22T14:11:51.591Z"
   },
   {
    "duration": 10,
    "start_time": "2021-08-22T14:11:51.617Z"
   },
   {
    "duration": 31,
    "start_time": "2021-08-22T14:11:51.628Z"
   },
   {
    "duration": 10,
    "start_time": "2021-08-22T14:11:51.660Z"
   },
   {
    "duration": 21,
    "start_time": "2021-08-22T14:11:51.671Z"
   },
   {
    "duration": 38,
    "start_time": "2021-08-22T14:11:51.694Z"
   },
   {
    "duration": 4,
    "start_time": "2021-08-22T14:11:51.734Z"
   },
   {
    "duration": 146,
    "start_time": "2021-08-22T14:11:51.739Z"
   },
   {
    "duration": 199,
    "start_time": "2021-08-22T14:11:51.887Z"
   },
   {
    "duration": 191,
    "start_time": "2021-08-22T14:11:52.094Z"
   },
   {
    "duration": 3,
    "start_time": "2021-08-22T14:11:52.288Z"
   },
   {
    "duration": 106,
    "start_time": "2021-08-22T14:11:52.294Z"
   },
   {
    "duration": 17,
    "start_time": "2021-08-22T14:11:52.402Z"
   },
   {
    "duration": 25,
    "start_time": "2021-08-22T14:11:52.421Z"
   },
   {
    "duration": 15,
    "start_time": "2021-08-22T14:11:52.448Z"
   },
   {
    "duration": 17,
    "start_time": "2021-08-22T14:11:52.465Z"
   },
   {
    "duration": 10,
    "start_time": "2021-08-22T14:11:52.484Z"
   },
   {
    "duration": 3449,
    "start_time": "2021-08-22T14:11:52.496Z"
   },
   {
    "duration": 3,
    "start_time": "2021-08-22T14:13:54.927Z"
   },
   {
    "duration": 10,
    "start_time": "2021-08-22T14:14:19.456Z"
   },
   {
    "duration": 4,
    "start_time": "2021-08-22T14:14:54.478Z"
   },
   {
    "duration": 9,
    "start_time": "2021-08-22T14:14:55.897Z"
   },
   {
    "duration": 8,
    "start_time": "2021-08-22T14:15:22.857Z"
   },
   {
    "duration": 8,
    "start_time": "2021-08-22T14:15:29.199Z"
   },
   {
    "duration": 9,
    "start_time": "2021-08-22T14:15:35.897Z"
   },
   {
    "duration": 1142,
    "start_time": "2021-08-22T14:17:33.233Z"
   },
   {
    "duration": 368,
    "start_time": "2021-08-22T14:17:34.377Z"
   },
   {
    "duration": 17,
    "start_time": "2021-08-22T14:17:34.748Z"
   },
   {
    "duration": 24,
    "start_time": "2021-08-22T14:17:34.767Z"
   },
   {
    "duration": 13,
    "start_time": "2021-08-22T14:17:34.793Z"
   },
   {
    "duration": 14,
    "start_time": "2021-08-22T14:17:34.808Z"
   },
   {
    "duration": 11,
    "start_time": "2021-08-22T14:17:34.824Z"
   },
   {
    "duration": 10,
    "start_time": "2021-08-22T14:17:34.837Z"
   },
   {
    "duration": 64,
    "start_time": "2021-08-22T14:17:34.850Z"
   },
   {
    "duration": 37,
    "start_time": "2021-08-22T14:17:34.916Z"
   },
   {
    "duration": 55,
    "start_time": "2021-08-22T14:17:34.954Z"
   },
   {
    "duration": 16,
    "start_time": "2021-08-22T14:17:35.010Z"
   },
   {
    "duration": 15,
    "start_time": "2021-08-22T14:17:35.028Z"
   },
   {
    "duration": 16,
    "start_time": "2021-08-22T14:17:35.044Z"
   },
   {
    "duration": 11,
    "start_time": "2021-08-22T14:17:35.085Z"
   },
   {
    "duration": 10,
    "start_time": "2021-08-22T14:17:35.098Z"
   },
   {
    "duration": 294,
    "start_time": "2021-08-22T14:17:35.110Z"
   },
   {
    "duration": 288,
    "start_time": "2021-08-22T14:17:35.406Z"
   },
   {
    "duration": 13,
    "start_time": "2021-08-22T14:17:35.695Z"
   },
   {
    "duration": 297,
    "start_time": "2021-08-22T14:17:35.710Z"
   },
   {
    "duration": 393,
    "start_time": "2021-08-22T14:17:36.008Z"
   },
   {
    "duration": 445,
    "start_time": "2021-08-22T14:17:36.402Z"
   },
   {
    "duration": 391,
    "start_time": "2021-08-22T14:17:36.848Z"
   },
   {
    "duration": 3,
    "start_time": "2021-08-22T14:17:37.241Z"
   },
   {
    "duration": 43,
    "start_time": "2021-08-22T14:17:37.246Z"
   },
   {
    "duration": 4,
    "start_time": "2021-08-22T14:17:37.291Z"
   },
   {
    "duration": 16,
    "start_time": "2021-08-22T14:17:37.298Z"
   },
   {
    "duration": 3,
    "start_time": "2021-08-22T14:17:37.316Z"
   },
   {
    "duration": 17,
    "start_time": "2021-08-22T14:17:37.321Z"
   },
   {
    "duration": 17,
    "start_time": "2021-08-22T14:17:37.340Z"
   },
   {
    "duration": 6,
    "start_time": "2021-08-22T14:17:37.358Z"
   },
   {
    "duration": 36,
    "start_time": "2021-08-22T14:17:37.366Z"
   },
   {
    "duration": 5,
    "start_time": "2021-08-22T14:17:37.403Z"
   },
   {
    "duration": 80,
    "start_time": "2021-08-22T14:17:37.409Z"
   },
   {
    "duration": 195,
    "start_time": "2021-08-22T14:17:37.491Z"
   },
   {
    "duration": 195,
    "start_time": "2021-08-22T14:17:37.689Z"
   },
   {
    "duration": 4,
    "start_time": "2021-08-22T14:17:37.887Z"
   },
   {
    "duration": 93,
    "start_time": "2021-08-22T14:17:37.894Z"
   },
   {
    "duration": 6,
    "start_time": "2021-08-22T14:17:37.988Z"
   },
   {
    "duration": 18,
    "start_time": "2021-08-22T14:17:37.995Z"
   },
   {
    "duration": 8,
    "start_time": "2021-08-22T14:17:38.015Z"
   },
   {
    "duration": 8,
    "start_time": "2021-08-22T14:17:38.024Z"
   },
   {
    "duration": 4,
    "start_time": "2021-08-22T14:17:38.034Z"
   },
   {
    "duration": 3485,
    "start_time": "2021-08-22T14:17:38.040Z"
   },
   {
    "duration": 5,
    "start_time": "2021-08-22T14:18:31.257Z"
   },
   {
    "duration": 19,
    "start_time": "2021-08-22T14:18:33.755Z"
   },
   {
    "duration": 3,
    "start_time": "2021-08-22T14:18:56.733Z"
   },
   {
    "duration": 8,
    "start_time": "2021-08-22T14:19:00.437Z"
   },
   {
    "duration": 8,
    "start_time": "2021-08-22T14:19:11.729Z"
   },
   {
    "duration": 1188,
    "start_time": "2021-08-22T14:19:29.278Z"
   },
   {
    "duration": 381,
    "start_time": "2021-08-22T14:19:30.468Z"
   },
   {
    "duration": 15,
    "start_time": "2021-08-22T14:19:30.852Z"
   },
   {
    "duration": 29,
    "start_time": "2021-08-22T14:19:30.869Z"
   },
   {
    "duration": 18,
    "start_time": "2021-08-22T14:19:30.899Z"
   },
   {
    "duration": 14,
    "start_time": "2021-08-22T14:19:30.919Z"
   },
   {
    "duration": 10,
    "start_time": "2021-08-22T14:19:30.935Z"
   },
   {
    "duration": 9,
    "start_time": "2021-08-22T14:19:30.947Z"
   },
   {
    "duration": 61,
    "start_time": "2021-08-22T14:19:30.958Z"
   },
   {
    "duration": 38,
    "start_time": "2021-08-22T14:19:31.021Z"
   },
   {
    "duration": 50,
    "start_time": "2021-08-22T14:19:31.061Z"
   },
   {
    "duration": 16,
    "start_time": "2021-08-22T14:19:31.113Z"
   },
   {
    "duration": 16,
    "start_time": "2021-08-22T14:19:31.131Z"
   },
   {
    "duration": 41,
    "start_time": "2021-08-22T14:19:31.148Z"
   },
   {
    "duration": 10,
    "start_time": "2021-08-22T14:19:31.191Z"
   },
   {
    "duration": 12,
    "start_time": "2021-08-22T14:19:31.203Z"
   },
   {
    "duration": 307,
    "start_time": "2021-08-22T14:19:31.217Z"
   },
   {
    "duration": 285,
    "start_time": "2021-08-22T14:19:31.526Z"
   },
   {
    "duration": 12,
    "start_time": "2021-08-22T14:19:31.813Z"
   },
   {
    "duration": 298,
    "start_time": "2021-08-22T14:19:31.826Z"
   },
   {
    "duration": 380,
    "start_time": "2021-08-22T14:19:32.125Z"
   },
   {
    "duration": 455,
    "start_time": "2021-08-22T14:19:32.508Z"
   },
   {
    "duration": 417,
    "start_time": "2021-08-22T14:19:32.967Z"
   },
   {
    "duration": 3,
    "start_time": "2021-08-22T14:19:33.387Z"
   },
   {
    "duration": 24,
    "start_time": "2021-08-22T14:19:33.392Z"
   },
   {
    "duration": 3,
    "start_time": "2021-08-22T14:19:33.418Z"
   },
   {
    "duration": 22,
    "start_time": "2021-08-22T14:19:33.423Z"
   },
   {
    "duration": 4,
    "start_time": "2021-08-22T14:19:33.447Z"
   },
   {
    "duration": 38,
    "start_time": "2021-08-22T14:19:33.453Z"
   },
   {
    "duration": 4,
    "start_time": "2021-08-22T14:19:33.493Z"
   },
   {
    "duration": 13,
    "start_time": "2021-08-22T14:19:33.498Z"
   },
   {
    "duration": 29,
    "start_time": "2021-08-22T14:19:33.513Z"
   },
   {
    "duration": 5,
    "start_time": "2021-08-22T14:19:33.543Z"
   },
   {
    "duration": 41,
    "start_time": "2021-08-22T14:19:33.550Z"
   },
   {
    "duration": 199,
    "start_time": "2021-08-22T14:19:33.593Z"
   },
   {
    "duration": 195,
    "start_time": "2021-08-22T14:19:33.795Z"
   },
   {
    "duration": 94,
    "start_time": "2021-08-22T14:19:33.992Z"
   },
   {
    "duration": 11,
    "start_time": "2021-08-22T14:19:34.088Z"
   },
   {
    "duration": 5,
    "start_time": "2021-08-22T14:19:34.185Z"
   },
   {
    "duration": 15,
    "start_time": "2021-08-22T14:19:34.192Z"
   },
   {
    "duration": 8,
    "start_time": "2021-08-22T14:19:34.209Z"
   },
   {
    "duration": 8,
    "start_time": "2021-08-22T14:19:34.219Z"
   },
   {
    "duration": 5,
    "start_time": "2021-08-22T14:19:34.229Z"
   },
   {
    "duration": 3537,
    "start_time": "2021-08-22T14:19:34.235Z"
   },
   {
    "duration": 9,
    "start_time": "2021-08-22T14:19:54.458Z"
   },
   {
    "duration": 8,
    "start_time": "2021-08-22T14:20:03.878Z"
   },
   {
    "duration": 1073,
    "start_time": "2021-08-22T14:20:41.444Z"
   },
   {
    "duration": 358,
    "start_time": "2021-08-22T14:20:42.519Z"
   },
   {
    "duration": 17,
    "start_time": "2021-08-22T14:20:42.879Z"
   },
   {
    "duration": 10,
    "start_time": "2021-08-22T14:20:42.899Z"
   },
   {
    "duration": 12,
    "start_time": "2021-08-22T14:20:42.911Z"
   },
   {
    "duration": 13,
    "start_time": "2021-08-22T14:20:42.924Z"
   },
   {
    "duration": 9,
    "start_time": "2021-08-22T14:20:42.939Z"
   },
   {
    "duration": 42,
    "start_time": "2021-08-22T14:20:42.949Z"
   },
   {
    "duration": 38,
    "start_time": "2021-08-22T14:20:42.994Z"
   },
   {
    "duration": 52,
    "start_time": "2021-08-22T14:20:43.034Z"
   },
   {
    "duration": 36,
    "start_time": "2021-08-22T14:20:43.088Z"
   },
   {
    "duration": 14,
    "start_time": "2021-08-22T14:20:43.125Z"
   },
   {
    "duration": 14,
    "start_time": "2021-08-22T14:20:43.141Z"
   },
   {
    "duration": 39,
    "start_time": "2021-08-22T14:20:43.156Z"
   },
   {
    "duration": 10,
    "start_time": "2021-08-22T14:20:43.197Z"
   },
   {
    "duration": 13,
    "start_time": "2021-08-22T14:20:43.209Z"
   },
   {
    "duration": 296,
    "start_time": "2021-08-22T14:20:43.224Z"
   },
   {
    "duration": 280,
    "start_time": "2021-08-22T14:20:43.521Z"
   },
   {
    "duration": 12,
    "start_time": "2021-08-22T14:20:43.803Z"
   },
   {
    "duration": 289,
    "start_time": "2021-08-22T14:20:43.817Z"
   },
   {
    "duration": 394,
    "start_time": "2021-08-22T14:20:44.107Z"
   },
   {
    "duration": 443,
    "start_time": "2021-08-22T14:20:44.504Z"
   },
   {
    "duration": 391,
    "start_time": "2021-08-22T14:20:44.950Z"
   },
   {
    "duration": 4,
    "start_time": "2021-08-22T14:20:45.343Z"
   },
   {
    "duration": 19,
    "start_time": "2021-08-22T14:20:45.349Z"
   },
   {
    "duration": 16,
    "start_time": "2021-08-22T14:20:45.369Z"
   },
   {
    "duration": 16,
    "start_time": "2021-08-22T14:20:45.388Z"
   },
   {
    "duration": 3,
    "start_time": "2021-08-22T14:20:45.406Z"
   },
   {
    "duration": 16,
    "start_time": "2021-08-22T14:20:45.411Z"
   },
   {
    "duration": 4,
    "start_time": "2021-08-22T14:20:45.428Z"
   },
   {
    "duration": 6,
    "start_time": "2021-08-22T14:20:45.433Z"
   },
   {
    "duration": 53,
    "start_time": "2021-08-22T14:20:45.441Z"
   },
   {
    "duration": 5,
    "start_time": "2021-08-22T14:20:45.496Z"
   },
   {
    "duration": 86,
    "start_time": "2021-08-22T14:20:45.503Z"
   },
   {
    "duration": 107,
    "start_time": "2021-08-22T14:20:45.591Z"
   },
   {
    "duration": 109,
    "start_time": "2021-08-22T14:20:45.786Z"
   },
   {
    "duration": 4,
    "start_time": "2021-08-22T14:20:45.987Z"
   },
   {
    "duration": 93,
    "start_time": "2021-08-22T14:20:45.994Z"
   },
   {
    "duration": 8,
    "start_time": "2021-08-22T14:20:46.088Z"
   },
   {
    "duration": 11,
    "start_time": "2021-08-22T14:20:46.098Z"
   },
   {
    "duration": 8,
    "start_time": "2021-08-22T14:20:46.110Z"
   },
   {
    "duration": 8,
    "start_time": "2021-08-22T14:20:46.119Z"
   },
   {
    "duration": 4,
    "start_time": "2021-08-22T14:20:46.128Z"
   },
   {
    "duration": 4,
    "start_time": "2021-08-22T14:20:46.134Z"
   },
   {
    "duration": 8,
    "start_time": "2021-08-22T14:21:05.517Z"
   },
   {
    "duration": 4,
    "start_time": "2021-08-22T14:30:27.185Z"
   },
   {
    "duration": 9,
    "start_time": "2021-08-22T14:30:28.937Z"
   },
   {
    "duration": 8,
    "start_time": "2021-08-22T14:30:30.457Z"
   },
   {
    "duration": 9,
    "start_time": "2021-08-22T14:30:31.987Z"
   },
   {
    "duration": 8,
    "start_time": "2021-08-22T14:30:32.857Z"
   },
   {
    "duration": 285,
    "start_time": "2021-08-22T14:53:54.415Z"
   },
   {
    "duration": 17,
    "start_time": "2021-08-22T14:54:04.585Z"
   },
   {
    "duration": 9,
    "start_time": "2021-08-22T14:54:09.875Z"
   },
   {
    "duration": 39,
    "start_time": "2021-08-22T14:54:47.636Z"
   },
   {
    "duration": 8,
    "start_time": "2021-08-22T14:55:05.865Z"
   },
   {
    "duration": 9,
    "start_time": "2021-08-22T14:56:27.724Z"
   },
   {
    "duration": 8,
    "start_time": "2021-08-22T14:56:49.785Z"
   },
   {
    "duration": 8,
    "start_time": "2021-08-22T14:57:04.555Z"
   },
   {
    "duration": 3,
    "start_time": "2021-08-22T15:08:59.961Z"
   },
   {
    "duration": 188,
    "start_time": "2021-08-22T15:09:01.905Z"
   },
   {
    "duration": 9,
    "start_time": "2021-08-22T15:09:33.795Z"
   },
   {
    "duration": 7,
    "start_time": "2021-08-22T15:10:03.574Z"
   },
   {
    "duration": 7,
    "start_time": "2021-08-22T15:10:28.554Z"
   },
   {
    "duration": 8,
    "start_time": "2021-08-22T15:10:34.294Z"
   },
   {
    "duration": 1075,
    "start_time": "2021-08-22T15:47:34.595Z"
   },
   {
    "duration": 372,
    "start_time": "2021-08-22T15:47:35.672Z"
   },
   {
    "duration": 18,
    "start_time": "2021-08-22T15:47:36.046Z"
   },
   {
    "duration": 28,
    "start_time": "2021-08-22T15:47:36.066Z"
   },
   {
    "duration": 11,
    "start_time": "2021-08-22T15:47:36.096Z"
   },
   {
    "duration": 16,
    "start_time": "2021-08-22T15:47:36.109Z"
   },
   {
    "duration": 12,
    "start_time": "2021-08-22T15:47:36.126Z"
   },
   {
    "duration": 45,
    "start_time": "2021-08-22T15:47:36.140Z"
   },
   {
    "duration": 42,
    "start_time": "2021-08-22T15:47:36.188Z"
   },
   {
    "duration": 57,
    "start_time": "2021-08-22T15:47:36.233Z"
   },
   {
    "duration": 38,
    "start_time": "2021-08-22T15:47:36.292Z"
   },
   {
    "duration": 15,
    "start_time": "2021-08-22T15:47:36.331Z"
   },
   {
    "duration": 40,
    "start_time": "2021-08-22T15:47:36.348Z"
   },
   {
    "duration": 15,
    "start_time": "2021-08-22T15:47:36.389Z"
   },
   {
    "duration": 11,
    "start_time": "2021-08-22T15:47:36.406Z"
   },
   {
    "duration": 11,
    "start_time": "2021-08-22T15:47:36.418Z"
   },
   {
    "duration": 343,
    "start_time": "2021-08-22T15:47:36.430Z"
   },
   {
    "duration": 312,
    "start_time": "2021-08-22T15:47:36.774Z"
   },
   {
    "duration": 12,
    "start_time": "2021-08-22T15:47:37.088Z"
   },
   {
    "duration": 297,
    "start_time": "2021-08-22T15:47:37.102Z"
   },
   {
    "duration": 387,
    "start_time": "2021-08-22T15:47:37.400Z"
   },
   {
    "duration": 439,
    "start_time": "2021-08-22T15:47:37.788Z"
   },
   {
    "duration": 402,
    "start_time": "2021-08-22T15:47:38.229Z"
   },
   {
    "duration": 4,
    "start_time": "2021-08-22T15:47:38.633Z"
   },
   {
    "duration": 19,
    "start_time": "2021-08-22T15:47:38.640Z"
   },
   {
    "duration": 24,
    "start_time": "2021-08-22T15:47:38.661Z"
   },
   {
    "duration": 16,
    "start_time": "2021-08-22T15:47:38.688Z"
   },
   {
    "duration": 4,
    "start_time": "2021-08-22T15:47:38.706Z"
   },
   {
    "duration": 17,
    "start_time": "2021-08-22T15:47:38.712Z"
   },
   {
    "duration": 4,
    "start_time": "2021-08-22T15:47:38.730Z"
   },
   {
    "duration": 4,
    "start_time": "2021-08-22T15:47:38.736Z"
   },
   {
    "duration": 50,
    "start_time": "2021-08-22T15:47:38.742Z"
   },
   {
    "duration": 4,
    "start_time": "2021-08-22T15:47:38.794Z"
   },
   {
    "duration": 21,
    "start_time": "2021-08-22T15:47:38.800Z"
   },
   {
    "duration": 200,
    "start_time": "2021-08-22T15:47:38.886Z"
   },
   {
    "duration": 197,
    "start_time": "2021-08-22T15:47:39.089Z"
   },
   {
    "duration": 4,
    "start_time": "2021-08-22T15:47:39.289Z"
   },
   {
    "duration": 3,
    "start_time": "2021-08-22T15:47:39.386Z"
   },
   {
    "duration": 39,
    "start_time": "2021-08-22T15:47:39.391Z"
   },
   {
    "duration": 8,
    "start_time": "2021-08-22T15:47:39.432Z"
   },
   {
    "duration": 8,
    "start_time": "2021-08-22T15:47:39.442Z"
   },
   {
    "duration": 8,
    "start_time": "2021-08-22T15:47:39.451Z"
   },
   {
    "duration": 6,
    "start_time": "2021-08-22T15:47:39.484Z"
   },
   {
    "duration": 7,
    "start_time": "2021-08-22T15:52:04.554Z"
   },
   {
    "duration": 2529,
    "start_time": "2021-08-22T15:54:08.878Z"
   },
   {
    "duration": 218,
    "start_time": "2021-08-22T15:55:21.181Z"
   },
   {
    "duration": 2517,
    "start_time": "2021-08-22T15:56:12.832Z"
   },
   {
    "duration": 206,
    "start_time": "2021-08-22T15:57:25.321Z"
   },
   {
    "duration": 2516,
    "start_time": "2021-08-22T15:58:03.529Z"
   },
   {
    "duration": 1129,
    "start_time": "2021-08-22T16:00:51.194Z"
   },
   {
    "duration": 363,
    "start_time": "2021-08-22T16:00:52.324Z"
   },
   {
    "duration": 16,
    "start_time": "2021-08-22T16:00:52.690Z"
   },
   {
    "duration": 10,
    "start_time": "2021-08-22T16:00:52.708Z"
   },
   {
    "duration": 12,
    "start_time": "2021-08-22T16:00:52.719Z"
   },
   {
    "duration": 11,
    "start_time": "2021-08-22T16:00:52.733Z"
   },
   {
    "duration": 41,
    "start_time": "2021-08-22T16:00:52.746Z"
   },
   {
    "duration": 10,
    "start_time": "2021-08-22T16:00:52.789Z"
   },
   {
    "duration": 39,
    "start_time": "2021-08-22T16:00:52.800Z"
   },
   {
    "duration": 56,
    "start_time": "2021-08-22T16:00:52.840Z"
   },
   {
    "duration": 37,
    "start_time": "2021-08-22T16:00:52.898Z"
   },
   {
    "duration": 15,
    "start_time": "2021-08-22T16:00:52.936Z"
   },
   {
    "duration": 38,
    "start_time": "2021-08-22T16:00:52.953Z"
   },
   {
    "duration": 16,
    "start_time": "2021-08-22T16:00:52.992Z"
   },
   {
    "duration": 11,
    "start_time": "2021-08-22T16:00:53.010Z"
   },
   {
    "duration": 11,
    "start_time": "2021-08-22T16:00:53.023Z"
   },
   {
    "duration": 338,
    "start_time": "2021-08-22T16:00:53.035Z"
   },
   {
    "duration": 312,
    "start_time": "2021-08-22T16:00:53.375Z"
   },
   {
    "duration": 13,
    "start_time": "2021-08-22T16:00:53.688Z"
   },
   {
    "duration": 288,
    "start_time": "2021-08-22T16:00:53.702Z"
   },
   {
    "duration": 368,
    "start_time": "2021-08-22T16:00:53.991Z"
   },
   {
    "duration": 449,
    "start_time": "2021-08-22T16:00:54.360Z"
   },
   {
    "duration": 385,
    "start_time": "2021-08-22T16:00:54.812Z"
   },
   {
    "duration": 3,
    "start_time": "2021-08-22T16:00:55.199Z"
   },
   {
    "duration": 21,
    "start_time": "2021-08-22T16:00:55.204Z"
   },
   {
    "duration": 4,
    "start_time": "2021-08-22T16:00:55.226Z"
   },
   {
    "duration": 17,
    "start_time": "2021-08-22T16:00:55.231Z"
   },
   {
    "duration": 3,
    "start_time": "2021-08-22T16:00:55.250Z"
   },
   {
    "duration": 41,
    "start_time": "2021-08-22T16:00:55.255Z"
   },
   {
    "duration": 3,
    "start_time": "2021-08-22T16:00:55.298Z"
   },
   {
    "duration": 9,
    "start_time": "2021-08-22T16:00:55.303Z"
   },
   {
    "duration": 27,
    "start_time": "2021-08-22T16:00:55.313Z"
   },
   {
    "duration": 4,
    "start_time": "2021-08-22T16:00:55.342Z"
   },
   {
    "duration": 45,
    "start_time": "2021-08-22T16:00:55.348Z"
   },
   {
    "duration": 290,
    "start_time": "2021-08-22T16:00:55.395Z"
   },
   {
    "duration": 199,
    "start_time": "2021-08-22T16:00:55.688Z"
   },
   {
    "duration": 3,
    "start_time": "2021-08-22T16:00:55.890Z"
   },
   {
    "duration": 5,
    "start_time": "2021-08-22T16:00:55.986Z"
   },
   {
    "duration": 40,
    "start_time": "2021-08-22T16:00:55.993Z"
   },
   {
    "duration": 9,
    "start_time": "2021-08-22T16:00:56.034Z"
   },
   {
    "duration": 5,
    "start_time": "2021-08-22T16:00:56.045Z"
   },
   {
    "duration": 35,
    "start_time": "2021-08-22T16:00:56.052Z"
   },
   {
    "duration": 2561,
    "start_time": "2021-08-22T16:00:56.089Z"
   },
   {
    "duration": 2553,
    "start_time": "2021-08-22T16:00:58.652Z"
   },
   {
    "duration": 2538,
    "start_time": "2021-08-22T16:01:01.208Z"
   },
   {
    "duration": 1177,
    "start_time": "2021-08-22T16:22:01.191Z"
   },
   {
    "duration": 378,
    "start_time": "2021-08-22T16:22:02.370Z"
   },
   {
    "duration": 17,
    "start_time": "2021-08-22T16:22:02.750Z"
   },
   {
    "duration": 21,
    "start_time": "2021-08-22T16:22:02.768Z"
   },
   {
    "duration": 11,
    "start_time": "2021-08-22T16:22:02.791Z"
   },
   {
    "duration": 12,
    "start_time": "2021-08-22T16:22:02.803Z"
   },
   {
    "duration": 9,
    "start_time": "2021-08-22T16:22:02.817Z"
   },
   {
    "duration": 9,
    "start_time": "2021-08-22T16:22:02.828Z"
   },
   {
    "duration": 71,
    "start_time": "2021-08-22T16:22:02.839Z"
   },
   {
    "duration": 37,
    "start_time": "2021-08-22T16:22:02.911Z"
   },
   {
    "duration": 52,
    "start_time": "2021-08-22T16:22:02.950Z"
   },
   {
    "duration": 16,
    "start_time": "2021-08-22T16:22:03.004Z"
   },
   {
    "duration": 16,
    "start_time": "2021-08-22T16:22:03.021Z"
   },
   {
    "duration": 15,
    "start_time": "2021-08-22T16:22:03.038Z"
   },
   {
    "duration": 35,
    "start_time": "2021-08-22T16:22:03.055Z"
   },
   {
    "duration": 13,
    "start_time": "2021-08-22T16:22:03.092Z"
   },
   {
    "duration": 309,
    "start_time": "2021-08-22T16:22:03.106Z"
   },
   {
    "duration": 275,
    "start_time": "2021-08-22T16:22:03.417Z"
   },
   {
    "duration": 12,
    "start_time": "2021-08-22T16:22:03.694Z"
   },
   {
    "duration": 295,
    "start_time": "2021-08-22T16:22:03.708Z"
   },
   {
    "duration": 388,
    "start_time": "2021-08-22T16:22:04.005Z"
   },
   {
    "duration": 498,
    "start_time": "2021-08-22T16:22:04.394Z"
   },
   {
    "duration": 386,
    "start_time": "2021-08-22T16:22:04.895Z"
   },
   {
    "duration": 4,
    "start_time": "2021-08-22T16:22:05.283Z"
   },
   {
    "duration": 21,
    "start_time": "2021-08-22T16:22:05.288Z"
   },
   {
    "duration": 4,
    "start_time": "2021-08-22T16:22:05.311Z"
   },
   {
    "duration": 18,
    "start_time": "2021-08-22T16:22:05.316Z"
   },
   {
    "duration": 4,
    "start_time": "2021-08-22T16:22:05.335Z"
   },
   {
    "duration": 20,
    "start_time": "2021-08-22T16:22:05.340Z"
   },
   {
    "duration": 3,
    "start_time": "2021-08-22T16:22:05.385Z"
   },
   {
    "duration": 5,
    "start_time": "2021-08-22T16:22:05.390Z"
   },
   {
    "duration": 29,
    "start_time": "2021-08-22T16:22:05.396Z"
   },
   {
    "duration": 4,
    "start_time": "2021-08-22T16:22:05.427Z"
   },
   {
    "duration": 58,
    "start_time": "2021-08-22T16:22:05.433Z"
   },
   {
    "duration": 193,
    "start_time": "2021-08-22T16:22:05.494Z"
   },
   {
    "duration": 198,
    "start_time": "2021-08-22T16:22:05.691Z"
   },
   {
    "duration": 4,
    "start_time": "2021-08-22T16:22:05.892Z"
   },
   {
    "duration": 5,
    "start_time": "2021-08-22T16:22:05.985Z"
   },
   {
    "duration": 43,
    "start_time": "2021-08-22T16:22:05.992Z"
   },
   {
    "duration": 9,
    "start_time": "2021-08-22T16:22:06.036Z"
   },
   {
    "duration": 37,
    "start_time": "2021-08-22T16:22:06.047Z"
   },
   {
    "duration": 5,
    "start_time": "2021-08-22T16:22:06.087Z"
   },
   {
    "duration": 2520,
    "start_time": "2021-08-22T16:22:06.094Z"
   },
   {
    "duration": 2547,
    "start_time": "2021-08-22T16:22:08.616Z"
   },
   {
    "duration": 2549,
    "start_time": "2021-08-22T16:22:11.164Z"
   },
   {
    "duration": 1168,
    "start_time": "2021-08-28T09:16:12.259Z"
   },
   {
    "duration": 435,
    "start_time": "2021-08-28T09:16:13.429Z"
   },
   {
    "duration": 22,
    "start_time": "2021-08-28T09:16:13.866Z"
   },
   {
    "duration": 12,
    "start_time": "2021-08-28T09:16:13.890Z"
   },
   {
    "duration": 11,
    "start_time": "2021-08-28T09:16:13.904Z"
   },
   {
    "duration": 12,
    "start_time": "2021-08-28T09:16:13.917Z"
   },
   {
    "duration": 11,
    "start_time": "2021-08-28T09:16:13.931Z"
   },
   {
    "duration": 48,
    "start_time": "2021-08-28T09:16:13.945Z"
   },
   {
    "duration": 39,
    "start_time": "2021-08-28T09:16:13.996Z"
   },
   {
    "duration": 63,
    "start_time": "2021-08-28T09:16:14.037Z"
   },
   {
    "duration": 37,
    "start_time": "2021-08-28T09:16:14.102Z"
   },
   {
    "duration": 18,
    "start_time": "2021-08-28T09:16:14.141Z"
   },
   {
    "duration": 38,
    "start_time": "2021-08-28T09:16:14.161Z"
   },
   {
    "duration": 14,
    "start_time": "2021-08-28T09:16:14.200Z"
   },
   {
    "duration": 10,
    "start_time": "2021-08-28T09:16:14.216Z"
   },
   {
    "duration": 10,
    "start_time": "2021-08-28T09:16:14.228Z"
   },
   {
    "duration": 338,
    "start_time": "2021-08-28T09:16:14.240Z"
   },
   {
    "duration": 305,
    "start_time": "2021-08-28T09:16:14.580Z"
   },
   {
    "duration": 12,
    "start_time": "2021-08-28T09:16:14.887Z"
   },
   {
    "duration": 297,
    "start_time": "2021-08-28T09:16:14.901Z"
   },
   {
    "duration": 379,
    "start_time": "2021-08-28T09:16:15.201Z"
   },
   {
    "duration": 429,
    "start_time": "2021-08-28T09:16:15.582Z"
   },
   {
    "duration": 374,
    "start_time": "2021-08-28T09:16:16.014Z"
   },
   {
    "duration": 3,
    "start_time": "2021-08-28T09:16:16.390Z"
   },
   {
    "duration": 22,
    "start_time": "2021-08-28T09:16:16.394Z"
   },
   {
    "duration": 3,
    "start_time": "2021-08-28T09:16:16.418Z"
   },
   {
    "duration": 17,
    "start_time": "2021-08-28T09:16:16.423Z"
   },
   {
    "duration": 3,
    "start_time": "2021-08-28T09:16:16.441Z"
   },
   {
    "duration": 43,
    "start_time": "2021-08-28T09:16:16.446Z"
   },
   {
    "duration": 4,
    "start_time": "2021-08-28T09:16:16.491Z"
   },
   {
    "duration": 6,
    "start_time": "2021-08-28T09:16:16.496Z"
   },
   {
    "duration": 24,
    "start_time": "2021-08-28T09:16:16.503Z"
   },
   {
    "duration": 4,
    "start_time": "2021-08-28T09:16:16.529Z"
   },
   {
    "duration": 59,
    "start_time": "2021-08-28T09:16:16.534Z"
   },
   {
    "duration": 112,
    "start_time": "2021-08-28T09:16:16.686Z"
   },
   {
    "duration": 200,
    "start_time": "2021-08-28T09:16:16.886Z"
   },
   {
    "duration": 92,
    "start_time": "2021-08-28T09:16:17.093Z"
   },
   {
    "duration": 7,
    "start_time": "2021-08-28T09:16:17.187Z"
   },
   {
    "duration": 40,
    "start_time": "2021-08-28T09:16:17.195Z"
   },
   {
    "duration": 7,
    "start_time": "2021-08-28T09:16:17.236Z"
   },
   {
    "duration": 5,
    "start_time": "2021-08-28T09:16:17.245Z"
   },
   {
    "duration": 8,
    "start_time": "2021-08-28T09:16:17.251Z"
   },
   {
    "duration": 2526,
    "start_time": "2021-08-28T09:16:17.260Z"
   },
   {
    "duration": 2472,
    "start_time": "2021-08-28T09:16:19.787Z"
   },
   {
    "duration": 2544,
    "start_time": "2021-08-28T09:16:22.261Z"
   },
   {
    "duration": 68,
    "start_time": "2021-08-28T09:24:38.943Z"
   },
   {
    "duration": 69,
    "start_time": "2021-08-28T09:25:12.332Z"
   },
   {
    "duration": 5,
    "start_time": "2021-08-28T09:25:22.224Z"
   },
   {
    "duration": 3910,
    "start_time": "2021-08-28T09:25:26.050Z"
   },
   {
    "duration": 3725,
    "start_time": "2021-08-28T09:25:56.972Z"
   },
   {
    "duration": 3746,
    "start_time": "2021-08-28T09:26:20.044Z"
   },
   {
    "duration": 1066,
    "start_time": "2021-08-28T09:28:39.293Z"
   },
   {
    "duration": 360,
    "start_time": "2021-08-28T09:28:40.361Z"
   },
   {
    "duration": 15,
    "start_time": "2021-08-28T09:28:40.723Z"
   },
   {
    "duration": 11,
    "start_time": "2021-08-28T09:28:40.740Z"
   },
   {
    "duration": 13,
    "start_time": "2021-08-28T09:28:40.752Z"
   },
   {
    "duration": 24,
    "start_time": "2021-08-28T09:28:40.766Z"
   },
   {
    "duration": 9,
    "start_time": "2021-08-28T09:28:40.791Z"
   },
   {
    "duration": 9,
    "start_time": "2021-08-28T09:28:40.803Z"
   },
   {
    "duration": 37,
    "start_time": "2021-08-28T09:28:40.814Z"
   },
   {
    "duration": 62,
    "start_time": "2021-08-28T09:28:40.852Z"
   },
   {
    "duration": 34,
    "start_time": "2021-08-28T09:28:40.916Z"
   },
   {
    "duration": 15,
    "start_time": "2021-08-28T09:28:40.951Z"
   },
   {
    "duration": 15,
    "start_time": "2021-08-28T09:28:40.985Z"
   },
   {
    "duration": 15,
    "start_time": "2021-08-28T09:28:41.002Z"
   },
   {
    "duration": 11,
    "start_time": "2021-08-28T09:28:41.018Z"
   },
   {
    "duration": 11,
    "start_time": "2021-08-28T09:28:41.030Z"
   },
   {
    "duration": 333,
    "start_time": "2021-08-28T09:28:41.042Z"
   },
   {
    "duration": 301,
    "start_time": "2021-08-28T09:28:41.384Z"
   },
   {
    "duration": 13,
    "start_time": "2021-08-28T09:28:41.686Z"
   },
   {
    "duration": 291,
    "start_time": "2021-08-28T09:28:41.700Z"
   },
   {
    "duration": 367,
    "start_time": "2021-08-28T09:28:41.993Z"
   },
   {
    "duration": 415,
    "start_time": "2021-08-28T09:28:42.361Z"
   },
   {
    "duration": 360,
    "start_time": "2021-08-28T09:28:42.779Z"
   },
   {
    "duration": 3,
    "start_time": "2021-08-28T09:28:43.142Z"
   },
   {
    "duration": 22,
    "start_time": "2021-08-28T09:28:43.147Z"
   },
   {
    "duration": 14,
    "start_time": "2021-08-28T09:28:43.170Z"
   },
   {
    "duration": 15,
    "start_time": "2021-08-28T09:28:43.186Z"
   },
   {
    "duration": 4,
    "start_time": "2021-08-28T09:28:43.202Z"
   },
   {
    "duration": 16,
    "start_time": "2021-08-28T09:28:43.207Z"
   },
   {
    "duration": 3,
    "start_time": "2021-08-28T09:28:43.225Z"
   },
   {
    "duration": 4,
    "start_time": "2021-08-28T09:28:43.230Z"
   },
   {
    "duration": 50,
    "start_time": "2021-08-28T09:28:43.235Z"
   },
   {
    "duration": 5,
    "start_time": "2021-08-28T09:28:43.286Z"
   },
   {
    "duration": 95,
    "start_time": "2021-08-28T09:28:43.292Z"
   },
   {
    "duration": 107,
    "start_time": "2021-08-28T09:28:43.388Z"
   },
   {
    "duration": 103,
    "start_time": "2021-08-28T09:28:43.585Z"
   },
   {
    "duration": 4,
    "start_time": "2021-08-28T09:28:43.690Z"
   },
   {
    "duration": 4,
    "start_time": "2021-08-28T09:28:43.786Z"
   },
   {
    "duration": 111,
    "start_time": "2021-08-28T09:28:43.792Z"
   },
   {
    "duration": 7,
    "start_time": "2021-08-28T09:28:43.905Z"
   },
   {
    "duration": 4,
    "start_time": "2021-08-28T09:28:43.914Z"
   },
   {
    "duration": 7,
    "start_time": "2021-08-28T09:28:43.920Z"
   },
   {
    "duration": 4004,
    "start_time": "2021-08-28T09:28:43.928Z"
   },
   {
    "duration": 3777,
    "start_time": "2021-08-28T09:28:47.933Z"
   },
   {
    "duration": 3803,
    "start_time": "2021-08-28T09:28:51.712Z"
   },
   {
    "duration": 3,
    "start_time": "2021-08-28T09:30:40.455Z"
   },
   {
    "duration": 3,
    "start_time": "2021-08-28T09:30:48.935Z"
   },
   {
    "duration": 3,
    "start_time": "2021-08-28T09:31:00.711Z"
   },
   {
    "duration": 183,
    "start_time": "2021-08-28T09:31:13.264Z"
   },
   {
    "duration": 423,
    "start_time": "2021-08-28T09:31:54.863Z"
   },
   {
    "duration": 216,
    "start_time": "2021-08-28T09:32:06.095Z"
   },
   {
    "duration": 409,
    "start_time": "2021-08-28T09:32:20.383Z"
   },
   {
    "duration": 217,
    "start_time": "2021-08-28T09:32:40.928Z"
   },
   {
    "duration": 213,
    "start_time": "2021-08-28T09:37:31.354Z"
   },
   {
    "duration": 200,
    "start_time": "2021-08-28T09:37:50.243Z"
   },
   {
    "duration": 201,
    "start_time": "2021-08-28T09:38:11.642Z"
   },
   {
    "duration": 192,
    "start_time": "2021-08-28T09:38:42.387Z"
   },
   {
    "duration": 208,
    "start_time": "2021-08-28T09:38:54.043Z"
   },
   {
    "duration": 218,
    "start_time": "2021-08-28T09:38:56.818Z"
   },
   {
    "duration": 189,
    "start_time": "2021-08-28T09:39:04.010Z"
   },
   {
    "duration": 304,
    "start_time": "2021-08-28T09:39:08.442Z"
   },
   {
    "duration": 195,
    "start_time": "2021-08-28T09:39:15.917Z"
   },
   {
    "duration": 214,
    "start_time": "2021-08-28T09:39:33.755Z"
   },
   {
    "duration": 214,
    "start_time": "2021-08-28T09:39:37.813Z"
   },
   {
    "duration": 67,
    "start_time": "2021-08-28T09:45:18.402Z"
   },
   {
    "duration": 66,
    "start_time": "2021-08-28T09:45:26.158Z"
   },
   {
    "duration": 58,
    "start_time": "2021-08-28T09:45:33.461Z"
   },
   {
    "duration": 54,
    "start_time": "2021-08-28T09:45:53.781Z"
   },
   {
    "duration": 4,
    "start_time": "2021-08-28T09:55:32.355Z"
   },
   {
    "duration": 5,
    "start_time": "2021-08-28T09:55:37.628Z"
   },
   {
    "duration": 4004,
    "start_time": "2021-08-28T10:00:20.413Z"
   },
   {
    "duration": 5,
    "start_time": "2021-08-28T10:00:33.653Z"
   },
   {
    "duration": 3794,
    "start_time": "2021-08-28T10:00:38.020Z"
   },
   {
    "duration": 3860,
    "start_time": "2021-08-28T10:00:53.644Z"
   },
   {
    "duration": 3809,
    "start_time": "2021-08-28T10:01:05.357Z"
   },
   {
    "duration": 197,
    "start_time": "2021-08-28T10:01:41.327Z"
   },
   {
    "duration": 189,
    "start_time": "2021-08-28T10:03:27.111Z"
   },
   {
    "duration": 200,
    "start_time": "2021-08-28T10:07:34.591Z"
   },
   {
    "duration": 207,
    "start_time": "2021-08-28T10:07:52.176Z"
   },
   {
    "duration": 261,
    "start_time": "2021-08-28T10:08:07.080Z"
   },
   {
    "duration": 192,
    "start_time": "2021-08-28T10:08:43.640Z"
   },
   {
    "duration": 191,
    "start_time": "2021-08-28T10:09:44.578Z"
   },
   {
    "duration": 5,
    "start_time": "2021-08-28T10:10:56.323Z"
   },
   {
    "duration": 177,
    "start_time": "2021-08-28T10:11:09.521Z"
   },
   {
    "duration": 5,
    "start_time": "2021-08-28T10:11:14.851Z"
   },
   {
    "duration": 191,
    "start_time": "2021-08-28T10:12:15.466Z"
   },
   {
    "duration": 10,
    "start_time": "2021-08-28T10:16:15.475Z"
   },
   {
    "duration": 10,
    "start_time": "2021-08-28T10:16:35.731Z"
   },
   {
    "duration": 9,
    "start_time": "2021-08-28T10:16:42.003Z"
   },
   {
    "duration": 65,
    "start_time": "2021-08-28T10:17:21.772Z"
   },
   {
    "duration": 62,
    "start_time": "2021-08-28T10:18:01.179Z"
   },
   {
    "duration": 11,
    "start_time": "2021-08-28T10:19:34.909Z"
   },
   {
    "duration": 10,
    "start_time": "2021-08-28T10:19:48.356Z"
   },
   {
    "duration": 11,
    "start_time": "2021-08-28T10:19:52.788Z"
   },
   {
    "duration": 9,
    "start_time": "2021-08-28T10:20:21.045Z"
   },
   {
    "duration": 10,
    "start_time": "2021-08-28T10:20:59.724Z"
   },
   {
    "duration": 10,
    "start_time": "2021-08-28T10:21:35.640Z"
   },
   {
    "duration": 10,
    "start_time": "2021-08-28T10:22:22.478Z"
   },
   {
    "duration": 5,
    "start_time": "2021-08-28T10:24:31.697Z"
   },
   {
    "duration": 10,
    "start_time": "2021-08-28T10:24:36.069Z"
   },
   {
    "duration": 11671,
    "start_time": "2021-08-28T10:25:12.808Z"
   },
   {
    "duration": 4520,
    "start_time": "2021-08-28T10:25:35.118Z"
   },
   {
    "duration": 1051,
    "start_time": "2021-08-28T10:25:53.205Z"
   },
   {
    "duration": 357,
    "start_time": "2021-08-28T10:25:54.257Z"
   },
   {
    "duration": 17,
    "start_time": "2021-08-28T10:25:54.616Z"
   },
   {
    "duration": 11,
    "start_time": "2021-08-28T10:25:54.635Z"
   },
   {
    "duration": 36,
    "start_time": "2021-08-28T10:25:54.648Z"
   },
   {
    "duration": 12,
    "start_time": "2021-08-28T10:25:54.686Z"
   },
   {
    "duration": 11,
    "start_time": "2021-08-28T10:25:54.699Z"
   },
   {
    "duration": 10,
    "start_time": "2021-08-28T10:25:54.713Z"
   },
   {
    "duration": 65,
    "start_time": "2021-08-28T10:25:54.725Z"
   },
   {
    "duration": 37,
    "start_time": "2021-08-28T10:25:54.792Z"
   },
   {
    "duration": 34,
    "start_time": "2021-08-28T10:25:54.831Z"
   },
   {
    "duration": 14,
    "start_time": "2021-08-28T10:25:54.885Z"
   },
   {
    "duration": 15,
    "start_time": "2021-08-28T10:25:54.900Z"
   },
   {
    "duration": 15,
    "start_time": "2021-08-28T10:25:54.916Z"
   },
   {
    "duration": 12,
    "start_time": "2021-08-28T10:25:54.932Z"
   },
   {
    "duration": 40,
    "start_time": "2021-08-28T10:25:54.945Z"
   },
   {
    "duration": 316,
    "start_time": "2021-08-28T10:25:54.986Z"
   },
   {
    "duration": 283,
    "start_time": "2021-08-28T10:25:55.304Z"
   },
   {
    "duration": 12,
    "start_time": "2021-08-28T10:25:55.588Z"
   },
   {
    "duration": 293,
    "start_time": "2021-08-28T10:25:55.601Z"
   },
   {
    "duration": 373,
    "start_time": "2021-08-28T10:25:55.896Z"
   },
   {
    "duration": 419,
    "start_time": "2021-08-28T10:25:56.271Z"
   },
   {
    "duration": 367,
    "start_time": "2021-08-28T10:25:56.693Z"
   },
   {
    "duration": 4,
    "start_time": "2021-08-28T10:25:57.063Z"
   },
   {
    "duration": 30,
    "start_time": "2021-08-28T10:25:57.069Z"
   },
   {
    "duration": 4,
    "start_time": "2021-08-28T10:25:57.101Z"
   },
   {
    "duration": 16,
    "start_time": "2021-08-28T10:25:57.107Z"
   },
   {
    "duration": 4,
    "start_time": "2021-08-28T10:25:57.125Z"
   },
   {
    "duration": 16,
    "start_time": "2021-08-28T10:25:57.130Z"
   },
   {
    "duration": 4,
    "start_time": "2021-08-28T10:25:57.147Z"
   },
   {
    "duration": 4,
    "start_time": "2021-08-28T10:25:57.152Z"
   },
   {
    "duration": 21,
    "start_time": "2021-08-28T10:25:57.185Z"
   },
   {
    "duration": 5,
    "start_time": "2021-08-28T10:25:57.207Z"
   },
   {
    "duration": 74,
    "start_time": "2021-08-28T10:25:57.213Z"
   },
   {
    "duration": 108,
    "start_time": "2021-08-28T10:25:57.288Z"
   },
   {
    "duration": 198,
    "start_time": "2021-08-28T10:25:57.486Z"
   },
   {
    "duration": 4,
    "start_time": "2021-08-28T10:25:57.688Z"
   },
   {
    "duration": 95,
    "start_time": "2021-08-28T10:25:57.695Z"
   },
   {
    "duration": 40,
    "start_time": "2021-08-28T10:25:57.792Z"
   },
   {
    "duration": 7,
    "start_time": "2021-08-28T10:25:57.835Z"
   },
   {
    "duration": 4,
    "start_time": "2021-08-28T10:25:57.844Z"
   },
   {
    "duration": 34,
    "start_time": "2021-08-28T10:25:57.850Z"
   },
   {
    "duration": 3753,
    "start_time": "2021-08-28T10:25:57.885Z"
   },
   {
    "duration": 234,
    "start_time": "2021-08-28T10:26:01.640Z"
   },
   {
    "duration": 3755,
    "start_time": "2021-08-28T10:26:01.876Z"
   },
   {
    "duration": 231,
    "start_time": "2021-08-28T10:26:05.632Z"
   },
   {
    "duration": 3732,
    "start_time": "2021-08-28T10:26:05.864Z"
   },
   {
    "duration": 284,
    "start_time": "2021-08-28T10:26:09.598Z"
   },
   {
    "duration": 4512,
    "start_time": "2021-08-28T10:26:09.884Z"
   },
   {
    "duration": 1222,
    "start_time": "2021-08-28T10:29:25.730Z"
   },
   {
    "duration": 7,
    "start_time": "2021-08-28T10:29:52.110Z"
   },
   {
    "duration": 4635,
    "start_time": "2021-08-28T10:30:16.559Z"
   },
   {
    "duration": 5209,
    "start_time": "2021-08-28T10:30:47.055Z"
   },
   {
    "duration": 12,
    "start_time": "2021-08-28T10:31:01.818Z"
   },
   {
    "duration": 10,
    "start_time": "2021-08-28T10:31:25.530Z"
   },
   {
    "duration": 6,
    "start_time": "2021-08-28T10:32:39.361Z"
   },
   {
    "duration": 3723,
    "start_time": "2021-08-28T10:32:50.527Z"
   },
   {
    "duration": 3719,
    "start_time": "2021-08-28T10:33:05.361Z"
   },
   {
    "duration": 3743,
    "start_time": "2021-08-28T10:33:14.872Z"
   },
   {
    "duration": 9,
    "start_time": "2021-08-28T10:33:29.570Z"
   },
   {
    "duration": 10,
    "start_time": "2021-08-28T10:34:04.427Z"
   },
   {
    "duration": 1103,
    "start_time": "2021-08-28T10:35:44.747Z"
   },
   {
    "duration": 361,
    "start_time": "2021-08-28T10:35:45.852Z"
   },
   {
    "duration": 15,
    "start_time": "2021-08-28T10:35:46.215Z"
   },
   {
    "duration": 13,
    "start_time": "2021-08-28T10:35:46.232Z"
   },
   {
    "duration": 12,
    "start_time": "2021-08-28T10:35:46.246Z"
   },
   {
    "duration": 28,
    "start_time": "2021-08-28T10:35:46.260Z"
   },
   {
    "duration": 10,
    "start_time": "2021-08-28T10:35:46.290Z"
   },
   {
    "duration": 10,
    "start_time": "2021-08-28T10:35:46.302Z"
   },
   {
    "duration": 40,
    "start_time": "2021-08-28T10:35:46.314Z"
   },
   {
    "duration": 61,
    "start_time": "2021-08-28T10:35:46.355Z"
   },
   {
    "duration": 34,
    "start_time": "2021-08-28T10:35:46.417Z"
   },
   {
    "duration": 33,
    "start_time": "2021-08-28T10:35:46.453Z"
   },
   {
    "duration": 15,
    "start_time": "2021-08-28T10:35:46.487Z"
   },
   {
    "duration": 14,
    "start_time": "2021-08-28T10:35:46.504Z"
   },
   {
    "duration": 11,
    "start_time": "2021-08-28T10:35:46.519Z"
   },
   {
    "duration": 12,
    "start_time": "2021-08-28T10:35:46.531Z"
   },
   {
    "duration": 345,
    "start_time": "2021-08-28T10:35:46.545Z"
   },
   {
    "duration": 292,
    "start_time": "2021-08-28T10:35:46.892Z"
   },
   {
    "duration": 12,
    "start_time": "2021-08-28T10:35:47.186Z"
   },
   {
    "duration": 291,
    "start_time": "2021-08-28T10:35:47.199Z"
   },
   {
    "duration": 374,
    "start_time": "2021-08-28T10:35:47.492Z"
   },
   {
    "duration": 435,
    "start_time": "2021-08-28T10:35:47.868Z"
   },
   {
    "duration": 379,
    "start_time": "2021-08-28T10:35:48.308Z"
   },
   {
    "duration": 3,
    "start_time": "2021-08-28T10:35:48.689Z"
   },
   {
    "duration": 19,
    "start_time": "2021-08-28T10:35:48.694Z"
   },
   {
    "duration": 4,
    "start_time": "2021-08-28T10:35:48.714Z"
   },
   {
    "duration": 15,
    "start_time": "2021-08-28T10:35:48.720Z"
   },
   {
    "duration": 3,
    "start_time": "2021-08-28T10:35:48.737Z"
   },
   {
    "duration": 44,
    "start_time": "2021-08-28T10:35:48.742Z"
   },
   {
    "duration": 3,
    "start_time": "2021-08-28T10:35:48.788Z"
   },
   {
    "duration": 4,
    "start_time": "2021-08-28T10:35:48.793Z"
   },
   {
    "duration": 24,
    "start_time": "2021-08-28T10:35:48.799Z"
   },
   {
    "duration": 4,
    "start_time": "2021-08-28T10:35:48.825Z"
   },
   {
    "duration": 62,
    "start_time": "2021-08-28T10:35:48.830Z"
   },
   {
    "duration": 202,
    "start_time": "2021-08-28T10:35:48.894Z"
   },
   {
    "duration": 206,
    "start_time": "2021-08-28T10:35:49.186Z"
   },
   {
    "duration": 95,
    "start_time": "2021-08-28T10:35:49.396Z"
   },
   {
    "duration": 99,
    "start_time": "2021-08-28T10:35:49.494Z"
   },
   {
    "duration": 44,
    "start_time": "2021-08-28T10:35:49.594Z"
   },
   {
    "duration": 7,
    "start_time": "2021-08-28T10:35:49.639Z"
   },
   {
    "duration": 5,
    "start_time": "2021-08-28T10:35:49.647Z"
   },
   {
    "duration": 7,
    "start_time": "2021-08-28T10:35:49.653Z"
   },
   {
    "duration": 3855,
    "start_time": "2021-08-28T10:35:49.662Z"
   },
   {
    "duration": 221,
    "start_time": "2021-08-28T10:35:53.518Z"
   },
   {
    "duration": 3813,
    "start_time": "2021-08-28T10:35:53.741Z"
   },
   {
    "duration": 229,
    "start_time": "2021-08-28T10:35:57.556Z"
   },
   {
    "duration": 3810,
    "start_time": "2021-08-28T10:35:57.786Z"
   },
   {
    "duration": 290,
    "start_time": "2021-08-28T10:36:01.598Z"
   },
   {
    "duration": 9,
    "start_time": "2021-08-28T10:36:01.889Z"
   }
  ],
  "kernelspec": {
   "display_name": "Python 3 (ipykernel)",
   "language": "python",
   "name": "python3"
  },
  "language_info": {
   "codemirror_mode": {
    "name": "ipython",
    "version": 3
   },
   "file_extension": ".py",
   "mimetype": "text/x-python",
   "name": "python",
   "nbconvert_exporter": "python",
   "pygments_lexer": "ipython3",
   "version": "3.9.5"
  },
  "toc": {
   "base_numbering": 1,
   "nav_menu": {},
   "number_sections": true,
   "sideBar": true,
   "skip_h1_title": true,
   "title_cell": "Table of Contents",
   "title_sidebar": "Contents",
   "toc_cell": false,
   "toc_position": {},
   "toc_section_display": true,
   "toc_window_display": false
  }
 },
 "nbformat": 4,
 "nbformat_minor": 2
}
